{
 "cells": [
  {
   "cell_type": "markdown",
   "source": [
    "# Introduction"
   ],
   "metadata": {
    "collapsed": false,
    "pycharm": {
     "name": "#%% md\n"
    }
   }
  },
  {
   "cell_type": "markdown",
   "source": [
    "# Setup\n",
    "Let us import the required modules."
   ],
   "metadata": {
    "collapsed": false,
    "pycharm": {
     "name": "#%% md\n"
    }
   }
  },
  {
   "cell_type": "code",
   "execution_count": 1,
   "outputs": [],
   "source": [
    "import pandas as pd\n",
    "import seaborn as sns\n",
    "import os\n",
    "import joblib\n",
    "\n",
    "import src.data_split as ds\n",
    "import src.evaluation as eva\n",
    "\n",
    "from sklearn.model_selection import GridSearchCV\n",
    "from sklearn.svm import SVC\n",
    "from sklearn.metrics import accuracy_score"
   ],
   "metadata": {
    "collapsed": false,
    "pycharm": {
     "name": "#%%\n"
    }
   }
  },
  {
   "cell_type": "markdown",
   "source": [
    "## Load Data\n",
    "Note that the dataset is already split into Train-Test sets."
   ],
   "metadata": {
    "collapsed": false,
    "pycharm": {
     "name": "#%% md\n"
    }
   }
  },
  {
   "cell_type": "code",
   "execution_count": null,
   "outputs": [],
   "source": [
    "data_split = ds.TrainTestSplit.from_csv_directory(dir_path=\"../data\")"
   ],
   "metadata": {
    "collapsed": false,
    "pycharm": {
     "name": "#%%\n",
     "is_executing": true
    }
   }
  },
  {
   "cell_type": "code",
   "execution_count": null,
   "outputs": [],
   "source": [
    "data_split.x_train.info()"
   ],
   "metadata": {
    "collapsed": false,
    "pycharm": {
     "name": "#%%\n",
     "is_executing": true
    }
   }
  },
  {
   "cell_type": "code",
   "execution_count": null,
   "outputs": [],
   "source": [
    "data_split.y_train.shape"
   ],
   "metadata": {
    "collapsed": false,
    "pycharm": {
     "name": "#%%\n",
     "is_executing": true
    }
   }
  },
  {
   "cell_type": "markdown",
   "source": [
    "# Support Vector Machine Classifier Model\n",
    "## SVM  using  RBF kernels;\n"
   ],
   "metadata": {
    "collapsed": false,
    "pycharm": {
     "name": "#%% md\n"
    }
   }
  },
  {
   "cell_type": "code",
   "execution_count": null,
   "outputs": [],
   "source": [
    "clf = SVC()\n",
    "clf.fit(data_split.x_train, data_split.y_train)"
   ],
   "metadata": {
    "collapsed": false,
    "pycharm": {
     "name": "#%%\n",
     "is_executing": true
    }
   }
  },
  {
   "cell_type": "code",
   "execution_count": null,
   "outputs": [],
   "source": [
    "rf_train_pred = clf.predict(data_split.x_train)\n",
    "rf_test_pred = clf.predict(data_split.x_test)\n",
    "\n",
    "rf_train_eval = eva.Evaluation(y_real=data_split.y_train, y_pred=rf_train_pred)\n",
    "rf_test_eval = eva.Evaluation(y_real=data_split.y_test, y_pred=rf_test_pred)"
   ],
   "metadata": {
    "collapsed": false,
    "pycharm": {
     "name": "#%%\n",
     "is_executing": true
    }
   }
  },
  {
   "cell_type": "code",
   "execution_count": null,
   "outputs": [],
   "source": [
    "print(\"Training:\")\n",
    "rf_train_eval.print_eval()\n",
    "print(\"Testing:\")\n",
    "rf_test_eval.print_eval()"
   ],
   "metadata": {
    "collapsed": false,
    "pycharm": {
     "name": "#%%\n",
     "is_executing": true
    }
   }
  },
  {
   "cell_type": "code",
   "execution_count": null,
   "outputs": [],
   "source": [],
   "metadata": {
    "collapsed": false,
    "pycharm": {
     "name": "#%%\n",
     "is_executing": true
    }
   }
  },
  {
   "cell_type": "code",
   "execution_count": null,
   "outputs": [],
   "source": [
    "import time\n",
    "\n",
    "# automatic parameters tuning\n",
    "svcclsf_rbf=SVC(random_state=28)\n",
    "properties={\n",
    "    \"n_estimators\": [x for x in range(50,201,50)],\n",
    "    \"min_samples_leaf\": [x for x in range(50,201,50)],\n",
    "    \"max_leaf_nodes\": [x for x in range(75,176,25)]\n",
    "}\n",
    "\n",
    "start_time = time.time()\n",
    "tuned_svcclsf_rbf=GridSearchCV(svcclsf_rbf,properties,scoring=\"accuracy\",cv=10,return_train_score=True,verbose=6,n_jobs=4)\n",
    "tuned_svcclsf_rbf.fit(data_split.x_train,data_split.y_train)\n",
    "print(\"--- %s seconds ---\" % (time.time() - start_time))\n",
    "\n",
    "print (\"Best Score: {:.3f}\".format(tuned_svcclsf_rbf.best_score_) )\n",
    "print (\"Best Params: \", tuned_svcclsf_rbf.best_params_)"
   ],
   "metadata": {
    "collapsed": false,
    "pycharm": {
     "name": "#%%\n",
     "is_executing": true
    }
   }
  },
  {
   "cell_type": "code",
   "execution_count": null,
   "outputs": [],
   "source": [
    "# save results\n",
    "if not os.path.exists('../tuned_models'):\n",
    "    os.mkdir('../tuned_models')\n",
    "joblib.dump(tuned_svcclsf_rbf, '../tuned_models/svc_rbf_tuning_results.pkl')"
   ],
   "metadata": {
    "collapsed": false,
    "pycharm": {
     "name": "#%%\n",
     "is_executing": true
    }
   }
  },
  {
   "cell_type": "code",
   "execution_count": null,
   "outputs": [],
   "source": [
    "# to load previously saved results\n",
    "tuned_svcclsf_rbf = joblib.load(\"../tuned_models/svc_rbf_tuning_results.pkl\")"
   ],
   "metadata": {
    "collapsed": false,
    "pycharm": {
     "name": "#%%\n",
     "is_executing": true
    }
   }
  },
  {
   "cell_type": "code",
   "execution_count": null,
   "outputs": [],
   "source": [
    "print(tuned_svcclsf_rbf.cv_results_)\n",
    "tuned_svcclsf_rbf_results = pd.DataFrame( tuned_svcclsf_rbf.cv_results_ )"
   ],
   "metadata": {
    "collapsed": false,
    "pycharm": {
     "name": "#%%\n",
     "is_executing": true
    }
   }
  },
  {
   "cell_type": "code",
   "execution_count": null,
   "outputs": [],
   "source": [
    "tuned_svcclsf_rbf_results[[\"param_n_estimators\",\"mean_test_score\",\"mean_train_score\"]]"
   ],
   "metadata": {
    "collapsed": false,
    "pycharm": {
     "name": "#%%\n",
     "is_executing": true
    }
   }
  },
  {
   "cell_type": "code",
   "execution_count": null,
   "outputs": [],
   "source": [
    "sns.set(rc={\"figure.figsize\":(12, 8)})\n",
    "sns.lineplot(data=tuned_svcclsf_rbf_results, x=\"param_n_estimators\", y=\"mean_test_score\")"
   ],
   "metadata": {
    "collapsed": false,
    "pycharm": {
     "name": "#%%\n",
     "is_executing": true
    }
   }
  },
  {
   "cell_type": "code",
   "execution_count": null,
   "outputs": [],
   "source": [
    "print(tuned_svcclsf_rbf.best_estimator_)\n",
    "print(tuned_svcclsf_rbf.best_score_)"
   ],
   "metadata": {
    "collapsed": false,
    "pycharm": {
     "name": "#%%\n",
     "is_executing": true
    }
   }
  },
  {
   "cell_type": "code",
   "execution_count": null,
   "outputs": [],
   "source": [
    "test_acc = accuracy_score(y_true = data_split.y_train,\n",
    "                          y_pred = tuned_svcclsf_rbf.predict(data_split.x_train) )\n",
    "print (\"Train Accuracy: {}\".format(test_acc) )"
   ],
   "metadata": {
    "collapsed": false,
    "pycharm": {
     "name": "#%%\n",
     "is_executing": true
    }
   }
  },
  {
   "cell_type": "code",
   "execution_count": null,
   "outputs": [],
   "source": [
    "# best parameters from automatic parameters tuning\n",
    "svc_rbf_clsf = SVC(**tuned_svcclsf_rbf.best_params_)\n",
    "# svc_rbf_clsf = SVC(max_leaf_nodes=100, min_samples_leaf=75, n_estimators=200, random_state=28)\n",
    "\n",
    "svc_rbf_clsf.fit(data_split.x_train, data_split.y_train)"
   ],
   "metadata": {
    "collapsed": false,
    "pycharm": {
     "name": "#%%\n",
     "is_executing": true
    }
   }
  },
  {
   "cell_type": "code",
   "execution_count": null,
   "outputs": [],
   "source": [
    "svc_rbf_train_pred = svc_rbf_clsf.predict(data_split.x_train)\n",
    "svc_rbf_test_pred = svc_rbf_clsf.predict(data_split.x_test)\n",
    "\n",
    "svc_rbf_train_eval = eva.Evaluation(y_real=data_split.y_train, y_pred=rf_train_pred)\n",
    "svc_rbf_test_eval = eva.Evaluation(y_real=data_split.y_test, y_pred=rf_test_pred)"
   ],
   "metadata": {
    "collapsed": false,
    "pycharm": {
     "name": "#%%\n",
     "is_executing": true
    }
   }
  },
  {
   "cell_type": "code",
   "execution_count": null,
   "outputs": [],
   "source": [
    "print(\"Training:\")\n",
    "svc_rbf_train_eval.print_eval()\n",
    "print(\"Testing:\")\n",
    "svc_rbf_test_eval.print_eval()"
   ],
   "metadata": {
    "collapsed": false,
    "pycharm": {
     "name": "#%%\n",
     "is_executing": true
    }
   }
  },
  {
   "cell_type": "code",
   "execution_count": null,
   "outputs": [],
   "source": [
    "# rf_model = eva.EvaluatedModel(forest_clsf, train_eval=svc_rbf_train_eval, test_eval=rf_test_eval)"
   ],
   "metadata": {
    "collapsed": false,
    "pycharm": {
     "name": "#%%\n",
     "is_executing": true
    }
   }
  },
  {
   "cell_type": "markdown",
   "source": [
    "accuracy is not a great measure of classifier performance when the classes are imbalanced\n",
    "but as we can see from the plots, the classes are more or less balanced"
   ],
   "metadata": {
    "collapsed": false,
    "pycharm": {
     "name": "#%% md\n"
    }
   }
  },
  {
   "cell_type": "markdown",
   "source": [
    "# Performance Visualization"
   ],
   "metadata": {
    "collapsed": false,
    "pycharm": {
     "name": "#%% md\n"
    }
   }
  },
  {
   "cell_type": "markdown",
   "source": [
    "### Setup"
   ],
   "metadata": {
    "collapsed": false,
    "pycharm": {
     "name": "#%% md\n"
    }
   }
  }
 ],
 "metadata": {
  "kernelspec": {
   "display_name": "Python 3",
   "language": "python",
   "name": "python3"
  },
  "language_info": {
   "codemirror_mode": {
    "name": "ipython",
    "version": 2
   },
   "file_extension": ".py",
   "mimetype": "text/x-python",
   "name": "python",
   "nbconvert_exporter": "python",
   "pygments_lexer": "ipython2",
   "version": "2.7.6"
  }
 },
 "nbformat": 4,
 "nbformat_minor": 0
}