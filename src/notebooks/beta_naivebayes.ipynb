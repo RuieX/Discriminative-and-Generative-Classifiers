{
 "cells": [
  {
   "cell_type": "markdown",
   "source": [
    "# Naive Bayes classifier"
   ],
   "metadata": {
    "collapsed": false,
    "pycharm": {
     "name": "#%% md\n"
    }
   }
  },
  {
   "cell_type": "markdown",
   "source": [
    "Naive Bayes classifier where each pixel is distributed according to a Beta distribution of parameters α, β:\n",
    "$d(x ; \\alpha, \\beta) = \\frac{\\Gamma(\\alpha + \\beta)}{\\Gamma(\\alpha)\\Gamma(\\beta)} x^{\\alpha - 1} (1-x)^{\\beta - 1}$"
   ],
   "metadata": {
    "collapsed": false,
    "pycharm": {
     "name": "#%% md\n"
    }
   }
  },
  {
   "cell_type": "markdown",
   "source": [
    "P.S. For a discussion about maximum likelihood for the parameters of a beta distribution you can look here. However, for this assignment the estimators obtained with he moments approach will be fine:\n",
    "\n",
    "$$\n",
    "\\begin{aligned}\n",
    "    & \\alpha = KE[X] \\\\\n",
    "    & \\beta = K(1 - E[X]) \\\\\n",
    "    & K = \\frac{\n",
    "        E[X](1 - E[X])\n",
    "    }{\n",
    "        Var[X]\n",
    "    } - 1\n",
    "\\end{aligned}\n",
    "$$\n",
    "\n",
    "Note:\n",
    "$α/(α+β)$ is the mean of the beta distribution.\n",
    "if you compute the mean for each of the 784 models and reshape them into 28x28 images you can have a visual indication of what the model is learning."
   ],
   "metadata": {
    "collapsed": false,
    "pycharm": {
     "name": "#%% md\n"
    }
   }
  },
  {
   "cell_type": "markdown",
   "source": [
    "# Setup\n",
    "Let us import the required modules."
   ],
   "metadata": {
    "collapsed": false,
    "pycharm": {
     "name": "#%% md\n"
    }
   }
  },
  {
   "cell_type": "code",
   "execution_count": 1,
   "outputs": [],
   "source": [
    "import time\n",
    "\n",
    "from loguru import logger\n",
    "from src.classifiers.naivebayes import Beta_NB\n",
    "import src.utilities.data_split as ds\n",
    "import src.utilities.evaluation as eva"
   ],
   "metadata": {
    "collapsed": false,
    "pycharm": {
     "name": "#%%\n"
    }
   }
  },
  {
   "cell_type": "markdown",
   "source": [
    "## Load Data\n",
    "Note that the dataset is already split into Train-Test sets."
   ],
   "metadata": {
    "collapsed": false,
    "pycharm": {
     "name": "#%% md\n"
    }
   }
  },
  {
   "cell_type": "code",
   "execution_count": 2,
   "outputs": [],
   "source": [
    "data_split = ds.TrainTestSplit.from_csv_directory(dir_path=\"../data\")"
   ],
   "metadata": {
    "collapsed": false,
    "pycharm": {
     "name": "#%%\n"
    }
   }
  },
  {
   "cell_type": "code",
   "execution_count": 3,
   "outputs": [
    {
     "name": "stdout",
     "output_type": "stream",
     "text": [
      "<class 'pandas.core.frame.DataFrame'>\n",
      "RangeIndex: 60000 entries, 0 to 59999\n",
      "Columns: 784 entries, pixel1 to pixel784\n",
      "dtypes: float64(784)\n",
      "memory usage: 358.9 MB\n"
     ]
    }
   ],
   "source": [
    "data_split.x_train.info()"
   ],
   "metadata": {
    "collapsed": false,
    "pycharm": {
     "name": "#%%\n"
    }
   }
  },
  {
   "cell_type": "code",
   "execution_count": 4,
   "outputs": [
    {
     "data": {
      "text/plain": "(60000,)"
     },
     "execution_count": 4,
     "metadata": {},
     "output_type": "execute_result"
    }
   ],
   "source": [
    "data_split.y_train.shape"
   ],
   "metadata": {
    "collapsed": false,
    "pycharm": {
     "name": "#%%\n"
    }
   }
  },
  {
   "cell_type": "code",
   "execution_count": 13,
   "outputs": [],
   "source": [
    "x_data_small, y_data_small = ds.get_train_subset(x_train=data_split.x_train, y_train=data_split.y_train, size=1000)"
   ],
   "metadata": {
    "collapsed": false,
    "pycharm": {
     "name": "#%%\n"
    }
   }
  },
  {
   "cell_type": "code",
   "execution_count": 14,
   "outputs": [
    {
     "name": "stdout",
     "output_type": "stream",
     "text": [
      "<class 'pandas.core.frame.DataFrame'>\n",
      "Int64Index: 1000 entries, 13130 to 15606\n",
      "Data columns (total 784 columns):\n",
      " #    Column    Dtype  \n",
      "---   ------    -----  \n",
      " 0    pixel1    float64\n",
      " 1    pixel2    float64\n",
      " 2    pixel3    float64\n",
      " 3    pixel4    float64\n",
      " 4    pixel5    float64\n",
      " 5    pixel6    float64\n",
      " 6    pixel7    float64\n",
      " 7    pixel8    float64\n",
      " 8    pixel9    float64\n",
      " 9    pixel10   float64\n",
      " 10   pixel11   float64\n",
      " 11   pixel12   float64\n",
      " 12   pixel13   float64\n",
      " 13   pixel14   float64\n",
      " 14   pixel15   float64\n",
      " 15   pixel16   float64\n",
      " 16   pixel17   float64\n",
      " 17   pixel18   float64\n",
      " 18   pixel19   float64\n",
      " 19   pixel20   float64\n",
      " 20   pixel21   float64\n",
      " 21   pixel22   float64\n",
      " 22   pixel23   float64\n",
      " 23   pixel24   float64\n",
      " 24   pixel25   float64\n",
      " 25   pixel26   float64\n",
      " 26   pixel27   float64\n",
      " 27   pixel28   float64\n",
      " 28   pixel29   float64\n",
      " 29   pixel30   float64\n",
      " 30   pixel31   float64\n",
      " 31   pixel32   float64\n",
      " 32   pixel33   float64\n",
      " 33   pixel34   float64\n",
      " 34   pixel35   float64\n",
      " 35   pixel36   float64\n",
      " 36   pixel37   float64\n",
      " 37   pixel38   float64\n",
      " 38   pixel39   float64\n",
      " 39   pixel40   float64\n",
      " 40   pixel41   float64\n",
      " 41   pixel42   float64\n",
      " 42   pixel43   float64\n",
      " 43   pixel44   float64\n",
      " 44   pixel45   float64\n",
      " 45   pixel46   float64\n",
      " 46   pixel47   float64\n",
      " 47   pixel48   float64\n",
      " 48   pixel49   float64\n",
      " 49   pixel50   float64\n",
      " 50   pixel51   float64\n",
      " 51   pixel52   float64\n",
      " 52   pixel53   float64\n",
      " 53   pixel54   float64\n",
      " 54   pixel55   float64\n",
      " 55   pixel56   float64\n",
      " 56   pixel57   float64\n",
      " 57   pixel58   float64\n",
      " 58   pixel59   float64\n",
      " 59   pixel60   float64\n",
      " 60   pixel61   float64\n",
      " 61   pixel62   float64\n",
      " 62   pixel63   float64\n",
      " 63   pixel64   float64\n",
      " 64   pixel65   float64\n",
      " 65   pixel66   float64\n",
      " 66   pixel67   float64\n",
      " 67   pixel68   float64\n",
      " 68   pixel69   float64\n",
      " 69   pixel70   float64\n",
      " 70   pixel71   float64\n",
      " 71   pixel72   float64\n",
      " 72   pixel73   float64\n",
      " 73   pixel74   float64\n",
      " 74   pixel75   float64\n",
      " 75   pixel76   float64\n",
      " 76   pixel77   float64\n",
      " 77   pixel78   float64\n",
      " 78   pixel79   float64\n",
      " 79   pixel80   float64\n",
      " 80   pixel81   float64\n",
      " 81   pixel82   float64\n",
      " 82   pixel83   float64\n",
      " 83   pixel84   float64\n",
      " 84   pixel85   float64\n",
      " 85   pixel86   float64\n",
      " 86   pixel87   float64\n",
      " 87   pixel88   float64\n",
      " 88   pixel89   float64\n",
      " 89   pixel90   float64\n",
      " 90   pixel91   float64\n",
      " 91   pixel92   float64\n",
      " 92   pixel93   float64\n",
      " 93   pixel94   float64\n",
      " 94   pixel95   float64\n",
      " 95   pixel96   float64\n",
      " 96   pixel97   float64\n",
      " 97   pixel98   float64\n",
      " 98   pixel99   float64\n",
      " 99   pixel100  float64\n",
      " 100  pixel101  float64\n",
      " 101  pixel102  float64\n",
      " 102  pixel103  float64\n",
      " 103  pixel104  float64\n",
      " 104  pixel105  float64\n",
      " 105  pixel106  float64\n",
      " 106  pixel107  float64\n",
      " 107  pixel108  float64\n",
      " 108  pixel109  float64\n",
      " 109  pixel110  float64\n",
      " 110  pixel111  float64\n",
      " 111  pixel112  float64\n",
      " 112  pixel113  float64\n",
      " 113  pixel114  float64\n",
      " 114  pixel115  float64\n",
      " 115  pixel116  float64\n",
      " 116  pixel117  float64\n",
      " 117  pixel118  float64\n",
      " 118  pixel119  float64\n",
      " 119  pixel120  float64\n",
      " 120  pixel121  float64\n",
      " 121  pixel122  float64\n",
      " 122  pixel123  float64\n",
      " 123  pixel124  float64\n",
      " 124  pixel125  float64\n",
      " 125  pixel126  float64\n",
      " 126  pixel127  float64\n",
      " 127  pixel128  float64\n",
      " 128  pixel129  float64\n",
      " 129  pixel130  float64\n",
      " 130  pixel131  float64\n",
      " 131  pixel132  float64\n",
      " 132  pixel133  float64\n",
      " 133  pixel134  float64\n",
      " 134  pixel135  float64\n",
      " 135  pixel136  float64\n",
      " 136  pixel137  float64\n",
      " 137  pixel138  float64\n",
      " 138  pixel139  float64\n",
      " 139  pixel140  float64\n",
      " 140  pixel141  float64\n",
      " 141  pixel142  float64\n",
      " 142  pixel143  float64\n",
      " 143  pixel144  float64\n",
      " 144  pixel145  float64\n",
      " 145  pixel146  float64\n",
      " 146  pixel147  float64\n",
      " 147  pixel148  float64\n",
      " 148  pixel149  float64\n",
      " 149  pixel150  float64\n",
      " 150  pixel151  float64\n",
      " 151  pixel152  float64\n",
      " 152  pixel153  float64\n",
      " 153  pixel154  float64\n",
      " 154  pixel155  float64\n",
      " 155  pixel156  float64\n",
      " 156  pixel157  float64\n",
      " 157  pixel158  float64\n",
      " 158  pixel159  float64\n",
      " 159  pixel160  float64\n",
      " 160  pixel161  float64\n",
      " 161  pixel162  float64\n",
      " 162  pixel163  float64\n",
      " 163  pixel164  float64\n",
      " 164  pixel165  float64\n",
      " 165  pixel166  float64\n",
      " 166  pixel167  float64\n",
      " 167  pixel168  float64\n",
      " 168  pixel169  float64\n",
      " 169  pixel170  float64\n",
      " 170  pixel171  float64\n",
      " 171  pixel172  float64\n",
      " 172  pixel173  float64\n",
      " 173  pixel174  float64\n",
      " 174  pixel175  float64\n",
      " 175  pixel176  float64\n",
      " 176  pixel177  float64\n",
      " 177  pixel178  float64\n",
      " 178  pixel179  float64\n",
      " 179  pixel180  float64\n",
      " 180  pixel181  float64\n",
      " 181  pixel182  float64\n",
      " 182  pixel183  float64\n",
      " 183  pixel184  float64\n",
      " 184  pixel185  float64\n",
      " 185  pixel186  float64\n",
      " 186  pixel187  float64\n",
      " 187  pixel188  float64\n",
      " 188  pixel189  float64\n",
      " 189  pixel190  float64\n",
      " 190  pixel191  float64\n",
      " 191  pixel192  float64\n",
      " 192  pixel193  float64\n",
      " 193  pixel194  float64\n",
      " 194  pixel195  float64\n",
      " 195  pixel196  float64\n",
      " 196  pixel197  float64\n",
      " 197  pixel198  float64\n",
      " 198  pixel199  float64\n",
      " 199  pixel200  float64\n",
      " 200  pixel201  float64\n",
      " 201  pixel202  float64\n",
      " 202  pixel203  float64\n",
      " 203  pixel204  float64\n",
      " 204  pixel205  float64\n",
      " 205  pixel206  float64\n",
      " 206  pixel207  float64\n",
      " 207  pixel208  float64\n",
      " 208  pixel209  float64\n",
      " 209  pixel210  float64\n",
      " 210  pixel211  float64\n",
      " 211  pixel212  float64\n",
      " 212  pixel213  float64\n",
      " 213  pixel214  float64\n",
      " 214  pixel215  float64\n",
      " 215  pixel216  float64\n",
      " 216  pixel217  float64\n",
      " 217  pixel218  float64\n",
      " 218  pixel219  float64\n",
      " 219  pixel220  float64\n",
      " 220  pixel221  float64\n",
      " 221  pixel222  float64\n",
      " 222  pixel223  float64\n",
      " 223  pixel224  float64\n",
      " 224  pixel225  float64\n",
      " 225  pixel226  float64\n",
      " 226  pixel227  float64\n",
      " 227  pixel228  float64\n",
      " 228  pixel229  float64\n",
      " 229  pixel230  float64\n",
      " 230  pixel231  float64\n",
      " 231  pixel232  float64\n",
      " 232  pixel233  float64\n",
      " 233  pixel234  float64\n",
      " 234  pixel235  float64\n",
      " 235  pixel236  float64\n",
      " 236  pixel237  float64\n",
      " 237  pixel238  float64\n",
      " 238  pixel239  float64\n",
      " 239  pixel240  float64\n",
      " 240  pixel241  float64\n",
      " 241  pixel242  float64\n",
      " 242  pixel243  float64\n",
      " 243  pixel244  float64\n",
      " 244  pixel245  float64\n",
      " 245  pixel246  float64\n",
      " 246  pixel247  float64\n",
      " 247  pixel248  float64\n",
      " 248  pixel249  float64\n",
      " 249  pixel250  float64\n",
      " 250  pixel251  float64\n",
      " 251  pixel252  float64\n",
      " 252  pixel253  float64\n",
      " 253  pixel254  float64\n",
      " 254  pixel255  float64\n",
      " 255  pixel256  float64\n",
      " 256  pixel257  float64\n",
      " 257  pixel258  float64\n",
      " 258  pixel259  float64\n",
      " 259  pixel260  float64\n",
      " 260  pixel261  float64\n",
      " 261  pixel262  float64\n",
      " 262  pixel263  float64\n",
      " 263  pixel264  float64\n",
      " 264  pixel265  float64\n",
      " 265  pixel266  float64\n",
      " 266  pixel267  float64\n",
      " 267  pixel268  float64\n",
      " 268  pixel269  float64\n",
      " 269  pixel270  float64\n",
      " 270  pixel271  float64\n",
      " 271  pixel272  float64\n",
      " 272  pixel273  float64\n",
      " 273  pixel274  float64\n",
      " 274  pixel275  float64\n",
      " 275  pixel276  float64\n",
      " 276  pixel277  float64\n",
      " 277  pixel278  float64\n",
      " 278  pixel279  float64\n",
      " 279  pixel280  float64\n",
      " 280  pixel281  float64\n",
      " 281  pixel282  float64\n",
      " 282  pixel283  float64\n",
      " 283  pixel284  float64\n",
      " 284  pixel285  float64\n",
      " 285  pixel286  float64\n",
      " 286  pixel287  float64\n",
      " 287  pixel288  float64\n",
      " 288  pixel289  float64\n",
      " 289  pixel290  float64\n",
      " 290  pixel291  float64\n",
      " 291  pixel292  float64\n",
      " 292  pixel293  float64\n",
      " 293  pixel294  float64\n",
      " 294  pixel295  float64\n",
      " 295  pixel296  float64\n",
      " 296  pixel297  float64\n",
      " 297  pixel298  float64\n",
      " 298  pixel299  float64\n",
      " 299  pixel300  float64\n",
      " 300  pixel301  float64\n",
      " 301  pixel302  float64\n",
      " 302  pixel303  float64\n",
      " 303  pixel304  float64\n",
      " 304  pixel305  float64\n",
      " 305  pixel306  float64\n",
      " 306  pixel307  float64\n",
      " 307  pixel308  float64\n",
      " 308  pixel309  float64\n",
      " 309  pixel310  float64\n",
      " 310  pixel311  float64\n",
      " 311  pixel312  float64\n",
      " 312  pixel313  float64\n",
      " 313  pixel314  float64\n",
      " 314  pixel315  float64\n",
      " 315  pixel316  float64\n",
      " 316  pixel317  float64\n",
      " 317  pixel318  float64\n",
      " 318  pixel319  float64\n",
      " 319  pixel320  float64\n",
      " 320  pixel321  float64\n",
      " 321  pixel322  float64\n",
      " 322  pixel323  float64\n",
      " 323  pixel324  float64\n",
      " 324  pixel325  float64\n",
      " 325  pixel326  float64\n",
      " 326  pixel327  float64\n",
      " 327  pixel328  float64\n",
      " 328  pixel329  float64\n",
      " 329  pixel330  float64\n",
      " 330  pixel331  float64\n",
      " 331  pixel332  float64\n",
      " 332  pixel333  float64\n",
      " 333  pixel334  float64\n",
      " 334  pixel335  float64\n",
      " 335  pixel336  float64\n",
      " 336  pixel337  float64\n",
      " 337  pixel338  float64\n",
      " 338  pixel339  float64\n",
      " 339  pixel340  float64\n",
      " 340  pixel341  float64\n",
      " 341  pixel342  float64\n",
      " 342  pixel343  float64\n",
      " 343  pixel344  float64\n",
      " 344  pixel345  float64\n",
      " 345  pixel346  float64\n",
      " 346  pixel347  float64\n",
      " 347  pixel348  float64\n",
      " 348  pixel349  float64\n",
      " 349  pixel350  float64\n",
      " 350  pixel351  float64\n",
      " 351  pixel352  float64\n",
      " 352  pixel353  float64\n",
      " 353  pixel354  float64\n",
      " 354  pixel355  float64\n",
      " 355  pixel356  float64\n",
      " 356  pixel357  float64\n",
      " 357  pixel358  float64\n",
      " 358  pixel359  float64\n",
      " 359  pixel360  float64\n",
      " 360  pixel361  float64\n",
      " 361  pixel362  float64\n",
      " 362  pixel363  float64\n",
      " 363  pixel364  float64\n",
      " 364  pixel365  float64\n",
      " 365  pixel366  float64\n",
      " 366  pixel367  float64\n",
      " 367  pixel368  float64\n",
      " 368  pixel369  float64\n",
      " 369  pixel370  float64\n",
      " 370  pixel371  float64\n",
      " 371  pixel372  float64\n",
      " 372  pixel373  float64\n",
      " 373  pixel374  float64\n",
      " 374  pixel375  float64\n",
      " 375  pixel376  float64\n",
      " 376  pixel377  float64\n",
      " 377  pixel378  float64\n",
      " 378  pixel379  float64\n",
      " 379  pixel380  float64\n",
      " 380  pixel381  float64\n",
      " 381  pixel382  float64\n",
      " 382  pixel383  float64\n",
      " 383  pixel384  float64\n",
      " 384  pixel385  float64\n",
      " 385  pixel386  float64\n",
      " 386  pixel387  float64\n",
      " 387  pixel388  float64\n",
      " 388  pixel389  float64\n",
      " 389  pixel390  float64\n",
      " 390  pixel391  float64\n",
      " 391  pixel392  float64\n",
      " 392  pixel393  float64\n",
      " 393  pixel394  float64\n",
      " 394  pixel395  float64\n",
      " 395  pixel396  float64\n",
      " 396  pixel397  float64\n",
      " 397  pixel398  float64\n",
      " 398  pixel399  float64\n",
      " 399  pixel400  float64\n",
      " 400  pixel401  float64\n",
      " 401  pixel402  float64\n",
      " 402  pixel403  float64\n",
      " 403  pixel404  float64\n",
      " 404  pixel405  float64\n",
      " 405  pixel406  float64\n",
      " 406  pixel407  float64\n",
      " 407  pixel408  float64\n",
      " 408  pixel409  float64\n",
      " 409  pixel410  float64\n",
      " 410  pixel411  float64\n",
      " 411  pixel412  float64\n",
      " 412  pixel413  float64\n",
      " 413  pixel414  float64\n",
      " 414  pixel415  float64\n",
      " 415  pixel416  float64\n",
      " 416  pixel417  float64\n",
      " 417  pixel418  float64\n",
      " 418  pixel419  float64\n",
      " 419  pixel420  float64\n",
      " 420  pixel421  float64\n",
      " 421  pixel422  float64\n",
      " 422  pixel423  float64\n",
      " 423  pixel424  float64\n",
      " 424  pixel425  float64\n",
      " 425  pixel426  float64\n",
      " 426  pixel427  float64\n",
      " 427  pixel428  float64\n",
      " 428  pixel429  float64\n",
      " 429  pixel430  float64\n",
      " 430  pixel431  float64\n",
      " 431  pixel432  float64\n",
      " 432  pixel433  float64\n",
      " 433  pixel434  float64\n",
      " 434  pixel435  float64\n",
      " 435  pixel436  float64\n",
      " 436  pixel437  float64\n",
      " 437  pixel438  float64\n",
      " 438  pixel439  float64\n",
      " 439  pixel440  float64\n",
      " 440  pixel441  float64\n",
      " 441  pixel442  float64\n",
      " 442  pixel443  float64\n",
      " 443  pixel444  float64\n",
      " 444  pixel445  float64\n",
      " 445  pixel446  float64\n",
      " 446  pixel447  float64\n",
      " 447  pixel448  float64\n",
      " 448  pixel449  float64\n",
      " 449  pixel450  float64\n",
      " 450  pixel451  float64\n",
      " 451  pixel452  float64\n",
      " 452  pixel453  float64\n",
      " 453  pixel454  float64\n",
      " 454  pixel455  float64\n",
      " 455  pixel456  float64\n",
      " 456  pixel457  float64\n",
      " 457  pixel458  float64\n",
      " 458  pixel459  float64\n",
      " 459  pixel460  float64\n",
      " 460  pixel461  float64\n",
      " 461  pixel462  float64\n",
      " 462  pixel463  float64\n",
      " 463  pixel464  float64\n",
      " 464  pixel465  float64\n",
      " 465  pixel466  float64\n",
      " 466  pixel467  float64\n",
      " 467  pixel468  float64\n",
      " 468  pixel469  float64\n",
      " 469  pixel470  float64\n",
      " 470  pixel471  float64\n",
      " 471  pixel472  float64\n",
      " 472  pixel473  float64\n",
      " 473  pixel474  float64\n",
      " 474  pixel475  float64\n",
      " 475  pixel476  float64\n",
      " 476  pixel477  float64\n",
      " 477  pixel478  float64\n",
      " 478  pixel479  float64\n",
      " 479  pixel480  float64\n",
      " 480  pixel481  float64\n",
      " 481  pixel482  float64\n",
      " 482  pixel483  float64\n",
      " 483  pixel484  float64\n",
      " 484  pixel485  float64\n",
      " 485  pixel486  float64\n",
      " 486  pixel487  float64\n",
      " 487  pixel488  float64\n",
      " 488  pixel489  float64\n",
      " 489  pixel490  float64\n",
      " 490  pixel491  float64\n",
      " 491  pixel492  float64\n",
      " 492  pixel493  float64\n",
      " 493  pixel494  float64\n",
      " 494  pixel495  float64\n",
      " 495  pixel496  float64\n",
      " 496  pixel497  float64\n",
      " 497  pixel498  float64\n",
      " 498  pixel499  float64\n",
      " 499  pixel500  float64\n",
      " 500  pixel501  float64\n",
      " 501  pixel502  float64\n",
      " 502  pixel503  float64\n",
      " 503  pixel504  float64\n",
      " 504  pixel505  float64\n",
      " 505  pixel506  float64\n",
      " 506  pixel507  float64\n",
      " 507  pixel508  float64\n",
      " 508  pixel509  float64\n",
      " 509  pixel510  float64\n",
      " 510  pixel511  float64\n",
      " 511  pixel512  float64\n",
      " 512  pixel513  float64\n",
      " 513  pixel514  float64\n",
      " 514  pixel515  float64\n",
      " 515  pixel516  float64\n",
      " 516  pixel517  float64\n",
      " 517  pixel518  float64\n",
      " 518  pixel519  float64\n",
      " 519  pixel520  float64\n",
      " 520  pixel521  float64\n",
      " 521  pixel522  float64\n",
      " 522  pixel523  float64\n",
      " 523  pixel524  float64\n",
      " 524  pixel525  float64\n",
      " 525  pixel526  float64\n",
      " 526  pixel527  float64\n",
      " 527  pixel528  float64\n",
      " 528  pixel529  float64\n",
      " 529  pixel530  float64\n",
      " 530  pixel531  float64\n",
      " 531  pixel532  float64\n",
      " 532  pixel533  float64\n",
      " 533  pixel534  float64\n",
      " 534  pixel535  float64\n",
      " 535  pixel536  float64\n",
      " 536  pixel537  float64\n",
      " 537  pixel538  float64\n",
      " 538  pixel539  float64\n",
      " 539  pixel540  float64\n",
      " 540  pixel541  float64\n",
      " 541  pixel542  float64\n",
      " 542  pixel543  float64\n",
      " 543  pixel544  float64\n",
      " 544  pixel545  float64\n",
      " 545  pixel546  float64\n",
      " 546  pixel547  float64\n",
      " 547  pixel548  float64\n",
      " 548  pixel549  float64\n",
      " 549  pixel550  float64\n",
      " 550  pixel551  float64\n",
      " 551  pixel552  float64\n",
      " 552  pixel553  float64\n",
      " 553  pixel554  float64\n",
      " 554  pixel555  float64\n",
      " 555  pixel556  float64\n",
      " 556  pixel557  float64\n",
      " 557  pixel558  float64\n",
      " 558  pixel559  float64\n",
      " 559  pixel560  float64\n",
      " 560  pixel561  float64\n",
      " 561  pixel562  float64\n",
      " 562  pixel563  float64\n",
      " 563  pixel564  float64\n",
      " 564  pixel565  float64\n",
      " 565  pixel566  float64\n",
      " 566  pixel567  float64\n",
      " 567  pixel568  float64\n",
      " 568  pixel569  float64\n",
      " 569  pixel570  float64\n",
      " 570  pixel571  float64\n",
      " 571  pixel572  float64\n",
      " 572  pixel573  float64\n",
      " 573  pixel574  float64\n",
      " 574  pixel575  float64\n",
      " 575  pixel576  float64\n",
      " 576  pixel577  float64\n",
      " 577  pixel578  float64\n",
      " 578  pixel579  float64\n",
      " 579  pixel580  float64\n",
      " 580  pixel581  float64\n",
      " 581  pixel582  float64\n",
      " 582  pixel583  float64\n",
      " 583  pixel584  float64\n",
      " 584  pixel585  float64\n",
      " 585  pixel586  float64\n",
      " 586  pixel587  float64\n",
      " 587  pixel588  float64\n",
      " 588  pixel589  float64\n",
      " 589  pixel590  float64\n",
      " 590  pixel591  float64\n",
      " 591  pixel592  float64\n",
      " 592  pixel593  float64\n",
      " 593  pixel594  float64\n",
      " 594  pixel595  float64\n",
      " 595  pixel596  float64\n",
      " 596  pixel597  float64\n",
      " 597  pixel598  float64\n",
      " 598  pixel599  float64\n",
      " 599  pixel600  float64\n",
      " 600  pixel601  float64\n",
      " 601  pixel602  float64\n",
      " 602  pixel603  float64\n",
      " 603  pixel604  float64\n",
      " 604  pixel605  float64\n",
      " 605  pixel606  float64\n",
      " 606  pixel607  float64\n",
      " 607  pixel608  float64\n",
      " 608  pixel609  float64\n",
      " 609  pixel610  float64\n",
      " 610  pixel611  float64\n",
      " 611  pixel612  float64\n",
      " 612  pixel613  float64\n",
      " 613  pixel614  float64\n",
      " 614  pixel615  float64\n",
      " 615  pixel616  float64\n",
      " 616  pixel617  float64\n",
      " 617  pixel618  float64\n",
      " 618  pixel619  float64\n",
      " 619  pixel620  float64\n",
      " 620  pixel621  float64\n",
      " 621  pixel622  float64\n",
      " 622  pixel623  float64\n",
      " 623  pixel624  float64\n",
      " 624  pixel625  float64\n",
      " 625  pixel626  float64\n",
      " 626  pixel627  float64\n",
      " 627  pixel628  float64\n",
      " 628  pixel629  float64\n",
      " 629  pixel630  float64\n",
      " 630  pixel631  float64\n",
      " 631  pixel632  float64\n",
      " 632  pixel633  float64\n",
      " 633  pixel634  float64\n",
      " 634  pixel635  float64\n",
      " 635  pixel636  float64\n",
      " 636  pixel637  float64\n",
      " 637  pixel638  float64\n",
      " 638  pixel639  float64\n",
      " 639  pixel640  float64\n",
      " 640  pixel641  float64\n",
      " 641  pixel642  float64\n",
      " 642  pixel643  float64\n",
      " 643  pixel644  float64\n",
      " 644  pixel645  float64\n",
      " 645  pixel646  float64\n",
      " 646  pixel647  float64\n",
      " 647  pixel648  float64\n",
      " 648  pixel649  float64\n",
      " 649  pixel650  float64\n",
      " 650  pixel651  float64\n",
      " 651  pixel652  float64\n",
      " 652  pixel653  float64\n",
      " 653  pixel654  float64\n",
      " 654  pixel655  float64\n",
      " 655  pixel656  float64\n",
      " 656  pixel657  float64\n",
      " 657  pixel658  float64\n",
      " 658  pixel659  float64\n",
      " 659  pixel660  float64\n",
      " 660  pixel661  float64\n",
      " 661  pixel662  float64\n",
      " 662  pixel663  float64\n",
      " 663  pixel664  float64\n",
      " 664  pixel665  float64\n",
      " 665  pixel666  float64\n",
      " 666  pixel667  float64\n",
      " 667  pixel668  float64\n",
      " 668  pixel669  float64\n",
      " 669  pixel670  float64\n",
      " 670  pixel671  float64\n",
      " 671  pixel672  float64\n",
      " 672  pixel673  float64\n",
      " 673  pixel674  float64\n",
      " 674  pixel675  float64\n",
      " 675  pixel676  float64\n",
      " 676  pixel677  float64\n",
      " 677  pixel678  float64\n",
      " 678  pixel679  float64\n",
      " 679  pixel680  float64\n",
      " 680  pixel681  float64\n",
      " 681  pixel682  float64\n",
      " 682  pixel683  float64\n",
      " 683  pixel684  float64\n",
      " 684  pixel685  float64\n",
      " 685  pixel686  float64\n",
      " 686  pixel687  float64\n",
      " 687  pixel688  float64\n",
      " 688  pixel689  float64\n",
      " 689  pixel690  float64\n",
      " 690  pixel691  float64\n",
      " 691  pixel692  float64\n",
      " 692  pixel693  float64\n",
      " 693  pixel694  float64\n",
      " 694  pixel695  float64\n",
      " 695  pixel696  float64\n",
      " 696  pixel697  float64\n",
      " 697  pixel698  float64\n",
      " 698  pixel699  float64\n",
      " 699  pixel700  float64\n",
      " 700  pixel701  float64\n",
      " 701  pixel702  float64\n",
      " 702  pixel703  float64\n",
      " 703  pixel704  float64\n",
      " 704  pixel705  float64\n",
      " 705  pixel706  float64\n",
      " 706  pixel707  float64\n",
      " 707  pixel708  float64\n",
      " 708  pixel709  float64\n",
      " 709  pixel710  float64\n",
      " 710  pixel711  float64\n",
      " 711  pixel712  float64\n",
      " 712  pixel713  float64\n",
      " 713  pixel714  float64\n",
      " 714  pixel715  float64\n",
      " 715  pixel716  float64\n",
      " 716  pixel717  float64\n",
      " 717  pixel718  float64\n",
      " 718  pixel719  float64\n",
      " 719  pixel720  float64\n",
      " 720  pixel721  float64\n",
      " 721  pixel722  float64\n",
      " 722  pixel723  float64\n",
      " 723  pixel724  float64\n",
      " 724  pixel725  float64\n",
      " 725  pixel726  float64\n",
      " 726  pixel727  float64\n",
      " 727  pixel728  float64\n",
      " 728  pixel729  float64\n",
      " 729  pixel730  float64\n",
      " 730  pixel731  float64\n",
      " 731  pixel732  float64\n",
      " 732  pixel733  float64\n",
      " 733  pixel734  float64\n",
      " 734  pixel735  float64\n",
      " 735  pixel736  float64\n",
      " 736  pixel737  float64\n",
      " 737  pixel738  float64\n",
      " 738  pixel739  float64\n",
      " 739  pixel740  float64\n",
      " 740  pixel741  float64\n",
      " 741  pixel742  float64\n",
      " 742  pixel743  float64\n",
      " 743  pixel744  float64\n",
      " 744  pixel745  float64\n",
      " 745  pixel746  float64\n",
      " 746  pixel747  float64\n",
      " 747  pixel748  float64\n",
      " 748  pixel749  float64\n",
      " 749  pixel750  float64\n",
      " 750  pixel751  float64\n",
      " 751  pixel752  float64\n",
      " 752  pixel753  float64\n",
      " 753  pixel754  float64\n",
      " 754  pixel755  float64\n",
      " 755  pixel756  float64\n",
      " 756  pixel757  float64\n",
      " 757  pixel758  float64\n",
      " 758  pixel759  float64\n",
      " 759  pixel760  float64\n",
      " 760  pixel761  float64\n",
      " 761  pixel762  float64\n",
      " 762  pixel763  float64\n",
      " 763  pixel764  float64\n",
      " 764  pixel765  float64\n",
      " 765  pixel766  float64\n",
      " 766  pixel767  float64\n",
      " 767  pixel768  float64\n",
      " 768  pixel769  float64\n",
      " 769  pixel770  float64\n",
      " 770  pixel771  float64\n",
      " 771  pixel772  float64\n",
      " 772  pixel773  float64\n",
      " 773  pixel774  float64\n",
      " 774  pixel775  float64\n",
      " 775  pixel776  float64\n",
      " 776  pixel777  float64\n",
      " 777  pixel778  float64\n",
      " 778  pixel779  float64\n",
      " 779  pixel780  float64\n",
      " 780  pixel781  float64\n",
      " 781  pixel782  float64\n",
      " 782  pixel783  float64\n",
      " 783  pixel784  float64\n",
      "dtypes: float64(784)\n",
      "memory usage: 6.0 MB\n"
     ]
    }
   ],
   "source": [
    "x_data_small.info(verbose=True)"
   ],
   "metadata": {
    "collapsed": false,
    "pycharm": {
     "name": "#%%\n"
    }
   }
  },
  {
   "cell_type": "code",
   "execution_count": 15,
   "outputs": [
    {
     "data": {
      "text/plain": "13130    0\n53531    0\n53       0\n47704    0\n49302    0\n        ..\n16568    9\n11368    9\n34198    9\n47819    9\n15606    9\nName: Number, Length: 1000, dtype: int64"
     },
     "execution_count": 15,
     "metadata": {},
     "output_type": "execute_result"
    }
   ],
   "source": [
    "y_data_small"
   ],
   "metadata": {
    "collapsed": false,
    "pycharm": {
     "name": "#%%\n"
    }
   }
  },
  {
   "cell_type": "markdown",
   "source": [
    "## Tuning"
   ],
   "metadata": {
    "collapsed": false,
    "pycharm": {
     "name": "#%% md\n"
    }
   }
  },
  {
   "cell_type": "markdown",
   "source": [
    "No hyper-parameters to tune"
   ],
   "metadata": {
    "collapsed": false,
    "pycharm": {
     "name": "#%% md\n"
    }
   }
  },
  {
   "cell_type": "markdown",
   "source": [
    "## Model Training"
   ],
   "metadata": {
    "collapsed": false,
    "pycharm": {
     "name": "#%% md\n"
    }
   }
  },
  {
   "cell_type": "code",
   "execution_count": 16,
   "outputs": [
    {
     "name": "stderr",
     "output_type": "stream",
     "text": [
      "2022-12-28 03:51:46.592 | INFO     | __main__:<module>:5 - --- 0.10996031761169434 seconds ---\n"
     ]
    }
   ],
   "source": [
    "start_time = time.time()\n",
    "b_nb=Beta_NB()\n",
    "b_nb.fit(x_data_small, y_data_small)\n",
    "# b_nb.fit(data_split.x_train, data_split.y_train)\n",
    "logger.info(\"--- %s seconds ---\" % (time.time() - start_time))"
   ],
   "metadata": {
    "collapsed": false,
    "pycharm": {
     "name": "#%%\n"
    }
   }
  },
  {
   "cell_type": "markdown",
   "source": [
    "Visual indication of what the model is learning using the mean of the beta distribution"
   ],
   "metadata": {
    "collapsed": false,
    "pycharm": {
     "name": "#%% md\n"
    }
   }
  },
  {
   "cell_type": "code",
   "execution_count": 17,
   "outputs": [
    {
     "data": {
      "text/plain": "<Figure size 432x288 with 10 Axes>",
      "image/png": "[encoded data removed]"
     },
     "metadata": {
      "needs_background": "light"
     },
     "output_type": "display_data"
    }
   ],
   "source": [
    "b_nb.plot_beta_means()"
   ],
   "metadata": {
    "collapsed": false,
    "pycharm": {
     "name": "#%%\n"
    }
   }
  },
  {
   "cell_type": "markdown",
   "source": [
    "# Performance"
   ],
   "metadata": {
    "collapsed": false,
    "pycharm": {
     "name": "#%% md\n"
    }
   }
  },
  {
   "cell_type": "code",
   "execution_count": 18,
   "outputs": [],
   "source": [
    "# b_nb_train_pred = b_nb.predict(data_split.x_train)  # too many samples in train set, my laptop cannot handle it\n",
    "b_nb_train_pred= b_nb.predict(x_data_small)\n",
    "b_nb_train_eval = eva.Evaluation(y_true=y_data_small, y_pred=b_nb_train_pred)"
   ],
   "metadata": {
    "collapsed": false,
    "pycharm": {
     "name": "#%%\n"
    }
   }
  },
  {
   "cell_type": "code",
   "execution_count": 15,
   "outputs": [
    {
     "ename": "KeyboardInterrupt",
     "evalue": "",
     "output_type": "error",
     "traceback": [
      "\u001B[0;31m---------------------------------------------------------------------------\u001B[0m",
      "\u001B[0;31mKeyboardInterrupt\u001B[0m                         Traceback (most recent call last)",
      "\u001B[0;32m/var/folders/_c/vnjyd7f9581cdkdmh1wpts080000gn/T/ipykernel_20927/2026702374.py\u001B[0m in \u001B[0;36m<module>\u001B[0;34m\u001B[0m\n\u001B[1;32m      1\u001B[0m \u001B[0mstart_time\u001B[0m \u001B[0;34m=\u001B[0m \u001B[0mtime\u001B[0m\u001B[0;34m.\u001B[0m\u001B[0mtime\u001B[0m\u001B[0;34m(\u001B[0m\u001B[0;34m)\u001B[0m\u001B[0;34m\u001B[0m\u001B[0;34m\u001B[0m\u001B[0m\n\u001B[0;32m----> 2\u001B[0;31m \u001B[0mb_nb_test_pred\u001B[0m \u001B[0;34m=\u001B[0m \u001B[0mb_nb\u001B[0m\u001B[0;34m.\u001B[0m\u001B[0mpredict\u001B[0m\u001B[0;34m(\u001B[0m\u001B[0mdata_split\u001B[0m\u001B[0;34m.\u001B[0m\u001B[0mx_test\u001B[0m\u001B[0;34m)\u001B[0m\u001B[0;34m\u001B[0m\u001B[0;34m\u001B[0m\u001B[0m\n\u001B[0m\u001B[1;32m      3\u001B[0m \u001B[0mlogger\u001B[0m\u001B[0;34m.\u001B[0m\u001B[0minfo\u001B[0m\u001B[0;34m(\u001B[0m\u001B[0;34m\"Prediction: - %s seconds -\"\u001B[0m \u001B[0;34m%\u001B[0m \u001B[0;34m(\u001B[0m\u001B[0mtime\u001B[0m\u001B[0;34m.\u001B[0m\u001B[0mtime\u001B[0m\u001B[0;34m(\u001B[0m\u001B[0;34m)\u001B[0m \u001B[0;34m-\u001B[0m \u001B[0mstart_time\u001B[0m\u001B[0;34m)\u001B[0m\u001B[0;34m)\u001B[0m\u001B[0;34m\u001B[0m\u001B[0;34m\u001B[0m\u001B[0m\n\u001B[1;32m      4\u001B[0m \u001B[0mb_nb_test_eval\u001B[0m \u001B[0;34m=\u001B[0m \u001B[0meva\u001B[0m\u001B[0;34m.\u001B[0m\u001B[0mEvaluation\u001B[0m\u001B[0;34m(\u001B[0m\u001B[0my_true\u001B[0m\u001B[0;34m=\u001B[0m\u001B[0mdata_split\u001B[0m\u001B[0;34m.\u001B[0m\u001B[0my_test\u001B[0m\u001B[0;34m,\u001B[0m \u001B[0my_pred\u001B[0m\u001B[0;34m=\u001B[0m\u001B[0mb_nb_test_pred\u001B[0m\u001B[0;34m)\u001B[0m\u001B[0;34m\u001B[0m\u001B[0;34m\u001B[0m\u001B[0m\n",
      "\u001B[0;32m~/GitHub/Discriminative-and-Generative-Classifiers/src/classifiers/naivebayes.py\u001B[0m in \u001B[0;36mpredict\u001B[0;34m(self, X_test)\u001B[0m\n\u001B[1;32m    291\u001B[0m                 \u001B[0;31m# unique = class_parameters['unique']\u001B[0m\u001B[0;34m\u001B[0m\u001B[0;34m\u001B[0m\u001B[0;34m\u001B[0m\u001B[0m\n\u001B[1;32m    292\u001B[0m \u001B[0;34m\u001B[0m\u001B[0m\n\u001B[0;32m--> 293\u001B[0;31m                 \u001B[0mbeta_probs\u001B[0m \u001B[0;34m=\u001B[0m \u001B[0mstat\u001B[0m\u001B[0;34m.\u001B[0m\u001B[0mbeta\u001B[0m\u001B[0;34m.\u001B[0m\u001B[0mcdf\u001B[0m\u001B[0;34m(\u001B[0m\u001B[0mx\u001B[0m\u001B[0;34m=\u001B[0m\u001B[0mrow_feats\u001B[0m \u001B[0;34m+\u001B[0m \u001B[0mepsilon\u001B[0m\u001B[0;34m,\u001B[0m \u001B[0ma\u001B[0m\u001B[0;34m=\u001B[0m\u001B[0malpha\u001B[0m\u001B[0;34m,\u001B[0m \u001B[0mb\u001B[0m\u001B[0;34m=\u001B[0m\u001B[0mbeta\u001B[0m\u001B[0;34m)\u001B[0m \u001B[0;34m-\u001B[0m \u001B[0mstat\u001B[0m\u001B[0;34m.\u001B[0m\u001B[0mbeta\u001B[0m\u001B[0;34m.\u001B[0m\u001B[0mcdf\u001B[0m\u001B[0;34m(\u001B[0m\u001B[0mx\u001B[0m\u001B[0;34m=\u001B[0m\u001B[0mrow_feats\u001B[0m \u001B[0;34m-\u001B[0m \u001B[0mepsilon\u001B[0m\u001B[0;34m,\u001B[0m \u001B[0ma\u001B[0m\u001B[0;34m=\u001B[0m\u001B[0malpha\u001B[0m\u001B[0;34m,\u001B[0m \u001B[0mb\u001B[0m\u001B[0;34m=\u001B[0m\u001B[0mbeta\u001B[0m\u001B[0;34m)\u001B[0m\u001B[0;34m\u001B[0m\u001B[0;34m\u001B[0m\u001B[0m\n\u001B[0m\u001B[1;32m    294\u001B[0m \u001B[0;34m\u001B[0m\u001B[0m\n\u001B[1;32m    295\u001B[0m                 \u001B[0;31m# unique values TODO A CHE SERVE\u001B[0m\u001B[0;34m\u001B[0m\u001B[0;34m\u001B[0m\u001B[0;34m\u001B[0m\u001B[0m\n",
      "\u001B[0;32m/Library/Frameworks/Python.framework/Versions/3.9/lib/python3.9/site-packages/scipy/stats/_distn_infrastructure.py\u001B[0m in \u001B[0;36mcdf\u001B[0;34m(self, x, *args, **kwds)\u001B[0m\n\u001B[1;32m   2175\u001B[0m         \u001B[0mplace\u001B[0m\u001B[0;34m(\u001B[0m\u001B[0moutput\u001B[0m\u001B[0;34m,\u001B[0m \u001B[0mcond2\u001B[0m\u001B[0;34m,\u001B[0m \u001B[0;36m1.0\u001B[0m\u001B[0;34m)\u001B[0m\u001B[0;34m\u001B[0m\u001B[0;34m\u001B[0m\u001B[0m\n\u001B[1;32m   2176\u001B[0m         \u001B[0;32mif\u001B[0m \u001B[0mnp\u001B[0m\u001B[0;34m.\u001B[0m\u001B[0many\u001B[0m\u001B[0;34m(\u001B[0m\u001B[0mcond\u001B[0m\u001B[0;34m)\u001B[0m\u001B[0;34m:\u001B[0m  \u001B[0;31m# call only if at least 1 entry\u001B[0m\u001B[0;34m\u001B[0m\u001B[0;34m\u001B[0m\u001B[0m\n\u001B[0;32m-> 2177\u001B[0;31m             \u001B[0mgoodargs\u001B[0m \u001B[0;34m=\u001B[0m \u001B[0margsreduce\u001B[0m\u001B[0;34m(\u001B[0m\u001B[0mcond\u001B[0m\u001B[0;34m,\u001B[0m \u001B[0;34m*\u001B[0m\u001B[0;34m(\u001B[0m\u001B[0;34m(\u001B[0m\u001B[0mx\u001B[0m\u001B[0;34m,\u001B[0m\u001B[0;34m)\u001B[0m\u001B[0;34m+\u001B[0m\u001B[0margs\u001B[0m\u001B[0;34m)\u001B[0m\u001B[0;34m)\u001B[0m\u001B[0;34m\u001B[0m\u001B[0;34m\u001B[0m\u001B[0m\n\u001B[0m\u001B[1;32m   2178\u001B[0m             \u001B[0mplace\u001B[0m\u001B[0;34m(\u001B[0m\u001B[0moutput\u001B[0m\u001B[0;34m,\u001B[0m \u001B[0mcond\u001B[0m\u001B[0;34m,\u001B[0m \u001B[0mself\u001B[0m\u001B[0;34m.\u001B[0m\u001B[0m_cdf\u001B[0m\u001B[0;34m(\u001B[0m\u001B[0;34m*\u001B[0m\u001B[0mgoodargs\u001B[0m\u001B[0;34m)\u001B[0m\u001B[0;34m)\u001B[0m\u001B[0;34m\u001B[0m\u001B[0;34m\u001B[0m\u001B[0m\n\u001B[1;32m   2179\u001B[0m         \u001B[0;32mif\u001B[0m \u001B[0moutput\u001B[0m\u001B[0;34m.\u001B[0m\u001B[0mndim\u001B[0m \u001B[0;34m==\u001B[0m \u001B[0;36m0\u001B[0m\u001B[0;34m:\u001B[0m\u001B[0;34m\u001B[0m\u001B[0;34m\u001B[0m\u001B[0m\n",
      "\u001B[0;32m/Library/Frameworks/Python.framework/Versions/3.9/lib/python3.9/site-packages/scipy/stats/_distn_infrastructure.py\u001B[0m in \u001B[0;36margsreduce\u001B[0;34m(cond, *args)\u001B[0m\n\u001B[1;32m    582\u001B[0m     \u001B[0;31m# np.extract returns flattened arrays, which are not broadcastable together\u001B[0m\u001B[0;34m\u001B[0m\u001B[0;34m\u001B[0m\u001B[0;34m\u001B[0m\u001B[0m\n\u001B[1;32m    583\u001B[0m     \u001B[0;31m# unless they are either the same size or size == 1.\u001B[0m\u001B[0;34m\u001B[0m\u001B[0;34m\u001B[0m\u001B[0;34m\u001B[0m\u001B[0m\n\u001B[0;32m--> 584\u001B[0;31m     return [(arg if np.size(arg) == 1\n\u001B[0m\u001B[1;32m    585\u001B[0m             else np.extract(cond, np.broadcast_to(arg, s)))\n\u001B[1;32m    586\u001B[0m             for arg in newargs]\n",
      "\u001B[0;32m/Library/Frameworks/Python.framework/Versions/3.9/lib/python3.9/site-packages/scipy/stats/_distn_infrastructure.py\u001B[0m in \u001B[0;36m<listcomp>\u001B[0;34m(.0)\u001B[0m\n\u001B[1;32m    583\u001B[0m     \u001B[0;31m# unless they are either the same size or size == 1.\u001B[0m\u001B[0;34m\u001B[0m\u001B[0;34m\u001B[0m\u001B[0;34m\u001B[0m\u001B[0m\n\u001B[1;32m    584\u001B[0m     return [(arg if np.size(arg) == 1\n\u001B[0;32m--> 585\u001B[0;31m             else np.extract(cond, np.broadcast_to(arg, s)))\n\u001B[0m\u001B[1;32m    586\u001B[0m             for arg in newargs]\n\u001B[1;32m    587\u001B[0m \u001B[0;34m\u001B[0m\u001B[0m\n",
      "\u001B[0;32m/Library/Frameworks/Python.framework/Versions/3.9/lib/python3.9/site-packages/numpy/core/overrides.py\u001B[0m in \u001B[0;36mextract\u001B[0;34m(*args, **kwargs)\u001B[0m\n",
      "\u001B[0;32m/Library/Frameworks/Python.framework/Versions/3.9/lib/python3.9/site-packages/numpy/lib/function_base.py\u001B[0m in \u001B[0;36mextract\u001B[0;34m(condition, arr)\u001B[0m\n\u001B[1;32m   1879\u001B[0m \u001B[0;34m\u001B[0m\u001B[0m\n\u001B[1;32m   1880\u001B[0m     \"\"\"\n\u001B[0;32m-> 1881\u001B[0;31m     \u001B[0;32mreturn\u001B[0m \u001B[0m_nx\u001B[0m\u001B[0;34m.\u001B[0m\u001B[0mtake\u001B[0m\u001B[0;34m(\u001B[0m\u001B[0mravel\u001B[0m\u001B[0;34m(\u001B[0m\u001B[0marr\u001B[0m\u001B[0;34m)\u001B[0m\u001B[0;34m,\u001B[0m \u001B[0mnonzero\u001B[0m\u001B[0;34m(\u001B[0m\u001B[0mravel\u001B[0m\u001B[0;34m(\u001B[0m\u001B[0mcondition\u001B[0m\u001B[0;34m)\u001B[0m\u001B[0;34m)\u001B[0m\u001B[0;34m[\u001B[0m\u001B[0;36m0\u001B[0m\u001B[0;34m]\u001B[0m\u001B[0;34m)\u001B[0m\u001B[0;34m\u001B[0m\u001B[0;34m\u001B[0m\u001B[0m\n\u001B[0m\u001B[1;32m   1882\u001B[0m \u001B[0;34m\u001B[0m\u001B[0m\n\u001B[1;32m   1883\u001B[0m \u001B[0;34m\u001B[0m\u001B[0m\n",
      "\u001B[0;32m/Library/Frameworks/Python.framework/Versions/3.9/lib/python3.9/site-packages/numpy/core/overrides.py\u001B[0m in \u001B[0;36mtake\u001B[0;34m(*args, **kwargs)\u001B[0m\n",
      "\u001B[0;32m/Library/Frameworks/Python.framework/Versions/3.9/lib/python3.9/site-packages/numpy/core/fromnumeric.py\u001B[0m in \u001B[0;36mtake\u001B[0;34m(a, indices, axis, out, mode)\u001B[0m\n\u001B[1;32m    188\u001B[0m            [5, 7]])\n\u001B[1;32m    189\u001B[0m     \"\"\"\n\u001B[0;32m--> 190\u001B[0;31m     \u001B[0;32mreturn\u001B[0m \u001B[0m_wrapfunc\u001B[0m\u001B[0;34m(\u001B[0m\u001B[0ma\u001B[0m\u001B[0;34m,\u001B[0m \u001B[0;34m'take'\u001B[0m\u001B[0;34m,\u001B[0m \u001B[0mindices\u001B[0m\u001B[0;34m,\u001B[0m \u001B[0maxis\u001B[0m\u001B[0;34m=\u001B[0m\u001B[0maxis\u001B[0m\u001B[0;34m,\u001B[0m \u001B[0mout\u001B[0m\u001B[0;34m=\u001B[0m\u001B[0mout\u001B[0m\u001B[0;34m,\u001B[0m \u001B[0mmode\u001B[0m\u001B[0;34m=\u001B[0m\u001B[0mmode\u001B[0m\u001B[0;34m)\u001B[0m\u001B[0;34m\u001B[0m\u001B[0;34m\u001B[0m\u001B[0m\n\u001B[0m\u001B[1;32m    191\u001B[0m \u001B[0;34m\u001B[0m\u001B[0m\n\u001B[1;32m    192\u001B[0m \u001B[0;34m\u001B[0m\u001B[0m\n",
      "\u001B[0;32m/Library/Frameworks/Python.framework/Versions/3.9/lib/python3.9/site-packages/numpy/core/fromnumeric.py\u001B[0m in \u001B[0;36m_wrapfunc\u001B[0;34m(obj, method, *args, **kwds)\u001B[0m\n\u001B[1;32m     55\u001B[0m \u001B[0;34m\u001B[0m\u001B[0m\n\u001B[1;32m     56\u001B[0m     \u001B[0;32mtry\u001B[0m\u001B[0;34m:\u001B[0m\u001B[0;34m\u001B[0m\u001B[0;34m\u001B[0m\u001B[0m\n\u001B[0;32m---> 57\u001B[0;31m         \u001B[0;32mreturn\u001B[0m \u001B[0mbound\u001B[0m\u001B[0;34m(\u001B[0m\u001B[0;34m*\u001B[0m\u001B[0margs\u001B[0m\u001B[0;34m,\u001B[0m \u001B[0;34m**\u001B[0m\u001B[0mkwds\u001B[0m\u001B[0;34m)\u001B[0m\u001B[0;34m\u001B[0m\u001B[0;34m\u001B[0m\u001B[0m\n\u001B[0m\u001B[1;32m     58\u001B[0m     \u001B[0;32mexcept\u001B[0m \u001B[0mTypeError\u001B[0m\u001B[0;34m:\u001B[0m\u001B[0;34m\u001B[0m\u001B[0;34m\u001B[0m\u001B[0m\n\u001B[1;32m     59\u001B[0m         \u001B[0;31m# A TypeError occurs if the object does have such a method in its\u001B[0m\u001B[0;34m\u001B[0m\u001B[0;34m\u001B[0m\u001B[0;34m\u001B[0m\u001B[0m\n",
      "\u001B[0;31mKeyboardInterrupt\u001B[0m: "
     ]
    }
   ],
   "source": [
    "start_time = time.time()\n",
    "b_nb_test_pred = b_nb.predict(data_split.x_test)\n",
    "logger.info(\"Prediction: - %s seconds -\" % (time.time() - start_time))\n",
    "b_nb_test_eval = eva.Evaluation(y_true=data_split.y_test, y_pred=b_nb_test_pred)"
   ],
   "metadata": {
    "collapsed": false,
    "pycharm": {
     "name": "#%%\n"
    }
   }
  },
  {
   "cell_type": "code",
   "execution_count": 19,
   "outputs": [
    {
     "name": "stdout",
     "output_type": "stream",
     "text": [
      "Training:\n",
      "-----Model Evaluations:-----\n",
      "Accuracy score: 0.829\n",
      "Testing:\n"
     ]
    }
   ],
   "source": [
    "print(\"Training:\")\n",
    "b_nb_train_eval.acc_eval()\n",
    "print(\"Testing:\")\n",
    "# b_nb_test_eval.acc_eval()"
   ],
   "metadata": {
    "collapsed": false,
    "pycharm": {
     "name": "#%%\n"
    }
   }
  },
  {
   "cell_type": "code",
   "execution_count": 14,
   "outputs": [],
   "source": [
    "# save the model and evaluations\n",
    "b_nb_model = eva.EvaluatedModel(b_nb, \"beta_naivebayes\", train_eval=b_nb_train_eval, test_eval=b_nb_test_eval)\n",
    "b_nb_model.save_evaluation()"
   ],
   "metadata": {
    "collapsed": false,
    "pycharm": {
     "name": "#%%\n"
    }
   }
  },
  {
   "cell_type": "code",
   "execution_count": 15,
   "outputs": [],
   "source": [
    "# load the previously saved model and evaluations\n",
    "b_nb_model = eva.EvaluatedModel.load_evaluation(\"beta_naivebayes\")"
   ],
   "metadata": {
    "collapsed": false,
    "pycharm": {
     "name": "#%%\n"
    }
   }
  },
  {
   "cell_type": "markdown",
   "source": [
    "### Confusion Matrix"
   ],
   "metadata": {
    "collapsed": false,
    "pycharm": {
     "name": "#%% md\n"
    }
   }
  },
  {
   "cell_type": "code",
   "execution_count": 16,
   "outputs": [
    {
     "data": {
      "text/plain": "<Figure size 432x288 with 2 Axes>",
      "image/png": "[encoded data removed]"
     },
     "metadata": {},
     "output_type": "display_data"
    }
   ],
   "source": [
    "b_nb_model.train_eval.conf_mat()"
   ],
   "metadata": {
    "collapsed": false,
    "pycharm": {
     "name": "#%%\n"
    }
   }
  },
  {
   "cell_type": "code",
   "execution_count": 17,
   "outputs": [
    {
     "data": {
      "text/plain": "<Figure size 432x288 with 2 Axes>",
      "image/png": "[encoded data removed]"
     },
     "metadata": {},
     "output_type": "display_data"
    }
   ],
   "source": [
    "b_nb_model.test_eval.conf_mat()"
   ],
   "metadata": {
    "collapsed": false,
    "pycharm": {
     "name": "#%%\n"
    }
   }
  },
  {
   "cell_type": "code",
   "execution_count": 18,
   "outputs": [
    {
     "data": {
      "text/plain": "array([0, 1, 2, 3, 4, 5, 6, 7, 8, 9])"
     },
     "execution_count": 18,
     "metadata": {},
     "output_type": "execute_result"
    }
   ],
   "source": [
    "import numpy\n",
    "numpy.unique(b_nb_model.test_eval.y_pred)\n",
    "# todo da cancellare"
   ],
   "metadata": {
    "collapsed": false,
    "pycharm": {
     "name": "#%%\n"
    }
   }
  },
  {
   "cell_type": "markdown",
   "source": [],
   "metadata": {
    "collapsed": false,
    "pycharm": {
     "name": "#%% md\n"
    }
   }
  }
 ],
 "metadata": {
  "kernelspec": {
   "display_name": "Python 3",
   "language": "python",
   "name": "python3"
  },
  "language_info": {
   "codemirror_mode": {
    "name": "ipython",
    "version": 2
   },
   "file_extension": ".py",
   "mimetype": "text/x-python",
   "name": "python",
   "nbconvert_exporter": "python",
   "pygments_lexer": "ipython2",
   "version": "2.7.6"
  }
 },
 "nbformat": 4,
 "nbformat_minor": 0
}