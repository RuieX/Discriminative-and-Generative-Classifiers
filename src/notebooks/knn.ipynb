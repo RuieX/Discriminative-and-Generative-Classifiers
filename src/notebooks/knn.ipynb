{
 "cells": [
  {
   "cell_type": "markdown",
   "source": [
    "# K-Nearest Neighbors Classifier"
   ],
   "metadata": {
    "collapsed": false,
    "pycharm": {
     "name": "#%% md\n"
    }
   }
  },
  {
   "cell_type": "markdown",
   "source": [
    "# Setup\n",
    "Let us import the required modules."
   ],
   "metadata": {
    "collapsed": false,
    "pycharm": {
     "name": "#%% md\n"
    }
   }
  },
  {
   "cell_type": "code",
   "execution_count": 1,
   "outputs": [],
   "source": [
    "import pandas as pd\n",
    "import seaborn as sns\n",
    "\n",
    "from loguru import logger\n",
    "from sklearn.metrics import accuracy_score\n",
    "\n",
    "from src.classifiers.knn import KNN\n",
    "import src.utilities.data_split as ds\n",
    "import src.utilities.evaluation as eva\n",
    "import src.utilities.model_selection as ms"
   ],
   "metadata": {
    "collapsed": false,
    "pycharm": {
     "name": "#%%\n"
    }
   }
  },
  {
   "cell_type": "markdown",
   "source": [
    "## Load Data\n",
    "Note that the dataset is already split into Train-Test sets."
   ],
   "metadata": {
    "collapsed": false,
    "pycharm": {
     "name": "#%% md\n"
    }
   }
  },
  {
   "cell_type": "code",
   "execution_count": 2,
   "outputs": [],
   "source": [
    "data_split = ds.TrainTestSplit.from_csv_directory(dir_path=\"../data\")"
   ],
   "metadata": {
    "collapsed": false,
    "pycharm": {
     "name": "#%%\n"
    }
   }
  },
  {
   "cell_type": "code",
   "execution_count": 3,
   "outputs": [
    {
     "name": "stdout",
     "output_type": "stream",
     "text": [
      "<class 'pandas.core.frame.DataFrame'>\n",
      "RangeIndex: 60000 entries, 0 to 59999\n",
      "Columns: 719 entries, pixel13 to pixel780\n",
      "dtypes: float64(719)\n",
      "memory usage: 329.1 MB\n"
     ]
    }
   ],
   "source": [
    "data_split.x_train.info()"
   ],
   "metadata": {
    "collapsed": false,
    "pycharm": {
     "name": "#%%\n"
    }
   }
  },
  {
   "cell_type": "code",
   "execution_count": 4,
   "outputs": [
    {
     "data": {
      "text/plain": "(60000,)"
     },
     "execution_count": 4,
     "metadata": {},
     "output_type": "execute_result"
    }
   ],
   "source": [
    "data_split.y_train.shape"
   ],
   "metadata": {
    "collapsed": false,
    "pycharm": {
     "name": "#%%\n"
    }
   }
  },
  {
   "cell_type": "markdown",
   "source": [
    "## Tuning Generative Classifiers: k-NN"
   ],
   "metadata": {
    "collapsed": false,
    "pycharm": {
     "name": "#%% md\n"
    }
   }
  },
  {
   "cell_type": "markdown",
   "source": [
    "Use a smaller dataset due to the workload of GridSearchCV"
   ],
   "metadata": {
    "collapsed": false,
    "pycharm": {
     "name": "#%% md\n"
    }
   }
  },
  {
   "cell_type": "code",
   "execution_count": 5,
   "outputs": [
    {
     "data": {
      "text/plain": "<AxesSubplot:ylabel='count'>"
     },
     "execution_count": 5,
     "metadata": {},
     "output_type": "execute_result"
    },
    {
     "data": {
      "text/plain": "<Figure size 432x288 with 1 Axes>",
      "image/png": "[encoded data removed]"
     },
     "metadata": {},
     "output_type": "display_data"
    }
   ],
   "source": [
    "sns.countplot(x=data_split.y_train)"
   ],
   "metadata": {
    "collapsed": false,
    "pycharm": {
     "name": "#%%\n"
    }
   }
  },
  {
   "cell_type": "code",
   "execution_count": 6,
   "outputs": [],
   "source": [
    "# x_data_small, y_data_small = ds.get_train_subset(x_train=data_split.x_train, y_train=data_split.y_train, size=5000)\n",
    "x_data_small, y_data_small = ds.get_train_subset(x_train=data_split.x_train, y_train=data_split.y_train, size=1000)"
   ],
   "metadata": {
    "collapsed": false,
    "pycharm": {
     "name": "#%%\n"
    }
   }
  },
  {
   "cell_type": "code",
   "execution_count": 7,
   "outputs": [
    {
     "data": {
      "text/plain": "<AxesSubplot:xlabel='Number', ylabel='count'>"
     },
     "execution_count": 7,
     "metadata": {},
     "output_type": "execute_result"
    },
    {
     "data": {
      "text/plain": "<Figure size 432x288 with 1 Axes>",
      "image/png": "[encoded data removed]"
     },
     "metadata": {},
     "output_type": "display_data"
    }
   ],
   "source": [
    "sns.countplot(x=y_data_small)"
   ],
   "metadata": {
    "collapsed": false,
    "pycharm": {
     "name": "#%%\n"
    }
   }
  },
  {
   "cell_type": "code",
   "execution_count": 8,
   "outputs": [
    {
     "name": "stdout",
     "output_type": "stream",
     "text": [
      "<class 'pandas.core.frame.DataFrame'>\n",
      "Int64Index: 1000 entries, 15113 to 23788\n",
      "Data columns (total 719 columns):\n",
      " #    Column    Dtype  \n",
      "---   ------    -----  \n",
      " 0    pixel13   float64\n",
      " 1    pixel14   float64\n",
      " 2    pixel15   float64\n",
      " 3    pixel16   float64\n",
      " 4    pixel33   float64\n",
      " 5    pixel34   float64\n",
      " 6    pixel35   float64\n",
      " 7    pixel36   float64\n",
      " 8    pixel37   float64\n",
      " 9    pixel38   float64\n",
      " 10   pixel39   float64\n",
      " 11   pixel40   float64\n",
      " 12   pixel41   float64\n",
      " 13   pixel42   float64\n",
      " 14   pixel43   float64\n",
      " 15   pixel44   float64\n",
      " 16   pixel45   float64\n",
      " 17   pixel46   float64\n",
      " 18   pixel47   float64\n",
      " 19   pixel48   float64\n",
      " 20   pixel49   float64\n",
      " 21   pixel50   float64\n",
      " 22   pixel51   float64\n",
      " 23   pixel52   float64\n",
      " 24   pixel59   float64\n",
      " 25   pixel60   float64\n",
      " 26   pixel61   float64\n",
      " 27   pixel62   float64\n",
      " 28   pixel63   float64\n",
      " 29   pixel64   float64\n",
      " 30   pixel65   float64\n",
      " 31   pixel66   float64\n",
      " 32   pixel67   float64\n",
      " 33   pixel68   float64\n",
      " 34   pixel69   float64\n",
      " 35   pixel70   float64\n",
      " 36   pixel71   float64\n",
      " 37   pixel72   float64\n",
      " 38   pixel73   float64\n",
      " 39   pixel74   float64\n",
      " 40   pixel75   float64\n",
      " 41   pixel76   float64\n",
      " 42   pixel77   float64\n",
      " 43   pixel78   float64\n",
      " 44   pixel79   float64\n",
      " 45   pixel80   float64\n",
      " 46   pixel81   float64\n",
      " 47   pixel82   float64\n",
      " 48   pixel87   float64\n",
      " 49   pixel88   float64\n",
      " 50   pixel89   float64\n",
      " 51   pixel90   float64\n",
      " 52   pixel91   float64\n",
      " 53   pixel92   float64\n",
      " 54   pixel93   float64\n",
      " 55   pixel94   float64\n",
      " 56   pixel95   float64\n",
      " 57   pixel96   float64\n",
      " 58   pixel97   float64\n",
      " 59   pixel98   float64\n",
      " 60   pixel99   float64\n",
      " 61   pixel100  float64\n",
      " 62   pixel101  float64\n",
      " 63   pixel102  float64\n",
      " 64   pixel103  float64\n",
      " 65   pixel104  float64\n",
      " 66   pixel105  float64\n",
      " 67   pixel106  float64\n",
      " 68   pixel107  float64\n",
      " 69   pixel108  float64\n",
      " 70   pixel109  float64\n",
      " 71   pixel110  float64\n",
      " 72   pixel111  float64\n",
      " 73   pixel114  float64\n",
      " 74   pixel115  float64\n",
      " 75   pixel116  float64\n",
      " 76   pixel117  float64\n",
      " 77   pixel118  float64\n",
      " 78   pixel119  float64\n",
      " 79   pixel120  float64\n",
      " 80   pixel121  float64\n",
      " 81   pixel122  float64\n",
      " 82   pixel123  float64\n",
      " 83   pixel124  float64\n",
      " 84   pixel125  float64\n",
      " 85   pixel126  float64\n",
      " 86   pixel127  float64\n",
      " 87   pixel128  float64\n",
      " 88   pixel129  float64\n",
      " 89   pixel130  float64\n",
      " 90   pixel131  float64\n",
      " 91   pixel132  float64\n",
      " 92   pixel133  float64\n",
      " 93   pixel134  float64\n",
      " 94   pixel135  float64\n",
      " 95   pixel136  float64\n",
      " 96   pixel137  float64\n",
      " 97   pixel138  float64\n",
      " 98   pixel139  float64\n",
      " 99   pixel140  float64\n",
      " 100  pixel142  float64\n",
      " 101  pixel143  float64\n",
      " 102  pixel144  float64\n",
      " 103  pixel145  float64\n",
      " 104  pixel146  float64\n",
      " 105  pixel147  float64\n",
      " 106  pixel148  float64\n",
      " 107  pixel149  float64\n",
      " 108  pixel150  float64\n",
      " 109  pixel151  float64\n",
      " 110  pixel152  float64\n",
      " 111  pixel153  float64\n",
      " 112  pixel154  float64\n",
      " 113  pixel155  float64\n",
      " 114  pixel156  float64\n",
      " 115  pixel157  float64\n",
      " 116  pixel158  float64\n",
      " 117  pixel159  float64\n",
      " 118  pixel160  float64\n",
      " 119  pixel161  float64\n",
      " 120  pixel162  float64\n",
      " 121  pixel163  float64\n",
      " 122  pixel164  float64\n",
      " 123  pixel165  float64\n",
      " 124  pixel166  float64\n",
      " 125  pixel167  float64\n",
      " 126  pixel168  float64\n",
      " 127  pixel170  float64\n",
      " 128  pixel171  float64\n",
      " 129  pixel172  float64\n",
      " 130  pixel173  float64\n",
      " 131  pixel174  float64\n",
      " 132  pixel175  float64\n",
      " 133  pixel176  float64\n",
      " 134  pixel177  float64\n",
      " 135  pixel178  float64\n",
      " 136  pixel179  float64\n",
      " 137  pixel180  float64\n",
      " 138  pixel181  float64\n",
      " 139  pixel182  float64\n",
      " 140  pixel183  float64\n",
      " 141  pixel184  float64\n",
      " 142  pixel185  float64\n",
      " 143  pixel186  float64\n",
      " 144  pixel187  float64\n",
      " 145  pixel188  float64\n",
      " 146  pixel189  float64\n",
      " 147  pixel190  float64\n",
      " 148  pixel191  float64\n",
      " 149  pixel192  float64\n",
      " 150  pixel193  float64\n",
      " 151  pixel194  float64\n",
      " 152  pixel195  float64\n",
      " 153  pixel196  float64\n",
      " 154  pixel197  float64\n",
      " 155  pixel198  float64\n",
      " 156  pixel199  float64\n",
      " 157  pixel200  float64\n",
      " 158  pixel201  float64\n",
      " 159  pixel202  float64\n",
      " 160  pixel203  float64\n",
      " 161  pixel204  float64\n",
      " 162  pixel205  float64\n",
      " 163  pixel206  float64\n",
      " 164  pixel207  float64\n",
      " 165  pixel208  float64\n",
      " 166  pixel209  float64\n",
      " 167  pixel210  float64\n",
      " 168  pixel211  float64\n",
      " 169  pixel212  float64\n",
      " 170  pixel213  float64\n",
      " 171  pixel214  float64\n",
      " 172  pixel215  float64\n",
      " 173  pixel216  float64\n",
      " 174  pixel217  float64\n",
      " 175  pixel218  float64\n",
      " 176  pixel219  float64\n",
      " 177  pixel220  float64\n",
      " 178  pixel221  float64\n",
      " 179  pixel222  float64\n",
      " 180  pixel223  float64\n",
      " 181  pixel224  float64\n",
      " 182  pixel225  float64\n",
      " 183  pixel226  float64\n",
      " 184  pixel227  float64\n",
      " 185  pixel228  float64\n",
      " 186  pixel229  float64\n",
      " 187  pixel230  float64\n",
      " 188  pixel231  float64\n",
      " 189  pixel232  float64\n",
      " 190  pixel233  float64\n",
      " 191  pixel234  float64\n",
      " 192  pixel235  float64\n",
      " 193  pixel236  float64\n",
      " 194  pixel237  float64\n",
      " 195  pixel238  float64\n",
      " 196  pixel239  float64\n",
      " 197  pixel240  float64\n",
      " 198  pixel241  float64\n",
      " 199  pixel242  float64\n",
      " 200  pixel243  float64\n",
      " 201  pixel244  float64\n",
      " 202  pixel245  float64\n",
      " 203  pixel246  float64\n",
      " 204  pixel247  float64\n",
      " 205  pixel248  float64\n",
      " 206  pixel249  float64\n",
      " 207  pixel250  float64\n",
      " 208  pixel251  float64\n",
      " 209  pixel252  float64\n",
      " 210  pixel253  float64\n",
      " 211  pixel254  float64\n",
      " 212  pixel255  float64\n",
      " 213  pixel256  float64\n",
      " 214  pixel257  float64\n",
      " 215  pixel258  float64\n",
      " 216  pixel259  float64\n",
      " 217  pixel260  float64\n",
      " 218  pixel261  float64\n",
      " 219  pixel262  float64\n",
      " 220  pixel263  float64\n",
      " 221  pixel264  float64\n",
      " 222  pixel265  float64\n",
      " 223  pixel266  float64\n",
      " 224  pixel267  float64\n",
      " 225  pixel268  float64\n",
      " 226  pixel269  float64\n",
      " 227  pixel270  float64\n",
      " 228  pixel271  float64\n",
      " 229  pixel272  float64\n",
      " 230  pixel273  float64\n",
      " 231  pixel274  float64\n",
      " 232  pixel275  float64\n",
      " 233  pixel276  float64\n",
      " 234  pixel277  float64\n",
      " 235  pixel278  float64\n",
      " 236  pixel279  float64\n",
      " 237  pixel280  float64\n",
      " 238  pixel281  float64\n",
      " 239  pixel282  float64\n",
      " 240  pixel283  float64\n",
      " 241  pixel284  float64\n",
      " 242  pixel285  float64\n",
      " 243  pixel286  float64\n",
      " 244  pixel287  float64\n",
      " 245  pixel288  float64\n",
      " 246  pixel289  float64\n",
      " 247  pixel290  float64\n",
      " 248  pixel291  float64\n",
      " 249  pixel292  float64\n",
      " 250  pixel293  float64\n",
      " 251  pixel294  float64\n",
      " 252  pixel295  float64\n",
      " 253  pixel296  float64\n",
      " 254  pixel297  float64\n",
      " 255  pixel298  float64\n",
      " 256  pixel299  float64\n",
      " 257  pixel300  float64\n",
      " 258  pixel301  float64\n",
      " 259  pixel302  float64\n",
      " 260  pixel303  float64\n",
      " 261  pixel304  float64\n",
      " 262  pixel305  float64\n",
      " 263  pixel306  float64\n",
      " 264  pixel307  float64\n",
      " 265  pixel308  float64\n",
      " 266  pixel309  float64\n",
      " 267  pixel310  float64\n",
      " 268  pixel311  float64\n",
      " 269  pixel312  float64\n",
      " 270  pixel313  float64\n",
      " 271  pixel314  float64\n",
      " 272  pixel315  float64\n",
      " 273  pixel316  float64\n",
      " 274  pixel317  float64\n",
      " 275  pixel318  float64\n",
      " 276  pixel319  float64\n",
      " 277  pixel320  float64\n",
      " 278  pixel321  float64\n",
      " 279  pixel322  float64\n",
      " 280  pixel323  float64\n",
      " 281  pixel324  float64\n",
      " 282  pixel325  float64\n",
      " 283  pixel326  float64\n",
      " 284  pixel327  float64\n",
      " 285  pixel328  float64\n",
      " 286  pixel329  float64\n",
      " 287  pixel330  float64\n",
      " 288  pixel331  float64\n",
      " 289  pixel332  float64\n",
      " 290  pixel333  float64\n",
      " 291  pixel334  float64\n",
      " 292  pixel335  float64\n",
      " 293  pixel336  float64\n",
      " 294  pixel337  float64\n",
      " 295  pixel338  float64\n",
      " 296  pixel339  float64\n",
      " 297  pixel340  float64\n",
      " 298  pixel341  float64\n",
      " 299  pixel342  float64\n",
      " 300  pixel343  float64\n",
      " 301  pixel344  float64\n",
      " 302  pixel345  float64\n",
      " 303  pixel346  float64\n",
      " 304  pixel347  float64\n",
      " 305  pixel348  float64\n",
      " 306  pixel349  float64\n",
      " 307  pixel350  float64\n",
      " 308  pixel351  float64\n",
      " 309  pixel352  float64\n",
      " 310  pixel353  float64\n",
      " 311  pixel354  float64\n",
      " 312  pixel355  float64\n",
      " 313  pixel356  float64\n",
      " 314  pixel357  float64\n",
      " 315  pixel358  float64\n",
      " 316  pixel359  float64\n",
      " 317  pixel360  float64\n",
      " 318  pixel361  float64\n",
      " 319  pixel362  float64\n",
      " 320  pixel363  float64\n",
      " 321  pixel364  float64\n",
      " 322  pixel365  float64\n",
      " 323  pixel366  float64\n",
      " 324  pixel367  float64\n",
      " 325  pixel368  float64\n",
      " 326  pixel369  float64\n",
      " 327  pixel370  float64\n",
      " 328  pixel371  float64\n",
      " 329  pixel372  float64\n",
      " 330  pixel373  float64\n",
      " 331  pixel374  float64\n",
      " 332  pixel375  float64\n",
      " 333  pixel376  float64\n",
      " 334  pixel377  float64\n",
      " 335  pixel378  float64\n",
      " 336  pixel379  float64\n",
      " 337  pixel380  float64\n",
      " 338  pixel381  float64\n",
      " 339  pixel382  float64\n",
      " 340  pixel383  float64\n",
      " 341  pixel384  float64\n",
      " 342  pixel385  float64\n",
      " 343  pixel386  float64\n",
      " 344  pixel387  float64\n",
      " 345  pixel388  float64\n",
      " 346  pixel389  float64\n",
      " 347  pixel390  float64\n",
      " 348  pixel391  float64\n",
      " 349  pixel392  float64\n",
      " 350  pixel393  float64\n",
      " 351  pixel394  float64\n",
      " 352  pixel395  float64\n",
      " 353  pixel396  float64\n",
      " 354  pixel397  float64\n",
      " 355  pixel398  float64\n",
      " 356  pixel399  float64\n",
      " 357  pixel400  float64\n",
      " 358  pixel401  float64\n",
      " 359  pixel402  float64\n",
      " 360  pixel403  float64\n",
      " 361  pixel404  float64\n",
      " 362  pixel405  float64\n",
      " 363  pixel406  float64\n",
      " 364  pixel407  float64\n",
      " 365  pixel408  float64\n",
      " 366  pixel409  float64\n",
      " 367  pixel410  float64\n",
      " 368  pixel411  float64\n",
      " 369  pixel412  float64\n",
      " 370  pixel413  float64\n",
      " 371  pixel414  float64\n",
      " 372  pixel415  float64\n",
      " 373  pixel416  float64\n",
      " 374  pixel417  float64\n",
      " 375  pixel418  float64\n",
      " 376  pixel419  float64\n",
      " 377  pixel420  float64\n",
      " 378  pixel421  float64\n",
      " 379  pixel422  float64\n",
      " 380  pixel423  float64\n",
      " 381  pixel424  float64\n",
      " 382  pixel425  float64\n",
      " 383  pixel426  float64\n",
      " 384  pixel427  float64\n",
      " 385  pixel428  float64\n",
      " 386  pixel429  float64\n",
      " 387  pixel430  float64\n",
      " 388  pixel431  float64\n",
      " 389  pixel432  float64\n",
      " 390  pixel433  float64\n",
      " 391  pixel434  float64\n",
      " 392  pixel435  float64\n",
      " 393  pixel436  float64\n",
      " 394  pixel437  float64\n",
      " 395  pixel438  float64\n",
      " 396  pixel439  float64\n",
      " 397  pixel440  float64\n",
      " 398  pixel441  float64\n",
      " 399  pixel442  float64\n",
      " 400  pixel443  float64\n",
      " 401  pixel444  float64\n",
      " 402  pixel445  float64\n",
      " 403  pixel446  float64\n",
      " 404  pixel447  float64\n",
      " 405  pixel448  float64\n",
      " 406  pixel449  float64\n",
      " 407  pixel450  float64\n",
      " 408  pixel451  float64\n",
      " 409  pixel452  float64\n",
      " 410  pixel453  float64\n",
      " 411  pixel454  float64\n",
      " 412  pixel455  float64\n",
      " 413  pixel456  float64\n",
      " 414  pixel457  float64\n",
      " 415  pixel458  float64\n",
      " 416  pixel459  float64\n",
      " 417  pixel460  float64\n",
      " 418  pixel461  float64\n",
      " 419  pixel462  float64\n",
      " 420  pixel463  float64\n",
      " 421  pixel464  float64\n",
      " 422  pixel465  float64\n",
      " 423  pixel466  float64\n",
      " 424  pixel467  float64\n",
      " 425  pixel468  float64\n",
      " 426  pixel469  float64\n",
      " 427  pixel470  float64\n",
      " 428  pixel471  float64\n",
      " 429  pixel472  float64\n",
      " 430  pixel473  float64\n",
      " 431  pixel474  float64\n",
      " 432  pixel475  float64\n",
      " 433  pixel476  float64\n",
      " 434  pixel478  float64\n",
      " 435  pixel479  float64\n",
      " 436  pixel480  float64\n",
      " 437  pixel481  float64\n",
      " 438  pixel482  float64\n",
      " 439  pixel483  float64\n",
      " 440  pixel484  float64\n",
      " 441  pixel485  float64\n",
      " 442  pixel486  float64\n",
      " 443  pixel487  float64\n",
      " 444  pixel488  float64\n",
      " 445  pixel489  float64\n",
      " 446  pixel490  float64\n",
      " 447  pixel491  float64\n",
      " 448  pixel492  float64\n",
      " 449  pixel493  float64\n",
      " 450  pixel494  float64\n",
      " 451  pixel495  float64\n",
      " 452  pixel496  float64\n",
      " 453  pixel497  float64\n",
      " 454  pixel498  float64\n",
      " 455  pixel499  float64\n",
      " 456  pixel500  float64\n",
      " 457  pixel501  float64\n",
      " 458  pixel502  float64\n",
      " 459  pixel503  float64\n",
      " 460  pixel504  float64\n",
      " 461  pixel505  float64\n",
      " 462  pixel506  float64\n",
      " 463  pixel507  float64\n",
      " 464  pixel508  float64\n",
      " 465  pixel509  float64\n",
      " 466  pixel510  float64\n",
      " 467  pixel511  float64\n",
      " 468  pixel512  float64\n",
      " 469  pixel513  float64\n",
      " 470  pixel514  float64\n",
      " 471  pixel515  float64\n",
      " 472  pixel516  float64\n",
      " 473  pixel517  float64\n",
      " 474  pixel518  float64\n",
      " 475  pixel519  float64\n",
      " 476  pixel520  float64\n",
      " 477  pixel521  float64\n",
      " 478  pixel522  float64\n",
      " 479  pixel523  float64\n",
      " 480  pixel524  float64\n",
      " 481  pixel525  float64\n",
      " 482  pixel526  float64\n",
      " 483  pixel527  float64\n",
      " 484  pixel528  float64\n",
      " 485  pixel529  float64\n",
      " 486  pixel530  float64\n",
      " 487  pixel531  float64\n",
      " 488  pixel532  float64\n",
      " 489  pixel533  float64\n",
      " 490  pixel534  float64\n",
      " 491  pixel535  float64\n",
      " 492  pixel536  float64\n",
      " 493  pixel537  float64\n",
      " 494  pixel538  float64\n",
      " 495  pixel539  float64\n",
      " 496  pixel540  float64\n",
      " 497  pixel541  float64\n",
      " 498  pixel542  float64\n",
      " 499  pixel543  float64\n",
      " 500  pixel544  float64\n",
      " 501  pixel545  float64\n",
      " 502  pixel546  float64\n",
      " 503  pixel547  float64\n",
      " 504  pixel548  float64\n",
      " 505  pixel549  float64\n",
      " 506  pixel550  float64\n",
      " 507  pixel551  float64\n",
      " 508  pixel552  float64\n",
      " 509  pixel553  float64\n",
      " 510  pixel554  float64\n",
      " 511  pixel555  float64\n",
      " 512  pixel556  float64\n",
      " 513  pixel557  float64\n",
      " 514  pixel558  float64\n",
      " 515  pixel559  float64\n",
      " 516  pixel560  float64\n",
      " 517  pixel562  float64\n",
      " 518  pixel563  float64\n",
      " 519  pixel564  float64\n",
      " 520  pixel565  float64\n",
      " 521  pixel566  float64\n",
      " 522  pixel567  float64\n",
      " 523  pixel568  float64\n",
      " 524  pixel569  float64\n",
      " 525  pixel570  float64\n",
      " 526  pixel571  float64\n",
      " 527  pixel572  float64\n",
      " 528  pixel573  float64\n",
      " 529  pixel574  float64\n",
      " 530  pixel575  float64\n",
      " 531  pixel576  float64\n",
      " 532  pixel577  float64\n",
      " 533  pixel578  float64\n",
      " 534  pixel579  float64\n",
      " 535  pixel580  float64\n",
      " 536  pixel581  float64\n",
      " 537  pixel582  float64\n",
      " 538  pixel583  float64\n",
      " 539  pixel584  float64\n",
      " 540  pixel585  float64\n",
      " 541  pixel586  float64\n",
      " 542  pixel587  float64\n",
      " 543  pixel588  float64\n",
      " 544  pixel589  float64\n",
      " 545  pixel590  float64\n",
      " 546  pixel591  float64\n",
      " 547  pixel592  float64\n",
      " 548  pixel593  float64\n",
      " 549  pixel594  float64\n",
      " 550  pixel595  float64\n",
      " 551  pixel596  float64\n",
      " 552  pixel597  float64\n",
      " 553  pixel598  float64\n",
      " 554  pixel599  float64\n",
      " 555  pixel600  float64\n",
      " 556  pixel601  float64\n",
      " 557  pixel602  float64\n",
      " 558  pixel603  float64\n",
      " 559  pixel604  float64\n",
      " 560  pixel605  float64\n",
      " 561  pixel606  float64\n",
      " 562  pixel607  float64\n",
      " 563  pixel608  float64\n",
      " 564  pixel609  float64\n",
      " 565  pixel610  float64\n",
      " 566  pixel611  float64\n",
      " 567  pixel612  float64\n",
      " 568  pixel613  float64\n",
      " 569  pixel614  float64\n",
      " 570  pixel615  float64\n",
      " 571  pixel616  float64\n",
      " 572  pixel617  float64\n",
      " 573  pixel618  float64\n",
      " 574  pixel619  float64\n",
      " 575  pixel620  float64\n",
      " 576  pixel621  float64\n",
      " 577  pixel622  float64\n",
      " 578  pixel623  float64\n",
      " 579  pixel624  float64\n",
      " 580  pixel625  float64\n",
      " 581  pixel626  float64\n",
      " 582  pixel627  float64\n",
      " 583  pixel628  float64\n",
      " 584  pixel629  float64\n",
      " 585  pixel630  float64\n",
      " 586  pixel631  float64\n",
      " 587  pixel632  float64\n",
      " 588  pixel633  float64\n",
      " 589  pixel634  float64\n",
      " 590  pixel635  float64\n",
      " 591  pixel636  float64\n",
      " 592  pixel637  float64\n",
      " 593  pixel638  float64\n",
      " 594  pixel639  float64\n",
      " 595  pixel640  float64\n",
      " 596  pixel641  float64\n",
      " 597  pixel642  float64\n",
      " 598  pixel643  float64\n",
      " 599  pixel644  float64\n",
      " 600  pixel646  float64\n",
      " 601  pixel647  float64\n",
      " 602  pixel648  float64\n",
      " 603  pixel649  float64\n",
      " 604  pixel650  float64\n",
      " 605  pixel651  float64\n",
      " 606  pixel652  float64\n",
      " 607  pixel653  float64\n",
      " 608  pixel654  float64\n",
      " 609  pixel655  float64\n",
      " 610  pixel656  float64\n",
      " 611  pixel657  float64\n",
      " 612  pixel658  float64\n",
      " 613  pixel659  float64\n",
      " 614  pixel660  float64\n",
      " 615  pixel661  float64\n",
      " 616  pixel662  float64\n",
      " 617  pixel663  float64\n",
      " 618  pixel664  float64\n",
      " 619  pixel665  float64\n",
      " 620  pixel666  float64\n",
      " 621  pixel667  float64\n",
      " 622  pixel668  float64\n",
      " 623  pixel669  float64\n",
      " 624  pixel670  float64\n",
      " 625  pixel671  float64\n",
      " 626  pixel675  float64\n",
      " 627  pixel676  float64\n",
      " 628  pixel677  float64\n",
      " 629  pixel678  float64\n",
      " 630  pixel679  float64\n",
      " 631  pixel680  float64\n",
      " 632  pixel681  float64\n",
      " 633  pixel682  float64\n",
      " 634  pixel683  float64\n",
      " 635  pixel684  float64\n",
      " 636  pixel685  float64\n",
      " 637  pixel686  float64\n",
      " 638  pixel687  float64\n",
      " 639  pixel688  float64\n",
      " 640  pixel689  float64\n",
      " 641  pixel690  float64\n",
      " 642  pixel691  float64\n",
      " 643  pixel692  float64\n",
      " 644  pixel693  float64\n",
      " 645  pixel694  float64\n",
      " 646  pixel695  float64\n",
      " 647  pixel696  float64\n",
      " 648  pixel697  float64\n",
      " 649  pixel698  float64\n",
      " 650  pixel699  float64\n",
      " 651  pixel703  float64\n",
      " 652  pixel704  float64\n",
      " 653  pixel705  float64\n",
      " 654  pixel706  float64\n",
      " 655  pixel707  float64\n",
      " 656  pixel708  float64\n",
      " 657  pixel709  float64\n",
      " 658  pixel710  float64\n",
      " 659  pixel711  float64\n",
      " 660  pixel712  float64\n",
      " 661  pixel713  float64\n",
      " 662  pixel714  float64\n",
      " 663  pixel715  float64\n",
      " 664  pixel716  float64\n",
      " 665  pixel717  float64\n",
      " 666  pixel718  float64\n",
      " 667  pixel719  float64\n",
      " 668  pixel720  float64\n",
      " 669  pixel721  float64\n",
      " 670  pixel722  float64\n",
      " 671  pixel723  float64\n",
      " 672  pixel724  float64\n",
      " 673  pixel725  float64\n",
      " 674  pixel726  float64\n",
      " 675  pixel727  float64\n",
      " 676  pixel732  float64\n",
      " 677  pixel733  float64\n",
      " 678  pixel734  float64\n",
      " 679  pixel735  float64\n",
      " 680  pixel736  float64\n",
      " 681  pixel737  float64\n",
      " 682  pixel738  float64\n",
      " 683  pixel739  float64\n",
      " 684  pixel740  float64\n",
      " 685  pixel741  float64\n",
      " 686  pixel742  float64\n",
      " 687  pixel743  float64\n",
      " 688  pixel744  float64\n",
      " 689  pixel745  float64\n",
      " 690  pixel746  float64\n",
      " 691  pixel747  float64\n",
      " 692  pixel748  float64\n",
      " 693  pixel749  float64\n",
      " 694  pixel750  float64\n",
      " 695  pixel751  float64\n",
      " 696  pixel752  float64\n",
      " 697  pixel753  float64\n",
      " 698  pixel754  float64\n",
      " 699  pixel761  float64\n",
      " 700  pixel762  float64\n",
      " 701  pixel763  float64\n",
      " 702  pixel764  float64\n",
      " 703  pixel765  float64\n",
      " 704  pixel766  float64\n",
      " 705  pixel767  float64\n",
      " 706  pixel768  float64\n",
      " 707  pixel769  float64\n",
      " 708  pixel770  float64\n",
      " 709  pixel771  float64\n",
      " 710  pixel772  float64\n",
      " 711  pixel773  float64\n",
      " 712  pixel774  float64\n",
      " 713  pixel775  float64\n",
      " 714  pixel776  float64\n",
      " 715  pixel777  float64\n",
      " 716  pixel778  float64\n",
      " 717  pixel779  float64\n",
      " 718  pixel780  float64\n",
      "dtypes: float64(719)\n",
      "memory usage: 5.5 MB\n"
     ]
    }
   ],
   "source": [
    "x_data_small.info(verbose=True)"
   ],
   "metadata": {
    "collapsed": false,
    "pycharm": {
     "name": "#%%\n"
    }
   }
  },
  {
   "cell_type": "code",
   "execution_count": 9,
   "outputs": [
    {
     "data": {
      "text/plain": "(1000,)"
     },
     "execution_count": 9,
     "metadata": {},
     "output_type": "execute_result"
    }
   ],
   "source": [
    "y_data_small.shape"
   ],
   "metadata": {
    "collapsed": false,
    "pycharm": {
     "name": "#%%\n"
    }
   }
  },
  {
   "cell_type": "code",
   "execution_count": 10,
   "outputs": [
    {
     "data": {
      "text/plain": "15113    0\n43945    0\n16212    0\n1438     0\n24626    0\n        ..\n12532    9\n42022    9\n45607    9\n54805    9\n23788    9\nName: Number, Length: 1000, dtype: int64"
     },
     "execution_count": 10,
     "metadata": {},
     "output_type": "execute_result"
    }
   ],
   "source": [
    "y_data_small"
   ],
   "metadata": {
    "collapsed": false,
    "pycharm": {
     "name": "#%%\n"
    }
   }
  },
  {
   "cell_type": "markdown",
   "source": [
    "## Tuning"
   ],
   "metadata": {
    "collapsed": false,
    "pycharm": {
     "name": "#%% md\n"
    }
   }
  },
  {
   "cell_type": "code",
   "execution_count": 11,
   "outputs": [
    {
     "name": "stdout",
     "output_type": "stream",
     "text": [
      "Fitting 10 folds for each of 4 candidates, totalling 40 fits\n"
     ]
    },
    {
     "name": "stderr",
     "output_type": "stream",
     "text": [
      "2022-12-26 16:07:28.056 | INFO     | src.utilities.model_selection:model_selector:26 - --- 24.57661199569702 seconds ---\n"
     ]
    }
   ],
   "source": [
    "# automatic parameters tuning\n",
    "knnclsf=KNN()\n",
    "properties={\n",
    "    \"k\" : [10,15],\n",
    "    # \"k\" : [5,10,15,25,35,50],\n",
    "    \"metric\" : ['euclidean','manhattan']\n",
    "}\n",
    "\n",
    "tuned_knnclsf = ms.model_selector(estimator=knnclsf,properties=properties,scoring=\"accuracy\",cv=10,verbose=5,jobs=4,\n",
    "                                  x_train=x_data_small,y_train=y_data_small)"
   ],
   "metadata": {
    "collapsed": false,
    "pycharm": {
     "name": "#%%\n"
    }
   }
  },
  {
   "cell_type": "code",
   "execution_count": 12,
   "outputs": [],
   "source": [
    "# save results\n",
    "ms.save_model(model=tuned_knnclsf, model_name=\"knn_tuning_results\")"
   ],
   "metadata": {
    "collapsed": false,
    "pycharm": {
     "name": "#%%\n"
    }
   }
  },
  {
   "cell_type": "code",
   "execution_count": 13,
   "outputs": [],
   "source": [
    "# to load previously saved results\n",
    "tuned_knnclsf = ms.load_model(\"knn_tuning_results\")"
   ],
   "metadata": {
    "collapsed": false,
    "pycharm": {
     "name": "#%%\n"
    }
   }
  },
  {
   "cell_type": "code",
   "execution_count": 14,
   "outputs": [
    {
     "name": "stderr",
     "output_type": "stream",
     "text": [
      "2022-12-26 16:07:34.104 | INFO     | __main__:<module>:1 - {'mean_fit_time': array([0.02486174, 0.02319424, 0.02252376, 0.024125  ]), 'std_fit_time': array([0.00668077, 0.0034924 , 0.00465333, 0.00717812]), 'mean_score_time': array([0.12390838, 0.24256637, 0.06043603, 0.23339534]), 'std_score_time': array([0.10324425, 0.04773997, 0.01560084, 0.05258063]), 'param_k': masked_array(data=[10, 10, 15, 15],\n",
      "             mask=[False, False, False, False],\n",
      "       fill_value='?',\n",
      "            dtype=object), 'param_metric': masked_array(data=['euclidean', 'manhattan', 'euclidean', 'manhattan'],\n",
      "             mask=[False, False, False, False],\n",
      "       fill_value='?',\n",
      "            dtype=object), 'params': [{'k': 10, 'metric': 'euclidean'}, {'k': 10, 'metric': 'manhattan'}, {'k': 15, 'metric': 'euclidean'}, {'k': 15, 'metric': 'manhattan'}], 'split0_test_score': array([0.91, 0.88, 0.89, 0.87]), 'split1_test_score': array([0.85, 0.86, 0.85, 0.82]), 'split2_test_score': array([0.91, 0.89, 0.93, 0.86]), 'split3_test_score': array([0.84, 0.82, 0.8 , 0.79]), 'split4_test_score': array([0.85, 0.8 , 0.8 , 0.8 ]), 'split5_test_score': array([0.88, 0.88, 0.89, 0.86]), 'split6_test_score': array([0.85, 0.82, 0.87, 0.83]), 'split7_test_score': array([0.93, 0.89, 0.89, 0.86]), 'split8_test_score': array([0.86, 0.84, 0.84, 0.81]), 'split9_test_score': array([0.83, 0.8 , 0.82, 0.83]), 'mean_test_score': array([0.871, 0.848, 0.858, 0.833]), 'std_test_score': array([0.03269557, 0.03458323, 0.04118252, 0.02685144]), 'rank_test_score': array([1, 3, 2, 4], dtype=int32), 'split0_train_score': array([0.88888889, 0.87222222, 0.87777778, 0.86111111]), 'split1_train_score': array([0.89555556, 0.88333333, 0.88666667, 0.86      ]), 'split2_train_score': array([0.89333333, 0.88555556, 0.88333333, 0.86333333]), 'split3_train_score': array([0.89555556, 0.88777778, 0.87888889, 0.86777778]), 'split4_train_score': array([0.90444444, 0.88222222, 0.88222222, 0.86111111]), 'split5_train_score': array([0.88444444, 0.87555556, 0.88      , 0.85666667]), 'split6_train_score': array([0.90222222, 0.88555556, 0.89222222, 0.86444444]), 'split7_train_score': array([0.89222222, 0.87888889, 0.87555556, 0.85      ]), 'split8_train_score': array([0.89777778, 0.88111111, 0.89222222, 0.86444444]), 'split9_train_score': array([0.90666667, 0.89111111, 0.89333333, 0.87111111]), 'mean_train_score': array([0.89611111, 0.88233333, 0.88422222, 0.862     ]), 'std_train_score': array([0.00657812, 0.00538516, 0.00620235, 0.00555111])}\n"
     ]
    }
   ],
   "source": [
    "logger.info(tuned_knnclsf.cv_results_)\n",
    "tuned_knnclsf_results = pd.DataFrame( tuned_knnclsf.cv_results_ )"
   ],
   "metadata": {
    "collapsed": false,
    "pycharm": {
     "name": "#%%\n"
    }
   }
  },
  {
   "cell_type": "code",
   "execution_count": 15,
   "outputs": [
    {
     "data": {
      "text/plain": "                             params  mean_test_score  mean_train_score\n0  {'k': 10, 'metric': 'euclidean'}            0.871          0.896111\n1  {'k': 10, 'metric': 'manhattan'}            0.848          0.882333\n2  {'k': 15, 'metric': 'euclidean'}            0.858          0.884222\n3  {'k': 15, 'metric': 'manhattan'}            0.833          0.862000",
      "text/html": "<div>\n<style scoped>\n    .dataframe tbody tr th:only-of-type {\n        vertical-align: middle;\n    }\n\n    .dataframe tbody tr th {\n        vertical-align: top;\n    }\n\n    .dataframe thead th {\n        text-align: right;\n    }\n</style>\n<table border=\"1\" class=\"dataframe\">\n  <thead>\n    <tr style=\"text-align: right;\">\n      <th></th>\n      <th>params</th>\n      <th>mean_test_score</th>\n      <th>mean_train_score</th>\n    </tr>\n  </thead>\n  <tbody>\n    <tr>\n      <th>0</th>\n      <td>{'k': 10, 'metric': 'euclidean'}</td>\n      <td>0.871</td>\n      <td>0.896111</td>\n    </tr>\n    <tr>\n      <th>1</th>\n      <td>{'k': 10, 'metric': 'manhattan'}</td>\n      <td>0.848</td>\n      <td>0.882333</td>\n    </tr>\n    <tr>\n      <th>2</th>\n      <td>{'k': 15, 'metric': 'euclidean'}</td>\n      <td>0.858</td>\n      <td>0.884222</td>\n    </tr>\n    <tr>\n      <th>3</th>\n      <td>{'k': 15, 'metric': 'manhattan'}</td>\n      <td>0.833</td>\n      <td>0.862000</td>\n    </tr>\n  </tbody>\n</table>\n</div>"
     },
     "execution_count": 15,
     "metadata": {},
     "output_type": "execute_result"
    }
   ],
   "source": [
    "tuned_knnclsf_results[[\"params\",\"mean_test_score\",\"mean_train_score\"]]"
   ],
   "metadata": {
    "collapsed": false,
    "pycharm": {
     "name": "#%%\n"
    }
   }
  },
  {
   "cell_type": "code",
   "execution_count": 16,
   "outputs": [
    {
     "data": {
      "text/plain": "<AxesSubplot:xlabel='param_k', ylabel='mean_test_score'>"
     },
     "execution_count": 16,
     "metadata": {},
     "output_type": "execute_result"
    },
    {
     "data": {
      "text/plain": "<Figure size 864x576 with 1 Axes>",
      "image/png": "[encoded data removed]"
     },
     "metadata": {},
     "output_type": "display_data"
    }
   ],
   "source": [
    "sns.set(rc={\"figure.figsize\":(12, 8)})\n",
    "sns.lineplot(data=tuned_knnclsf_results, x=\"param_k\", y=\"mean_test_score\")"
   ],
   "metadata": {
    "collapsed": false,
    "pycharm": {
     "name": "#%%\n"
    }
   }
  },
  {
   "cell_type": "code",
   "execution_count": 17,
   "outputs": [
    {
     "data": {
      "text/plain": "<AxesSubplot:xlabel='param_metric', ylabel='mean_test_score'>"
     },
     "execution_count": 17,
     "metadata": {},
     "output_type": "execute_result"
    },
    {
     "data": {
      "text/plain": "<Figure size 864x576 with 1 Axes>",
      "image/png": "[encoded data removed]"
     },
     "metadata": {},
     "output_type": "display_data"
    }
   ],
   "source": [
    "sns.set(rc={\"figure.figsize\":(12, 8)})\n",
    "sns.lineplot(data=tuned_knnclsf_results, x=\"param_metric\", y=\"mean_test_score\")"
   ],
   "metadata": {
    "collapsed": false,
    "pycharm": {
     "name": "#%%\n"
    }
   }
  },
  {
   "cell_type": "code",
   "execution_count": 18,
   "outputs": [
    {
     "name": "stdout",
     "output_type": "stream",
     "text": [
      "KNN(k=10)\n",
      "0.8709999999999999\n"
     ]
    }
   ],
   "source": [
    "print(tuned_knnclsf.best_estimator_)\n",
    "print(tuned_knnclsf.best_score_)"
   ],
   "metadata": {
    "collapsed": false,
    "pycharm": {
     "name": "#%%\n"
    }
   }
  },
  {
   "cell_type": "code",
   "execution_count": 19,
   "outputs": [
    {
     "name": "stderr",
     "output_type": "stream",
     "text": [
      "2022-12-26 16:07:57.008 | INFO     | __main__:<module>:3 - Train accuracy Score on original dataset: 0.8683166666666666\n"
     ]
    }
   ],
   "source": [
    "test_acc = accuracy_score(y_true = data_split.y_train,\n",
    "                    y_pred = tuned_knnclsf.predict(data_split.x_train))\n",
    "logger.info (\"Train accuracy Score on original dataset: {}\".format(test_acc) )"
   ],
   "metadata": {
    "collapsed": false,
    "pycharm": {
     "name": "#%%\n"
    }
   }
  },
  {
   "cell_type": "code",
   "execution_count": 20,
   "outputs": [
    {
     "data": {
      "text/plain": "KNN(k=10)"
     },
     "execution_count": 20,
     "metadata": {},
     "output_type": "execute_result"
    }
   ],
   "source": [
    "# best parameters from automatic parameters tuning\n",
    "knn_clsf = KNN(**tuned_knnclsf.best_params_)\n",
    "# knn_clsf = KNN(n_neighbors=10, metric=\"manhattan\")\n",
    "knn_clsf.fit(data_split.x_train, data_split.y_train)"
   ],
   "metadata": {
    "collapsed": false,
    "pycharm": {
     "name": "#%%\n"
    }
   }
  },
  {
   "cell_type": "markdown",
   "source": [
    "# Performance"
   ],
   "metadata": {
    "collapsed": false,
    "pycharm": {
     "name": "#%% md\n"
    }
   }
  },
  {
   "cell_type": "code",
   "execution_count": null,
   "outputs": [],
   "source": [
    "knn_train_pred = knn_clsf.predict(data_split.x_train)\n",
    "knn_test_pred = knn_clsf.predict(data_split.x_test)\n",
    "\n",
    "knn_train_eval = eva.Evaluation(y_true=data_split.y_train, y_pred=knn_train_pred)\n",
    "knn_test_eval = eva.Evaluation(y_true=data_split.y_test, y_pred=knn_test_pred)"
   ],
   "metadata": {
    "collapsed": false,
    "pycharm": {
     "name": "#%%\n",
     "is_executing": true
    }
   }
  },
  {
   "cell_type": "code",
   "execution_count": null,
   "outputs": [],
   "source": [
    "print(\"Training:\")\n",
    "knn_train_eval.acc_eval()\n",
    "print(\"Testing:\")\n",
    "knn_test_eval.acc_eval()"
   ],
   "metadata": {
    "collapsed": false,
    "pycharm": {
     "name": "#%%\n"
    }
   }
  },
  {
   "cell_type": "code",
   "execution_count": null,
   "outputs": [],
   "source": [
    "logger.info(\"Training:\")\n",
    "logger.info('Accuracy Score: {}'.format(accuracy_score(y_true = data_split.y_train,\n",
    "                                           y_pred = knn_train_pred)))"
   ],
   "metadata": {
    "collapsed": false,
    "pycharm": {
     "name": "#%%\n"
    }
   }
  },
  {
   "cell_type": "code",
   "execution_count": null,
   "outputs": [],
   "source": [
    "logger.info(\"Testing:\")\n",
    "logger.info('Accuracy Score: {}'.format(accuracy_score(y_true = data_split.y_test,\n",
    "                                           y_pred = knn_test_pred)))"
   ],
   "metadata": {
    "collapsed": false,
    "pycharm": {
     "name": "#%%\n"
    }
   }
  },
  {
   "cell_type": "markdown",
   "source": [
    "accuracy is not a great measure of classifier performance when the classes are imbalanced\n",
    "but as we can see from the plots, the classes are more or less balanced"
   ],
   "metadata": {
    "collapsed": false,
    "pycharm": {
     "name": "#%% md\n"
    }
   }
  },
  {
   "cell_type": "code",
   "execution_count": null,
   "outputs": [],
   "source": [
    "# save the model and evaluations\n",
    "knn_model = eva.EvaluatedModel(knn_clsf, \"knearestneighbors\", train_eval=knn_train_eval, test_eval=knn_test_eval)\n",
    "knn_model.save_evaluation()"
   ],
   "metadata": {
    "collapsed": false,
    "pycharm": {
     "name": "#%%\n"
    }
   }
  },
  {
   "cell_type": "code",
   "execution_count": null,
   "outputs": [],
   "source": [
    "# load the previously saved model and evaluations\n",
    "knn_model = eva.EvaluatedModel.load_evaluation(\"knearestneighbors\")"
   ],
   "metadata": {
    "collapsed": false,
    "pycharm": {
     "name": "#%%\n"
    }
   }
  },
  {
   "cell_type": "markdown",
   "source": [
    "### Confusion Matrix"
   ],
   "metadata": {
    "collapsed": false,
    "pycharm": {
     "name": "#%% md\n"
    }
   }
  },
  {
   "cell_type": "code",
   "execution_count": null,
   "outputs": [],
   "source": [
    "knn_model.train_eval.conf_mat()"
   ],
   "metadata": {
    "collapsed": false,
    "pycharm": {
     "name": "#%%\n"
    }
   }
  },
  {
   "cell_type": "code",
   "execution_count": null,
   "outputs": [],
   "source": [
    "knn_model.test_eval.conf_mat()"
   ],
   "metadata": {
    "collapsed": false,
    "pycharm": {
     "name": "#%%\n"
    }
   }
  },
  {
   "cell_type": "markdown",
   "source": [],
   "metadata": {
    "collapsed": false,
    "pycharm": {
     "name": "#%% md\n"
    }
   }
  }
 ],
 "metadata": {
  "kernelspec": {
   "display_name": "Python 3",
   "language": "python",
   "name": "python3"
  },
  "language_info": {
   "codemirror_mode": {
    "name": "ipython",
    "version": 2
   },
   "file_extension": ".py",
   "mimetype": "text/x-python",
   "name": "python",
   "nbconvert_exporter": "python",
   "pygments_lexer": "ipython2",
   "version": "2.7.6"
  }
 },
 "nbformat": 4,
 "nbformat_minor": 0
}