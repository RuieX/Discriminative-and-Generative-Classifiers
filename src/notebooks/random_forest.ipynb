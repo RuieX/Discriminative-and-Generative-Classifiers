{
 "cells": [
  {
   "cell_type": "code",
   "execution_count": null,
   "outputs": [],
   "source": [],
   "metadata": {
    "collapsed": false,
    "pycharm": {
     "name": "#%%\n"
    }
   }
  },
  {
   "cell_type": "markdown",
   "source": [
    "# Introduction"
   ],
   "metadata": {
    "collapsed": false,
    "pycharm": {
     "name": "#%% md\n"
    }
   }
  },
  {
   "cell_type": "markdown",
   "source": [
    "# Setup\n",
    "Let us import the required modules."
   ],
   "metadata": {
    "collapsed": false,
    "pycharm": {
     "name": "#%% md\n"
    }
   }
  },
  {
   "cell_type": "code",
   "execution_count": 1,
   "outputs": [],
   "source": [
    "import numpy as np\n",
    "import pandas as pd\n",
    "import seaborn as sns\n",
    "import sys\n",
    "import os\n",
    "import joblib\n",
    "\n",
    "import src.data_exploring as de\n",
    "# import project.src.visualization as viz\n",
    "import src.evaluation as eva\n",
    "\n",
    "from sklearn.model_selection import train_test_split\n",
    "\n",
    "from sklearn.model_selection import GridSearchCV\n",
    "from sklearn.ensemble import RandomForestClassifier\n",
    "from sklearn.metrics import mean_squared_error\n",
    "\n",
    "import matplotlib.pyplot as plt\n",
    "from sklearn.datasets import fetch_openml"
   ],
   "metadata": {
    "collapsed": false,
    "pycharm": {
     "name": "#%%\n"
    }
   }
  },
  {
   "cell_type": "markdown",
   "source": [
    "## Load Data"
   ],
   "metadata": {
    "collapsed": false,
    "pycharm": {
     "name": "#%% md\n"
    }
   }
  },
  {
   "cell_type": "markdown",
   "source": [
    "## Train Multiple Models\n",
    "\n",
    "Now that we have done feature engineering on the dataset, the next step is to train the data on different regression models.\n",
    "The models we will be using are the following:\n",
    "- **Linear Regression**\n",
    "- **Decision Tree**\n",
    "- **Adaboost Regressor**\n",
    "- **Random Forest**\n",
    "\n",
    "For each model, there will be a training and parameter tuning phase, and a predictions phase.\n",
    "Results of the predictions are then plotted and visualized."
   ],
   "metadata": {
    "collapsed": false,
    "pycharm": {
     "name": "#%% md\n"
    }
   }
  },
  {
   "cell_type": "code",
   "execution_count": null,
   "outputs": [],
   "source": [],
   "metadata": {
    "collapsed": false,
    "pycharm": {
     "name": "#%%\n"
    }
   }
  },
  {
   "cell_type": "markdown",
   "source": [
    "# Modelli"
   ],
   "metadata": {
    "collapsed": false,
    "pycharm": {
     "name": "#%% md\n"
    }
   }
  },
  {
   "cell_type": "markdown",
   "source": [],
   "metadata": {
    "collapsed": false,
    "pycharm": {
     "name": "#%% md\n"
    }
   }
  },
  {
   "cell_type": "markdown",
   "source": [],
   "metadata": {
    "collapsed": false,
    "pycharm": {
     "name": "#%% md\n"
    }
   }
  },
  {
   "cell_type": "code",
   "execution_count": 14,
   "outputs": [],
   "source": [],
   "metadata": {
    "collapsed": false,
    "pycharm": {
     "name": "#%%\n"
    }
   }
  },
  {
   "cell_type": "code",
   "execution_count": 14,
   "outputs": [],
   "source": [],
   "metadata": {
    "collapsed": false,
    "pycharm": {
     "name": "#%%\n"
    }
   }
  },
  {
   "cell_type": "markdown",
   "source": [],
   "metadata": {
    "collapsed": false,
    "pycharm": {
     "name": "#%% md\n"
    }
   }
  },
  {
   "cell_type": "markdown",
   "source": [],
   "metadata": {
    "collapsed": false,
    "pycharm": {
     "name": "#%% md\n"
    }
   }
  },
  {
   "cell_type": "code",
   "execution_count": 14,
   "outputs": [],
   "source": [],
   "metadata": {
    "collapsed": false,
    "pycharm": {
     "name": "#%%\n"
    }
   }
  },
  {
   "cell_type": "code",
   "execution_count": 14,
   "outputs": [],
   "source": [],
   "metadata": {
    "collapsed": false,
    "pycharm": {
     "name": "#%%\n"
    }
   }
  },
  {
   "cell_type": "markdown",
   "source": [
    "# Random Forest Classifier Model"
   ],
   "metadata": {
    "collapsed": false,
    "pycharm": {
     "name": "#%% md\n"
    }
   }
  },
  {
   "cell_type": "code",
   "execution_count": 15,
   "outputs": [],
   "source": [
    "# automatic parameters tuning\n",
    "# rfreg=RandomForestRegressor(random_state=30)\n",
    "# properties={\n",
    "#     \"n_estimators\": [x for x in range(50,101,50)],\n",
    "#     # \"min_samples_leaf\": [x for x in range(180,251,7)],\n",
    "#     # \"max_leaf_nodes\": [x for x in range(14,71,14)],\n",
    "#     # \"max_features\": [\"sqrt\"]\n",
    "# }\n",
    "#\n",
    "# tuned_rfreg=GridSearchCV(rfreg,properties,scoring=\"neg_mean_squared_error\",cv=5,return_train_score=True,verbose=4,n_jobs=-1)\n",
    "# tuned_rfreg.fit(x_train,y_train)\n",
    "#\n",
    "# print (\"Best Score: {:.3f}\".format(tuned_rfreg.best_score_) )\n",
    "# print (\"Best Params: \", tuned_rfreg.best_params_)"
   ],
   "metadata": {
    "collapsed": false,
    "pycharm": {
     "name": "#%%\n"
    }
   }
  },
  {
   "cell_type": "code",
   "execution_count": 16,
   "outputs": [],
   "source": [
    "# save results\n",
    "# if not os.path.exists('../../tuned_models'):\n",
    "#     os.mkdir('../../tuned_models')\n",
    "# joblib.dump(tuned_rfreg, '../../tuned_models/randforest_tuning_results.pkl')"
   ],
   "metadata": {
    "collapsed": false,
    "pycharm": {
     "name": "#%%\n"
    }
   }
  },
  {
   "cell_type": "code",
   "execution_count": 17,
   "outputs": [],
   "source": [
    "# to load previously saved results\n",
    "# tuned_rfreg = joblib.load(\"../../tuned_models/randforest_tuning_results.pkl\")"
   ],
   "metadata": {
    "collapsed": false,
    "pycharm": {
     "name": "#%%\n"
    }
   }
  },
  {
   "cell_type": "code",
   "execution_count": 18,
   "outputs": [],
   "source": [
    "# print(tuned_rfreg.cv_results_)\n",
    "# tuned_rfreg_results = pd.DataFrame( tuned_rfreg.cv_results_ )"
   ],
   "metadata": {
    "collapsed": false,
    "pycharm": {
     "name": "#%%\n"
    }
   }
  },
  {
   "cell_type": "code",
   "execution_count": 19,
   "outputs": [],
   "source": [
    "# tuned_rfreg_results[[\"param_n_estimators\",\"mean_test_score\",\"mean_train_score\"]]"
   ],
   "metadata": {
    "collapsed": false,
    "pycharm": {
     "name": "#%%\n"
    }
   }
  },
  {
   "cell_type": "code",
   "execution_count": 20,
   "outputs": [],
   "source": [
    "# sns.set(rc={\"figure.figsize\":(12, 8)})\n",
    "# sns.lineplot(data=tuned_rfreg_results, x=\"param_n_estimators\", y=\"mean_test_score\")"
   ],
   "metadata": {
    "collapsed": false,
    "pycharm": {
     "name": "#%%\n"
    }
   }
  },
  {
   "cell_type": "code",
   "execution_count": 21,
   "outputs": [],
   "source": [
    "# sns.set(rc={\"figure.figsize\":(12, 8)})\n",
    "# sns.lineplot(data=tuned_rfreg_results, x=\"param_min_samples_leaf\", y=\"mean_test_score\")"
   ],
   "metadata": {
    "collapsed": false,
    "pycharm": {
     "name": "#%%\n"
    }
   }
  },
  {
   "cell_type": "code",
   "execution_count": 22,
   "outputs": [],
   "source": [
    "# sns.set(rc={\"figure.figsize\":(12, 8)})\n",
    "# sns.lineplot(data=tuned_rfreg_results, x=tuned_rfreg_results.index, y=\"mean_test_score\")"
   ],
   "metadata": {
    "collapsed": false,
    "pycharm": {
     "name": "#%%\n"
    }
   }
  },
  {
   "cell_type": "code",
   "execution_count": 23,
   "outputs": [],
   "source": [
    "# print(tuned_rfreg.best_estimator_)\n",
    "# print(tuned_rfreg.best_score_)"
   ],
   "metadata": {
    "collapsed": false,
    "pycharm": {
     "name": "#%%\n"
    }
   }
  },
  {
   "cell_type": "code",
   "execution_count": 24,
   "outputs": [],
   "source": [
    "# test_acc = mean_squared_error(y_true = y_train,\n",
    "#                           y_pred = tuned_rfreg.predict(x_train) )\n",
    "# print (\"Train Accuracy: {}\".format(test_acc) )"
   ],
   "metadata": {
    "collapsed": false,
    "pycharm": {
     "name": "#%%\n"
    }
   }
  },
  {
   "cell_type": "code",
   "execution_count": 25,
   "outputs": [
    {
     "data": {
      "text/plain": "RandomForestClassifier(n_estimators=50)"
     },
     "execution_count": 25,
     "metadata": {},
     "output_type": "execute_result"
    }
   ],
   "source": [
    "# best parameters from automatic parameters tuning\n",
    "# forest_reg = RandomForestRegressor(**tuned_rfreg.best_params_)\n",
    "forest_reg = RandomForestClassifier(n_estimators=50)\n",
    "forest_reg.fit(x_train, y_train)"
   ],
   "metadata": {
    "collapsed": false,
    "pycharm": {
     "name": "#%%\n"
    }
   }
  },
  {
   "cell_type": "code",
   "execution_count": 26,
   "outputs": [],
   "source": [
    "rfreg_train_pred = forest_reg.predict(x_train)\n",
    "rfreg_test_pred = forest_reg.predict(x_test)\n",
    "\n",
    "rfreg_train_eval = eva.Evaluation(y_real=y_train, y_pred=rfreg_train_pred)\n",
    "rfreg_test_eval = eva.Evaluation(y_real=y_test, y_pred=rfreg_test_pred)"
   ],
   "metadata": {
    "collapsed": false,
    "pycharm": {
     "name": "#%%\n"
    }
   }
  },
  {
   "cell_type": "code",
   "execution_count": 27,
   "outputs": [
    {
     "name": "stdout",
     "output_type": "stream",
     "text": [
      "Training:\n",
      "--------------Model Evaluations:--------------\n",
      "Mean Absolute Error : 1.785714285714286e-05\n",
      "Mean Squared Error : 1.785714285714286e-05\n",
      "Root Mean Squared Error : 0.004225771273642583\n",
      "\n",
      "Testing:\n",
      "--------------Model Evaluations:--------------\n",
      "Mean Absolute Error : 0.11885714285714286\n",
      "Mean Squared Error : 0.5652857142857143\n",
      "Root Mean Squared Error : 0.7518548492134065\n",
      "\n"
     ]
    }
   ],
   "source": [
    "print(\"Training:\")\n",
    "rfreg_train_eval.print_eval()\n",
    "print(\"Testing:\")\n",
    "rfreg_test_eval.print_eval()"
   ],
   "metadata": {
    "collapsed": false,
    "pycharm": {
     "name": "#%%\n"
    }
   }
  },
  {
   "cell_type": "code",
   "execution_count": 52,
   "outputs": [],
   "source": [
    "# rfr_model = eva.EvaluatedModel(forest_reg, train_eval=rfreg_train_eval, test_eval=rfreg_test_eval)"
   ],
   "metadata": {
    "collapsed": false,
    "pycharm": {
     "name": "#%%\n"
    }
   }
  }
 ],
 "metadata": {
  "kernelspec": {
   "display_name": "Python 3",
   "language": "python",
   "name": "python3"
  },
  "language_info": {
   "codemirror_mode": {
    "name": "ipython",
    "version": 2
   },
   "file_extension": ".py",
   "mimetype": "text/x-python",
   "name": "python",
   "nbconvert_exporter": "python",
   "pygments_lexer": "ipython2",
   "version": "2.7.6"
  }
 },
 "nbformat": 4,
 "nbformat_minor": 0
}