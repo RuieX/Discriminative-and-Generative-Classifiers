{
 "cells": [
  {
   "cell_type": "markdown",
   "source": [
    "# Introduction"
   ],
   "metadata": {
    "collapsed": false,
    "pycharm": {
     "name": "#%% md\n"
    }
   }
  },
  {
   "cell_type": "markdown",
   "source": [
    "# Setup\n",
    "Let us import the required modules."
   ],
   "metadata": {
    "collapsed": false,
    "pycharm": {
     "name": "#%% md\n"
    }
   }
  },
  {
   "cell_type": "code",
   "execution_count": 1,
   "outputs": [],
   "source": [
    "import numpy as np\n",
    "import pandas as pd\n",
    "import seaborn as sns\n",
    "import sys\n",
    "import os\n",
    "import joblib\n",
    "\n",
    "import src.data_split as ds\n",
    "# import project.src.visualization as viz\n",
    "import src.evaluation as eva\n",
    "\n",
    "from sklearn.model_selection import train_test_split, GridSearchCV\n",
    "from sklearn.ensemble import RandomForestClassifier\n",
    "from sklearn.metrics import accuracy_score"
   ],
   "metadata": {
    "collapsed": false,
    "pycharm": {
     "name": "#%%\n"
    }
   }
  },
  {
   "cell_type": "markdown",
   "source": [
    "## Load Data\n",
    "Note that the dataset is already split into Train-Test sets."
   ],
   "metadata": {
    "collapsed": false,
    "pycharm": {
     "name": "#%% md\n"
    }
   }
  },
  {
   "cell_type": "code",
   "execution_count": 2,
   "outputs": [],
   "source": [
    "data_split = ds.TrainTestSplit.from_csv_directory(dir_path=\"../data\")"
   ],
   "metadata": {
    "collapsed": false,
    "pycharm": {
     "name": "#%%\n"
    }
   }
  },
  {
   "cell_type": "code",
   "execution_count": 3,
   "outputs": [
    {
     "name": "stdout",
     "output_type": "stream",
     "text": [
      "<class 'pandas.core.frame.DataFrame'>\n",
      "RangeIndex: 60000 entries, 0 to 59999\n",
      "Columns: 719 entries, pixel13 to pixel780\n",
      "dtypes: float64(719)\n",
      "memory usage: 329.1 MB\n"
     ]
    }
   ],
   "source": [
    "data_split.x_train.info()"
   ],
   "metadata": {
    "collapsed": false,
    "pycharm": {
     "name": "#%%\n"
    }
   }
  },
  {
   "cell_type": "code",
   "execution_count": 5,
   "outputs": [
    {
     "data": {
      "text/plain": "(60000,)"
     },
     "execution_count": 5,
     "metadata": {},
     "output_type": "execute_result"
    }
   ],
   "source": [
    "data_split.y_train.shape"
   ],
   "metadata": {
    "collapsed": false,
    "pycharm": {
     "name": "#%%\n"
    }
   }
  },
  {
   "cell_type": "markdown",
   "source": [
    "# Random Forest Classifier Model"
   ],
   "metadata": {
    "collapsed": false,
    "pycharm": {
     "name": "#%% md\n"
    }
   }
  },
  {
   "cell_type": "code",
   "execution_count": 15,
   "outputs": [],
   "source": [
    "# automatic parameters tuning\n",
    "rfclsf=RandomForestClassifier(random_state=28)\n",
    "properties={\n",
    "    \"n_estimators\": [x for x in range(50,201,50)],\n",
    "    # \"min_samples_leaf\": [x for x in range(50,201,50)],\n",
    "    # \"max_leaf_nodes\": [x for x in range(2,11,2)],\n",
    "    # \"max_features\": [\"sqrt\"]\n",
    "    # \"criterion\": [\"gini\",\"entropy\"]\n",
    "}\n",
    "\n",
    "tuned_rfclsf=GridSearchCV(rfclsf,properties,scoring=\"accuracy_score\",cv=5,return_train_score=True,verbose=4,n_jobs=-1)\n",
    "tuned_rfclsf.fit(data_split.x_train,data_split.y_train)\n",
    "\n",
    "print (\"Best Score: {:.3f}\".format(tuned_rfclsf.best_score_) )\n",
    "print (\"Best Params: \", tuned_rfclsf.best_params_)"
   ],
   "metadata": {
    "collapsed": false,
    "pycharm": {
     "name": "#%%\n"
    }
   }
  },
  {
   "cell_type": "code",
   "execution_count": 16,
   "outputs": [],
   "source": [
    "# save results\n",
    "if not os.path.exists('../../tuned_models'):\n",
    "    os.mkdir('../../tuned_models')\n",
    "joblib.dump(tuned_rfclsf, '../../tuned_models/randforest_tuning_results.pkl')"
   ],
   "metadata": {
    "collapsed": false,
    "pycharm": {
     "name": "#%%\n"
    }
   }
  },
  {
   "cell_type": "code",
   "execution_count": 17,
   "outputs": [],
   "source": [
    "# to load previously saved results\n",
    "tuned_rfclsf = joblib.load(\"../../tuned_models/randforest_tuning_results.pkl\")"
   ],
   "metadata": {
    "collapsed": false,
    "pycharm": {
     "name": "#%%\n"
    }
   }
  },
  {
   "cell_type": "code",
   "execution_count": 18,
   "outputs": [],
   "source": [
    "print(tuned_rfclsf.cv_results_)\n",
    "tuned_rfclsf_results = pd.DataFrame( tuned_rfclsf.cv_results_ )"
   ],
   "metadata": {
    "collapsed": false,
    "pycharm": {
     "name": "#%%\n"
    }
   }
  },
  {
   "cell_type": "code",
   "execution_count": 19,
   "outputs": [],
   "source": [
    "tuned_rfclsf_results[[\"param_n_estimators\",\"mean_test_score\",\"mean_train_score\"]]"
   ],
   "metadata": {
    "collapsed": false,
    "pycharm": {
     "name": "#%%\n"
    }
   }
  },
  {
   "cell_type": "code",
   "execution_count": 20,
   "outputs": [],
   "source": [
    "sns.set(rc={\"figure.figsize\":(12, 8)})\n",
    "sns.lineplot(data=tuned_rfclsf_results, x=\"param_n_estimators\", y=\"mean_test_score\")"
   ],
   "metadata": {
    "collapsed": false,
    "pycharm": {
     "name": "#%%\n"
    }
   }
  },
  {
   "cell_type": "code",
   "execution_count": 21,
   "outputs": [],
   "source": [
    "sns.set(rc={\"figure.figsize\":(12, 8)})\n",
    "sns.lineplot(data=tuned_rfclsf_results, x=\"param_min_samples_leaf\", y=\"mean_test_score\")"
   ],
   "metadata": {
    "collapsed": false,
    "pycharm": {
     "name": "#%%\n"
    }
   }
  },
  {
   "cell_type": "code",
   "execution_count": 22,
   "outputs": [],
   "source": [
    "sns.set(rc={\"figure.figsize\":(12, 8)})\n",
    "sns.lineplot(data=tuned_rfclsf_results, x=tuned_rfclsf_results.index, y=\"mean_test_score\")"
   ],
   "metadata": {
    "collapsed": false,
    "pycharm": {
     "name": "#%%\n"
    }
   }
  },
  {
   "cell_type": "code",
   "execution_count": 23,
   "outputs": [],
   "source": [
    "print(tuned_rfclsf_results.best_estimator_)\n",
    "print(tuned_rfclsf_results.best_score_)"
   ],
   "metadata": {
    "collapsed": false,
    "pycharm": {
     "name": "#%%\n"
    }
   }
  },
  {
   "cell_type": "code",
   "execution_count": 24,
   "outputs": [],
   "source": [
    "test_acc = accuracy_score(y_true = data_split.y_train,\n",
    "                          y_pred = tuned_rfclsf.predict(data_split.x_train) )\n",
    "print (\"Train Accuracy: {}\".format(test_acc) )"
   ],
   "metadata": {
    "collapsed": false,
    "pycharm": {
     "name": "#%%\n"
    }
   }
  },
  {
   "cell_type": "code",
   "execution_count": 6,
   "outputs": [
    {
     "data": {
      "text/plain": "RandomForestClassifier(n_estimators=20)"
     },
     "execution_count": 6,
     "metadata": {},
     "output_type": "execute_result"
    }
   ],
   "source": [
    "# best parameters from automatic parameters tuning\n",
    "forest_clsf = RandomForestClassifier(**tuned_rfclsf.best_params_)\n",
    "# forest_clsf = RandomForestClassifier(n_estimators=20)\n",
    "forest_clsf.fit(data_split.x_train, data_split.y_train)"
   ],
   "metadata": {
    "collapsed": false,
    "pycharm": {
     "name": "#%%\n"
    }
   }
  },
  {
   "cell_type": "code",
   "execution_count": 7,
   "outputs": [],
   "source": [
    "rf_train_pred = forest_clsf.predict(data_split.x_train)\n",
    "rf_test_pred = forest_clsf.predict(data_split.x_test)\n",
    "\n",
    "rf_train_eval = eva.Evaluation(y_real=data_split.y_train, y_pred=rf_train_pred)\n",
    "rf_test_eval = eva.Evaluation(y_real=data_split.y_test, y_pred=rf_test_pred)"
   ],
   "metadata": {
    "collapsed": false,
    "pycharm": {
     "name": "#%%\n"
    }
   }
  },
  {
   "cell_type": "code",
   "execution_count": 8,
   "outputs": [
    {
     "name": "stdout",
     "output_type": "stream",
     "text": [
      "Training:\n",
      "--------------Model Evaluations:--------------\n",
      "Accuracy score: 0.9999166666666667\n",
      "\n",
      "Testing:\n",
      "--------------Model Evaluations:--------------\n",
      "Accuracy score: 0.959\n",
      "\n"
     ]
    }
   ],
   "source": [
    "print(\"Training:\")\n",
    "rf_train_eval.print_eval()\n",
    "print(\"Testing:\")\n",
    "rf_test_eval.print_eval()"
   ],
   "metadata": {
    "collapsed": false,
    "pycharm": {
     "name": "#%%\n"
    }
   }
  },
  {
   "cell_type": "code",
   "execution_count": 52,
   "outputs": [],
   "source": [
    "# rf_model = eva.EvaluatedModel(forest_clsf, train_eval=rf_train_eval, test_eval=rf_test_eval)"
   ],
   "metadata": {
    "collapsed": false,
    "pycharm": {
     "name": "#%%\n"
    }
   }
  },
  {
   "cell_type": "markdown",
   "source": [
    "# Performance Visualization"
   ],
   "metadata": {
    "collapsed": false,
    "pycharm": {
     "name": "#%% md\n"
    }
   }
  },
  {
   "cell_type": "markdown",
   "source": [
    "### Setup"
   ],
   "metadata": {
    "collapsed": false,
    "pycharm": {
     "name": "#%% md\n"
    }
   }
  }
 ],
 "metadata": {
  "kernelspec": {
   "display_name": "Python 3",
   "language": "python",
   "name": "python3"
  },
  "language_info": {
   "codemirror_mode": {
    "name": "ipython",
    "version": 2
   },
   "file_extension": ".py",
   "mimetype": "text/x-python",
   "name": "python",
   "nbconvert_exporter": "python",
   "pygments_lexer": "ipython2",
   "version": "2.7.6"
  }
 },
 "nbformat": 4,
 "nbformat_minor": 0
}