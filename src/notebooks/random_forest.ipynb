{
 "cells": [
  {
   "cell_type": "markdown",
   "source": [
    "# Introduction"
   ],
   "metadata": {
    "collapsed": false,
    "pycharm": {
     "name": "#%% md\n"
    }
   }
  },
  {
   "cell_type": "markdown",
   "source": [
    "# Setup\n",
    "Let us import the required modules."
   ],
   "metadata": {
    "collapsed": false,
    "pycharm": {
     "name": "#%% md\n"
    }
   }
  },
  {
   "cell_type": "code",
   "execution_count": 62,
   "outputs": [],
   "source": [
    "import pandas as pd\n",
    "import seaborn as sns\n",
    "import joblib\n",
    "\n",
    "import src.data_split as ds\n",
    "import src.evaluation as eva\n",
    "\n",
    "from sklearn.model_selection import GridSearchCV\n",
    "from sklearn.ensemble import RandomForestClassifier\n",
    "from sklearn.metrics import accuracy_score"
   ],
   "metadata": {
    "collapsed": false,
    "pycharm": {
     "name": "#%%\n"
    }
   }
  },
  {
   "cell_type": "markdown",
   "source": [
    "## Load Data\n",
    "Note that the dataset is already split into Train-Test sets."
   ],
   "metadata": {
    "collapsed": false,
    "pycharm": {
     "name": "#%% md\n"
    }
   }
  },
  {
   "cell_type": "code",
   "execution_count": 63,
   "outputs": [],
   "source": [
    "data_split = ds.TrainTestSplit.from_csv_directory(dir_path=\"../data\")"
   ],
   "metadata": {
    "collapsed": false,
    "pycharm": {
     "name": "#%%\n"
    }
   }
  },
  {
   "cell_type": "code",
   "execution_count": 64,
   "outputs": [
    {
     "name": "stdout",
     "output_type": "stream",
     "text": [
      "<class 'pandas.core.frame.DataFrame'>\n",
      "RangeIndex: 60000 entries, 0 to 59999\n",
      "Columns: 719 entries, pixel13 to pixel780\n",
      "dtypes: float64(719)\n",
      "memory usage: 329.1 MB\n"
     ]
    }
   ],
   "source": [
    "data_split.x_train.info()"
   ],
   "metadata": {
    "collapsed": false,
    "pycharm": {
     "name": "#%%\n"
    }
   }
  },
  {
   "cell_type": "code",
   "execution_count": 65,
   "outputs": [
    {
     "data": {
      "text/plain": "(60000,)"
     },
     "execution_count": 65,
     "metadata": {},
     "output_type": "execute_result"
    }
   ],
   "source": [
    "data_split.y_train.shape"
   ],
   "metadata": {
    "collapsed": false,
    "pycharm": {
     "name": "#%%\n"
    }
   }
  },
  {
   "cell_type": "markdown",
   "source": [
    "# Random Forest Classifier Model"
   ],
   "metadata": {
    "collapsed": false,
    "pycharm": {
     "name": "#%% md\n"
    }
   }
  },
  {
   "cell_type": "code",
   "execution_count": 66,
   "outputs": [
    {
     "name": "stdout",
     "output_type": "stream",
     "text": [
      "Fitting 10 folds for each of 80 candidates, totalling 800 fits\n",
      "[CV 2/10] END max_leaf_nodes=75, min_samples_leaf=50, n_estimators=50;, score=(train=0.904, test=0.897) total time=  20.2s\n",
      "[CV 8/10] END max_leaf_nodes=75, min_samples_leaf=50, n_estimators=50;, score=(train=0.905, test=0.899) total time=  31.5s\n",
      "[CV 10/10] END max_leaf_nodes=75, min_samples_leaf=50, n_estimators=50;, score=(train=0.905, test=0.899) total time=  19.7s\n",
      "[CV 4/10] END max_leaf_nodes=75, min_samples_leaf=50, n_estimators=100;, score=(train=0.908, test=0.904) total time=  38.3s\n",
      "[CV 8/10] END max_leaf_nodes=75, min_samples_leaf=50, n_estimators=100;, score=(train=0.908, test=0.899) total time=  41.3s\n",
      "[CV 2/10] END max_leaf_nodes=75, min_samples_leaf=50, n_estimators=150;, score=(train=0.910, test=0.907) total time=  55.1s\n",
      "[CV 6/10] END max_leaf_nodes=75, min_samples_leaf=50, n_estimators=150;, score=(train=0.909, test=0.899) total time=  39.7s\n",
      "[CV 10/10] END max_leaf_nodes=75, min_samples_leaf=50, n_estimators=150;, score=(train=0.911, test=0.902) total time=  36.7s\n",
      "[CV 4/10] END max_leaf_nodes=75, min_samples_leaf=50, n_estimators=200;, score=(train=0.910, test=0.905) total time=  49.9s\n",
      "[CV 8/10] END max_leaf_nodes=75, min_samples_leaf=50, n_estimators=200;, score=(train=0.910, test=0.901) total time=  48.7s\n",
      "[CV 2/10] END max_leaf_nodes=75, min_samples_leaf=100, n_estimators=50;, score=(train=0.903, test=0.899) total time=  12.2s\n",
      "[CV 4/10] END max_leaf_nodes=75, min_samples_leaf=100, n_estimators=50;, score=(train=0.903, test=0.897) total time=  12.4s\n",
      "[CV 6/10] END max_leaf_nodes=75, min_samples_leaf=100, n_estimators=50;, score=(train=0.902, test=0.892) total time=  20.7s\n",
      "[CV 10/10] END max_leaf_nodes=75, min_samples_leaf=100, n_estimators=50;, score=(train=0.903, test=0.897) total time=  14.9s\n",
      "[CV 4/10] END max_leaf_nodes=75, min_samples_leaf=100, n_estimators=100;, score=(train=0.907, test=0.902) total time=  35.7s\n",
      "[CV 8/10] END max_leaf_nodes=75, min_samples_leaf=100, n_estimators=100;, score=(train=0.906, test=0.897) total time=  34.0s\n",
      "[CV 2/10] END max_leaf_nodes=75, min_samples_leaf=100, n_estimators=150;, score=(train=0.909, test=0.904) total time=  54.0s\n",
      "[CV 6/10] END max_leaf_nodes=75, min_samples_leaf=100, n_estimators=150;, score=(train=0.908, test=0.897) total time= 1.0min\n",
      "[CV 10/10] END max_leaf_nodes=75, min_samples_leaf=100, n_estimators=150;, score=(train=0.909, test=0.903) total time=  42.0s\n",
      "[CV 4/10] END max_leaf_nodes=75, min_samples_leaf=100, n_estimators=200;, score=(train=0.910, test=0.905) total time=  48.8s\n",
      "[CV 8/10] END max_leaf_nodes=75, min_samples_leaf=100, n_estimators=200;, score=(train=0.909, test=0.902) total time=  50.3s\n",
      "[CV 2/10] END max_leaf_nodes=75, min_samples_leaf=150, n_estimators=50;, score=(train=0.902, test=0.896) total time=  14.1s\n",
      "[CV 4/10] END max_leaf_nodes=75, min_samples_leaf=150, n_estimators=50;, score=(train=0.902, test=0.896) total time=  14.9s\n",
      "[CV 7/10] END max_leaf_nodes=75, min_samples_leaf=150, n_estimators=50;, score=(train=0.899, test=0.899) total time=  24.0s\n",
      "[CV 1/10] END max_leaf_nodes=75, min_samples_leaf=150, n_estimators=100;, score=(train=0.904, test=0.902) total time=  28.5s\n",
      "[CV 5/10] END max_leaf_nodes=75, min_samples_leaf=150, n_estimators=100;, score=(train=0.906, test=0.900) total time=  36.5s\n",
      "[CV 9/10] END max_leaf_nodes=75, min_samples_leaf=150, n_estimators=100;, score=(train=0.905, test=0.903) total time=  40.8s\n",
      "[CV 3/10] END max_leaf_nodes=75, min_samples_leaf=150, n_estimators=150;, score=(train=0.906, test=0.905) total time=  59.3s\n",
      "[CV 7/10] END max_leaf_nodes=75, min_samples_leaf=150, n_estimators=150;, score=(train=0.906, test=0.906) total time= 1.0min\n",
      "[CV 1/10] END max_leaf_nodes=75, min_samples_leaf=150, n_estimators=200;, score=(train=0.907, test=0.905) total time= 1.2min\n",
      "[CV 5/10] END max_leaf_nodes=75, min_samples_leaf=150, n_estimators=200;, score=(train=0.908, test=0.903) total time= 1.3min\n",
      "[CV 9/10] END max_leaf_nodes=75, min_samples_leaf=150, n_estimators=200;, score=(train=0.908, test=0.906) total time= 1.2min\n",
      "[CV 5/10] END max_leaf_nodes=75, min_samples_leaf=200, n_estimators=50;, score=(train=0.898, test=0.896) total time=  32.3s\n",
      "[CV 9/10] END max_leaf_nodes=75, min_samples_leaf=200, n_estimators=50;, score=(train=0.900, test=0.897) total time=  22.0s\n",
      "[CV 3/10] END max_leaf_nodes=75, min_samples_leaf=200, n_estimators=100;, score=(train=0.903, test=0.902) total time=  39.6s\n",
      "[CV 7/10] END max_leaf_nodes=75, min_samples_leaf=200, n_estimators=100;, score=(train=0.902, test=0.900) total time=  49.4s\n",
      "[CV 1/10] END max_leaf_nodes=75, min_samples_leaf=200, n_estimators=150;, score=(train=0.905, test=0.907) total time= 1.1min\n",
      "[CV 5/10] END max_leaf_nodes=75, min_samples_leaf=200, n_estimators=150;, score=(train=0.905, test=0.902) total time= 1.0min\n",
      "[CV 9/10] END max_leaf_nodes=75, min_samples_leaf=200, n_estimators=150;, score=(train=0.905, test=0.903) total time=  49.6s\n",
      "[CV 3/10] END max_leaf_nodes=75, min_samples_leaf=200, n_estimators=200;, score=(train=0.905, test=0.904) total time= 1.2min\n",
      "[CV 7/10] END max_leaf_nodes=75, min_samples_leaf=200, n_estimators=200;, score=(train=0.904, test=0.904) total time= 1.2min\n",
      "[CV 1/10] END max_leaf_nodes=100, min_samples_leaf=50, n_estimators=50;, score=(train=0.912, test=0.912) total time=  18.0s\n",
      "[CV 3/10] END max_leaf_nodes=100, min_samples_leaf=50, n_estimators=50;, score=(train=0.913, test=0.910) total time=  17.8s\n",
      "[CV 7/10] END max_leaf_nodes=100, min_samples_leaf=50, n_estimators=50;, score=(train=0.914, test=0.911) total time=  17.6s\n",
      "[CV 1/10] END max_leaf_nodes=100, min_samples_leaf=50, n_estimators=100;, score=(train=0.916, test=0.916) total time=  38.9s\n",
      "[CV 5/10] END max_leaf_nodes=100, min_samples_leaf=50, n_estimators=100;, score=(train=0.917, test=0.910) total time=  35.9s\n",
      "[CV 9/10] END max_leaf_nodes=100, min_samples_leaf=50, n_estimators=100;, score=(train=0.917, test=0.914) total time=  36.6s\n",
      "[CV 3/10] END max_leaf_nodes=100, min_samples_leaf=50, n_estimators=150;, score=(train=0.918, test=0.915) total time=  50.0s\n",
      "[CV 7/10] END max_leaf_nodes=100, min_samples_leaf=50, n_estimators=150;, score=(train=0.918, test=0.915) total time=  49.3s\n",
      "[CV 1/10] END max_leaf_nodes=100, min_samples_leaf=50, n_estimators=200;, score=(train=0.918, test=0.917) total time= 1.1min\n",
      "[CV 5/10] END max_leaf_nodes=100, min_samples_leaf=50, n_estimators=200;, score=(train=0.919, test=0.916) total time= 1.1min\n",
      "[CV 9/10] END max_leaf_nodes=100, min_samples_leaf=50, n_estimators=200;, score=(train=0.918, test=0.916) total time= 1.7min\n",
      "[CV 6/10] END max_leaf_nodes=100, min_samples_leaf=100, n_estimators=50;, score=(train=0.912, test=0.900) total time=  33.8s\n",
      "[CV 10/10] END max_leaf_nodes=100, min_samples_leaf=100, n_estimators=50;, score=(train=0.913, test=0.906) total time=  24.2s\n",
      "[CV 4/10] END max_leaf_nodes=100, min_samples_leaf=100, n_estimators=100;, score=(train=0.916, test=0.908) total time=  48.2s\n",
      "[CV 7/10] END max_leaf_nodes=100, min_samples_leaf=100, n_estimators=100;, score=(train=0.915, test=0.911) total time=  58.4s\n",
      "[CV 2/10] END max_leaf_nodes=100, min_samples_leaf=100, n_estimators=150;, score=(train=0.917, test=0.911) total time= 1.6min\n",
      "[CV 6/10] END max_leaf_nodes=100, min_samples_leaf=100, n_estimators=150;, score=(train=0.917, test=0.906) total time= 1.2min\n",
      "[CV 10/10] END max_leaf_nodes=100, min_samples_leaf=100, n_estimators=150;, score=(train=0.918, test=0.911) total time= 1.3min\n",
      "[CV 4/10] END max_leaf_nodes=100, min_samples_leaf=100, n_estimators=200;, score=(train=0.918, test=0.912) total time= 1.7min\n",
      "[CV 8/10] END max_leaf_nodes=100, min_samples_leaf=100, n_estimators=200;, score=(train=0.918, test=0.911) total time= 1.5min\n",
      "[CV 2/10] END max_leaf_nodes=100, min_samples_leaf=150, n_estimators=50;, score=(train=0.910, test=0.904) total time=  19.7s\n",
      "[CV 4/10] END max_leaf_nodes=100, min_samples_leaf=150, n_estimators=50;, score=(train=0.910, test=0.905) total time=  20.8s\n",
      "[CV 7/10] END max_leaf_nodes=100, min_samples_leaf=150, n_estimators=50;, score=(train=0.907, test=0.907) total time=  18.3s\n",
      "[CV 1/10] END max_leaf_nodes=100, min_samples_leaf=150, n_estimators=100;, score=(train=0.912, test=0.910) total time=  39.9s\n",
      "[CV 5/10] END max_leaf_nodes=100, min_samples_leaf=150, n_estimators=100;, score=(train=0.913, test=0.906) total time=  38.0s\n",
      "[CV 9/10] END max_leaf_nodes=100, min_samples_leaf=150, n_estimators=100;, score=(train=0.913, test=0.910) total time=  58.7s\n",
      "[CV 3/10] END max_leaf_nodes=100, min_samples_leaf=150, n_estimators=150;, score=(train=0.914, test=0.913) total time=  38.9s\n",
      "[CV 7/10] END max_leaf_nodes=100, min_samples_leaf=150, n_estimators=150;, score=(train=0.914, test=0.911) total time=  52.6s\n",
      "[CV 1/10] END max_leaf_nodes=100, min_samples_leaf=150, n_estimators=200;, score=(train=0.914, test=0.912) total time= 1.1min\n",
      "[CV 5/10] END max_leaf_nodes=100, min_samples_leaf=150, n_estimators=200;, score=(train=0.915, test=0.910) total time= 1.4min\n",
      "[CV 9/10] END max_leaf_nodes=100, min_samples_leaf=150, n_estimators=200;, score=(train=0.915, test=0.912) total time= 1.5min\n",
      "[CV 5/10] END max_leaf_nodes=100, min_samples_leaf=200, n_estimators=50;, score=(train=0.904, test=0.903) total time=  23.3s\n",
      "[CV 9/10] END max_leaf_nodes=100, min_samples_leaf=200, n_estimators=50;, score=(train=0.906, test=0.901) total time=  21.9s\n",
      "[CV 3/10] END max_leaf_nodes=100, min_samples_leaf=200, n_estimators=100;, score=(train=0.909, test=0.906) total time=  34.8s\n",
      "[CV 7/10] END max_leaf_nodes=100, min_samples_leaf=200, n_estimators=100;, score=(train=0.908, test=0.905) total time=  35.7s\n",
      "[CV 1/10] END max_leaf_nodes=100, min_samples_leaf=200, n_estimators=150;, score=(train=0.910, test=0.912) total time=  55.3s\n",
      "[CV 5/10] END max_leaf_nodes=100, min_samples_leaf=200, n_estimators=150;, score=(train=0.911, test=0.906) total time=  55.9s\n",
      "[CV 9/10] END max_leaf_nodes=100, min_samples_leaf=200, n_estimators=150;, score=(train=0.912, test=0.907) total time= 1.0min\n",
      "[CV 3/10] END max_leaf_nodes=100, min_samples_leaf=200, n_estimators=200;, score=(train=0.911, test=0.909) total time= 1.2min\n",
      "[CV 7/10] END max_leaf_nodes=100, min_samples_leaf=200, n_estimators=200;, score=(train=0.911, test=0.909) total time= 1.3min\n",
      "[CV 1/10] END max_leaf_nodes=125, min_samples_leaf=50, n_estimators=50;, score=(train=0.920, test=0.918) total time=  33.6s\n",
      "[CV 3/10] END max_leaf_nodes=125, min_samples_leaf=50, n_estimators=50;, score=(train=0.920, test=0.917) total time=  26.6s\n",
      "[CV 7/10] END max_leaf_nodes=125, min_samples_leaf=50, n_estimators=50;, score=(train=0.921, test=0.917) total time=  19.3s\n",
      "[CV 1/10] END max_leaf_nodes=125, min_samples_leaf=50, n_estimators=100;, score=(train=0.923, test=0.921) total time=  43.0s\n",
      "[CV 5/10] END max_leaf_nodes=125, min_samples_leaf=50, n_estimators=100;, score=(train=0.924, test=0.917) total time=  40.8s\n",
      "[CV 9/10] END max_leaf_nodes=125, min_samples_leaf=50, n_estimators=100;, score=(train=0.925, test=0.920) total time=  48.4s\n",
      "[CV 3/10] END max_leaf_nodes=125, min_samples_leaf=50, n_estimators=150;, score=(train=0.925, test=0.920) total time= 1.3min\n",
      "[CV 7/10] END max_leaf_nodes=125, min_samples_leaf=50, n_estimators=150;, score=(train=0.925, test=0.921) total time= 1.2min\n",
      "[CV 1/10] END max_leaf_nodes=125, min_samples_leaf=50, n_estimators=200;, score=(train=0.925, test=0.923) total time= 1.6min\n",
      "[CV 5/10] END max_leaf_nodes=125, min_samples_leaf=50, n_estimators=200;, score=(train=0.925, test=0.922) total time= 1.5min\n",
      "[CV 9/10] END max_leaf_nodes=125, min_samples_leaf=50, n_estimators=200;, score=(train=0.925, test=0.921) total time= 1.7min\n",
      "[CV 6/10] END max_leaf_nodes=125, min_samples_leaf=100, n_estimators=50;, score=(train=0.918, test=0.907) total time=  20.6s\n",
      "[CV 10/10] END max_leaf_nodes=125, min_samples_leaf=100, n_estimators=50;, score=(train=0.919, test=0.912) total time=  21.7s\n",
      "[CV 4/10] END max_leaf_nodes=125, min_samples_leaf=100, n_estimators=100;, score=(train=0.922, test=0.913) total time=  39.7s\n",
      "[CV 8/10] END max_leaf_nodes=125, min_samples_leaf=100, n_estimators=100;, score=(train=0.922, test=0.915) total time=  50.2s\n",
      "[CV 2/10] END max_leaf_nodes=125, min_samples_leaf=100, n_estimators=150;, score=(train=0.923, test=0.919) total time= 1.1min\n",
      "[CV 6/10] END max_leaf_nodes=125, min_samples_leaf=100, n_estimators=150;, score=(train=0.923, test=0.911) total time= 1.1min\n",
      "[CV 10/10] END max_leaf_nodes=125, min_samples_leaf=100, n_estimators=150;, score=(train=0.923, test=0.915) total time=  59.5s\n",
      "[CV 4/10] END max_leaf_nodes=125, min_samples_leaf=100, n_estimators=200;, score=(train=0.924, test=0.917) total time= 1.3min\n",
      "[CV 8/10] END max_leaf_nodes=125, min_samples_leaf=100, n_estimators=200;, score=(train=0.924, test=0.918) total time= 1.6min\n",
      "[CV 2/10] END max_leaf_nodes=125, min_samples_leaf=150, n_estimators=50;, score=(train=0.914, test=0.907) total time=  20.4s\n",
      "[CV 4/10] END max_leaf_nodes=125, min_samples_leaf=150, n_estimators=50;, score=(train=0.915, test=0.909) total time=  19.3s\n",
      "[CV 7/10] END max_leaf_nodes=125, min_samples_leaf=150, n_estimators=50;, score=(train=0.912, test=0.913) total time=  15.5s\n",
      "[CV 1/10] END max_leaf_nodes=125, min_samples_leaf=150, n_estimators=100;, score=(train=0.916, test=0.913) total time=  32.4s\n",
      "[CV 5/10] END max_leaf_nodes=125, min_samples_leaf=150, n_estimators=100;, score=(train=0.917, test=0.910) total time=  31.7s\n",
      "[CV 9/10] END max_leaf_nodes=125, min_samples_leaf=150, n_estimators=100;, score=(train=0.918, test=0.913) total time=  43.2s\n",
      "[CV 3/10] END max_leaf_nodes=125, min_samples_leaf=150, n_estimators=150;, score=(train=0.918, test=0.915) total time=  50.1s\n",
      "[CV 7/10] END max_leaf_nodes=125, min_samples_leaf=150, n_estimators=150;, score=(train=0.918, test=0.915) total time= 1.0min\n",
      "[CV 1/10] END max_leaf_nodes=125, min_samples_leaf=150, n_estimators=200;, score=(train=0.918, test=0.916) total time= 1.3min\n",
      "[CV 5/10] END max_leaf_nodes=125, min_samples_leaf=150, n_estimators=200;, score=(train=0.919, test=0.914) total time= 1.1min\n",
      "[CV 9/10] END max_leaf_nodes=125, min_samples_leaf=150, n_estimators=200;, score=(train=0.918, test=0.915) total time=  58.6s\n",
      "[CV 5/10] END max_leaf_nodes=125, min_samples_leaf=200, n_estimators=50;, score=(train=0.906, test=0.903) total time=  14.7s\n",
      "[CV 9/10] END max_leaf_nodes=125, min_samples_leaf=200, n_estimators=50;, score=(train=0.907, test=0.901) total time=  15.1s\n",
      "[CV 3/10] END max_leaf_nodes=125, min_samples_leaf=200, n_estimators=100;, score=(train=0.910, test=0.907) total time=  30.4s\n",
      "[CV 7/10] END max_leaf_nodes=125, min_samples_leaf=200, n_estimators=100;, score=(train=0.909, test=0.906) total time=  31.4s\n",
      "[CV 1/10] END max_leaf_nodes=125, min_samples_leaf=200, n_estimators=150;, score=(train=0.911, test=0.913) total time=  45.3s\n",
      "[CV 5/10] END max_leaf_nodes=125, min_samples_leaf=200, n_estimators=150;, score=(train=0.912, test=0.907) total time=  53.0s\n",
      "[CV 9/10] END max_leaf_nodes=125, min_samples_leaf=200, n_estimators=150;, score=(train=0.913, test=0.909) total time=  47.8s\n",
      "[CV 3/10] END max_leaf_nodes=125, min_samples_leaf=200, n_estimators=200;, score=(train=0.912, test=0.910) total time= 1.0min\n",
      "[CV 7/10] END max_leaf_nodes=125, min_samples_leaf=200, n_estimators=200;, score=(train=0.912, test=0.910) total time= 1.1min\n",
      "[CV 1/10] END max_leaf_nodes=150, min_samples_leaf=50, n_estimators=50;, score=(train=0.925, test=0.925) total time=  18.2s\n",
      "[CV 3/10] END max_leaf_nodes=150, min_samples_leaf=50, n_estimators=50;, score=(train=0.926, test=0.920) total time=  17.8s\n",
      "[CV 6/10] END max_leaf_nodes=150, min_samples_leaf=50, n_estimators=50;, score=(train=0.925, test=0.914) total time=  17.6s\n",
      "[CV 10/10] END max_leaf_nodes=150, min_samples_leaf=50, n_estimators=50;, score=(train=0.928, test=0.918) total time=  17.1s\n",
      "[CV 4/10] END max_leaf_nodes=150, min_samples_leaf=50, n_estimators=100;, score=(train=0.929, test=0.923) total time=  33.3s\n",
      "[CV 8/10] END max_leaf_nodes=150, min_samples_leaf=50, n_estimators=100;, score=(train=0.930, test=0.922) total time=  34.2s\n",
      "[CV 2/10] END max_leaf_nodes=150, min_samples_leaf=50, n_estimators=150;, score=(train=0.931, test=0.927) total time=  52.7s\n",
      "[CV 6/10] END max_leaf_nodes=150, min_samples_leaf=50, n_estimators=150;, score=(train=0.930, test=0.916) total time=  53.0s\n",
      "[CV 10/10] END max_leaf_nodes=150, min_samples_leaf=50, n_estimators=150;, score=(train=0.931, test=0.923) total time= 1.2min\n",
      "[CV 3/10] END max_leaf_nodes=75, min_samples_leaf=50, n_estimators=50;, score=(train=0.902, test=0.899) total time=  19.7s\n",
      "[CV 5/10] END max_leaf_nodes=75, min_samples_leaf=50, n_estimators=50;, score=(train=0.904, test=0.902) total time=  31.4s\n",
      "[CV 9/10] END max_leaf_nodes=75, min_samples_leaf=50, n_estimators=50;, score=(train=0.903, test=0.903) total time=  18.2s\n",
      "[CV 3/10] END max_leaf_nodes=75, min_samples_leaf=50, n_estimators=100;, score=(train=0.907, test=0.904) total time=  39.1s\n",
      "[CV 7/10] END max_leaf_nodes=75, min_samples_leaf=50, n_estimators=100;, score=(train=0.906, test=0.906) total time=  43.9s\n",
      "[CV 1/10] END max_leaf_nodes=75, min_samples_leaf=50, n_estimators=150;, score=(train=0.908, test=0.906) total time=  55.1s\n",
      "[CV 5/10] END max_leaf_nodes=75, min_samples_leaf=50, n_estimators=150;, score=(train=0.910, test=0.904) total time=  40.1s\n",
      "[CV 9/10] END max_leaf_nodes=75, min_samples_leaf=50, n_estimators=150;, score=(train=0.908, test=0.906) total time=  37.1s\n",
      "[CV 3/10] END max_leaf_nodes=75, min_samples_leaf=50, n_estimators=200;, score=(train=0.908, test=0.906) total time=  49.9s\n",
      "[CV 7/10] END max_leaf_nodes=75, min_samples_leaf=50, n_estimators=200;, score=(train=0.909, test=0.908) total time=  49.2s\n",
      "[CV 1/10] END max_leaf_nodes=75, min_samples_leaf=100, n_estimators=50;, score=(train=0.902, test=0.903) total time=  12.3s\n",
      "[CV 3/10] END max_leaf_nodes=75, min_samples_leaf=100, n_estimators=50;, score=(train=0.902, test=0.898) total time=  12.0s\n",
      "[CV 5/10] END max_leaf_nodes=75, min_samples_leaf=100, n_estimators=50;, score=(train=0.904, test=0.901) total time=  20.9s\n",
      "[CV 9/10] END max_leaf_nodes=75, min_samples_leaf=100, n_estimators=50;, score=(train=0.903, test=0.902) total time=  15.1s\n",
      "[CV 3/10] END max_leaf_nodes=75, min_samples_leaf=100, n_estimators=100;, score=(train=0.906, test=0.903) total time=  35.4s\n",
      "[CV 7/10] END max_leaf_nodes=75, min_samples_leaf=100, n_estimators=100;, score=(train=0.906, test=0.902) total time=  33.5s\n",
      "[CV 1/10] END max_leaf_nodes=75, min_samples_leaf=100, n_estimators=150;, score=(train=0.908, test=0.906) total time=  54.0s\n",
      "[CV 5/10] END max_leaf_nodes=75, min_samples_leaf=100, n_estimators=150;, score=(train=0.910, test=0.906) total time= 1.0min\n",
      "[CV 9/10] END max_leaf_nodes=75, min_samples_leaf=100, n_estimators=150;, score=(train=0.908, test=0.907) total time=  41.6s\n",
      "[CV 3/10] END max_leaf_nodes=75, min_samples_leaf=100, n_estimators=200;, score=(train=0.909, test=0.905) total time=  48.9s\n",
      "[CV 7/10] END max_leaf_nodes=75, min_samples_leaf=100, n_estimators=200;, score=(train=0.908, test=0.907) total time=  50.1s\n",
      "[CV 1/10] END max_leaf_nodes=75, min_samples_leaf=150, n_estimators=50;, score=(train=0.900, test=0.901) total time=  13.2s\n",
      "[CV 3/10] END max_leaf_nodes=75, min_samples_leaf=150, n_estimators=50;, score=(train=0.901, test=0.898) total time=  13.5s\n",
      "[CV 5/10] END max_leaf_nodes=75, min_samples_leaf=150, n_estimators=50;, score=(train=0.900, test=0.897) total time=  22.7s\n",
      "[CV 9/10] END max_leaf_nodes=75, min_samples_leaf=150, n_estimators=50;, score=(train=0.900, test=0.898) total time=  18.0s\n",
      "[CV 4/10] END max_leaf_nodes=75, min_samples_leaf=150, n_estimators=100;, score=(train=0.907, test=0.901) total time=  33.5s\n",
      "[CV 8/10] END max_leaf_nodes=75, min_samples_leaf=150, n_estimators=100;, score=(train=0.905, test=0.898) total time=  34.6s\n",
      "[CV 1/10] END max_leaf_nodes=75, min_samples_leaf=150, n_estimators=150;, score=(train=0.906, test=0.904) total time=  59.2s\n",
      "[CV 5/10] END max_leaf_nodes=75, min_samples_leaf=150, n_estimators=150;, score=(train=0.908, test=0.904) total time=  58.8s\n",
      "[CV 9/10] END max_leaf_nodes=75, min_samples_leaf=150, n_estimators=150;, score=(train=0.907, test=0.904) total time= 1.1min\n",
      "[CV 3/10] END max_leaf_nodes=75, min_samples_leaf=150, n_estimators=200;, score=(train=0.907, test=0.906) total time= 1.3min\n",
      "[CV 7/10] END max_leaf_nodes=75, min_samples_leaf=150, n_estimators=200;, score=(train=0.907, test=0.908) total time= 1.0min\n",
      "[CV 1/10] END max_leaf_nodes=75, min_samples_leaf=200, n_estimators=50;, score=(train=0.898, test=0.900) total time=  15.0s\n",
      "[CV 3/10] END max_leaf_nodes=75, min_samples_leaf=200, n_estimators=50;, score=(train=0.898, test=0.897) total time=  36.1s\n",
      "[CV 7/10] END max_leaf_nodes=75, min_samples_leaf=200, n_estimators=50;, score=(train=0.898, test=0.898) total time=  27.0s\n",
      "[CV 1/10] END max_leaf_nodes=75, min_samples_leaf=200, n_estimators=100;, score=(train=0.903, test=0.904) total time=  41.1s\n",
      "[CV 5/10] END max_leaf_nodes=75, min_samples_leaf=200, n_estimators=100;, score=(train=0.903, test=0.901) total time=  49.8s\n",
      "[CV 9/10] END max_leaf_nodes=75, min_samples_leaf=200, n_estimators=100;, score=(train=0.904, test=0.903) total time=  42.1s\n",
      "[CV 4/10] END max_leaf_nodes=75, min_samples_leaf=200, n_estimators=150;, score=(train=0.906, test=0.899) total time= 1.0min\n",
      "[CV 8/10] END max_leaf_nodes=75, min_samples_leaf=200, n_estimators=150;, score=(train=0.906, test=0.898) total time=  56.7s\n",
      "[CV 1/10] END max_leaf_nodes=75, min_samples_leaf=200, n_estimators=200;, score=(train=0.905, test=0.906) total time= 1.3min\n",
      "[CV 5/10] END max_leaf_nodes=75, min_samples_leaf=200, n_estimators=200;, score=(train=0.905, test=0.901) total time= 1.3min\n",
      "[CV 9/10] END max_leaf_nodes=75, min_samples_leaf=200, n_estimators=200;, score=(train=0.905, test=0.905) total time= 1.0min\n",
      "[CV 5/10] END max_leaf_nodes=100, min_samples_leaf=50, n_estimators=50;, score=(train=0.914, test=0.908) total time=  17.9s\n",
      "[CV 9/10] END max_leaf_nodes=100, min_samples_leaf=50, n_estimators=50;, score=(train=0.914, test=0.913) total time=  18.6s\n",
      "[CV 3/10] END max_leaf_nodes=100, min_samples_leaf=50, n_estimators=100;, score=(train=0.916, test=0.911) total time=  39.0s\n",
      "[CV 7/10] END max_leaf_nodes=100, min_samples_leaf=50, n_estimators=100;, score=(train=0.916, test=0.914) total time=  35.1s\n",
      "[CV 1/10] END max_leaf_nodes=100, min_samples_leaf=50, n_estimators=150;, score=(train=0.918, test=0.917) total time=  54.3s\n",
      "[CV 5/10] END max_leaf_nodes=100, min_samples_leaf=50, n_estimators=150;, score=(train=0.919, test=0.913) total time=  48.8s\n",
      "[CV 9/10] END max_leaf_nodes=100, min_samples_leaf=50, n_estimators=150;, score=(train=0.918, test=0.916) total time=  48.5s\n",
      "[CV 3/10] END max_leaf_nodes=100, min_samples_leaf=50, n_estimators=200;, score=(train=0.919, test=0.914) total time= 1.1min\n",
      "[CV 7/10] END max_leaf_nodes=100, min_samples_leaf=50, n_estimators=200;, score=(train=0.919, test=0.915) total time= 1.1min\n",
      "[CV 1/10] END max_leaf_nodes=100, min_samples_leaf=100, n_estimators=50;, score=(train=0.912, test=0.911) total time=  39.6s\n",
      "[CV 3/10] END max_leaf_nodes=100, min_samples_leaf=100, n_estimators=50;, score=(train=0.911, test=0.908) total time=  21.7s\n",
      "[CV 5/10] END max_leaf_nodes=100, min_samples_leaf=100, n_estimators=50;, score=(train=0.913, test=0.909) total time=  32.0s\n",
      "[CV 9/10] END max_leaf_nodes=100, min_samples_leaf=100, n_estimators=50;, score=(train=0.912, test=0.911) total time=  25.3s\n",
      "[CV 3/10] END max_leaf_nodes=100, min_samples_leaf=100, n_estimators=100;, score=(train=0.915, test=0.909) total time=  48.5s\n",
      "[CV 8/10] END max_leaf_nodes=100, min_samples_leaf=100, n_estimators=100;, score=(train=0.915, test=0.907) total time=  58.1s\n",
      "[CV 1/10] END max_leaf_nodes=100, min_samples_leaf=100, n_estimators=150;, score=(train=0.918, test=0.914) total time= 1.6min\n",
      "[CV 5/10] END max_leaf_nodes=100, min_samples_leaf=100, n_estimators=150;, score=(train=0.918, test=0.914) total time= 1.2min\n",
      "[CV 9/10] END max_leaf_nodes=100, min_samples_leaf=100, n_estimators=150;, score=(train=0.917, test=0.913) total time= 1.3min\n",
      "[CV 3/10] END max_leaf_nodes=100, min_samples_leaf=100, n_estimators=200;, score=(train=0.917, test=0.913) total time= 1.7min\n",
      "[CV 7/10] END max_leaf_nodes=100, min_samples_leaf=100, n_estimators=200;, score=(train=0.917, test=0.915) total time= 1.5min\n",
      "[CV 1/10] END max_leaf_nodes=100, min_samples_leaf=150, n_estimators=50;, score=(train=0.909, test=0.905) total time=  19.5s\n",
      "[CV 3/10] END max_leaf_nodes=100, min_samples_leaf=150, n_estimators=50;, score=(train=0.910, test=0.905) total time=  20.9s\n",
      "[CV 6/10] END max_leaf_nodes=100, min_samples_leaf=150, n_estimators=50;, score=(train=0.909, test=0.900) total time=  18.6s\n",
      "[CV 10/10] END max_leaf_nodes=100, min_samples_leaf=150, n_estimators=50;, score=(train=0.911, test=0.906) total time=  21.3s\n",
      "[CV 4/10] END max_leaf_nodes=100, min_samples_leaf=150, n_estimators=100;, score=(train=0.914, test=0.908) total time=  36.7s\n",
      "[CV 8/10] END max_leaf_nodes=100, min_samples_leaf=150, n_estimators=100;, score=(train=0.913, test=0.908) total time=  46.1s\n",
      "[CV 2/10] END max_leaf_nodes=100, min_samples_leaf=150, n_estimators=150;, score=(train=0.916, test=0.910) total time=  58.2s\n",
      "[CV 6/10] END max_leaf_nodes=100, min_samples_leaf=150, n_estimators=150;, score=(train=0.915, test=0.902) total time=  46.8s\n",
      "[CV 10/10] END max_leaf_nodes=100, min_samples_leaf=150, n_estimators=150;, score=(train=0.916, test=0.909) total time=  52.4s\n",
      "[CV 4/10] END max_leaf_nodes=100, min_samples_leaf=150, n_estimators=200;, score=(train=0.916, test=0.911) total time= 1.2min\n",
      "[CV 8/10] END max_leaf_nodes=100, min_samples_leaf=150, n_estimators=200;, score=(train=0.915, test=0.908) total time= 1.4min\n",
      "[CV 2/10] END max_leaf_nodes=100, min_samples_leaf=200, n_estimators=50;, score=(train=0.904, test=0.900) total time=  21.5s\n",
      "[CV 4/10] END max_leaf_nodes=100, min_samples_leaf=200, n_estimators=50;, score=(train=0.905, test=0.895) total time=  29.4s\n",
      "[CV 7/10] END max_leaf_nodes=100, min_samples_leaf=200, n_estimators=50;, score=(train=0.904, test=0.903) total time=  20.6s\n",
      "[CV 1/10] END max_leaf_nodes=100, min_samples_leaf=200, n_estimators=100;, score=(train=0.909, test=0.909) total time=  37.5s\n",
      "[CV 5/10] END max_leaf_nodes=100, min_samples_leaf=200, n_estimators=100;, score=(train=0.909, test=0.905) total time=  36.4s\n",
      "[CV 9/10] END max_leaf_nodes=100, min_samples_leaf=200, n_estimators=100;, score=(train=0.910, test=0.907) total time=  33.9s\n",
      "[CV 3/10] END max_leaf_nodes=100, min_samples_leaf=200, n_estimators=150;, score=(train=0.910, test=0.910) total time=  59.6s\n",
      "[CV 7/10] END max_leaf_nodes=100, min_samples_leaf=200, n_estimators=150;, score=(train=0.910, test=0.909) total time= 1.0min\n",
      "[CV 2/10] END max_leaf_nodes=100, min_samples_leaf=200, n_estimators=200;, score=(train=0.911, test=0.908) total time= 1.2min\n",
      "[CV 6/10] END max_leaf_nodes=100, min_samples_leaf=200, n_estimators=200;, score=(train=0.911, test=0.899) total time= 1.2min\n",
      "[CV 10/10] END max_leaf_nodes=100, min_samples_leaf=200, n_estimators=200;, score=(train=0.911, test=0.904) total time= 1.6min\n",
      "[CV 6/10] END max_leaf_nodes=125, min_samples_leaf=50, n_estimators=50;, score=(train=0.920, test=0.907) total time=  20.3s\n",
      "[CV 10/10] END max_leaf_nodes=125, min_samples_leaf=50, n_estimators=50;, score=(train=0.923, test=0.914) total time=  18.6s\n",
      "[CV 4/10] END max_leaf_nodes=125, min_samples_leaf=50, n_estimators=100;, score=(train=0.925, test=0.918) total time=  43.3s\n",
      "[CV 8/10] END max_leaf_nodes=125, min_samples_leaf=50, n_estimators=100;, score=(train=0.924, test=0.918) total time=  43.6s\n",
      "[CV 2/10] END max_leaf_nodes=125, min_samples_leaf=50, n_estimators=150;, score=(train=0.926, test=0.922) total time= 1.3min\n",
      "[CV 6/10] END max_leaf_nodes=125, min_samples_leaf=50, n_estimators=150;, score=(train=0.925, test=0.912) total time= 1.1min\n",
      "[CV 10/10] END max_leaf_nodes=125, min_samples_leaf=50, n_estimators=150;, score=(train=0.926, test=0.919) total time= 1.2min\n",
      "[CV 4/10] END max_leaf_nodes=125, min_samples_leaf=50, n_estimators=200;, score=(train=0.926, test=0.918) total time= 1.6min\n",
      "[CV 8/10] END max_leaf_nodes=125, min_samples_leaf=50, n_estimators=200;, score=(train=0.926, test=0.919) total time= 1.5min\n",
      "[CV 2/10] END max_leaf_nodes=125, min_samples_leaf=100, n_estimators=50;, score=(train=0.918, test=0.913) total time=  32.2s\n",
      "[CV 4/10] END max_leaf_nodes=125, min_samples_leaf=100, n_estimators=50;, score=(train=0.918, test=0.912) total time=  19.6s\n",
      "[CV 7/10] END max_leaf_nodes=125, min_samples_leaf=100, n_estimators=50;, score=(train=0.918, test=0.913) total time=  20.5s\n",
      "[CV 1/10] END max_leaf_nodes=125, min_samples_leaf=100, n_estimators=100;, score=(train=0.921, test=0.920) total time=  41.9s\n",
      "[CV 5/10] END max_leaf_nodes=125, min_samples_leaf=100, n_estimators=100;, score=(train=0.922, test=0.913) total time=  37.3s\n",
      "[CV 9/10] END max_leaf_nodes=125, min_samples_leaf=100, n_estimators=100;, score=(train=0.921, test=0.919) total time=  54.2s\n",
      "[CV 3/10] END max_leaf_nodes=125, min_samples_leaf=100, n_estimators=150;, score=(train=0.923, test=0.918) total time= 1.1min\n",
      "[CV 7/10] END max_leaf_nodes=125, min_samples_leaf=100, n_estimators=150;, score=(train=0.923, test=0.918) total time= 1.1min\n",
      "[CV 1/10] END max_leaf_nodes=125, min_samples_leaf=100, n_estimators=200;, score=(train=0.923, test=0.921) total time= 1.3min\n",
      "[CV 5/10] END max_leaf_nodes=125, min_samples_leaf=100, n_estimators=200;, score=(train=0.923, test=0.919) total time= 1.5min\n",
      "[CV 9/10] END max_leaf_nodes=125, min_samples_leaf=100, n_estimators=200;, score=(train=0.922, test=0.920) total time= 1.3min\n",
      "[CV 5/10] END max_leaf_nodes=125, min_samples_leaf=150, n_estimators=50;, score=(train=0.913, test=0.907) total time=  15.7s\n",
      "[CV 9/10] END max_leaf_nodes=125, min_samples_leaf=150, n_estimators=50;, score=(train=0.913, test=0.909) total time=  16.7s\n",
      "[CV 3/10] END max_leaf_nodes=125, min_samples_leaf=150, n_estimators=100;, score=(train=0.918, test=0.914) total time=  30.2s\n",
      "[CV 7/10] END max_leaf_nodes=125, min_samples_leaf=150, n_estimators=100;, score=(train=0.915, test=0.911) total time=  32.9s\n",
      "[CV 1/10] END max_leaf_nodes=125, min_samples_leaf=150, n_estimators=150;, score=(train=0.918, test=0.914) total time= 1.1min\n",
      "[CV 5/10] END max_leaf_nodes=125, min_samples_leaf=150, n_estimators=150;, score=(train=0.919, test=0.914) total time= 1.0min\n",
      "[CV 9/10] END max_leaf_nodes=125, min_samples_leaf=150, n_estimators=150;, score=(train=0.918, test=0.915) total time=  50.7s\n",
      "[CV 3/10] END max_leaf_nodes=125, min_samples_leaf=150, n_estimators=200;, score=(train=0.918, test=0.916) total time= 1.4min\n",
      "[CV 7/10] END max_leaf_nodes=125, min_samples_leaf=150, n_estimators=200;, score=(train=0.918, test=0.914) total time=  59.4s\n",
      "[CV 1/10] END max_leaf_nodes=125, min_samples_leaf=200, n_estimators=50;, score=(train=0.906, test=0.906) total time=  15.7s\n",
      "[CV 3/10] END max_leaf_nodes=125, min_samples_leaf=200, n_estimators=50;, score=(train=0.906, test=0.903) total time=  14.9s\n",
      "[CV 6/10] END max_leaf_nodes=125, min_samples_leaf=200, n_estimators=50;, score=(train=0.905, test=0.894) total time=  14.9s\n",
      "[CV 10/10] END max_leaf_nodes=125, min_samples_leaf=200, n_estimators=50;, score=(train=0.908, test=0.901) total time=  14.8s\n",
      "[CV 4/10] END max_leaf_nodes=125, min_samples_leaf=200, n_estimators=100;, score=(train=0.910, test=0.903) total time=  30.4s\n",
      "[CV 8/10] END max_leaf_nodes=125, min_samples_leaf=200, n_estimators=100;, score=(train=0.911, test=0.905) total time=  32.2s\n",
      "[CV 2/10] END max_leaf_nodes=125, min_samples_leaf=200, n_estimators=150;, score=(train=0.912, test=0.908) total time=  46.8s\n",
      "[CV 6/10] END max_leaf_nodes=125, min_samples_leaf=200, n_estimators=150;, score=(train=0.912, test=0.900) total time=  53.2s\n",
      "[CV 10/10] END max_leaf_nodes=125, min_samples_leaf=200, n_estimators=150;, score=(train=0.913, test=0.906) total time=  47.4s\n",
      "[CV 4/10] END max_leaf_nodes=125, min_samples_leaf=200, n_estimators=200;, score=(train=0.912, test=0.906) total time= 1.0min\n",
      "[CV 8/10] END max_leaf_nodes=125, min_samples_leaf=200, n_estimators=200;, score=(train=0.912, test=0.906) total time= 1.1min\n",
      "[CV 2/10] END max_leaf_nodes=150, min_samples_leaf=50, n_estimators=50;, score=(train=0.927, test=0.922) total time=  18.3s\n",
      "[CV 4/10] END max_leaf_nodes=150, min_samples_leaf=50, n_estimators=50;, score=(train=0.927, test=0.918) total time=  17.3s\n",
      "[CV 8/10] END max_leaf_nodes=150, min_samples_leaf=50, n_estimators=50;, score=(train=0.927, test=0.916) total time=  17.4s\n",
      "[CV 2/10] END max_leaf_nodes=150, min_samples_leaf=50, n_estimators=100;, score=(train=0.930, test=0.925) total time=  33.3s\n",
      "[CV 6/10] END max_leaf_nodes=150, min_samples_leaf=50, n_estimators=100;, score=(train=0.928, test=0.915) total time=  33.9s\n",
      "[CV 4/10] END max_leaf_nodes=75, min_samples_leaf=50, n_estimators=50;, score=(train=0.904, test=0.900) total time=  19.9s\n",
      "[CV 7/10] END max_leaf_nodes=75, min_samples_leaf=50, n_estimators=50;, score=(train=0.901, test=0.901) total time=  31.7s\n",
      "[CV 2/10] END max_leaf_nodes=75, min_samples_leaf=50, n_estimators=100;, score=(train=0.908, test=0.903) total time=  38.3s\n",
      "[CV 6/10] END max_leaf_nodes=75, min_samples_leaf=50, n_estimators=100;, score=(train=0.906, test=0.897) total time=  43.6s\n",
      "[CV 10/10] END max_leaf_nodes=75, min_samples_leaf=50, n_estimators=100;, score=(train=0.909, test=0.903) total time=  36.7s\n",
      "[CV 4/10] END max_leaf_nodes=75, min_samples_leaf=50, n_estimators=150;, score=(train=0.910, test=0.906) total time=  55.0s\n",
      "[CV 8/10] END max_leaf_nodes=75, min_samples_leaf=50, n_estimators=150;, score=(train=0.910, test=0.900) total time=  36.7s\n",
      "[CV 1/10] END max_leaf_nodes=75, min_samples_leaf=50, n_estimators=200;, score=(train=0.909, test=0.909) total time=  47.8s\n",
      "[CV 5/10] END max_leaf_nodes=75, min_samples_leaf=50, n_estimators=200;, score=(train=0.910, test=0.904) total time=  49.6s\n",
      "[CV 9/10] END max_leaf_nodes=75, min_samples_leaf=50, n_estimators=200;, score=(train=0.908, test=0.905) total time=  47.4s\n",
      "[CV 7/10] END max_leaf_nodes=75, min_samples_leaf=100, n_estimators=50;, score=(train=0.902, test=0.902) total time=  21.5s\n",
      "[CV 1/10] END max_leaf_nodes=75, min_samples_leaf=100, n_estimators=100;, score=(train=0.906, test=0.905) total time=  30.3s\n",
      "[CV 5/10] END max_leaf_nodes=75, min_samples_leaf=100, n_estimators=100;, score=(train=0.907, test=0.903) total time=  32.2s\n",
      "[CV 9/10] END max_leaf_nodes=75, min_samples_leaf=100, n_estimators=100;, score=(train=0.907, test=0.907) total time=  38.4s\n",
      "[CV 3/10] END max_leaf_nodes=75, min_samples_leaf=100, n_estimators=150;, score=(train=0.909, test=0.905) total time=  56.1s\n",
      "[CV 7/10] END max_leaf_nodes=75, min_samples_leaf=100, n_estimators=150;, score=(train=0.908, test=0.908) total time=  51.5s\n",
      "[CV 1/10] END max_leaf_nodes=75, min_samples_leaf=100, n_estimators=200;, score=(train=0.909, test=0.905) total time=  53.2s\n",
      "[CV 5/10] END max_leaf_nodes=75, min_samples_leaf=100, n_estimators=200;, score=(train=0.909, test=0.906) total time=  47.1s\n",
      "[CV 9/10] END max_leaf_nodes=75, min_samples_leaf=100, n_estimators=200;, score=(train=0.908, test=0.907) total time=  53.1s\n",
      "[CV 6/10] END max_leaf_nodes=75, min_samples_leaf=150, n_estimators=50;, score=(train=0.901, test=0.894) total time=  23.1s\n",
      "[CV 10/10] END max_leaf_nodes=75, min_samples_leaf=150, n_estimators=50;, score=(train=0.903, test=0.901) total time=  18.0s\n",
      "[CV 3/10] END max_leaf_nodes=75, min_samples_leaf=150, n_estimators=100;, score=(train=0.905, test=0.905) total time=  33.2s\n",
      "[CV 7/10] END max_leaf_nodes=75, min_samples_leaf=150, n_estimators=100;, score=(train=0.904, test=0.903) total time=  34.7s\n",
      "[CV 2/10] END max_leaf_nodes=75, min_samples_leaf=150, n_estimators=150;, score=(train=0.908, test=0.903) total time=  59.2s\n",
      "[CV 6/10] END max_leaf_nodes=75, min_samples_leaf=150, n_estimators=150;, score=(train=0.906, test=0.896) total time=  58.9s\n",
      "[CV 10/10] END max_leaf_nodes=75, min_samples_leaf=150, n_estimators=150;, score=(train=0.908, test=0.904) total time= 1.1min\n",
      "[CV 4/10] END max_leaf_nodes=75, min_samples_leaf=150, n_estimators=200;, score=(train=0.908, test=0.903) total time= 1.3min\n",
      "[CV 8/10] END max_leaf_nodes=75, min_samples_leaf=150, n_estimators=200;, score=(train=0.907, test=0.899) total time= 1.0min\n",
      "[CV 2/10] END max_leaf_nodes=75, min_samples_leaf=200, n_estimators=50;, score=(train=0.897, test=0.895) total time=  15.3s\n",
      "[CV 4/10] END max_leaf_nodes=75, min_samples_leaf=200, n_estimators=50;, score=(train=0.900, test=0.888) total time=  36.6s\n",
      "[CV 8/10] END max_leaf_nodes=75, min_samples_leaf=200, n_estimators=50;, score=(train=0.901, test=0.895) total time=  26.6s\n",
      "[CV 2/10] END max_leaf_nodes=75, min_samples_leaf=200, n_estimators=100;, score=(train=0.903, test=0.897) total time=  41.3s\n",
      "[CV 6/10] END max_leaf_nodes=75, min_samples_leaf=200, n_estimators=100;, score=(train=0.902, test=0.892) total time=  50.3s\n",
      "[CV 10/10] END max_leaf_nodes=75, min_samples_leaf=200, n_estimators=100;, score=(train=0.904, test=0.899) total time=  41.7s\n",
      "[CV 3/10] END max_leaf_nodes=75, min_samples_leaf=200, n_estimators=150;, score=(train=0.905, test=0.905) total time= 1.0min\n",
      "[CV 7/10] END max_leaf_nodes=75, min_samples_leaf=200, n_estimators=150;, score=(train=0.905, test=0.905) total time=  57.2s\n",
      "[CV 2/10] END max_leaf_nodes=75, min_samples_leaf=200, n_estimators=200;, score=(train=0.905, test=0.899) total time= 1.3min\n",
      "[CV 6/10] END max_leaf_nodes=75, min_samples_leaf=200, n_estimators=200;, score=(train=0.905, test=0.895) total time= 1.3min\n",
      "[CV 10/10] END max_leaf_nodes=75, min_samples_leaf=200, n_estimators=200;, score=(train=0.905, test=0.899) total time= 1.0min\n",
      "[CV 6/10] END max_leaf_nodes=100, min_samples_leaf=50, n_estimators=50;, score=(train=0.913, test=0.901) total time=  18.0s\n",
      "[CV 10/10] END max_leaf_nodes=100, min_samples_leaf=50, n_estimators=50;, score=(train=0.916, test=0.907) total time=  18.6s\n",
      "[CV 4/10] END max_leaf_nodes=100, min_samples_leaf=50, n_estimators=100;, score=(train=0.918, test=0.912) total time=  39.1s\n",
      "[CV 8/10] END max_leaf_nodes=100, min_samples_leaf=50, n_estimators=100;, score=(train=0.917, test=0.910) total time=  35.0s\n",
      "[CV 2/10] END max_leaf_nodes=100, min_samples_leaf=50, n_estimators=150;, score=(train=0.920, test=0.916) total time=  54.5s\n",
      "[CV 6/10] END max_leaf_nodes=100, min_samples_leaf=50, n_estimators=150;, score=(train=0.918, test=0.909) total time=  49.8s\n",
      "[CV 10/10] END max_leaf_nodes=100, min_samples_leaf=50, n_estimators=150;, score=(train=0.919, test=0.912) total time=  48.5s\n",
      "[CV 4/10] END max_leaf_nodes=100, min_samples_leaf=50, n_estimators=200;, score=(train=0.919, test=0.914) total time= 1.1min\n",
      "[CV 8/10] END max_leaf_nodes=100, min_samples_leaf=50, n_estimators=200;, score=(train=0.919, test=0.912) total time= 1.2min\n",
      "[CV 2/10] END max_leaf_nodes=100, min_samples_leaf=100, n_estimators=50;, score=(train=0.912, test=0.907) total time=  37.7s\n",
      "[CV 4/10] END max_leaf_nodes=100, min_samples_leaf=100, n_estimators=50;, score=(train=0.912, test=0.906) total time=  21.3s\n",
      "[CV 7/10] END max_leaf_nodes=100, min_samples_leaf=100, n_estimators=50;, score=(train=0.911, test=0.907) total time=  33.8s\n",
      "[CV 1/10] END max_leaf_nodes=100, min_samples_leaf=100, n_estimators=100;, score=(train=0.916, test=0.914) total time=  45.0s\n",
      "[CV 5/10] END max_leaf_nodes=100, min_samples_leaf=100, n_estimators=100;, score=(train=0.916, test=0.910) total time= 1.0min\n",
      "[CV 9/10] END max_leaf_nodes=100, min_samples_leaf=100, n_estimators=100;, score=(train=0.916, test=0.915) total time=  56.7s\n",
      "[CV 3/10] END max_leaf_nodes=100, min_samples_leaf=100, n_estimators=150;, score=(train=0.916, test=0.913) total time= 1.4min\n",
      "[CV 7/10] END max_leaf_nodes=100, min_samples_leaf=100, n_estimators=150;, score=(train=0.917, test=0.914) total time= 1.3min\n",
      "[CV 1/10] END max_leaf_nodes=100, min_samples_leaf=100, n_estimators=200;, score=(train=0.918, test=0.915) total time= 1.8min\n",
      "[CV 5/10] END max_leaf_nodes=100, min_samples_leaf=100, n_estimators=200;, score=(train=0.918, test=0.914) total time= 1.7min\n",
      "[CV 9/10] END max_leaf_nodes=100, min_samples_leaf=100, n_estimators=200;, score=(train=0.917, test=0.916) total time= 1.4min\n",
      "[CV 5/10] END max_leaf_nodes=100, min_samples_leaf=150, n_estimators=50;, score=(train=0.908, test=0.903) total time=  18.6s\n",
      "[CV 9/10] END max_leaf_nodes=100, min_samples_leaf=150, n_estimators=50;, score=(train=0.909, test=0.904) total time=  21.2s\n",
      "[CV 3/10] END max_leaf_nodes=100, min_samples_leaf=150, n_estimators=100;, score=(train=0.913, test=0.911) total time=  36.7s\n",
      "[CV 7/10] END max_leaf_nodes=100, min_samples_leaf=150, n_estimators=100;, score=(train=0.912, test=0.908) total time=  46.0s\n",
      "[CV 1/10] END max_leaf_nodes=100, min_samples_leaf=150, n_estimators=150;, score=(train=0.913, test=0.911) total time=  58.2s\n",
      "[CV 5/10] END max_leaf_nodes=100, min_samples_leaf=150, n_estimators=150;, score=(train=0.915, test=0.910) total time=  46.3s\n",
      "[CV 9/10] END max_leaf_nodes=100, min_samples_leaf=150, n_estimators=150;, score=(train=0.914, test=0.912) total time=  52.0s\n",
      "[CV 3/10] END max_leaf_nodes=100, min_samples_leaf=150, n_estimators=200;, score=(train=0.915, test=0.914) total time= 1.2min\n",
      "[CV 7/10] END max_leaf_nodes=100, min_samples_leaf=150, n_estimators=200;, score=(train=0.914, test=0.911) total time= 1.4min\n",
      "[CV 1/10] END max_leaf_nodes=100, min_samples_leaf=200, n_estimators=50;, score=(train=0.905, test=0.904) total time=  21.6s\n",
      "[CV 3/10] END max_leaf_nodes=100, min_samples_leaf=200, n_estimators=50;, score=(train=0.904, test=0.902) total time=  28.5s\n",
      "[CV 6/10] END max_leaf_nodes=100, min_samples_leaf=200, n_estimators=50;, score=(train=0.904, test=0.892) total time=  21.5s\n",
      "[CV 10/10] END max_leaf_nodes=100, min_samples_leaf=200, n_estimators=50;, score=(train=0.907, test=0.901) total time=  22.9s\n",
      "[CV 4/10] END max_leaf_nodes=100, min_samples_leaf=200, n_estimators=100;, score=(train=0.909, test=0.903) total time=  35.6s\n",
      "[CV 8/10] END max_leaf_nodes=100, min_samples_leaf=200, n_estimators=100;, score=(train=0.910, test=0.904) total time=  35.8s\n",
      "[CV 2/10] END max_leaf_nodes=100, min_samples_leaf=200, n_estimators=150;, score=(train=0.911, test=0.907) total time=  55.4s\n",
      "[CV 6/10] END max_leaf_nodes=100, min_samples_leaf=200, n_estimators=150;, score=(train=0.911, test=0.899) total time=  54.9s\n",
      "[CV 10/10] END max_leaf_nodes=100, min_samples_leaf=200, n_estimators=150;, score=(train=0.912, test=0.905) total time= 1.0min\n",
      "[CV 4/10] END max_leaf_nodes=100, min_samples_leaf=200, n_estimators=200;, score=(train=0.911, test=0.905) total time= 1.2min\n",
      "[CV 8/10] END max_leaf_nodes=100, min_samples_leaf=200, n_estimators=200;, score=(train=0.911, test=0.906) total time= 1.3min\n",
      "[CV 2/10] END max_leaf_nodes=125, min_samples_leaf=50, n_estimators=50;, score=(train=0.921, test=0.917) total time=  33.8s\n",
      "[CV 4/10] END max_leaf_nodes=125, min_samples_leaf=50, n_estimators=50;, score=(train=0.921, test=0.913) total time=  26.4s\n",
      "[CV 8/10] END max_leaf_nodes=125, min_samples_leaf=50, n_estimators=50;, score=(train=0.922, test=0.914) total time=  19.1s\n",
      "[CV 2/10] END max_leaf_nodes=125, min_samples_leaf=50, n_estimators=100;, score=(train=0.926, test=0.920) total time=  42.7s\n",
      "[CV 6/10] END max_leaf_nodes=125, min_samples_leaf=50, n_estimators=100;, score=(train=0.923, test=0.912) total time=  40.7s\n",
      "[CV 10/10] END max_leaf_nodes=125, min_samples_leaf=50, n_estimators=100;, score=(train=0.926, test=0.918) total time=  49.7s\n",
      "[CV 4/10] END max_leaf_nodes=125, min_samples_leaf=50, n_estimators=150;, score=(train=0.926, test=0.918) total time= 1.3min\n",
      "[CV 8/10] END max_leaf_nodes=125, min_samples_leaf=50, n_estimators=150;, score=(train=0.925, test=0.918) total time= 1.2min\n",
      "[CV 2/10] END max_leaf_nodes=125, min_samples_leaf=50, n_estimators=200;, score=(train=0.926, test=0.922) total time= 1.6min\n",
      "[CV 6/10] END max_leaf_nodes=125, min_samples_leaf=50, n_estimators=200;, score=(train=0.925, test=0.914) total time= 1.5min\n",
      "[CV 10/10] END max_leaf_nodes=125, min_samples_leaf=50, n_estimators=200;, score=(train=0.926, test=0.917) total time= 1.7min\n",
      "[CV 8/10] END max_leaf_nodes=125, min_samples_leaf=100, n_estimators=50;, score=(train=0.918, test=0.912) total time=  20.1s\n",
      "[CV 2/10] END max_leaf_nodes=125, min_samples_leaf=100, n_estimators=100;, score=(train=0.921, test=0.916) total time=  42.7s\n",
      "[CV 6/10] END max_leaf_nodes=125, min_samples_leaf=100, n_estimators=100;, score=(train=0.920, test=0.909) total time=  37.2s\n",
      "[CV 10/10] END max_leaf_nodes=125, min_samples_leaf=100, n_estimators=100;, score=(train=0.922, test=0.914) total time=  51.3s\n",
      "[CV 4/10] END max_leaf_nodes=125, min_samples_leaf=100, n_estimators=150;, score=(train=0.923, test=0.917) total time= 1.1min\n",
      "[CV 8/10] END max_leaf_nodes=125, min_samples_leaf=100, n_estimators=150;, score=(train=0.924, test=0.918) total time= 1.1min\n",
      "[CV 2/10] END max_leaf_nodes=125, min_samples_leaf=100, n_estimators=200;, score=(train=0.923, test=0.918) total time= 1.3min\n",
      "[CV 6/10] END max_leaf_nodes=125, min_samples_leaf=100, n_estimators=200;, score=(train=0.923, test=0.913) total time= 1.5min\n",
      "[CV 10/10] END max_leaf_nodes=125, min_samples_leaf=100, n_estimators=200;, score=(train=0.923, test=0.914) total time= 1.3min\n",
      "[CV 8/10] END max_leaf_nodes=125, min_samples_leaf=150, n_estimators=50;, score=(train=0.914, test=0.906) total time=  15.4s\n",
      "[CV 2/10] END max_leaf_nodes=125, min_samples_leaf=150, n_estimators=100;, score=(train=0.917, test=0.911) total time=  32.6s\n",
      "[CV 6/10] END max_leaf_nodes=125, min_samples_leaf=150, n_estimators=100;, score=(train=0.917, test=0.906) total time=  32.3s\n",
      "[CV 10/10] END max_leaf_nodes=125, min_samples_leaf=150, n_estimators=100;, score=(train=0.919, test=0.913) total time=  45.4s\n",
      "[CV 4/10] END max_leaf_nodes=125, min_samples_leaf=150, n_estimators=150;, score=(train=0.920, test=0.914) total time=  49.4s\n",
      "[CV 8/10] END max_leaf_nodes=125, min_samples_leaf=150, n_estimators=150;, score=(train=0.919, test=0.911) total time=  59.1s\n",
      "[CV 2/10] END max_leaf_nodes=125, min_samples_leaf=150, n_estimators=200;, score=(train=0.919, test=0.914) total time= 1.3min\n",
      "[CV 6/10] END max_leaf_nodes=125, min_samples_leaf=150, n_estimators=200;, score=(train=0.919, test=0.907) total time= 1.1min\n",
      "[CV 10/10] END max_leaf_nodes=125, min_samples_leaf=150, n_estimators=200;, score=(train=0.919, test=0.912) total time=  58.7s\n",
      "[CV 7/10] END max_leaf_nodes=125, min_samples_leaf=200, n_estimators=50;, score=(train=0.905, test=0.905) total time=  14.9s\n",
      "[CV 1/10] END max_leaf_nodes=125, min_samples_leaf=200, n_estimators=100;, score=(train=0.910, test=0.910) total time=  30.0s\n",
      "[CV 5/10] END max_leaf_nodes=125, min_samples_leaf=200, n_estimators=100;, score=(train=0.910, test=0.907) total time=  29.3s\n",
      "[CV 9/10] END max_leaf_nodes=125, min_samples_leaf=200, n_estimators=100;, score=(train=0.911, test=0.907) total time=  33.0s\n",
      "[CV 3/10] END max_leaf_nodes=125, min_samples_leaf=200, n_estimators=150;, score=(train=0.911, test=0.910) total time=  51.9s\n",
      "[CV 7/10] END max_leaf_nodes=125, min_samples_leaf=200, n_estimators=150;, score=(train=0.911, test=0.910) total time=  49.3s\n",
      "[CV 1/10] END max_leaf_nodes=125, min_samples_leaf=200, n_estimators=200;, score=(train=0.912, test=0.912) total time= 1.0min\n",
      "[CV 5/10] END max_leaf_nodes=125, min_samples_leaf=200, n_estimators=200;, score=(train=0.912, test=0.908) total time= 1.0min\n",
      "[CV 9/10] END max_leaf_nodes=125, min_samples_leaf=200, n_estimators=200;, score=(train=0.912, test=0.910) total time= 1.0min\n",
      "[CV 5/10] END max_leaf_nodes=150, min_samples_leaf=50, n_estimators=50;, score=(train=0.926, test=0.918) total time=  17.2s\n",
      "[CV 9/10] END max_leaf_nodes=150, min_samples_leaf=50, n_estimators=50;, score=(train=0.927, test=0.924) total time=  17.1s\n",
      "[CV 3/10] END max_leaf_nodes=150, min_samples_leaf=50, n_estimators=100;, score=(train=0.928, test=0.923) total time=  33.3s\n",
      "[CV 7/10] END max_leaf_nodes=150, min_samples_leaf=50, n_estimators=100;, score=(train=0.928, test=0.922) total time=  34.2s\n",
      "[CV 1/10] END max_leaf_nodes=150, min_samples_leaf=50, n_estimators=150;, score=(train=0.929, test=0.927) total time=  52.7s\n",
      "[CV 5/10] END max_leaf_nodes=150, min_samples_leaf=50, n_estimators=150;, score=(train=0.930, test=0.923) total time=  51.6s\n",
      "[CV 9/10] END max_leaf_nodes=150, min_samples_leaf=50, n_estimators=150;, score=(train=0.929, test=0.927) total time= 1.2min\n",
      "[CV 3/10] END max_leaf_nodes=150, min_samples_leaf=50, n_estimators=200;, score=(train=0.930, test=0.924) total time= 1.9min\n",
      "[CV 7/10] END max_leaf_nodes=150, min_samples_leaf=50, n_estimators=200;, score=(train=0.931, test=0.924) total time= 1.8min\n",
      "[CV 1/10] END max_leaf_nodes=150, min_samples_leaf=100, n_estimators=50;, score=(train=0.922, test=0.921) total time=  24.8s\n",
      "[CV 3/10] END max_leaf_nodes=150, min_samples_leaf=100, n_estimators=50;, score=(train=0.922, test=0.916) total time=  22.1s\n",
      "[CV 5/10] END max_leaf_nodes=150, min_samples_leaf=100, n_estimators=50;, score=(train=0.923, test=0.917) total time=  18.1s\n",
      "[CV 9/10] END max_leaf_nodes=150, min_samples_leaf=100, n_estimators=50;, score=(train=0.923, test=0.916) total time=  28.2s\n",
      "--- 9806.131598711014 seconds ---\n",
      "Best Score: 0.927\n",
      "Best Params:  {'max_leaf_nodes': 175, 'min_samples_leaf': 50, 'n_estimators': 200}\n"
     ]
    }
   ],
   "source": [
    "import time\n",
    "\n",
    "# automatic parameters tuning\n",
    "rfclsf=RandomForestClassifier(random_state=28)\n",
    "properties={\n",
    "    \"n_estimators\": [x for x in range(50,201,50)],\n",
    "    \"min_samples_leaf\": [x for x in range(50,201,50)],\n",
    "    \"max_leaf_nodes\": [x for x in range(75,176,25)]\n",
    "}\n",
    "\n",
    "start_time = time.time()\n",
    "tuned_rfclsf=GridSearchCV(rfclsf,properties,scoring=\"accuracy\",cv=10,return_train_score=True,verbose=5,n_jobs=4)\n",
    "tuned_rfclsf.fit(data_split.x_train,data_split.y_train)\n",
    "print(\"--- %s seconds ---\" % (time.time() - start_time))\n",
    "\n",
    "print (\"Best Score: {:.3f}\".format(tuned_rfclsf.best_score_) )\n",
    "print (\"Best Params: \", tuned_rfclsf.best_params_)"
   ],
   "metadata": {
    "collapsed": false,
    "pycharm": {
     "name": "#%%\n"
    }
   }
  },
  {
   "cell_type": "code",
   "execution_count": 69,
   "outputs": [
    {
     "data": {
      "text/plain": "['../tuned_models/randforest_tuning_results.pkl']"
     },
     "execution_count": 69,
     "metadata": {},
     "output_type": "execute_result"
    }
   ],
   "source": [
    "# save results\n",
    "# if not os.path.exists('../tuned_models'):\n",
    "#     os.mkdir('../tuned_models')\n",
    "# joblib.dump(tuned_rfclsf, '../tuned_models/randforest_tuning_results.pkl')"
   ],
   "metadata": {
    "collapsed": false,
    "pycharm": {
     "name": "#%%\n"
    }
   }
  },
  {
   "cell_type": "code",
   "execution_count": 75,
   "outputs": [],
   "source": [
    "# to load previously saved results\n",
    "tuned_rfclsf = joblib.load(\"../tuned_models/randforest_tuning_results.pkl\")"
   ],
   "metadata": {
    "collapsed": false,
    "pycharm": {
     "name": "#%%\n"
    }
   }
  },
  {
   "cell_type": "code",
   "execution_count": 71,
   "outputs": [
    {
     "name": "stdout",
     "output_type": "stream",
     "text": [
      "{'mean_fit_time': array([ 24.12168162,  39.6321965 ,  44.44918835,  48.44045329,\n",
      "        16.07928314,  33.74139469,  52.2606776 ,  50.02331798,\n",
      "        18.46242671,  34.38083148,  60.12544966,  71.49150589,\n",
      "        25.6673378 ,  43.96147184,  59.09230299,  71.34242976,\n",
      "        17.71202657,  36.88827412,  49.83310547,  72.48395185,\n",
      "        29.92012112,  53.42356749,  80.69874904,  94.6981612 ,\n",
      "        19.47087476,  43.47794092,  49.22214081,  79.00610795,\n",
      "        22.89274642,  35.42786713,  57.96410222,  77.39529555,\n",
      "        23.4544934 ,  43.39509735,  71.94672933,  95.00361693,\n",
      "        22.73501656,  44.04829967,  63.38528314,  84.23503039,\n",
      "        17.36698735,  33.91697338,  56.88170533,  68.86408501,\n",
      "        14.98532529,  30.67911606,  49.09604616,  61.52405131,\n",
      "        17.3558316 ,  33.33736486,  58.21123168, 105.87770786,\n",
      "        22.49088757,  43.78787444,  52.2842118 ,  63.54128869,\n",
      "        16.85318632,  36.24880147,  47.19049091,  62.95915475,\n",
      "        13.99109461,  27.78971305,  40.40977149,  51.56878078,\n",
      "        15.44493959,  32.27214458,  47.15961704,  59.21559536,\n",
      "        14.90178633,  28.7671984 ,  44.68051059,  58.1015646 ,\n",
      "        14.43549907,  28.64735494,  42.75582354,  58.47764778,\n",
      "        14.05291743,  27.49768498,  40.93790541,  54.09826024]), 'std_fit_time': array([ 5.97459164,  2.74432115,  8.43287472,  0.9546621 ,  3.86682199,\n",
      "        2.81838441,  6.2464246 ,  2.46592485,  4.5338632 ,  4.19583514,\n",
      "        2.09129378,  5.26830767,  7.18122152,  4.23244503,  5.57939385,\n",
      "        5.28723859,  0.45144848,  1.79070312,  2.16854657, 13.9644033 ,\n",
      "        6.22889621,  6.81073808,  6.55100951,  8.57296538,  1.20237181,\n",
      "        7.9015865 ,  6.79038933,  8.98902594,  2.92318742,  1.23074774,\n",
      "        2.63842368,  9.22889595,  5.65652859,  2.7161813 ,  3.77378402,\n",
      "        4.5913191 ,  4.99760027,  5.86831003,  2.45714461,  6.68608252,\n",
      "        1.95017677,  5.00695885,  5.97731703,  9.80083108,  0.42567704,\n",
      "        1.27656658,  2.70456436,  1.60462459,  0.39548851,  0.48146058,\n",
      "        7.82652688,  8.71879119,  3.48998654,  2.50133075,  3.08209326,\n",
      "        0.39183274,  0.79218608,  3.61569056,  2.1484752 ,  4.12878762,\n",
      "        0.53476178,  0.66009768,  1.70339179,  0.78390644,  0.53060025,\n",
      "        1.97909354,  0.83232934,  0.66870781,  0.43084787,  0.6438367 ,\n",
      "        1.52435547,  1.46486831,  0.43328158,  0.35808634,  1.27753986,\n",
      "        1.32415777,  1.45123482,  1.23212777,  0.79216461,  4.93122323]), 'mean_score_time': array([0.28995304, 0.33839161, 0.31764059, 0.35382693, 0.15325241,\n",
      "       0.3290525 , 0.46935468, 0.45265887, 0.29041045, 0.34856703,\n",
      "       0.47639506, 0.70073695, 0.27932591, 0.46602178, 0.50031078,\n",
      "       0.67238843, 0.18279788, 0.32390859, 0.37831264, 0.60528882,\n",
      "       0.2906163 , 0.50002975, 0.53581045, 0.77483051, 0.22998714,\n",
      "       0.53749402, 0.38108578, 0.75566978, 0.26654415, 0.34941487,\n",
      "       0.48435981, 0.69933088, 0.26189873, 0.50947237, 0.57571363,\n",
      "       0.6914165 , 0.26391656, 0.39188166, 0.50315566, 0.61777816,\n",
      "       0.18589017, 0.33955531, 0.48956833, 0.57914796, 0.16399157,\n",
      "       0.32691705, 0.41184983, 0.55314641, 0.17982655, 0.2985919 ,\n",
      "       0.5010457 , 0.65477993, 0.20645814, 0.39063656, 0.42208936,\n",
      "       0.52788889, 0.20925233, 0.39771311, 0.42587309, 0.48643043,\n",
      "       0.12706683, 0.26905084, 0.35095005, 0.49397285, 0.14988532,\n",
      "       0.27729981, 0.36899848, 0.47448025, 0.13778555, 0.25053198,\n",
      "       0.37107995, 0.42986519, 0.15142064, 0.23935726, 0.36333168,\n",
      "       0.48884583, 0.13875995, 0.26054375, 0.35056458, 0.43176389]), 'std_score_time': array([0.12298726, 0.10212256, 0.09303407, 0.04237862, 0.04076315,\n",
      "       0.04906133, 0.13074985, 0.14828306, 0.12689516, 0.09105441,\n",
      "       0.13085512, 0.25975274, 0.12144643, 0.0604526 , 0.15103867,\n",
      "       0.15274755, 0.0353249 , 0.07327998, 0.04455228, 0.16562771,\n",
      "       0.0862558 , 0.09154932, 0.07877152, 0.18476685, 0.049835  ,\n",
      "       0.23448478, 0.07969638, 0.23411605, 0.11845254, 0.03701876,\n",
      "       0.09587792, 0.14299471, 0.11548449, 0.2279055 , 0.08736998,\n",
      "       0.14808405, 0.0778377 , 0.10017775, 0.05541184, 0.06111492,\n",
      "       0.04877247, 0.17204543, 0.11212261, 0.27454215, 0.03094124,\n",
      "       0.0761337 , 0.04418719, 0.07100273, 0.0343158 , 0.0385334 ,\n",
      "       0.19461428, 0.16493827, 0.02769657, 0.12967951, 0.07611633,\n",
      "       0.05424917, 0.07350614, 0.15974967, 0.06154408, 0.04697274,\n",
      "       0.0176806 , 0.0346903 , 0.0411277 , 0.19352138, 0.01689991,\n",
      "       0.04127666, 0.0653785 , 0.05638792, 0.01614708, 0.03313413,\n",
      "       0.07281344, 0.02537375, 0.04672943, 0.02840427, 0.0563289 ,\n",
      "       0.16005692, 0.02907617, 0.04185521, 0.08161292, 0.12521883]), 'param_max_leaf_nodes': masked_array(data=[75, 75, 75, 75, 75, 75, 75, 75, 75, 75, 75, 75, 75, 75,\n",
      "                   75, 75, 100, 100, 100, 100, 100, 100, 100, 100, 100,\n",
      "                   100, 100, 100, 100, 100, 100, 100, 125, 125, 125, 125,\n",
      "                   125, 125, 125, 125, 125, 125, 125, 125, 125, 125, 125,\n",
      "                   125, 150, 150, 150, 150, 150, 150, 150, 150, 150, 150,\n",
      "                   150, 150, 150, 150, 150, 150, 175, 175, 175, 175, 175,\n",
      "                   175, 175, 175, 175, 175, 175, 175, 175, 175, 175, 175],\n",
      "             mask=[False, False, False, False, False, False, False, False,\n",
      "                   False, False, False, False, False, False, False, False,\n",
      "                   False, False, False, False, False, False, False, False,\n",
      "                   False, False, False, False, False, False, False, False,\n",
      "                   False, False, False, False, False, False, False, False,\n",
      "                   False, False, False, False, False, False, False, False,\n",
      "                   False, False, False, False, False, False, False, False,\n",
      "                   False, False, False, False, False, False, False, False,\n",
      "                   False, False, False, False, False, False, False, False,\n",
      "                   False, False, False, False, False, False, False, False],\n",
      "       fill_value='?',\n",
      "            dtype=object), 'param_min_samples_leaf': masked_array(data=[50, 50, 50, 50, 100, 100, 100, 100, 150, 150, 150, 150,\n",
      "                   200, 200, 200, 200, 50, 50, 50, 50, 100, 100, 100, 100,\n",
      "                   150, 150, 150, 150, 200, 200, 200, 200, 50, 50, 50, 50,\n",
      "                   100, 100, 100, 100, 150, 150, 150, 150, 200, 200, 200,\n",
      "                   200, 50, 50, 50, 50, 100, 100, 100, 100, 150, 150, 150,\n",
      "                   150, 200, 200, 200, 200, 50, 50, 50, 50, 100, 100, 100,\n",
      "                   100, 150, 150, 150, 150, 200, 200, 200, 200],\n",
      "             mask=[False, False, False, False, False, False, False, False,\n",
      "                   False, False, False, False, False, False, False, False,\n",
      "                   False, False, False, False, False, False, False, False,\n",
      "                   False, False, False, False, False, False, False, False,\n",
      "                   False, False, False, False, False, False, False, False,\n",
      "                   False, False, False, False, False, False, False, False,\n",
      "                   False, False, False, False, False, False, False, False,\n",
      "                   False, False, False, False, False, False, False, False,\n",
      "                   False, False, False, False, False, False, False, False,\n",
      "                   False, False, False, False, False, False, False, False],\n",
      "       fill_value='?',\n",
      "            dtype=object), 'param_n_estimators': masked_array(data=[50, 100, 150, 200, 50, 100, 150, 200, 50, 100, 150,\n",
      "                   200, 50, 100, 150, 200, 50, 100, 150, 200, 50, 100,\n",
      "                   150, 200, 50, 100, 150, 200, 50, 100, 150, 200, 50,\n",
      "                   100, 150, 200, 50, 100, 150, 200, 50, 100, 150, 200,\n",
      "                   50, 100, 150, 200, 50, 100, 150, 200, 50, 100, 150,\n",
      "                   200, 50, 100, 150, 200, 50, 100, 150, 200, 50, 100,\n",
      "                   150, 200, 50, 100, 150, 200, 50, 100, 150, 200, 50,\n",
      "                   100, 150, 200],\n",
      "             mask=[False, False, False, False, False, False, False, False,\n",
      "                   False, False, False, False, False, False, False, False,\n",
      "                   False, False, False, False, False, False, False, False,\n",
      "                   False, False, False, False, False, False, False, False,\n",
      "                   False, False, False, False, False, False, False, False,\n",
      "                   False, False, False, False, False, False, False, False,\n",
      "                   False, False, False, False, False, False, False, False,\n",
      "                   False, False, False, False, False, False, False, False,\n",
      "                   False, False, False, False, False, False, False, False,\n",
      "                   False, False, False, False, False, False, False, False],\n",
      "       fill_value='?',\n",
      "            dtype=object), 'params': [{'max_leaf_nodes': 75, 'min_samples_leaf': 50, 'n_estimators': 50}, {'max_leaf_nodes': 75, 'min_samples_leaf': 50, 'n_estimators': 100}, {'max_leaf_nodes': 75, 'min_samples_leaf': 50, 'n_estimators': 150}, {'max_leaf_nodes': 75, 'min_samples_leaf': 50, 'n_estimators': 200}, {'max_leaf_nodes': 75, 'min_samples_leaf': 100, 'n_estimators': 50}, {'max_leaf_nodes': 75, 'min_samples_leaf': 100, 'n_estimators': 100}, {'max_leaf_nodes': 75, 'min_samples_leaf': 100, 'n_estimators': 150}, {'max_leaf_nodes': 75, 'min_samples_leaf': 100, 'n_estimators': 200}, {'max_leaf_nodes': 75, 'min_samples_leaf': 150, 'n_estimators': 50}, {'max_leaf_nodes': 75, 'min_samples_leaf': 150, 'n_estimators': 100}, {'max_leaf_nodes': 75, 'min_samples_leaf': 150, 'n_estimators': 150}, {'max_leaf_nodes': 75, 'min_samples_leaf': 150, 'n_estimators': 200}, {'max_leaf_nodes': 75, 'min_samples_leaf': 200, 'n_estimators': 50}, {'max_leaf_nodes': 75, 'min_samples_leaf': 200, 'n_estimators': 100}, {'max_leaf_nodes': 75, 'min_samples_leaf': 200, 'n_estimators': 150}, {'max_leaf_nodes': 75, 'min_samples_leaf': 200, 'n_estimators': 200}, {'max_leaf_nodes': 100, 'min_samples_leaf': 50, 'n_estimators': 50}, {'max_leaf_nodes': 100, 'min_samples_leaf': 50, 'n_estimators': 100}, {'max_leaf_nodes': 100, 'min_samples_leaf': 50, 'n_estimators': 150}, {'max_leaf_nodes': 100, 'min_samples_leaf': 50, 'n_estimators': 200}, {'max_leaf_nodes': 100, 'min_samples_leaf': 100, 'n_estimators': 50}, {'max_leaf_nodes': 100, 'min_samples_leaf': 100, 'n_estimators': 100}, {'max_leaf_nodes': 100, 'min_samples_leaf': 100, 'n_estimators': 150}, {'max_leaf_nodes': 100, 'min_samples_leaf': 100, 'n_estimators': 200}, {'max_leaf_nodes': 100, 'min_samples_leaf': 150, 'n_estimators': 50}, {'max_leaf_nodes': 100, 'min_samples_leaf': 150, 'n_estimators': 100}, {'max_leaf_nodes': 100, 'min_samples_leaf': 150, 'n_estimators': 150}, {'max_leaf_nodes': 100, 'min_samples_leaf': 150, 'n_estimators': 200}, {'max_leaf_nodes': 100, 'min_samples_leaf': 200, 'n_estimators': 50}, {'max_leaf_nodes': 100, 'min_samples_leaf': 200, 'n_estimators': 100}, {'max_leaf_nodes': 100, 'min_samples_leaf': 200, 'n_estimators': 150}, {'max_leaf_nodes': 100, 'min_samples_leaf': 200, 'n_estimators': 200}, {'max_leaf_nodes': 125, 'min_samples_leaf': 50, 'n_estimators': 50}, {'max_leaf_nodes': 125, 'min_samples_leaf': 50, 'n_estimators': 100}, {'max_leaf_nodes': 125, 'min_samples_leaf': 50, 'n_estimators': 150}, {'max_leaf_nodes': 125, 'min_samples_leaf': 50, 'n_estimators': 200}, {'max_leaf_nodes': 125, 'min_samples_leaf': 100, 'n_estimators': 50}, {'max_leaf_nodes': 125, 'min_samples_leaf': 100, 'n_estimators': 100}, {'max_leaf_nodes': 125, 'min_samples_leaf': 100, 'n_estimators': 150}, {'max_leaf_nodes': 125, 'min_samples_leaf': 100, 'n_estimators': 200}, {'max_leaf_nodes': 125, 'min_samples_leaf': 150, 'n_estimators': 50}, {'max_leaf_nodes': 125, 'min_samples_leaf': 150, 'n_estimators': 100}, {'max_leaf_nodes': 125, 'min_samples_leaf': 150, 'n_estimators': 150}, {'max_leaf_nodes': 125, 'min_samples_leaf': 150, 'n_estimators': 200}, {'max_leaf_nodes': 125, 'min_samples_leaf': 200, 'n_estimators': 50}, {'max_leaf_nodes': 125, 'min_samples_leaf': 200, 'n_estimators': 100}, {'max_leaf_nodes': 125, 'min_samples_leaf': 200, 'n_estimators': 150}, {'max_leaf_nodes': 125, 'min_samples_leaf': 200, 'n_estimators': 200}, {'max_leaf_nodes': 150, 'min_samples_leaf': 50, 'n_estimators': 50}, {'max_leaf_nodes': 150, 'min_samples_leaf': 50, 'n_estimators': 100}, {'max_leaf_nodes': 150, 'min_samples_leaf': 50, 'n_estimators': 150}, {'max_leaf_nodes': 150, 'min_samples_leaf': 50, 'n_estimators': 200}, {'max_leaf_nodes': 150, 'min_samples_leaf': 100, 'n_estimators': 50}, {'max_leaf_nodes': 150, 'min_samples_leaf': 100, 'n_estimators': 100}, {'max_leaf_nodes': 150, 'min_samples_leaf': 100, 'n_estimators': 150}, {'max_leaf_nodes': 150, 'min_samples_leaf': 100, 'n_estimators': 200}, {'max_leaf_nodes': 150, 'min_samples_leaf': 150, 'n_estimators': 50}, {'max_leaf_nodes': 150, 'min_samples_leaf': 150, 'n_estimators': 100}, {'max_leaf_nodes': 150, 'min_samples_leaf': 150, 'n_estimators': 150}, {'max_leaf_nodes': 150, 'min_samples_leaf': 150, 'n_estimators': 200}, {'max_leaf_nodes': 150, 'min_samples_leaf': 200, 'n_estimators': 50}, {'max_leaf_nodes': 150, 'min_samples_leaf': 200, 'n_estimators': 100}, {'max_leaf_nodes': 150, 'min_samples_leaf': 200, 'n_estimators': 150}, {'max_leaf_nodes': 150, 'min_samples_leaf': 200, 'n_estimators': 200}, {'max_leaf_nodes': 175, 'min_samples_leaf': 50, 'n_estimators': 50}, {'max_leaf_nodes': 175, 'min_samples_leaf': 50, 'n_estimators': 100}, {'max_leaf_nodes': 175, 'min_samples_leaf': 50, 'n_estimators': 150}, {'max_leaf_nodes': 175, 'min_samples_leaf': 50, 'n_estimators': 200}, {'max_leaf_nodes': 175, 'min_samples_leaf': 100, 'n_estimators': 50}, {'max_leaf_nodes': 175, 'min_samples_leaf': 100, 'n_estimators': 100}, {'max_leaf_nodes': 175, 'min_samples_leaf': 100, 'n_estimators': 150}, {'max_leaf_nodes': 175, 'min_samples_leaf': 100, 'n_estimators': 200}, {'max_leaf_nodes': 175, 'min_samples_leaf': 150, 'n_estimators': 50}, {'max_leaf_nodes': 175, 'min_samples_leaf': 150, 'n_estimators': 100}, {'max_leaf_nodes': 175, 'min_samples_leaf': 150, 'n_estimators': 150}, {'max_leaf_nodes': 175, 'min_samples_leaf': 150, 'n_estimators': 200}, {'max_leaf_nodes': 175, 'min_samples_leaf': 200, 'n_estimators': 50}, {'max_leaf_nodes': 175, 'min_samples_leaf': 200, 'n_estimators': 100}, {'max_leaf_nodes': 175, 'min_samples_leaf': 200, 'n_estimators': 150}, {'max_leaf_nodes': 175, 'min_samples_leaf': 200, 'n_estimators': 200}], 'split0_test_score': array([0.903     , 0.90533333, 0.90633333, 0.90933333, 0.90266667,\n",
      "       0.90483333, 0.90616667, 0.9055    , 0.901     , 0.90183333,\n",
      "       0.90366667, 0.90483333, 0.89983333, 0.90433333, 0.907     ,\n",
      "       0.90566667, 0.91183333, 0.91616667, 0.91666667, 0.91716667,\n",
      "       0.9115    , 0.91366667, 0.914     , 0.915     , 0.90533333,\n",
      "       0.9105    , 0.91116667, 0.91216667, 0.90383333, 0.90933333,\n",
      "       0.91183333, 0.91083333, 0.9185    , 0.92083333, 0.92283333,\n",
      "       0.923     , 0.91533333, 0.92      , 0.92      , 0.92066667,\n",
      "       0.91133333, 0.9135    , 0.9145    , 0.91616667, 0.906     ,\n",
      "       0.91033333, 0.913     , 0.91216667, 0.92516667, 0.92633333,\n",
      "       0.9275    , 0.92733333, 0.921     , 0.92283333, 0.92433333,\n",
      "       0.92383333, 0.91233333, 0.91533333, 0.91566667, 0.91666667,\n",
      "       0.90583333, 0.91033333, 0.91283333, 0.912     , 0.92783333,\n",
      "       0.93066667, 0.93      , 0.93083333, 0.92233333, 0.92516667,\n",
      "       0.92633333, 0.92583333, 0.9125    , 0.91533333, 0.91583333,\n",
      "       0.9165    , 0.90583333, 0.91033333, 0.91283333, 0.912     ]), 'split1_test_score': array([0.89733333, 0.90266667, 0.9075    , 0.904     , 0.89883333,\n",
      "       0.90083333, 0.9045    , 0.90266667, 0.896     , 0.8995    ,\n",
      "       0.90283333, 0.90183333, 0.89516667, 0.89683333, 0.89966667,\n",
      "       0.89883333, 0.9095    , 0.913     , 0.91633333, 0.91683333,\n",
      "       0.9075    , 0.90983333, 0.9115    , 0.91316667, 0.90366667,\n",
      "       0.90716667, 0.9105    , 0.91016667, 0.90016667, 0.90266667,\n",
      "       0.90716667, 0.90766667, 0.91733333, 0.9205    , 0.922     ,\n",
      "       0.92166667, 0.91283333, 0.91616667, 0.91866667, 0.9185    ,\n",
      "       0.9075    , 0.91066667, 0.91466667, 0.91383333, 0.90133333,\n",
      "       0.90316667, 0.90833333, 0.909     , 0.92166667, 0.92516667,\n",
      "       0.92733333, 0.92716667, 0.9165    , 0.92083333, 0.92183333,\n",
      "       0.92233333, 0.9085    , 0.91216667, 0.91566667, 0.91516667,\n",
      "       0.90133333, 0.90316667, 0.90833333, 0.909     , 0.92516667,\n",
      "       0.9285    , 0.9295    , 0.92866667, 0.919     , 0.9235    ,\n",
      "       0.9245    , 0.92433333, 0.9085    , 0.91216667, 0.91583333,\n",
      "       0.91533333, 0.90133333, 0.90316667, 0.90833333, 0.909     ]), 'split2_test_score': array([0.8995    , 0.90366667, 0.90616667, 0.90633333, 0.89816667,\n",
      "       0.903     , 0.9055    , 0.9055    , 0.8985    , 0.90466667,\n",
      "       0.90516667, 0.906     , 0.89716667, 0.902     , 0.90516667,\n",
      "       0.90366667, 0.91      , 0.9115    , 0.91466667, 0.9145    ,\n",
      "       0.90766667, 0.90933333, 0.91316667, 0.91333333, 0.90533333,\n",
      "       0.91116667, 0.91283333, 0.9145    , 0.902     , 0.90616667,\n",
      "       0.90983333, 0.909     , 0.917     , 0.9175    , 0.9205    ,\n",
      "       0.92083333, 0.9125    , 0.91516667, 0.91783333, 0.91933333,\n",
      "       0.908     , 0.91416667, 0.91516667, 0.91566667, 0.90316667,\n",
      "       0.90666667, 0.91016667, 0.91016667, 0.92016667, 0.92266667,\n",
      "       0.92333333, 0.924     , 0.91633333, 0.91783333, 0.92116667,\n",
      "       0.92116667, 0.9095    , 0.91583333, 0.91583333, 0.917     ,\n",
      "       0.90316667, 0.90683333, 0.91016667, 0.91016667, 0.92283333,\n",
      "       0.92433333, 0.92433333, 0.9265    , 0.9175    , 0.92033333,\n",
      "       0.92266667, 0.92316667, 0.90933333, 0.91583333, 0.9155    ,\n",
      "       0.917     , 0.90316667, 0.90683333, 0.91016667, 0.91016667]), 'split3_test_score': array([0.89966667, 0.90383333, 0.9065    , 0.9055    , 0.89683333,\n",
      "       0.90216667, 0.90483333, 0.90483333, 0.896     , 0.90133333,\n",
      "       0.90283333, 0.903     , 0.88833333, 0.89816667, 0.89866667,\n",
      "       0.8995    , 0.908     , 0.912     , 0.914     , 0.91416667,\n",
      "       0.90583333, 0.9085    , 0.91183333, 0.9125    , 0.90466667,\n",
      "       0.90816667, 0.9095    , 0.9115    , 0.89483333, 0.90316667,\n",
      "       0.90516667, 0.90533333, 0.91333333, 0.91816667, 0.91816667,\n",
      "       0.91816667, 0.91166667, 0.91316667, 0.91716667, 0.91683333,\n",
      "       0.90933333, 0.91383333, 0.91383333, 0.91583333, 0.89633333,\n",
      "       0.90316667, 0.906     , 0.9065    , 0.91833333, 0.92316667,\n",
      "       0.92283333, 0.9225    , 0.916     , 0.91583333, 0.91933333,\n",
      "       0.91933333, 0.90966667, 0.91533333, 0.91533333, 0.91666667,\n",
      "       0.89633333, 0.90316667, 0.906     , 0.9065    , 0.92133333,\n",
      "       0.92666667, 0.92566667, 0.92616667, 0.91833333, 0.9185    ,\n",
      "       0.92166667, 0.921     , 0.90966667, 0.91516667, 0.9155    ,\n",
      "       0.9165    , 0.89633333, 0.90316667, 0.906     , 0.9065    ]), 'split4_test_score': array([0.90166667, 0.9025    , 0.904     , 0.90416667, 0.90066667,\n",
      "       0.90316667, 0.90633333, 0.9065    , 0.897     , 0.9       ,\n",
      "       0.9045    , 0.9035    , 0.89616667, 0.90133333, 0.9025    ,\n",
      "       0.90066667, 0.90766667, 0.91016667, 0.91333333, 0.91616667,\n",
      "       0.909     , 0.91016667, 0.914     , 0.914     , 0.90283333,\n",
      "       0.90633333, 0.91033333, 0.90966667, 0.90266667, 0.9055    ,\n",
      "       0.90583333, 0.90766667, 0.91366667, 0.91733333, 0.92      ,\n",
      "       0.92233333, 0.91466667, 0.91333333, 0.91783333, 0.91883333,\n",
      "       0.90683333, 0.90983333, 0.91383333, 0.91366667, 0.9035    ,\n",
      "       0.90683333, 0.90733333, 0.90833333, 0.918     , 0.923     ,\n",
      "       0.92333333, 0.92466667, 0.917     , 0.9175    , 0.9225    ,\n",
      "       0.92166667, 0.90716667, 0.91033333, 0.91516667, 0.9155    ,\n",
      "       0.9035    , 0.90683333, 0.90733333, 0.90833333, 0.923     ,\n",
      "       0.926     , 0.92783333, 0.92766667, 0.9185    , 0.92083333,\n",
      "       0.92433333, 0.92483333, 0.90716667, 0.91066667, 0.91516667,\n",
      "       0.91566667, 0.9035    , 0.90683333, 0.90733333, 0.90833333]), 'split5_test_score': array([0.89133333, 0.897     , 0.89916667, 0.89916667, 0.8925    ,\n",
      "       0.897     , 0.89733333, 0.897     , 0.894     , 0.89416667,\n",
      "       0.896     , 0.89616667, 0.88733333, 0.89233333, 0.89483333,\n",
      "       0.89483333, 0.90066667, 0.907     , 0.90883333, 0.90883333,\n",
      "       0.90016667, 0.90416667, 0.906     , 0.9075    , 0.90033333,\n",
      "       0.90233333, 0.90166667, 0.90233333, 0.89183333, 0.89816667,\n",
      "       0.8995    , 0.899     , 0.90733333, 0.91166667, 0.91233333,\n",
      "       0.91433333, 0.907     , 0.9095    , 0.91066667, 0.91316667,\n",
      "       0.90383333, 0.9065    , 0.90616667, 0.90666667, 0.894     ,\n",
      "       0.89883333, 0.90033333, 0.89983333, 0.91366667, 0.91533333,\n",
      "       0.91566667, 0.9185    , 0.911     , 0.9115    , 0.91316667,\n",
      "       0.91466667, 0.904     , 0.90616667, 0.908     , 0.90733333,\n",
      "       0.894     , 0.89883333, 0.90033333, 0.89983333, 0.91733333,\n",
      "       0.91816667, 0.91916667, 0.92066667, 0.91233333, 0.91416667,\n",
      "       0.915     , 0.91633333, 0.90416667, 0.90616667, 0.90766667,\n",
      "       0.9075    , 0.894     , 0.89883333, 0.90033333, 0.89983333]), 'split6_test_score': array([0.90116667, 0.9065    , 0.90916667, 0.90816667, 0.90166667,\n",
      "       0.90233333, 0.90833333, 0.907     , 0.89916667, 0.90283333,\n",
      "       0.9065    , 0.90766667, 0.89816667, 0.9005    , 0.90466667,\n",
      "       0.90416667, 0.91083333, 0.9145    , 0.91483333, 0.9155    ,\n",
      "       0.9075    , 0.91066667, 0.91416667, 0.91483333, 0.90716667,\n",
      "       0.90833333, 0.9115    , 0.9115    , 0.903     , 0.90533333,\n",
      "       0.9095    , 0.90883333, 0.91666667, 0.9195    , 0.921     ,\n",
      "       0.92016667, 0.91333333, 0.91616667, 0.9185    , 0.91866667,\n",
      "       0.91283333, 0.911     , 0.91466667, 0.9145    , 0.90466667,\n",
      "       0.906     , 0.9105    , 0.90983333, 0.921     , 0.92216667,\n",
      "       0.9245    , 0.92366667, 0.91633333, 0.9185    , 0.92133333,\n",
      "       0.9215    , 0.91316667, 0.9115    , 0.91483333, 0.91633333,\n",
      "       0.9045    , 0.906     , 0.9105    , 0.90983333, 0.92383333,\n",
      "       0.92483333, 0.92666667, 0.927     , 0.9185    , 0.92116667,\n",
      "       0.92316667, 0.92416667, 0.91316667, 0.91183333, 0.915     ,\n",
      "       0.91633333, 0.9045    , 0.906     , 0.9105    , 0.90983333]), 'split7_test_score': array([0.89883333, 0.89916667, 0.9005    , 0.90066667, 0.89516667,\n",
      "       0.89733333, 0.9015    , 0.902     , 0.894     , 0.89833333,\n",
      "       0.89833333, 0.89933333, 0.89483333, 0.89633333, 0.89816667,\n",
      "       0.89883333, 0.907     , 0.90983333, 0.91016667, 0.91233333,\n",
      "       0.90566667, 0.90683333, 0.90983333, 0.91083333, 0.90166667,\n",
      "       0.90783333, 0.9065    , 0.90766667, 0.902     , 0.90433333,\n",
      "       0.906     , 0.906     , 0.91433333, 0.91833333, 0.91816667,\n",
      "       0.9195    , 0.912     , 0.91516667, 0.91783333, 0.91833333,\n",
      "       0.906     , 0.91116667, 0.91133333, 0.91166667, 0.90316667,\n",
      "       0.905     , 0.90683333, 0.9065    , 0.91583333, 0.922     ,\n",
      "       0.9235    , 0.924     , 0.91516667, 0.918     , 0.921     ,\n",
      "       0.9215    , 0.90783333, 0.91166667, 0.91216667, 0.9125    ,\n",
      "       0.90316667, 0.905     , 0.90683333, 0.9065    , 0.92133333,\n",
      "       0.92666667, 0.928     , 0.92866667, 0.9165    , 0.92116667,\n",
      "       0.9225    , 0.924     , 0.908     , 0.91166667, 0.91216667,\n",
      "       0.9125    , 0.90316667, 0.905     , 0.90683333, 0.9065    ]), 'split8_test_score': array([0.9035    , 0.90433333, 0.90616667, 0.90516667, 0.90233333,\n",
      "       0.90666667, 0.907     , 0.9075    , 0.898     , 0.90266667,\n",
      "       0.9045    , 0.90616667, 0.89716667, 0.90283333, 0.90333333,\n",
      "       0.90516667, 0.91266667, 0.91416667, 0.91566667, 0.91583333,\n",
      "       0.91066667, 0.91466667, 0.9135    , 0.916     , 0.90433333,\n",
      "       0.91      , 0.91166667, 0.912     , 0.90083333, 0.90716667,\n",
      "       0.9075    , 0.9095    , 0.92066667, 0.91983333, 0.92233333,\n",
      "       0.921     , 0.91566667, 0.9195    , 0.9195    , 0.91966667,\n",
      "       0.909     , 0.913     , 0.915     , 0.915     , 0.90116667,\n",
      "       0.90733333, 0.90933333, 0.9105    , 0.924     , 0.92433333,\n",
      "       0.92716667, 0.92733333, 0.9165    , 0.9225    , 0.923     ,\n",
      "       0.923     , 0.91033333, 0.91383333, 0.91483333, 0.9155    ,\n",
      "       0.90116667, 0.90733333, 0.90933333, 0.91033333, 0.927     ,\n",
      "       0.92933333, 0.9305    , 0.93116667, 0.9195    , 0.92316667,\n",
      "       0.92516667, 0.9255    , 0.9105    , 0.91366667, 0.915     ,\n",
      "       0.91566667, 0.90116667, 0.90733333, 0.90933333, 0.91033333]), 'split9_test_score': array([0.89883333, 0.90266667, 0.9025    , 0.9035    , 0.897     ,\n",
      "       0.90183333, 0.90266667, 0.902     , 0.90083333, 0.905     ,\n",
      "       0.90366667, 0.9015    , 0.89666667, 0.89883333, 0.902     ,\n",
      "       0.8995    , 0.907     , 0.91066667, 0.91166667, 0.91116667,\n",
      "       0.90633333, 0.91      , 0.91116667, 0.91083333, 0.906     ,\n",
      "       0.9095    , 0.90883333, 0.90866667, 0.90066667, 0.904     ,\n",
      "       0.90483333, 0.90366667, 0.9145    , 0.91783333, 0.91866667,\n",
      "       0.91716667, 0.912     , 0.91383333, 0.9155    , 0.914     ,\n",
      "       0.91016667, 0.91316667, 0.91316667, 0.91216667, 0.90116667,\n",
      "       0.904     , 0.906     , 0.90483333, 0.9185    , 0.922     ,\n",
      "       0.92316667, 0.9225    , 0.91516667, 0.91916667, 0.91866667,\n",
      "       0.91783333, 0.91083333, 0.91366667, 0.91366667, 0.91316667,\n",
      "       0.90116667, 0.904     , 0.906     , 0.90483333, 0.92216667,\n",
      "       0.92483333, 0.92633333, 0.925     , 0.91733333, 0.92066667,\n",
      "       0.9205    , 0.91916667, 0.91083333, 0.91383333, 0.91383333,\n",
      "       0.91316667, 0.90116667, 0.904     , 0.906     , 0.90483333]), 'mean_test_score': array([0.89948333, 0.90276667, 0.9048    , 0.9046    , 0.89858333,\n",
      "       0.90191667, 0.90441667, 0.90405   , 0.89745   , 0.90103333,\n",
      "       0.9028    , 0.903     , 0.89508333, 0.89935   , 0.9016    ,\n",
      "       0.90108333, 0.90851667, 0.9119    , 0.91361667, 0.91425   ,\n",
      "       0.90718333, 0.90978333, 0.91191667, 0.9128    , 0.90413333,\n",
      "       0.90813333, 0.90945   , 0.91001667, 0.90018333, 0.90458333,\n",
      "       0.90671667, 0.90675   , 0.91533333, 0.91815   , 0.9196    ,\n",
      "       0.91981667, 0.9127    , 0.9152    , 0.91735   , 0.9178    ,\n",
      "       0.90848333, 0.91168333, 0.91323333, 0.91351667, 0.90145   ,\n",
      "       0.90513333, 0.90778333, 0.90776667, 0.91963333, 0.92261667,\n",
      "       0.92383333, 0.92416667, 0.9161    , 0.91845   , 0.92063333,\n",
      "       0.92068333, 0.90933333, 0.91258333, 0.91411667, 0.91458333,\n",
      "       0.90141667, 0.90515   , 0.90776667, 0.90773333, 0.92318333,\n",
      "       0.926     , 0.9268    , 0.92723333, 0.91798333, 0.92086667,\n",
      "       0.92258333, 0.92283333, 0.90938333, 0.91263333, 0.91415   ,\n",
      "       0.91461667, 0.90141667, 0.90515   , 0.90776667, 0.90773333]), 'std_test_score': array([0.00328672, 0.00266896, 0.00302471, 0.00293277, 0.00314753,\n",
      "       0.00283554, 0.00303063, 0.00302402, 0.00237937, 0.00305669,\n",
      "       0.00304576, 0.00328887, 0.0038746 , 0.00339971, 0.00353805,\n",
      "       0.00328993, 0.00322443, 0.00253553, 0.00249561, 0.00255957,\n",
      "       0.00297625, 0.00286361, 0.0024063 , 0.00238723, 0.00195761,\n",
      "       0.00241039, 0.00308315, 0.00315564, 0.00364726, 0.00283554,\n",
      "       0.0032215 , 0.00327808, 0.00345688, 0.00246244, 0.00290517,\n",
      "       0.00249717, 0.00233666, 0.00292195, 0.00252042, 0.00231277,\n",
      "       0.00250161, 0.00223787, 0.00258543, 0.00269201, 0.00350718,\n",
      "       0.00294279, 0.00325495, 0.00336832, 0.00334149, 0.00278792,\n",
      "       0.00325576, 0.0025938 , 0.00230241, 0.00313763, 0.00293995,\n",
      "       0.00258247, 0.0025133 , 0.00277213, 0.0022974 , 0.00280203,\n",
      "       0.00347071, 0.00295188, 0.00322852, 0.0033335 , 0.00287755,\n",
      "       0.00326939, 0.00315595, 0.00287344, 0.00240191, 0.00285852,\n",
      "       0.00300855, 0.00290975, 0.00249561, 0.00271907, 0.00240538,\n",
      "       0.00275081, 0.00347071, 0.00295188, 0.00322852, 0.0033335 ]), 'rank_test_score': array([76, 67, 59, 60, 78, 68, 62, 64, 79, 74, 66, 65, 80, 77, 69, 73, 44,\n",
      "       37, 29, 26, 53, 40, 36, 32, 63, 46, 41, 39, 75, 61, 55, 54, 22, 17,\n",
      "       15, 13, 33, 23, 20, 19, 45, 38, 31, 30, 70, 58, 47, 50, 14,  8,  5,\n",
      "        4, 21, 16, 12, 11, 43, 35, 28, 25, 71, 56, 48, 51,  6,  3,  2,  1,\n",
      "       18, 10,  9,  7, 42, 34, 27, 24, 71, 56, 48, 51], dtype=int32), 'split0_train_score': array([0.90192593, 0.90616667, 0.90811111, 0.90885185, 0.90201852,\n",
      "       0.9062037 , 0.90812963, 0.90861111, 0.90007407, 0.90394444,\n",
      "       0.90611111, 0.90705556, 0.89837037, 0.90324074, 0.90492593,\n",
      "       0.90537037, 0.91240741, 0.91562963, 0.918     , 0.91785185,\n",
      "       0.91231481, 0.91559259, 0.91759259, 0.91783333, 0.90851852,\n",
      "       0.9117037 , 0.91342593, 0.91416667, 0.90451852, 0.90909259,\n",
      "       0.91024074, 0.91109259, 0.92035185, 0.92324074, 0.92448148,\n",
      "       0.92490741, 0.91840741, 0.92146296, 0.92224074, 0.92311111,\n",
      "       0.91274074, 0.91575926, 0.91774074, 0.91827778, 0.9057963 ,\n",
      "       0.91031481, 0.91118519, 0.91224074, 0.92533333, 0.92792593,\n",
      "       0.92933333, 0.92964815, 0.92242593, 0.92462963, 0.92672222,\n",
      "       0.92672222, 0.91398148, 0.91690741, 0.91901852, 0.9195    ,\n",
      "       0.9057963 , 0.91033333, 0.91122222, 0.91224074, 0.92955556,\n",
      "       0.93140741, 0.9335    , 0.93361111, 0.92475926, 0.92677778,\n",
      "       0.92892593, 0.92872222, 0.91401852, 0.91692593, 0.91916667,\n",
      "       0.91957407, 0.9057963 , 0.91033333, 0.91122222, 0.91224074]), 'split1_train_score': array([0.90392593, 0.90811111, 0.91027778, 0.91007407, 0.90296296,\n",
      "       0.90651852, 0.90862963, 0.90824074, 0.90209259, 0.90525926,\n",
      "       0.90814815, 0.90746296, 0.89737037, 0.90261111, 0.90525926,\n",
      "       0.9052963 , 0.91394444, 0.91833333, 0.91951852, 0.91959259,\n",
      "       0.91224074, 0.91503704, 0.91737037, 0.91648148, 0.90983333,\n",
      "       0.91311111, 0.91587037, 0.9145    , 0.90446296, 0.90853704,\n",
      "       0.91094444, 0.91088889, 0.92133333, 0.92555556, 0.92625926,\n",
      "       0.92588889, 0.91827778, 0.92103704, 0.92292593, 0.92275926,\n",
      "       0.91355556, 0.91668519, 0.9192963 , 0.91885185, 0.90622222,\n",
      "       0.90977778, 0.91233333, 0.91218519, 0.9267037 , 0.93014815,\n",
      "       0.93055556, 0.93094444, 0.92233333, 0.92481481, 0.92687037,\n",
      "       0.927     , 0.91481481, 0.91772222, 0.92044444, 0.92012963,\n",
      "       0.90625926, 0.90974074, 0.91233333, 0.91224074, 0.93022222,\n",
      "       0.93316667, 0.93403704, 0.9347037 , 0.9252963 , 0.92725926,\n",
      "       0.92896296, 0.92931481, 0.91492593, 0.91787037, 0.92046296,\n",
      "       0.9202963 , 0.90625926, 0.90974074, 0.91233333, 0.91224074]), 'split2_train_score': array([0.90224074, 0.90661111, 0.90857407, 0.90837037, 0.9017037 ,\n",
      "       0.90594444, 0.90874074, 0.90851852, 0.90137037, 0.90538889,\n",
      "       0.90614815, 0.90672222, 0.89805556, 0.90275926, 0.90524074,\n",
      "       0.90511111, 0.91288889, 0.9162963 , 0.91812963, 0.91862963,\n",
      "       0.91140741, 0.91527778, 0.91646296, 0.91681481, 0.90962963,\n",
      "       0.91305556, 0.9142037 , 0.91451852, 0.90403704, 0.90861111,\n",
      "       0.91040741, 0.91074074, 0.92025926, 0.92316667, 0.92518519,\n",
      "       0.92472222, 0.91761111, 0.9215    , 0.92259259, 0.92238889,\n",
      "       0.91385185, 0.91751852, 0.91824074, 0.91840741, 0.90555556,\n",
      "       0.90962963, 0.91133333, 0.91172222, 0.92566667, 0.92824074,\n",
      "       0.92985185, 0.93007407, 0.92164815, 0.925     , 0.92603704,\n",
      "       0.92609259, 0.91451852, 0.91846296, 0.91955556, 0.91975926,\n",
      "       0.90555556, 0.90964815, 0.91133333, 0.9117037 , 0.9297963 ,\n",
      "       0.93218519, 0.93361111, 0.934     , 0.92396296, 0.92683333,\n",
      "       0.92798148, 0.92831481, 0.91472222, 0.91846296, 0.91959259,\n",
      "       0.91977778, 0.90555556, 0.90964815, 0.91133333, 0.9117037 ]), 'split3_train_score': array([0.90407407, 0.90844444, 0.91040741, 0.9102037 , 0.90262963,\n",
      "       0.90711111, 0.90896296, 0.90972222, 0.90207407, 0.90653704,\n",
      "       0.90803704, 0.90842593, 0.89968519, 0.90442593, 0.90568519,\n",
      "       0.90583333, 0.91366667, 0.91792593, 0.91942593, 0.91927778,\n",
      "       0.91216667, 0.91611111, 0.91722222, 0.91783333, 0.91038889,\n",
      "       0.91405556, 0.91564815, 0.91614815, 0.90540741, 0.90924074,\n",
      "       0.91103704, 0.9112037 , 0.92087037, 0.92451852, 0.92583333,\n",
      "       0.92562963, 0.91838889, 0.92225926, 0.92312963, 0.92377778,\n",
      "       0.91468519, 0.91840741, 0.91981481, 0.92016667, 0.9062037 ,\n",
      "       0.91031481, 0.912     , 0.91237037, 0.92683333, 0.92937037,\n",
      "       0.93046296, 0.93055556, 0.92266667, 0.92546296, 0.92712963,\n",
      "       0.92711111, 0.91564815, 0.91964815, 0.92103704, 0.9215    ,\n",
      "       0.9062037 , 0.91035185, 0.91207407, 0.91238889, 0.93146296,\n",
      "       0.93377778, 0.93433333, 0.93437037, 0.92509259, 0.92809259,\n",
      "       0.92922222, 0.9295    , 0.91575926, 0.9197963 , 0.92109259,\n",
      "       0.92155556, 0.9062037 , 0.91035185, 0.91207407, 0.91238889]), 'split4_train_score': array([0.90414815, 0.90724074, 0.91016667, 0.9102037 , 0.90381481,\n",
      "       0.90675926, 0.90994444, 0.90927778, 0.90040741, 0.90572222,\n",
      "       0.90809259, 0.90774074, 0.89822222, 0.90266667, 0.90487037,\n",
      "       0.90494444, 0.91444444, 0.91735185, 0.91874074, 0.91905556,\n",
      "       0.91292593, 0.91596296, 0.9182963 , 0.91794444, 0.90842593,\n",
      "       0.91303704, 0.9152963 , 0.91525926, 0.90438889, 0.90875926,\n",
      "       0.91062963, 0.91081481, 0.92116667, 0.92440741, 0.92538889,\n",
      "       0.92542593, 0.91935185, 0.92159259, 0.92296296, 0.92272222,\n",
      "       0.91283333, 0.9172037 , 0.9192037 , 0.91890741, 0.90581481,\n",
      "       0.90975926, 0.91212963, 0.91177778, 0.92601852, 0.92901852,\n",
      "       0.9302037 , 0.92998148, 0.92333333, 0.92535185, 0.92707407,\n",
      "       0.92640741, 0.91396296, 0.918     , 0.92024074, 0.9202037 ,\n",
      "       0.90583333, 0.90975926, 0.91211111, 0.91177778, 0.93042593,\n",
      "       0.93275926, 0.93372222, 0.93383333, 0.92590741, 0.928     ,\n",
      "       0.92957407, 0.92896296, 0.91407407, 0.91798148, 0.92033333,\n",
      "       0.9202963 , 0.90583333, 0.90975926, 0.91211111, 0.91177778]), 'split5_train_score': array([0.90174074, 0.90611111, 0.90894444, 0.90824074, 0.902     ,\n",
      "       0.90601852, 0.90775926, 0.908     , 0.90105556, 0.90392593,\n",
      "       0.9062963 , 0.90688889, 0.89844444, 0.90185185, 0.90457407,\n",
      "       0.90505556, 0.91259259, 0.91588889, 0.91818519, 0.91801852,\n",
      "       0.91155556, 0.91464815, 0.91651852, 0.917     , 0.90907407,\n",
      "       0.91214815, 0.9155    , 0.9147037 , 0.90424074, 0.90757407,\n",
      "       0.91075926, 0.91062963, 0.91974074, 0.92285185, 0.92507407,\n",
      "       0.92548148, 0.91796296, 0.9202963 , 0.92261111, 0.92290741,\n",
      "       0.91314815, 0.91674074, 0.91881481, 0.91874074, 0.9055    ,\n",
      "       0.90874074, 0.91177778, 0.91187037, 0.92548148, 0.92764815,\n",
      "       0.93035185, 0.93059259, 0.9212963 , 0.92477778, 0.92653704,\n",
      "       0.92659259, 0.91509259, 0.91807407, 0.92024074, 0.92      ,\n",
      "       0.90551852, 0.90874074, 0.91177778, 0.91187037, 0.93035185,\n",
      "       0.93212963, 0.93435185, 0.93472222, 0.92359259, 0.92718519,\n",
      "       0.92855556, 0.92868519, 0.91533333, 0.91811111, 0.92027778,\n",
      "       0.92011111, 0.90551852, 0.90874074, 0.91177778, 0.91187037]), 'split6_train_score': array([0.90148148, 0.90631481, 0.9095    , 0.90948148, 0.90155556,\n",
      "       0.90609259, 0.90827778, 0.90838889, 0.8992963 , 0.90403704,\n",
      "       0.90575926, 0.90662963, 0.89816667, 0.90185185, 0.90459259,\n",
      "       0.9045    , 0.91385185, 0.91607407, 0.91798148, 0.91861111,\n",
      "       0.91137037, 0.91548148, 0.91733333, 0.91707407, 0.90696296,\n",
      "       0.91187037, 0.91388889, 0.9142963 , 0.90412963, 0.90818519,\n",
      "       0.90998148, 0.91062963, 0.92059259, 0.92405556, 0.92488889,\n",
      "       0.92537037, 0.91801852, 0.92109259, 0.92264815, 0.923     ,\n",
      "       0.91246296, 0.91537037, 0.91807407, 0.91812963, 0.90512963,\n",
      "       0.90922222, 0.91105556, 0.91198148, 0.92664815, 0.92844444,\n",
      "       0.93      , 0.93061111, 0.92181481, 0.92481481, 0.92696296,\n",
      "       0.92674074, 0.91407407, 0.91677778, 0.91927778, 0.91946296,\n",
      "       0.90512963, 0.90922222, 0.91103704, 0.91196296, 0.93037037,\n",
      "       0.93266667, 0.93401852, 0.9345    , 0.92385185, 0.92735185,\n",
      "       0.92901852, 0.92912963, 0.91412963, 0.91685185, 0.91938889,\n",
      "       0.91959259, 0.90512963, 0.90922222, 0.91103704, 0.91196296]), 'split7_train_score': array([0.90475926, 0.90796296, 0.9097963 , 0.90985185, 0.90246296,\n",
      "       0.9057963 , 0.90868519, 0.90883333, 0.90111111, 0.90468519,\n",
      "       0.90605556, 0.90683333, 0.90057407, 0.90388889, 0.90577778,\n",
      "       0.90607407, 0.91501852, 0.91727778, 0.91892593, 0.91948148,\n",
      "       0.9122963 , 0.91537037, 0.91725926, 0.91766667, 0.90983333,\n",
      "       0.9132037 , 0.91418519, 0.91498148, 0.907     , 0.90966667,\n",
      "       0.91122222, 0.91118519, 0.92231481, 0.92418519, 0.92548148,\n",
      "       0.92594444, 0.91833333, 0.92188889, 0.92374074, 0.92351852,\n",
      "       0.914     , 0.91746296, 0.91862963, 0.91887037, 0.90803704,\n",
      "       0.91094444, 0.91237037, 0.91248148, 0.92742593, 0.92962963,\n",
      "       0.93096296, 0.93066667, 0.92231481, 0.92557407, 0.92733333,\n",
      "       0.92709259, 0.91555556, 0.91848148, 0.91942593, 0.91988889,\n",
      "       0.90803704, 0.91096296, 0.91237037, 0.91248148, 0.93188889,\n",
      "       0.93366667, 0.93518519, 0.9345    , 0.92496296, 0.92761111,\n",
      "       0.92962963, 0.9292963 , 0.91555556, 0.91855556, 0.91961111,\n",
      "       0.91998148, 0.90803704, 0.91096296, 0.91237037, 0.91248148]), 'split8_train_score': array([0.90327778, 0.90672222, 0.90812963, 0.90816667, 0.90324074,\n",
      "       0.90655556, 0.90818519, 0.90844444, 0.90027778, 0.90544444,\n",
      "       0.90722222, 0.90768519, 0.89990741, 0.90412963, 0.90548148,\n",
      "       0.90537037, 0.91431481, 0.91738889, 0.91814815, 0.91757407,\n",
      "       0.9125    , 0.91553704, 0.91687037, 0.91687037, 0.9092037 ,\n",
      "       0.91344444, 0.91438889, 0.91457407, 0.90581481, 0.90959259,\n",
      "       0.91159259, 0.91112963, 0.92190741, 0.92468519, 0.92464815,\n",
      "       0.92451852, 0.91883333, 0.92107407, 0.92207407, 0.92224074,\n",
      "       0.91333333, 0.91777778, 0.91807407, 0.91809259, 0.90683333,\n",
      "       0.91062963, 0.91255556, 0.91224074, 0.9275    , 0.92942593,\n",
      "       0.92937037, 0.92948148, 0.92277778, 0.92531481, 0.92598148,\n",
      "       0.92616667, 0.91427778, 0.9187963 , 0.91938889, 0.91948148,\n",
      "       0.90681481, 0.91062963, 0.91255556, 0.91224074, 0.93155556,\n",
      "       0.93325926, 0.9335    , 0.93409259, 0.92474074, 0.92711111,\n",
      "       0.92833333, 0.92853704, 0.91437037, 0.91881481, 0.91940741,\n",
      "       0.91957407, 0.90681481, 0.91062963, 0.91255556, 0.91224074]), 'split9_train_score': array([0.90537037, 0.90907407, 0.91053704, 0.91038889, 0.90346296,\n",
      "       0.90787037, 0.90925926, 0.90911111, 0.90335185, 0.90712963,\n",
      "       0.90848148, 0.90814815, 0.90016667, 0.90427778, 0.90562963,\n",
      "       0.90542593, 0.91561111, 0.91866667, 0.91931481, 0.91911111,\n",
      "       0.91290741, 0.91637037, 0.91790741, 0.91764815, 0.91133333,\n",
      "       0.91535185, 0.91590741, 0.91496296, 0.90674074, 0.91016667,\n",
      "       0.9117037 , 0.91135185, 0.92272222, 0.92553704, 0.92590741,\n",
      "       0.92607407, 0.91925926, 0.92218519, 0.92338889, 0.92331481,\n",
      "       0.91585185, 0.91894444, 0.92001852, 0.91938889, 0.90774074,\n",
      "       0.91144444, 0.91262963, 0.91262963, 0.92775926, 0.93053704,\n",
      "       0.93090741, 0.93057407, 0.92337037, 0.92568519, 0.92698148,\n",
      "       0.92692593, 0.91738889, 0.92018519, 0.92138889, 0.92038889,\n",
      "       0.90772222, 0.91144444, 0.91264815, 0.91266667, 0.93227778,\n",
      "       0.93444444, 0.93457407, 0.93453704, 0.9255    , 0.92783333,\n",
      "       0.92898148, 0.92912963, 0.91748148, 0.92033333, 0.92142593,\n",
      "       0.92044444, 0.90772222, 0.91144444, 0.91264815, 0.91266667]), 'mean_train_score': array([0.90329444, 0.90727593, 0.90944444, 0.90938333, 0.90258519,\n",
      "       0.90648704, 0.90865741, 0.90871481, 0.90111111, 0.90520741,\n",
      "       0.90703519, 0.90735926, 0.8988963 , 0.90317037, 0.9052037 ,\n",
      "       0.90529815, 0.91387407, 0.91708333, 0.91863704, 0.91872037,\n",
      "       0.91216852, 0.91553889, 0.91728333, 0.91731667, 0.90932037,\n",
      "       0.91309815, 0.91483148, 0.91481111, 0.90507407, 0.90894259,\n",
      "       0.91085185, 0.91096667, 0.92112593, 0.92422037, 0.92531481,\n",
      "       0.9253963 , 0.91844444, 0.92143889, 0.92283148, 0.92297407,\n",
      "       0.9136463 , 0.91718704, 0.91879074, 0.91878333, 0.90628333,\n",
      "       0.91007778, 0.91193704, 0.91215   , 0.92653704, 0.92903889,\n",
      "       0.9302    , 0.93031296, 0.92239815, 0.92514259, 0.92676296,\n",
      "       0.92668519, 0.91493148, 0.91830556, 0.92000185, 0.92003148,\n",
      "       0.90628704, 0.91008333, 0.9119463 , 0.91215741, 0.93079074,\n",
      "       0.9329463 , 0.93408333, 0.93428704, 0.92476667, 0.92740556,\n",
      "       0.92891852, 0.92895926, 0.91503704, 0.91837037, 0.92007593,\n",
      "       0.92012037, 0.90628704, 0.91008333, 0.9119463 , 0.91215741]), 'std_train_score': array([0.00129903, 0.00100145, 0.0008932 , 0.00084604, 0.00073298,\n",
      "       0.00060081, 0.00059774, 0.00049671, 0.00111984, 0.00103438,\n",
      "       0.001013  , 0.00059589, 0.00102841, 0.0009196 , 0.00042221,\n",
      "       0.00042086, 0.0009828 , 0.001008  , 0.00059069, 0.00067059,\n",
      "       0.00053521, 0.00048442, 0.00054351, 0.0004968 , 0.00113535,\n",
      "       0.00102406, 0.00086247, 0.00054507, 0.00104691, 0.00072877,\n",
      "       0.000533  , 0.00024537, 0.00090751, 0.00088473, 0.00054225,\n",
      "       0.00050295, 0.00052828, 0.00056395, 0.00048109, 0.00045521,\n",
      "       0.00096678, 0.00104417, 0.00073763, 0.00060093, 0.00091886,\n",
      "       0.00077122, 0.00054592, 0.00028885, 0.00083239, 0.00090814,\n",
      "       0.00053868, 0.00046025, 0.00064535, 0.0003589 , 0.00042968,\n",
      "       0.00034852, 0.00100772, 0.00102021, 0.0007552 , 0.00057682,\n",
      "       0.00091217, 0.00077558, 0.000547  , 0.00030149, 0.00088285,\n",
      "       0.00085609, 0.00051282, 0.0003614 , 0.00071598, 0.00043951,\n",
      "       0.00048948, 0.00036268, 0.00100983, 0.00104822, 0.00072858,\n",
      "       0.00056911, 0.00091217, 0.00077558, 0.000547  , 0.00030149])}\n"
     ]
    }
   ],
   "source": [
    "print(tuned_rfclsf.cv_results_)\n",
    "tuned_rfclsf_results = pd.DataFrame( tuned_rfclsf.cv_results_ )"
   ],
   "metadata": {
    "collapsed": false,
    "pycharm": {
     "name": "#%%\n"
    }
   }
  },
  {
   "cell_type": "code",
   "execution_count": 78,
   "outputs": [
    {
     "data": {
      "text/plain": "                                               params  mean_test_score  \\\n0   {'max_leaf_nodes': 75, 'min_samples_leaf': 50,...         0.899483   \n1   {'max_leaf_nodes': 75, 'min_samples_leaf': 50,...         0.902767   \n2   {'max_leaf_nodes': 75, 'min_samples_leaf': 50,...         0.904800   \n3   {'max_leaf_nodes': 75, 'min_samples_leaf': 50,...         0.904600   \n4   {'max_leaf_nodes': 75, 'min_samples_leaf': 100...         0.898583   \n..                                                ...              ...   \n75  {'max_leaf_nodes': 175, 'min_samples_leaf': 15...         0.914617   \n76  {'max_leaf_nodes': 175, 'min_samples_leaf': 20...         0.901417   \n77  {'max_leaf_nodes': 175, 'min_samples_leaf': 20...         0.905150   \n78  {'max_leaf_nodes': 175, 'min_samples_leaf': 20...         0.907767   \n79  {'max_leaf_nodes': 175, 'min_samples_leaf': 20...         0.907733   \n\n    mean_train_score  \n0           0.903294  \n1           0.907276  \n2           0.909444  \n3           0.909383  \n4           0.902585  \n..               ...  \n75          0.920120  \n76          0.906287  \n77          0.910083  \n78          0.911946  \n79          0.912157  \n\n[80 rows x 3 columns]",
      "text/html": "<div>\n<style scoped>\n    .dataframe tbody tr th:only-of-type {\n        vertical-align: middle;\n    }\n\n    .dataframe tbody tr th {\n        vertical-align: top;\n    }\n\n    .dataframe thead th {\n        text-align: right;\n    }\n</style>\n<table border=\"1\" class=\"dataframe\">\n  <thead>\n    <tr style=\"text-align: right;\">\n      <th></th>\n      <th>params</th>\n      <th>mean_test_score</th>\n      <th>mean_train_score</th>\n    </tr>\n  </thead>\n  <tbody>\n    <tr>\n      <th>0</th>\n      <td>{'max_leaf_nodes': 75, 'min_samples_leaf': 50,...</td>\n      <td>0.899483</td>\n      <td>0.903294</td>\n    </tr>\n    <tr>\n      <th>1</th>\n      <td>{'max_leaf_nodes': 75, 'min_samples_leaf': 50,...</td>\n      <td>0.902767</td>\n      <td>0.907276</td>\n    </tr>\n    <tr>\n      <th>2</th>\n      <td>{'max_leaf_nodes': 75, 'min_samples_leaf': 50,...</td>\n      <td>0.904800</td>\n      <td>0.909444</td>\n    </tr>\n    <tr>\n      <th>3</th>\n      <td>{'max_leaf_nodes': 75, 'min_samples_leaf': 50,...</td>\n      <td>0.904600</td>\n      <td>0.909383</td>\n    </tr>\n    <tr>\n      <th>4</th>\n      <td>{'max_leaf_nodes': 75, 'min_samples_leaf': 100...</td>\n      <td>0.898583</td>\n      <td>0.902585</td>\n    </tr>\n    <tr>\n      <th>...</th>\n      <td>...</td>\n      <td>...</td>\n      <td>...</td>\n    </tr>\n    <tr>\n      <th>75</th>\n      <td>{'max_leaf_nodes': 175, 'min_samples_leaf': 15...</td>\n      <td>0.914617</td>\n      <td>0.920120</td>\n    </tr>\n    <tr>\n      <th>76</th>\n      <td>{'max_leaf_nodes': 175, 'min_samples_leaf': 20...</td>\n      <td>0.901417</td>\n      <td>0.906287</td>\n    </tr>\n    <tr>\n      <th>77</th>\n      <td>{'max_leaf_nodes': 175, 'min_samples_leaf': 20...</td>\n      <td>0.905150</td>\n      <td>0.910083</td>\n    </tr>\n    <tr>\n      <th>78</th>\n      <td>{'max_leaf_nodes': 175, 'min_samples_leaf': 20...</td>\n      <td>0.907767</td>\n      <td>0.911946</td>\n    </tr>\n    <tr>\n      <th>79</th>\n      <td>{'max_leaf_nodes': 175, 'min_samples_leaf': 20...</td>\n      <td>0.907733</td>\n      <td>0.912157</td>\n    </tr>\n  </tbody>\n</table>\n<p>80 rows × 3 columns</p>\n</div>"
     },
     "execution_count": 78,
     "metadata": {},
     "output_type": "execute_result"
    }
   ],
   "source": [
    "tuned_rfclsf_results[[\"params\",\"mean_test_score\",\"mean_train_score\"]]"
   ],
   "metadata": {
    "collapsed": false,
    "pycharm": {
     "name": "#%%\n"
    }
   }
  },
  {
   "cell_type": "code",
   "execution_count": 80,
   "outputs": [
    {
     "data": {
      "text/plain": "<AxesSubplot:xlabel='param_n_estimators', ylabel='mean_test_score'>"
     },
     "execution_count": 80,
     "metadata": {},
     "output_type": "execute_result"
    },
    {
     "data": {
      "text/plain": "<Figure size 864x576 with 1 Axes>",
      "image/png": "[encoded data removed]"
     },
     "metadata": {},
     "output_type": "display_data"
    }
   ],
   "source": [
    "sns.set(rc={\"figure.figsize\":(12, 8)})\n",
    "sns.lineplot(data=tuned_rfclsf_results, x=\"param_n_estimators\", y=\"mean_test_score\")"
   ],
   "metadata": {
    "collapsed": false,
    "pycharm": {
     "name": "#%%\n"
    }
   }
  },
  {
   "cell_type": "code",
   "execution_count": 82,
   "outputs": [
    {
     "data": {
      "text/plain": "<AxesSubplot:xlabel='param_max_leaf_nodes', ylabel='mean_test_score'>"
     },
     "execution_count": 82,
     "metadata": {},
     "output_type": "execute_result"
    },
    {
     "data": {
      "text/plain": "<Figure size 864x576 with 1 Axes>",
      "image/png": "[encoded data removed]"
     },
     "metadata": {},
     "output_type": "display_data"
    }
   ],
   "source": [
    "sns.set(rc={\"figure.figsize\":(12, 8)})\n",
    "sns.lineplot(data=tuned_rfclsf_results, x=\"param_max_leaf_nodes\", y=\"mean_test_score\")"
   ],
   "metadata": {
    "collapsed": false,
    "pycharm": {
     "name": "#%%\n"
    }
   }
  },
  {
   "cell_type": "code",
   "execution_count": 83,
   "outputs": [
    {
     "data": {
      "text/plain": "<AxesSubplot:xlabel='param_min_samples_leaf', ylabel='mean_test_score'>"
     },
     "execution_count": 83,
     "metadata": {},
     "output_type": "execute_result"
    },
    {
     "data": {
      "text/plain": "<Figure size 864x576 with 1 Axes>",
      "image/png": "[encoded data removed]"
     },
     "metadata": {},
     "output_type": "display_data"
    }
   ],
   "source": [
    "sns.set(rc={\"figure.figsize\":(12, 8)})\n",
    "sns.lineplot(data=tuned_rfclsf_results, x=\"param_min_samples_leaf\", y=\"mean_test_score\")"
   ],
   "metadata": {
    "collapsed": false,
    "pycharm": {
     "name": "#%%\n"
    }
   }
  },
  {
   "cell_type": "code",
   "execution_count": 84,
   "outputs": [
    {
     "name": "stdout",
     "output_type": "stream",
     "text": [
      "RandomForestClassifier(max_leaf_nodes=175, min_samples_leaf=50,\n",
      "                       n_estimators=200, random_state=28)\n",
      "0.9272333333333334\n"
     ]
    }
   ],
   "source": [
    "print(tuned_rfclsf.best_estimator_)\n",
    "print(tuned_rfclsf.best_score_)"
   ],
   "metadata": {
    "collapsed": false,
    "pycharm": {
     "name": "#%%\n"
    }
   }
  },
  {
   "cell_type": "code",
   "execution_count": 85,
   "outputs": [
    {
     "name": "stdout",
     "output_type": "stream",
     "text": [
      "Train Accuracy: 0.9340166666666667\n"
     ]
    }
   ],
   "source": [
    "test_acc = accuracy_score(y_true = data_split.y_train,\n",
    "                          y_pred = tuned_rfclsf.predict(data_split.x_train) )\n",
    "print (\"Train Accuracy: {}\".format(test_acc) )"
   ],
   "metadata": {
    "collapsed": false,
    "pycharm": {
     "name": "#%%\n"
    }
   }
  },
  {
   "cell_type": "code",
   "execution_count": 86,
   "outputs": [
    {
     "data": {
      "text/plain": "RandomForestClassifier(max_leaf_nodes=175, min_samples_leaf=50,\n                       n_estimators=200)"
     },
     "execution_count": 86,
     "metadata": {},
     "output_type": "execute_result"
    }
   ],
   "source": [
    "# best parameters from automatic parameters tuning\n",
    "forest_clsf = RandomForestClassifier(**tuned_rfclsf.best_params_)\n",
    "# forest_clsf = RandomForestClassifier(max_leaf_nodes=175, min_samples_leaf=50, n_estimators=200, random_state=28)\n",
    "forest_clsf.fit(data_split.x_train, data_split.y_train)"
   ],
   "metadata": {
    "collapsed": false,
    "pycharm": {
     "name": "#%%\n"
    }
   }
  },
  {
   "cell_type": "code",
   "execution_count": 87,
   "outputs": [],
   "source": [
    "rf_train_pred = forest_clsf.predict(data_split.x_train)\n",
    "rf_test_pred = forest_clsf.predict(data_split.x_test)\n",
    "\n",
    "rf_train_eval = eva.Evaluation(y_real=data_split.y_train, y_pred=rf_train_pred)\n",
    "rf_test_eval = eva.Evaluation(y_real=data_split.y_test, y_pred=rf_test_pred)"
   ],
   "metadata": {
    "collapsed": false,
    "pycharm": {
     "name": "#%%\n"
    }
   }
  },
  {
   "cell_type": "code",
   "execution_count": 88,
   "outputs": [
    {
     "name": "stdout",
     "output_type": "stream",
     "text": [
      "Training:\n",
      "--------------Model Evaluations:--------------\n",
      "Accuracy score: 0.9332833333333334\n",
      "\n",
      "Testing:\n",
      "--------------Model Evaluations:--------------\n",
      "Accuracy score: 0.925\n",
      "\n"
     ]
    }
   ],
   "source": [
    "print(\"Training:\")\n",
    "rf_train_eval.print_eval()\n",
    "print(\"Testing:\")\n",
    "rf_test_eval.print_eval()"
   ],
   "metadata": {
    "collapsed": false,
    "pycharm": {
     "name": "#%%\n"
    }
   }
  },
  {
   "cell_type": "code",
   "execution_count": 52,
   "outputs": [],
   "source": [
    "# rf_model = eva.EvaluatedModel(forest_clsf, train_eval=rf_train_eval, test_eval=rf_test_eval)"
   ],
   "metadata": {
    "collapsed": false,
    "pycharm": {
     "name": "#%%\n"
    }
   }
  },
  {
   "cell_type": "markdown",
   "source": [
    "accuracy is not a great measure of classifier performance when the classes are imbalanced\n",
    "but as we can see from the plots, the classes are more or less balanced"
   ],
   "metadata": {
    "collapsed": false,
    "pycharm": {
     "name": "#%% md\n"
    }
   }
  },
  {
   "cell_type": "markdown",
   "source": [
    "# Performance Visualization"
   ],
   "metadata": {
    "collapsed": false,
    "pycharm": {
     "name": "#%% md\n"
    }
   }
  },
  {
   "cell_type": "markdown",
   "source": [
    "### Setup"
   ],
   "metadata": {
    "collapsed": false,
    "pycharm": {
     "name": "#%% md\n"
    }
   }
  }
 ],
 "metadata": {
  "kernelspec": {
   "display_name": "Python 3",
   "language": "python",
   "name": "python3"
  },
  "language_info": {
   "codemirror_mode": {
    "name": "ipython",
    "version": 2
   },
   "file_extension": ".py",
   "mimetype": "text/x-python",
   "name": "python",
   "nbconvert_exporter": "python",
   "pygments_lexer": "ipython2",
   "version": "2.7.6"
  }
 },
 "nbformat": 4,
 "nbformat_minor": 0
}