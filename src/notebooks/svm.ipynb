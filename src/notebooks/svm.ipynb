{
 "cells": [
  {
   "cell_type": "markdown",
   "source": [
    "# Support Vector Machine Classifier"
   ],
   "metadata": {
    "collapsed": false,
    "pycharm": {
     "name": "#%% md\n"
    }
   }
  },
  {
   "cell_type": "markdown",
   "source": [
    "# Setup\n",
    "Let us import the required modules."
   ],
   "metadata": {
    "collapsed": false,
    "pycharm": {
     "name": "#%% md\n"
    }
   }
  },
  {
   "cell_type": "code",
   "execution_count": 1,
   "outputs": [],
   "source": [
    "import pandas as pd\n",
    "import seaborn as sns\n",
    "\n",
    "from loguru import logger\n",
    "from sklearn.svm import SVC\n",
    "from sklearn.metrics import accuracy_score\n",
    "\n",
    "import src.utilities.data_split as ds\n",
    "import src.utilities.evaluation as eva\n",
    "import src.utilities.model_selection as ms"
   ],
   "metadata": {
    "collapsed": false,
    "pycharm": {
     "name": "#%%\n"
    }
   }
  },
  {
   "cell_type": "markdown",
   "source": [
    "## Load Data\n",
    "Note that the dataset is already split into Train-Test sets."
   ],
   "metadata": {
    "collapsed": false,
    "pycharm": {
     "name": "#%% md\n"
    }
   }
  },
  {
   "cell_type": "code",
   "execution_count": 2,
   "outputs": [],
   "source": [
    "data_split = ds.TrainTestSplit.from_csv_directory(dir_path=\"../data\")"
   ],
   "metadata": {
    "collapsed": false,
    "pycharm": {
     "name": "#%%\n"
    }
   }
  },
  {
   "cell_type": "code",
   "execution_count": 3,
   "outputs": [
    {
     "name": "stdout",
     "output_type": "stream",
     "text": [
      "<class 'pandas.core.frame.DataFrame'>\n",
      "RangeIndex: 60000 entries, 0 to 59999\n",
      "Data columns (total 719 columns):\n",
      " #    Column    Dtype  \n",
      "---   ------    -----  \n",
      " 0    pixel13   float64\n",
      " 1    pixel14   float64\n",
      " 2    pixel15   float64\n",
      " 3    pixel16   float64\n",
      " 4    pixel33   float64\n",
      " 5    pixel34   float64\n",
      " 6    pixel35   float64\n",
      " 7    pixel36   float64\n",
      " 8    pixel37   float64\n",
      " 9    pixel38   float64\n",
      " 10   pixel39   float64\n",
      " 11   pixel40   float64\n",
      " 12   pixel41   float64\n",
      " 13   pixel42   float64\n",
      " 14   pixel43   float64\n",
      " 15   pixel44   float64\n",
      " 16   pixel45   float64\n",
      " 17   pixel46   float64\n",
      " 18   pixel47   float64\n",
      " 19   pixel48   float64\n",
      " 20   pixel49   float64\n",
      " 21   pixel50   float64\n",
      " 22   pixel51   float64\n",
      " 23   pixel52   float64\n",
      " 24   pixel59   float64\n",
      " 25   pixel60   float64\n",
      " 26   pixel61   float64\n",
      " 27   pixel62   float64\n",
      " 28   pixel63   float64\n",
      " 29   pixel64   float64\n",
      " 30   pixel65   float64\n",
      " 31   pixel66   float64\n",
      " 32   pixel67   float64\n",
      " 33   pixel68   float64\n",
      " 34   pixel69   float64\n",
      " 35   pixel70   float64\n",
      " 36   pixel71   float64\n",
      " 37   pixel72   float64\n",
      " 38   pixel73   float64\n",
      " 39   pixel74   float64\n",
      " 40   pixel75   float64\n",
      " 41   pixel76   float64\n",
      " 42   pixel77   float64\n",
      " 43   pixel78   float64\n",
      " 44   pixel79   float64\n",
      " 45   pixel80   float64\n",
      " 46   pixel81   float64\n",
      " 47   pixel82   float64\n",
      " 48   pixel87   float64\n",
      " 49   pixel88   float64\n",
      " 50   pixel89   float64\n",
      " 51   pixel90   float64\n",
      " 52   pixel91   float64\n",
      " 53   pixel92   float64\n",
      " 54   pixel93   float64\n",
      " 55   pixel94   float64\n",
      " 56   pixel95   float64\n",
      " 57   pixel96   float64\n",
      " 58   pixel97   float64\n",
      " 59   pixel98   float64\n",
      " 60   pixel99   float64\n",
      " 61   pixel100  float64\n",
      " 62   pixel101  float64\n",
      " 63   pixel102  float64\n",
      " 64   pixel103  float64\n",
      " 65   pixel104  float64\n",
      " 66   pixel105  float64\n",
      " 67   pixel106  float64\n",
      " 68   pixel107  float64\n",
      " 69   pixel108  float64\n",
      " 70   pixel109  float64\n",
      " 71   pixel110  float64\n",
      " 72   pixel111  float64\n",
      " 73   pixel114  float64\n",
      " 74   pixel115  float64\n",
      " 75   pixel116  float64\n",
      " 76   pixel117  float64\n",
      " 77   pixel118  float64\n",
      " 78   pixel119  float64\n",
      " 79   pixel120  float64\n",
      " 80   pixel121  float64\n",
      " 81   pixel122  float64\n",
      " 82   pixel123  float64\n",
      " 83   pixel124  float64\n",
      " 84   pixel125  float64\n",
      " 85   pixel126  float64\n",
      " 86   pixel127  float64\n",
      " 87   pixel128  float64\n",
      " 88   pixel129  float64\n",
      " 89   pixel130  float64\n",
      " 90   pixel131  float64\n",
      " 91   pixel132  float64\n",
      " 92   pixel133  float64\n",
      " 93   pixel134  float64\n",
      " 94   pixel135  float64\n",
      " 95   pixel136  float64\n",
      " 96   pixel137  float64\n",
      " 97   pixel138  float64\n",
      " 98   pixel139  float64\n",
      " 99   pixel140  float64\n",
      " 100  pixel142  float64\n",
      " 101  pixel143  float64\n",
      " 102  pixel144  float64\n",
      " 103  pixel145  float64\n",
      " 104  pixel146  float64\n",
      " 105  pixel147  float64\n",
      " 106  pixel148  float64\n",
      " 107  pixel149  float64\n",
      " 108  pixel150  float64\n",
      " 109  pixel151  float64\n",
      " 110  pixel152  float64\n",
      " 111  pixel153  float64\n",
      " 112  pixel154  float64\n",
      " 113  pixel155  float64\n",
      " 114  pixel156  float64\n",
      " 115  pixel157  float64\n",
      " 116  pixel158  float64\n",
      " 117  pixel159  float64\n",
      " 118  pixel160  float64\n",
      " 119  pixel161  float64\n",
      " 120  pixel162  float64\n",
      " 121  pixel163  float64\n",
      " 122  pixel164  float64\n",
      " 123  pixel165  float64\n",
      " 124  pixel166  float64\n",
      " 125  pixel167  float64\n",
      " 126  pixel168  float64\n",
      " 127  pixel170  float64\n",
      " 128  pixel171  float64\n",
      " 129  pixel172  float64\n",
      " 130  pixel173  float64\n",
      " 131  pixel174  float64\n",
      " 132  pixel175  float64\n",
      " 133  pixel176  float64\n",
      " 134  pixel177  float64\n",
      " 135  pixel178  float64\n",
      " 136  pixel179  float64\n",
      " 137  pixel180  float64\n",
      " 138  pixel181  float64\n",
      " 139  pixel182  float64\n",
      " 140  pixel183  float64\n",
      " 141  pixel184  float64\n",
      " 142  pixel185  float64\n",
      " 143  pixel186  float64\n",
      " 144  pixel187  float64\n",
      " 145  pixel188  float64\n",
      " 146  pixel189  float64\n",
      " 147  pixel190  float64\n",
      " 148  pixel191  float64\n",
      " 149  pixel192  float64\n",
      " 150  pixel193  float64\n",
      " 151  pixel194  float64\n",
      " 152  pixel195  float64\n",
      " 153  pixel196  float64\n",
      " 154  pixel197  float64\n",
      " 155  pixel198  float64\n",
      " 156  pixel199  float64\n",
      " 157  pixel200  float64\n",
      " 158  pixel201  float64\n",
      " 159  pixel202  float64\n",
      " 160  pixel203  float64\n",
      " 161  pixel204  float64\n",
      " 162  pixel205  float64\n",
      " 163  pixel206  float64\n",
      " 164  pixel207  float64\n",
      " 165  pixel208  float64\n",
      " 166  pixel209  float64\n",
      " 167  pixel210  float64\n",
      " 168  pixel211  float64\n",
      " 169  pixel212  float64\n",
      " 170  pixel213  float64\n",
      " 171  pixel214  float64\n",
      " 172  pixel215  float64\n",
      " 173  pixel216  float64\n",
      " 174  pixel217  float64\n",
      " 175  pixel218  float64\n",
      " 176  pixel219  float64\n",
      " 177  pixel220  float64\n",
      " 178  pixel221  float64\n",
      " 179  pixel222  float64\n",
      " 180  pixel223  float64\n",
      " 181  pixel224  float64\n",
      " 182  pixel225  float64\n",
      " 183  pixel226  float64\n",
      " 184  pixel227  float64\n",
      " 185  pixel228  float64\n",
      " 186  pixel229  float64\n",
      " 187  pixel230  float64\n",
      " 188  pixel231  float64\n",
      " 189  pixel232  float64\n",
      " 190  pixel233  float64\n",
      " 191  pixel234  float64\n",
      " 192  pixel235  float64\n",
      " 193  pixel236  float64\n",
      " 194  pixel237  float64\n",
      " 195  pixel238  float64\n",
      " 196  pixel239  float64\n",
      " 197  pixel240  float64\n",
      " 198  pixel241  float64\n",
      " 199  pixel242  float64\n",
      " 200  pixel243  float64\n",
      " 201  pixel244  float64\n",
      " 202  pixel245  float64\n",
      " 203  pixel246  float64\n",
      " 204  pixel247  float64\n",
      " 205  pixel248  float64\n",
      " 206  pixel249  float64\n",
      " 207  pixel250  float64\n",
      " 208  pixel251  float64\n",
      " 209  pixel252  float64\n",
      " 210  pixel253  float64\n",
      " 211  pixel254  float64\n",
      " 212  pixel255  float64\n",
      " 213  pixel256  float64\n",
      " 214  pixel257  float64\n",
      " 215  pixel258  float64\n",
      " 216  pixel259  float64\n",
      " 217  pixel260  float64\n",
      " 218  pixel261  float64\n",
      " 219  pixel262  float64\n",
      " 220  pixel263  float64\n",
      " 221  pixel264  float64\n",
      " 222  pixel265  float64\n",
      " 223  pixel266  float64\n",
      " 224  pixel267  float64\n",
      " 225  pixel268  float64\n",
      " 226  pixel269  float64\n",
      " 227  pixel270  float64\n",
      " 228  pixel271  float64\n",
      " 229  pixel272  float64\n",
      " 230  pixel273  float64\n",
      " 231  pixel274  float64\n",
      " 232  pixel275  float64\n",
      " 233  pixel276  float64\n",
      " 234  pixel277  float64\n",
      " 235  pixel278  float64\n",
      " 236  pixel279  float64\n",
      " 237  pixel280  float64\n",
      " 238  pixel281  float64\n",
      " 239  pixel282  float64\n",
      " 240  pixel283  float64\n",
      " 241  pixel284  float64\n",
      " 242  pixel285  float64\n",
      " 243  pixel286  float64\n",
      " 244  pixel287  float64\n",
      " 245  pixel288  float64\n",
      " 246  pixel289  float64\n",
      " 247  pixel290  float64\n",
      " 248  pixel291  float64\n",
      " 249  pixel292  float64\n",
      " 250  pixel293  float64\n",
      " 251  pixel294  float64\n",
      " 252  pixel295  float64\n",
      " 253  pixel296  float64\n",
      " 254  pixel297  float64\n",
      " 255  pixel298  float64\n",
      " 256  pixel299  float64\n",
      " 257  pixel300  float64\n",
      " 258  pixel301  float64\n",
      " 259  pixel302  float64\n",
      " 260  pixel303  float64\n",
      " 261  pixel304  float64\n",
      " 262  pixel305  float64\n",
      " 263  pixel306  float64\n",
      " 264  pixel307  float64\n",
      " 265  pixel308  float64\n",
      " 266  pixel309  float64\n",
      " 267  pixel310  float64\n",
      " 268  pixel311  float64\n",
      " 269  pixel312  float64\n",
      " 270  pixel313  float64\n",
      " 271  pixel314  float64\n",
      " 272  pixel315  float64\n",
      " 273  pixel316  float64\n",
      " 274  pixel317  float64\n",
      " 275  pixel318  float64\n",
      " 276  pixel319  float64\n",
      " 277  pixel320  float64\n",
      " 278  pixel321  float64\n",
      " 279  pixel322  float64\n",
      " 280  pixel323  float64\n",
      " 281  pixel324  float64\n",
      " 282  pixel325  float64\n",
      " 283  pixel326  float64\n",
      " 284  pixel327  float64\n",
      " 285  pixel328  float64\n",
      " 286  pixel329  float64\n",
      " 287  pixel330  float64\n",
      " 288  pixel331  float64\n",
      " 289  pixel332  float64\n",
      " 290  pixel333  float64\n",
      " 291  pixel334  float64\n",
      " 292  pixel335  float64\n",
      " 293  pixel336  float64\n",
      " 294  pixel337  float64\n",
      " 295  pixel338  float64\n",
      " 296  pixel339  float64\n",
      " 297  pixel340  float64\n",
      " 298  pixel341  float64\n",
      " 299  pixel342  float64\n",
      " 300  pixel343  float64\n",
      " 301  pixel344  float64\n",
      " 302  pixel345  float64\n",
      " 303  pixel346  float64\n",
      " 304  pixel347  float64\n",
      " 305  pixel348  float64\n",
      " 306  pixel349  float64\n",
      " 307  pixel350  float64\n",
      " 308  pixel351  float64\n",
      " 309  pixel352  float64\n",
      " 310  pixel353  float64\n",
      " 311  pixel354  float64\n",
      " 312  pixel355  float64\n",
      " 313  pixel356  float64\n",
      " 314  pixel357  float64\n",
      " 315  pixel358  float64\n",
      " 316  pixel359  float64\n",
      " 317  pixel360  float64\n",
      " 318  pixel361  float64\n",
      " 319  pixel362  float64\n",
      " 320  pixel363  float64\n",
      " 321  pixel364  float64\n",
      " 322  pixel365  float64\n",
      " 323  pixel366  float64\n",
      " 324  pixel367  float64\n",
      " 325  pixel368  float64\n",
      " 326  pixel369  float64\n",
      " 327  pixel370  float64\n",
      " 328  pixel371  float64\n",
      " 329  pixel372  float64\n",
      " 330  pixel373  float64\n",
      " 331  pixel374  float64\n",
      " 332  pixel375  float64\n",
      " 333  pixel376  float64\n",
      " 334  pixel377  float64\n",
      " 335  pixel378  float64\n",
      " 336  pixel379  float64\n",
      " 337  pixel380  float64\n",
      " 338  pixel381  float64\n",
      " 339  pixel382  float64\n",
      " 340  pixel383  float64\n",
      " 341  pixel384  float64\n",
      " 342  pixel385  float64\n",
      " 343  pixel386  float64\n",
      " 344  pixel387  float64\n",
      " 345  pixel388  float64\n",
      " 346  pixel389  float64\n",
      " 347  pixel390  float64\n",
      " 348  pixel391  float64\n",
      " 349  pixel392  float64\n",
      " 350  pixel393  float64\n",
      " 351  pixel394  float64\n",
      " 352  pixel395  float64\n",
      " 353  pixel396  float64\n",
      " 354  pixel397  float64\n",
      " 355  pixel398  float64\n",
      " 356  pixel399  float64\n",
      " 357  pixel400  float64\n",
      " 358  pixel401  float64\n",
      " 359  pixel402  float64\n",
      " 360  pixel403  float64\n",
      " 361  pixel404  float64\n",
      " 362  pixel405  float64\n",
      " 363  pixel406  float64\n",
      " 364  pixel407  float64\n",
      " 365  pixel408  float64\n",
      " 366  pixel409  float64\n",
      " 367  pixel410  float64\n",
      " 368  pixel411  float64\n",
      " 369  pixel412  float64\n",
      " 370  pixel413  float64\n",
      " 371  pixel414  float64\n",
      " 372  pixel415  float64\n",
      " 373  pixel416  float64\n",
      " 374  pixel417  float64\n",
      " 375  pixel418  float64\n",
      " 376  pixel419  float64\n",
      " 377  pixel420  float64\n",
      " 378  pixel421  float64\n",
      " 379  pixel422  float64\n",
      " 380  pixel423  float64\n",
      " 381  pixel424  float64\n",
      " 382  pixel425  float64\n",
      " 383  pixel426  float64\n",
      " 384  pixel427  float64\n",
      " 385  pixel428  float64\n",
      " 386  pixel429  float64\n",
      " 387  pixel430  float64\n",
      " 388  pixel431  float64\n",
      " 389  pixel432  float64\n",
      " 390  pixel433  float64\n",
      " 391  pixel434  float64\n",
      " 392  pixel435  float64\n",
      " 393  pixel436  float64\n",
      " 394  pixel437  float64\n",
      " 395  pixel438  float64\n",
      " 396  pixel439  float64\n",
      " 397  pixel440  float64\n",
      " 398  pixel441  float64\n",
      " 399  pixel442  float64\n",
      " 400  pixel443  float64\n",
      " 401  pixel444  float64\n",
      " 402  pixel445  float64\n",
      " 403  pixel446  float64\n",
      " 404  pixel447  float64\n",
      " 405  pixel448  float64\n",
      " 406  pixel449  float64\n",
      " 407  pixel450  float64\n",
      " 408  pixel451  float64\n",
      " 409  pixel452  float64\n",
      " 410  pixel453  float64\n",
      " 411  pixel454  float64\n",
      " 412  pixel455  float64\n",
      " 413  pixel456  float64\n",
      " 414  pixel457  float64\n",
      " 415  pixel458  float64\n",
      " 416  pixel459  float64\n",
      " 417  pixel460  float64\n",
      " 418  pixel461  float64\n",
      " 419  pixel462  float64\n",
      " 420  pixel463  float64\n",
      " 421  pixel464  float64\n",
      " 422  pixel465  float64\n",
      " 423  pixel466  float64\n",
      " 424  pixel467  float64\n",
      " 425  pixel468  float64\n",
      " 426  pixel469  float64\n",
      " 427  pixel470  float64\n",
      " 428  pixel471  float64\n",
      " 429  pixel472  float64\n",
      " 430  pixel473  float64\n",
      " 431  pixel474  float64\n",
      " 432  pixel475  float64\n",
      " 433  pixel476  float64\n",
      " 434  pixel478  float64\n",
      " 435  pixel479  float64\n",
      " 436  pixel480  float64\n",
      " 437  pixel481  float64\n",
      " 438  pixel482  float64\n",
      " 439  pixel483  float64\n",
      " 440  pixel484  float64\n",
      " 441  pixel485  float64\n",
      " 442  pixel486  float64\n",
      " 443  pixel487  float64\n",
      " 444  pixel488  float64\n",
      " 445  pixel489  float64\n",
      " 446  pixel490  float64\n",
      " 447  pixel491  float64\n",
      " 448  pixel492  float64\n",
      " 449  pixel493  float64\n",
      " 450  pixel494  float64\n",
      " 451  pixel495  float64\n",
      " 452  pixel496  float64\n",
      " 453  pixel497  float64\n",
      " 454  pixel498  float64\n",
      " 455  pixel499  float64\n",
      " 456  pixel500  float64\n",
      " 457  pixel501  float64\n",
      " 458  pixel502  float64\n",
      " 459  pixel503  float64\n",
      " 460  pixel504  float64\n",
      " 461  pixel505  float64\n",
      " 462  pixel506  float64\n",
      " 463  pixel507  float64\n",
      " 464  pixel508  float64\n",
      " 465  pixel509  float64\n",
      " 466  pixel510  float64\n",
      " 467  pixel511  float64\n",
      " 468  pixel512  float64\n",
      " 469  pixel513  float64\n",
      " 470  pixel514  float64\n",
      " 471  pixel515  float64\n",
      " 472  pixel516  float64\n",
      " 473  pixel517  float64\n",
      " 474  pixel518  float64\n",
      " 475  pixel519  float64\n",
      " 476  pixel520  float64\n",
      " 477  pixel521  float64\n",
      " 478  pixel522  float64\n",
      " 479  pixel523  float64\n",
      " 480  pixel524  float64\n",
      " 481  pixel525  float64\n",
      " 482  pixel526  float64\n",
      " 483  pixel527  float64\n",
      " 484  pixel528  float64\n",
      " 485  pixel529  float64\n",
      " 486  pixel530  float64\n",
      " 487  pixel531  float64\n",
      " 488  pixel532  float64\n",
      " 489  pixel533  float64\n",
      " 490  pixel534  float64\n",
      " 491  pixel535  float64\n",
      " 492  pixel536  float64\n",
      " 493  pixel537  float64\n",
      " 494  pixel538  float64\n",
      " 495  pixel539  float64\n",
      " 496  pixel540  float64\n",
      " 497  pixel541  float64\n",
      " 498  pixel542  float64\n",
      " 499  pixel543  float64\n",
      " 500  pixel544  float64\n",
      " 501  pixel545  float64\n",
      " 502  pixel546  float64\n",
      " 503  pixel547  float64\n",
      " 504  pixel548  float64\n",
      " 505  pixel549  float64\n",
      " 506  pixel550  float64\n",
      " 507  pixel551  float64\n",
      " 508  pixel552  float64\n",
      " 509  pixel553  float64\n",
      " 510  pixel554  float64\n",
      " 511  pixel555  float64\n",
      " 512  pixel556  float64\n",
      " 513  pixel557  float64\n",
      " 514  pixel558  float64\n",
      " 515  pixel559  float64\n",
      " 516  pixel560  float64\n",
      " 517  pixel562  float64\n",
      " 518  pixel563  float64\n",
      " 519  pixel564  float64\n",
      " 520  pixel565  float64\n",
      " 521  pixel566  float64\n",
      " 522  pixel567  float64\n",
      " 523  pixel568  float64\n",
      " 524  pixel569  float64\n",
      " 525  pixel570  float64\n",
      " 526  pixel571  float64\n",
      " 527  pixel572  float64\n",
      " 528  pixel573  float64\n",
      " 529  pixel574  float64\n",
      " 530  pixel575  float64\n",
      " 531  pixel576  float64\n",
      " 532  pixel577  float64\n",
      " 533  pixel578  float64\n",
      " 534  pixel579  float64\n",
      " 535  pixel580  float64\n",
      " 536  pixel581  float64\n",
      " 537  pixel582  float64\n",
      " 538  pixel583  float64\n",
      " 539  pixel584  float64\n",
      " 540  pixel585  float64\n",
      " 541  pixel586  float64\n",
      " 542  pixel587  float64\n",
      " 543  pixel588  float64\n",
      " 544  pixel589  float64\n",
      " 545  pixel590  float64\n",
      " 546  pixel591  float64\n",
      " 547  pixel592  float64\n",
      " 548  pixel593  float64\n",
      " 549  pixel594  float64\n",
      " 550  pixel595  float64\n",
      " 551  pixel596  float64\n",
      " 552  pixel597  float64\n",
      " 553  pixel598  float64\n",
      " 554  pixel599  float64\n",
      " 555  pixel600  float64\n",
      " 556  pixel601  float64\n",
      " 557  pixel602  float64\n",
      " 558  pixel603  float64\n",
      " 559  pixel604  float64\n",
      " 560  pixel605  float64\n",
      " 561  pixel606  float64\n",
      " 562  pixel607  float64\n",
      " 563  pixel608  float64\n",
      " 564  pixel609  float64\n",
      " 565  pixel610  float64\n",
      " 566  pixel611  float64\n",
      " 567  pixel612  float64\n",
      " 568  pixel613  float64\n",
      " 569  pixel614  float64\n",
      " 570  pixel615  float64\n",
      " 571  pixel616  float64\n",
      " 572  pixel617  float64\n",
      " 573  pixel618  float64\n",
      " 574  pixel619  float64\n",
      " 575  pixel620  float64\n",
      " 576  pixel621  float64\n",
      " 577  pixel622  float64\n",
      " 578  pixel623  float64\n",
      " 579  pixel624  float64\n",
      " 580  pixel625  float64\n",
      " 581  pixel626  float64\n",
      " 582  pixel627  float64\n",
      " 583  pixel628  float64\n",
      " 584  pixel629  float64\n",
      " 585  pixel630  float64\n",
      " 586  pixel631  float64\n",
      " 587  pixel632  float64\n",
      " 588  pixel633  float64\n",
      " 589  pixel634  float64\n",
      " 590  pixel635  float64\n",
      " 591  pixel636  float64\n",
      " 592  pixel637  float64\n",
      " 593  pixel638  float64\n",
      " 594  pixel639  float64\n",
      " 595  pixel640  float64\n",
      " 596  pixel641  float64\n",
      " 597  pixel642  float64\n",
      " 598  pixel643  float64\n",
      " 599  pixel644  float64\n",
      " 600  pixel646  float64\n",
      " 601  pixel647  float64\n",
      " 602  pixel648  float64\n",
      " 603  pixel649  float64\n",
      " 604  pixel650  float64\n",
      " 605  pixel651  float64\n",
      " 606  pixel652  float64\n",
      " 607  pixel653  float64\n",
      " 608  pixel654  float64\n",
      " 609  pixel655  float64\n",
      " 610  pixel656  float64\n",
      " 611  pixel657  float64\n",
      " 612  pixel658  float64\n",
      " 613  pixel659  float64\n",
      " 614  pixel660  float64\n",
      " 615  pixel661  float64\n",
      " 616  pixel662  float64\n",
      " 617  pixel663  float64\n",
      " 618  pixel664  float64\n",
      " 619  pixel665  float64\n",
      " 620  pixel666  float64\n",
      " 621  pixel667  float64\n",
      " 622  pixel668  float64\n",
      " 623  pixel669  float64\n",
      " 624  pixel670  float64\n",
      " 625  pixel671  float64\n",
      " 626  pixel675  float64\n",
      " 627  pixel676  float64\n",
      " 628  pixel677  float64\n",
      " 629  pixel678  float64\n",
      " 630  pixel679  float64\n",
      " 631  pixel680  float64\n",
      " 632  pixel681  float64\n",
      " 633  pixel682  float64\n",
      " 634  pixel683  float64\n",
      " 635  pixel684  float64\n",
      " 636  pixel685  float64\n",
      " 637  pixel686  float64\n",
      " 638  pixel687  float64\n",
      " 639  pixel688  float64\n",
      " 640  pixel689  float64\n",
      " 641  pixel690  float64\n",
      " 642  pixel691  float64\n",
      " 643  pixel692  float64\n",
      " 644  pixel693  float64\n",
      " 645  pixel694  float64\n",
      " 646  pixel695  float64\n",
      " 647  pixel696  float64\n",
      " 648  pixel697  float64\n",
      " 649  pixel698  float64\n",
      " 650  pixel699  float64\n",
      " 651  pixel703  float64\n",
      " 652  pixel704  float64\n",
      " 653  pixel705  float64\n",
      " 654  pixel706  float64\n",
      " 655  pixel707  float64\n",
      " 656  pixel708  float64\n",
      " 657  pixel709  float64\n",
      " 658  pixel710  float64\n",
      " 659  pixel711  float64\n",
      " 660  pixel712  float64\n",
      " 661  pixel713  float64\n",
      " 662  pixel714  float64\n",
      " 663  pixel715  float64\n",
      " 664  pixel716  float64\n",
      " 665  pixel717  float64\n",
      " 666  pixel718  float64\n",
      " 667  pixel719  float64\n",
      " 668  pixel720  float64\n",
      " 669  pixel721  float64\n",
      " 670  pixel722  float64\n",
      " 671  pixel723  float64\n",
      " 672  pixel724  float64\n",
      " 673  pixel725  float64\n",
      " 674  pixel726  float64\n",
      " 675  pixel727  float64\n",
      " 676  pixel732  float64\n",
      " 677  pixel733  float64\n",
      " 678  pixel734  float64\n",
      " 679  pixel735  float64\n",
      " 680  pixel736  float64\n",
      " 681  pixel737  float64\n",
      " 682  pixel738  float64\n",
      " 683  pixel739  float64\n",
      " 684  pixel740  float64\n",
      " 685  pixel741  float64\n",
      " 686  pixel742  float64\n",
      " 687  pixel743  float64\n",
      " 688  pixel744  float64\n",
      " 689  pixel745  float64\n",
      " 690  pixel746  float64\n",
      " 691  pixel747  float64\n",
      " 692  pixel748  float64\n",
      " 693  pixel749  float64\n",
      " 694  pixel750  float64\n",
      " 695  pixel751  float64\n",
      " 696  pixel752  float64\n",
      " 697  pixel753  float64\n",
      " 698  pixel754  float64\n",
      " 699  pixel761  float64\n",
      " 700  pixel762  float64\n",
      " 701  pixel763  float64\n",
      " 702  pixel764  float64\n",
      " 703  pixel765  float64\n",
      " 704  pixel766  float64\n",
      " 705  pixel767  float64\n",
      " 706  pixel768  float64\n",
      " 707  pixel769  float64\n",
      " 708  pixel770  float64\n",
      " 709  pixel771  float64\n",
      " 710  pixel772  float64\n",
      " 711  pixel773  float64\n",
      " 712  pixel774  float64\n",
      " 713  pixel775  float64\n",
      " 714  pixel776  float64\n",
      " 715  pixel777  float64\n",
      " 716  pixel778  float64\n",
      " 717  pixel779  float64\n",
      " 718  pixel780  float64\n",
      "dtypes: float64(719)\n",
      "memory usage: 329.1 MB\n"
     ]
    }
   ],
   "source": [
    "data_split.x_train.info(verbose=True)"
   ],
   "metadata": {
    "collapsed": false,
    "pycharm": {
     "name": "#%%\n"
    }
   }
  },
  {
   "cell_type": "code",
   "execution_count": 4,
   "outputs": [
    {
     "data": {
      "text/plain": "(60000,)"
     },
     "execution_count": 4,
     "metadata": {},
     "output_type": "execute_result"
    }
   ],
   "source": [
    "data_split.y_train.shape"
   ],
   "metadata": {
    "collapsed": false,
    "pycharm": {
     "name": "#%%\n"
    }
   }
  },
  {
   "cell_type": "markdown",
   "source": [
    "## Tuning Discriminative Classifiers: SVM"
   ],
   "metadata": {
    "collapsed": false,
    "pycharm": {
     "name": "#%% md\n"
    }
   }
  },
  {
   "cell_type": "markdown",
   "source": [
    "Use a smaller dataset due to the workload of GridSearchCV on SVC"
   ],
   "metadata": {
    "collapsed": false,
    "pycharm": {
     "name": "#%% md\n"
    }
   }
  },
  {
   "cell_type": "code",
   "execution_count": 5,
   "outputs": [
    {
     "data": {
      "text/plain": "<AxesSubplot:ylabel='count'>"
     },
     "execution_count": 5,
     "metadata": {},
     "output_type": "execute_result"
    },
    {
     "data": {
      "text/plain": "<Figure size 432x288 with 1 Axes>",
      "image/png": "[encoded data removed]"
     },
     "metadata": {},
     "output_type": "display_data"
    }
   ],
   "source": [
    "sns.countplot(x=data_split.y_train)"
   ],
   "metadata": {
    "collapsed": false,
    "pycharm": {
     "name": "#%%\n"
    }
   }
  },
  {
   "cell_type": "code",
   "execution_count": 6,
   "outputs": [],
   "source": [
    "x_data_small, y_data_small = ds.get_train_subset(x_train=data_split.x_train, y_train=data_split.y_train, size=5000)"
   ],
   "metadata": {
    "collapsed": false,
    "pycharm": {
     "name": "#%%\n"
    }
   }
  },
  {
   "cell_type": "code",
   "execution_count": 7,
   "outputs": [
    {
     "data": {
      "text/plain": "<AxesSubplot:xlabel='Number', ylabel='count'>"
     },
     "execution_count": 7,
     "metadata": {},
     "output_type": "execute_result"
    },
    {
     "data": {
      "text/plain": "<Figure size 432x288 with 1 Axes>",
      "image/png": "[encoded data removed]"
     },
     "metadata": {},
     "output_type": "display_data"
    }
   ],
   "source": [
    "sns.countplot(x=y_data_small)"
   ],
   "metadata": {
    "collapsed": false,
    "pycharm": {
     "name": "#%%\n"
    }
   }
  },
  {
   "cell_type": "code",
   "execution_count": 8,
   "outputs": [
    {
     "name": "stdout",
     "output_type": "stream",
     "text": [
      "<class 'pandas.core.frame.DataFrame'>\n",
      "Int64Index: 5000 entries, 49044 to 20350\n",
      "Data columns (total 719 columns):\n",
      " #    Column    Dtype  \n",
      "---   ------    -----  \n",
      " 0    pixel13   float64\n",
      " 1    pixel14   float64\n",
      " 2    pixel15   float64\n",
      " 3    pixel16   float64\n",
      " 4    pixel33   float64\n",
      " 5    pixel34   float64\n",
      " 6    pixel35   float64\n",
      " 7    pixel36   float64\n",
      " 8    pixel37   float64\n",
      " 9    pixel38   float64\n",
      " 10   pixel39   float64\n",
      " 11   pixel40   float64\n",
      " 12   pixel41   float64\n",
      " 13   pixel42   float64\n",
      " 14   pixel43   float64\n",
      " 15   pixel44   float64\n",
      " 16   pixel45   float64\n",
      " 17   pixel46   float64\n",
      " 18   pixel47   float64\n",
      " 19   pixel48   float64\n",
      " 20   pixel49   float64\n",
      " 21   pixel50   float64\n",
      " 22   pixel51   float64\n",
      " 23   pixel52   float64\n",
      " 24   pixel59   float64\n",
      " 25   pixel60   float64\n",
      " 26   pixel61   float64\n",
      " 27   pixel62   float64\n",
      " 28   pixel63   float64\n",
      " 29   pixel64   float64\n",
      " 30   pixel65   float64\n",
      " 31   pixel66   float64\n",
      " 32   pixel67   float64\n",
      " 33   pixel68   float64\n",
      " 34   pixel69   float64\n",
      " 35   pixel70   float64\n",
      " 36   pixel71   float64\n",
      " 37   pixel72   float64\n",
      " 38   pixel73   float64\n",
      " 39   pixel74   float64\n",
      " 40   pixel75   float64\n",
      " 41   pixel76   float64\n",
      " 42   pixel77   float64\n",
      " 43   pixel78   float64\n",
      " 44   pixel79   float64\n",
      " 45   pixel80   float64\n",
      " 46   pixel81   float64\n",
      " 47   pixel82   float64\n",
      " 48   pixel87   float64\n",
      " 49   pixel88   float64\n",
      " 50   pixel89   float64\n",
      " 51   pixel90   float64\n",
      " 52   pixel91   float64\n",
      " 53   pixel92   float64\n",
      " 54   pixel93   float64\n",
      " 55   pixel94   float64\n",
      " 56   pixel95   float64\n",
      " 57   pixel96   float64\n",
      " 58   pixel97   float64\n",
      " 59   pixel98   float64\n",
      " 60   pixel99   float64\n",
      " 61   pixel100  float64\n",
      " 62   pixel101  float64\n",
      " 63   pixel102  float64\n",
      " 64   pixel103  float64\n",
      " 65   pixel104  float64\n",
      " 66   pixel105  float64\n",
      " 67   pixel106  float64\n",
      " 68   pixel107  float64\n",
      " 69   pixel108  float64\n",
      " 70   pixel109  float64\n",
      " 71   pixel110  float64\n",
      " 72   pixel111  float64\n",
      " 73   pixel114  float64\n",
      " 74   pixel115  float64\n",
      " 75   pixel116  float64\n",
      " 76   pixel117  float64\n",
      " 77   pixel118  float64\n",
      " 78   pixel119  float64\n",
      " 79   pixel120  float64\n",
      " 80   pixel121  float64\n",
      " 81   pixel122  float64\n",
      " 82   pixel123  float64\n",
      " 83   pixel124  float64\n",
      " 84   pixel125  float64\n",
      " 85   pixel126  float64\n",
      " 86   pixel127  float64\n",
      " 87   pixel128  float64\n",
      " 88   pixel129  float64\n",
      " 89   pixel130  float64\n",
      " 90   pixel131  float64\n",
      " 91   pixel132  float64\n",
      " 92   pixel133  float64\n",
      " 93   pixel134  float64\n",
      " 94   pixel135  float64\n",
      " 95   pixel136  float64\n",
      " 96   pixel137  float64\n",
      " 97   pixel138  float64\n",
      " 98   pixel139  float64\n",
      " 99   pixel140  float64\n",
      " 100  pixel142  float64\n",
      " 101  pixel143  float64\n",
      " 102  pixel144  float64\n",
      " 103  pixel145  float64\n",
      " 104  pixel146  float64\n",
      " 105  pixel147  float64\n",
      " 106  pixel148  float64\n",
      " 107  pixel149  float64\n",
      " 108  pixel150  float64\n",
      " 109  pixel151  float64\n",
      " 110  pixel152  float64\n",
      " 111  pixel153  float64\n",
      " 112  pixel154  float64\n",
      " 113  pixel155  float64\n",
      " 114  pixel156  float64\n",
      " 115  pixel157  float64\n",
      " 116  pixel158  float64\n",
      " 117  pixel159  float64\n",
      " 118  pixel160  float64\n",
      " 119  pixel161  float64\n",
      " 120  pixel162  float64\n",
      " 121  pixel163  float64\n",
      " 122  pixel164  float64\n",
      " 123  pixel165  float64\n",
      " 124  pixel166  float64\n",
      " 125  pixel167  float64\n",
      " 126  pixel168  float64\n",
      " 127  pixel170  float64\n",
      " 128  pixel171  float64\n",
      " 129  pixel172  float64\n",
      " 130  pixel173  float64\n",
      " 131  pixel174  float64\n",
      " 132  pixel175  float64\n",
      " 133  pixel176  float64\n",
      " 134  pixel177  float64\n",
      " 135  pixel178  float64\n",
      " 136  pixel179  float64\n",
      " 137  pixel180  float64\n",
      " 138  pixel181  float64\n",
      " 139  pixel182  float64\n",
      " 140  pixel183  float64\n",
      " 141  pixel184  float64\n",
      " 142  pixel185  float64\n",
      " 143  pixel186  float64\n",
      " 144  pixel187  float64\n",
      " 145  pixel188  float64\n",
      " 146  pixel189  float64\n",
      " 147  pixel190  float64\n",
      " 148  pixel191  float64\n",
      " 149  pixel192  float64\n",
      " 150  pixel193  float64\n",
      " 151  pixel194  float64\n",
      " 152  pixel195  float64\n",
      " 153  pixel196  float64\n",
      " 154  pixel197  float64\n",
      " 155  pixel198  float64\n",
      " 156  pixel199  float64\n",
      " 157  pixel200  float64\n",
      " 158  pixel201  float64\n",
      " 159  pixel202  float64\n",
      " 160  pixel203  float64\n",
      " 161  pixel204  float64\n",
      " 162  pixel205  float64\n",
      " 163  pixel206  float64\n",
      " 164  pixel207  float64\n",
      " 165  pixel208  float64\n",
      " 166  pixel209  float64\n",
      " 167  pixel210  float64\n",
      " 168  pixel211  float64\n",
      " 169  pixel212  float64\n",
      " 170  pixel213  float64\n",
      " 171  pixel214  float64\n",
      " 172  pixel215  float64\n",
      " 173  pixel216  float64\n",
      " 174  pixel217  float64\n",
      " 175  pixel218  float64\n",
      " 176  pixel219  float64\n",
      " 177  pixel220  float64\n",
      " 178  pixel221  float64\n",
      " 179  pixel222  float64\n",
      " 180  pixel223  float64\n",
      " 181  pixel224  float64\n",
      " 182  pixel225  float64\n",
      " 183  pixel226  float64\n",
      " 184  pixel227  float64\n",
      " 185  pixel228  float64\n",
      " 186  pixel229  float64\n",
      " 187  pixel230  float64\n",
      " 188  pixel231  float64\n",
      " 189  pixel232  float64\n",
      " 190  pixel233  float64\n",
      " 191  pixel234  float64\n",
      " 192  pixel235  float64\n",
      " 193  pixel236  float64\n",
      " 194  pixel237  float64\n",
      " 195  pixel238  float64\n",
      " 196  pixel239  float64\n",
      " 197  pixel240  float64\n",
      " 198  pixel241  float64\n",
      " 199  pixel242  float64\n",
      " 200  pixel243  float64\n",
      " 201  pixel244  float64\n",
      " 202  pixel245  float64\n",
      " 203  pixel246  float64\n",
      " 204  pixel247  float64\n",
      " 205  pixel248  float64\n",
      " 206  pixel249  float64\n",
      " 207  pixel250  float64\n",
      " 208  pixel251  float64\n",
      " 209  pixel252  float64\n",
      " 210  pixel253  float64\n",
      " 211  pixel254  float64\n",
      " 212  pixel255  float64\n",
      " 213  pixel256  float64\n",
      " 214  pixel257  float64\n",
      " 215  pixel258  float64\n",
      " 216  pixel259  float64\n",
      " 217  pixel260  float64\n",
      " 218  pixel261  float64\n",
      " 219  pixel262  float64\n",
      " 220  pixel263  float64\n",
      " 221  pixel264  float64\n",
      " 222  pixel265  float64\n",
      " 223  pixel266  float64\n",
      " 224  pixel267  float64\n",
      " 225  pixel268  float64\n",
      " 226  pixel269  float64\n",
      " 227  pixel270  float64\n",
      " 228  pixel271  float64\n",
      " 229  pixel272  float64\n",
      " 230  pixel273  float64\n",
      " 231  pixel274  float64\n",
      " 232  pixel275  float64\n",
      " 233  pixel276  float64\n",
      " 234  pixel277  float64\n",
      " 235  pixel278  float64\n",
      " 236  pixel279  float64\n",
      " 237  pixel280  float64\n",
      " 238  pixel281  float64\n",
      " 239  pixel282  float64\n",
      " 240  pixel283  float64\n",
      " 241  pixel284  float64\n",
      " 242  pixel285  float64\n",
      " 243  pixel286  float64\n",
      " 244  pixel287  float64\n",
      " 245  pixel288  float64\n",
      " 246  pixel289  float64\n",
      " 247  pixel290  float64\n",
      " 248  pixel291  float64\n",
      " 249  pixel292  float64\n",
      " 250  pixel293  float64\n",
      " 251  pixel294  float64\n",
      " 252  pixel295  float64\n",
      " 253  pixel296  float64\n",
      " 254  pixel297  float64\n",
      " 255  pixel298  float64\n",
      " 256  pixel299  float64\n",
      " 257  pixel300  float64\n",
      " 258  pixel301  float64\n",
      " 259  pixel302  float64\n",
      " 260  pixel303  float64\n",
      " 261  pixel304  float64\n",
      " 262  pixel305  float64\n",
      " 263  pixel306  float64\n",
      " 264  pixel307  float64\n",
      " 265  pixel308  float64\n",
      " 266  pixel309  float64\n",
      " 267  pixel310  float64\n",
      " 268  pixel311  float64\n",
      " 269  pixel312  float64\n",
      " 270  pixel313  float64\n",
      " 271  pixel314  float64\n",
      " 272  pixel315  float64\n",
      " 273  pixel316  float64\n",
      " 274  pixel317  float64\n",
      " 275  pixel318  float64\n",
      " 276  pixel319  float64\n",
      " 277  pixel320  float64\n",
      " 278  pixel321  float64\n",
      " 279  pixel322  float64\n",
      " 280  pixel323  float64\n",
      " 281  pixel324  float64\n",
      " 282  pixel325  float64\n",
      " 283  pixel326  float64\n",
      " 284  pixel327  float64\n",
      " 285  pixel328  float64\n",
      " 286  pixel329  float64\n",
      " 287  pixel330  float64\n",
      " 288  pixel331  float64\n",
      " 289  pixel332  float64\n",
      " 290  pixel333  float64\n",
      " 291  pixel334  float64\n",
      " 292  pixel335  float64\n",
      " 293  pixel336  float64\n",
      " 294  pixel337  float64\n",
      " 295  pixel338  float64\n",
      " 296  pixel339  float64\n",
      " 297  pixel340  float64\n",
      " 298  pixel341  float64\n",
      " 299  pixel342  float64\n",
      " 300  pixel343  float64\n",
      " 301  pixel344  float64\n",
      " 302  pixel345  float64\n",
      " 303  pixel346  float64\n",
      " 304  pixel347  float64\n",
      " 305  pixel348  float64\n",
      " 306  pixel349  float64\n",
      " 307  pixel350  float64\n",
      " 308  pixel351  float64\n",
      " 309  pixel352  float64\n",
      " 310  pixel353  float64\n",
      " 311  pixel354  float64\n",
      " 312  pixel355  float64\n",
      " 313  pixel356  float64\n",
      " 314  pixel357  float64\n",
      " 315  pixel358  float64\n",
      " 316  pixel359  float64\n",
      " 317  pixel360  float64\n",
      " 318  pixel361  float64\n",
      " 319  pixel362  float64\n",
      " 320  pixel363  float64\n",
      " 321  pixel364  float64\n",
      " 322  pixel365  float64\n",
      " 323  pixel366  float64\n",
      " 324  pixel367  float64\n",
      " 325  pixel368  float64\n",
      " 326  pixel369  float64\n",
      " 327  pixel370  float64\n",
      " 328  pixel371  float64\n",
      " 329  pixel372  float64\n",
      " 330  pixel373  float64\n",
      " 331  pixel374  float64\n",
      " 332  pixel375  float64\n",
      " 333  pixel376  float64\n",
      " 334  pixel377  float64\n",
      " 335  pixel378  float64\n",
      " 336  pixel379  float64\n",
      " 337  pixel380  float64\n",
      " 338  pixel381  float64\n",
      " 339  pixel382  float64\n",
      " 340  pixel383  float64\n",
      " 341  pixel384  float64\n",
      " 342  pixel385  float64\n",
      " 343  pixel386  float64\n",
      " 344  pixel387  float64\n",
      " 345  pixel388  float64\n",
      " 346  pixel389  float64\n",
      " 347  pixel390  float64\n",
      " 348  pixel391  float64\n",
      " 349  pixel392  float64\n",
      " 350  pixel393  float64\n",
      " 351  pixel394  float64\n",
      " 352  pixel395  float64\n",
      " 353  pixel396  float64\n",
      " 354  pixel397  float64\n",
      " 355  pixel398  float64\n",
      " 356  pixel399  float64\n",
      " 357  pixel400  float64\n",
      " 358  pixel401  float64\n",
      " 359  pixel402  float64\n",
      " 360  pixel403  float64\n",
      " 361  pixel404  float64\n",
      " 362  pixel405  float64\n",
      " 363  pixel406  float64\n",
      " 364  pixel407  float64\n",
      " 365  pixel408  float64\n",
      " 366  pixel409  float64\n",
      " 367  pixel410  float64\n",
      " 368  pixel411  float64\n",
      " 369  pixel412  float64\n",
      " 370  pixel413  float64\n",
      " 371  pixel414  float64\n",
      " 372  pixel415  float64\n",
      " 373  pixel416  float64\n",
      " 374  pixel417  float64\n",
      " 375  pixel418  float64\n",
      " 376  pixel419  float64\n",
      " 377  pixel420  float64\n",
      " 378  pixel421  float64\n",
      " 379  pixel422  float64\n",
      " 380  pixel423  float64\n",
      " 381  pixel424  float64\n",
      " 382  pixel425  float64\n",
      " 383  pixel426  float64\n",
      " 384  pixel427  float64\n",
      " 385  pixel428  float64\n",
      " 386  pixel429  float64\n",
      " 387  pixel430  float64\n",
      " 388  pixel431  float64\n",
      " 389  pixel432  float64\n",
      " 390  pixel433  float64\n",
      " 391  pixel434  float64\n",
      " 392  pixel435  float64\n",
      " 393  pixel436  float64\n",
      " 394  pixel437  float64\n",
      " 395  pixel438  float64\n",
      " 396  pixel439  float64\n",
      " 397  pixel440  float64\n",
      " 398  pixel441  float64\n",
      " 399  pixel442  float64\n",
      " 400  pixel443  float64\n",
      " 401  pixel444  float64\n",
      " 402  pixel445  float64\n",
      " 403  pixel446  float64\n",
      " 404  pixel447  float64\n",
      " 405  pixel448  float64\n",
      " 406  pixel449  float64\n",
      " 407  pixel450  float64\n",
      " 408  pixel451  float64\n",
      " 409  pixel452  float64\n",
      " 410  pixel453  float64\n",
      " 411  pixel454  float64\n",
      " 412  pixel455  float64\n",
      " 413  pixel456  float64\n",
      " 414  pixel457  float64\n",
      " 415  pixel458  float64\n",
      " 416  pixel459  float64\n",
      " 417  pixel460  float64\n",
      " 418  pixel461  float64\n",
      " 419  pixel462  float64\n",
      " 420  pixel463  float64\n",
      " 421  pixel464  float64\n",
      " 422  pixel465  float64\n",
      " 423  pixel466  float64\n",
      " 424  pixel467  float64\n",
      " 425  pixel468  float64\n",
      " 426  pixel469  float64\n",
      " 427  pixel470  float64\n",
      " 428  pixel471  float64\n",
      " 429  pixel472  float64\n",
      " 430  pixel473  float64\n",
      " 431  pixel474  float64\n",
      " 432  pixel475  float64\n",
      " 433  pixel476  float64\n",
      " 434  pixel478  float64\n",
      " 435  pixel479  float64\n",
      " 436  pixel480  float64\n",
      " 437  pixel481  float64\n",
      " 438  pixel482  float64\n",
      " 439  pixel483  float64\n",
      " 440  pixel484  float64\n",
      " 441  pixel485  float64\n",
      " 442  pixel486  float64\n",
      " 443  pixel487  float64\n",
      " 444  pixel488  float64\n",
      " 445  pixel489  float64\n",
      " 446  pixel490  float64\n",
      " 447  pixel491  float64\n",
      " 448  pixel492  float64\n",
      " 449  pixel493  float64\n",
      " 450  pixel494  float64\n",
      " 451  pixel495  float64\n",
      " 452  pixel496  float64\n",
      " 453  pixel497  float64\n",
      " 454  pixel498  float64\n",
      " 455  pixel499  float64\n",
      " 456  pixel500  float64\n",
      " 457  pixel501  float64\n",
      " 458  pixel502  float64\n",
      " 459  pixel503  float64\n",
      " 460  pixel504  float64\n",
      " 461  pixel505  float64\n",
      " 462  pixel506  float64\n",
      " 463  pixel507  float64\n",
      " 464  pixel508  float64\n",
      " 465  pixel509  float64\n",
      " 466  pixel510  float64\n",
      " 467  pixel511  float64\n",
      " 468  pixel512  float64\n",
      " 469  pixel513  float64\n",
      " 470  pixel514  float64\n",
      " 471  pixel515  float64\n",
      " 472  pixel516  float64\n",
      " 473  pixel517  float64\n",
      " 474  pixel518  float64\n",
      " 475  pixel519  float64\n",
      " 476  pixel520  float64\n",
      " 477  pixel521  float64\n",
      " 478  pixel522  float64\n",
      " 479  pixel523  float64\n",
      " 480  pixel524  float64\n",
      " 481  pixel525  float64\n",
      " 482  pixel526  float64\n",
      " 483  pixel527  float64\n",
      " 484  pixel528  float64\n",
      " 485  pixel529  float64\n",
      " 486  pixel530  float64\n",
      " 487  pixel531  float64\n",
      " 488  pixel532  float64\n",
      " 489  pixel533  float64\n",
      " 490  pixel534  float64\n",
      " 491  pixel535  float64\n",
      " 492  pixel536  float64\n",
      " 493  pixel537  float64\n",
      " 494  pixel538  float64\n",
      " 495  pixel539  float64\n",
      " 496  pixel540  float64\n",
      " 497  pixel541  float64\n",
      " 498  pixel542  float64\n",
      " 499  pixel543  float64\n",
      " 500  pixel544  float64\n",
      " 501  pixel545  float64\n",
      " 502  pixel546  float64\n",
      " 503  pixel547  float64\n",
      " 504  pixel548  float64\n",
      " 505  pixel549  float64\n",
      " 506  pixel550  float64\n",
      " 507  pixel551  float64\n",
      " 508  pixel552  float64\n",
      " 509  pixel553  float64\n",
      " 510  pixel554  float64\n",
      " 511  pixel555  float64\n",
      " 512  pixel556  float64\n",
      " 513  pixel557  float64\n",
      " 514  pixel558  float64\n",
      " 515  pixel559  float64\n",
      " 516  pixel560  float64\n",
      " 517  pixel562  float64\n",
      " 518  pixel563  float64\n",
      " 519  pixel564  float64\n",
      " 520  pixel565  float64\n",
      " 521  pixel566  float64\n",
      " 522  pixel567  float64\n",
      " 523  pixel568  float64\n",
      " 524  pixel569  float64\n",
      " 525  pixel570  float64\n",
      " 526  pixel571  float64\n",
      " 527  pixel572  float64\n",
      " 528  pixel573  float64\n",
      " 529  pixel574  float64\n",
      " 530  pixel575  float64\n",
      " 531  pixel576  float64\n",
      " 532  pixel577  float64\n",
      " 533  pixel578  float64\n",
      " 534  pixel579  float64\n",
      " 535  pixel580  float64\n",
      " 536  pixel581  float64\n",
      " 537  pixel582  float64\n",
      " 538  pixel583  float64\n",
      " 539  pixel584  float64\n",
      " 540  pixel585  float64\n",
      " 541  pixel586  float64\n",
      " 542  pixel587  float64\n",
      " 543  pixel588  float64\n",
      " 544  pixel589  float64\n",
      " 545  pixel590  float64\n",
      " 546  pixel591  float64\n",
      " 547  pixel592  float64\n",
      " 548  pixel593  float64\n",
      " 549  pixel594  float64\n",
      " 550  pixel595  float64\n",
      " 551  pixel596  float64\n",
      " 552  pixel597  float64\n",
      " 553  pixel598  float64\n",
      " 554  pixel599  float64\n",
      " 555  pixel600  float64\n",
      " 556  pixel601  float64\n",
      " 557  pixel602  float64\n",
      " 558  pixel603  float64\n",
      " 559  pixel604  float64\n",
      " 560  pixel605  float64\n",
      " 561  pixel606  float64\n",
      " 562  pixel607  float64\n",
      " 563  pixel608  float64\n",
      " 564  pixel609  float64\n",
      " 565  pixel610  float64\n",
      " 566  pixel611  float64\n",
      " 567  pixel612  float64\n",
      " 568  pixel613  float64\n",
      " 569  pixel614  float64\n",
      " 570  pixel615  float64\n",
      " 571  pixel616  float64\n",
      " 572  pixel617  float64\n",
      " 573  pixel618  float64\n",
      " 574  pixel619  float64\n",
      " 575  pixel620  float64\n",
      " 576  pixel621  float64\n",
      " 577  pixel622  float64\n",
      " 578  pixel623  float64\n",
      " 579  pixel624  float64\n",
      " 580  pixel625  float64\n",
      " 581  pixel626  float64\n",
      " 582  pixel627  float64\n",
      " 583  pixel628  float64\n",
      " 584  pixel629  float64\n",
      " 585  pixel630  float64\n",
      " 586  pixel631  float64\n",
      " 587  pixel632  float64\n",
      " 588  pixel633  float64\n",
      " 589  pixel634  float64\n",
      " 590  pixel635  float64\n",
      " 591  pixel636  float64\n",
      " 592  pixel637  float64\n",
      " 593  pixel638  float64\n",
      " 594  pixel639  float64\n",
      " 595  pixel640  float64\n",
      " 596  pixel641  float64\n",
      " 597  pixel642  float64\n",
      " 598  pixel643  float64\n",
      " 599  pixel644  float64\n",
      " 600  pixel646  float64\n",
      " 601  pixel647  float64\n",
      " 602  pixel648  float64\n",
      " 603  pixel649  float64\n",
      " 604  pixel650  float64\n",
      " 605  pixel651  float64\n",
      " 606  pixel652  float64\n",
      " 607  pixel653  float64\n",
      " 608  pixel654  float64\n",
      " 609  pixel655  float64\n",
      " 610  pixel656  float64\n",
      " 611  pixel657  float64\n",
      " 612  pixel658  float64\n",
      " 613  pixel659  float64\n",
      " 614  pixel660  float64\n",
      " 615  pixel661  float64\n",
      " 616  pixel662  float64\n",
      " 617  pixel663  float64\n",
      " 618  pixel664  float64\n",
      " 619  pixel665  float64\n",
      " 620  pixel666  float64\n",
      " 621  pixel667  float64\n",
      " 622  pixel668  float64\n",
      " 623  pixel669  float64\n",
      " 624  pixel670  float64\n",
      " 625  pixel671  float64\n",
      " 626  pixel675  float64\n",
      " 627  pixel676  float64\n",
      " 628  pixel677  float64\n",
      " 629  pixel678  float64\n",
      " 630  pixel679  float64\n",
      " 631  pixel680  float64\n",
      " 632  pixel681  float64\n",
      " 633  pixel682  float64\n",
      " 634  pixel683  float64\n",
      " 635  pixel684  float64\n",
      " 636  pixel685  float64\n",
      " 637  pixel686  float64\n",
      " 638  pixel687  float64\n",
      " 639  pixel688  float64\n",
      " 640  pixel689  float64\n",
      " 641  pixel690  float64\n",
      " 642  pixel691  float64\n",
      " 643  pixel692  float64\n",
      " 644  pixel693  float64\n",
      " 645  pixel694  float64\n",
      " 646  pixel695  float64\n",
      " 647  pixel696  float64\n",
      " 648  pixel697  float64\n",
      " 649  pixel698  float64\n",
      " 650  pixel699  float64\n",
      " 651  pixel703  float64\n",
      " 652  pixel704  float64\n",
      " 653  pixel705  float64\n",
      " 654  pixel706  float64\n",
      " 655  pixel707  float64\n",
      " 656  pixel708  float64\n",
      " 657  pixel709  float64\n",
      " 658  pixel710  float64\n",
      " 659  pixel711  float64\n",
      " 660  pixel712  float64\n",
      " 661  pixel713  float64\n",
      " 662  pixel714  float64\n",
      " 663  pixel715  float64\n",
      " 664  pixel716  float64\n",
      " 665  pixel717  float64\n",
      " 666  pixel718  float64\n",
      " 667  pixel719  float64\n",
      " 668  pixel720  float64\n",
      " 669  pixel721  float64\n",
      " 670  pixel722  float64\n",
      " 671  pixel723  float64\n",
      " 672  pixel724  float64\n",
      " 673  pixel725  float64\n",
      " 674  pixel726  float64\n",
      " 675  pixel727  float64\n",
      " 676  pixel732  float64\n",
      " 677  pixel733  float64\n",
      " 678  pixel734  float64\n",
      " 679  pixel735  float64\n",
      " 680  pixel736  float64\n",
      " 681  pixel737  float64\n",
      " 682  pixel738  float64\n",
      " 683  pixel739  float64\n",
      " 684  pixel740  float64\n",
      " 685  pixel741  float64\n",
      " 686  pixel742  float64\n",
      " 687  pixel743  float64\n",
      " 688  pixel744  float64\n",
      " 689  pixel745  float64\n",
      " 690  pixel746  float64\n",
      " 691  pixel747  float64\n",
      " 692  pixel748  float64\n",
      " 693  pixel749  float64\n",
      " 694  pixel750  float64\n",
      " 695  pixel751  float64\n",
      " 696  pixel752  float64\n",
      " 697  pixel753  float64\n",
      " 698  pixel754  float64\n",
      " 699  pixel761  float64\n",
      " 700  pixel762  float64\n",
      " 701  pixel763  float64\n",
      " 702  pixel764  float64\n",
      " 703  pixel765  float64\n",
      " 704  pixel766  float64\n",
      " 705  pixel767  float64\n",
      " 706  pixel768  float64\n",
      " 707  pixel769  float64\n",
      " 708  pixel770  float64\n",
      " 709  pixel771  float64\n",
      " 710  pixel772  float64\n",
      " 711  pixel773  float64\n",
      " 712  pixel774  float64\n",
      " 713  pixel775  float64\n",
      " 714  pixel776  float64\n",
      " 715  pixel777  float64\n",
      " 716  pixel778  float64\n",
      " 717  pixel779  float64\n",
      " 718  pixel780  float64\n",
      "dtypes: float64(719)\n",
      "memory usage: 27.6 MB\n"
     ]
    }
   ],
   "source": [
    "x_data_small.info(verbose=True)"
   ],
   "metadata": {
    "collapsed": false,
    "pycharm": {
     "name": "#%%\n"
    }
   }
  },
  {
   "cell_type": "code",
   "execution_count": 9,
   "outputs": [
    {
     "data": {
      "text/plain": "(5000,)"
     },
     "execution_count": 9,
     "metadata": {},
     "output_type": "execute_result"
    }
   ],
   "source": [
    "y_data_small.shape"
   ],
   "metadata": {
    "collapsed": false,
    "pycharm": {
     "name": "#%%\n"
    }
   }
  },
  {
   "cell_type": "code",
   "execution_count": 10,
   "outputs": [
    {
     "data": {
      "text/plain": "49044    0\n40868    0\n10713    0\n11361    0\n44916    0\n        ..\n48953    9\n59697    9\n41458    9\n28243    9\n20350    9\nName: Number, Length: 5000, dtype: int64"
     },
     "execution_count": 10,
     "metadata": {},
     "output_type": "execute_result"
    }
   ],
   "source": [
    "y_data_small"
   ],
   "metadata": {
    "collapsed": false,
    "pycharm": {
     "name": "#%%\n"
    }
   }
  },
  {
   "cell_type": "markdown",
   "source": [
    "## SVM using Linear kernel\n",
    "LinearSVC is another (faster) implementation of Support Vector Classification for the case of a linear kernel"
   ],
   "metadata": {
    "collapsed": false,
    "pycharm": {
     "name": "#%% md\n"
    }
   }
  },
  {
   "cell_type": "code",
   "execution_count": 11,
   "outputs": [
    {
     "name": "stdout",
     "output_type": "stream",
     "text": [
      "Fitting 10 folds for each of 8 candidates, totalling 80 fits\n"
     ]
    },
    {
     "name": "stderr",
     "output_type": "stream",
     "text": [
      "2022-12-25 03:46:57.591 | INFO     | src.utilities.model_selection:model_selector:14 - --- 460.93655610084534 seconds ---\n",
      "2022-12-25 03:46:57.602 | INFO     | src.utilities.model_selection:model_selector:16 - Best Score: 0.918\n",
      "2022-12-25 03:46:57.603 | INFO     | src.utilities.model_selection:model_selector:17 - Best Params: \n"
     ]
    }
   ],
   "source": [
    "# automatic parameters tuning\n",
    "svcclsf_lin=SVC(random_state=28)\n",
    "properties_lin={\n",
    "    \"C\": [0.01,0.05,0.1,0.5,1,10,100,1000], # soft to hard margin\n",
    "    \"kernel\": [\"linear\"]\n",
    "}\n",
    "\n",
    "tuned_svcclsf_lin = ms.model_selector(estimator=svcclsf_lin,properties=properties_lin,scoring=\"accuracy\",cv=10,verbose=5,jobs=4,\n",
    "                                       x_train=x_data_small,y_train=y_data_small)"
   ],
   "metadata": {
    "collapsed": false,
    "pycharm": {
     "name": "#%%\n"
    }
   }
  },
  {
   "cell_type": "code",
   "execution_count": 12,
   "outputs": [],
   "source": [
    "# save results\n",
    "ms.save_model(model=tuned_svcclsf_lin, model_name=\"svc_linear_tuning_results\")"
   ],
   "metadata": {
    "collapsed": false,
    "pycharm": {
     "name": "#%%\n"
    }
   }
  },
  {
   "cell_type": "code",
   "execution_count": 66,
   "outputs": [],
   "source": [
    "# to load previously saved results\n",
    "tuned_svcclsf_lin = ms.load_model(\"svc_linear_tuning_results\")"
   ],
   "metadata": {
    "collapsed": false,
    "pycharm": {
     "name": "#%%\n"
    }
   }
  },
  {
   "cell_type": "code",
   "execution_count": 13,
   "outputs": [
    {
     "name": "stderr",
     "output_type": "stream",
     "text": [
      "2022-12-25 03:46:57.757 | INFO     | __main__:<module>:1 - {'mean_fit_time': array([10.12058191,  7.47885656,  7.03019872,  7.76362214,  7.56687548,\n",
      "        7.39819319,  7.24130242,  7.47029669]), 'std_fit_time': array([0.37236834, 0.65584374, 0.50982422, 1.99736244, 0.12097781,\n",
      "       0.18994406, 0.15943846, 0.27986381]), 'mean_score_time': array([1.90968664, 1.41059325, 1.34529202, 1.39124856, 1.39864485,\n",
      "       1.36355555, 1.32379773, 1.36219001]), 'std_score_time': array([0.17359762, 0.25465565, 0.25575025, 0.37868866, 0.06150689,\n",
      "       0.09866652, 0.0837081 , 0.05417374]), 'param_C': masked_array(data=[0.01, 0.05, 0.1, 0.5, 1, 10, 100, 1000],\n",
      "             mask=[False, False, False, False, False, False, False, False],\n",
      "       fill_value='?',\n",
      "            dtype=object), 'param_kernel': masked_array(data=['linear', 'linear', 'linear', 'linear', 'linear',\n",
      "                   'linear', 'linear', 'linear'],\n",
      "             mask=[False, False, False, False, False, False, False, False],\n",
      "       fill_value='?',\n",
      "            dtype=object), 'params': [{'C': 0.01, 'kernel': 'linear'}, {'C': 0.05, 'kernel': 'linear'}, {'C': 0.1, 'kernel': 'linear'}, {'C': 0.5, 'kernel': 'linear'}, {'C': 1, 'kernel': 'linear'}, {'C': 10, 'kernel': 'linear'}, {'C': 100, 'kernel': 'linear'}, {'C': 1000, 'kernel': 'linear'}], 'split0_test_score': array([0.92 , 0.928, 0.918, 0.912, 0.906, 0.904, 0.904, 0.904]), 'split1_test_score': array([0.914, 0.922, 0.912, 0.886, 0.884, 0.882, 0.882, 0.882]), 'split2_test_score': array([0.896, 0.892, 0.884, 0.872, 0.868, 0.87 , 0.87 , 0.87 ]), 'split3_test_score': array([0.914, 0.926, 0.922, 0.91 , 0.906, 0.906, 0.906, 0.906]), 'split4_test_score': array([0.91 , 0.92 , 0.9  , 0.884, 0.876, 0.872, 0.872, 0.872]), 'split5_test_score': array([0.918, 0.924, 0.918, 0.902, 0.896, 0.892, 0.892, 0.892]), 'split6_test_score': array([0.926, 0.914, 0.916, 0.908, 0.904, 0.906, 0.906, 0.906]), 'split7_test_score': array([0.924, 0.932, 0.924, 0.896, 0.896, 0.896, 0.896, 0.896]), 'split8_test_score': array([0.904, 0.908, 0.906, 0.896, 0.9  , 0.898, 0.898, 0.898]), 'split9_test_score': array([0.92 , 0.916, 0.92 , 0.906, 0.908, 0.904, 0.904, 0.904]), 'mean_test_score': array([0.9146, 0.9182, 0.912 , 0.8972, 0.8944, 0.893 , 0.893 , 0.893 ]), 'std_test_score': array([0.00876584, 0.01100727, 0.0116619 , 0.0124    , 0.01313925,\n",
      "       0.01306139, 0.01306139, 0.01306139]), 'rank_test_score': array([2, 1, 3, 4, 5, 6, 6, 6], dtype=int32), 'split0_train_score': array([0.93533333, 0.96511111, 0.97933333, 0.99888889, 0.99955556,\n",
      "       1.        , 1.        , 1.        ]), 'split1_train_score': array([0.93533333, 0.96377778, 0.97888889, 0.99822222, 0.99977778,\n",
      "       1.        , 1.        , 1.        ]), 'split2_train_score': array([0.93733333, 0.96644444, 0.97888889, 0.99755556, 0.99955556,\n",
      "       1.        , 1.        , 1.        ]), 'split3_train_score': array([0.936     , 0.96622222, 0.978     , 0.99777778, 0.99977778,\n",
      "       1.        , 1.        , 1.        ]), 'split4_train_score': array([0.93755556, 0.968     , 0.98088889, 0.99844444, 0.99977778,\n",
      "       1.        , 1.        , 1.        ]), 'split5_train_score': array([0.93311111, 0.96488889, 0.98066667, 0.99866667, 1.        ,\n",
      "       1.        , 1.        , 1.        ]), 'split6_train_score': array([0.93444444, 0.96511111, 0.97844444, 0.99755556, 1.        ,\n",
      "       1.        , 1.        , 1.        ]), 'split7_train_score': array([0.93666667, 0.964     , 0.97666667, 0.99844444, 0.99977778,\n",
      "       1.        , 1.        , 1.        ]), 'split8_train_score': array([0.93577778, 0.96555556, 0.978     , 0.99733333, 0.99955556,\n",
      "       1.        , 1.        , 1.        ]), 'split9_train_score': array([0.936     , 0.96466667, 0.978     , 0.99866667, 0.99977778,\n",
      "       1.        , 1.        , 1.        ]), 'mean_train_score': array([0.93575556, 0.96537778, 0.97877778, 0.99815556, 0.99975556,\n",
      "       1.        , 1.        , 1.        ]), 'std_train_score': array([0.00125492, 0.00118759, 0.00121411, 0.00052634, 0.00015556,\n",
      "       0.        , 0.        , 0.        ])}\n"
     ]
    }
   ],
   "source": [
    "logger.info(tuned_svcclsf_lin.cv_results_)\n",
    "tuned_svcclsf_lin_results = pd.DataFrame( tuned_svcclsf_lin.cv_results_ )"
   ],
   "metadata": {
    "collapsed": false,
    "pycharm": {
     "name": "#%%\n"
    }
   }
  },
  {
   "cell_type": "code",
   "execution_count": 14,
   "outputs": [
    {
     "data": {
      "text/plain": "                            params  mean_test_score  mean_train_score\n0  {'C': 0.01, 'kernel': 'linear'}           0.9146          0.935756\n1  {'C': 0.05, 'kernel': 'linear'}           0.9182          0.965378\n2   {'C': 0.1, 'kernel': 'linear'}           0.9120          0.978778\n3   {'C': 0.5, 'kernel': 'linear'}           0.8972          0.998156\n4     {'C': 1, 'kernel': 'linear'}           0.8944          0.999756\n5    {'C': 10, 'kernel': 'linear'}           0.8930          1.000000\n6   {'C': 100, 'kernel': 'linear'}           0.8930          1.000000\n7  {'C': 1000, 'kernel': 'linear'}           0.8930          1.000000",
      "text/html": "<div>\n<style scoped>\n    .dataframe tbody tr th:only-of-type {\n        vertical-align: middle;\n    }\n\n    .dataframe tbody tr th {\n        vertical-align: top;\n    }\n\n    .dataframe thead th {\n        text-align: right;\n    }\n</style>\n<table border=\"1\" class=\"dataframe\">\n  <thead>\n    <tr style=\"text-align: right;\">\n      <th></th>\n      <th>params</th>\n      <th>mean_test_score</th>\n      <th>mean_train_score</th>\n    </tr>\n  </thead>\n  <tbody>\n    <tr>\n      <th>0</th>\n      <td>{'C': 0.01, 'kernel': 'linear'}</td>\n      <td>0.9146</td>\n      <td>0.935756</td>\n    </tr>\n    <tr>\n      <th>1</th>\n      <td>{'C': 0.05, 'kernel': 'linear'}</td>\n      <td>0.9182</td>\n      <td>0.965378</td>\n    </tr>\n    <tr>\n      <th>2</th>\n      <td>{'C': 0.1, 'kernel': 'linear'}</td>\n      <td>0.9120</td>\n      <td>0.978778</td>\n    </tr>\n    <tr>\n      <th>3</th>\n      <td>{'C': 0.5, 'kernel': 'linear'}</td>\n      <td>0.8972</td>\n      <td>0.998156</td>\n    </tr>\n    <tr>\n      <th>4</th>\n      <td>{'C': 1, 'kernel': 'linear'}</td>\n      <td>0.8944</td>\n      <td>0.999756</td>\n    </tr>\n    <tr>\n      <th>5</th>\n      <td>{'C': 10, 'kernel': 'linear'}</td>\n      <td>0.8930</td>\n      <td>1.000000</td>\n    </tr>\n    <tr>\n      <th>6</th>\n      <td>{'C': 100, 'kernel': 'linear'}</td>\n      <td>0.8930</td>\n      <td>1.000000</td>\n    </tr>\n    <tr>\n      <th>7</th>\n      <td>{'C': 1000, 'kernel': 'linear'}</td>\n      <td>0.8930</td>\n      <td>1.000000</td>\n    </tr>\n  </tbody>\n</table>\n</div>"
     },
     "execution_count": 14,
     "metadata": {},
     "output_type": "execute_result"
    }
   ],
   "source": [
    "tuned_svcclsf_lin_results[[\"params\",\"mean_test_score\",\"mean_train_score\"]]"
   ],
   "metadata": {
    "collapsed": false,
    "pycharm": {
     "name": "#%%\n"
    }
   }
  },
  {
   "cell_type": "code",
   "execution_count": 15,
   "outputs": [
    {
     "data": {
      "text/plain": "<AxesSubplot:xlabel='param_C', ylabel='mean_test_score'>"
     },
     "execution_count": 15,
     "metadata": {},
     "output_type": "execute_result"
    },
    {
     "data": {
      "text/plain": "<Figure size 864x576 with 1 Axes>",
      "image/png": "[encoded data removed]"
     },
     "metadata": {},
     "output_type": "display_data"
    }
   ],
   "source": [
    "sns.set(rc={\"figure.figsize\":(12, 8)})\n",
    "sns.lineplot(data=tuned_svcclsf_lin_results, x=\"param_C\", y=\"mean_test_score\")"
   ],
   "metadata": {
    "collapsed": false,
    "pycharm": {
     "name": "#%%\n"
    }
   }
  },
  {
   "cell_type": "code",
   "execution_count": 16,
   "outputs": [
    {
     "name": "stdout",
     "output_type": "stream",
     "text": [
      "SVC(C=0.05, kernel='linear', random_state=28)\n",
      "0.9182\n"
     ]
    }
   ],
   "source": [
    "print(tuned_svcclsf_lin.best_estimator_)\n",
    "print(tuned_svcclsf_lin.best_score_)"
   ],
   "metadata": {
    "collapsed": false,
    "pycharm": {
     "name": "#%%\n"
    }
   }
  },
  {
   "cell_type": "code",
   "execution_count": 17,
   "outputs": [
    {
     "name": "stdout",
     "output_type": "stream",
     "text": [
      "Train Accuracy Score on original dataset: 0.9262333333333334\n"
     ]
    }
   ],
   "source": [
    "test_acc = accuracy_score(y_true = data_split.y_train,\n",
    "                    y_pred = tuned_svcclsf_lin.predict(data_split.x_train))\n",
    "print(\"Train Accuracy Score on original dataset: {}\".format(test_acc) )"
   ],
   "metadata": {
    "collapsed": false,
    "pycharm": {
     "name": "#%%\n"
    }
   }
  },
  {
   "cell_type": "code",
   "execution_count": 18,
   "outputs": [
    {
     "name": "stdout",
     "output_type": "stream",
     "text": [
      "[CV 3/10] END C=0.01, kernel=linear;, score=(train=0.937, test=0.896) total time=  12.5s\n",
      "[CV 7/10] END C=0.01, kernel=linear;, score=(train=0.934, test=0.926) total time=  11.5s\n",
      "[CV 1/10] END C=0.05, kernel=linear;, score=(train=0.965, test=0.928) total time=   8.4s\n",
      "[CV 4/10] END C=0.05, kernel=linear;, score=(train=0.966, test=0.926) total time=   8.5s\n",
      "[CV 7/10] END C=0.05, kernel=linear;, score=(train=0.965, test=0.914) total time=   9.6s\n",
      "[CV 1/10] END C=0.1, kernel=linear;, score=(train=0.979, test=0.918) total time=   9.1s\n",
      "[CV 5/10] END C=0.1, kernel=linear;, score=(train=0.981, test=0.900) total time=   7.8s\n",
      "[CV 10/10] END C=0.1, kernel=linear;, score=(train=0.978, test=0.920) total time=   7.6s\n",
      "[CV 4/10] END C=0.5, kernel=linear;, score=(train=0.998, test=0.910) total time=   6.5s\n",
      "[CV 8/10] END C=0.5, kernel=linear;, score=(train=0.998, test=0.896) total time=  10.3s\n",
      "[CV 2/10] END C=1, kernel=linear;, score=(train=1.000, test=0.884) total time=   8.9s\n",
      "[CV 6/10] END C=1, kernel=linear;, score=(train=1.000, test=0.896) total time=   8.7s\n",
      "[CV 10/10] END C=1, kernel=linear;, score=(train=1.000, test=0.908) total time=   9.0s\n",
      "[CV 4/10] END C=10, kernel=linear;, score=(train=1.000, test=0.906) total time=   8.8s\n",
      "[CV 7/10] END C=10, kernel=linear;, score=(train=1.000, test=0.906) total time=   8.4s\n",
      "[CV 1/10] END C=100, kernel=linear;, score=(train=1.000, test=0.904) total time=   8.5s\n",
      "[CV 5/10] END C=100, kernel=linear;, score=(train=1.000, test=0.872) total time=   8.8s\n",
      "[CV 9/10] END C=100, kernel=linear;, score=(train=1.000, test=0.898) total time=   8.6s\n",
      "[CV 3/10] END C=1000, kernel=linear;, score=(train=1.000, test=0.870) total time=   8.3s\n",
      "[CV 7/10] END C=1000, kernel=linear;, score=(train=1.000, test=0.906) total time=   9.2s\n",
      "[CV 4/10] END C=0.01, kernel=linear;, score=(train=0.936, test=0.914) total time=  12.8s\n",
      "[CV 8/10] END C=0.01, kernel=linear;, score=(train=0.937, test=0.924) total time=  11.5s\n",
      "[CV 2/10] END C=0.05, kernel=linear;, score=(train=0.964, test=0.922) total time=   8.5s\n",
      "[CV 3/10] END C=0.05, kernel=linear;, score=(train=0.966, test=0.892) total time=   8.5s\n",
      "[CV 8/10] END C=0.05, kernel=linear;, score=(train=0.964, test=0.932) total time=   9.9s\n",
      "[CV 2/10] END C=0.1, kernel=linear;, score=(train=0.979, test=0.912) total time=   8.9s\n",
      "[CV 6/10] END C=0.1, kernel=linear;, score=(train=0.981, test=0.918) total time=   7.7s\n",
      "[CV 9/10] END C=0.1, kernel=linear;, score=(train=0.978, test=0.906) total time=   7.8s\n",
      "[CV 3/10] END C=0.5, kernel=linear;, score=(train=0.998, test=0.872) total time=   6.6s\n",
      "[CV 7/10] END C=0.5, kernel=linear;, score=(train=0.998, test=0.908) total time=   9.9s\n",
      "[CV 1/10] END C=1, kernel=linear;, score=(train=1.000, test=0.906) total time=   8.9s\n",
      "[CV 5/10] END C=1, kernel=linear;, score=(train=1.000, test=0.876) total time=   8.8s\n",
      "[CV 9/10] END C=1, kernel=linear;, score=(train=1.000, test=0.900) total time=   9.1s\n",
      "[CV 3/10] END C=10, kernel=linear;, score=(train=1.000, test=0.870) total time=   8.8s\n",
      "[CV 8/10] END C=10, kernel=linear;, score=(train=1.000, test=0.896) total time=   8.7s\n",
      "[CV 2/10] END C=100, kernel=linear;, score=(train=1.000, test=0.882) total time=   8.5s\n",
      "[CV 6/10] END C=100, kernel=linear;, score=(train=1.000, test=0.892) total time=   8.7s\n",
      "[CV 10/10] END C=100, kernel=linear;, score=(train=1.000, test=0.904) total time=   8.6s\n",
      "[CV 4/10] END C=1000, kernel=linear;, score=(train=1.000, test=0.906) total time=   8.3s\n",
      "[CV 8/10] END C=1000, kernel=linear;, score=(train=1.000, test=0.896) total time=   9.1s\n",
      "[CV 2/10] END C=0.01, kernel=linear;, score=(train=0.935, test=0.914) total time=  12.5s\n",
      "[CV 5/10] END C=0.01, kernel=linear;, score=(train=0.938, test=0.910) total time=  11.4s\n",
      "[CV 9/10] END C=0.01, kernel=linear;, score=(train=0.936, test=0.904) total time=  11.8s\n",
      "[CV 5/10] END C=0.05, kernel=linear;, score=(train=0.968, test=0.920) total time=   8.9s\n",
      "[CV 9/10] END C=0.05, kernel=linear;, score=(train=0.966, test=0.908) total time=   9.1s\n",
      "[CV 3/10] END C=0.1, kernel=linear;, score=(train=0.979, test=0.884) total time=   8.1s\n",
      "[CV 7/10] END C=0.1, kernel=linear;, score=(train=0.978, test=0.916) total time=   9.1s\n",
      "[CV 1/10] END C=0.5, kernel=linear;, score=(train=0.999, test=0.912) total time=   8.2s\n",
      "[CV 5/10] END C=0.5, kernel=linear;, score=(train=0.998, test=0.884) total time=   7.4s\n",
      "[CV 9/10] END C=0.5, kernel=linear;, score=(train=0.997, test=0.896) total time=   9.7s\n",
      "[CV 3/10] END C=1, kernel=linear;, score=(train=1.000, test=0.868) total time=   9.1s\n",
      "[CV 7/10] END C=1, kernel=linear;, score=(train=1.000, test=0.904) total time=   9.0s\n",
      "[CV 1/10] END C=10, kernel=linear;, score=(train=1.000, test=0.904) total time=   8.9s\n",
      "[CV 5/10] END C=10, kernel=linear;, score=(train=1.000, test=0.872) total time=   8.6s\n",
      "[CV 9/10] END C=10, kernel=linear;, score=(train=1.000, test=0.898) total time=   8.9s\n",
      "[CV 3/10] END C=100, kernel=linear;, score=(train=1.000, test=0.870) total time=   8.4s\n",
      "[CV 7/10] END C=100, kernel=linear;, score=(train=1.000, test=0.906) total time=   8.5s\n",
      "[CV 1/10] END C=1000, kernel=linear;, score=(train=1.000, test=0.904) total time=   8.9s\n",
      "[CV 5/10] END C=1000, kernel=linear;, score=(train=1.000, test=0.872) total time=   9.1s\n",
      "[CV 9/10] END C=1000, kernel=linear;, score=(train=1.000, test=0.898) total time=   8.8s\n",
      "[CV 1/10] END C=0.01, kernel=linear;, score=(train=0.935, test=0.920) total time=  12.6s\n",
      "[CV 6/10] END C=0.01, kernel=linear;, score=(train=0.933, test=0.918) total time=  11.7s\n",
      "[CV 10/10] END C=0.01, kernel=linear;, score=(train=0.936, test=0.920) total time=  11.9s\n",
      "[CV 6/10] END C=0.05, kernel=linear;, score=(train=0.965, test=0.924) total time=   9.2s\n",
      "[CV 10/10] END C=0.05, kernel=linear;, score=(train=0.965, test=0.916) total time=   8.2s\n",
      "[CV 4/10] END C=0.1, kernel=linear;, score=(train=0.978, test=0.922) total time=   8.2s\n",
      "[CV 8/10] END C=0.1, kernel=linear;, score=(train=0.977, test=0.924) total time=   9.4s\n",
      "[CV 2/10] END C=0.5, kernel=linear;, score=(train=0.998, test=0.886) total time=   8.4s\n",
      "[CV 6/10] END C=0.5, kernel=linear;, score=(train=0.999, test=0.902) total time=  15.1s\n",
      "[CV 10/10] END C=0.5, kernel=linear;, score=(train=0.999, test=0.906) total time=   9.4s\n",
      "[CV 4/10] END C=1, kernel=linear;, score=(train=1.000, test=0.906) total time=   9.1s\n",
      "[CV 8/10] END C=1, kernel=linear;, score=(train=1.000, test=0.896) total time=   9.0s\n",
      "[CV 2/10] END C=10, kernel=linear;, score=(train=1.000, test=0.882) total time=   9.0s\n",
      "[CV 6/10] END C=10, kernel=linear;, score=(train=1.000, test=0.892) total time=   8.7s\n",
      "[CV 10/10] END C=10, kernel=linear;, score=(train=1.000, test=0.904) total time=   8.9s\n",
      "[CV 4/10] END C=100, kernel=linear;, score=(train=1.000, test=0.906) total time=   8.4s\n",
      "[CV 8/10] END C=100, kernel=linear;, score=(train=1.000, test=0.896) total time=   8.6s\n",
      "[CV 2/10] END C=1000, kernel=linear;, score=(train=1.000, test=0.882) total time=   8.7s\n",
      "[CV 6/10] END C=1000, kernel=linear;, score=(train=1.000, test=0.892) total time=   9.0s\n",
      "[CV 10/10] END C=1000, kernel=linear;, score=(train=1.000, test=0.904) total time=   8.8s\n"
     ]
    },
    {
     "data": {
      "text/plain": "SVC(C=0.05, kernel='linear')"
     },
     "execution_count": 18,
     "metadata": {},
     "output_type": "execute_result"
    }
   ],
   "source": [
    "# best parameters from automatic parameters tuning\n",
    "svc_lin_clsf = SVC(**tuned_svcclsf_lin.best_params_)\n",
    "# svc_lin_clsf = SVC(C=0.05, kernel='linear', random_state=28)\n",
    "\n",
    "svc_lin_clsf.fit(data_split.x_train, data_split.y_train)"
   ],
   "metadata": {
    "collapsed": false,
    "pycharm": {
     "name": "#%%\n"
    }
   }
  },
  {
   "cell_type": "markdown",
   "source": [
    "# Performance"
   ],
   "metadata": {
    "collapsed": false,
    "pycharm": {
     "name": "#%% md\n"
    }
   }
  },
  {
   "cell_type": "code",
   "execution_count": 19,
   "outputs": [],
   "source": [
    "svc_lin_train_pred = svc_lin_clsf.predict(data_split.x_train)\n",
    "svc_lin_test_pred = svc_lin_clsf.predict(data_split.x_test)\n",
    "\n",
    "svc_lin_train_eval = eva.Evaluation(y_true=data_split.y_train, y_pred=svc_lin_train_pred)\n",
    "svc_lin_test_eval = eva.Evaluation(y_true=data_split.y_test, y_pred=svc_lin_test_pred)"
   ],
   "metadata": {
    "collapsed": false,
    "pycharm": {
     "name": "#%%\n"
    }
   }
  },
  {
   "cell_type": "code",
   "execution_count": 20,
   "outputs": [
    {
     "name": "stdout",
     "output_type": "stream",
     "text": [
      "Training:\n",
      "-----Model Evaluations:-----\n",
      "Accuracy score: 0.9557166666666667\n",
      "Testing:\n",
      "-----Model Evaluations:-----\n",
      "Accuracy score: 0.9407\n"
     ]
    }
   ],
   "source": [
    "print(\"Training:\")\n",
    "svc_lin_train_eval.acc_eval()\n",
    "print(\"Testing:\")\n",
    "svc_lin_test_eval.acc_eval()"
   ],
   "metadata": {
    "collapsed": false,
    "pycharm": {
     "name": "#%%\n"
    }
   }
  },
  {
   "cell_type": "code",
   "execution_count": 21,
   "outputs": [],
   "source": [
    "# save the model and evaluations\n",
    "svc_lin_model = eva.EvaluatedModel(svc_lin_clsf, \"svclinear\", train_eval=svc_lin_train_eval, test_eval=svc_lin_test_eval)\n",
    "svc_lin_model.save_evaluation()"
   ],
   "metadata": {
    "collapsed": false,
    "pycharm": {
     "name": "#%%\n"
    }
   }
  },
  {
   "cell_type": "code",
   "execution_count": 27,
   "outputs": [],
   "source": [
    "# load the previously saved model and evaluations\n",
    "# svc_lin_model = eva.EvaluatedModel.load_evaluation(\"svclinear\")"
   ],
   "metadata": {
    "collapsed": false,
    "pycharm": {
     "name": "#%%\n"
    }
   }
  },
  {
   "cell_type": "markdown",
   "source": [
    "### Confusion Matrix"
   ],
   "metadata": {
    "collapsed": false,
    "pycharm": {
     "name": "#%% md\n"
    }
   }
  },
  {
   "cell_type": "code",
   "execution_count": 28,
   "outputs": [
    {
     "data": {
      "text/plain": "<Figure size 864x576 with 2 Axes>",
      "image/png": "[encoded data removed]"
     },
     "metadata": {},
     "output_type": "display_data"
    }
   ],
   "source": [
    "svc_lin_model.train_eval.conf_mat()"
   ],
   "metadata": {
    "collapsed": false,
    "pycharm": {
     "name": "#%%\n"
    }
   }
  },
  {
   "cell_type": "code",
   "execution_count": 29,
   "outputs": [
    {
     "data": {
      "text/plain": "<Figure size 864x576 with 2 Axes>",
      "image/png": "[encoded data removed]"
     },
     "metadata": {},
     "output_type": "display_data"
    }
   ],
   "source": [
    "svc_lin_model.test_eval.conf_mat()"
   ],
   "metadata": {
    "collapsed": false,
    "pycharm": {
     "name": "#%%\n"
    }
   }
  },
  {
   "cell_type": "markdown",
   "source": [],
   "metadata": {
    "collapsed": false,
    "pycharm": {
     "name": "#%% md\n"
    }
   }
  },
  {
   "cell_type": "markdown",
   "source": [
    "## SVM using Polynomial of degree 2 kernel"
   ],
   "metadata": {
    "collapsed": false,
    "pycharm": {
     "name": "#%% md\n"
    }
   }
  },
  {
   "cell_type": "code",
   "execution_count": 22,
   "outputs": [
    {
     "name": "stdout",
     "output_type": "stream",
     "text": [
      "Fitting 10 folds for each of 24 candidates, totalling 240 fits\n"
     ]
    },
    {
     "name": "stderr",
     "output_type": "stream",
     "text": [
      "2022-12-25 04:27:08.505 | INFO     | src.utilities.model_selection:model_selector:14 - --- 1763.702066898346 seconds ---\n",
      "2022-12-25 04:27:08.519 | INFO     | src.utilities.model_selection:model_selector:16 - Best Score: 0.946\n",
      "2022-12-25 04:27:08.520 | INFO     | src.utilities.model_selection:model_selector:17 - Best Params: \n"
     ]
    }
   ],
   "source": [
    "# automatic parameters tuning\n",
    "svcclsf_pol=SVC(random_state=28)\n",
    "properties_pol={\n",
    "    \"C\": [0.01,0.05,0.1,0.5,1,10,100,1000], # soft to hard margin\n",
    "    \"kernel\": [\"poly\"],\n",
    "    \"degree\": [2],\n",
    "    \"gamma\": [\"auto\",0.1,1]\n",
    "}\n",
    "\n",
    "tuned_svcclsf_pol = ms.model_selector(estimator=svcclsf_pol,properties=properties_pol,scoring=\"accuracy\",cv=10,verbose=5,jobs=4,\n",
    "                                       x_train=x_data_small,y_train=y_data_small)"
   ],
   "metadata": {
    "collapsed": false,
    "pycharm": {
     "name": "#%%\n"
    }
   }
  },
  {
   "cell_type": "code",
   "execution_count": 23,
   "outputs": [],
   "source": [
    "# # save results\n",
    "ms.save_model(model=tuned_svcclsf_pol, model_name=\"svc_polynomial_tuning_results\")"
   ],
   "metadata": {
    "collapsed": false,
    "pycharm": {
     "name": "#%%\n"
    }
   }
  },
  {
   "cell_type": "code",
   "execution_count": 30,
   "outputs": [],
   "source": [
    "# to load previously saved results\n",
    "tuned_svcclsf_pol = ms.load_model(\"svc_polynomial_tuning_results\")"
   ],
   "metadata": {
    "collapsed": false,
    "pycharm": {
     "name": "#%%\n"
    }
   }
  },
  {
   "cell_type": "code",
   "execution_count": 24,
   "outputs": [
    {
     "name": "stderr",
     "output_type": "stream",
     "text": [
      "2022-12-25 04:27:08.756 | INFO     | __main__:<module>:1 - {'mean_fit_time': array([25.24346812,  6.40608931,  6.34369359, 50.96520946,  7.74529245,\n",
      "        7.47194242, 46.87097595,  7.5925844 ,  7.29518113, 42.93355329,\n",
      "        6.35624218,  6.33529379, 33.41074412,  6.95448954,  6.85802863,\n",
      "       14.71280656,  6.20776391,  6.25721831,  7.19493196,  5.98024361,\n",
      "        6.25178287,  6.40538697,  7.10115218,  6.73665662]), 'std_fit_time': array([3.47786546, 0.60972193, 1.61791322, 6.09803368, 0.12565057,\n",
      "       0.15544686, 0.40705426, 0.26953309, 0.14132167, 2.84393051,\n",
      "       0.20953435, 0.21000066, 0.47746281, 0.40545368, 0.34450881,\n",
      "       0.25008643, 0.14107092, 0.10622527, 0.12013276, 0.17406088,\n",
      "       0.1679704 , 0.10537191, 0.29061091, 0.43808125]), 'mean_score_time': array([2.33732553, 0.84039371, 0.78146415, 3.79792271, 1.20163853,\n",
      "       1.12193489, 3.6913461 , 1.1886888 , 1.13039308, 3.57492614,\n",
      "       0.9627517 , 0.97568438, 3.1079078 , 1.03740029, 1.03521841,\n",
      "       1.72302551, 0.97083549, 0.94502439, 1.05726016, 0.94667709,\n",
      "       0.96265419, 0.97824073, 1.01754568, 1.01975427]), 'std_score_time': array([0.31727923, 0.16939358, 0.24797349, 0.62647762, 0.0697073 ,\n",
      "       0.06156818, 0.22610674, 0.04671379, 0.07302925, 0.46711671,\n",
      "       0.05107627, 0.05510412, 0.11049221, 0.07987708, 0.07277147,\n",
      "       0.051237  , 0.06089325, 0.04618102, 0.05101534, 0.04723174,\n",
      "       0.05406465, 0.03800217, 0.08187948, 0.04727144]), 'param_C': masked_array(data=[0.01, 0.01, 0.01, 0.05, 0.05, 0.05, 0.1, 0.1, 0.1, 0.5,\n",
      "                   0.5, 0.5, 1, 1, 1, 10, 10, 10, 100, 100, 100, 1000,\n",
      "                   1000, 1000],\n",
      "             mask=[False, False, False, False, False, False, False, False,\n",
      "                   False, False, False, False, False, False, False, False,\n",
      "                   False, False, False, False, False, False, False, False],\n",
      "       fill_value='?',\n",
      "            dtype=object), 'param_degree': masked_array(data=[2, 2, 2, 2, 2, 2, 2, 2, 2, 2, 2, 2, 2, 2, 2, 2, 2, 2,\n",
      "                   2, 2, 2, 2, 2, 2],\n",
      "             mask=[False, False, False, False, False, False, False, False,\n",
      "                   False, False, False, False, False, False, False, False,\n",
      "                   False, False, False, False, False, False, False, False],\n",
      "       fill_value='?',\n",
      "            dtype=object), 'param_gamma': masked_array(data=['auto', 0.1, 1, 'auto', 0.1, 1, 'auto', 0.1, 1, 'auto',\n",
      "                   0.1, 1, 'auto', 0.1, 1, 'auto', 0.1, 1, 'auto', 0.1, 1,\n",
      "                   'auto', 0.1, 1],\n",
      "             mask=[False, False, False, False, False, False, False, False,\n",
      "                   False, False, False, False, False, False, False, False,\n",
      "                   False, False, False, False, False, False, False, False],\n",
      "       fill_value='?',\n",
      "            dtype=object), 'param_kernel': masked_array(data=['poly', 'poly', 'poly', 'poly', 'poly', 'poly', 'poly',\n",
      "                   'poly', 'poly', 'poly', 'poly', 'poly', 'poly', 'poly',\n",
      "                   'poly', 'poly', 'poly', 'poly', 'poly', 'poly', 'poly',\n",
      "                   'poly', 'poly', 'poly'],\n",
      "             mask=[False, False, False, False, False, False, False, False,\n",
      "                   False, False, False, False, False, False, False, False,\n",
      "                   False, False, False, False, False, False, False, False],\n",
      "       fill_value='?',\n",
      "            dtype=object), 'params': [{'C': 0.01, 'degree': 2, 'gamma': 'auto', 'kernel': 'poly'}, {'C': 0.01, 'degree': 2, 'gamma': 0.1, 'kernel': 'poly'}, {'C': 0.01, 'degree': 2, 'gamma': 1, 'kernel': 'poly'}, {'C': 0.05, 'degree': 2, 'gamma': 'auto', 'kernel': 'poly'}, {'C': 0.05, 'degree': 2, 'gamma': 0.1, 'kernel': 'poly'}, {'C': 0.05, 'degree': 2, 'gamma': 1, 'kernel': 'poly'}, {'C': 0.1, 'degree': 2, 'gamma': 'auto', 'kernel': 'poly'}, {'C': 0.1, 'degree': 2, 'gamma': 0.1, 'kernel': 'poly'}, {'C': 0.1, 'degree': 2, 'gamma': 1, 'kernel': 'poly'}, {'C': 0.5, 'degree': 2, 'gamma': 'auto', 'kernel': 'poly'}, {'C': 0.5, 'degree': 2, 'gamma': 0.1, 'kernel': 'poly'}, {'C': 0.5, 'degree': 2, 'gamma': 1, 'kernel': 'poly'}, {'C': 1, 'degree': 2, 'gamma': 'auto', 'kernel': 'poly'}, {'C': 1, 'degree': 2, 'gamma': 0.1, 'kernel': 'poly'}, {'C': 1, 'degree': 2, 'gamma': 1, 'kernel': 'poly'}, {'C': 10, 'degree': 2, 'gamma': 'auto', 'kernel': 'poly'}, {'C': 10, 'degree': 2, 'gamma': 0.1, 'kernel': 'poly'}, {'C': 10, 'degree': 2, 'gamma': 1, 'kernel': 'poly'}, {'C': 100, 'degree': 2, 'gamma': 'auto', 'kernel': 'poly'}, {'C': 100, 'degree': 2, 'gamma': 0.1, 'kernel': 'poly'}, {'C': 100, 'degree': 2, 'gamma': 1, 'kernel': 'poly'}, {'C': 1000, 'degree': 2, 'gamma': 'auto', 'kernel': 'poly'}, {'C': 1000, 'degree': 2, 'gamma': 0.1, 'kernel': 'poly'}, {'C': 1000, 'degree': 2, 'gamma': 1, 'kernel': 'poly'}], 'split0_test_score': array([0.348, 0.938, 0.952, 0.348, 0.954, 0.952, 0.348, 0.95 , 0.952,\n",
      "       0.492, 0.95 , 0.952, 0.704, 0.952, 0.952, 0.898, 0.952, 0.952,\n",
      "       0.946, 0.952, 0.952, 0.95 , 0.952, 0.952]), 'split1_test_score': array([0.352, 0.932, 0.94 , 0.352, 0.942, 0.94 , 0.352, 0.946, 0.94 ,\n",
      "       0.5  , 0.94 , 0.94 , 0.7  , 0.94 , 0.94 , 0.902, 0.94 , 0.94 ,\n",
      "       0.938, 0.94 , 0.94 , 0.944, 0.94 , 0.94 ]), 'split2_test_score': array([0.33 , 0.912, 0.924, 0.33 , 0.928, 0.924, 0.33 , 0.926, 0.924,\n",
      "       0.492, 0.924, 0.924, 0.682, 0.924, 0.924, 0.89 , 0.924, 0.924,\n",
      "       0.928, 0.924, 0.924, 0.926, 0.924, 0.924]), 'split3_test_score': array([0.376, 0.934, 0.95 , 0.376, 0.942, 0.95 , 0.376, 0.944, 0.95 ,\n",
      "       0.534, 0.95 , 0.95 , 0.744, 0.95 , 0.95 , 0.914, 0.95 , 0.95 ,\n",
      "       0.934, 0.95 , 0.95 , 0.95 , 0.95 , 0.95 ]), 'split4_test_score': array([0.336, 0.922, 0.936, 0.336, 0.932, 0.936, 0.336, 0.938, 0.936,\n",
      "       0.494, 0.936, 0.936, 0.684, 0.936, 0.936, 0.888, 0.936, 0.936,\n",
      "       0.924, 0.936, 0.936, 0.936, 0.936, 0.936]), 'split5_test_score': array([0.388, 0.946, 0.954, 0.388, 0.954, 0.954, 0.388, 0.956, 0.954,\n",
      "       0.518, 0.954, 0.954, 0.686, 0.954, 0.954, 0.896, 0.954, 0.954,\n",
      "       0.95 , 0.954, 0.954, 0.954, 0.954, 0.954]), 'split6_test_score': array([0.352, 0.946, 0.958, 0.352, 0.954, 0.958, 0.352, 0.958, 0.958,\n",
      "       0.496, 0.958, 0.958, 0.71 , 0.958, 0.958, 0.922, 0.958, 0.958,\n",
      "       0.948, 0.958, 0.958, 0.956, 0.958, 0.958]), 'split7_test_score': array([0.376, 0.928, 0.95 , 0.376, 0.944, 0.95 , 0.376, 0.952, 0.95 ,\n",
      "       0.526, 0.95 , 0.95 , 0.712, 0.95 , 0.95 , 0.9  , 0.95 , 0.95 ,\n",
      "       0.942, 0.95 , 0.95 , 0.952, 0.95 , 0.95 ]), 'split8_test_score': array([0.324, 0.928, 0.94 , 0.324, 0.94 , 0.94 , 0.324, 0.94 , 0.94 ,\n",
      "       0.468, 0.94 , 0.94 , 0.65 , 0.94 , 0.94 , 0.894, 0.94 , 0.94 ,\n",
      "       0.938, 0.94 , 0.94 , 0.94 , 0.94 , 0.94 ]), 'split9_test_score': array([0.346, 0.922, 0.946, 0.346, 0.946, 0.946, 0.346, 0.946, 0.946,\n",
      "       0.516, 0.946, 0.946, 0.698, 0.946, 0.946, 0.89 , 0.946, 0.946,\n",
      "       0.932, 0.946, 0.946, 0.944, 0.946, 0.946]), 'mean_test_score': array([0.3528, 0.9308, 0.945 , 0.3528, 0.9436, 0.945 , 0.3528, 0.9456,\n",
      "       0.945 , 0.5036, 0.9448, 0.945 , 0.697 , 0.945 , 0.945 , 0.8994,\n",
      "       0.945 , 0.945 , 0.938 , 0.945 , 0.945 , 0.9452, 0.945 , 0.945 ]), 'std_test_score': array([0.02004395, 0.010245  , 0.00960208, 0.02004395, 0.00852291,\n",
      "       0.00960208, 0.02004395, 0.00893532, 0.00960208, 0.0186719 ,\n",
      "       0.00947418, 0.00960208, 0.02320776, 0.00960208, 0.00960208,\n",
      "       0.01039423, 0.00960208, 0.00960208, 0.00819756, 0.00960208,\n",
      "       0.00960208, 0.00877268, 0.00960208, 0.00960208]), 'rank_test_score': array([22, 18,  3, 22, 16,  3, 22,  1,  3, 21, 15,  3, 20,  3,  3, 19,  3,\n",
      "        3, 17,  3,  3,  2,  3,  3], dtype=int32), 'split0_train_score': array([0.35355556, 0.96488889, 1.        , 0.35355556, 0.99644444,\n",
      "       1.        , 0.35355556, 0.99911111, 1.        , 0.50266667,\n",
      "       1.        , 1.        , 0.70844444, 1.        , 1.        ,\n",
      "       0.91488889, 1.        , 1.        , 0.98066667, 1.        ,\n",
      "       1.        , 1.        , 1.        , 1.        ]), 'split1_train_score': array([0.36155556, 0.96444444, 1.        , 0.36155556, 0.996     ,\n",
      "       1.        , 0.36155556, 0.99977778, 1.        , 0.49688889,\n",
      "       1.        , 1.        , 0.69866667, 1.        , 1.        ,\n",
      "       0.91466667, 1.        , 1.        , 0.98111111, 1.        ,\n",
      "       1.        , 1.        , 1.        , 1.        ]), 'split2_train_score': array([0.35488889, 0.96511111, 1.        , 0.35488889, 0.99688889,\n",
      "       1.        , 0.35488889, 0.99933333, 1.        , 0.50644444,\n",
      "       1.        , 1.        , 0.70911111, 1.        , 1.        ,\n",
      "       0.91644444, 1.        , 1.        , 0.98088889, 1.        ,\n",
      "       1.        , 1.        , 1.        , 1.        ]), 'split3_train_score': array([0.35022222, 0.96533333, 1.        , 0.35022222, 0.99555556,\n",
      "       1.        , 0.35022222, 0.99955556, 1.        , 0.502     ,\n",
      "       1.        , 1.        , 0.70333333, 1.        , 1.        ,\n",
      "       0.91511111, 1.        , 1.        , 0.98133333, 1.        ,\n",
      "       1.        , 1.        , 1.        , 1.        ]), 'split4_train_score': array([0.35488889, 0.96444444, 1.        , 0.35488889, 0.99555556,\n",
      "       1.        , 0.35488889, 0.99933333, 1.        , 0.50711111,\n",
      "       1.        , 1.        , 0.708     , 1.        , 1.        ,\n",
      "       0.91555556, 1.        , 1.        , 0.98244444, 1.        ,\n",
      "       1.        , 1.        , 1.        , 1.        ]), 'split5_train_score': array([0.36266667, 0.964     , 1.        , 0.36266667, 0.99577778,\n",
      "       1.        , 0.36266667, 0.99955556, 1.        , 0.51466667,\n",
      "       1.        , 1.        , 0.71088889, 1.        , 1.        ,\n",
      "       0.91666667, 1.        , 1.        , 0.98044444, 1.        ,\n",
      "       1.        , 1.        , 1.        , 1.        ]), 'split6_train_score': array([0.35155556, 0.96311111, 1.        , 0.35155556, 0.99577778,\n",
      "       1.        , 0.35155556, 0.99933333, 1.        , 0.50355556,\n",
      "       1.        , 1.        , 0.70622222, 1.        , 1.        ,\n",
      "       0.914     , 1.        , 1.        , 0.98111111, 1.        ,\n",
      "       1.        , 1.        , 1.        , 1.        ]), 'split7_train_score': array([0.35111111, 0.96222222, 1.        , 0.35111111, 0.996     ,\n",
      "       1.        , 0.35111111, 0.99933333, 1.        , 0.50066667,\n",
      "       1.        , 1.        , 0.70355556, 1.        , 1.        ,\n",
      "       0.914     , 1.        , 1.        , 0.98022222, 1.        ,\n",
      "       1.        , 1.        , 1.        , 1.        ]), 'split8_train_score': array([0.35622222, 0.96533333, 1.        , 0.35622222, 0.99511111,\n",
      "       1.        , 0.35622222, 0.99933333, 1.        , 0.51622222,\n",
      "       1.        , 1.        , 0.71222222, 1.        , 1.        ,\n",
      "       0.91422222, 1.        , 1.        , 0.98111111, 1.        ,\n",
      "       1.        , 1.        , 1.        , 1.        ]), 'split9_train_score': array([0.366     , 0.96266667, 1.        , 0.366     , 0.996     ,\n",
      "       1.        , 0.366     , 0.99911111, 1.        , 0.508     ,\n",
      "       1.        , 1.        , 0.70844444, 1.        , 1.        ,\n",
      "       0.91666667, 1.        , 1.        , 0.98      , 1.        ,\n",
      "       1.        , 1.        , 1.        , 1.        ]), 'mean_train_score': array([0.35626667, 0.96415556, 1.        , 0.35626667, 0.99591111,\n",
      "       1.        , 0.35626667, 0.99937778, 1.        , 0.50582222,\n",
      "       1.        , 1.        , 0.70688889, 1.        , 1.        ,\n",
      "       0.91522222, 1.        , 1.        , 0.98093333, 1.        ,\n",
      "       1.        , 1.        , 1.        , 1.        ]), 'std_train_score': array([0.00510028, 0.00107059, 0.        , 0.00510028, 0.00046825,\n",
      "       0.        , 0.00510028, 0.00019373, 0.        , 0.00573815,\n",
      "       0.        , 0.        , 0.00383744, 0.        , 0.        ,\n",
      "       0.00100983, 0.        , 0.        , 0.00065017, 0.        ,\n",
      "       0.        , 0.        , 0.        , 0.        ])}\n"
     ]
    }
   ],
   "source": [
    "logger.info(tuned_svcclsf_pol.cv_results_)\n",
    "tuned_svcclsf_pol_results = pd.DataFrame( tuned_svcclsf_pol.cv_results_ )"
   ],
   "metadata": {
    "collapsed": false,
    "pycharm": {
     "name": "#%%\n"
    }
   }
  },
  {
   "cell_type": "code",
   "execution_count": 25,
   "outputs": [
    {
     "data": {
      "text/plain": "                                               params  mean_test_score  \\\n0   {'C': 0.01, 'degree': 2, 'gamma': 'auto', 'ker...           0.3528   \n1   {'C': 0.01, 'degree': 2, 'gamma': 0.1, 'kernel...           0.9308   \n2   {'C': 0.01, 'degree': 2, 'gamma': 1, 'kernel':...           0.9450   \n3   {'C': 0.05, 'degree': 2, 'gamma': 'auto', 'ker...           0.3528   \n4   {'C': 0.05, 'degree': 2, 'gamma': 0.1, 'kernel...           0.9436   \n5   {'C': 0.05, 'degree': 2, 'gamma': 1, 'kernel':...           0.9450   \n6   {'C': 0.1, 'degree': 2, 'gamma': 'auto', 'kern...           0.3528   \n7   {'C': 0.1, 'degree': 2, 'gamma': 0.1, 'kernel'...           0.9456   \n8   {'C': 0.1, 'degree': 2, 'gamma': 1, 'kernel': ...           0.9450   \n9   {'C': 0.5, 'degree': 2, 'gamma': 'auto', 'kern...           0.5036   \n10  {'C': 0.5, 'degree': 2, 'gamma': 0.1, 'kernel'...           0.9448   \n11  {'C': 0.5, 'degree': 2, 'gamma': 1, 'kernel': ...           0.9450   \n12  {'C': 1, 'degree': 2, 'gamma': 'auto', 'kernel...           0.6970   \n13  {'C': 1, 'degree': 2, 'gamma': 0.1, 'kernel': ...           0.9450   \n14  {'C': 1, 'degree': 2, 'gamma': 1, 'kernel': 'p...           0.9450   \n15  {'C': 10, 'degree': 2, 'gamma': 'auto', 'kerne...           0.8994   \n16  {'C': 10, 'degree': 2, 'gamma': 0.1, 'kernel':...           0.9450   \n17  {'C': 10, 'degree': 2, 'gamma': 1, 'kernel': '...           0.9450   \n18  {'C': 100, 'degree': 2, 'gamma': 'auto', 'kern...           0.9380   \n19  {'C': 100, 'degree': 2, 'gamma': 0.1, 'kernel'...           0.9450   \n20  {'C': 100, 'degree': 2, 'gamma': 1, 'kernel': ...           0.9450   \n21  {'C': 1000, 'degree': 2, 'gamma': 'auto', 'ker...           0.9452   \n22  {'C': 1000, 'degree': 2, 'gamma': 0.1, 'kernel...           0.9450   \n23  {'C': 1000, 'degree': 2, 'gamma': 1, 'kernel':...           0.9450   \n\n    mean_train_score  \n0           0.356267  \n1           0.964156  \n2           1.000000  \n3           0.356267  \n4           0.995911  \n5           1.000000  \n6           0.356267  \n7           0.999378  \n8           1.000000  \n9           0.505822  \n10          1.000000  \n11          1.000000  \n12          0.706889  \n13          1.000000  \n14          1.000000  \n15          0.915222  \n16          1.000000  \n17          1.000000  \n18          0.980933  \n19          1.000000  \n20          1.000000  \n21          1.000000  \n22          1.000000  \n23          1.000000  ",
      "text/html": "<div>\n<style scoped>\n    .dataframe tbody tr th:only-of-type {\n        vertical-align: middle;\n    }\n\n    .dataframe tbody tr th {\n        vertical-align: top;\n    }\n\n    .dataframe thead th {\n        text-align: right;\n    }\n</style>\n<table border=\"1\" class=\"dataframe\">\n  <thead>\n    <tr style=\"text-align: right;\">\n      <th></th>\n      <th>params</th>\n      <th>mean_test_score</th>\n      <th>mean_train_score</th>\n    </tr>\n  </thead>\n  <tbody>\n    <tr>\n      <th>0</th>\n      <td>{'C': 0.01, 'degree': 2, 'gamma': 'auto', 'ker...</td>\n      <td>0.3528</td>\n      <td>0.356267</td>\n    </tr>\n    <tr>\n      <th>1</th>\n      <td>{'C': 0.01, 'degree': 2, 'gamma': 0.1, 'kernel...</td>\n      <td>0.9308</td>\n      <td>0.964156</td>\n    </tr>\n    <tr>\n      <th>2</th>\n      <td>{'C': 0.01, 'degree': 2, 'gamma': 1, 'kernel':...</td>\n      <td>0.9450</td>\n      <td>1.000000</td>\n    </tr>\n    <tr>\n      <th>3</th>\n      <td>{'C': 0.05, 'degree': 2, 'gamma': 'auto', 'ker...</td>\n      <td>0.3528</td>\n      <td>0.356267</td>\n    </tr>\n    <tr>\n      <th>4</th>\n      <td>{'C': 0.05, 'degree': 2, 'gamma': 0.1, 'kernel...</td>\n      <td>0.9436</td>\n      <td>0.995911</td>\n    </tr>\n    <tr>\n      <th>5</th>\n      <td>{'C': 0.05, 'degree': 2, 'gamma': 1, 'kernel':...</td>\n      <td>0.9450</td>\n      <td>1.000000</td>\n    </tr>\n    <tr>\n      <th>6</th>\n      <td>{'C': 0.1, 'degree': 2, 'gamma': 'auto', 'kern...</td>\n      <td>0.3528</td>\n      <td>0.356267</td>\n    </tr>\n    <tr>\n      <th>7</th>\n      <td>{'C': 0.1, 'degree': 2, 'gamma': 0.1, 'kernel'...</td>\n      <td>0.9456</td>\n      <td>0.999378</td>\n    </tr>\n    <tr>\n      <th>8</th>\n      <td>{'C': 0.1, 'degree': 2, 'gamma': 1, 'kernel': ...</td>\n      <td>0.9450</td>\n      <td>1.000000</td>\n    </tr>\n    <tr>\n      <th>9</th>\n      <td>{'C': 0.5, 'degree': 2, 'gamma': 'auto', 'kern...</td>\n      <td>0.5036</td>\n      <td>0.505822</td>\n    </tr>\n    <tr>\n      <th>10</th>\n      <td>{'C': 0.5, 'degree': 2, 'gamma': 0.1, 'kernel'...</td>\n      <td>0.9448</td>\n      <td>1.000000</td>\n    </tr>\n    <tr>\n      <th>11</th>\n      <td>{'C': 0.5, 'degree': 2, 'gamma': 1, 'kernel': ...</td>\n      <td>0.9450</td>\n      <td>1.000000</td>\n    </tr>\n    <tr>\n      <th>12</th>\n      <td>{'C': 1, 'degree': 2, 'gamma': 'auto', 'kernel...</td>\n      <td>0.6970</td>\n      <td>0.706889</td>\n    </tr>\n    <tr>\n      <th>13</th>\n      <td>{'C': 1, 'degree': 2, 'gamma': 0.1, 'kernel': ...</td>\n      <td>0.9450</td>\n      <td>1.000000</td>\n    </tr>\n    <tr>\n      <th>14</th>\n      <td>{'C': 1, 'degree': 2, 'gamma': 1, 'kernel': 'p...</td>\n      <td>0.9450</td>\n      <td>1.000000</td>\n    </tr>\n    <tr>\n      <th>15</th>\n      <td>{'C': 10, 'degree': 2, 'gamma': 'auto', 'kerne...</td>\n      <td>0.8994</td>\n      <td>0.915222</td>\n    </tr>\n    <tr>\n      <th>16</th>\n      <td>{'C': 10, 'degree': 2, 'gamma': 0.1, 'kernel':...</td>\n      <td>0.9450</td>\n      <td>1.000000</td>\n    </tr>\n    <tr>\n      <th>17</th>\n      <td>{'C': 10, 'degree': 2, 'gamma': 1, 'kernel': '...</td>\n      <td>0.9450</td>\n      <td>1.000000</td>\n    </tr>\n    <tr>\n      <th>18</th>\n      <td>{'C': 100, 'degree': 2, 'gamma': 'auto', 'kern...</td>\n      <td>0.9380</td>\n      <td>0.980933</td>\n    </tr>\n    <tr>\n      <th>19</th>\n      <td>{'C': 100, 'degree': 2, 'gamma': 0.1, 'kernel'...</td>\n      <td>0.9450</td>\n      <td>1.000000</td>\n    </tr>\n    <tr>\n      <th>20</th>\n      <td>{'C': 100, 'degree': 2, 'gamma': 1, 'kernel': ...</td>\n      <td>0.9450</td>\n      <td>1.000000</td>\n    </tr>\n    <tr>\n      <th>21</th>\n      <td>{'C': 1000, 'degree': 2, 'gamma': 'auto', 'ker...</td>\n      <td>0.9452</td>\n      <td>1.000000</td>\n    </tr>\n    <tr>\n      <th>22</th>\n      <td>{'C': 1000, 'degree': 2, 'gamma': 0.1, 'kernel...</td>\n      <td>0.9450</td>\n      <td>1.000000</td>\n    </tr>\n    <tr>\n      <th>23</th>\n      <td>{'C': 1000, 'degree': 2, 'gamma': 1, 'kernel':...</td>\n      <td>0.9450</td>\n      <td>1.000000</td>\n    </tr>\n  </tbody>\n</table>\n</div>"
     },
     "execution_count": 25,
     "metadata": {},
     "output_type": "execute_result"
    }
   ],
   "source": [
    "tuned_svcclsf_pol_results[[\"params\",\"mean_test_score\",\"mean_train_score\"]]"
   ],
   "metadata": {
    "collapsed": false,
    "pycharm": {
     "name": "#%%\n"
    }
   }
  },
  {
   "cell_type": "code",
   "execution_count": 26,
   "outputs": [
    {
     "data": {
      "text/plain": "<AxesSubplot:xlabel='param_C', ylabel='mean_test_score'>"
     },
     "execution_count": 26,
     "metadata": {},
     "output_type": "execute_result"
    },
    {
     "data": {
      "text/plain": "<Figure size 864x576 with 1 Axes>",
      "image/png": "[encoded data removed]"
     },
     "metadata": {},
     "output_type": "display_data"
    }
   ],
   "source": [
    "sns.set(rc={\"figure.figsize\":(12, 8)})\n",
    "sns.lineplot(data=tuned_svcclsf_pol_results, x=\"param_C\", y=\"mean_test_score\")"
   ],
   "metadata": {
    "collapsed": false,
    "pycharm": {
     "name": "#%%\n"
    }
   }
  },
  {
   "cell_type": "code",
   "execution_count": 27,
   "outputs": [
    {
     "name": "stdout",
     "output_type": "stream",
     "text": [
      "SVC(C=0.1, degree=2, gamma=0.1, kernel='poly', random_state=28)\n",
      "0.9456\n"
     ]
    }
   ],
   "source": [
    "print(tuned_svcclsf_pol.best_estimator_)\n",
    "print(tuned_svcclsf_pol.best_score_)"
   ],
   "metadata": {
    "collapsed": false,
    "pycharm": {
     "name": "#%%\n"
    }
   }
  },
  {
   "cell_type": "code",
   "execution_count": 28,
   "outputs": [
    {
     "name": "stdout",
     "output_type": "stream",
     "text": [
      "Train accuracy Score on original dataset: 0.9547\n"
     ]
    }
   ],
   "source": [
    "test_acc = accuracy_score(y_true = data_split.y_train,\n",
    "                    y_pred = tuned_svcclsf_pol.predict(data_split.x_train))\n",
    "print(\"Train accuracy Score on original dataset: {}\".format(test_acc) )"
   ],
   "metadata": {
    "collapsed": false,
    "pycharm": {
     "name": "#%%\n"
    }
   }
  },
  {
   "cell_type": "code",
   "execution_count": 29,
   "outputs": [
    {
     "name": "stdout",
     "output_type": "stream",
     "text": [
      "[CV 2/10] END C=0.01, degree=2, gamma=auto, kernel=poly;, score=(train=0.362, test=0.352) total time=  23.6s\n",
      "[CV 8/10] END C=0.01, degree=2, gamma=auto, kernel=poly;, score=(train=0.351, test=0.376) total time=  30.0s\n",
      "[CV 1/10] END C=0.01, degree=2, gamma=0.1, kernel=poly;, score=(train=0.965, test=0.938) total time=   8.0s\n",
      "[CV 4/10] END C=0.01, degree=2, gamma=0.1, kernel=poly;, score=(train=0.965, test=0.934) total time=   7.6s\n",
      "[CV 6/10] END C=0.01, degree=2, gamma=0.1, kernel=poly;, score=(train=0.964, test=0.946) total time=   6.6s\n",
      "[CV 8/10] END C=0.01, degree=2, gamma=0.1, kernel=poly;, score=(train=0.962, test=0.928) total time=   6.9s\n",
      "[CV 1/10] END C=0.01, degree=2, gamma=1, kernel=poly;, score=(train=1.000, test=0.952) total time=   7.4s\n",
      "[CV 6/10] END C=0.01, degree=2, gamma=1, kernel=poly;, score=(train=1.000, test=0.954) total time=   8.1s\n",
      "[CV 10/10] END C=0.01, degree=2, gamma=1, kernel=poly;, score=(train=1.000, test=0.946) total time=  10.0s\n",
      "[CV 4/10] END C=0.05, degree=2, gamma=auto, kernel=poly;, score=(train=0.350, test=0.376) total time= 1.0min\n",
      "[CV 8/10] END C=0.05, degree=2, gamma=auto, kernel=poly;, score=(train=0.351, test=0.376) total time=  49.1s\n",
      "[CV 2/10] END C=0.05, degree=2, gamma=0.1, kernel=poly;, score=(train=0.996, test=0.942) total time=   8.8s\n",
      "[CV 4/10] END C=0.05, degree=2, gamma=0.1, kernel=poly;, score=(train=0.996, test=0.942) total time=   9.0s\n",
      "[CV 6/10] END C=0.05, degree=2, gamma=0.1, kernel=poly;, score=(train=0.996, test=0.954) total time=   9.1s\n",
      "[CV 8/10] END C=0.05, degree=2, gamma=0.1, kernel=poly;, score=(train=0.996, test=0.944) total time=   9.0s\n",
      "[CV 2/10] END C=0.05, degree=2, gamma=1, kernel=poly;, score=(train=1.000, test=0.940) total time=   8.3s\n",
      "[CV 6/10] END C=0.05, degree=2, gamma=1, kernel=poly;, score=(train=1.000, test=0.954) total time=   8.7s\n",
      "[CV 10/10] END C=0.05, degree=2, gamma=1, kernel=poly;, score=(train=1.000, test=0.946) total time=   8.5s\n",
      "[CV 4/10] END C=0.1, degree=2, gamma=auto, kernel=poly;, score=(train=0.350, test=0.376) total time=  50.4s\n",
      "[CV 7/10] END C=0.1, degree=2, gamma=auto, kernel=poly;, score=(train=0.352, test=0.352) total time=  50.8s\n",
      "[CV 1/10] END C=0.1, degree=2, gamma=0.1, kernel=poly;, score=(train=0.999, test=0.950) total time=   8.8s\n",
      "[CV 3/10] END C=0.1, degree=2, gamma=0.1, kernel=poly;, score=(train=0.999, test=0.926) total time=   8.4s\n",
      "[CV 5/10] END C=0.1, degree=2, gamma=0.1, kernel=poly;, score=(train=0.999, test=0.938) total time=   9.0s\n",
      "[CV 7/10] END C=0.1, degree=2, gamma=0.1, kernel=poly;, score=(train=0.999, test=0.958) total time=   9.1s\n",
      "[CV 1/10] END C=0.1, degree=2, gamma=1, kernel=poly;, score=(train=1.000, test=0.952) total time=   8.6s\n",
      "[CV 5/10] END C=0.1, degree=2, gamma=1, kernel=poly;, score=(train=1.000, test=0.936) total time=   8.5s\n",
      "[CV 9/10] END C=0.1, degree=2, gamma=1, kernel=poly;, score=(train=1.000, test=0.940) total time=   8.4s\n",
      "[CV 3/10] END C=0.5, degree=2, gamma=auto, kernel=poly;, score=(train=0.506, test=0.492) total time=  49.3s\n",
      "[CV 8/10] END C=0.5, degree=2, gamma=auto, kernel=poly;, score=(train=0.501, test=0.526) total time=  47.3s\n",
      "[CV 2/10] END C=0.5, degree=2, gamma=0.1, kernel=poly;, score=(train=1.000, test=0.940) total time=   7.3s\n",
      "[CV 3/10] END C=0.5, degree=2, gamma=0.1, kernel=poly;, score=(train=1.000, test=0.924) total time=   6.9s\n",
      "[CV 5/10] END C=0.5, degree=2, gamma=0.1, kernel=poly;, score=(train=1.000, test=0.936) total time=   7.5s\n",
      "[CV 7/10] END C=0.5, degree=2, gamma=0.1, kernel=poly;, score=(train=1.000, test=0.958) total time=   7.4s\n",
      "[CV 10/10] END C=0.5, degree=2, gamma=0.1, kernel=poly;, score=(train=1.000, test=0.946) total time=   7.4s\n",
      "[CV 4/10] END C=0.5, degree=2, gamma=1, kernel=poly;, score=(train=1.000, test=0.950) total time=   7.1s\n",
      "[CV 8/10] END C=0.5, degree=2, gamma=1, kernel=poly;, score=(train=1.000, test=0.950) total time=   7.5s\n",
      "[CV 2/10] END C=1, degree=2, gamma=auto, kernel=poly;, score=(train=0.699, test=0.700) total time=  36.7s\n",
      "[CV 5/10] END C=1, degree=2, gamma=auto, kernel=poly;, score=(train=0.708, test=0.684) total time=  35.8s\n",
      "[CV 9/10] END C=1, degree=2, gamma=auto, kernel=poly;, score=(train=0.712, test=0.650) total time=  37.0s\n",
      "[CV 9/10] END C=1, degree=2, gamma=0.1, kernel=poly;, score=(train=1.000, test=0.940) total time=   8.1s\n",
      "[CV 3/10] END C=1, degree=2, gamma=1, kernel=poly;, score=(train=1.000, test=0.924) total time=   8.3s\n",
      "[CV 7/10] END C=1, degree=2, gamma=1, kernel=poly;, score=(train=1.000, test=0.958) total time=   7.3s\n",
      "[CV 1/10] END C=10, degree=2, gamma=auto, kernel=poly;, score=(train=0.915, test=0.898) total time=  16.5s\n",
      "[CV 5/10] END C=10, degree=2, gamma=auto, kernel=poly;, score=(train=0.916, test=0.888) total time=  16.1s\n",
      "[CV 9/10] END C=10, degree=2, gamma=auto, kernel=poly;, score=(train=0.914, test=0.894) total time=  16.5s\n",
      "[CV 5/10] END C=10, degree=2, gamma=0.1, kernel=poly;, score=(train=1.000, test=0.936) total time=   7.1s\n",
      "[CV 9/10] END C=10, degree=2, gamma=0.1, kernel=poly;, score=(train=1.000, test=0.940) total time=   7.2s\n",
      "[CV 3/10] END C=10, degree=2, gamma=1, kernel=poly;, score=(train=1.000, test=0.924) total time=   7.2s\n",
      "[CV 7/10] END C=10, degree=2, gamma=1, kernel=poly;, score=(train=1.000, test=0.958) total time=   7.2s\n",
      "[CV 1/10] END C=100, degree=2, gamma=auto, kernel=poly;, score=(train=0.981, test=0.946) total time=   8.1s\n",
      "[CV 5/10] END C=100, degree=2, gamma=auto, kernel=poly;, score=(train=0.982, test=0.924) total time=   8.4s\n",
      "[CV 9/10] END C=100, degree=2, gamma=auto, kernel=poly;, score=(train=0.981, test=0.938) total time=   8.3s\n",
      "[CV 3/10] END C=100, degree=2, gamma=0.1, kernel=poly;, score=(train=1.000, test=0.924) total time=   6.7s\n",
      "[CV 7/10] END C=100, degree=2, gamma=0.1, kernel=poly;, score=(train=1.000, test=0.958) total time=   7.2s\n",
      "[CV 1/10] END C=100, degree=2, gamma=1, kernel=poly;, score=(train=1.000, test=0.952) total time=   7.2s\n",
      "[CV 5/10] END C=100, degree=2, gamma=1, kernel=poly;, score=(train=1.000, test=0.936) total time=   7.1s\n",
      "[CV 9/10] END C=100, degree=2, gamma=1, kernel=poly;, score=(train=1.000, test=0.940) total time=   7.4s\n",
      "[CV 3/10] END C=1000, degree=2, gamma=auto, kernel=poly;, score=(train=1.000, test=0.926) total time=   7.2s\n",
      "[CV 7/10] END C=1000, degree=2, gamma=auto, kernel=poly;, score=(train=1.000, test=0.956) total time=   7.3s\n",
      "[CV 1/10] END C=1000, degree=2, gamma=0.1, kernel=poly;, score=(train=1.000, test=0.952) total time=   8.2s\n",
      "[CV 5/10] END C=1000, degree=2, gamma=0.1, kernel=poly;, score=(train=1.000, test=0.936) total time=   8.2s\n",
      "[CV 9/10] END C=1000, degree=2, gamma=0.1, kernel=poly;, score=(train=1.000, test=0.940) total time=   8.6s\n",
      "[CV 3/10] END C=1000, degree=2, gamma=1, kernel=poly;, score=(train=1.000, test=0.924) total time=   7.7s\n",
      "[CV 7/10] END C=1000, degree=2, gamma=1, kernel=poly;, score=(train=1.000, test=0.958) total time=   7.2s\n",
      "[CV 1/10] END C=0.01, degree=2, gamma=auto, kernel=poly;, score=(train=0.354, test=0.348) total time=  23.4s\n",
      "[CV 7/10] END C=0.01, degree=2, gamma=auto, kernel=poly;, score=(train=0.352, test=0.352) total time=  29.9s\n",
      "[CV 2/10] END C=0.01, degree=2, gamma=0.1, kernel=poly;, score=(train=0.964, test=0.932) total time=   8.0s\n",
      "[CV 3/10] END C=0.01, degree=2, gamma=0.1, kernel=poly;, score=(train=0.965, test=0.912) total time=   7.5s\n",
      "[CV 5/10] END C=0.01, degree=2, gamma=0.1, kernel=poly;, score=(train=0.964, test=0.922) total time=   6.5s\n",
      "[CV 7/10] END C=0.01, degree=2, gamma=0.1, kernel=poly;, score=(train=0.963, test=0.946) total time=   7.0s\n",
      "[CV 2/10] END C=0.01, degree=2, gamma=1, kernel=poly;, score=(train=1.000, test=0.940) total time=   7.2s\n",
      "[CV 5/10] END C=0.01, degree=2, gamma=1, kernel=poly;, score=(train=1.000, test=0.936) total time=   8.1s\n",
      "[CV 9/10] END C=0.01, degree=2, gamma=1, kernel=poly;, score=(train=1.000, test=0.940) total time=   9.8s\n",
      "[CV 3/10] END C=0.05, degree=2, gamma=auto, kernel=poly;, score=(train=0.355, test=0.330) total time= 1.0min\n",
      "[CV 7/10] END C=0.05, degree=2, gamma=auto, kernel=poly;, score=(train=0.352, test=0.352) total time=  49.0s\n",
      "[CV 1/10] END C=0.05, degree=2, gamma=0.1, kernel=poly;, score=(train=0.996, test=0.954) total time=   8.9s\n",
      "[CV 3/10] END C=0.05, degree=2, gamma=0.1, kernel=poly;, score=(train=0.997, test=0.928) total time=   8.9s\n",
      "[CV 5/10] END C=0.05, degree=2, gamma=0.1, kernel=poly;, score=(train=0.996, test=0.932) total time=   9.1s\n",
      "[CV 7/10] END C=0.05, degree=2, gamma=0.1, kernel=poly;, score=(train=0.996, test=0.954) total time=   8.9s\n",
      "[CV 1/10] END C=0.05, degree=2, gamma=1, kernel=poly;, score=(train=1.000, test=0.952) total time=   8.7s\n",
      "[CV 5/10] END C=0.05, degree=2, gamma=1, kernel=poly;, score=(train=1.000, test=0.936) total time=   8.7s\n",
      "[CV 9/10] END C=0.05, degree=2, gamma=1, kernel=poly;, score=(train=1.000, test=0.940) total time=   8.5s\n",
      "[CV 3/10] END C=0.1, degree=2, gamma=auto, kernel=poly;, score=(train=0.355, test=0.330) total time=  50.1s\n",
      "[CV 8/10] END C=0.1, degree=2, gamma=auto, kernel=poly;, score=(train=0.351, test=0.376) total time=  51.5s\n",
      "[CV 2/10] END C=0.1, degree=2, gamma=0.1, kernel=poly;, score=(train=1.000, test=0.946) total time=   8.8s\n",
      "[CV 4/10] END C=0.1, degree=2, gamma=0.1, kernel=poly;, score=(train=1.000, test=0.944) total time=   8.7s\n",
      "[CV 6/10] END C=0.1, degree=2, gamma=0.1, kernel=poly;, score=(train=1.000, test=0.956) total time=   9.0s\n",
      "[CV 8/10] END C=0.1, degree=2, gamma=0.1, kernel=poly;, score=(train=0.999, test=0.952) total time=   9.1s\n",
      "[CV 2/10] END C=0.1, degree=2, gamma=1, kernel=poly;, score=(train=1.000, test=0.940) total time=   8.6s\n",
      "[CV 6/10] END C=0.1, degree=2, gamma=1, kernel=poly;, score=(train=1.000, test=0.954) total time=   8.3s\n",
      "[CV 10/10] END C=0.1, degree=2, gamma=1, kernel=poly;, score=(train=1.000, test=0.946) total time=   8.3s\n",
      "[CV 4/10] END C=0.5, degree=2, gamma=auto, kernel=poly;, score=(train=0.502, test=0.534) total time=  49.1s\n",
      "[CV 7/10] END C=0.5, degree=2, gamma=auto, kernel=poly;, score=(train=0.504, test=0.496) total time=  46.9s\n",
      "[CV 1/10] END C=0.5, degree=2, gamma=0.1, kernel=poly;, score=(train=1.000, test=0.950) total time=   7.4s\n",
      "[CV 4/10] END C=0.5, degree=2, gamma=0.1, kernel=poly;, score=(train=1.000, test=0.950) total time=   6.9s\n",
      "[CV 6/10] END C=0.5, degree=2, gamma=0.1, kernel=poly;, score=(train=1.000, test=0.954) total time=   7.5s\n",
      "[CV 8/10] END C=0.5, degree=2, gamma=0.1, kernel=poly;, score=(train=1.000, test=0.950) total time=   7.3s\n",
      "[CV 9/10] END C=0.5, degree=2, gamma=0.1, kernel=poly;, score=(train=1.000, test=0.940) total time=   7.5s\n",
      "[CV 3/10] END C=0.5, degree=2, gamma=1, kernel=poly;, score=(train=1.000, test=0.924) total time=   7.0s\n",
      "[CV 7/10] END C=0.5, degree=2, gamma=1, kernel=poly;, score=(train=1.000, test=0.958) total time=   7.5s\n",
      "[CV 1/10] END C=1, degree=2, gamma=auto, kernel=poly;, score=(train=0.708, test=0.704) total time=  36.8s\n",
      "[CV 6/10] END C=1, degree=2, gamma=auto, kernel=poly;, score=(train=0.711, test=0.686) total time=  36.0s\n",
      "[CV 10/10] END C=1, degree=2, gamma=auto, kernel=poly;, score=(train=0.708, test=0.698) total time=  37.6s\n",
      "[CV 10/10] END C=1, degree=2, gamma=0.1, kernel=poly;, score=(train=1.000, test=0.946) total time=   8.4s\n",
      "[CV 4/10] END C=1, degree=2, gamma=1, kernel=poly;, score=(train=1.000, test=0.950) total time=   8.4s\n",
      "[CV 8/10] END C=1, degree=2, gamma=1, kernel=poly;, score=(train=1.000, test=0.950) total time=   7.4s\n",
      "[CV 2/10] END C=10, degree=2, gamma=auto, kernel=poly;, score=(train=0.915, test=0.902) total time=  16.5s\n",
      "[CV 6/10] END C=10, degree=2, gamma=auto, kernel=poly;, score=(train=0.917, test=0.896) total time=  16.3s\n",
      "[CV 10/10] END C=10, degree=2, gamma=auto, kernel=poly;, score=(train=0.917, test=0.890) total time=  16.5s\n",
      "[CV 6/10] END C=10, degree=2, gamma=0.1, kernel=poly;, score=(train=1.000, test=0.954) total time=   7.0s\n",
      "[CV 10/10] END C=10, degree=2, gamma=0.1, kernel=poly;, score=(train=1.000, test=0.946) total time=   7.3s\n",
      "[CV 4/10] END C=10, degree=2, gamma=1, kernel=poly;, score=(train=1.000, test=0.950) total time=   7.1s\n",
      "[CV 8/10] END C=10, degree=2, gamma=1, kernel=poly;, score=(train=1.000, test=0.950) total time=   7.3s\n",
      "[CV 2/10] END C=100, degree=2, gamma=auto, kernel=poly;, score=(train=0.981, test=0.938) total time=   8.1s\n",
      "[CV 6/10] END C=100, degree=2, gamma=auto, kernel=poly;, score=(train=0.980, test=0.950) total time=   8.2s\n",
      "[CV 10/10] END C=100, degree=2, gamma=auto, kernel=poly;, score=(train=0.980, test=0.932) total time=   8.2s\n",
      "[CV 4/10] END C=100, degree=2, gamma=0.1, kernel=poly;, score=(train=1.000, test=0.950) total time=   6.8s\n",
      "[CV 8/10] END C=100, degree=2, gamma=0.1, kernel=poly;, score=(train=1.000, test=0.950) total time=   7.0s\n",
      "[CV 2/10] END C=100, degree=2, gamma=1, kernel=poly;, score=(train=1.000, test=0.940) total time=   7.1s\n",
      "[CV 6/10] END C=100, degree=2, gamma=1, kernel=poly;, score=(train=1.000, test=0.954) total time=   7.0s\n",
      "[CV 10/10] END C=100, degree=2, gamma=1, kernel=poly;, score=(train=1.000, test=0.946) total time=   7.4s\n",
      "[CV 4/10] END C=1000, degree=2, gamma=auto, kernel=poly;, score=(train=1.000, test=0.950) total time=   7.3s\n",
      "[CV 8/10] END C=1000, degree=2, gamma=auto, kernel=poly;, score=(train=1.000, test=0.952) total time=   7.3s\n",
      "[CV 2/10] END C=1000, degree=2, gamma=0.1, kernel=poly;, score=(train=1.000, test=0.940) total time=   8.3s\n",
      "[CV 6/10] END C=1000, degree=2, gamma=0.1, kernel=poly;, score=(train=1.000, test=0.954) total time=   7.9s\n",
      "[CV 10/10] END C=1000, degree=2, gamma=0.1, kernel=poly;, score=(train=1.000, test=0.946) total time=   8.6s\n",
      "[CV 4/10] END C=1000, degree=2, gamma=1, kernel=poly;, score=(train=1.000, test=0.950) total time=   7.7s\n",
      "[CV 8/10] END C=1000, degree=2, gamma=1, kernel=poly;, score=(train=1.000, test=0.950) total time=   7.3s\n",
      "[CV 3/10] END C=0.01, degree=2, gamma=auto, kernel=poly;, score=(train=0.355, test=0.330) total time=  23.4s\n",
      "[CV 5/10] END C=0.01, degree=2, gamma=auto, kernel=poly;, score=(train=0.355, test=0.336) total time=  29.7s\n",
      "[CV 10/10] END C=0.01, degree=2, gamma=auto, kernel=poly;, score=(train=0.366, test=0.346) total time=  31.3s\n",
      "[CV 10/10] END C=0.01, degree=2, gamma=0.1, kernel=poly;, score=(train=0.963, test=0.922) total time=   7.2s\n",
      "[CV 4/10] END C=0.01, degree=2, gamma=1, kernel=poly;, score=(train=1.000, test=0.950) total time=   5.6s\n",
      "[CV 8/10] END C=0.01, degree=2, gamma=1, kernel=poly;, score=(train=1.000, test=0.950) total time=   4.7s\n",
      "[CV 2/10] END C=0.05, degree=2, gamma=auto, kernel=poly;, score=(train=0.362, test=0.352) total time= 1.1min\n",
      "[CV 6/10] END C=0.05, degree=2, gamma=auto, kernel=poly;, score=(train=0.363, test=0.388) total time=  49.9s\n",
      "[CV 10/10] END C=0.05, degree=2, gamma=auto, kernel=poly;, score=(train=0.366, test=0.346) total time=  50.0s\n",
      "[CV 10/10] END C=0.05, degree=2, gamma=0.1, kernel=poly;, score=(train=0.996, test=0.946) total time=   8.9s\n",
      "[CV 4/10] END C=0.05, degree=2, gamma=1, kernel=poly;, score=(train=1.000, test=0.950) total time=   8.5s\n",
      "[CV 8/10] END C=0.05, degree=2, gamma=1, kernel=poly;, score=(train=1.000, test=0.950) total time=   8.7s\n",
      "[CV 2/10] END C=0.1, degree=2, gamma=auto, kernel=poly;, score=(train=0.362, test=0.352) total time=  50.1s\n",
      "[CV 6/10] END C=0.1, degree=2, gamma=auto, kernel=poly;, score=(train=0.363, test=0.388) total time=  50.8s\n",
      "[CV 10/10] END C=0.1, degree=2, gamma=auto, kernel=poly;, score=(train=0.366, test=0.346) total time=  50.6s\n",
      "[CV 10/10] END C=0.1, degree=2, gamma=0.1, kernel=poly;, score=(train=0.999, test=0.946) total time=   8.5s\n",
      "[CV 4/10] END C=0.1, degree=2, gamma=1, kernel=poly;, score=(train=1.000, test=0.950) total time=   8.3s\n",
      "[CV 8/10] END C=0.1, degree=2, gamma=1, kernel=poly;, score=(train=1.000, test=0.950) total time=   8.5s\n",
      "[CV 2/10] END C=0.5, degree=2, gamma=auto, kernel=poly;, score=(train=0.497, test=0.500) total time=  48.7s\n",
      "[CV 6/10] END C=0.5, degree=2, gamma=auto, kernel=poly;, score=(train=0.515, test=0.518) total time=  47.0s\n",
      "[CV 10/10] END C=0.5, degree=2, gamma=auto, kernel=poly;, score=(train=0.508, test=0.516) total time=  40.5s\n",
      "[CV 2/10] END C=0.5, degree=2, gamma=1, kernel=poly;, score=(train=1.000, test=0.940) total time=   7.3s\n",
      "[CV 6/10] END C=0.5, degree=2, gamma=1, kernel=poly;, score=(train=1.000, test=0.954) total time=   7.2s\n",
      "[CV 10/10] END C=0.5, degree=2, gamma=1, kernel=poly;, score=(train=1.000, test=0.946) total time=   7.4s\n",
      "[CV 4/10] END C=1, degree=2, gamma=auto, kernel=poly;, score=(train=0.703, test=0.744) total time=  36.7s\n",
      "[CV 8/10] END C=1, degree=2, gamma=auto, kernel=poly;, score=(train=0.704, test=0.712) total time=  36.1s\n",
      "[CV 2/10] END C=1, degree=2, gamma=0.1, kernel=poly;, score=(train=1.000, test=0.940) total time=   7.4s\n",
      "[CV 4/10] END C=1, degree=2, gamma=0.1, kernel=poly;, score=(train=1.000, test=0.950) total time=   7.7s\n",
      "[CV 6/10] END C=1, degree=2, gamma=0.1, kernel=poly;, score=(train=1.000, test=0.954) total time=   8.7s\n",
      "[CV 8/10] END C=1, degree=2, gamma=0.1, kernel=poly;, score=(train=1.000, test=0.950) total time=   7.9s\n",
      "[CV 2/10] END C=1, degree=2, gamma=1, kernel=poly;, score=(train=1.000, test=0.940) total time=   8.1s\n",
      "[CV 5/10] END C=1, degree=2, gamma=1, kernel=poly;, score=(train=1.000, test=0.936) total time=   7.6s\n",
      "[CV 10/10] END C=1, degree=2, gamma=1, kernel=poly;, score=(train=1.000, test=0.946) total time=   7.9s\n",
      "[CV 4/10] END C=10, degree=2, gamma=auto, kernel=poly;, score=(train=0.915, test=0.914) total time=  17.0s\n",
      "[CV 8/10] END C=10, degree=2, gamma=auto, kernel=poly;, score=(train=0.914, test=0.900) total time=  16.1s\n",
      "[CV 2/10] END C=10, degree=2, gamma=0.1, kernel=poly;, score=(train=1.000, test=0.940) total time=   7.1s\n",
      "[CV 4/10] END C=10, degree=2, gamma=0.1, kernel=poly;, score=(train=1.000, test=0.950) total time=   7.4s\n",
      "[CV 8/10] END C=10, degree=2, gamma=0.1, kernel=poly;, score=(train=1.000, test=0.950) total time=   7.1s\n",
      "[CV 2/10] END C=10, degree=2, gamma=1, kernel=poly;, score=(train=1.000, test=0.940) total time=   7.2s\n",
      "[CV 6/10] END C=10, degree=2, gamma=1, kernel=poly;, score=(train=1.000, test=0.954) total time=   7.3s\n",
      "[CV 10/10] END C=10, degree=2, gamma=1, kernel=poly;, score=(train=1.000, test=0.946) total time=   7.0s\n",
      "[CV 4/10] END C=100, degree=2, gamma=auto, kernel=poly;, score=(train=0.981, test=0.934) total time=   8.4s\n",
      "[CV 8/10] END C=100, degree=2, gamma=auto, kernel=poly;, score=(train=0.980, test=0.942) total time=   8.2s\n",
      "[CV 2/10] END C=100, degree=2, gamma=0.1, kernel=poly;, score=(train=1.000, test=0.940) total time=   6.7s\n",
      "[CV 6/10] END C=100, degree=2, gamma=0.1, kernel=poly;, score=(train=1.000, test=0.954) total time=   7.1s\n",
      "[CV 10/10] END C=100, degree=2, gamma=0.1, kernel=poly;, score=(train=1.000, test=0.946) total time=   6.9s\n",
      "[CV 4/10] END C=100, degree=2, gamma=1, kernel=poly;, score=(train=1.000, test=0.950) total time=   7.5s\n",
      "[CV 8/10] END C=100, degree=2, gamma=1, kernel=poly;, score=(train=1.000, test=0.950) total time=   7.1s\n",
      "[CV 2/10] END C=1000, degree=2, gamma=auto, kernel=poly;, score=(train=1.000, test=0.944) total time=   7.5s\n",
      "[CV 5/10] END C=1000, degree=2, gamma=auto, kernel=poly;, score=(train=1.000, test=0.936) total time=   7.3s\n",
      "[CV 9/10] END C=1000, degree=2, gamma=auto, kernel=poly;, score=(train=1.000, test=0.940) total time=   7.4s\n",
      "[CV 3/10] END C=1000, degree=2, gamma=0.1, kernel=poly;, score=(train=1.000, test=0.924) total time=   8.0s\n",
      "[CV 7/10] END C=1000, degree=2, gamma=0.1, kernel=poly;, score=(train=1.000, test=0.958) total time=   7.6s\n",
      "[CV 1/10] END C=1000, degree=2, gamma=1, kernel=poly;, score=(train=1.000, test=0.952) total time=   8.6s\n",
      "[CV 5/10] END C=1000, degree=2, gamma=1, kernel=poly;, score=(train=1.000, test=0.936) total time=   7.8s\n",
      "[CV 9/10] END C=1000, degree=2, gamma=1, kernel=poly;, score=(train=1.000, test=0.940) total time=   7.4s\n",
      "[CV 4/10] END C=0.01, degree=2, gamma=auto, kernel=poly;, score=(train=0.350, test=0.376) total time=  23.4s\n",
      "[CV 6/10] END C=0.01, degree=2, gamma=auto, kernel=poly;, score=(train=0.363, test=0.388) total time=  29.7s\n",
      "[CV 9/10] END C=0.01, degree=2, gamma=auto, kernel=poly;, score=(train=0.356, test=0.324) total time=  31.3s\n",
      "[CV 9/10] END C=0.01, degree=2, gamma=0.1, kernel=poly;, score=(train=0.965, test=0.928) total time=   7.1s\n",
      "[CV 3/10] END C=0.01, degree=2, gamma=1, kernel=poly;, score=(train=1.000, test=0.924) total time=   5.5s\n",
      "[CV 7/10] END C=0.01, degree=2, gamma=1, kernel=poly;, score=(train=1.000, test=0.958) total time=   4.8s\n",
      "[CV 1/10] END C=0.05, degree=2, gamma=auto, kernel=poly;, score=(train=0.354, test=0.348) total time= 1.1min\n",
      "[CV 5/10] END C=0.05, degree=2, gamma=auto, kernel=poly;, score=(train=0.355, test=0.336) total time=  50.1s\n",
      "[CV 9/10] END C=0.05, degree=2, gamma=auto, kernel=poly;, score=(train=0.356, test=0.324) total time=  49.8s\n",
      "[CV 9/10] END C=0.05, degree=2, gamma=0.1, kernel=poly;, score=(train=0.995, test=0.940) total time=   8.8s\n",
      "[CV 3/10] END C=0.05, degree=2, gamma=1, kernel=poly;, score=(train=1.000, test=0.924) total time=   8.6s\n",
      "[CV 7/10] END C=0.05, degree=2, gamma=1, kernel=poly;, score=(train=1.000, test=0.958) total time=   8.8s\n",
      "[CV 1/10] END C=0.1, degree=2, gamma=auto, kernel=poly;, score=(train=0.354, test=0.348) total time=  50.0s\n",
      "[CV 5/10] END C=0.1, degree=2, gamma=auto, kernel=poly;, score=(train=0.355, test=0.336) total time=  50.9s\n",
      "[CV 9/10] END C=0.1, degree=2, gamma=auto, kernel=poly;, score=(train=0.356, test=0.324) total time=  50.3s\n",
      "[CV 9/10] END C=0.1, degree=2, gamma=0.1, kernel=poly;, score=(train=0.999, test=0.940) total time=   8.4s\n",
      "[CV 3/10] END C=0.1, degree=2, gamma=1, kernel=poly;, score=(train=1.000, test=0.924) total time=   8.2s\n",
      "[CV 7/10] END C=0.1, degree=2, gamma=1, kernel=poly;, score=(train=1.000, test=0.958) total time=   8.5s\n",
      "[CV 1/10] END C=0.5, degree=2, gamma=auto, kernel=poly;, score=(train=0.503, test=0.492) total time=  48.7s\n",
      "[CV 5/10] END C=0.5, degree=2, gamma=auto, kernel=poly;, score=(train=0.507, test=0.494) total time=  47.5s\n",
      "[CV 9/10] END C=0.5, degree=2, gamma=auto, kernel=poly;, score=(train=0.516, test=0.468) total time=  40.1s\n",
      "[CV 1/10] END C=0.5, degree=2, gamma=1, kernel=poly;, score=(train=1.000, test=0.952) total time=   7.5s\n",
      "[CV 5/10] END C=0.5, degree=2, gamma=1, kernel=poly;, score=(train=1.000, test=0.936) total time=   7.2s\n",
      "[CV 9/10] END C=0.5, degree=2, gamma=1, kernel=poly;, score=(train=1.000, test=0.940) total time=   7.4s\n",
      "[CV 3/10] END C=1, degree=2, gamma=auto, kernel=poly;, score=(train=0.709, test=0.682) total time=  36.6s\n",
      "[CV 7/10] END C=1, degree=2, gamma=auto, kernel=poly;, score=(train=0.706, test=0.710) total time=  35.9s\n",
      "[CV 1/10] END C=1, degree=2, gamma=0.1, kernel=poly;, score=(train=1.000, test=0.952) total time=   7.3s\n",
      "[CV 3/10] END C=1, degree=2, gamma=0.1, kernel=poly;, score=(train=1.000, test=0.924) total time=   7.6s\n",
      "[CV 5/10] END C=1, degree=2, gamma=0.1, kernel=poly;, score=(train=1.000, test=0.936) total time=   8.7s\n",
      "[CV 7/10] END C=1, degree=2, gamma=0.1, kernel=poly;, score=(train=1.000, test=0.958) total time=   8.1s\n",
      "[CV 1/10] END C=1, degree=2, gamma=1, kernel=poly;, score=(train=1.000, test=0.952) total time=   8.2s\n",
      "[CV 6/10] END C=1, degree=2, gamma=1, kernel=poly;, score=(train=1.000, test=0.954) total time=   7.7s\n",
      "[CV 9/10] END C=1, degree=2, gamma=1, kernel=poly;, score=(train=1.000, test=0.940) total time=   8.0s\n",
      "[CV 3/10] END C=10, degree=2, gamma=auto, kernel=poly;, score=(train=0.916, test=0.890) total time=  16.7s\n",
      "[CV 7/10] END C=10, degree=2, gamma=auto, kernel=poly;, score=(train=0.914, test=0.922) total time=  16.1s\n",
      "[CV 1/10] END C=10, degree=2, gamma=0.1, kernel=poly;, score=(train=1.000, test=0.952) total time=   7.1s\n",
      "[CV 3/10] END C=10, degree=2, gamma=0.1, kernel=poly;, score=(train=1.000, test=0.924) total time=   7.3s\n",
      "[CV 7/10] END C=10, degree=2, gamma=0.1, kernel=poly;, score=(train=1.000, test=0.958) total time=   7.2s\n",
      "[CV 1/10] END C=10, degree=2, gamma=1, kernel=poly;, score=(train=1.000, test=0.952) total time=   7.4s\n",
      "[CV 5/10] END C=10, degree=2, gamma=1, kernel=poly;, score=(train=1.000, test=0.936) total time=   7.1s\n",
      "[CV 9/10] END C=10, degree=2, gamma=1, kernel=poly;, score=(train=1.000, test=0.940) total time=   7.2s\n",
      "[CV 3/10] END C=100, degree=2, gamma=auto, kernel=poly;, score=(train=0.981, test=0.928) total time=   8.3s\n",
      "[CV 7/10] END C=100, degree=2, gamma=auto, kernel=poly;, score=(train=0.981, test=0.948) total time=   8.2s\n",
      "[CV 1/10] END C=100, degree=2, gamma=0.1, kernel=poly;, score=(train=1.000, test=0.952) total time=   6.9s\n",
      "[CV 5/10] END C=100, degree=2, gamma=0.1, kernel=poly;, score=(train=1.000, test=0.936) total time=   7.0s\n",
      "[CV 9/10] END C=100, degree=2, gamma=0.1, kernel=poly;, score=(train=1.000, test=0.940) total time=   7.0s\n",
      "[CV 3/10] END C=100, degree=2, gamma=1, kernel=poly;, score=(train=1.000, test=0.924) total time=   7.3s\n",
      "[CV 7/10] END C=100, degree=2, gamma=1, kernel=poly;, score=(train=1.000, test=0.958) total time=   7.0s\n",
      "[CV 1/10] END C=1000, degree=2, gamma=auto, kernel=poly;, score=(train=1.000, test=0.950) total time=   7.6s\n",
      "[CV 6/10] END C=1000, degree=2, gamma=auto, kernel=poly;, score=(train=1.000, test=0.954) total time=   7.3s\n",
      "[CV 10/10] END C=1000, degree=2, gamma=auto, kernel=poly;, score=(train=1.000, test=0.944) total time=   7.4s\n",
      "[CV 4/10] END C=1000, degree=2, gamma=0.1, kernel=poly;, score=(train=1.000, test=0.950) total time=   8.2s\n",
      "[CV 8/10] END C=1000, degree=2, gamma=0.1, kernel=poly;, score=(train=1.000, test=0.950) total time=   7.6s\n",
      "[CV 2/10] END C=1000, degree=2, gamma=1, kernel=poly;, score=(train=1.000, test=0.940) total time=   8.5s\n",
      "[CV 6/10] END C=1000, degree=2, gamma=1, kernel=poly;, score=(train=1.000, test=0.954) total time=   7.9s\n",
      "[CV 10/10] END C=1000, degree=2, gamma=1, kernel=poly;, score=(train=1.000, test=0.946) total time=   7.5s\n"
     ]
    },
    {
     "data": {
      "text/plain": "SVC(C=0.1, degree=2, gamma=0.1, kernel='poly')"
     },
     "execution_count": 29,
     "metadata": {},
     "output_type": "execute_result"
    }
   ],
   "source": [
    "# best parameters from automatic parameters tuning\n",
    "svc_pol_clsf = SVC(**tuned_svcclsf_pol.best_params_)\n",
    "# svc_pol_clsf = SVC(C=0.05, degree=2, gamma=0.1, kernel='poly', random_state=28)\n",
    "\n",
    "svc_pol_clsf.fit(data_split.x_train, data_split.y_train)"
   ],
   "metadata": {
    "collapsed": false,
    "pycharm": {
     "name": "#%%\n"
    }
   }
  },
  {
   "cell_type": "markdown",
   "source": [
    "# Performance"
   ],
   "metadata": {
    "collapsed": false,
    "pycharm": {
     "name": "#%% md\n"
    }
   }
  },
  {
   "cell_type": "code",
   "execution_count": 30,
   "outputs": [],
   "source": [
    "svc_pol_train_pred = svc_pol_clsf.predict(data_split.x_train)\n",
    "svc_pol_test_pred = svc_pol_clsf.predict(data_split.x_test)\n",
    "\n",
    "svc_pol_train_eval = eva.Evaluation(y_true=data_split.y_train, y_pred=svc_pol_train_pred)\n",
    "svc_pol_test_eval = eva.Evaluation(y_true=data_split.y_test, y_pred=svc_pol_test_pred)"
   ],
   "metadata": {
    "collapsed": false,
    "pycharm": {
     "name": "#%%\n"
    }
   }
  },
  {
   "cell_type": "code",
   "execution_count": 31,
   "outputs": [
    {
     "name": "stdout",
     "output_type": "stream",
     "text": [
      "Training:\n",
      "-----Model Evaluations:-----\n",
      "Accuracy score: 0.9986\n",
      "Testing:\n",
      "-----Model Evaluations:-----\n",
      "Accuracy score: 0.9796\n"
     ]
    }
   ],
   "source": [
    "print(\"Training:\")\n",
    "svc_pol_train_eval.acc_eval()\n",
    "print(\"Testing:\")\n",
    "svc_pol_test_eval.acc_eval()"
   ],
   "metadata": {
    "collapsed": false,
    "pycharm": {
     "name": "#%%\n"
    }
   }
  },
  {
   "cell_type": "code",
   "execution_count": 32,
   "outputs": [],
   "source": [
    "# save the model and evaluations\n",
    "svc_pol_model = eva.EvaluatedModel(svc_pol_clsf, \"svcpolynomial\", train_eval=svc_pol_train_eval, test_eval=svc_pol_test_eval)\n",
    "svc_pol_model.save_evaluation()"
   ],
   "metadata": {
    "collapsed": false,
    "pycharm": {
     "name": "#%%\n"
    }
   }
  },
  {
   "cell_type": "code",
   "execution_count": 43,
   "outputs": [],
   "source": [
    "# load the previously saved model and evaluations\n",
    "# svc_pol_model = eva.EvaluatedModel.load_evaluation(\"svcpolynomial\")"
   ],
   "metadata": {
    "collapsed": false,
    "pycharm": {
     "name": "#%%\n"
    }
   }
  },
  {
   "cell_type": "markdown",
   "source": [
    "### Confusion Matrix"
   ],
   "metadata": {
    "collapsed": false,
    "pycharm": {
     "name": "#%% md\n"
    }
   }
  },
  {
   "cell_type": "code",
   "execution_count": 44,
   "outputs": [
    {
     "data": {
      "text/plain": "<Figure size 864x576 with 2 Axes>",
      "image/png": "[encoded data removed]"
     },
     "metadata": {},
     "output_type": "display_data"
    }
   ],
   "source": [
    "svc_pol_model.train_eval.conf_mat()"
   ],
   "metadata": {
    "collapsed": false,
    "pycharm": {
     "name": "#%%\n"
    }
   }
  },
  {
   "cell_type": "code",
   "execution_count": 45,
   "outputs": [
    {
     "data": {
      "text/plain": "<Figure size 864x576 with 2 Axes>",
      "image/png": "[encoded data removed]"
     },
     "metadata": {},
     "output_type": "display_data"
    }
   ],
   "source": [
    "svc_pol_model.test_eval.conf_mat()"
   ],
   "metadata": {
    "collapsed": false,
    "pycharm": {
     "name": "#%%\n"
    }
   }
  },
  {
   "cell_type": "markdown",
   "source": [],
   "metadata": {
    "collapsed": false,
    "pycharm": {
     "name": "#%% md\n"
    }
   }
  },
  {
   "cell_type": "markdown",
   "source": [
    "## SVM  using  RBF kernel"
   ],
   "metadata": {
    "collapsed": false,
    "pycharm": {
     "name": "#%% md\n"
    }
   }
  },
  {
   "cell_type": "code",
   "execution_count": 33,
   "outputs": [
    {
     "name": "stdout",
     "output_type": "stream",
     "text": [
      "Fitting 10 folds for each of 24 candidates, totalling 240 fits\n"
     ]
    },
    {
     "name": "stderr",
     "output_type": "stream",
     "text": [
      "2022-12-25 05:17:16.932 | INFO     | src.utilities.model_selection:model_selector:14 - --- 2226.142683982849 seconds ---\n",
      "2022-12-25 05:17:16.936 | INFO     | src.utilities.model_selection:model_selector:16 - Best Score: 0.926\n",
      "2022-12-25 05:17:16.937 | INFO     | src.utilities.model_selection:model_selector:17 - Best Params: \n"
     ]
    }
   ],
   "source": [
    "# automatic parameters tuning\n",
    "svcclsf_rbf=SVC(random_state=28)\n",
    "properties_rbf={\n",
    "    \"C\": [0.01,0.05,0.1,0.5,1,10,100,1000], # soft to hard margin\n",
    "    \"kernel\": [\"rbf\"],\n",
    "    \"gamma\": [\"auto\",0.1,1]\n",
    "}\n",
    "\n",
    "tuned_svcclsf_rbf = ms.model_selector(estimator=svcclsf_rbf,properties=properties_rbf,scoring=\"accuracy\",cv=10,verbose=5,jobs=4,\n",
    "                                       x_train=x_data_small,y_train=y_data_small)"
   ],
   "metadata": {
    "collapsed": false,
    "pycharm": {
     "name": "#%%\n"
    }
   }
  },
  {
   "cell_type": "code",
   "execution_count": 34,
   "outputs": [],
   "source": [
    "# save results\n",
    "ms.save_model(model=tuned_svcclsf_rbf, model_name=\"svc_rbf_tuning_results\")"
   ],
   "metadata": {
    "collapsed": false,
    "pycharm": {
     "name": "#%%\n"
    }
   }
  },
  {
   "cell_type": "code",
   "execution_count": 46,
   "outputs": [],
   "source": [
    "# to load previously saved results\n",
    "tuned_svcclsf_rbf = ms.load_model(\"svc_rbf_tuning_results\")"
   ],
   "metadata": {
    "collapsed": false,
    "pycharm": {
     "name": "#%%\n"
    }
   }
  },
  {
   "cell_type": "code",
   "execution_count": 35,
   "outputs": [
    {
     "name": "stderr",
     "output_type": "stream",
     "text": [
      "2022-12-25 05:17:16.995 | INFO     | __main__:<module>:1 - {'mean_fit_time': array([22.97807074, 21.41563652, 21.21330314, 19.43471458, 21.07495673,\n",
      "       20.28088899, 15.22312965, 19.07095606, 20.45171452,  7.52130048,\n",
      "       17.62828534, 18.18623579,  5.10928695, 20.04655459, 19.34110606,\n",
      "        2.75537915, 19.03385637, 20.92500544,  2.34285548, 19.40433259,\n",
      "       19.2951277 ,  2.33431203, 19.69782941, 19.05019956]), 'std_fit_time': array([2.12544422, 0.38025793, 0.22310511, 0.22712622, 0.56767011,\n",
      "       1.01493306, 0.42888582, 0.20642626, 0.60883238, 0.69350572,\n",
      "       0.20519733, 0.17520217, 0.0885765 , 1.23271209, 0.24085508,\n",
      "       0.28614044, 0.16126974, 1.30197849, 0.1959829 , 0.13340673,\n",
      "       0.10940556, 0.064532  , 0.95846518, 0.51598475]), 'mean_score_time': array([2.65840173, 2.35221   , 2.38294692, 2.38573515, 2.57707286,\n",
      "       2.48406615, 2.13474011, 2.16520967, 2.3194715 , 2.02292113,\n",
      "       2.07671671, 2.24118578, 1.34971945, 2.26536314, 2.19961097,\n",
      "       0.86130636, 2.08252072, 2.4890228 , 0.74991086, 1.96984954,\n",
      "       2.23470719, 0.74867768, 2.1655715 , 2.27990725]), 'std_score_time': array([0.20990514, 0.06962934, 0.09134272, 0.10221846, 0.39803198,\n",
      "       0.09559863, 0.06083969, 0.08603831, 0.1252474 , 0.69416301,\n",
      "       0.12315837, 0.10761849, 0.02498181, 0.1535495 , 0.07885887,\n",
      "       0.08303178, 0.10437628, 0.18677144, 0.01325994, 0.08161006,\n",
      "       0.05198393, 0.02010403, 0.2278513 , 0.08511147]), 'param_C': masked_array(data=[0.01, 0.01, 0.01, 0.05, 0.05, 0.05, 0.1, 0.1, 0.1, 0.5,\n",
      "                   0.5, 0.5, 1, 1, 1, 10, 10, 10, 100, 100, 100, 1000,\n",
      "                   1000, 1000],\n",
      "             mask=[False, False, False, False, False, False, False, False,\n",
      "                   False, False, False, False, False, False, False, False,\n",
      "                   False, False, False, False, False, False, False, False],\n",
      "       fill_value='?',\n",
      "            dtype=object), 'param_gamma': masked_array(data=['auto', 0.1, 1, 'auto', 0.1, 1, 'auto', 0.1, 1, 'auto',\n",
      "                   0.1, 1, 'auto', 0.1, 1, 'auto', 0.1, 1, 'auto', 0.1, 1,\n",
      "                   'auto', 0.1, 1],\n",
      "             mask=[False, False, False, False, False, False, False, False,\n",
      "                   False, False, False, False, False, False, False, False,\n",
      "                   False, False, False, False, False, False, False, False],\n",
      "       fill_value='?',\n",
      "            dtype=object), 'param_kernel': masked_array(data=['rbf', 'rbf', 'rbf', 'rbf', 'rbf', 'rbf', 'rbf', 'rbf',\n",
      "                   'rbf', 'rbf', 'rbf', 'rbf', 'rbf', 'rbf', 'rbf', 'rbf',\n",
      "                   'rbf', 'rbf', 'rbf', 'rbf', 'rbf', 'rbf', 'rbf', 'rbf'],\n",
      "             mask=[False, False, False, False, False, False, False, False,\n",
      "                   False, False, False, False, False, False, False, False,\n",
      "                   False, False, False, False, False, False, False, False],\n",
      "       fill_value='?',\n",
      "            dtype=object), 'params': [{'C': 0.01, 'gamma': 'auto', 'kernel': 'rbf'}, {'C': 0.01, 'gamma': 0.1, 'kernel': 'rbf'}, {'C': 0.01, 'gamma': 1, 'kernel': 'rbf'}, {'C': 0.05, 'gamma': 'auto', 'kernel': 'rbf'}, {'C': 0.05, 'gamma': 0.1, 'kernel': 'rbf'}, {'C': 0.05, 'gamma': 1, 'kernel': 'rbf'}, {'C': 0.1, 'gamma': 'auto', 'kernel': 'rbf'}, {'C': 0.1, 'gamma': 0.1, 'kernel': 'rbf'}, {'C': 0.1, 'gamma': 1, 'kernel': 'rbf'}, {'C': 0.5, 'gamma': 'auto', 'kernel': 'rbf'}, {'C': 0.5, 'gamma': 0.1, 'kernel': 'rbf'}, {'C': 0.5, 'gamma': 1, 'kernel': 'rbf'}, {'C': 1, 'gamma': 'auto', 'kernel': 'rbf'}, {'C': 1, 'gamma': 0.1, 'kernel': 'rbf'}, {'C': 1, 'gamma': 1, 'kernel': 'rbf'}, {'C': 10, 'gamma': 'auto', 'kernel': 'rbf'}, {'C': 10, 'gamma': 0.1, 'kernel': 'rbf'}, {'C': 10, 'gamma': 1, 'kernel': 'rbf'}, {'C': 100, 'gamma': 'auto', 'kernel': 'rbf'}, {'C': 100, 'gamma': 0.1, 'kernel': 'rbf'}, {'C': 100, 'gamma': 1, 'kernel': 'rbf'}, {'C': 1000, 'gamma': 'auto', 'kernel': 'rbf'}, {'C': 1000, 'gamma': 0.1, 'kernel': 'rbf'}, {'C': 1000, 'gamma': 1, 'kernel': 'rbf'}], 'split0_test_score': array([0.708, 0.446, 0.114, 0.76 , 0.452, 0.114, 0.832, 0.466, 0.114,\n",
      "       0.896, 0.66 , 0.114, 0.914, 0.858, 0.172, 0.938, 0.868, 0.188,\n",
      "       0.93 , 0.868, 0.188, 0.93 , 0.868, 0.188]), 'split1_test_score': array([0.706, 0.44 , 0.112, 0.76 , 0.46 , 0.112, 0.812, 0.476, 0.112,\n",
      "       0.894, 0.636, 0.112, 0.912, 0.834, 0.176, 0.926, 0.842, 0.182,\n",
      "       0.918, 0.842, 0.182, 0.916, 0.842, 0.182]), 'split2_test_score': array([0.7  , 0.436, 0.114, 0.738, 0.442, 0.114, 0.798, 0.45 , 0.114,\n",
      "       0.882, 0.602, 0.114, 0.896, 0.814, 0.18 , 0.912, 0.818, 0.198,\n",
      "       0.904, 0.818, 0.198, 0.906, 0.818, 0.198]), 'split3_test_score': array([0.732, 0.494, 0.114, 0.788, 0.498, 0.114, 0.84 , 0.504, 0.114,\n",
      "       0.892, 0.682, 0.114, 0.9  , 0.842, 0.186, 0.924, 0.846, 0.2  ,\n",
      "       0.926, 0.846, 0.2  , 0.93 , 0.846, 0.2  ]), 'split4_test_score': array([0.71 , 0.442, 0.112, 0.748, 0.452, 0.112, 0.802, 0.468, 0.112,\n",
      "       0.872, 0.638, 0.112, 0.91 , 0.846, 0.172, 0.922, 0.852, 0.186,\n",
      "       0.906, 0.852, 0.186, 0.906, 0.852, 0.186]), 'split5_test_score': array([0.668, 0.456, 0.104, 0.734, 0.468, 0.104, 0.822, 0.478, 0.104,\n",
      "       0.898, 0.652, 0.104, 0.91 , 0.848, 0.188, 0.924, 0.852, 0.2  ,\n",
      "       0.924, 0.852, 0.2  , 0.922, 0.852, 0.2  ]), 'split6_test_score': array([0.718, 0.45 , 0.112, 0.792, 0.456, 0.112, 0.834, 0.472, 0.112,\n",
      "       0.908, 0.646, 0.112, 0.91 , 0.834, 0.186, 0.934, 0.846, 0.194,\n",
      "       0.924, 0.846, 0.194, 0.924, 0.846, 0.194]), 'split7_test_score': array([0.7  , 0.46 , 0.114, 0.77 , 0.472, 0.114, 0.816, 0.486, 0.114,\n",
      "       0.892, 0.632, 0.114, 0.904, 0.84 , 0.19 , 0.926, 0.848, 0.204,\n",
      "       0.928, 0.848, 0.204, 0.932, 0.848, 0.204]), 'split8_test_score': array([0.664, 0.44 , 0.112, 0.738, 0.45 , 0.112, 0.802, 0.468, 0.112,\n",
      "       0.874, 0.634, 0.112, 0.89 , 0.838, 0.17 , 0.922, 0.842, 0.184,\n",
      "       0.922, 0.842, 0.184, 0.922, 0.842, 0.184]), 'split9_test_score': array([0.692, 0.462, 0.112, 0.73 , 0.47 , 0.112, 0.8  , 0.478, 0.112,\n",
      "       0.884, 0.634, 0.112, 0.904, 0.838, 0.17 , 0.928, 0.842, 0.19 ,\n",
      "       0.92 , 0.842, 0.19 , 0.92 , 0.842, 0.19 ]), 'mean_test_score': array([0.6998, 0.4526, 0.112 , 0.7558, 0.462 , 0.112 , 0.8158, 0.4746,\n",
      "       0.112 , 0.8892, 0.6416, 0.112 , 0.905 , 0.8392, 0.179 , 0.9256,\n",
      "       0.8456, 0.1926, 0.9202, 0.8456, 0.1926, 0.9208, 0.8456, 0.1926]), 'std_test_score': array([0.01982826, 0.0162    , 0.00282843, 0.02102284, 0.01509967,\n",
      "       0.00282843, 0.01476347, 0.01338805, 0.00282843, 0.01059056,\n",
      "       0.01979495, 0.00282843, 0.00733485, 0.01085173, 0.00754983,\n",
      "       0.00668132, 0.01179152, 0.00726911, 0.00831625, 0.01179152,\n",
      "       0.00726911, 0.00877268, 0.01179152, 0.00726911]), 'rank_test_score': array([12, 16, 21, 11, 15, 21, 10, 14, 21,  5, 13, 21,  4,  9, 20,  1,  6,\n",
      "       17,  3,  6, 17,  2,  6, 17], dtype=int32), 'split0_train_score': array([0.71088889, 0.80311111, 1.        , 0.76555556, 0.81244444,\n",
      "       1.        , 0.82422222, 0.82422222, 1.        , 0.89777778,\n",
      "       0.99577778, 1.        , 0.91577778, 1.        , 1.        ,\n",
      "       0.96222222, 1.        , 1.        , 0.99933333, 1.        ,\n",
      "       1.        , 1.        , 1.        , 1.        ]), 'split1_train_score': array([0.70711111, 0.79555556, 1.        , 0.76266667, 0.80377778,\n",
      "       1.        , 0.82244444, 0.81644444, 1.        , 0.89777778,\n",
      "       0.99577778, 1.        , 0.91733333, 1.        , 1.        ,\n",
      "       0.96133333, 1.        , 1.        , 0.99933333, 1.        ,\n",
      "       1.        , 1.        , 1.        , 1.        ]), 'split2_train_score': array([0.70711111, 0.79466667, 1.        , 0.76533333, 0.80355556,\n",
      "       1.        , 0.826     , 0.81688889, 1.        , 0.90066667,\n",
      "       0.99555556, 1.        , 0.91911111, 1.        , 1.        ,\n",
      "       0.96288889, 1.        , 1.        , 0.99933333, 1.        ,\n",
      "       1.        , 1.        , 1.        , 1.        ]), 'split3_train_score': array([0.70155556, 0.80688889, 1.        , 0.75844444, 0.81533333,\n",
      "       1.        , 0.81955556, 0.82911111, 1.        , 0.89955556,\n",
      "       0.996     , 1.        , 0.91911111, 1.        , 1.        ,\n",
      "       0.96333333, 1.        , 1.        , 0.99888889, 1.        ,\n",
      "       1.        , 1.        , 1.        , 1.        ]), 'split4_train_score': array([0.71      , 0.79088889, 1.        , 0.76777778, 0.79888889,\n",
      "       1.        , 0.828     , 0.81177778, 1.        , 0.90022222,\n",
      "       0.99533333, 1.        , 0.91866667, 1.        , 1.        ,\n",
      "       0.96422222, 1.        , 1.        , 0.99911111, 1.        ,\n",
      "       1.        , 1.        , 1.        , 1.        ]), 'split5_train_score': array([0.71222222, 0.78111111, 1.        , 0.76555556, 0.79133333,\n",
      "       1.        , 0.82177778, 0.80533333, 1.        , 0.89822222,\n",
      "       0.99622222, 1.        , 0.91755556, 1.        , 1.        ,\n",
      "       0.95977778, 1.        , 1.        , 0.99933333, 1.        ,\n",
      "       1.        , 1.        , 1.        , 1.        ]), 'split6_train_score': array([0.704     , 0.79355556, 1.        , 0.75844444, 0.80444444,\n",
      "       1.        , 0.82066667, 0.81644444, 1.        , 0.89644444,\n",
      "       0.99555556, 1.        , 0.91622222, 1.        , 1.        ,\n",
      "       0.962     , 1.        , 1.        , 0.99888889, 1.        ,\n",
      "       1.        , 1.        , 1.        , 1.        ]), 'split7_train_score': array([0.70244444, 0.79333333, 1.        , 0.75644444, 0.80422222,\n",
      "       1.        , 0.81755556, 0.81777778, 1.        , 0.89844444,\n",
      "       0.99666667, 1.        , 0.91955556, 1.        , 1.        ,\n",
      "       0.962     , 1.        , 1.        , 0.99933333, 1.        ,\n",
      "       1.        , 1.        , 1.        , 1.        ]), 'split8_train_score': array([0.714     , 0.79466667, 1.        , 0.76711111, 0.80222222,\n",
      "       1.        , 0.82577778, 0.81466667, 1.        , 0.90244444,\n",
      "       0.99577778, 1.        , 0.91755556, 1.        , 1.        ,\n",
      "       0.96288889, 1.        , 1.        , 0.99866667, 1.        ,\n",
      "       1.        , 1.        , 1.        , 1.        ]), 'split9_train_score': array([0.71044444, 0.80177778, 1.        , 0.76688889, 0.80955556,\n",
      "       1.        , 0.82755556, 0.82244444, 1.        , 0.90022222,\n",
      "       0.996     , 1.        , 0.91777778, 1.        , 1.        ,\n",
      "       0.96133333, 1.        , 1.        , 0.99888889, 1.        ,\n",
      "       1.        , 1.        , 1.        , 1.        ]), 'mean_train_score': array([0.70797778, 0.79555556, 1.        , 0.76342222, 0.80457778,\n",
      "       1.        , 0.82335556, 0.81751111, 1.        , 0.89917778,\n",
      "       0.99586667, 1.        , 0.91786667, 1.        , 1.        ,\n",
      "       0.9622    , 1.        , 1.        , 0.99911111, 1.        ,\n",
      "       1.        , 1.        , 1.        , 1.        ]), 'std_train_score': array([0.00402639, 0.00682045, 0.        , 0.00395181, 0.00646143,\n",
      "       0.        , 0.00333844, 0.0062923 , 0.        , 0.00167494,\n",
      "       0.00036107, 0.        , 0.00118925, 0.        , 0.        ,\n",
      "       0.00117358, 0.        , 0.        , 0.00024343, 0.        ,\n",
      "       0.        , 0.        , 0.        , 0.        ])}\n"
     ]
    }
   ],
   "source": [
    "logger.info(tuned_svcclsf_rbf.cv_results_)\n",
    "tuned_svcclsf_rbf_results = pd.DataFrame( tuned_svcclsf_rbf.cv_results_ )"
   ],
   "metadata": {
    "collapsed": false,
    "pycharm": {
     "name": "#%%\n"
    }
   }
  },
  {
   "cell_type": "code",
   "execution_count": 36,
   "outputs": [
    {
     "data": {
      "text/plain": "                                           params  mean_test_score  \\\n0   {'C': 0.01, 'gamma': 'auto', 'kernel': 'rbf'}           0.6998   \n1      {'C': 0.01, 'gamma': 0.1, 'kernel': 'rbf'}           0.4526   \n2        {'C': 0.01, 'gamma': 1, 'kernel': 'rbf'}           0.1120   \n3   {'C': 0.05, 'gamma': 'auto', 'kernel': 'rbf'}           0.7558   \n4      {'C': 0.05, 'gamma': 0.1, 'kernel': 'rbf'}           0.4620   \n5        {'C': 0.05, 'gamma': 1, 'kernel': 'rbf'}           0.1120   \n6    {'C': 0.1, 'gamma': 'auto', 'kernel': 'rbf'}           0.8158   \n7       {'C': 0.1, 'gamma': 0.1, 'kernel': 'rbf'}           0.4746   \n8         {'C': 0.1, 'gamma': 1, 'kernel': 'rbf'}           0.1120   \n9    {'C': 0.5, 'gamma': 'auto', 'kernel': 'rbf'}           0.8892   \n10      {'C': 0.5, 'gamma': 0.1, 'kernel': 'rbf'}           0.6416   \n11        {'C': 0.5, 'gamma': 1, 'kernel': 'rbf'}           0.1120   \n12     {'C': 1, 'gamma': 'auto', 'kernel': 'rbf'}           0.9050   \n13        {'C': 1, 'gamma': 0.1, 'kernel': 'rbf'}           0.8392   \n14          {'C': 1, 'gamma': 1, 'kernel': 'rbf'}           0.1790   \n15    {'C': 10, 'gamma': 'auto', 'kernel': 'rbf'}           0.9256   \n16       {'C': 10, 'gamma': 0.1, 'kernel': 'rbf'}           0.8456   \n17         {'C': 10, 'gamma': 1, 'kernel': 'rbf'}           0.1926   \n18   {'C': 100, 'gamma': 'auto', 'kernel': 'rbf'}           0.9202   \n19      {'C': 100, 'gamma': 0.1, 'kernel': 'rbf'}           0.8456   \n20        {'C': 100, 'gamma': 1, 'kernel': 'rbf'}           0.1926   \n21  {'C': 1000, 'gamma': 'auto', 'kernel': 'rbf'}           0.9208   \n22     {'C': 1000, 'gamma': 0.1, 'kernel': 'rbf'}           0.8456   \n23       {'C': 1000, 'gamma': 1, 'kernel': 'rbf'}           0.1926   \n\n    mean_train_score  \n0           0.707978  \n1           0.795556  \n2           1.000000  \n3           0.763422  \n4           0.804578  \n5           1.000000  \n6           0.823356  \n7           0.817511  \n8           1.000000  \n9           0.899178  \n10          0.995867  \n11          1.000000  \n12          0.917867  \n13          1.000000  \n14          1.000000  \n15          0.962200  \n16          1.000000  \n17          1.000000  \n18          0.999111  \n19          1.000000  \n20          1.000000  \n21          1.000000  \n22          1.000000  \n23          1.000000  ",
      "text/html": "<div>\n<style scoped>\n    .dataframe tbody tr th:only-of-type {\n        vertical-align: middle;\n    }\n\n    .dataframe tbody tr th {\n        vertical-align: top;\n    }\n\n    .dataframe thead th {\n        text-align: right;\n    }\n</style>\n<table border=\"1\" class=\"dataframe\">\n  <thead>\n    <tr style=\"text-align: right;\">\n      <th></th>\n      <th>params</th>\n      <th>mean_test_score</th>\n      <th>mean_train_score</th>\n    </tr>\n  </thead>\n  <tbody>\n    <tr>\n      <th>0</th>\n      <td>{'C': 0.01, 'gamma': 'auto', 'kernel': 'rbf'}</td>\n      <td>0.6998</td>\n      <td>0.707978</td>\n    </tr>\n    <tr>\n      <th>1</th>\n      <td>{'C': 0.01, 'gamma': 0.1, 'kernel': 'rbf'}</td>\n      <td>0.4526</td>\n      <td>0.795556</td>\n    </tr>\n    <tr>\n      <th>2</th>\n      <td>{'C': 0.01, 'gamma': 1, 'kernel': 'rbf'}</td>\n      <td>0.1120</td>\n      <td>1.000000</td>\n    </tr>\n    <tr>\n      <th>3</th>\n      <td>{'C': 0.05, 'gamma': 'auto', 'kernel': 'rbf'}</td>\n      <td>0.7558</td>\n      <td>0.763422</td>\n    </tr>\n    <tr>\n      <th>4</th>\n      <td>{'C': 0.05, 'gamma': 0.1, 'kernel': 'rbf'}</td>\n      <td>0.4620</td>\n      <td>0.804578</td>\n    </tr>\n    <tr>\n      <th>5</th>\n      <td>{'C': 0.05, 'gamma': 1, 'kernel': 'rbf'}</td>\n      <td>0.1120</td>\n      <td>1.000000</td>\n    </tr>\n    <tr>\n      <th>6</th>\n      <td>{'C': 0.1, 'gamma': 'auto', 'kernel': 'rbf'}</td>\n      <td>0.8158</td>\n      <td>0.823356</td>\n    </tr>\n    <tr>\n      <th>7</th>\n      <td>{'C': 0.1, 'gamma': 0.1, 'kernel': 'rbf'}</td>\n      <td>0.4746</td>\n      <td>0.817511</td>\n    </tr>\n    <tr>\n      <th>8</th>\n      <td>{'C': 0.1, 'gamma': 1, 'kernel': 'rbf'}</td>\n      <td>0.1120</td>\n      <td>1.000000</td>\n    </tr>\n    <tr>\n      <th>9</th>\n      <td>{'C': 0.5, 'gamma': 'auto', 'kernel': 'rbf'}</td>\n      <td>0.8892</td>\n      <td>0.899178</td>\n    </tr>\n    <tr>\n      <th>10</th>\n      <td>{'C': 0.5, 'gamma': 0.1, 'kernel': 'rbf'}</td>\n      <td>0.6416</td>\n      <td>0.995867</td>\n    </tr>\n    <tr>\n      <th>11</th>\n      <td>{'C': 0.5, 'gamma': 1, 'kernel': 'rbf'}</td>\n      <td>0.1120</td>\n      <td>1.000000</td>\n    </tr>\n    <tr>\n      <th>12</th>\n      <td>{'C': 1, 'gamma': 'auto', 'kernel': 'rbf'}</td>\n      <td>0.9050</td>\n      <td>0.917867</td>\n    </tr>\n    <tr>\n      <th>13</th>\n      <td>{'C': 1, 'gamma': 0.1, 'kernel': 'rbf'}</td>\n      <td>0.8392</td>\n      <td>1.000000</td>\n    </tr>\n    <tr>\n      <th>14</th>\n      <td>{'C': 1, 'gamma': 1, 'kernel': 'rbf'}</td>\n      <td>0.1790</td>\n      <td>1.000000</td>\n    </tr>\n    <tr>\n      <th>15</th>\n      <td>{'C': 10, 'gamma': 'auto', 'kernel': 'rbf'}</td>\n      <td>0.9256</td>\n      <td>0.962200</td>\n    </tr>\n    <tr>\n      <th>16</th>\n      <td>{'C': 10, 'gamma': 0.1, 'kernel': 'rbf'}</td>\n      <td>0.8456</td>\n      <td>1.000000</td>\n    </tr>\n    <tr>\n      <th>17</th>\n      <td>{'C': 10, 'gamma': 1, 'kernel': 'rbf'}</td>\n      <td>0.1926</td>\n      <td>1.000000</td>\n    </tr>\n    <tr>\n      <th>18</th>\n      <td>{'C': 100, 'gamma': 'auto', 'kernel': 'rbf'}</td>\n      <td>0.9202</td>\n      <td>0.999111</td>\n    </tr>\n    <tr>\n      <th>19</th>\n      <td>{'C': 100, 'gamma': 0.1, 'kernel': 'rbf'}</td>\n      <td>0.8456</td>\n      <td>1.000000</td>\n    </tr>\n    <tr>\n      <th>20</th>\n      <td>{'C': 100, 'gamma': 1, 'kernel': 'rbf'}</td>\n      <td>0.1926</td>\n      <td>1.000000</td>\n    </tr>\n    <tr>\n      <th>21</th>\n      <td>{'C': 1000, 'gamma': 'auto', 'kernel': 'rbf'}</td>\n      <td>0.9208</td>\n      <td>1.000000</td>\n    </tr>\n    <tr>\n      <th>22</th>\n      <td>{'C': 1000, 'gamma': 0.1, 'kernel': 'rbf'}</td>\n      <td>0.8456</td>\n      <td>1.000000</td>\n    </tr>\n    <tr>\n      <th>23</th>\n      <td>{'C': 1000, 'gamma': 1, 'kernel': 'rbf'}</td>\n      <td>0.1926</td>\n      <td>1.000000</td>\n    </tr>\n  </tbody>\n</table>\n</div>"
     },
     "execution_count": 36,
     "metadata": {},
     "output_type": "execute_result"
    }
   ],
   "source": [
    "tuned_svcclsf_rbf_results[[\"params\",\"mean_test_score\",\"mean_train_score\"]]"
   ],
   "metadata": {
    "collapsed": false,
    "pycharm": {
     "name": "#%%\n"
    }
   }
  },
  {
   "cell_type": "code",
   "execution_count": 37,
   "outputs": [
    {
     "data": {
      "text/plain": "<AxesSubplot:xlabel='param_C', ylabel='mean_test_score'>"
     },
     "execution_count": 37,
     "metadata": {},
     "output_type": "execute_result"
    },
    {
     "data": {
      "text/plain": "<Figure size 864x576 with 1 Axes>",
      "image/png": "[encoded data removed]"
     },
     "metadata": {},
     "output_type": "display_data"
    }
   ],
   "source": [
    "sns.set(rc={\"figure.figsize\":(12, 8)})\n",
    "sns.lineplot(data=tuned_svcclsf_rbf_results, x=\"param_C\", y=\"mean_test_score\")"
   ],
   "metadata": {
    "collapsed": false,
    "pycharm": {
     "name": "#%%\n"
    }
   }
  },
  {
   "cell_type": "code",
   "execution_count": 38,
   "outputs": [
    {
     "name": "stdout",
     "output_type": "stream",
     "text": [
      "SVC(C=10, gamma='auto', random_state=28)\n",
      "0.9256000000000002\n"
     ]
    }
   ],
   "source": [
    "print(tuned_svcclsf_rbf.best_estimator_)\n",
    "print(tuned_svcclsf_rbf.best_score_)"
   ],
   "metadata": {
    "collapsed": false,
    "pycharm": {
     "name": "#%%\n"
    }
   }
  },
  {
   "cell_type": "code",
   "execution_count": 39,
   "outputs": [
    {
     "name": "stdout",
     "output_type": "stream",
     "text": [
      "Train accuracy Score on original dataset: 0.9344\n"
     ]
    }
   ],
   "source": [
    "test_acc = accuracy_score(y_true = data_split.y_train,\n",
    "                    y_pred = tuned_svcclsf_rbf.predict(data_split.x_train))\n",
    "print(\"Train accuracy Score on original dataset: {}\".format(test_acc) )"
   ],
   "metadata": {
    "collapsed": false,
    "pycharm": {
     "name": "#%%\n"
    }
   }
  },
  {
   "cell_type": "code",
   "execution_count": 40,
   "outputs": [
    {
     "data": {
      "text/plain": "SVC(C=10, gamma='auto')"
     },
     "execution_count": 40,
     "metadata": {},
     "output_type": "execute_result"
    }
   ],
   "source": [
    "# best parameters from automatic parameters tuning\n",
    "svc_rbf_clsf = SVC(**tuned_svcclsf_rbf.best_params_)\n",
    "# svc_rbf_clsf = SVC(max_leaf_nodes=100, min_samples_leaf=75, n_estimators=200, random_state=28)\n",
    "\n",
    "svc_rbf_clsf.fit(data_split.x_train, data_split.y_train)"
   ],
   "metadata": {
    "collapsed": false,
    "pycharm": {
     "name": "#%%\n"
    }
   }
  },
  {
   "cell_type": "markdown",
   "source": [
    "# Performance"
   ],
   "metadata": {
    "collapsed": false,
    "pycharm": {
     "name": "#%% md\n"
    }
   }
  },
  {
   "cell_type": "code",
   "execution_count": 41,
   "outputs": [
    {
     "name": "stdout",
     "output_type": "stream",
     "text": [
      "[CV 1/10] END C=0.01, gamma=auto, kernel=rbf;, score=(train=0.711, test=0.708) total time=  28.4s\n",
      "[CV 7/10] END C=0.01, gamma=auto, kernel=rbf;, score=(train=0.704, test=0.718) total time=  24.1s\n",
      "[CV 10/10] END C=0.01, gamma=auto, kernel=rbf;, score=(train=0.710, test=0.692) total time=  23.1s\n",
      "[CV 4/10] END C=0.01, gamma=0.1, kernel=rbf;, score=(train=0.807, test=0.494) total time=  23.8s\n",
      "[CV 8/10] END C=0.01, gamma=0.1, kernel=rbf;, score=(train=0.793, test=0.460) total time=  24.1s\n",
      "[CV 2/10] END C=0.01, gamma=1, kernel=rbf;, score=(train=1.000, test=0.112) total time=  23.3s\n",
      "[CV 6/10] END C=0.01, gamma=1, kernel=rbf;, score=(train=1.000, test=0.104) total time=  24.1s\n",
      "[CV 10/10] END C=0.01, gamma=1, kernel=rbf;, score=(train=1.000, test=0.112) total time=  23.4s\n",
      "[CV 6/10] END C=0.05, gamma=auto, kernel=rbf;, score=(train=0.766, test=0.734) total time=  21.8s\n",
      "[CV 10/10] END C=0.05, gamma=auto, kernel=rbf;, score=(train=0.767, test=0.730) total time=  21.9s\n",
      "[CV 4/10] END C=0.05, gamma=0.1, kernel=rbf;, score=(train=0.815, test=0.498) total time=  22.8s\n",
      "[CV 8/10] END C=0.05, gamma=0.1, kernel=rbf;, score=(train=0.804, test=0.472) total time=  24.1s\n",
      "[CV 2/10] END C=0.05, gamma=1, kernel=rbf;, score=(train=1.000, test=0.112) total time=  24.7s\n",
      "[CV 6/10] END C=0.05, gamma=1, kernel=rbf;, score=(train=1.000, test=0.104) total time=  22.3s\n",
      "[CV 10/10] END C=0.05, gamma=1, kernel=rbf;, score=(train=1.000, test=0.112) total time=  22.2s\n",
      "[CV 4/10] END C=0.1, gamma=auto, kernel=rbf;, score=(train=0.820, test=0.840) total time=  16.9s\n",
      "[CV 8/10] END C=0.1, gamma=auto, kernel=rbf;, score=(train=0.818, test=0.816) total time=  17.7s\n",
      "[CV 2/10] END C=0.1, gamma=0.1, kernel=rbf;, score=(train=0.816, test=0.476) total time=  21.4s\n",
      "[CV 6/10] END C=0.1, gamma=0.1, kernel=rbf;, score=(train=0.805, test=0.478) total time=  21.2s\n",
      "[CV 10/10] END C=0.1, gamma=0.1, kernel=rbf;, score=(train=0.822, test=0.478) total time=  21.2s\n",
      "[CV 3/10] END C=0.1, gamma=1, kernel=rbf;, score=(train=1.000, test=0.114) total time=  23.5s\n",
      "[CV 7/10] END C=0.1, gamma=1, kernel=rbf;, score=(train=1.000, test=0.112) total time=  22.0s\n",
      "[CV 1/10] END C=0.5, gamma=auto, kernel=rbf;, score=(train=0.898, test=0.896) total time=  10.6s\n",
      "[CV 3/10] END C=0.5, gamma=auto, kernel=rbf;, score=(train=0.901, test=0.882) total time=   9.0s\n",
      "[CV 7/10] END C=0.5, gamma=auto, kernel=rbf;, score=(train=0.896, test=0.908) total time=   8.5s\n",
      "[CV 1/10] END C=0.5, gamma=0.1, kernel=rbf;, score=(train=0.996, test=0.660) total time=  19.5s\n",
      "[CV 5/10] END C=0.5, gamma=0.1, kernel=rbf;, score=(train=0.995, test=0.638) total time=  19.4s\n",
      "[CV 9/10] END C=0.5, gamma=0.1, kernel=rbf;, score=(train=0.996, test=0.634) total time=  19.7s\n",
      "[CV 3/10] END C=0.5, gamma=1, kernel=rbf;, score=(train=1.000, test=0.114) total time=  20.2s\n",
      "[CV 7/10] END C=0.5, gamma=1, kernel=rbf;, score=(train=1.000, test=0.112) total time=  20.2s\n",
      "[CV 1/10] END C=1, gamma=auto, kernel=rbf;, score=(train=0.916, test=0.914) total time=   6.6s\n",
      "[CV 5/10] END C=1, gamma=auto, kernel=rbf;, score=(train=0.919, test=0.910) total time=   6.4s\n",
      "[CV 9/10] END C=1, gamma=auto, kernel=rbf;, score=(train=0.918, test=0.890) total time=   6.4s\n",
      "[CV 3/10] END C=1, gamma=0.1, kernel=rbf;, score=(train=1.000, test=0.814) total time=  21.3s\n",
      "[CV 7/10] END C=1, gamma=0.1, kernel=rbf;, score=(train=1.000, test=0.834) total time=  24.0s\n",
      "[CV 1/10] END C=1, gamma=1, kernel=rbf;, score=(train=1.000, test=0.172) total time=  21.6s\n",
      "[CV 5/10] END C=1, gamma=1, kernel=rbf;, score=(train=1.000, test=0.172) total time=  21.4s\n",
      "[CV 9/10] END C=1, gamma=1, kernel=rbf;, score=(train=1.000, test=0.170) total time=  21.5s\n",
      "[CV 3/10] END C=10, gamma=auto, kernel=rbf;, score=(train=0.963, test=0.912) total time=   3.3s\n",
      "[CV 7/10] END C=10, gamma=auto, kernel=rbf;, score=(train=0.962, test=0.934) total time=   3.4s\n",
      "[CV 1/10] END C=10, gamma=0.1, kernel=rbf;, score=(train=1.000, test=0.868) total time=  21.0s\n",
      "[CV 5/10] END C=10, gamma=0.1, kernel=rbf;, score=(train=1.000, test=0.852) total time=  20.9s\n",
      "[CV 9/10] END C=10, gamma=0.1, kernel=rbf;, score=(train=1.000, test=0.842) total time=  21.0s\n",
      "[CV 3/10] END C=10, gamma=1, kernel=rbf;, score=(train=1.000, test=0.198) total time=  22.4s\n",
      "[CV 7/10] END C=10, gamma=1, kernel=rbf;, score=(train=1.000, test=0.194) total time=  25.6s\n",
      "[CV 1/10] END C=100, gamma=auto, kernel=rbf;, score=(train=0.999, test=0.930) total time=   3.1s\n",
      "[CV 5/10] END C=100, gamma=auto, kernel=rbf;, score=(train=0.999, test=0.906) total time=   2.9s\n",
      "[CV 9/10] END C=100, gamma=auto, kernel=rbf;, score=(train=0.999, test=0.922) total time=   3.0s\n",
      "[CV 3/10] END C=100, gamma=0.1, kernel=rbf;, score=(train=1.000, test=0.818) total time=  21.3s\n",
      "[CV 7/10] END C=100, gamma=0.1, kernel=rbf;, score=(train=1.000, test=0.846) total time=  21.5s\n",
      "[CV 1/10] END C=100, gamma=1, kernel=rbf;, score=(train=1.000, test=0.188) total time=  21.7s\n",
      "[CV 5/10] END C=100, gamma=1, kernel=rbf;, score=(train=1.000, test=0.186) total time=  21.6s\n",
      "[CV 9/10] END C=100, gamma=1, kernel=rbf;, score=(train=1.000, test=0.184) total time=  21.6s\n",
      "[CV 3/10] END C=1000, gamma=auto, kernel=rbf;, score=(train=1.000, test=0.906) total time=   3.0s\n",
      "[CV 7/10] END C=1000, gamma=auto, kernel=rbf;, score=(train=1.000, test=0.924) total time=   3.1s\n",
      "[CV 1/10] END C=1000, gamma=0.1, kernel=rbf;, score=(train=1.000, test=0.868) total time=  20.7s\n",
      "[CV 5/10] END C=1000, gamma=0.1, kernel=rbf;, score=(train=1.000, test=0.852) total time=  20.8s\n",
      "[CV 9/10] END C=1000, gamma=0.1, kernel=rbf;, score=(train=1.000, test=0.842) total time=  23.2s\n",
      "[CV 3/10] END C=1000, gamma=1, kernel=rbf;, score=(train=1.000, test=0.198) total time=  20.7s\n",
      "[CV 7/10] END C=1000, gamma=1, kernel=rbf;, score=(train=1.000, test=0.194) total time=  21.0s\n",
      "[CV 2/10] END C=0.01, gamma=auto, kernel=rbf;, score=(train=0.707, test=0.706) total time=  28.4s\n",
      "[CV 8/10] END C=0.01, gamma=auto, kernel=rbf;, score=(train=0.702, test=0.700) total time=  24.0s\n",
      "[CV 2/10] END C=0.01, gamma=0.1, kernel=rbf;, score=(train=0.796, test=0.440) total time=  23.2s\n",
      "[CV 5/10] END C=0.01, gamma=0.1, kernel=rbf;, score=(train=0.791, test=0.442) total time=  23.7s\n",
      "[CV 10/10] END C=0.01, gamma=0.1, kernel=rbf;, score=(train=0.802, test=0.462) total time=  24.1s\n",
      "[CV 4/10] END C=0.01, gamma=1, kernel=rbf;, score=(train=1.000, test=0.114) total time=  23.3s\n",
      "[CV 8/10] END C=0.01, gamma=1, kernel=rbf;, score=(train=1.000, test=0.114) total time=  24.0s\n",
      "[CV 2/10] END C=0.05, gamma=auto, kernel=rbf;, score=(train=0.763, test=0.760) total time=  22.1s\n",
      "[CV 4/10] END C=0.05, gamma=auto, kernel=rbf;, score=(train=0.758, test=0.788) total time=  21.7s\n",
      "[CV 8/10] END C=0.05, gamma=auto, kernel=rbf;, score=(train=0.756, test=0.770) total time=  21.8s\n",
      "[CV 2/10] END C=0.05, gamma=0.1, kernel=rbf;, score=(train=0.804, test=0.460) total time=  23.0s\n",
      "[CV 6/10] END C=0.05, gamma=0.1, kernel=rbf;, score=(train=0.791, test=0.468) total time=  24.0s\n",
      "[CV 10/10] END C=0.05, gamma=0.1, kernel=rbf;, score=(train=0.810, test=0.470) total time=  24.5s\n",
      "[CV 4/10] END C=0.05, gamma=1, kernel=rbf;, score=(train=1.000, test=0.114) total time=  22.3s\n",
      "[CV 8/10] END C=0.05, gamma=1, kernel=rbf;, score=(train=1.000, test=0.114) total time=  22.3s\n",
      "[CV 2/10] END C=0.1, gamma=auto, kernel=rbf;, score=(train=0.822, test=0.812) total time=  16.9s\n",
      "[CV 7/10] END C=0.1, gamma=auto, kernel=rbf;, score=(train=0.821, test=0.834) total time=  17.7s\n",
      "[CV 1/10] END C=0.1, gamma=0.1, kernel=rbf;, score=(train=0.824, test=0.466) total time=  21.4s\n",
      "[CV 5/10] END C=0.1, gamma=0.1, kernel=rbf;, score=(train=0.812, test=0.468) total time=  21.1s\n",
      "[CV 9/10] END C=0.1, gamma=0.1, kernel=rbf;, score=(train=0.815, test=0.468) total time=  21.3s\n",
      "[CV 4/10] END C=0.1, gamma=1, kernel=rbf;, score=(train=1.000, test=0.114) total time=  23.6s\n",
      "[CV 8/10] END C=0.1, gamma=1, kernel=rbf;, score=(train=1.000, test=0.114) total time=  22.0s\n",
      "[CV 2/10] END C=0.5, gamma=auto, kernel=rbf;, score=(train=0.898, test=0.894) total time=  10.6s\n",
      "[CV 4/10] END C=0.5, gamma=auto, kernel=rbf;, score=(train=0.900, test=0.892) total time=   9.1s\n",
      "[CV 8/10] END C=0.5, gamma=auto, kernel=rbf;, score=(train=0.898, test=0.892) total time=   8.4s\n",
      "[CV 2/10] END C=0.5, gamma=0.1, kernel=rbf;, score=(train=0.996, test=0.636) total time=  19.5s\n",
      "[CV 6/10] END C=0.5, gamma=0.1, kernel=rbf;, score=(train=0.996, test=0.652) total time=  19.6s\n",
      "[CV 10/10] END C=0.5, gamma=0.1, kernel=rbf;, score=(train=0.996, test=0.634) total time=  19.9s\n",
      "[CV 4/10] END C=0.5, gamma=1, kernel=rbf;, score=(train=1.000, test=0.114) total time=  20.3s\n",
      "[CV 8/10] END C=0.5, gamma=1, kernel=rbf;, score=(train=1.000, test=0.114) total time=  20.2s\n",
      "[CV 2/10] END C=1, gamma=auto, kernel=rbf;, score=(train=0.917, test=0.912) total time=   6.5s\n",
      "[CV 6/10] END C=1, gamma=auto, kernel=rbf;, score=(train=0.918, test=0.910) total time=   6.4s\n",
      "[CV 10/10] END C=1, gamma=auto, kernel=rbf;, score=(train=0.918, test=0.904) total time=   6.4s\n",
      "[CV 4/10] END C=1, gamma=0.1, kernel=rbf;, score=(train=1.000, test=0.842) total time=  21.2s\n",
      "[CV 8/10] END C=1, gamma=0.1, kernel=rbf;, score=(train=1.000, test=0.840) total time=  24.2s\n",
      "[CV 2/10] END C=1, gamma=1, kernel=rbf;, score=(train=1.000, test=0.176) total time=  21.5s\n",
      "[CV 6/10] END C=1, gamma=1, kernel=rbf;, score=(train=1.000, test=0.188) total time=  21.4s\n",
      "[CV 10/10] END C=1, gamma=1, kernel=rbf;, score=(train=1.000, test=0.170) total time=  21.5s\n",
      "[CV 4/10] END C=10, gamma=auto, kernel=rbf;, score=(train=0.963, test=0.924) total time=   3.3s\n",
      "[CV 8/10] END C=10, gamma=auto, kernel=rbf;, score=(train=0.962, test=0.926) total time=   3.3s\n",
      "[CV 2/10] END C=10, gamma=0.1, kernel=rbf;, score=(train=1.000, test=0.842) total time=  21.1s\n",
      "[CV 6/10] END C=10, gamma=0.1, kernel=rbf;, score=(train=1.000, test=0.852) total time=  21.1s\n",
      "[CV 10/10] END C=10, gamma=0.1, kernel=rbf;, score=(train=1.000, test=0.842) total time=  21.1s\n",
      "[CV 4/10] END C=10, gamma=1, kernel=rbf;, score=(train=1.000, test=0.200) total time=  23.1s\n",
      "[CV 8/10] END C=10, gamma=1, kernel=rbf;, score=(train=1.000, test=0.204) total time=  25.6s\n",
      "[CV 2/10] END C=100, gamma=auto, kernel=rbf;, score=(train=0.999, test=0.918) total time=   3.0s\n",
      "[CV 6/10] END C=100, gamma=auto, kernel=rbf;, score=(train=0.999, test=0.924) total time=   2.9s\n",
      "[CV 10/10] END C=100, gamma=auto, kernel=rbf;, score=(train=0.999, test=0.920) total time=   2.9s\n",
      "[CV 4/10] END C=100, gamma=0.1, kernel=rbf;, score=(train=1.000, test=0.846) total time=  21.2s\n",
      "[CV 8/10] END C=100, gamma=0.1, kernel=rbf;, score=(train=1.000, test=0.848) total time=  21.4s\n",
      "[CV 2/10] END C=100, gamma=1, kernel=rbf;, score=(train=1.000, test=0.182) total time=  21.6s\n",
      "[CV 6/10] END C=100, gamma=1, kernel=rbf;, score=(train=1.000, test=0.200) total time=  21.4s\n",
      "[CV 10/10] END C=100, gamma=1, kernel=rbf;, score=(train=1.000, test=0.190) total time=  21.5s\n",
      "[CV 4/10] END C=1000, gamma=auto, kernel=rbf;, score=(train=1.000, test=0.930) total time=   3.0s\n",
      "[CV 8/10] END C=1000, gamma=auto, kernel=rbf;, score=(train=1.000, test=0.932) total time=   3.0s\n",
      "[CV 2/10] END C=1000, gamma=0.1, kernel=rbf;, score=(train=1.000, test=0.842) total time=  21.0s\n",
      "[CV 6/10] END C=1000, gamma=0.1, kernel=rbf;, score=(train=1.000, test=0.852) total time=  21.5s\n",
      "[CV 10/10] END C=1000, gamma=0.1, kernel=rbf;, score=(train=1.000, test=0.842) total time=  23.1s\n",
      "[CV 4/10] END C=1000, gamma=1, kernel=rbf;, score=(train=1.000, test=0.200) total time=  21.1s\n",
      "[CV 8/10] END C=1000, gamma=1, kernel=rbf;, score=(train=1.000, test=0.204) total time=  21.1s\n",
      "[CV 3/10] END C=0.01, gamma=auto, kernel=rbf;, score=(train=0.707, test=0.700) total time=  28.6s\n",
      "[CV 6/10] END C=0.01, gamma=auto, kernel=rbf;, score=(train=0.712, test=0.668) total time=  24.1s\n",
      "[CV 9/10] END C=0.01, gamma=auto, kernel=rbf;, score=(train=0.714, test=0.664) total time=  23.2s\n",
      "[CV 3/10] END C=0.01, gamma=0.1, kernel=rbf;, score=(train=0.795, test=0.436) total time=  23.7s\n",
      "[CV 7/10] END C=0.01, gamma=0.1, kernel=rbf;, score=(train=0.794, test=0.450) total time=  24.1s\n",
      "[CV 1/10] END C=0.01, gamma=1, kernel=rbf;, score=(train=1.000, test=0.114) total time=  23.3s\n",
      "[CV 5/10] END C=0.01, gamma=1, kernel=rbf;, score=(train=1.000, test=0.112) total time=  23.9s\n",
      "[CV 9/10] END C=0.01, gamma=1, kernel=rbf;, score=(train=1.000, test=0.112) total time=  23.5s\n",
      "[CV 5/10] END C=0.05, gamma=auto, kernel=rbf;, score=(train=0.768, test=0.748) total time=  21.8s\n",
      "[CV 9/10] END C=0.05, gamma=auto, kernel=rbf;, score=(train=0.767, test=0.738) total time=  21.8s\n",
      "[CV 3/10] END C=0.05, gamma=0.1, kernel=rbf;, score=(train=0.804, test=0.442) total time=  22.9s\n",
      "[CV 7/10] END C=0.05, gamma=0.1, kernel=rbf;, score=(train=0.804, test=0.456) total time=  24.0s\n",
      "[CV 1/10] END C=0.05, gamma=1, kernel=rbf;, score=(train=1.000, test=0.114) total time=  24.7s\n",
      "[CV 5/10] END C=0.05, gamma=1, kernel=rbf;, score=(train=1.000, test=0.112) total time=  22.3s\n",
      "[CV 9/10] END C=0.05, gamma=1, kernel=rbf;, score=(train=1.000, test=0.112) total time=  22.2s\n",
      "[CV 3/10] END C=0.1, gamma=auto, kernel=rbf;, score=(train=0.826, test=0.798) total time=  16.8s\n",
      "[CV 6/10] END C=0.1, gamma=auto, kernel=rbf;, score=(train=0.822, test=0.822) total time=  17.7s\n",
      "[CV 10/10] END C=0.1, gamma=auto, kernel=rbf;, score=(train=0.828, test=0.800) total time=  17.5s\n",
      "[CV 4/10] END C=0.1, gamma=0.1, kernel=rbf;, score=(train=0.829, test=0.504) total time=  20.9s\n",
      "[CV 8/10] END C=0.1, gamma=0.1, kernel=rbf;, score=(train=0.818, test=0.486) total time=  21.5s\n",
      "[CV 2/10] END C=0.1, gamma=1, kernel=rbf;, score=(train=1.000, test=0.112) total time=  23.4s\n",
      "[CV 6/10] END C=0.1, gamma=1, kernel=rbf;, score=(train=1.000, test=0.104) total time=  22.1s\n",
      "[CV 10/10] END C=0.1, gamma=1, kernel=rbf;, score=(train=1.000, test=0.112) total time=  22.8s\n",
      "[CV 6/10] END C=0.5, gamma=auto, kernel=rbf;, score=(train=0.898, test=0.898) total time=  10.9s\n",
      "[CV 10/10] END C=0.5, gamma=auto, kernel=rbf;, score=(train=0.900, test=0.884) total time=   8.9s\n",
      "[CV 4/10] END C=0.5, gamma=0.1, kernel=rbf;, score=(train=0.996, test=0.682) total time=  19.8s\n",
      "[CV 8/10] END C=0.5, gamma=0.1, kernel=rbf;, score=(train=0.997, test=0.632) total time=  19.9s\n",
      "[CV 2/10] END C=0.5, gamma=1, kernel=rbf;, score=(train=1.000, test=0.112) total time=  20.8s\n",
      "[CV 6/10] END C=0.5, gamma=1, kernel=rbf;, score=(train=1.000, test=0.104) total time=  20.5s\n",
      "[CV 10/10] END C=0.5, gamma=1, kernel=rbf;, score=(train=1.000, test=0.112) total time=  20.3s\n",
      "[CV 4/10] END C=1, gamma=auto, kernel=rbf;, score=(train=0.919, test=0.900) total time=   6.6s\n",
      "[CV 8/10] END C=1, gamma=auto, kernel=rbf;, score=(train=0.920, test=0.904) total time=   6.5s\n",
      "[CV 2/10] END C=1, gamma=0.1, kernel=rbf;, score=(train=1.000, test=0.834) total time=  21.3s\n",
      "[CV 6/10] END C=1, gamma=0.1, kernel=rbf;, score=(train=1.000, test=0.848) total time=  23.7s\n",
      "[CV 10/10] END C=1, gamma=0.1, kernel=rbf;, score=(train=1.000, test=0.838) total time=  21.2s\n",
      "[CV 3/10] END C=1, gamma=1, kernel=rbf;, score=(train=1.000, test=0.180) total time=  21.3s\n",
      "[CV 7/10] END C=1, gamma=1, kernel=rbf;, score=(train=1.000, test=0.186) total time=  21.9s\n",
      "[CV 1/10] END C=10, gamma=auto, kernel=rbf;, score=(train=0.962, test=0.938) total time=   4.2s\n",
      "[CV 5/10] END C=10, gamma=auto, kernel=rbf;, score=(train=0.964, test=0.922) total time=   3.4s\n",
      "[CV 9/10] END C=10, gamma=auto, kernel=rbf;, score=(train=0.963, test=0.922) total time=   3.9s\n",
      "[CV 3/10] END C=10, gamma=0.1, kernel=rbf;, score=(train=1.000, test=0.818) total time=  21.3s\n",
      "[CV 7/10] END C=10, gamma=0.1, kernel=rbf;, score=(train=1.000, test=0.846) total time=  21.2s\n",
      "[CV 1/10] END C=10, gamma=1, kernel=rbf;, score=(train=1.000, test=0.188) total time=  21.5s\n",
      "[CV 5/10] END C=10, gamma=1, kernel=rbf;, score=(train=1.000, test=0.186) total time=  23.1s\n",
      "[CV 9/10] END C=10, gamma=1, kernel=rbf;, score=(train=1.000, test=0.184) total time=  24.2s\n",
      "[CV 3/10] END C=100, gamma=auto, kernel=rbf;, score=(train=0.999, test=0.904) total time=   3.1s\n",
      "[CV 7/10] END C=100, gamma=auto, kernel=rbf;, score=(train=0.999, test=0.924) total time=   3.5s\n",
      "[CV 1/10] END C=100, gamma=0.1, kernel=rbf;, score=(train=1.000, test=0.868) total time=  21.3s\n",
      "[CV 5/10] END C=100, gamma=0.1, kernel=rbf;, score=(train=1.000, test=0.852) total time=  21.4s\n",
      "[CV 9/10] END C=100, gamma=0.1, kernel=rbf;, score=(train=1.000, test=0.842) total time=  21.5s\n",
      "[CV 3/10] END C=100, gamma=1, kernel=rbf;, score=(train=1.000, test=0.198) total time=  21.4s\n",
      "[CV 7/10] END C=100, gamma=1, kernel=rbf;, score=(train=1.000, test=0.194) total time=  21.5s\n",
      "[CV 1/10] END C=1000, gamma=auto, kernel=rbf;, score=(train=1.000, test=0.930) total time=   3.2s\n",
      "[CV 5/10] END C=1000, gamma=auto, kernel=rbf;, score=(train=1.000, test=0.906) total time=   3.1s\n",
      "[CV 9/10] END C=1000, gamma=auto, kernel=rbf;, score=(train=1.000, test=0.922) total time=   3.2s\n",
      "[CV 3/10] END C=1000, gamma=0.1, kernel=rbf;, score=(train=1.000, test=0.818) total time=  21.4s\n",
      "[CV 7/10] END C=1000, gamma=0.1, kernel=rbf;, score=(train=1.000, test=0.846) total time=  22.7s\n",
      "[CV 1/10] END C=1000, gamma=1, kernel=rbf;, score=(train=1.000, test=0.188) total time=  22.3s\n",
      "[CV 5/10] END C=1000, gamma=1, kernel=rbf;, score=(train=1.000, test=0.186) total time=  21.2s\n",
      "[CV 9/10] END C=1000, gamma=1, kernel=rbf;, score=(train=1.000, test=0.184) total time=  21.3s\n",
      "[CV 4/10] END C=0.01, gamma=auto, kernel=rbf;, score=(train=0.702, test=0.732) total time=  28.4s\n",
      "[CV 5/10] END C=0.01, gamma=auto, kernel=rbf;, score=(train=0.710, test=0.710) total time=  24.1s\n",
      "[CV 1/10] END C=0.01, gamma=0.1, kernel=rbf;, score=(train=0.803, test=0.446) total time=  23.3s\n",
      "[CV 6/10] END C=0.01, gamma=0.1, kernel=rbf;, score=(train=0.781, test=0.456) total time=  23.5s\n",
      "[CV 9/10] END C=0.01, gamma=0.1, kernel=rbf;, score=(train=0.795, test=0.440) total time=  24.1s\n",
      "[CV 3/10] END C=0.01, gamma=1, kernel=rbf;, score=(train=1.000, test=0.114) total time=  23.4s\n",
      "[CV 7/10] END C=0.01, gamma=1, kernel=rbf;, score=(train=1.000, test=0.112) total time=  23.8s\n",
      "[CV 1/10] END C=0.05, gamma=auto, kernel=rbf;, score=(train=0.766, test=0.760) total time=  22.1s\n",
      "[CV 3/10] END C=0.05, gamma=auto, kernel=rbf;, score=(train=0.765, test=0.738) total time=  21.4s\n",
      "[CV 7/10] END C=0.05, gamma=auto, kernel=rbf;, score=(train=0.758, test=0.792) total time=  21.8s\n",
      "[CV 1/10] END C=0.05, gamma=0.1, kernel=rbf;, score=(train=0.812, test=0.452) total time=  23.0s\n",
      "[CV 5/10] END C=0.05, gamma=0.1, kernel=rbf;, score=(train=0.799, test=0.452) total time=  23.7s\n",
      "[CV 9/10] END C=0.05, gamma=0.1, kernel=rbf;, score=(train=0.802, test=0.450) total time=  24.5s\n",
      "[CV 3/10] END C=0.05, gamma=1, kernel=rbf;, score=(train=1.000, test=0.114) total time=  22.0s\n",
      "[CV 7/10] END C=0.05, gamma=1, kernel=rbf;, score=(train=1.000, test=0.112) total time=  22.5s\n",
      "[CV 1/10] END C=0.1, gamma=auto, kernel=rbf;, score=(train=0.824, test=0.832) total time=  16.9s\n",
      "[CV 5/10] END C=0.1, gamma=auto, kernel=rbf;, score=(train=0.828, test=0.802) total time=  17.8s\n",
      "[CV 9/10] END C=0.1, gamma=auto, kernel=rbf;, score=(train=0.826, test=0.802) total time=  17.7s\n",
      "[CV 3/10] END C=0.1, gamma=0.1, kernel=rbf;, score=(train=0.817, test=0.450) total time=  20.9s\n",
      "[CV 7/10] END C=0.1, gamma=0.1, kernel=rbf;, score=(train=0.816, test=0.472) total time=  21.6s\n",
      "[CV 1/10] END C=0.1, gamma=1, kernel=rbf;, score=(train=1.000, test=0.114) total time=  23.4s\n",
      "[CV 5/10] END C=0.1, gamma=1, kernel=rbf;, score=(train=1.000, test=0.112) total time=  22.2s\n",
      "[CV 9/10] END C=0.1, gamma=1, kernel=rbf;, score=(train=1.000, test=0.112) total time=  22.8s\n",
      "[CV 5/10] END C=0.5, gamma=auto, kernel=rbf;, score=(train=0.900, test=0.872) total time=  10.6s\n",
      "[CV 9/10] END C=0.5, gamma=auto, kernel=rbf;, score=(train=0.902, test=0.874) total time=   8.9s\n",
      "[CV 3/10] END C=0.5, gamma=0.1, kernel=rbf;, score=(train=0.996, test=0.602) total time=  19.8s\n",
      "[CV 7/10] END C=0.5, gamma=0.1, kernel=rbf;, score=(train=0.996, test=0.646) total time=  19.8s\n",
      "[CV 1/10] END C=0.5, gamma=1, kernel=rbf;, score=(train=1.000, test=0.114) total time=  20.8s\n",
      "[CV 5/10] END C=0.5, gamma=1, kernel=rbf;, score=(train=1.000, test=0.112) total time=  20.5s\n",
      "[CV 9/10] END C=0.5, gamma=1, kernel=rbf;, score=(train=1.000, test=0.112) total time=  20.4s\n",
      "[CV 3/10] END C=1, gamma=auto, kernel=rbf;, score=(train=0.919, test=0.896) total time=   6.4s\n",
      "[CV 7/10] END C=1, gamma=auto, kernel=rbf;, score=(train=0.916, test=0.910) total time=   6.5s\n",
      "[CV 1/10] END C=1, gamma=0.1, kernel=rbf;, score=(train=1.000, test=0.858) total time=  21.2s\n",
      "[CV 5/10] END C=1, gamma=0.1, kernel=rbf;, score=(train=1.000, test=0.846) total time=  23.7s\n",
      "[CV 9/10] END C=1, gamma=0.1, kernel=rbf;, score=(train=1.000, test=0.838) total time=  21.4s\n",
      "[CV 4/10] END C=1, gamma=1, kernel=rbf;, score=(train=1.000, test=0.186) total time=  21.3s\n",
      "[CV 8/10] END C=1, gamma=1, kernel=rbf;, score=(train=1.000, test=0.190) total time=  21.9s\n",
      "[CV 2/10] END C=10, gamma=auto, kernel=rbf;, score=(train=0.961, test=0.926) total time=   4.3s\n",
      "[CV 6/10] END C=10, gamma=auto, kernel=rbf;, score=(train=0.960, test=0.924) total time=   3.4s\n",
      "[CV 10/10] END C=10, gamma=auto, kernel=rbf;, score=(train=0.961, test=0.928) total time=   3.9s\n",
      "[CV 4/10] END C=10, gamma=0.1, kernel=rbf;, score=(train=1.000, test=0.846) total time=  21.2s\n",
      "[CV 8/10] END C=10, gamma=0.1, kernel=rbf;, score=(train=1.000, test=0.848) total time=  21.2s\n",
      "[CV 2/10] END C=10, gamma=1, kernel=rbf;, score=(train=1.000, test=0.182) total time=  21.5s\n",
      "[CV 6/10] END C=10, gamma=1, kernel=rbf;, score=(train=1.000, test=0.200) total time=  23.0s\n",
      "[CV 10/10] END C=10, gamma=1, kernel=rbf;, score=(train=1.000, test=0.190) total time=  24.1s\n",
      "[CV 4/10] END C=100, gamma=auto, kernel=rbf;, score=(train=0.999, test=0.926) total time=   3.1s\n",
      "[CV 8/10] END C=100, gamma=auto, kernel=rbf;, score=(train=0.999, test=0.928) total time=   3.5s\n",
      "[CV 2/10] END C=100, gamma=0.1, kernel=rbf;, score=(train=1.000, test=0.842) total time=  21.3s\n",
      "[CV 6/10] END C=100, gamma=0.1, kernel=rbf;, score=(train=1.000, test=0.852) total time=  21.4s\n",
      "[CV 10/10] END C=100, gamma=0.1, kernel=rbf;, score=(train=1.000, test=0.842) total time=  21.4s\n",
      "[CV 4/10] END C=100, gamma=1, kernel=rbf;, score=(train=1.000, test=0.200) total time=  21.5s\n",
      "[CV 8/10] END C=100, gamma=1, kernel=rbf;, score=(train=1.000, test=0.204) total time=  21.6s\n",
      "[CV 2/10] END C=1000, gamma=auto, kernel=rbf;, score=(train=1.000, test=0.916) total time=   3.1s\n",
      "[CV 6/10] END C=1000, gamma=auto, kernel=rbf;, score=(train=1.000, test=0.922) total time=   3.1s\n",
      "[CV 10/10] END C=1000, gamma=auto, kernel=rbf;, score=(train=1.000, test=0.920) total time=   3.1s\n",
      "[CV 4/10] END C=1000, gamma=0.1, kernel=rbf;, score=(train=1.000, test=0.846) total time=  21.3s\n",
      "[CV 8/10] END C=1000, gamma=0.1, kernel=rbf;, score=(train=1.000, test=0.848) total time=  22.8s\n",
      "[CV 2/10] END C=1000, gamma=1, kernel=rbf;, score=(train=1.000, test=0.182) total time=  22.2s\n",
      "[CV 6/10] END C=1000, gamma=1, kernel=rbf;, score=(train=1.000, test=0.200) total time=  21.2s\n",
      "[CV 10/10] END C=1000, gamma=1, kernel=rbf;, score=(train=1.000, test=0.190) total time=  21.2s\n"
     ]
    }
   ],
   "source": [
    "svc_rbf_train_pred = svc_rbf_clsf.predict(data_split.x_train)\n",
    "svc_rbf_test_pred = svc_rbf_clsf.predict(data_split.x_test)\n",
    "\n",
    "svc_rbf_train_eval = eva.Evaluation(y_true=data_split.y_train, y_pred=svc_rbf_train_pred)\n",
    "svc_rbf_test_eval = eva.Evaluation(y_true=data_split.y_test, y_pred=svc_rbf_test_pred)"
   ],
   "metadata": {
    "collapsed": false,
    "pycharm": {
     "name": "#%%\n"
    }
   }
  },
  {
   "cell_type": "code",
   "execution_count": 42,
   "outputs": [
    {
     "name": "stdout",
     "output_type": "stream",
     "text": [
      "Training:\n",
      "-----Model Evaluations:-----\n",
      "Accuracy score: 0.9725666666666667\n",
      "Testing:\n",
      "-----Model Evaluations:-----\n",
      "Accuracy score: 0.9615\n"
     ]
    }
   ],
   "source": [
    "print(\"Training:\")\n",
    "svc_rbf_train_eval.acc_eval()\n",
    "print(\"Testing:\")\n",
    "svc_rbf_test_eval.acc_eval()"
   ],
   "metadata": {
    "collapsed": false,
    "pycharm": {
     "name": "#%%\n"
    }
   }
  },
  {
   "cell_type": "code",
   "execution_count": 43,
   "outputs": [],
   "source": [
    "# save the model and evaluations\n",
    "svc_rbf_model = eva.EvaluatedModel(svc_rbf_clsf, \"svcrbf\", train_eval=svc_rbf_train_eval, test_eval=svc_rbf_test_eval)\n",
    "svc_rbf_model.save_evaluation()"
   ],
   "metadata": {
    "collapsed": false,
    "pycharm": {
     "name": "#%%\n"
    }
   }
  },
  {
   "cell_type": "code",
   "execution_count": null,
   "outputs": [],
   "source": [
    "# load the previously saved model and evaluations\n",
    "# svc_rbf_model = eva.EvaluatedModel.load_evaluation(\"svcrbf\")"
   ],
   "metadata": {
    "collapsed": false,
    "pycharm": {
     "name": "#%%\n"
    }
   }
  },
  {
   "cell_type": "markdown",
   "source": [
    "### Confusion Matrix"
   ],
   "metadata": {
    "collapsed": false,
    "pycharm": {
     "name": "#%% md\n"
    }
   }
  },
  {
   "cell_type": "code",
   "execution_count": 63,
   "outputs": [
    {
     "data": {
      "text/plain": "<Figure size 864x576 with 2 Axes>",
      "image/png": "[encoded data removed]"
     },
     "metadata": {},
     "output_type": "display_data"
    }
   ],
   "source": [
    "svc_rbf_model.train_eval.conf_mat()"
   ],
   "metadata": {
    "collapsed": false,
    "pycharm": {
     "name": "#%%\n"
    }
   }
  },
  {
   "cell_type": "code",
   "execution_count": 62,
   "outputs": [
    {
     "data": {
      "text/plain": "<Figure size 864x576 with 2 Axes>",
      "image/png": "[encoded data removed]"
     },
     "metadata": {},
     "output_type": "display_data"
    }
   ],
   "source": [
    "svc_rbf_model.test_eval.conf_mat()"
   ],
   "metadata": {
    "collapsed": false,
    "pycharm": {
     "name": "#%%\n"
    }
   }
  },
  {
   "cell_type": "markdown",
   "source": [],
   "metadata": {
    "collapsed": false,
    "pycharm": {
     "name": "#%% md\n"
    }
   }
  }
 ],
 "metadata": {
  "kernelspec": {
   "display_name": "Python 3",
   "language": "python",
   "name": "python3"
  },
  "language_info": {
   "codemirror_mode": {
    "name": "ipython",
    "version": 2
   },
   "file_extension": ".py",
   "mimetype": "text/x-python",
   "name": "python",
   "nbconvert_exporter": "python",
   "pygments_lexer": "ipython2",
   "version": "2.7.6"
  }
 },
 "nbformat": 4,
 "nbformat_minor": 0
}