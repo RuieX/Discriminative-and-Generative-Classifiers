{
 "cells": [
  {
   "cell_type": "markdown",
   "source": [
    "# Support Vector Machine Classifier"
   ],
   "metadata": {
    "collapsed": false,
    "pycharm": {
     "name": "#%% md\n"
    }
   }
  },
  {
   "cell_type": "markdown",
   "source": [
    "# Setup\n",
    "Let us import the required modules."
   ],
   "metadata": {
    "collapsed": false,
    "pycharm": {
     "name": "#%% md\n"
    }
   }
  },
  {
   "cell_type": "code",
   "execution_count": 1,
   "outputs": [],
   "source": [
    "import time\n",
    "import pandas as pd\n",
    "import seaborn as sns\n",
    "\n",
    "from loguru import logger\n",
    "from sklearn.svm import SVC\n",
    "\n",
    "import src.utilities.data_split as ds\n",
    "import src.utilities.evaluation as eva\n",
    "import src.utilities.model_selection as ms"
   ],
   "metadata": {
    "collapsed": false,
    "pycharm": {
     "name": "#%%\n"
    }
   }
  },
  {
   "cell_type": "markdown",
   "source": [
    "## Load Data\n",
    "Note that the dataset is already split into Train-Test sets."
   ],
   "metadata": {
    "collapsed": false,
    "pycharm": {
     "name": "#%% md\n"
    }
   }
  },
  {
   "cell_type": "code",
   "execution_count": 2,
   "outputs": [],
   "source": [
    "data_split = ds.TrainTestSplit.from_csv_directory(dir_path=\"../data\")"
   ],
   "metadata": {
    "collapsed": false,
    "pycharm": {
     "name": "#%%\n"
    }
   }
  },
  {
   "cell_type": "code",
   "execution_count": 3,
   "outputs": [
    {
     "name": "stdout",
     "output_type": "stream",
     "text": [
      "<class 'pandas.core.frame.DataFrame'>\n",
      "RangeIndex: 60000 entries, 0 to 59999\n",
      "Data columns (total 784 columns):\n",
      " #    Column    Dtype  \n",
      "---   ------    -----  \n",
      " 0    pixel1    float64\n",
      " 1    pixel2    float64\n",
      " 2    pixel3    float64\n",
      " 3    pixel4    float64\n",
      " 4    pixel5    float64\n",
      " 5    pixel6    float64\n",
      " 6    pixel7    float64\n",
      " 7    pixel8    float64\n",
      " 8    pixel9    float64\n",
      " 9    pixel10   float64\n",
      " 10   pixel11   float64\n",
      " 11   pixel12   float64\n",
      " 12   pixel13   float64\n",
      " 13   pixel14   float64\n",
      " 14   pixel15   float64\n",
      " 15   pixel16   float64\n",
      " 16   pixel17   float64\n",
      " 17   pixel18   float64\n",
      " 18   pixel19   float64\n",
      " 19   pixel20   float64\n",
      " 20   pixel21   float64\n",
      " 21   pixel22   float64\n",
      " 22   pixel23   float64\n",
      " 23   pixel24   float64\n",
      " 24   pixel25   float64\n",
      " 25   pixel26   float64\n",
      " 26   pixel27   float64\n",
      " 27   pixel28   float64\n",
      " 28   pixel29   float64\n",
      " 29   pixel30   float64\n",
      " 30   pixel31   float64\n",
      " 31   pixel32   float64\n",
      " 32   pixel33   float64\n",
      " 33   pixel34   float64\n",
      " 34   pixel35   float64\n",
      " 35   pixel36   float64\n",
      " 36   pixel37   float64\n",
      " 37   pixel38   float64\n",
      " 38   pixel39   float64\n",
      " 39   pixel40   float64\n",
      " 40   pixel41   float64\n",
      " 41   pixel42   float64\n",
      " 42   pixel43   float64\n",
      " 43   pixel44   float64\n",
      " 44   pixel45   float64\n",
      " 45   pixel46   float64\n",
      " 46   pixel47   float64\n",
      " 47   pixel48   float64\n",
      " 48   pixel49   float64\n",
      " 49   pixel50   float64\n",
      " 50   pixel51   float64\n",
      " 51   pixel52   float64\n",
      " 52   pixel53   float64\n",
      " 53   pixel54   float64\n",
      " 54   pixel55   float64\n",
      " 55   pixel56   float64\n",
      " 56   pixel57   float64\n",
      " 57   pixel58   float64\n",
      " 58   pixel59   float64\n",
      " 59   pixel60   float64\n",
      " 60   pixel61   float64\n",
      " 61   pixel62   float64\n",
      " 62   pixel63   float64\n",
      " 63   pixel64   float64\n",
      " 64   pixel65   float64\n",
      " 65   pixel66   float64\n",
      " 66   pixel67   float64\n",
      " 67   pixel68   float64\n",
      " 68   pixel69   float64\n",
      " 69   pixel70   float64\n",
      " 70   pixel71   float64\n",
      " 71   pixel72   float64\n",
      " 72   pixel73   float64\n",
      " 73   pixel74   float64\n",
      " 74   pixel75   float64\n",
      " 75   pixel76   float64\n",
      " 76   pixel77   float64\n",
      " 77   pixel78   float64\n",
      " 78   pixel79   float64\n",
      " 79   pixel80   float64\n",
      " 80   pixel81   float64\n",
      " 81   pixel82   float64\n",
      " 82   pixel83   float64\n",
      " 83   pixel84   float64\n",
      " 84   pixel85   float64\n",
      " 85   pixel86   float64\n",
      " 86   pixel87   float64\n",
      " 87   pixel88   float64\n",
      " 88   pixel89   float64\n",
      " 89   pixel90   float64\n",
      " 90   pixel91   float64\n",
      " 91   pixel92   float64\n",
      " 92   pixel93   float64\n",
      " 93   pixel94   float64\n",
      " 94   pixel95   float64\n",
      " 95   pixel96   float64\n",
      " 96   pixel97   float64\n",
      " 97   pixel98   float64\n",
      " 98   pixel99   float64\n",
      " 99   pixel100  float64\n",
      " 100  pixel101  float64\n",
      " 101  pixel102  float64\n",
      " 102  pixel103  float64\n",
      " 103  pixel104  float64\n",
      " 104  pixel105  float64\n",
      " 105  pixel106  float64\n",
      " 106  pixel107  float64\n",
      " 107  pixel108  float64\n",
      " 108  pixel109  float64\n",
      " 109  pixel110  float64\n",
      " 110  pixel111  float64\n",
      " 111  pixel112  float64\n",
      " 112  pixel113  float64\n",
      " 113  pixel114  float64\n",
      " 114  pixel115  float64\n",
      " 115  pixel116  float64\n",
      " 116  pixel117  float64\n",
      " 117  pixel118  float64\n",
      " 118  pixel119  float64\n",
      " 119  pixel120  float64\n",
      " 120  pixel121  float64\n",
      " 121  pixel122  float64\n",
      " 122  pixel123  float64\n",
      " 123  pixel124  float64\n",
      " 124  pixel125  float64\n",
      " 125  pixel126  float64\n",
      " 126  pixel127  float64\n",
      " 127  pixel128  float64\n",
      " 128  pixel129  float64\n",
      " 129  pixel130  float64\n",
      " 130  pixel131  float64\n",
      " 131  pixel132  float64\n",
      " 132  pixel133  float64\n",
      " 133  pixel134  float64\n",
      " 134  pixel135  float64\n",
      " 135  pixel136  float64\n",
      " 136  pixel137  float64\n",
      " 137  pixel138  float64\n",
      " 138  pixel139  float64\n",
      " 139  pixel140  float64\n",
      " 140  pixel141  float64\n",
      " 141  pixel142  float64\n",
      " 142  pixel143  float64\n",
      " 143  pixel144  float64\n",
      " 144  pixel145  float64\n",
      " 145  pixel146  float64\n",
      " 146  pixel147  float64\n",
      " 147  pixel148  float64\n",
      " 148  pixel149  float64\n",
      " 149  pixel150  float64\n",
      " 150  pixel151  float64\n",
      " 151  pixel152  float64\n",
      " 152  pixel153  float64\n",
      " 153  pixel154  float64\n",
      " 154  pixel155  float64\n",
      " 155  pixel156  float64\n",
      " 156  pixel157  float64\n",
      " 157  pixel158  float64\n",
      " 158  pixel159  float64\n",
      " 159  pixel160  float64\n",
      " 160  pixel161  float64\n",
      " 161  pixel162  float64\n",
      " 162  pixel163  float64\n",
      " 163  pixel164  float64\n",
      " 164  pixel165  float64\n",
      " 165  pixel166  float64\n",
      " 166  pixel167  float64\n",
      " 167  pixel168  float64\n",
      " 168  pixel169  float64\n",
      " 169  pixel170  float64\n",
      " 170  pixel171  float64\n",
      " 171  pixel172  float64\n",
      " 172  pixel173  float64\n",
      " 173  pixel174  float64\n",
      " 174  pixel175  float64\n",
      " 175  pixel176  float64\n",
      " 176  pixel177  float64\n",
      " 177  pixel178  float64\n",
      " 178  pixel179  float64\n",
      " 179  pixel180  float64\n",
      " 180  pixel181  float64\n",
      " 181  pixel182  float64\n",
      " 182  pixel183  float64\n",
      " 183  pixel184  float64\n",
      " 184  pixel185  float64\n",
      " 185  pixel186  float64\n",
      " 186  pixel187  float64\n",
      " 187  pixel188  float64\n",
      " 188  pixel189  float64\n",
      " 189  pixel190  float64\n",
      " 190  pixel191  float64\n",
      " 191  pixel192  float64\n",
      " 192  pixel193  float64\n",
      " 193  pixel194  float64\n",
      " 194  pixel195  float64\n",
      " 195  pixel196  float64\n",
      " 196  pixel197  float64\n",
      " 197  pixel198  float64\n",
      " 198  pixel199  float64\n",
      " 199  pixel200  float64\n",
      " 200  pixel201  float64\n",
      " 201  pixel202  float64\n",
      " 202  pixel203  float64\n",
      " 203  pixel204  float64\n",
      " 204  pixel205  float64\n",
      " 205  pixel206  float64\n",
      " 206  pixel207  float64\n",
      " 207  pixel208  float64\n",
      " 208  pixel209  float64\n",
      " 209  pixel210  float64\n",
      " 210  pixel211  float64\n",
      " 211  pixel212  float64\n",
      " 212  pixel213  float64\n",
      " 213  pixel214  float64\n",
      " 214  pixel215  float64\n",
      " 215  pixel216  float64\n",
      " 216  pixel217  float64\n",
      " 217  pixel218  float64\n",
      " 218  pixel219  float64\n",
      " 219  pixel220  float64\n",
      " 220  pixel221  float64\n",
      " 221  pixel222  float64\n",
      " 222  pixel223  float64\n",
      " 223  pixel224  float64\n",
      " 224  pixel225  float64\n",
      " 225  pixel226  float64\n",
      " 226  pixel227  float64\n",
      " 227  pixel228  float64\n",
      " 228  pixel229  float64\n",
      " 229  pixel230  float64\n",
      " 230  pixel231  float64\n",
      " 231  pixel232  float64\n",
      " 232  pixel233  float64\n",
      " 233  pixel234  float64\n",
      " 234  pixel235  float64\n",
      " 235  pixel236  float64\n",
      " 236  pixel237  float64\n",
      " 237  pixel238  float64\n",
      " 238  pixel239  float64\n",
      " 239  pixel240  float64\n",
      " 240  pixel241  float64\n",
      " 241  pixel242  float64\n",
      " 242  pixel243  float64\n",
      " 243  pixel244  float64\n",
      " 244  pixel245  float64\n",
      " 245  pixel246  float64\n",
      " 246  pixel247  float64\n",
      " 247  pixel248  float64\n",
      " 248  pixel249  float64\n",
      " 249  pixel250  float64\n",
      " 250  pixel251  float64\n",
      " 251  pixel252  float64\n",
      " 252  pixel253  float64\n",
      " 253  pixel254  float64\n",
      " 254  pixel255  float64\n",
      " 255  pixel256  float64\n",
      " 256  pixel257  float64\n",
      " 257  pixel258  float64\n",
      " 258  pixel259  float64\n",
      " 259  pixel260  float64\n",
      " 260  pixel261  float64\n",
      " 261  pixel262  float64\n",
      " 262  pixel263  float64\n",
      " 263  pixel264  float64\n",
      " 264  pixel265  float64\n",
      " 265  pixel266  float64\n",
      " 266  pixel267  float64\n",
      " 267  pixel268  float64\n",
      " 268  pixel269  float64\n",
      " 269  pixel270  float64\n",
      " 270  pixel271  float64\n",
      " 271  pixel272  float64\n",
      " 272  pixel273  float64\n",
      " 273  pixel274  float64\n",
      " 274  pixel275  float64\n",
      " 275  pixel276  float64\n",
      " 276  pixel277  float64\n",
      " 277  pixel278  float64\n",
      " 278  pixel279  float64\n",
      " 279  pixel280  float64\n",
      " 280  pixel281  float64\n",
      " 281  pixel282  float64\n",
      " 282  pixel283  float64\n",
      " 283  pixel284  float64\n",
      " 284  pixel285  float64\n",
      " 285  pixel286  float64\n",
      " 286  pixel287  float64\n",
      " 287  pixel288  float64\n",
      " 288  pixel289  float64\n",
      " 289  pixel290  float64\n",
      " 290  pixel291  float64\n",
      " 291  pixel292  float64\n",
      " 292  pixel293  float64\n",
      " 293  pixel294  float64\n",
      " 294  pixel295  float64\n",
      " 295  pixel296  float64\n",
      " 296  pixel297  float64\n",
      " 297  pixel298  float64\n",
      " 298  pixel299  float64\n",
      " 299  pixel300  float64\n",
      " 300  pixel301  float64\n",
      " 301  pixel302  float64\n",
      " 302  pixel303  float64\n",
      " 303  pixel304  float64\n",
      " 304  pixel305  float64\n",
      " 305  pixel306  float64\n",
      " 306  pixel307  float64\n",
      " 307  pixel308  float64\n",
      " 308  pixel309  float64\n",
      " 309  pixel310  float64\n",
      " 310  pixel311  float64\n",
      " 311  pixel312  float64\n",
      " 312  pixel313  float64\n",
      " 313  pixel314  float64\n",
      " 314  pixel315  float64\n",
      " 315  pixel316  float64\n",
      " 316  pixel317  float64\n",
      " 317  pixel318  float64\n",
      " 318  pixel319  float64\n",
      " 319  pixel320  float64\n",
      " 320  pixel321  float64\n",
      " 321  pixel322  float64\n",
      " 322  pixel323  float64\n",
      " 323  pixel324  float64\n",
      " 324  pixel325  float64\n",
      " 325  pixel326  float64\n",
      " 326  pixel327  float64\n",
      " 327  pixel328  float64\n",
      " 328  pixel329  float64\n",
      " 329  pixel330  float64\n",
      " 330  pixel331  float64\n",
      " 331  pixel332  float64\n",
      " 332  pixel333  float64\n",
      " 333  pixel334  float64\n",
      " 334  pixel335  float64\n",
      " 335  pixel336  float64\n",
      " 336  pixel337  float64\n",
      " 337  pixel338  float64\n",
      " 338  pixel339  float64\n",
      " 339  pixel340  float64\n",
      " 340  pixel341  float64\n",
      " 341  pixel342  float64\n",
      " 342  pixel343  float64\n",
      " 343  pixel344  float64\n",
      " 344  pixel345  float64\n",
      " 345  pixel346  float64\n",
      " 346  pixel347  float64\n",
      " 347  pixel348  float64\n",
      " 348  pixel349  float64\n",
      " 349  pixel350  float64\n",
      " 350  pixel351  float64\n",
      " 351  pixel352  float64\n",
      " 352  pixel353  float64\n",
      " 353  pixel354  float64\n",
      " 354  pixel355  float64\n",
      " 355  pixel356  float64\n",
      " 356  pixel357  float64\n",
      " 357  pixel358  float64\n",
      " 358  pixel359  float64\n",
      " 359  pixel360  float64\n",
      " 360  pixel361  float64\n",
      " 361  pixel362  float64\n",
      " 362  pixel363  float64\n",
      " 363  pixel364  float64\n",
      " 364  pixel365  float64\n",
      " 365  pixel366  float64\n",
      " 366  pixel367  float64\n",
      " 367  pixel368  float64\n",
      " 368  pixel369  float64\n",
      " 369  pixel370  float64\n",
      " 370  pixel371  float64\n",
      " 371  pixel372  float64\n",
      " 372  pixel373  float64\n",
      " 373  pixel374  float64\n",
      " 374  pixel375  float64\n",
      " 375  pixel376  float64\n",
      " 376  pixel377  float64\n",
      " 377  pixel378  float64\n",
      " 378  pixel379  float64\n",
      " 379  pixel380  float64\n",
      " 380  pixel381  float64\n",
      " 381  pixel382  float64\n",
      " 382  pixel383  float64\n",
      " 383  pixel384  float64\n",
      " 384  pixel385  float64\n",
      " 385  pixel386  float64\n",
      " 386  pixel387  float64\n",
      " 387  pixel388  float64\n",
      " 388  pixel389  float64\n",
      " 389  pixel390  float64\n",
      " 390  pixel391  float64\n",
      " 391  pixel392  float64\n",
      " 392  pixel393  float64\n",
      " 393  pixel394  float64\n",
      " 394  pixel395  float64\n",
      " 395  pixel396  float64\n",
      " 396  pixel397  float64\n",
      " 397  pixel398  float64\n",
      " 398  pixel399  float64\n",
      " 399  pixel400  float64\n",
      " 400  pixel401  float64\n",
      " 401  pixel402  float64\n",
      " 402  pixel403  float64\n",
      " 403  pixel404  float64\n",
      " 404  pixel405  float64\n",
      " 405  pixel406  float64\n",
      " 406  pixel407  float64\n",
      " 407  pixel408  float64\n",
      " 408  pixel409  float64\n",
      " 409  pixel410  float64\n",
      " 410  pixel411  float64\n",
      " 411  pixel412  float64\n",
      " 412  pixel413  float64\n",
      " 413  pixel414  float64\n",
      " 414  pixel415  float64\n",
      " 415  pixel416  float64\n",
      " 416  pixel417  float64\n",
      " 417  pixel418  float64\n",
      " 418  pixel419  float64\n",
      " 419  pixel420  float64\n",
      " 420  pixel421  float64\n",
      " 421  pixel422  float64\n",
      " 422  pixel423  float64\n",
      " 423  pixel424  float64\n",
      " 424  pixel425  float64\n",
      " 425  pixel426  float64\n",
      " 426  pixel427  float64\n",
      " 427  pixel428  float64\n",
      " 428  pixel429  float64\n",
      " 429  pixel430  float64\n",
      " 430  pixel431  float64\n",
      " 431  pixel432  float64\n",
      " 432  pixel433  float64\n",
      " 433  pixel434  float64\n",
      " 434  pixel435  float64\n",
      " 435  pixel436  float64\n",
      " 436  pixel437  float64\n",
      " 437  pixel438  float64\n",
      " 438  pixel439  float64\n",
      " 439  pixel440  float64\n",
      " 440  pixel441  float64\n",
      " 441  pixel442  float64\n",
      " 442  pixel443  float64\n",
      " 443  pixel444  float64\n",
      " 444  pixel445  float64\n",
      " 445  pixel446  float64\n",
      " 446  pixel447  float64\n",
      " 447  pixel448  float64\n",
      " 448  pixel449  float64\n",
      " 449  pixel450  float64\n",
      " 450  pixel451  float64\n",
      " 451  pixel452  float64\n",
      " 452  pixel453  float64\n",
      " 453  pixel454  float64\n",
      " 454  pixel455  float64\n",
      " 455  pixel456  float64\n",
      " 456  pixel457  float64\n",
      " 457  pixel458  float64\n",
      " 458  pixel459  float64\n",
      " 459  pixel460  float64\n",
      " 460  pixel461  float64\n",
      " 461  pixel462  float64\n",
      " 462  pixel463  float64\n",
      " 463  pixel464  float64\n",
      " 464  pixel465  float64\n",
      " 465  pixel466  float64\n",
      " 466  pixel467  float64\n",
      " 467  pixel468  float64\n",
      " 468  pixel469  float64\n",
      " 469  pixel470  float64\n",
      " 470  pixel471  float64\n",
      " 471  pixel472  float64\n",
      " 472  pixel473  float64\n",
      " 473  pixel474  float64\n",
      " 474  pixel475  float64\n",
      " 475  pixel476  float64\n",
      " 476  pixel477  float64\n",
      " 477  pixel478  float64\n",
      " 478  pixel479  float64\n",
      " 479  pixel480  float64\n",
      " 480  pixel481  float64\n",
      " 481  pixel482  float64\n",
      " 482  pixel483  float64\n",
      " 483  pixel484  float64\n",
      " 484  pixel485  float64\n",
      " 485  pixel486  float64\n",
      " 486  pixel487  float64\n",
      " 487  pixel488  float64\n",
      " 488  pixel489  float64\n",
      " 489  pixel490  float64\n",
      " 490  pixel491  float64\n",
      " 491  pixel492  float64\n",
      " 492  pixel493  float64\n",
      " 493  pixel494  float64\n",
      " 494  pixel495  float64\n",
      " 495  pixel496  float64\n",
      " 496  pixel497  float64\n",
      " 497  pixel498  float64\n",
      " 498  pixel499  float64\n",
      " 499  pixel500  float64\n",
      " 500  pixel501  float64\n",
      " 501  pixel502  float64\n",
      " 502  pixel503  float64\n",
      " 503  pixel504  float64\n",
      " 504  pixel505  float64\n",
      " 505  pixel506  float64\n",
      " 506  pixel507  float64\n",
      " 507  pixel508  float64\n",
      " 508  pixel509  float64\n",
      " 509  pixel510  float64\n",
      " 510  pixel511  float64\n",
      " 511  pixel512  float64\n",
      " 512  pixel513  float64\n",
      " 513  pixel514  float64\n",
      " 514  pixel515  float64\n",
      " 515  pixel516  float64\n",
      " 516  pixel517  float64\n",
      " 517  pixel518  float64\n",
      " 518  pixel519  float64\n",
      " 519  pixel520  float64\n",
      " 520  pixel521  float64\n",
      " 521  pixel522  float64\n",
      " 522  pixel523  float64\n",
      " 523  pixel524  float64\n",
      " 524  pixel525  float64\n",
      " 525  pixel526  float64\n",
      " 526  pixel527  float64\n",
      " 527  pixel528  float64\n",
      " 528  pixel529  float64\n",
      " 529  pixel530  float64\n",
      " 530  pixel531  float64\n",
      " 531  pixel532  float64\n",
      " 532  pixel533  float64\n",
      " 533  pixel534  float64\n",
      " 534  pixel535  float64\n",
      " 535  pixel536  float64\n",
      " 536  pixel537  float64\n",
      " 537  pixel538  float64\n",
      " 538  pixel539  float64\n",
      " 539  pixel540  float64\n",
      " 540  pixel541  float64\n",
      " 541  pixel542  float64\n",
      " 542  pixel543  float64\n",
      " 543  pixel544  float64\n",
      " 544  pixel545  float64\n",
      " 545  pixel546  float64\n",
      " 546  pixel547  float64\n",
      " 547  pixel548  float64\n",
      " 548  pixel549  float64\n",
      " 549  pixel550  float64\n",
      " 550  pixel551  float64\n",
      " 551  pixel552  float64\n",
      " 552  pixel553  float64\n",
      " 553  pixel554  float64\n",
      " 554  pixel555  float64\n",
      " 555  pixel556  float64\n",
      " 556  pixel557  float64\n",
      " 557  pixel558  float64\n",
      " 558  pixel559  float64\n",
      " 559  pixel560  float64\n",
      " 560  pixel561  float64\n",
      " 561  pixel562  float64\n",
      " 562  pixel563  float64\n",
      " 563  pixel564  float64\n",
      " 564  pixel565  float64\n",
      " 565  pixel566  float64\n",
      " 566  pixel567  float64\n",
      " 567  pixel568  float64\n",
      " 568  pixel569  float64\n",
      " 569  pixel570  float64\n",
      " 570  pixel571  float64\n",
      " 571  pixel572  float64\n",
      " 572  pixel573  float64\n",
      " 573  pixel574  float64\n",
      " 574  pixel575  float64\n",
      " 575  pixel576  float64\n",
      " 576  pixel577  float64\n",
      " 577  pixel578  float64\n",
      " 578  pixel579  float64\n",
      " 579  pixel580  float64\n",
      " 580  pixel581  float64\n",
      " 581  pixel582  float64\n",
      " 582  pixel583  float64\n",
      " 583  pixel584  float64\n",
      " 584  pixel585  float64\n",
      " 585  pixel586  float64\n",
      " 586  pixel587  float64\n",
      " 587  pixel588  float64\n",
      " 588  pixel589  float64\n",
      " 589  pixel590  float64\n",
      " 590  pixel591  float64\n",
      " 591  pixel592  float64\n",
      " 592  pixel593  float64\n",
      " 593  pixel594  float64\n",
      " 594  pixel595  float64\n",
      " 595  pixel596  float64\n",
      " 596  pixel597  float64\n",
      " 597  pixel598  float64\n",
      " 598  pixel599  float64\n",
      " 599  pixel600  float64\n",
      " 600  pixel601  float64\n",
      " 601  pixel602  float64\n",
      " 602  pixel603  float64\n",
      " 603  pixel604  float64\n",
      " 604  pixel605  float64\n",
      " 605  pixel606  float64\n",
      " 606  pixel607  float64\n",
      " 607  pixel608  float64\n",
      " 608  pixel609  float64\n",
      " 609  pixel610  float64\n",
      " 610  pixel611  float64\n",
      " 611  pixel612  float64\n",
      " 612  pixel613  float64\n",
      " 613  pixel614  float64\n",
      " 614  pixel615  float64\n",
      " 615  pixel616  float64\n",
      " 616  pixel617  float64\n",
      " 617  pixel618  float64\n",
      " 618  pixel619  float64\n",
      " 619  pixel620  float64\n",
      " 620  pixel621  float64\n",
      " 621  pixel622  float64\n",
      " 622  pixel623  float64\n",
      " 623  pixel624  float64\n",
      " 624  pixel625  float64\n",
      " 625  pixel626  float64\n",
      " 626  pixel627  float64\n",
      " 627  pixel628  float64\n",
      " 628  pixel629  float64\n",
      " 629  pixel630  float64\n",
      " 630  pixel631  float64\n",
      " 631  pixel632  float64\n",
      " 632  pixel633  float64\n",
      " 633  pixel634  float64\n",
      " 634  pixel635  float64\n",
      " 635  pixel636  float64\n",
      " 636  pixel637  float64\n",
      " 637  pixel638  float64\n",
      " 638  pixel639  float64\n",
      " 639  pixel640  float64\n",
      " 640  pixel641  float64\n",
      " 641  pixel642  float64\n",
      " 642  pixel643  float64\n",
      " 643  pixel644  float64\n",
      " 644  pixel645  float64\n",
      " 645  pixel646  float64\n",
      " 646  pixel647  float64\n",
      " 647  pixel648  float64\n",
      " 648  pixel649  float64\n",
      " 649  pixel650  float64\n",
      " 650  pixel651  float64\n",
      " 651  pixel652  float64\n",
      " 652  pixel653  float64\n",
      " 653  pixel654  float64\n",
      " 654  pixel655  float64\n",
      " 655  pixel656  float64\n",
      " 656  pixel657  float64\n",
      " 657  pixel658  float64\n",
      " 658  pixel659  float64\n",
      " 659  pixel660  float64\n",
      " 660  pixel661  float64\n",
      " 661  pixel662  float64\n",
      " 662  pixel663  float64\n",
      " 663  pixel664  float64\n",
      " 664  pixel665  float64\n",
      " 665  pixel666  float64\n",
      " 666  pixel667  float64\n",
      " 667  pixel668  float64\n",
      " 668  pixel669  float64\n",
      " 669  pixel670  float64\n",
      " 670  pixel671  float64\n",
      " 671  pixel672  float64\n",
      " 672  pixel673  float64\n",
      " 673  pixel674  float64\n",
      " 674  pixel675  float64\n",
      " 675  pixel676  float64\n",
      " 676  pixel677  float64\n",
      " 677  pixel678  float64\n",
      " 678  pixel679  float64\n",
      " 679  pixel680  float64\n",
      " 680  pixel681  float64\n",
      " 681  pixel682  float64\n",
      " 682  pixel683  float64\n",
      " 683  pixel684  float64\n",
      " 684  pixel685  float64\n",
      " 685  pixel686  float64\n",
      " 686  pixel687  float64\n",
      " 687  pixel688  float64\n",
      " 688  pixel689  float64\n",
      " 689  pixel690  float64\n",
      " 690  pixel691  float64\n",
      " 691  pixel692  float64\n",
      " 692  pixel693  float64\n",
      " 693  pixel694  float64\n",
      " 694  pixel695  float64\n",
      " 695  pixel696  float64\n",
      " 696  pixel697  float64\n",
      " 697  pixel698  float64\n",
      " 698  pixel699  float64\n",
      " 699  pixel700  float64\n",
      " 700  pixel701  float64\n",
      " 701  pixel702  float64\n",
      " 702  pixel703  float64\n",
      " 703  pixel704  float64\n",
      " 704  pixel705  float64\n",
      " 705  pixel706  float64\n",
      " 706  pixel707  float64\n",
      " 707  pixel708  float64\n",
      " 708  pixel709  float64\n",
      " 709  pixel710  float64\n",
      " 710  pixel711  float64\n",
      " 711  pixel712  float64\n",
      " 712  pixel713  float64\n",
      " 713  pixel714  float64\n",
      " 714  pixel715  float64\n",
      " 715  pixel716  float64\n",
      " 716  pixel717  float64\n",
      " 717  pixel718  float64\n",
      " 718  pixel719  float64\n",
      " 719  pixel720  float64\n",
      " 720  pixel721  float64\n",
      " 721  pixel722  float64\n",
      " 722  pixel723  float64\n",
      " 723  pixel724  float64\n",
      " 724  pixel725  float64\n",
      " 725  pixel726  float64\n",
      " 726  pixel727  float64\n",
      " 727  pixel728  float64\n",
      " 728  pixel729  float64\n",
      " 729  pixel730  float64\n",
      " 730  pixel731  float64\n",
      " 731  pixel732  float64\n",
      " 732  pixel733  float64\n",
      " 733  pixel734  float64\n",
      " 734  pixel735  float64\n",
      " 735  pixel736  float64\n",
      " 736  pixel737  float64\n",
      " 737  pixel738  float64\n",
      " 738  pixel739  float64\n",
      " 739  pixel740  float64\n",
      " 740  pixel741  float64\n",
      " 741  pixel742  float64\n",
      " 742  pixel743  float64\n",
      " 743  pixel744  float64\n",
      " 744  pixel745  float64\n",
      " 745  pixel746  float64\n",
      " 746  pixel747  float64\n",
      " 747  pixel748  float64\n",
      " 748  pixel749  float64\n",
      " 749  pixel750  float64\n",
      " 750  pixel751  float64\n",
      " 751  pixel752  float64\n",
      " 752  pixel753  float64\n",
      " 753  pixel754  float64\n",
      " 754  pixel755  float64\n",
      " 755  pixel756  float64\n",
      " 756  pixel757  float64\n",
      " 757  pixel758  float64\n",
      " 758  pixel759  float64\n",
      " 759  pixel760  float64\n",
      " 760  pixel761  float64\n",
      " 761  pixel762  float64\n",
      " 762  pixel763  float64\n",
      " 763  pixel764  float64\n",
      " 764  pixel765  float64\n",
      " 765  pixel766  float64\n",
      " 766  pixel767  float64\n",
      " 767  pixel768  float64\n",
      " 768  pixel769  float64\n",
      " 769  pixel770  float64\n",
      " 770  pixel771  float64\n",
      " 771  pixel772  float64\n",
      " 772  pixel773  float64\n",
      " 773  pixel774  float64\n",
      " 774  pixel775  float64\n",
      " 775  pixel776  float64\n",
      " 776  pixel777  float64\n",
      " 777  pixel778  float64\n",
      " 778  pixel779  float64\n",
      " 779  pixel780  float64\n",
      " 780  pixel781  float64\n",
      " 781  pixel782  float64\n",
      " 782  pixel783  float64\n",
      " 783  pixel784  float64\n",
      "dtypes: float64(784)\n",
      "memory usage: 358.9 MB\n"
     ]
    }
   ],
   "source": [
    "data_split.x_train.info(verbose=True)"
   ],
   "metadata": {
    "collapsed": false,
    "pycharm": {
     "name": "#%%\n"
    }
   }
  },
  {
   "cell_type": "code",
   "execution_count": 4,
   "outputs": [
    {
     "data": {
      "text/plain": "(60000,)"
     },
     "execution_count": 4,
     "metadata": {},
     "output_type": "execute_result"
    }
   ],
   "source": [
    "data_split.y_train.shape"
   ],
   "metadata": {
    "collapsed": false,
    "pycharm": {
     "name": "#%%\n"
    }
   }
  },
  {
   "cell_type": "markdown",
   "source": [
    "## Tuning Discriminative Classifiers: SVM"
   ],
   "metadata": {
    "collapsed": false,
    "pycharm": {
     "name": "#%% md\n"
    }
   }
  },
  {
   "cell_type": "markdown",
   "source": [
    "Use a smaller dataset to reduce the workload of GridSearchCV"
   ],
   "metadata": {
    "collapsed": false,
    "pycharm": {
     "name": "#%% md\n"
    }
   }
  },
  {
   "cell_type": "code",
   "execution_count": 5,
   "outputs": [
    {
     "data": {
      "text/plain": "<AxesSubplot:ylabel='count'>"
     },
     "execution_count": 5,
     "metadata": {},
     "output_type": "execute_result"
    },
    {
     "data": {
      "text/plain": "<Figure size 432x288 with 1 Axes>",
      "image/png": "[encoded data removed]"
     },
     "metadata": {},
     "output_type": "display_data"
    }
   ],
   "source": [
    "sns.countplot(x=data_split.y_train)"
   ],
   "metadata": {
    "collapsed": false,
    "pycharm": {
     "name": "#%%\n"
    }
   }
  },
  {
   "cell_type": "code",
   "execution_count": 6,
   "outputs": [],
   "source": [
    "x_data_small, y_data_small = ds.get_train_subset(x_train=data_split.x_train, y_train=data_split.y_train, size=7000)"
   ],
   "metadata": {
    "collapsed": false,
    "pycharm": {
     "name": "#%%\n"
    }
   }
  },
  {
   "cell_type": "code",
   "execution_count": 7,
   "outputs": [
    {
     "data": {
      "text/plain": "<AxesSubplot:xlabel='Number', ylabel='count'>"
     },
     "execution_count": 7,
     "metadata": {},
     "output_type": "execute_result"
    },
    {
     "data": {
      "text/plain": "<Figure size 432x288 with 1 Axes>",
      "image/png": "[encoded data removed]"
     },
     "metadata": {},
     "output_type": "display_data"
    }
   ],
   "source": [
    "sns.countplot(x=y_data_small)"
   ],
   "metadata": {
    "collapsed": false,
    "pycharm": {
     "name": "#%%\n"
    }
   }
  },
  {
   "cell_type": "code",
   "execution_count": 19,
   "outputs": [
    {
     "name": "stdout",
     "output_type": "stream",
     "text": [
      "<class 'pandas.core.frame.DataFrame'>\n",
      "Int64Index: 7000 entries, 51191 to 36981\n",
      "Data columns (total 784 columns):\n",
      " #    Column    Dtype  \n",
      "---   ------    -----  \n",
      " 0    pixel1    float64\n",
      " 1    pixel2    float64\n",
      " 2    pixel3    float64\n",
      " 3    pixel4    float64\n",
      " 4    pixel5    float64\n",
      " 5    pixel6    float64\n",
      " 6    pixel7    float64\n",
      " 7    pixel8    float64\n",
      " 8    pixel9    float64\n",
      " 9    pixel10   float64\n",
      " 10   pixel11   float64\n",
      " 11   pixel12   float64\n",
      " 12   pixel13   float64\n",
      " 13   pixel14   float64\n",
      " 14   pixel15   float64\n",
      " 15   pixel16   float64\n",
      " 16   pixel17   float64\n",
      " 17   pixel18   float64\n",
      " 18   pixel19   float64\n",
      " 19   pixel20   float64\n",
      " 20   pixel21   float64\n",
      " 21   pixel22   float64\n",
      " 22   pixel23   float64\n",
      " 23   pixel24   float64\n",
      " 24   pixel25   float64\n",
      " 25   pixel26   float64\n",
      " 26   pixel27   float64\n",
      " 27   pixel28   float64\n",
      " 28   pixel29   float64\n",
      " 29   pixel30   float64\n",
      " 30   pixel31   float64\n",
      " 31   pixel32   float64\n",
      " 32   pixel33   float64\n",
      " 33   pixel34   float64\n",
      " 34   pixel35   float64\n",
      " 35   pixel36   float64\n",
      " 36   pixel37   float64\n",
      " 37   pixel38   float64\n",
      " 38   pixel39   float64\n",
      " 39   pixel40   float64\n",
      " 40   pixel41   float64\n",
      " 41   pixel42   float64\n",
      " 42   pixel43   float64\n",
      " 43   pixel44   float64\n",
      " 44   pixel45   float64\n",
      " 45   pixel46   float64\n",
      " 46   pixel47   float64\n",
      " 47   pixel48   float64\n",
      " 48   pixel49   float64\n",
      " 49   pixel50   float64\n",
      " 50   pixel51   float64\n",
      " 51   pixel52   float64\n",
      " 52   pixel53   float64\n",
      " 53   pixel54   float64\n",
      " 54   pixel55   float64\n",
      " 55   pixel56   float64\n",
      " 56   pixel57   float64\n",
      " 57   pixel58   float64\n",
      " 58   pixel59   float64\n",
      " 59   pixel60   float64\n",
      " 60   pixel61   float64\n",
      " 61   pixel62   float64\n",
      " 62   pixel63   float64\n",
      " 63   pixel64   float64\n",
      " 64   pixel65   float64\n",
      " 65   pixel66   float64\n",
      " 66   pixel67   float64\n",
      " 67   pixel68   float64\n",
      " 68   pixel69   float64\n",
      " 69   pixel70   float64\n",
      " 70   pixel71   float64\n",
      " 71   pixel72   float64\n",
      " 72   pixel73   float64\n",
      " 73   pixel74   float64\n",
      " 74   pixel75   float64\n",
      " 75   pixel76   float64\n",
      " 76   pixel77   float64\n",
      " 77   pixel78   float64\n",
      " 78   pixel79   float64\n",
      " 79   pixel80   float64\n",
      " 80   pixel81   float64\n",
      " 81   pixel82   float64\n",
      " 82   pixel83   float64\n",
      " 83   pixel84   float64\n",
      " 84   pixel85   float64\n",
      " 85   pixel86   float64\n",
      " 86   pixel87   float64\n",
      " 87   pixel88   float64\n",
      " 88   pixel89   float64\n",
      " 89   pixel90   float64\n",
      " 90   pixel91   float64\n",
      " 91   pixel92   float64\n",
      " 92   pixel93   float64\n",
      " 93   pixel94   float64\n",
      " 94   pixel95   float64\n",
      " 95   pixel96   float64\n",
      " 96   pixel97   float64\n",
      " 97   pixel98   float64\n",
      " 98   pixel99   float64\n",
      " 99   pixel100  float64\n",
      " 100  pixel101  float64\n",
      " 101  pixel102  float64\n",
      " 102  pixel103  float64\n",
      " 103  pixel104  float64\n",
      " 104  pixel105  float64\n",
      " 105  pixel106  float64\n",
      " 106  pixel107  float64\n",
      " 107  pixel108  float64\n",
      " 108  pixel109  float64\n",
      " 109  pixel110  float64\n",
      " 110  pixel111  float64\n",
      " 111  pixel112  float64\n",
      " 112  pixel113  float64\n",
      " 113  pixel114  float64\n",
      " 114  pixel115  float64\n",
      " 115  pixel116  float64\n",
      " 116  pixel117  float64\n",
      " 117  pixel118  float64\n",
      " 118  pixel119  float64\n",
      " 119  pixel120  float64\n",
      " 120  pixel121  float64\n",
      " 121  pixel122  float64\n",
      " 122  pixel123  float64\n",
      " 123  pixel124  float64\n",
      " 124  pixel125  float64\n",
      " 125  pixel126  float64\n",
      " 126  pixel127  float64\n",
      " 127  pixel128  float64\n",
      " 128  pixel129  float64\n",
      " 129  pixel130  float64\n",
      " 130  pixel131  float64\n",
      " 131  pixel132  float64\n",
      " 132  pixel133  float64\n",
      " 133  pixel134  float64\n",
      " 134  pixel135  float64\n",
      " 135  pixel136  float64\n",
      " 136  pixel137  float64\n",
      " 137  pixel138  float64\n",
      " 138  pixel139  float64\n",
      " 139  pixel140  float64\n",
      " 140  pixel141  float64\n",
      " 141  pixel142  float64\n",
      " 142  pixel143  float64\n",
      " 143  pixel144  float64\n",
      " 144  pixel145  float64\n",
      " 145  pixel146  float64\n",
      " 146  pixel147  float64\n",
      " 147  pixel148  float64\n",
      " 148  pixel149  float64\n",
      " 149  pixel150  float64\n",
      " 150  pixel151  float64\n",
      " 151  pixel152  float64\n",
      " 152  pixel153  float64\n",
      " 153  pixel154  float64\n",
      " 154  pixel155  float64\n",
      " 155  pixel156  float64\n",
      " 156  pixel157  float64\n",
      " 157  pixel158  float64\n",
      " 158  pixel159  float64\n",
      " 159  pixel160  float64\n",
      " 160  pixel161  float64\n",
      " 161  pixel162  float64\n",
      " 162  pixel163  float64\n",
      " 163  pixel164  float64\n",
      " 164  pixel165  float64\n",
      " 165  pixel166  float64\n",
      " 166  pixel167  float64\n",
      " 167  pixel168  float64\n",
      " 168  pixel169  float64\n",
      " 169  pixel170  float64\n",
      " 170  pixel171  float64\n",
      " 171  pixel172  float64\n",
      " 172  pixel173  float64\n",
      " 173  pixel174  float64\n",
      " 174  pixel175  float64\n",
      " 175  pixel176  float64\n",
      " 176  pixel177  float64\n",
      " 177  pixel178  float64\n",
      " 178  pixel179  float64\n",
      " 179  pixel180  float64\n",
      " 180  pixel181  float64\n",
      " 181  pixel182  float64\n",
      " 182  pixel183  float64\n",
      " 183  pixel184  float64\n",
      " 184  pixel185  float64\n",
      " 185  pixel186  float64\n",
      " 186  pixel187  float64\n",
      " 187  pixel188  float64\n",
      " 188  pixel189  float64\n",
      " 189  pixel190  float64\n",
      " 190  pixel191  float64\n",
      " 191  pixel192  float64\n",
      " 192  pixel193  float64\n",
      " 193  pixel194  float64\n",
      " 194  pixel195  float64\n",
      " 195  pixel196  float64\n",
      " 196  pixel197  float64\n",
      " 197  pixel198  float64\n",
      " 198  pixel199  float64\n",
      " 199  pixel200  float64\n",
      " 200  pixel201  float64\n",
      " 201  pixel202  float64\n",
      " 202  pixel203  float64\n",
      " 203  pixel204  float64\n",
      " 204  pixel205  float64\n",
      " 205  pixel206  float64\n",
      " 206  pixel207  float64\n",
      " 207  pixel208  float64\n",
      " 208  pixel209  float64\n",
      " 209  pixel210  float64\n",
      " 210  pixel211  float64\n",
      " 211  pixel212  float64\n",
      " 212  pixel213  float64\n",
      " 213  pixel214  float64\n",
      " 214  pixel215  float64\n",
      " 215  pixel216  float64\n",
      " 216  pixel217  float64\n",
      " 217  pixel218  float64\n",
      " 218  pixel219  float64\n",
      " 219  pixel220  float64\n",
      " 220  pixel221  float64\n",
      " 221  pixel222  float64\n",
      " 222  pixel223  float64\n",
      " 223  pixel224  float64\n",
      " 224  pixel225  float64\n",
      " 225  pixel226  float64\n",
      " 226  pixel227  float64\n",
      " 227  pixel228  float64\n",
      " 228  pixel229  float64\n",
      " 229  pixel230  float64\n",
      " 230  pixel231  float64\n",
      " 231  pixel232  float64\n",
      " 232  pixel233  float64\n",
      " 233  pixel234  float64\n",
      " 234  pixel235  float64\n",
      " 235  pixel236  float64\n",
      " 236  pixel237  float64\n",
      " 237  pixel238  float64\n",
      " 238  pixel239  float64\n",
      " 239  pixel240  float64\n",
      " 240  pixel241  float64\n",
      " 241  pixel242  float64\n",
      " 242  pixel243  float64\n",
      " 243  pixel244  float64\n",
      " 244  pixel245  float64\n",
      " 245  pixel246  float64\n",
      " 246  pixel247  float64\n",
      " 247  pixel248  float64\n",
      " 248  pixel249  float64\n",
      " 249  pixel250  float64\n",
      " 250  pixel251  float64\n",
      " 251  pixel252  float64\n",
      " 252  pixel253  float64\n",
      " 253  pixel254  float64\n",
      " 254  pixel255  float64\n",
      " 255  pixel256  float64\n",
      " 256  pixel257  float64\n",
      " 257  pixel258  float64\n",
      " 258  pixel259  float64\n",
      " 259  pixel260  float64\n",
      " 260  pixel261  float64\n",
      " 261  pixel262  float64\n",
      " 262  pixel263  float64\n",
      " 263  pixel264  float64\n",
      " 264  pixel265  float64\n",
      " 265  pixel266  float64\n",
      " 266  pixel267  float64\n",
      " 267  pixel268  float64\n",
      " 268  pixel269  float64\n",
      " 269  pixel270  float64\n",
      " 270  pixel271  float64\n",
      " 271  pixel272  float64\n",
      " 272  pixel273  float64\n",
      " 273  pixel274  float64\n",
      " 274  pixel275  float64\n",
      " 275  pixel276  float64\n",
      " 276  pixel277  float64\n",
      " 277  pixel278  float64\n",
      " 278  pixel279  float64\n",
      " 279  pixel280  float64\n",
      " 280  pixel281  float64\n",
      " 281  pixel282  float64\n",
      " 282  pixel283  float64\n",
      " 283  pixel284  float64\n",
      " 284  pixel285  float64\n",
      " 285  pixel286  float64\n",
      " 286  pixel287  float64\n",
      " 287  pixel288  float64\n",
      " 288  pixel289  float64\n",
      " 289  pixel290  float64\n",
      " 290  pixel291  float64\n",
      " 291  pixel292  float64\n",
      " 292  pixel293  float64\n",
      " 293  pixel294  float64\n",
      " 294  pixel295  float64\n",
      " 295  pixel296  float64\n",
      " 296  pixel297  float64\n",
      " 297  pixel298  float64\n",
      " 298  pixel299  float64\n",
      " 299  pixel300  float64\n",
      " 300  pixel301  float64\n",
      " 301  pixel302  float64\n",
      " 302  pixel303  float64\n",
      " 303  pixel304  float64\n",
      " 304  pixel305  float64\n",
      " 305  pixel306  float64\n",
      " 306  pixel307  float64\n",
      " 307  pixel308  float64\n",
      " 308  pixel309  float64\n",
      " 309  pixel310  float64\n",
      " 310  pixel311  float64\n",
      " 311  pixel312  float64\n",
      " 312  pixel313  float64\n",
      " 313  pixel314  float64\n",
      " 314  pixel315  float64\n",
      " 315  pixel316  float64\n",
      " 316  pixel317  float64\n",
      " 317  pixel318  float64\n",
      " 318  pixel319  float64\n",
      " 319  pixel320  float64\n",
      " 320  pixel321  float64\n",
      " 321  pixel322  float64\n",
      " 322  pixel323  float64\n",
      " 323  pixel324  float64\n",
      " 324  pixel325  float64\n",
      " 325  pixel326  float64\n",
      " 326  pixel327  float64\n",
      " 327  pixel328  float64\n",
      " 328  pixel329  float64\n",
      " 329  pixel330  float64\n",
      " 330  pixel331  float64\n",
      " 331  pixel332  float64\n",
      " 332  pixel333  float64\n",
      " 333  pixel334  float64\n",
      " 334  pixel335  float64\n",
      " 335  pixel336  float64\n",
      " 336  pixel337  float64\n",
      " 337  pixel338  float64\n",
      " 338  pixel339  float64\n",
      " 339  pixel340  float64\n",
      " 340  pixel341  float64\n",
      " 341  pixel342  float64\n",
      " 342  pixel343  float64\n",
      " 343  pixel344  float64\n",
      " 344  pixel345  float64\n",
      " 345  pixel346  float64\n",
      " 346  pixel347  float64\n",
      " 347  pixel348  float64\n",
      " 348  pixel349  float64\n",
      " 349  pixel350  float64\n",
      " 350  pixel351  float64\n",
      " 351  pixel352  float64\n",
      " 352  pixel353  float64\n",
      " 353  pixel354  float64\n",
      " 354  pixel355  float64\n",
      " 355  pixel356  float64\n",
      " 356  pixel357  float64\n",
      " 357  pixel358  float64\n",
      " 358  pixel359  float64\n",
      " 359  pixel360  float64\n",
      " 360  pixel361  float64\n",
      " 361  pixel362  float64\n",
      " 362  pixel363  float64\n",
      " 363  pixel364  float64\n",
      " 364  pixel365  float64\n",
      " 365  pixel366  float64\n",
      " 366  pixel367  float64\n",
      " 367  pixel368  float64\n",
      " 368  pixel369  float64\n",
      " 369  pixel370  float64\n",
      " 370  pixel371  float64\n",
      " 371  pixel372  float64\n",
      " 372  pixel373  float64\n",
      " 373  pixel374  float64\n",
      " 374  pixel375  float64\n",
      " 375  pixel376  float64\n",
      " 376  pixel377  float64\n",
      " 377  pixel378  float64\n",
      " 378  pixel379  float64\n",
      " 379  pixel380  float64\n",
      " 380  pixel381  float64\n",
      " 381  pixel382  float64\n",
      " 382  pixel383  float64\n",
      " 383  pixel384  float64\n",
      " 384  pixel385  float64\n",
      " 385  pixel386  float64\n",
      " 386  pixel387  float64\n",
      " 387  pixel388  float64\n",
      " 388  pixel389  float64\n",
      " 389  pixel390  float64\n",
      " 390  pixel391  float64\n",
      " 391  pixel392  float64\n",
      " 392  pixel393  float64\n",
      " 393  pixel394  float64\n",
      " 394  pixel395  float64\n",
      " 395  pixel396  float64\n",
      " 396  pixel397  float64\n",
      " 397  pixel398  float64\n",
      " 398  pixel399  float64\n",
      " 399  pixel400  float64\n",
      " 400  pixel401  float64\n",
      " 401  pixel402  float64\n",
      " 402  pixel403  float64\n",
      " 403  pixel404  float64\n",
      " 404  pixel405  float64\n",
      " 405  pixel406  float64\n",
      " 406  pixel407  float64\n",
      " 407  pixel408  float64\n",
      " 408  pixel409  float64\n",
      " 409  pixel410  float64\n",
      " 410  pixel411  float64\n",
      " 411  pixel412  float64\n",
      " 412  pixel413  float64\n",
      " 413  pixel414  float64\n",
      " 414  pixel415  float64\n",
      " 415  pixel416  float64\n",
      " 416  pixel417  float64\n",
      " 417  pixel418  float64\n",
      " 418  pixel419  float64\n",
      " 419  pixel420  float64\n",
      " 420  pixel421  float64\n",
      " 421  pixel422  float64\n",
      " 422  pixel423  float64\n",
      " 423  pixel424  float64\n",
      " 424  pixel425  float64\n",
      " 425  pixel426  float64\n",
      " 426  pixel427  float64\n",
      " 427  pixel428  float64\n",
      " 428  pixel429  float64\n",
      " 429  pixel430  float64\n",
      " 430  pixel431  float64\n",
      " 431  pixel432  float64\n",
      " 432  pixel433  float64\n",
      " 433  pixel434  float64\n",
      " 434  pixel435  float64\n",
      " 435  pixel436  float64\n",
      " 436  pixel437  float64\n",
      " 437  pixel438  float64\n",
      " 438  pixel439  float64\n",
      " 439  pixel440  float64\n",
      " 440  pixel441  float64\n",
      " 441  pixel442  float64\n",
      " 442  pixel443  float64\n",
      " 443  pixel444  float64\n",
      " 444  pixel445  float64\n",
      " 445  pixel446  float64\n",
      " 446  pixel447  float64\n",
      " 447  pixel448  float64\n",
      " 448  pixel449  float64\n",
      " 449  pixel450  float64\n",
      " 450  pixel451  float64\n",
      " 451  pixel452  float64\n",
      " 452  pixel453  float64\n",
      " 453  pixel454  float64\n",
      " 454  pixel455  float64\n",
      " 455  pixel456  float64\n",
      " 456  pixel457  float64\n",
      " 457  pixel458  float64\n",
      " 458  pixel459  float64\n",
      " 459  pixel460  float64\n",
      " 460  pixel461  float64\n",
      " 461  pixel462  float64\n",
      " 462  pixel463  float64\n",
      " 463  pixel464  float64\n",
      " 464  pixel465  float64\n",
      " 465  pixel466  float64\n",
      " 466  pixel467  float64\n",
      " 467  pixel468  float64\n",
      " 468  pixel469  float64\n",
      " 469  pixel470  float64\n",
      " 470  pixel471  float64\n",
      " 471  pixel472  float64\n",
      " 472  pixel473  float64\n",
      " 473  pixel474  float64\n",
      " 474  pixel475  float64\n",
      " 475  pixel476  float64\n",
      " 476  pixel477  float64\n",
      " 477  pixel478  float64\n",
      " 478  pixel479  float64\n",
      " 479  pixel480  float64\n",
      " 480  pixel481  float64\n",
      " 481  pixel482  float64\n",
      " 482  pixel483  float64\n",
      " 483  pixel484  float64\n",
      " 484  pixel485  float64\n",
      " 485  pixel486  float64\n",
      " 486  pixel487  float64\n",
      " 487  pixel488  float64\n",
      " 488  pixel489  float64\n",
      " 489  pixel490  float64\n",
      " 490  pixel491  float64\n",
      " 491  pixel492  float64\n",
      " 492  pixel493  float64\n",
      " 493  pixel494  float64\n",
      " 494  pixel495  float64\n",
      " 495  pixel496  float64\n",
      " 496  pixel497  float64\n",
      " 497  pixel498  float64\n",
      " 498  pixel499  float64\n",
      " 499  pixel500  float64\n",
      " 500  pixel501  float64\n",
      " 501  pixel502  float64\n",
      " 502  pixel503  float64\n",
      " 503  pixel504  float64\n",
      " 504  pixel505  float64\n",
      " 505  pixel506  float64\n",
      " 506  pixel507  float64\n",
      " 507  pixel508  float64\n",
      " 508  pixel509  float64\n",
      " 509  pixel510  float64\n",
      " 510  pixel511  float64\n",
      " 511  pixel512  float64\n",
      " 512  pixel513  float64\n",
      " 513  pixel514  float64\n",
      " 514  pixel515  float64\n",
      " 515  pixel516  float64\n",
      " 516  pixel517  float64\n",
      " 517  pixel518  float64\n",
      " 518  pixel519  float64\n",
      " 519  pixel520  float64\n",
      " 520  pixel521  float64\n",
      " 521  pixel522  float64\n",
      " 522  pixel523  float64\n",
      " 523  pixel524  float64\n",
      " 524  pixel525  float64\n",
      " 525  pixel526  float64\n",
      " 526  pixel527  float64\n",
      " 527  pixel528  float64\n",
      " 528  pixel529  float64\n",
      " 529  pixel530  float64\n",
      " 530  pixel531  float64\n",
      " 531  pixel532  float64\n",
      " 532  pixel533  float64\n",
      " 533  pixel534  float64\n",
      " 534  pixel535  float64\n",
      " 535  pixel536  float64\n",
      " 536  pixel537  float64\n",
      " 537  pixel538  float64\n",
      " 538  pixel539  float64\n",
      " 539  pixel540  float64\n",
      " 540  pixel541  float64\n",
      " 541  pixel542  float64\n",
      " 542  pixel543  float64\n",
      " 543  pixel544  float64\n",
      " 544  pixel545  float64\n",
      " 545  pixel546  float64\n",
      " 546  pixel547  float64\n",
      " 547  pixel548  float64\n",
      " 548  pixel549  float64\n",
      " 549  pixel550  float64\n",
      " 550  pixel551  float64\n",
      " 551  pixel552  float64\n",
      " 552  pixel553  float64\n",
      " 553  pixel554  float64\n",
      " 554  pixel555  float64\n",
      " 555  pixel556  float64\n",
      " 556  pixel557  float64\n",
      " 557  pixel558  float64\n",
      " 558  pixel559  float64\n",
      " 559  pixel560  float64\n",
      " 560  pixel561  float64\n",
      " 561  pixel562  float64\n",
      " 562  pixel563  float64\n",
      " 563  pixel564  float64\n",
      " 564  pixel565  float64\n",
      " 565  pixel566  float64\n",
      " 566  pixel567  float64\n",
      " 567  pixel568  float64\n",
      " 568  pixel569  float64\n",
      " 569  pixel570  float64\n",
      " 570  pixel571  float64\n",
      " 571  pixel572  float64\n",
      " 572  pixel573  float64\n",
      " 573  pixel574  float64\n",
      " 574  pixel575  float64\n",
      " 575  pixel576  float64\n",
      " 576  pixel577  float64\n",
      " 577  pixel578  float64\n",
      " 578  pixel579  float64\n",
      " 579  pixel580  float64\n",
      " 580  pixel581  float64\n",
      " 581  pixel582  float64\n",
      " 582  pixel583  float64\n",
      " 583  pixel584  float64\n",
      " 584  pixel585  float64\n",
      " 585  pixel586  float64\n",
      " 586  pixel587  float64\n",
      " 587  pixel588  float64\n",
      " 588  pixel589  float64\n",
      " 589  pixel590  float64\n",
      " 590  pixel591  float64\n",
      " 591  pixel592  float64\n",
      " 592  pixel593  float64\n",
      " 593  pixel594  float64\n",
      " 594  pixel595  float64\n",
      " 595  pixel596  float64\n",
      " 596  pixel597  float64\n",
      " 597  pixel598  float64\n",
      " 598  pixel599  float64\n",
      " 599  pixel600  float64\n",
      " 600  pixel601  float64\n",
      " 601  pixel602  float64\n",
      " 602  pixel603  float64\n",
      " 603  pixel604  float64\n",
      " 604  pixel605  float64\n",
      " 605  pixel606  float64\n",
      " 606  pixel607  float64\n",
      " 607  pixel608  float64\n",
      " 608  pixel609  float64\n",
      " 609  pixel610  float64\n",
      " 610  pixel611  float64\n",
      " 611  pixel612  float64\n",
      " 612  pixel613  float64\n",
      " 613  pixel614  float64\n",
      " 614  pixel615  float64\n",
      " 615  pixel616  float64\n",
      " 616  pixel617  float64\n",
      " 617  pixel618  float64\n",
      " 618  pixel619  float64\n",
      " 619  pixel620  float64\n",
      " 620  pixel621  float64\n",
      " 621  pixel622  float64\n",
      " 622  pixel623  float64\n",
      " 623  pixel624  float64\n",
      " 624  pixel625  float64\n",
      " 625  pixel626  float64\n",
      " 626  pixel627  float64\n",
      " 627  pixel628  float64\n",
      " 628  pixel629  float64\n",
      " 629  pixel630  float64\n",
      " 630  pixel631  float64\n",
      " 631  pixel632  float64\n",
      " 632  pixel633  float64\n",
      " 633  pixel634  float64\n",
      " 634  pixel635  float64\n",
      " 635  pixel636  float64\n",
      " 636  pixel637  float64\n",
      " 637  pixel638  float64\n",
      " 638  pixel639  float64\n",
      " 639  pixel640  float64\n",
      " 640  pixel641  float64\n",
      " 641  pixel642  float64\n",
      " 642  pixel643  float64\n",
      " 643  pixel644  float64\n",
      " 644  pixel645  float64\n",
      " 645  pixel646  float64\n",
      " 646  pixel647  float64\n",
      " 647  pixel648  float64\n",
      " 648  pixel649  float64\n",
      " 649  pixel650  float64\n",
      " 650  pixel651  float64\n",
      " 651  pixel652  float64\n",
      " 652  pixel653  float64\n",
      " 653  pixel654  float64\n",
      " 654  pixel655  float64\n",
      " 655  pixel656  float64\n",
      " 656  pixel657  float64\n",
      " 657  pixel658  float64\n",
      " 658  pixel659  float64\n",
      " 659  pixel660  float64\n",
      " 660  pixel661  float64\n",
      " 661  pixel662  float64\n",
      " 662  pixel663  float64\n",
      " 663  pixel664  float64\n",
      " 664  pixel665  float64\n",
      " 665  pixel666  float64\n",
      " 666  pixel667  float64\n",
      " 667  pixel668  float64\n",
      " 668  pixel669  float64\n",
      " 669  pixel670  float64\n",
      " 670  pixel671  float64\n",
      " 671  pixel672  float64\n",
      " 672  pixel673  float64\n",
      " 673  pixel674  float64\n",
      " 674  pixel675  float64\n",
      " 675  pixel676  float64\n",
      " 676  pixel677  float64\n",
      " 677  pixel678  float64\n",
      " 678  pixel679  float64\n",
      " 679  pixel680  float64\n",
      " 680  pixel681  float64\n",
      " 681  pixel682  float64\n",
      " 682  pixel683  float64\n",
      " 683  pixel684  float64\n",
      " 684  pixel685  float64\n",
      " 685  pixel686  float64\n",
      " 686  pixel687  float64\n",
      " 687  pixel688  float64\n",
      " 688  pixel689  float64\n",
      " 689  pixel690  float64\n",
      " 690  pixel691  float64\n",
      " 691  pixel692  float64\n",
      " 692  pixel693  float64\n",
      " 693  pixel694  float64\n",
      " 694  pixel695  float64\n",
      " 695  pixel696  float64\n",
      " 696  pixel697  float64\n",
      " 697  pixel698  float64\n",
      " 698  pixel699  float64\n",
      " 699  pixel700  float64\n",
      " 700  pixel701  float64\n",
      " 701  pixel702  float64\n",
      " 702  pixel703  float64\n",
      " 703  pixel704  float64\n",
      " 704  pixel705  float64\n",
      " 705  pixel706  float64\n",
      " 706  pixel707  float64\n",
      " 707  pixel708  float64\n",
      " 708  pixel709  float64\n",
      " 709  pixel710  float64\n",
      " 710  pixel711  float64\n",
      " 711  pixel712  float64\n",
      " 712  pixel713  float64\n",
      " 713  pixel714  float64\n",
      " 714  pixel715  float64\n",
      " 715  pixel716  float64\n",
      " 716  pixel717  float64\n",
      " 717  pixel718  float64\n",
      " 718  pixel719  float64\n",
      " 719  pixel720  float64\n",
      " 720  pixel721  float64\n",
      " 721  pixel722  float64\n",
      " 722  pixel723  float64\n",
      " 723  pixel724  float64\n",
      " 724  pixel725  float64\n",
      " 725  pixel726  float64\n",
      " 726  pixel727  float64\n",
      " 727  pixel728  float64\n",
      " 728  pixel729  float64\n",
      " 729  pixel730  float64\n",
      " 730  pixel731  float64\n",
      " 731  pixel732  float64\n",
      " 732  pixel733  float64\n",
      " 733  pixel734  float64\n",
      " 734  pixel735  float64\n",
      " 735  pixel736  float64\n",
      " 736  pixel737  float64\n",
      " 737  pixel738  float64\n",
      " 738  pixel739  float64\n",
      " 739  pixel740  float64\n",
      " 740  pixel741  float64\n",
      " 741  pixel742  float64\n",
      " 742  pixel743  float64\n",
      " 743  pixel744  float64\n",
      " 744  pixel745  float64\n",
      " 745  pixel746  float64\n",
      " 746  pixel747  float64\n",
      " 747  pixel748  float64\n",
      " 748  pixel749  float64\n",
      " 749  pixel750  float64\n",
      " 750  pixel751  float64\n",
      " 751  pixel752  float64\n",
      " 752  pixel753  float64\n",
      " 753  pixel754  float64\n",
      " 754  pixel755  float64\n",
      " 755  pixel756  float64\n",
      " 756  pixel757  float64\n",
      " 757  pixel758  float64\n",
      " 758  pixel759  float64\n",
      " 759  pixel760  float64\n",
      " 760  pixel761  float64\n",
      " 761  pixel762  float64\n",
      " 762  pixel763  float64\n",
      " 763  pixel764  float64\n",
      " 764  pixel765  float64\n",
      " 765  pixel766  float64\n",
      " 766  pixel767  float64\n",
      " 767  pixel768  float64\n",
      " 768  pixel769  float64\n",
      " 769  pixel770  float64\n",
      " 770  pixel771  float64\n",
      " 771  pixel772  float64\n",
      " 772  pixel773  float64\n",
      " 773  pixel774  float64\n",
      " 774  pixel775  float64\n",
      " 775  pixel776  float64\n",
      " 776  pixel777  float64\n",
      " 777  pixel778  float64\n",
      " 778  pixel779  float64\n",
      " 779  pixel780  float64\n",
      " 780  pixel781  float64\n",
      " 781  pixel782  float64\n",
      " 782  pixel783  float64\n",
      " 783  pixel784  float64\n",
      "dtypes: float64(784)\n",
      "memory usage: 42.2 MB\n"
     ]
    }
   ],
   "source": [
    "x_data_small.info(verbose=True)"
   ],
   "metadata": {
    "collapsed": false,
    "pycharm": {
     "name": "#%%\n"
    }
   }
  },
  {
   "cell_type": "code",
   "execution_count": 20,
   "outputs": [
    {
     "data": {
      "text/plain": "(7000,)"
     },
     "execution_count": 20,
     "metadata": {},
     "output_type": "execute_result"
    }
   ],
   "source": [
    "y_data_small.shape"
   ],
   "metadata": {
    "collapsed": false,
    "pycharm": {
     "name": "#%%\n"
    }
   }
  },
  {
   "cell_type": "code",
   "execution_count": 21,
   "outputs": [
    {
     "data": {
      "text/plain": "51191    0\n39350    0\n10312    0\n53842    0\n59150    0\n        ..\n39465    9\n56035    9\n38604    9\n28346    9\n36981    9\nName: Number, Length: 7000, dtype: int64"
     },
     "execution_count": 21,
     "metadata": {},
     "output_type": "execute_result"
    }
   ],
   "source": [
    "y_data_small"
   ],
   "metadata": {
    "collapsed": false,
    "pycharm": {
     "name": "#%%\n"
    }
   }
  },
  {
   "cell_type": "markdown",
   "source": [
    "## SVM using Linear kernel\n",
    "Note that LinearSVC is another implementation of Support Vector Classification for the case of a linear kernel"
   ],
   "metadata": {
    "collapsed": false,
    "pycharm": {
     "name": "#%% md\n"
    }
   }
  },
  {
   "cell_type": "code",
   "execution_count": 11,
   "outputs": [
    {
     "name": "stdout",
     "output_type": "stream",
     "text": [
      "Fitting 10 folds for each of 8 candidates, totalling 80 fits\n"
     ]
    },
    {
     "name": "stderr",
     "output_type": "stream",
     "text": [
      "2022-12-28 15:18:05.222 | INFO     | src.utilities.model_selection:model_selector:26 - --- 740.8506820201874 seconds ---\n"
     ]
    }
   ],
   "source": [
    "# automatic parameters tuning\n",
    "svcclsf_lin=SVC(random_state=28)\n",
    "properties_lin={\n",
    "    \"C\": [0.01,0.05,0.1,0.5,1,10,100,1000], # soft to hard margin\n",
    "    \"kernel\": [\"linear\"]\n",
    "}\n",
    "\n",
    "tuned_svcclsf_lin = ms.model_selector(estimator=svcclsf_lin,properties=properties_lin,scoring=\"accuracy\",cv=10,verbose=5,jobs=4,\n",
    "                                       x_train=x_data_small,y_train=y_data_small)"
   ],
   "metadata": {
    "collapsed": false,
    "pycharm": {
     "name": "#%%\n"
    }
   }
  },
  {
   "cell_type": "code",
   "execution_count": 12,
   "outputs": [],
   "source": [
    "# save results\n",
    "ms.save_model(model=tuned_svcclsf_lin, model_name=\"svc_linear_tuning_results\")"
   ],
   "metadata": {
    "collapsed": false,
    "pycharm": {
     "name": "#%%\n"
    }
   }
  },
  {
   "cell_type": "code",
   "execution_count": 13,
   "outputs": [],
   "source": [
    "# to load previously saved results\n",
    "tuned_svcclsf_lin = ms.load_model(\"svc_linear_tuning_results\")"
   ],
   "metadata": {
    "collapsed": false,
    "pycharm": {
     "name": "#%%\n"
    }
   }
  },
  {
   "cell_type": "code",
   "execution_count": 14,
   "outputs": [
    {
     "name": "stderr",
     "output_type": "stream",
     "text": [
      "2022-12-28 15:18:05.391 | INFO     | __main__:<module>:1 - {'mean_fit_time': array([16.96343758, 12.26367354, 11.5215065 , 11.75590637, 11.71524014,\n",
      "       12.22222507, 13.6341248 , 11.35402279]), 'std_fit_time': array([1.19413758, 0.89985055, 0.4461351 , 0.51943611, 0.3551916 ,\n",
      "       0.56609177, 1.59444944, 0.49009478]), 'mean_score_time': array([3.29163461, 2.26631434, 2.19909906, 2.07051299, 2.08931282,\n",
      "       2.45019355, 2.32507396, 2.07625792]), 'std_score_time': array([0.10784261, 0.16203303, 0.07114561, 0.0641666 , 0.14126926,\n",
      "       0.42302338, 0.32195289, 0.22572706]), 'param_C': masked_array(data=[0.01, 0.05, 0.1, 0.5, 1, 10, 100, 1000],\n",
      "             mask=[False, False, False, False, False, False, False, False],\n",
      "       fill_value='?',\n",
      "            dtype=object), 'param_kernel': masked_array(data=['linear', 'linear', 'linear', 'linear', 'linear',\n",
      "                   'linear', 'linear', 'linear'],\n",
      "             mask=[False, False, False, False, False, False, False, False],\n",
      "       fill_value='?',\n",
      "            dtype=object), 'params': [{'C': 0.01, 'kernel': 'linear'}, {'C': 0.05, 'kernel': 'linear'}, {'C': 0.1, 'kernel': 'linear'}, {'C': 0.5, 'kernel': 'linear'}, {'C': 1, 'kernel': 'linear'}, {'C': 10, 'kernel': 'linear'}, {'C': 100, 'kernel': 'linear'}, {'C': 1000, 'kernel': 'linear'}], 'split0_test_score': array([0.91      , 0.91428571, 0.91857143, 0.88714286, 0.87714286,\n",
      "       0.87428571, 0.87428571, 0.87428571]), 'split1_test_score': array([0.92571429, 0.92571429, 0.92714286, 0.89428571, 0.89428571,\n",
      "       0.89142857, 0.89142857, 0.89142857]), 'split2_test_score': array([0.92142857, 0.92714286, 0.93142857, 0.92      , 0.90857143,\n",
      "       0.90714286, 0.90714286, 0.90714286]), 'split3_test_score': array([0.93714286, 0.93285714, 0.92857143, 0.90714286, 0.90714286,\n",
      "       0.89857143, 0.89857143, 0.89857143]), 'split4_test_score': array([0.92      , 0.92571429, 0.92      , 0.90714286, 0.90142857,\n",
      "       0.90142857, 0.90142857, 0.90142857]), 'split5_test_score': array([0.92      , 0.92571429, 0.92428571, 0.91714286, 0.90714286,\n",
      "       0.91      , 0.91      , 0.91      ]), 'split6_test_score': array([0.91142857, 0.93285714, 0.92285714, 0.89857143, 0.89285714,\n",
      "       0.89571429, 0.89571429, 0.89571429]), 'split7_test_score': array([0.90714286, 0.92285714, 0.92428571, 0.91      , 0.9       ,\n",
      "       0.9       , 0.9       , 0.9       ]), 'split8_test_score': array([0.91571429, 0.92      , 0.92      , 0.9       , 0.90285714,\n",
      "       0.89714286, 0.89714286, 0.89714286]), 'split9_test_score': array([0.91      , 0.92571429, 0.92285714, 0.91857143, 0.91428571,\n",
      "       0.91285714, 0.91285714, 0.91285714]), 'mean_test_score': array([0.91785714, 0.92528571, 0.924     , 0.906     , 0.90057143,\n",
      "       0.89885714, 0.89885714, 0.89885714]), 'std_test_score': array([0.00860114, 0.00523138, 0.00387562, 0.01039623, 0.0099632 ,\n",
      "       0.01033717, 0.01033717, 0.01033717]), 'rank_test_score': array([3, 1, 2, 4, 5, 6, 6, 6], dtype=int32), 'split0_train_score': array([0.94079365, 0.96206349, 0.9731746 , 0.99460317, 0.9984127 ,\n",
      "       1.        , 1.        , 1.        ]), 'split1_train_score': array([0.93936508, 0.96365079, 0.97190476, 0.99380952, 0.99888889,\n",
      "       1.        , 1.        , 1.        ]), 'split2_train_score': array([0.94031746, 0.96269841, 0.97079365, 0.99460317, 0.99809524,\n",
      "       1.        , 1.        , 1.        ]), 'split3_train_score': array([0.93492063, 0.9615873 , 0.9715873 , 0.99380952, 0.99857143,\n",
      "       1.        , 1.        , 1.        ]), 'split4_train_score': array([0.9384127 , 0.96206349, 0.97063492, 0.99460317, 0.99873016,\n",
      "       1.        , 1.        , 1.        ]), 'split5_train_score': array([0.93809524, 0.9631746 , 0.97412698, 0.9952381 , 0.99873016,\n",
      "       1.        , 1.        , 1.        ]), 'split6_train_score': array([0.93952381, 0.9631746 , 0.97285714, 0.99412698, 0.9984127 ,\n",
      "       1.        , 1.        , 1.        ]), 'split7_train_score': array([0.93952381, 0.96222222, 0.9715873 , 0.99460317, 0.99793651,\n",
      "       1.        , 1.        , 1.        ]), 'split8_train_score': array([0.93968254, 0.96238095, 0.97206349, 0.99492063, 0.9984127 ,\n",
      "       1.        , 1.        , 1.        ]), 'split9_train_score': array([0.94079365, 0.96190476, 0.97380952, 0.99507937, 0.99809524,\n",
      "       1.        , 1.        , 1.        ]), 'mean_train_score': array([0.93914286, 0.96249206, 0.97225397, 0.99453968, 0.99842857,\n",
      "       1.        , 1.        , 1.        ]), 'std_train_score': array([0.00164069, 0.00062713, 0.00113755, 0.00046657, 0.00029653,\n",
      "       0.        , 0.        , 0.        ])}\n"
     ]
    }
   ],
   "source": [
    "logger.info(tuned_svcclsf_lin.cv_results_)\n",
    "tuned_svcclsf_lin_results = pd.DataFrame( tuned_svcclsf_lin.cv_results_ )"
   ],
   "metadata": {
    "collapsed": false,
    "pycharm": {
     "name": "#%%\n"
    }
   }
  },
  {
   "cell_type": "code",
   "execution_count": 15,
   "outputs": [
    {
     "data": {
      "text/plain": "                            params  mean_test_score  mean_train_score\n0  {'C': 0.01, 'kernel': 'linear'}         0.917857          0.939143\n1  {'C': 0.05, 'kernel': 'linear'}         0.925286          0.962492\n2   {'C': 0.1, 'kernel': 'linear'}         0.924000          0.972254\n3   {'C': 0.5, 'kernel': 'linear'}         0.906000          0.994540\n4     {'C': 1, 'kernel': 'linear'}         0.900571          0.998429\n5    {'C': 10, 'kernel': 'linear'}         0.898857          1.000000\n6   {'C': 100, 'kernel': 'linear'}         0.898857          1.000000\n7  {'C': 1000, 'kernel': 'linear'}         0.898857          1.000000",
      "text/html": "<div>\n<style scoped>\n    .dataframe tbody tr th:only-of-type {\n        vertical-align: middle;\n    }\n\n    .dataframe tbody tr th {\n        vertical-align: top;\n    }\n\n    .dataframe thead th {\n        text-align: right;\n    }\n</style>\n<table border=\"1\" class=\"dataframe\">\n  <thead>\n    <tr style=\"text-align: right;\">\n      <th></th>\n      <th>params</th>\n      <th>mean_test_score</th>\n      <th>mean_train_score</th>\n    </tr>\n  </thead>\n  <tbody>\n    <tr>\n      <th>0</th>\n      <td>{'C': 0.01, 'kernel': 'linear'}</td>\n      <td>0.917857</td>\n      <td>0.939143</td>\n    </tr>\n    <tr>\n      <th>1</th>\n      <td>{'C': 0.05, 'kernel': 'linear'}</td>\n      <td>0.925286</td>\n      <td>0.962492</td>\n    </tr>\n    <tr>\n      <th>2</th>\n      <td>{'C': 0.1, 'kernel': 'linear'}</td>\n      <td>0.924000</td>\n      <td>0.972254</td>\n    </tr>\n    <tr>\n      <th>3</th>\n      <td>{'C': 0.5, 'kernel': 'linear'}</td>\n      <td>0.906000</td>\n      <td>0.994540</td>\n    </tr>\n    <tr>\n      <th>4</th>\n      <td>{'C': 1, 'kernel': 'linear'}</td>\n      <td>0.900571</td>\n      <td>0.998429</td>\n    </tr>\n    <tr>\n      <th>5</th>\n      <td>{'C': 10, 'kernel': 'linear'}</td>\n      <td>0.898857</td>\n      <td>1.000000</td>\n    </tr>\n    <tr>\n      <th>6</th>\n      <td>{'C': 100, 'kernel': 'linear'}</td>\n      <td>0.898857</td>\n      <td>1.000000</td>\n    </tr>\n    <tr>\n      <th>7</th>\n      <td>{'C': 1000, 'kernel': 'linear'}</td>\n      <td>0.898857</td>\n      <td>1.000000</td>\n    </tr>\n  </tbody>\n</table>\n</div>"
     },
     "execution_count": 15,
     "metadata": {},
     "output_type": "execute_result"
    }
   ],
   "source": [
    "tuned_svcclsf_lin_results[[\"params\",\"mean_test_score\",\"mean_train_score\"]]"
   ],
   "metadata": {
    "collapsed": false,
    "pycharm": {
     "name": "#%%\n"
    }
   }
  },
  {
   "cell_type": "code",
   "execution_count": 16,
   "outputs": [
    {
     "data": {
      "text/plain": "<AxesSubplot:xlabel='param_C', ylabel='mean_test_score'>"
     },
     "execution_count": 16,
     "metadata": {},
     "output_type": "execute_result"
    },
    {
     "data": {
      "text/plain": "<Figure size 864x576 with 1 Axes>",
      "image/png": "[encoded data removed]"
     },
     "metadata": {},
     "output_type": "display_data"
    }
   ],
   "source": [
    "sns.set(rc={\"figure.figsize\":(12, 8)})\n",
    "sns.lineplot(data=tuned_svcclsf_lin_results, x=\"param_C\", y=\"mean_test_score\")"
   ],
   "metadata": {
    "collapsed": false,
    "pycharm": {
     "name": "#%%\n"
    }
   }
  },
  {
   "cell_type": "code",
   "execution_count": 17,
   "outputs": [
    {
     "name": "stdout",
     "output_type": "stream",
     "text": [
      "SVC(C=0.05, kernel='linear', random_state=28)\n",
      "0.9252857142857142\n"
     ]
    }
   ],
   "source": [
    "print(tuned_svcclsf_lin.best_estimator_)\n",
    "print(tuned_svcclsf_lin.best_score_)"
   ],
   "metadata": {
    "collapsed": false,
    "pycharm": {
     "name": "#%%\n"
    }
   }
  },
  {
   "cell_type": "markdown",
   "source": [
    "## Model Training"
   ],
   "metadata": {
    "collapsed": false,
    "pycharm": {
     "name": "#%% md\n"
    }
   }
  },
  {
   "cell_type": "code",
   "execution_count": 18,
   "outputs": [
    {
     "name": "stdout",
     "output_type": "stream",
     "text": [
      "[CV 1/10] END C=0.01, kernel=linear;, score=(train=0.941, test=0.910) total time=  22.1s\n",
      "[CV 8/10] END C=0.01, kernel=linear;, score=(train=0.940, test=0.907) total time=  19.6s\n",
      "[CV 1/10] END C=0.05, kernel=linear;, score=(train=0.962, test=0.914) total time=  13.7s\n",
      "[CV 3/10] END C=0.05, kernel=linear;, score=(train=0.963, test=0.927) total time=  14.4s\n",
      "[CV 7/10] END C=0.05, kernel=linear;, score=(train=0.963, test=0.933) total time=  14.1s\n",
      "[CV 1/10] END C=0.1, kernel=linear;, score=(train=0.973, test=0.919) total time=  13.7s\n",
      "[CV 5/10] END C=0.1, kernel=linear;, score=(train=0.971, test=0.920) total time=  14.5s\n",
      "[CV 9/10] END C=0.1, kernel=linear;, score=(train=0.972, test=0.920) total time=  13.3s\n",
      "[CV 3/10] END C=0.5, kernel=linear;, score=(train=0.995, test=0.920) total time=  14.8s\n",
      "[CV 7/10] END C=0.5, kernel=linear;, score=(train=0.994, test=0.899) total time=  13.7s\n",
      "[CV 1/10] END C=1, kernel=linear;, score=(train=0.998, test=0.877) total time=  13.4s\n",
      "[CV 5/10] END C=1, kernel=linear;, score=(train=0.999, test=0.901) total time=  13.2s\n",
      "[CV 9/10] END C=1, kernel=linear;, score=(train=0.998, test=0.903) total time=  14.1s\n",
      "[CV 3/10] END C=10, kernel=linear;, score=(train=1.000, test=0.907) total time=  15.3s\n",
      "[CV 7/10] END C=10, kernel=linear;, score=(train=1.000, test=0.896) total time=  14.2s\n",
      "[CV 1/10] END C=100, kernel=linear;, score=(train=1.000, test=0.874) total time=  15.4s\n",
      "[CV 5/10] END C=100, kernel=linear;, score=(train=1.000, test=0.901) total time=  16.3s\n",
      "[CV 9/10] END C=100, kernel=linear;, score=(train=1.000, test=0.897) total time=  14.6s\n",
      "[CV 3/10] END C=1000, kernel=linear;, score=(train=1.000, test=0.907) total time=  14.1s\n",
      "[CV 7/10] END C=1000, kernel=linear;, score=(train=1.000, test=0.896) total time=  13.1s\n",
      "[CV 2/10] END C=0.01, kernel=linear;, score=(train=0.939, test=0.926) total time=  21.6s\n",
      "[CV 6/10] END C=0.01, kernel=linear;, score=(train=0.938, test=0.920) total time=  19.6s\n",
      "[CV 2/10] END C=0.05, kernel=linear;, score=(train=0.964, test=0.926) total time=  13.8s\n",
      "[CV 4/10] END C=0.05, kernel=linear;, score=(train=0.962, test=0.933) total time=  14.3s\n",
      "[CV 8/10] END C=0.05, kernel=linear;, score=(train=0.962, test=0.923) total time=  14.2s\n",
      "[CV 2/10] END C=0.1, kernel=linear;, score=(train=0.972, test=0.927) total time=  13.9s\n",
      "[CV 6/10] END C=0.1, kernel=linear;, score=(train=0.974, test=0.924) total time=  14.7s\n",
      "[CV 10/10] END C=0.1, kernel=linear;, score=(train=0.974, test=0.923) total time=  13.4s\n",
      "[CV 4/10] END C=0.5, kernel=linear;, score=(train=0.994, test=0.907) total time=  14.8s\n",
      "[CV 8/10] END C=0.5, kernel=linear;, score=(train=0.995, test=0.910) total time=  13.4s\n",
      "[CV 2/10] END C=1, kernel=linear;, score=(train=0.999, test=0.894) total time=  13.5s\n",
      "[CV 6/10] END C=1, kernel=linear;, score=(train=0.999, test=0.907) total time=  13.4s\n",
      "[CV 10/10] END C=1, kernel=linear;, score=(train=0.998, test=0.914) total time=  13.8s\n",
      "[CV 4/10] END C=10, kernel=linear;, score=(train=1.000, test=0.899) total time=  15.2s\n",
      "[CV 8/10] END C=10, kernel=linear;, score=(train=1.000, test=0.900) total time=  14.1s\n",
      "[CV 2/10] END C=100, kernel=linear;, score=(train=1.000, test=0.891) total time=  15.0s\n",
      "[CV 6/10] END C=100, kernel=linear;, score=(train=1.000, test=0.910) total time=  16.4s\n",
      "[CV 10/10] END C=100, kernel=linear;, score=(train=1.000, test=0.913) total time=  14.0s\n",
      "[CV 4/10] END C=1000, kernel=linear;, score=(train=1.000, test=0.899) total time=  14.3s\n",
      "[CV 8/10] END C=1000, kernel=linear;, score=(train=1.000, test=0.900) total time=  13.0s\n",
      "[CV 3/10] END C=0.01, kernel=linear;, score=(train=0.940, test=0.921) total time=  21.7s\n",
      "[CV 7/10] END C=0.01, kernel=linear;, score=(train=0.940, test=0.911) total time=  19.6s\n",
      "[CV 10/10] END C=0.01, kernel=linear;, score=(train=0.941, test=0.910) total time=  18.6s\n",
      "[CV 6/10] END C=0.05, kernel=linear;, score=(train=0.963, test=0.926) total time=  14.1s\n",
      "[CV 10/10] END C=0.05, kernel=linear;, score=(train=0.962, test=0.926) total time=  16.4s\n",
      "[CV 4/10] END C=0.1, kernel=linear;, score=(train=0.972, test=0.929) total time=  13.6s\n",
      "[CV 8/10] END C=0.1, kernel=linear;, score=(train=0.972, test=0.924) total time=  13.2s\n",
      "[CV 2/10] END C=0.5, kernel=linear;, score=(train=0.994, test=0.894) total time=  13.7s\n",
      "[CV 6/10] END C=0.5, kernel=linear;, score=(train=0.995, test=0.917) total time=  13.6s\n",
      "[CV 10/10] END C=0.5, kernel=linear;, score=(train=0.995, test=0.919) total time=  13.5s\n",
      "[CV 4/10] END C=1, kernel=linear;, score=(train=0.999, test=0.907) total time=  13.7s\n",
      "[CV 8/10] END C=1, kernel=linear;, score=(train=0.998, test=0.900) total time=  14.6s\n",
      "[CV 2/10] END C=10, kernel=linear;, score=(train=1.000, test=0.891) total time=  14.1s\n",
      "[CV 6/10] END C=10, kernel=linear;, score=(train=1.000, test=0.910) total time=  15.6s\n",
      "[CV 10/10] END C=10, kernel=linear;, score=(train=1.000, test=0.913) total time=  14.2s\n",
      "[CV 4/10] END C=100, kernel=linear;, score=(train=1.000, test=0.899) total time=  15.1s\n",
      "[CV 7/10] END C=100, kernel=linear;, score=(train=1.000, test=0.896) total time=  18.8s\n",
      "[CV 1/10] END C=1000, kernel=linear;, score=(train=1.000, test=0.874) total time=  13.9s\n",
      "[CV 5/10] END C=1000, kernel=linear;, score=(train=1.000, test=0.901) total time=  13.4s\n",
      "[CV 9/10] END C=1000, kernel=linear;, score=(train=1.000, test=0.897) total time=  12.6s\n",
      "[CV 4/10] END C=0.01, kernel=linear;, score=(train=0.935, test=0.937) total time=  21.7s\n",
      "[CV 5/10] END C=0.01, kernel=linear;, score=(train=0.938, test=0.920) total time=  19.5s\n",
      "[CV 9/10] END C=0.01, kernel=linear;, score=(train=0.940, test=0.916) total time=  18.6s\n",
      "[CV 5/10] END C=0.05, kernel=linear;, score=(train=0.962, test=0.926) total time=  13.7s\n",
      "[CV 9/10] END C=0.05, kernel=linear;, score=(train=0.962, test=0.920) total time=  16.6s\n",
      "[CV 3/10] END C=0.1, kernel=linear;, score=(train=0.971, test=0.931) total time=  13.7s\n",
      "[CV 7/10] END C=0.1, kernel=linear;, score=(train=0.973, test=0.923) total time=  13.2s\n",
      "[CV 1/10] END C=0.5, kernel=linear;, score=(train=0.995, test=0.887) total time=  13.4s\n",
      "[CV 5/10] END C=0.5, kernel=linear;, score=(train=0.995, test=0.907) total time=  13.5s\n",
      "[CV 9/10] END C=0.5, kernel=linear;, score=(train=0.995, test=0.900) total time=  13.9s\n",
      "[CV 3/10] END C=1, kernel=linear;, score=(train=0.998, test=0.909) total time=  13.8s\n",
      "[CV 7/10] END C=1, kernel=linear;, score=(train=0.998, test=0.893) total time=  14.5s\n",
      "[CV 1/10] END C=10, kernel=linear;, score=(train=1.000, test=0.874) total time=  14.0s\n",
      "[CV 5/10] END C=10, kernel=linear;, score=(train=1.000, test=0.901) total time=  15.5s\n",
      "[CV 9/10] END C=10, kernel=linear;, score=(train=1.000, test=0.897) total time=  14.7s\n",
      "[CV 3/10] END C=100, kernel=linear;, score=(train=1.000, test=0.907) total time=  15.1s\n",
      "[CV 8/10] END C=100, kernel=linear;, score=(train=1.000, test=0.900) total time=  18.9s\n",
      "[CV 2/10] END C=1000, kernel=linear;, score=(train=1.000, test=0.891) total time=  14.1s\n",
      "[CV 6/10] END C=1000, kernel=linear;, score=(train=1.000, test=0.910) total time=  13.6s\n",
      "[CV 10/10] END C=1000, kernel=linear;, score=(train=1.000, test=0.913) total time=  12.3s\n"
     ]
    },
    {
     "name": "stderr",
     "output_type": "stream",
     "text": [
      "2022-12-28 15:23:58.233 | INFO     | __main__:<module>:5 - Training: - 352.0582478046417 seconds -\n"
     ]
    }
   ],
   "source": [
    "# best parameters from automatic parameters tuning\n",
    "start_time = time.time()\n",
    "svc_lin_clsf = SVC(**tuned_svcclsf_lin.best_params_)\n",
    "svc_lin_clsf.fit(data_split.x_train, data_split.y_train)\n",
    "logger.info(\"Training: - %s seconds -\" % (time.time() - start_time))"
   ],
   "metadata": {
    "collapsed": false,
    "pycharm": {
     "name": "#%%\n"
    }
   }
  },
  {
   "cell_type": "markdown",
   "source": [
    "# Performance"
   ],
   "metadata": {
    "collapsed": false,
    "pycharm": {
     "name": "#%% md\n"
    }
   }
  },
  {
   "cell_type": "code",
   "execution_count": 22,
   "outputs": [
    {
     "name": "stderr",
     "output_type": "stream",
     "text": [
      "2022-12-28 15:29:42.843 | INFO     | __main__:<module>:3 - Prediction: - 153.135657787323 seconds -\n"
     ]
    }
   ],
   "source": [
    "start_time = time.time()\n",
    "svc_lin_test_pred = svc_lin_clsf.predict(data_split.x_test)\n",
    "logger.info(\"Prediction: - %s seconds -\" % (time.time() - start_time))\n",
    "svc_lin_test_eval = eva.Evaluation(y_true=data_split.y_test, y_pred=svc_lin_test_pred)"
   ],
   "metadata": {
    "collapsed": false,
    "pycharm": {
     "name": "#%%\n"
    }
   }
  },
  {
   "cell_type": "code",
   "execution_count": 23,
   "outputs": [
    {
     "name": "stdout",
     "output_type": "stream",
     "text": [
      "Testing:\n",
      "-----Model Evaluations:-----\n",
      "Accuracy score: 0.9407\n"
     ]
    }
   ],
   "source": [
    "print(\"Testing:\")\n",
    "svc_lin_test_eval.acc_eval()"
   ],
   "metadata": {
    "collapsed": false,
    "pycharm": {
     "name": "#%%\n"
    }
   }
  },
  {
   "cell_type": "code",
   "execution_count": 24,
   "outputs": [],
   "source": [
    "# save the model and evaluations\n",
    "svc_lin_model = eva.EvaluatedModel(svc_lin_clsf, \"svclinear\", test_eval=svc_lin_test_eval)\n",
    "svc_lin_model.save_evaluation()"
   ],
   "metadata": {
    "collapsed": false,
    "pycharm": {
     "name": "#%%\n"
    }
   }
  },
  {
   "cell_type": "code",
   "execution_count": 25,
   "outputs": [],
   "source": [
    "# load the previously saved model and evaluations\n",
    "svc_lin_model = eva.EvaluatedModel.load_evaluation(\"svclinear\")"
   ],
   "metadata": {
    "collapsed": false,
    "pycharm": {
     "name": "#%%\n"
    }
   }
  },
  {
   "cell_type": "markdown",
   "source": [
    "### Confusion Matrix"
   ],
   "metadata": {
    "collapsed": false,
    "pycharm": {
     "name": "#%% md\n"
    }
   }
  },
  {
   "cell_type": "code",
   "execution_count": 26,
   "outputs": [
    {
     "data": {
      "text/plain": "<Figure size 864x576 with 2 Axes>",
      "image/png": "[encoded data removed]"
     },
     "metadata": {},
     "output_type": "display_data"
    }
   ],
   "source": [
    "svc_lin_model.test_eval.conf_mat()"
   ],
   "metadata": {
    "collapsed": false,
    "pycharm": {
     "name": "#%%\n"
    }
   }
  },
  {
   "cell_type": "markdown",
   "source": [],
   "metadata": {
    "collapsed": false,
    "pycharm": {
     "name": "#%% md\n"
    }
   }
  },
  {
   "cell_type": "markdown",
   "source": [
    "## SVM using Polynomial of degree 2 kernel"
   ],
   "metadata": {
    "collapsed": false,
    "pycharm": {
     "name": "#%% md\n"
    }
   }
  },
  {
   "cell_type": "code",
   "execution_count": 27,
   "outputs": [
    {
     "name": "stdout",
     "output_type": "stream",
     "text": [
      "Fitting 10 folds for each of 24 candidates, totalling 240 fits\n"
     ]
    },
    {
     "name": "stderr",
     "output_type": "stream",
     "text": [
      "2022-12-28 16:22:49.569 | INFO     | src.utilities.model_selection:model_selector:26 - --- 3139.978579044342 seconds ---\n"
     ]
    }
   ],
   "source": [
    "# automatic parameters tuning\n",
    "svcclsf_pol=SVC(random_state=28)\n",
    "properties_pol={\n",
    "    \"C\": [0.01,0.05,0.1,0.5,1,10,100,1000], # soft to hard margin\n",
    "    \"kernel\": [\"poly\"],\n",
    "    \"degree\": [2],\n",
    "    \"gamma\": [\"auto\",0.1,1]\n",
    "}\n",
    "\n",
    "tuned_svcclsf_pol = ms.model_selector(estimator=svcclsf_pol,properties=properties_pol,scoring=\"accuracy\",cv=10,verbose=5,jobs=4,\n",
    "                                       x_train=x_data_small,y_train=y_data_small)"
   ],
   "metadata": {
    "collapsed": false,
    "pycharm": {
     "name": "#%%\n"
    }
   }
  },
  {
   "cell_type": "code",
   "execution_count": 28,
   "outputs": [],
   "source": [
    "# # save results\n",
    "ms.save_model(model=tuned_svcclsf_pol, model_name=\"svc_polynomial_tuning_results\")"
   ],
   "metadata": {
    "collapsed": false,
    "pycharm": {
     "name": "#%%\n"
    }
   }
  },
  {
   "cell_type": "code",
   "execution_count": 29,
   "outputs": [],
   "source": [
    "# to load previously saved results\n",
    "tuned_svcclsf_pol = ms.load_model(\"svc_polynomial_tuning_results\")"
   ],
   "metadata": {
    "collapsed": false,
    "pycharm": {
     "name": "#%%\n"
    }
   }
  },
  {
   "cell_type": "code",
   "execution_count": 30,
   "outputs": [
    {
     "name": "stderr",
     "output_type": "stream",
     "text": [
      "2022-12-28 16:22:50.150 | INFO     | __main__:<module>:1 - {'mean_fit_time': array([108.68161509,  17.64556077,  11.95278068,  90.94101009,\n",
      "        12.32280815,   9.21557672,  61.2894345 ,   6.74899387,\n",
      "         6.42313597,  46.15524747,   7.08609786,   7.48545101,\n",
      "        65.02509017,  10.88244655,   8.84859962,  29.23068864,\n",
      "        10.38350382,  12.00168743,  12.31524167,  10.30479732,\n",
      "        13.08697295,  10.43576758,  11.41010773,  10.64039567]), 'std_fit_time': array([ 6.341678  ,  1.4115051 ,  0.37807163,  1.85188591,  0.12823129,\n",
      "        0.50949783, 13.86872477,  0.44694404,  0.38844052,  1.87693895,\n",
      "        0.41839073,  1.36202846, 11.44603731,  1.32839377,  0.46085598,\n",
      "        7.88121356,  1.94438213,  2.49451667,  2.46582816,  1.2028128 ,\n",
      "        2.80179354,  1.79253103,  1.82319103,  1.74654779]), 'mean_score_time': array([8.25746455, 2.60687985, 1.90353072, 7.35383396, 2.02327919,\n",
      "       1.41452296, 5.08095677, 1.0883451 , 1.01701217, 4.37871139,\n",
      "       1.30187793, 1.34071426, 6.44534392, 1.58242462, 1.72634208,\n",
      "       4.42883379, 1.91710515, 1.72878556, 2.18883588, 1.74210575,\n",
      "       1.94804132, 1.62313375, 1.88716011, 1.67159295]), 'std_score_time': array([0.442703  , 0.18952122, 0.08170251, 0.79319257, 0.25442421,\n",
      "       0.06349428, 1.21597803, 0.09489534, 0.05876263, 0.30691913,\n",
      "       0.34698204, 0.43110077, 0.74968204, 0.19946723, 0.53079314,\n",
      "       1.41651561, 0.74760241, 0.41775059, 0.53746185, 0.42456107,\n",
      "       0.42659737, 0.37595392, 0.57987857, 0.4290151 ]), 'param_C': masked_array(data=[0.01, 0.01, 0.01, 0.05, 0.05, 0.05, 0.1, 0.1, 0.1, 0.5,\n",
      "                   0.5, 0.5, 1, 1, 1, 10, 10, 10, 100, 100, 100, 1000,\n",
      "                   1000, 1000],\n",
      "             mask=[False, False, False, False, False, False, False, False,\n",
      "                   False, False, False, False, False, False, False, False,\n",
      "                   False, False, False, False, False, False, False, False],\n",
      "       fill_value='?',\n",
      "            dtype=object), 'param_degree': masked_array(data=[2, 2, 2, 2, 2, 2, 2, 2, 2, 2, 2, 2, 2, 2, 2, 2, 2, 2,\n",
      "                   2, 2, 2, 2, 2, 2],\n",
      "             mask=[False, False, False, False, False, False, False, False,\n",
      "                   False, False, False, False, False, False, False, False,\n",
      "                   False, False, False, False, False, False, False, False],\n",
      "       fill_value='?',\n",
      "            dtype=object), 'param_gamma': masked_array(data=['auto', 0.1, 1, 'auto', 0.1, 1, 'auto', 0.1, 1, 'auto',\n",
      "                   0.1, 1, 'auto', 0.1, 1, 'auto', 0.1, 1, 'auto', 0.1, 1,\n",
      "                   'auto', 0.1, 1],\n",
      "             mask=[False, False, False, False, False, False, False, False,\n",
      "                   False, False, False, False, False, False, False, False,\n",
      "                   False, False, False, False, False, False, False, False],\n",
      "       fill_value='?',\n",
      "            dtype=object), 'param_kernel': masked_array(data=['poly', 'poly', 'poly', 'poly', 'poly', 'poly', 'poly',\n",
      "                   'poly', 'poly', 'poly', 'poly', 'poly', 'poly', 'poly',\n",
      "                   'poly', 'poly', 'poly', 'poly', 'poly', 'poly', 'poly',\n",
      "                   'poly', 'poly', 'poly'],\n",
      "             mask=[False, False, False, False, False, False, False, False,\n",
      "                   False, False, False, False, False, False, False, False,\n",
      "                   False, False, False, False, False, False, False, False],\n",
      "       fill_value='?',\n",
      "            dtype=object), 'params': [{'C': 0.01, 'degree': 2, 'gamma': 'auto', 'kernel': 'poly'}, {'C': 0.01, 'degree': 2, 'gamma': 0.1, 'kernel': 'poly'}, {'C': 0.01, 'degree': 2, 'gamma': 1, 'kernel': 'poly'}, {'C': 0.05, 'degree': 2, 'gamma': 'auto', 'kernel': 'poly'}, {'C': 0.05, 'degree': 2, 'gamma': 0.1, 'kernel': 'poly'}, {'C': 0.05, 'degree': 2, 'gamma': 1, 'kernel': 'poly'}, {'C': 0.1, 'degree': 2, 'gamma': 'auto', 'kernel': 'poly'}, {'C': 0.1, 'degree': 2, 'gamma': 0.1, 'kernel': 'poly'}, {'C': 0.1, 'degree': 2, 'gamma': 1, 'kernel': 'poly'}, {'C': 0.5, 'degree': 2, 'gamma': 'auto', 'kernel': 'poly'}, {'C': 0.5, 'degree': 2, 'gamma': 0.1, 'kernel': 'poly'}, {'C': 0.5, 'degree': 2, 'gamma': 1, 'kernel': 'poly'}, {'C': 1, 'degree': 2, 'gamma': 'auto', 'kernel': 'poly'}, {'C': 1, 'degree': 2, 'gamma': 0.1, 'kernel': 'poly'}, {'C': 1, 'degree': 2, 'gamma': 1, 'kernel': 'poly'}, {'C': 10, 'degree': 2, 'gamma': 'auto', 'kernel': 'poly'}, {'C': 10, 'degree': 2, 'gamma': 0.1, 'kernel': 'poly'}, {'C': 10, 'degree': 2, 'gamma': 1, 'kernel': 'poly'}, {'C': 100, 'degree': 2, 'gamma': 'auto', 'kernel': 'poly'}, {'C': 100, 'degree': 2, 'gamma': 0.1, 'kernel': 'poly'}, {'C': 100, 'degree': 2, 'gamma': 1, 'kernel': 'poly'}, {'C': 1000, 'degree': 2, 'gamma': 'auto', 'kernel': 'poly'}, {'C': 1000, 'degree': 2, 'gamma': 0.1, 'kernel': 'poly'}, {'C': 1000, 'degree': 2, 'gamma': 1, 'kernel': 'poly'}], 'split0_test_score': array([0.33571429, 0.94      , 0.94428571, 0.33571429, 0.94571429,\n",
      "       0.94428571, 0.33571429, 0.94285714, 0.94428571, 0.57      ,\n",
      "       0.94428571, 0.94428571, 0.73      , 0.94428571, 0.94428571,\n",
      "       0.89285714, 0.94428571, 0.94428571, 0.94285714, 0.94428571,\n",
      "       0.94428571, 0.94285714, 0.94428571, 0.94428571]), 'split1_test_score': array([0.36571429, 0.94857143, 0.95571429, 0.36571429, 0.95857143,\n",
      "       0.95571429, 0.36571429, 0.95571429, 0.95571429, 0.57      ,\n",
      "       0.95571429, 0.95571429, 0.72714286, 0.95571429, 0.95571429,\n",
      "       0.91142857, 0.95571429, 0.95571429, 0.95      , 0.95571429,\n",
      "       0.95571429, 0.95142857, 0.95571429, 0.95571429]), 'split2_test_score': array([0.32857143, 0.94142857, 0.95142857, 0.32857143, 0.95142857,\n",
      "       0.95142857, 0.32857143, 0.95714286, 0.95142857, 0.57      ,\n",
      "       0.95142857, 0.95142857, 0.73857143, 0.95142857, 0.95142857,\n",
      "       0.90285714, 0.95142857, 0.95142857, 0.95285714, 0.95142857,\n",
      "       0.95142857, 0.95571429, 0.95142857, 0.95142857]), 'split3_test_score': array([0.34142857, 0.95285714, 0.95714286, 0.34142857, 0.95285714,\n",
      "       0.95714286, 0.34142857, 0.95428571, 0.95714286, 0.56571429,\n",
      "       0.95714286, 0.95714286, 0.72      , 0.95714286, 0.95714286,\n",
      "       0.90571429, 0.95714286, 0.95714286, 0.95285714, 0.95714286,\n",
      "       0.95714286, 0.95428571, 0.95714286, 0.95714286]), 'split4_test_score': array([0.32571429, 0.94714286, 0.94857143, 0.32571429, 0.95428571,\n",
      "       0.94857143, 0.32571429, 0.95428571, 0.94857143, 0.53428571,\n",
      "       0.94857143, 0.94857143, 0.69428571, 0.94857143, 0.94857143,\n",
      "       0.90571429, 0.94857143, 0.94857143, 0.94857143, 0.94857143,\n",
      "       0.94857143, 0.95      , 0.94857143, 0.94857143]), 'split5_test_score': array([0.32714286, 0.94142857, 0.94857143, 0.32714286, 0.94857143,\n",
      "       0.94857143, 0.32714286, 0.94857143, 0.94857143, 0.59      ,\n",
      "       0.94857143, 0.94857143, 0.75285714, 0.94857143, 0.94857143,\n",
      "       0.90571429, 0.94857143, 0.94857143, 0.94571429, 0.94857143,\n",
      "       0.94857143, 0.95      , 0.94857143, 0.94857143]), 'split6_test_score': array([0.35285714, 0.94142857, 0.94571429, 0.35285714, 0.94285714,\n",
      "       0.94571429, 0.35285714, 0.94571429, 0.94571429, 0.57857143,\n",
      "       0.94571429, 0.94571429, 0.74428571, 0.94571429, 0.94571429,\n",
      "       0.90142857, 0.94571429, 0.94571429, 0.94142857, 0.94571429,\n",
      "       0.94571429, 0.94571429, 0.94571429, 0.94571429]), 'split7_test_score': array([0.33285714, 0.93857143, 0.94571429, 0.33285714, 0.94428571,\n",
      "       0.94571429, 0.33285714, 0.94714286, 0.94571429, 0.56285714,\n",
      "       0.94571429, 0.94571429, 0.72714286, 0.94571429, 0.94571429,\n",
      "       0.89428571, 0.94571429, 0.94571429, 0.94142857, 0.94571429,\n",
      "       0.94571429, 0.94714286, 0.94571429, 0.94571429]), 'split8_test_score': array([0.35714286, 0.94714286, 0.95285714, 0.35714286, 0.95      ,\n",
      "       0.95285714, 0.35714286, 0.95428571, 0.95285714, 0.59714286,\n",
      "       0.95285714, 0.95285714, 0.74142857, 0.95285714, 0.95285714,\n",
      "       0.92142857, 0.95285714, 0.95285714, 0.95285714, 0.95285714,\n",
      "       0.95285714, 0.95285714, 0.95285714, 0.95285714]), 'split9_test_score': array([0.37857143, 0.94142857, 0.95428571, 0.37857143, 0.95428571,\n",
      "       0.95428571, 0.37857143, 0.95285714, 0.95428571, 0.61571429,\n",
      "       0.95428571, 0.95428571, 0.74857143, 0.95428571, 0.95428571,\n",
      "       0.91571429, 0.95428571, 0.95428571, 0.94714286, 0.95428571,\n",
      "       0.95428571, 0.95285714, 0.95428571, 0.95428571]), 'mean_test_score': array([0.34457143, 0.944     , 0.95042857, 0.34457143, 0.95028571,\n",
      "       0.95042857, 0.34457143, 0.95128571, 0.95042857, 0.57542857,\n",
      "       0.95042857, 0.95042857, 0.73242857, 0.95042857, 0.95042857,\n",
      "       0.90571429, 0.95042857, 0.95042857, 0.94757143, 0.95042857,\n",
      "       0.95042857, 0.95028571, 0.95042857, 0.95042857]), 'std_test_score': array([0.01723546, 0.00437059, 0.00428809, 0.01723546, 0.00472941,\n",
      "       0.00428809, 0.01723546, 0.00458258, 0.00428809, 0.02085714,\n",
      "       0.00428809, 0.00428809, 0.01615044, 0.00428809, 0.00428809,\n",
      "       0.00837879, 0.00428809, 0.00428809, 0.00438225, 0.00428809,\n",
      "       0.00428809, 0.0038226 , 0.00428809, 0.00428809]), 'rank_test_score': array([22, 18,  2, 22, 16,  2, 22,  1,  2, 21,  2,  2, 20,  2,  2, 19,  2,\n",
      "        2, 17,  2,  2, 15,  2,  2], dtype=int32), 'split0_train_score': array([0.34984127, 0.9668254 , 1.        , 0.34984127, 0.99634921,\n",
      "       1.        , 0.34984127, 0.99952381, 1.        , 0.58095238,\n",
      "       1.        , 1.        , 0.73968254, 1.        , 1.        ,\n",
      "       0.92      , 1.        , 1.        , 0.97698413, 1.        ,\n",
      "       1.        , 0.99984127, 1.        , 1.        ]), 'split1_train_score': array([0.35539683, 0.96698413, 1.        , 0.35539683, 0.99539683,\n",
      "       1.        , 0.35539683, 0.99936508, 1.        , 0.58571429,\n",
      "       1.        , 1.        , 0.74349206, 1.        , 1.        ,\n",
      "       0.91809524, 1.        , 1.        , 0.97873016, 1.        ,\n",
      "       1.        , 0.99984127, 1.        , 1.        ]), 'split2_train_score': array([0.34809524, 0.96698413, 1.        , 0.34809524, 0.99507937,\n",
      "       1.        , 0.34809524, 0.99936508, 1.        , 0.57460317,\n",
      "       1.        , 1.        , 0.73507937, 1.        , 1.        ,\n",
      "       0.92111111, 1.        , 1.        , 0.97746032, 1.        ,\n",
      "       1.        , 0.99984127, 1.        , 1.        ]), 'split3_train_score': array([0.34396825, 0.96666667, 1.        , 0.34396825, 0.99603175,\n",
      "       1.        , 0.34396825, 0.99936508, 1.        , 0.58174603,\n",
      "       1.        , 1.        , 0.73809524, 1.        , 1.        ,\n",
      "       0.91825397, 1.        , 1.        , 0.97746032, 1.        ,\n",
      "       1.        , 0.99968254, 1.        , 1.        ]), 'split4_train_score': array([0.34269841, 0.96698413, 1.        , 0.34269841, 0.99587302,\n",
      "       1.        , 0.34269841, 0.99952381, 1.        , 0.58587302,\n",
      "       1.        , 1.        , 0.74111111, 1.        , 1.        ,\n",
      "       0.91777778, 1.        , 1.        , 0.97809524, 1.        ,\n",
      "       1.        , 0.99984127, 1.        , 1.        ]), 'split5_train_score': array([0.34365079, 0.9684127 , 1.        , 0.34365079, 0.99571429,\n",
      "       1.        , 0.34365079, 0.99968254, 1.        , 0.58126984,\n",
      "       1.        , 1.        , 0.73539683, 1.        , 1.        ,\n",
      "       0.91904762, 1.        , 1.        , 0.97793651, 1.        ,\n",
      "       1.        , 0.99984127, 1.        , 1.        ]), 'split6_train_score': array([0.34873016, 0.96793651, 1.        , 0.34873016, 0.99555556,\n",
      "       1.        , 0.34873016, 0.99920635, 1.        , 0.58714286,\n",
      "       1.        , 1.        , 0.74079365, 1.        , 1.        ,\n",
      "       0.91761905, 1.        , 1.        , 0.97761905, 1.        ,\n",
      "       1.        , 0.99984127, 1.        , 1.        ]), 'split7_train_score': array([0.34063492, 0.96793651, 1.        , 0.34063492, 0.99555556,\n",
      "       1.        , 0.34063492, 0.99936508, 1.        , 0.57746032,\n",
      "       1.        , 1.        , 0.73746032, 1.        , 1.        ,\n",
      "       0.91714286, 1.        , 1.        , 0.97825397, 1.        ,\n",
      "       1.        , 0.99984127, 1.        , 1.        ]), 'split8_train_score': array([0.35444444, 0.96793651, 1.        , 0.35444444, 0.99603175,\n",
      "       1.        , 0.35444444, 0.99952381, 1.        , 0.5852381 ,\n",
      "       1.        , 1.        , 0.73952381, 1.        , 1.        ,\n",
      "       0.91714286, 1.        , 1.        , 0.97873016, 1.        ,\n",
      "       1.        , 0.99984127, 1.        , 1.        ]), 'split9_train_score': array([0.33857143, 0.96809524, 1.        , 0.33857143, 0.99650794,\n",
      "       1.        , 0.33857143, 0.99952381, 1.        , 0.57603175,\n",
      "       1.        , 1.        , 0.73809524, 1.        , 1.        ,\n",
      "       0.91888889, 1.        , 1.        , 0.97857143, 1.        ,\n",
      "       1.        , 1.        , 1.        , 1.        ]), 'mean_train_score': array([0.34660317, 0.96747619, 1.        , 0.34660317, 0.99580952,\n",
      "       1.        , 0.34660317, 0.99944444, 1.        , 0.58160317,\n",
      "       1.        , 1.        , 0.73887302, 1.        , 1.        ,\n",
      "       0.91850794, 1.        , 1.        , 0.97798413, 1.        ,\n",
      "       1.        , 0.99984127, 1.        , 1.        ]), 'std_train_score': array([5.35803050e-03, 6.08373584e-04, 0.00000000e+00, 5.35803050e-03,\n",
      "       4.15133233e-04, 0.00000000e+00, 5.35803050e-03, 1.27972345e-04,\n",
      "       0.00000000e+00, 4.20467172e-03, 0.00000000e+00, 0.00000000e+00,\n",
      "       2.46563685e-03, 0.00000000e+00, 0.00000000e+00, 1.21342951e-03,\n",
      "       0.00000000e+00, 0.00000000e+00, 5.68112069e-04, 0.00000000e+00,\n",
      "       0.00000000e+00, 7.09862850e-05, 0.00000000e+00, 0.00000000e+00])}\n"
     ]
    }
   ],
   "source": [
    "logger.info(tuned_svcclsf_pol.cv_results_)\n",
    "tuned_svcclsf_pol_results = pd.DataFrame( tuned_svcclsf_pol.cv_results_ )"
   ],
   "metadata": {
    "collapsed": false,
    "pycharm": {
     "name": "#%%\n"
    }
   }
  },
  {
   "cell_type": "code",
   "execution_count": 31,
   "outputs": [
    {
     "data": {
      "text/plain": "                                               params  mean_test_score  \\\n0   {'C': 0.01, 'degree': 2, 'gamma': 'auto', 'ker...         0.344571   \n1   {'C': 0.01, 'degree': 2, 'gamma': 0.1, 'kernel...         0.944000   \n2   {'C': 0.01, 'degree': 2, 'gamma': 1, 'kernel':...         0.950429   \n3   {'C': 0.05, 'degree': 2, 'gamma': 'auto', 'ker...         0.344571   \n4   {'C': 0.05, 'degree': 2, 'gamma': 0.1, 'kernel...         0.950286   \n5   {'C': 0.05, 'degree': 2, 'gamma': 1, 'kernel':...         0.950429   \n6   {'C': 0.1, 'degree': 2, 'gamma': 'auto', 'kern...         0.344571   \n7   {'C': 0.1, 'degree': 2, 'gamma': 0.1, 'kernel'...         0.951286   \n8   {'C': 0.1, 'degree': 2, 'gamma': 1, 'kernel': ...         0.950429   \n9   {'C': 0.5, 'degree': 2, 'gamma': 'auto', 'kern...         0.575429   \n10  {'C': 0.5, 'degree': 2, 'gamma': 0.1, 'kernel'...         0.950429   \n11  {'C': 0.5, 'degree': 2, 'gamma': 1, 'kernel': ...         0.950429   \n12  {'C': 1, 'degree': 2, 'gamma': 'auto', 'kernel...         0.732429   \n13  {'C': 1, 'degree': 2, 'gamma': 0.1, 'kernel': ...         0.950429   \n14  {'C': 1, 'degree': 2, 'gamma': 1, 'kernel': 'p...         0.950429   \n15  {'C': 10, 'degree': 2, 'gamma': 'auto', 'kerne...         0.905714   \n16  {'C': 10, 'degree': 2, 'gamma': 0.1, 'kernel':...         0.950429   \n17  {'C': 10, 'degree': 2, 'gamma': 1, 'kernel': '...         0.950429   \n18  {'C': 100, 'degree': 2, 'gamma': 'auto', 'kern...         0.947571   \n19  {'C': 100, 'degree': 2, 'gamma': 0.1, 'kernel'...         0.950429   \n20  {'C': 100, 'degree': 2, 'gamma': 1, 'kernel': ...         0.950429   \n21  {'C': 1000, 'degree': 2, 'gamma': 'auto', 'ker...         0.950286   \n22  {'C': 1000, 'degree': 2, 'gamma': 0.1, 'kernel...         0.950429   \n23  {'C': 1000, 'degree': 2, 'gamma': 1, 'kernel':...         0.950429   \n\n    mean_train_score  \n0           0.346603  \n1           0.967476  \n2           1.000000  \n3           0.346603  \n4           0.995810  \n5           1.000000  \n6           0.346603  \n7           0.999444  \n8           1.000000  \n9           0.581603  \n10          1.000000  \n11          1.000000  \n12          0.738873  \n13          1.000000  \n14          1.000000  \n15          0.918508  \n16          1.000000  \n17          1.000000  \n18          0.977984  \n19          1.000000  \n20          1.000000  \n21          0.999841  \n22          1.000000  \n23          1.000000  ",
      "text/html": "<div>\n<style scoped>\n    .dataframe tbody tr th:only-of-type {\n        vertical-align: middle;\n    }\n\n    .dataframe tbody tr th {\n        vertical-align: top;\n    }\n\n    .dataframe thead th {\n        text-align: right;\n    }\n</style>\n<table border=\"1\" class=\"dataframe\">\n  <thead>\n    <tr style=\"text-align: right;\">\n      <th></th>\n      <th>params</th>\n      <th>mean_test_score</th>\n      <th>mean_train_score</th>\n    </tr>\n  </thead>\n  <tbody>\n    <tr>\n      <th>0</th>\n      <td>{'C': 0.01, 'degree': 2, 'gamma': 'auto', 'ker...</td>\n      <td>0.344571</td>\n      <td>0.346603</td>\n    </tr>\n    <tr>\n      <th>1</th>\n      <td>{'C': 0.01, 'degree': 2, 'gamma': 0.1, 'kernel...</td>\n      <td>0.944000</td>\n      <td>0.967476</td>\n    </tr>\n    <tr>\n      <th>2</th>\n      <td>{'C': 0.01, 'degree': 2, 'gamma': 1, 'kernel':...</td>\n      <td>0.950429</td>\n      <td>1.000000</td>\n    </tr>\n    <tr>\n      <th>3</th>\n      <td>{'C': 0.05, 'degree': 2, 'gamma': 'auto', 'ker...</td>\n      <td>0.344571</td>\n      <td>0.346603</td>\n    </tr>\n    <tr>\n      <th>4</th>\n      <td>{'C': 0.05, 'degree': 2, 'gamma': 0.1, 'kernel...</td>\n      <td>0.950286</td>\n      <td>0.995810</td>\n    </tr>\n    <tr>\n      <th>5</th>\n      <td>{'C': 0.05, 'degree': 2, 'gamma': 1, 'kernel':...</td>\n      <td>0.950429</td>\n      <td>1.000000</td>\n    </tr>\n    <tr>\n      <th>6</th>\n      <td>{'C': 0.1, 'degree': 2, 'gamma': 'auto', 'kern...</td>\n      <td>0.344571</td>\n      <td>0.346603</td>\n    </tr>\n    <tr>\n      <th>7</th>\n      <td>{'C': 0.1, 'degree': 2, 'gamma': 0.1, 'kernel'...</td>\n      <td>0.951286</td>\n      <td>0.999444</td>\n    </tr>\n    <tr>\n      <th>8</th>\n      <td>{'C': 0.1, 'degree': 2, 'gamma': 1, 'kernel': ...</td>\n      <td>0.950429</td>\n      <td>1.000000</td>\n    </tr>\n    <tr>\n      <th>9</th>\n      <td>{'C': 0.5, 'degree': 2, 'gamma': 'auto', 'kern...</td>\n      <td>0.575429</td>\n      <td>0.581603</td>\n    </tr>\n    <tr>\n      <th>10</th>\n      <td>{'C': 0.5, 'degree': 2, 'gamma': 0.1, 'kernel'...</td>\n      <td>0.950429</td>\n      <td>1.000000</td>\n    </tr>\n    <tr>\n      <th>11</th>\n      <td>{'C': 0.5, 'degree': 2, 'gamma': 1, 'kernel': ...</td>\n      <td>0.950429</td>\n      <td>1.000000</td>\n    </tr>\n    <tr>\n      <th>12</th>\n      <td>{'C': 1, 'degree': 2, 'gamma': 'auto', 'kernel...</td>\n      <td>0.732429</td>\n      <td>0.738873</td>\n    </tr>\n    <tr>\n      <th>13</th>\n      <td>{'C': 1, 'degree': 2, 'gamma': 0.1, 'kernel': ...</td>\n      <td>0.950429</td>\n      <td>1.000000</td>\n    </tr>\n    <tr>\n      <th>14</th>\n      <td>{'C': 1, 'degree': 2, 'gamma': 1, 'kernel': 'p...</td>\n      <td>0.950429</td>\n      <td>1.000000</td>\n    </tr>\n    <tr>\n      <th>15</th>\n      <td>{'C': 10, 'degree': 2, 'gamma': 'auto', 'kerne...</td>\n      <td>0.905714</td>\n      <td>0.918508</td>\n    </tr>\n    <tr>\n      <th>16</th>\n      <td>{'C': 10, 'degree': 2, 'gamma': 0.1, 'kernel':...</td>\n      <td>0.950429</td>\n      <td>1.000000</td>\n    </tr>\n    <tr>\n      <th>17</th>\n      <td>{'C': 10, 'degree': 2, 'gamma': 1, 'kernel': '...</td>\n      <td>0.950429</td>\n      <td>1.000000</td>\n    </tr>\n    <tr>\n      <th>18</th>\n      <td>{'C': 100, 'degree': 2, 'gamma': 'auto', 'kern...</td>\n      <td>0.947571</td>\n      <td>0.977984</td>\n    </tr>\n    <tr>\n      <th>19</th>\n      <td>{'C': 100, 'degree': 2, 'gamma': 0.1, 'kernel'...</td>\n      <td>0.950429</td>\n      <td>1.000000</td>\n    </tr>\n    <tr>\n      <th>20</th>\n      <td>{'C': 100, 'degree': 2, 'gamma': 1, 'kernel': ...</td>\n      <td>0.950429</td>\n      <td>1.000000</td>\n    </tr>\n    <tr>\n      <th>21</th>\n      <td>{'C': 1000, 'degree': 2, 'gamma': 'auto', 'ker...</td>\n      <td>0.950286</td>\n      <td>0.999841</td>\n    </tr>\n    <tr>\n      <th>22</th>\n      <td>{'C': 1000, 'degree': 2, 'gamma': 0.1, 'kernel...</td>\n      <td>0.950429</td>\n      <td>1.000000</td>\n    </tr>\n    <tr>\n      <th>23</th>\n      <td>{'C': 1000, 'degree': 2, 'gamma': 1, 'kernel':...</td>\n      <td>0.950429</td>\n      <td>1.000000</td>\n    </tr>\n  </tbody>\n</table>\n</div>"
     },
     "execution_count": 31,
     "metadata": {},
     "output_type": "execute_result"
    }
   ],
   "source": [
    "tuned_svcclsf_pol_results[[\"params\",\"mean_test_score\",\"mean_train_score\"]]"
   ],
   "metadata": {
    "collapsed": false,
    "pycharm": {
     "name": "#%%\n"
    }
   }
  },
  {
   "cell_type": "code",
   "execution_count": 32,
   "outputs": [
    {
     "data": {
      "text/plain": "<AxesSubplot:xlabel='param_C', ylabel='mean_test_score'>"
     },
     "execution_count": 32,
     "metadata": {},
     "output_type": "execute_result"
    },
    {
     "data": {
      "text/plain": "<Figure size 864x576 with 1 Axes>",
      "image/png": "[encoded data removed]"
     },
     "metadata": {},
     "output_type": "display_data"
    }
   ],
   "source": [
    "sns.set(rc={\"figure.figsize\":(12, 8)})\n",
    "sns.lineplot(data=tuned_svcclsf_pol_results, x=\"param_C\", y=\"mean_test_score\")"
   ],
   "metadata": {
    "collapsed": false,
    "pycharm": {
     "name": "#%%\n"
    }
   }
  },
  {
   "cell_type": "code",
   "execution_count": 55,
   "outputs": [
    {
     "name": "stdout",
     "output_type": "stream",
     "text": [
      "SVC(C=0.1, degree=2, gamma=0.1, kernel='poly', random_state=28)\n",
      "0.9512857142857143\n"
     ]
    }
   ],
   "source": [
    "print(tuned_svcclsf_pol.best_estimator_)\n",
    "print(tuned_svcclsf_pol.best_score_)"
   ],
   "metadata": {
    "collapsed": false,
    "pycharm": {
     "name": "#%%\n"
    }
   }
  },
  {
   "cell_type": "markdown",
   "source": [
    "## Model Training"
   ],
   "metadata": {
    "collapsed": false,
    "pycharm": {
     "name": "#%% md\n"
    }
   }
  },
  {
   "cell_type": "code",
   "execution_count": 34,
   "outputs": [
    {
     "name": "stderr",
     "output_type": "stream",
     "text": [
      "2022-12-28 16:25:30.924 | INFO     | __main__:<module>:5 - Training: - 159.4725148677826 seconds -\n"
     ]
    }
   ],
   "source": [
    "# best parameters from automatic parameters tuning\n",
    "start_time = time.time()\n",
    "svc_pol_clsf = SVC(**tuned_svcclsf_pol.best_params_)\n",
    "svc_pol_clsf.fit(data_split.x_train, data_split.y_train)\n",
    "logger.info(\"Training: - %s seconds -\" % (time.time() - start_time))"
   ],
   "metadata": {
    "collapsed": false,
    "pycharm": {
     "name": "#%%\n"
    }
   }
  },
  {
   "cell_type": "markdown",
   "source": [
    "# Performance"
   ],
   "metadata": {
    "collapsed": false,
    "pycharm": {
     "name": "#%% md\n"
    }
   }
  },
  {
   "cell_type": "code",
   "execution_count": 35,
   "outputs": [
    {
     "name": "stderr",
     "output_type": "stream",
     "text": [
      "2022-12-28 16:26:13.397 | INFO     | __main__:<module>:3 - Prediction: - 42.44668173789978 seconds -\n"
     ]
    }
   ],
   "source": [
    "start_time = time.time()\n",
    "svc_pol_test_pred = svc_pol_clsf.predict(data_split.x_test)\n",
    "logger.info(\"Prediction: - %s seconds -\" % (time.time() - start_time))\n",
    "svc_pol_test_eval = eva.Evaluation(y_true=data_split.y_test, y_pred=svc_pol_test_pred)"
   ],
   "metadata": {
    "collapsed": false,
    "pycharm": {
     "name": "#%%\n"
    }
   }
  },
  {
   "cell_type": "code",
   "execution_count": 36,
   "outputs": [
    {
     "name": "stdout",
     "output_type": "stream",
     "text": [
      "Testing:\n",
      "-----Model Evaluations:-----\n",
      "Accuracy score: 0.9796\n"
     ]
    }
   ],
   "source": [
    "print(\"Testing:\")\n",
    "svc_pol_test_eval.acc_eval()"
   ],
   "metadata": {
    "collapsed": false,
    "pycharm": {
     "name": "#%%\n"
    }
   }
  },
  {
   "cell_type": "code",
   "execution_count": 37,
   "outputs": [],
   "source": [
    "# save the model and evaluations\n",
    "svc_pol_model = eva.EvaluatedModel(svc_pol_clsf, \"svcpolynomial\", test_eval=svc_pol_test_eval)\n",
    "svc_pol_model.save_evaluation()"
   ],
   "metadata": {
    "collapsed": false,
    "pycharm": {
     "name": "#%%\n"
    }
   }
  },
  {
   "cell_type": "code",
   "execution_count": 38,
   "outputs": [],
   "source": [
    "# load the previously saved model and evaluations\n",
    "svc_pol_model = eva.EvaluatedModel.load_evaluation(\"svcpolynomial\")"
   ],
   "metadata": {
    "collapsed": false,
    "pycharm": {
     "name": "#%%\n"
    }
   }
  },
  {
   "cell_type": "markdown",
   "source": [
    "### Confusion Matrix"
   ],
   "metadata": {
    "collapsed": false,
    "pycharm": {
     "name": "#%% md\n"
    }
   }
  },
  {
   "cell_type": "code",
   "execution_count": 40,
   "outputs": [
    {
     "data": {
      "text/plain": "<Figure size 864x576 with 2 Axes>",
      "image/png": "[encoded data removed]"
     },
     "metadata": {},
     "output_type": "display_data"
    }
   ],
   "source": [
    "svc_pol_model.test_eval.conf_mat()"
   ],
   "metadata": {
    "collapsed": false,
    "pycharm": {
     "name": "#%%\n"
    }
   }
  },
  {
   "cell_type": "markdown",
   "source": [],
   "metadata": {
    "collapsed": false,
    "pycharm": {
     "name": "#%% md\n"
    }
   }
  },
  {
   "cell_type": "markdown",
   "source": [
    "## SVM using RBF kernel"
   ],
   "metadata": {
    "collapsed": false,
    "pycharm": {
     "name": "#%% md\n"
    }
   }
  },
  {
   "cell_type": "code",
   "execution_count": 41,
   "outputs": [
    {
     "name": "stdout",
     "output_type": "stream",
     "text": [
      "Fitting 10 folds for each of 24 candidates, totalling 240 fits\n"
     ]
    },
    {
     "name": "stderr",
     "output_type": "stream",
     "text": [
      "2022-12-28 18:18:20.991 | INFO     | src.utilities.model_selection:model_selector:26 - --- 6656.828664064407 seconds ---\n"
     ]
    }
   ],
   "source": [
    "# automatic parameters tuning\n",
    "svcclsf_rbf=SVC(random_state=28)\n",
    "properties_rbf={\n",
    "    \"C\": [0.01,0.05,0.1,0.5,1,10,100,1000], # soft to hard margin\n",
    "    \"kernel\": [\"rbf\"],\n",
    "    \"gamma\": [\"auto\",0.1,1]\n",
    "}\n",
    "\n",
    "tuned_svcclsf_rbf = ms.model_selector(estimator=svcclsf_rbf,properties=properties_rbf,scoring=\"accuracy\",cv=10,verbose=5,jobs=4,\n",
    "                                       x_train=x_data_small,y_train=y_data_small)"
   ],
   "metadata": {
    "collapsed": false,
    "pycharm": {
     "name": "#%%\n"
    }
   }
  },
  {
   "cell_type": "code",
   "execution_count": 42,
   "outputs": [],
   "source": [
    "# save results\n",
    "ms.save_model(model=tuned_svcclsf_rbf, model_name=\"svc_rbf_tuning_results\")"
   ],
   "metadata": {
    "collapsed": false,
    "pycharm": {
     "name": "#%%\n"
    }
   }
  },
  {
   "cell_type": "code",
   "execution_count": 43,
   "outputs": [],
   "source": [
    "# to load previously saved results\n",
    "tuned_svcclsf_rbf = ms.load_model(\"svc_rbf_tuning_results\")"
   ],
   "metadata": {
    "collapsed": false,
    "pycharm": {
     "name": "#%%\n"
    }
   }
  },
  {
   "cell_type": "code",
   "execution_count": 44,
   "outputs": [
    {
     "name": "stderr",
     "output_type": "stream",
     "text": [
      "2022-12-28 18:18:21.243 | INFO     | __main__:<module>:1 - {'mean_fit_time': array([61.92129307, 57.88344152, 57.99269018, 50.41168661, 58.13799028,\n",
      "       56.69635725, 37.95498464, 56.95807517, 87.21182802, 28.69095252,\n",
      "       57.17696309, 53.49756479, 12.3837549 , 61.82585657, 57.11454468,\n",
      "        6.86773317, 66.04598224, 56.90862699,  4.72880223, 58.76432111,\n",
      "       64.21776893,  6.48150153, 52.84935071, 48.08499081]), 'std_fit_time': array([ 3.46958463,  0.38807208,  0.6014836 ,  0.51817846,  1.38470842,\n",
      "        0.68792939,  0.67827376,  6.08593444, 16.69916662,  4.17079416,\n",
      "       13.05648502,  7.21703731,  1.62136841,  2.4485197 ,  3.15963026,\n",
      "        1.22690153,  6.61412175,  9.80849823,  0.37891064,  2.73393517,\n",
      "        0.63664398,  0.25807189, 10.17146861,  3.74080008]), 'mean_score_time': array([ 6.91600449,  7.25816648,  6.86656387,  6.64626813,  6.65400941,\n",
      "        6.94324963,  6.37503638,  6.34655423, 10.92658911,  6.59715083,\n",
      "        6.6782167 ,  7.23210139,  3.4766396 ,  6.79373264,  6.40357122,\n",
      "        2.88668323,  7.73564415,  5.97134988,  1.69876244,  6.98816621,\n",
      "        7.64509697,  2.31935558,  5.65627062,  5.94995043]), 'std_score_time': array([0.07796551, 0.69716718, 0.11983789, 0.08717471, 0.2172019 ,\n",
      "       0.60860292, 0.48183002, 0.5838735 , 1.99569309, 0.50806003,\n",
      "       0.93894637, 1.38036967, 0.35315818, 0.8201104 , 0.63642297,\n",
      "       0.73378623, 1.26816344, 0.72151126, 0.31858271, 0.26841364,\n",
      "       0.41019866, 0.20793817, 1.14185242, 0.61837407]), 'param_C': masked_array(data=[0.01, 0.01, 0.01, 0.05, 0.05, 0.05, 0.1, 0.1, 0.1, 0.5,\n",
      "                   0.5, 0.5, 1, 1, 1, 10, 10, 10, 100, 100, 100, 1000,\n",
      "                   1000, 1000],\n",
      "             mask=[False, False, False, False, False, False, False, False,\n",
      "                   False, False, False, False, False, False, False, False,\n",
      "                   False, False, False, False, False, False, False, False],\n",
      "       fill_value='?',\n",
      "            dtype=object), 'param_gamma': masked_array(data=['auto', 0.1, 1, 'auto', 0.1, 1, 'auto', 0.1, 1, 'auto',\n",
      "                   0.1, 1, 'auto', 0.1, 1, 'auto', 0.1, 1, 'auto', 0.1, 1,\n",
      "                   'auto', 0.1, 1],\n",
      "             mask=[False, False, False, False, False, False, False, False,\n",
      "                   False, False, False, False, False, False, False, False,\n",
      "                   False, False, False, False, False, False, False, False],\n",
      "       fill_value='?',\n",
      "            dtype=object), 'param_kernel': masked_array(data=['rbf', 'rbf', 'rbf', 'rbf', 'rbf', 'rbf', 'rbf', 'rbf',\n",
      "                   'rbf', 'rbf', 'rbf', 'rbf', 'rbf', 'rbf', 'rbf', 'rbf',\n",
      "                   'rbf', 'rbf', 'rbf', 'rbf', 'rbf', 'rbf', 'rbf', 'rbf'],\n",
      "             mask=[False, False, False, False, False, False, False, False,\n",
      "                   False, False, False, False, False, False, False, False,\n",
      "                   False, False, False, False, False, False, False, False],\n",
      "       fill_value='?',\n",
      "            dtype=object), 'params': [{'C': 0.01, 'gamma': 'auto', 'kernel': 'rbf'}, {'C': 0.01, 'gamma': 0.1, 'kernel': 'rbf'}, {'C': 0.01, 'gamma': 1, 'kernel': 'rbf'}, {'C': 0.05, 'gamma': 'auto', 'kernel': 'rbf'}, {'C': 0.05, 'gamma': 0.1, 'kernel': 'rbf'}, {'C': 0.05, 'gamma': 1, 'kernel': 'rbf'}, {'C': 0.1, 'gamma': 'auto', 'kernel': 'rbf'}, {'C': 0.1, 'gamma': 0.1, 'kernel': 'rbf'}, {'C': 0.1, 'gamma': 1, 'kernel': 'rbf'}, {'C': 0.5, 'gamma': 'auto', 'kernel': 'rbf'}, {'C': 0.5, 'gamma': 0.1, 'kernel': 'rbf'}, {'C': 0.5, 'gamma': 1, 'kernel': 'rbf'}, {'C': 1, 'gamma': 'auto', 'kernel': 'rbf'}, {'C': 1, 'gamma': 0.1, 'kernel': 'rbf'}, {'C': 1, 'gamma': 1, 'kernel': 'rbf'}, {'C': 10, 'gamma': 'auto', 'kernel': 'rbf'}, {'C': 10, 'gamma': 0.1, 'kernel': 'rbf'}, {'C': 10, 'gamma': 1, 'kernel': 'rbf'}, {'C': 100, 'gamma': 'auto', 'kernel': 'rbf'}, {'C': 100, 'gamma': 0.1, 'kernel': 'rbf'}, {'C': 100, 'gamma': 1, 'kernel': 'rbf'}, {'C': 1000, 'gamma': 'auto', 'kernel': 'rbf'}, {'C': 1000, 'gamma': 0.1, 'kernel': 'rbf'}, {'C': 1000, 'gamma': 1, 'kernel': 'rbf'}], 'split0_test_score': array([0.69857143, 0.40142857, 0.10714286, 0.76714286, 0.40857143,\n",
      "       0.10714286, 0.82714286, 0.42142857, 0.10714286, 0.88571429,\n",
      "       0.64428571, 0.10714286, 0.89714286, 0.83714286, 0.18285714,\n",
      "       0.92285714, 0.84857143, 0.19      , 0.91714286, 0.84857143,\n",
      "       0.19      , 0.91571429, 0.84857143, 0.19      ]), 'split1_test_score': array([0.72142857, 0.41142857, 0.10571429, 0.78571429, 0.43142857,\n",
      "       0.10571429, 0.82857143, 0.44142857, 0.10571429, 0.89428571,\n",
      "       0.7       , 0.10571429, 0.91142857, 0.86142857, 0.17428571,\n",
      "       0.93714286, 0.87142857, 0.18571429, 0.93428571, 0.87142857,\n",
      "       0.18571429, 0.93142857, 0.87142857, 0.18571429]), 'split2_test_score': array([0.70857143, 0.45857143, 0.10142857, 0.79428571, 0.46428571,\n",
      "       0.10142857, 0.84571429, 0.47714286, 0.10142857, 0.89857143,\n",
      "       0.71571429, 0.10142857, 0.90714286, 0.88142857, 0.19285714,\n",
      "       0.92714286, 0.88428571, 0.21142857, 0.94571429, 0.88428571,\n",
      "       0.21142857, 0.94285714, 0.88428571, 0.21142857]), 'split3_test_score': array([0.68285714, 0.41      , 0.10428571, 0.78      , 0.44142857,\n",
      "       0.10428571, 0.82142857, 0.45285714, 0.10428571, 0.89857143,\n",
      "       0.71428571, 0.10428571, 0.91      , 0.86857143, 0.16714286,\n",
      "       0.94428571, 0.87428571, 0.18142857, 0.93428571, 0.87428571,\n",
      "       0.18142857, 0.93428571, 0.87428571, 0.18142857]), 'split4_test_score': array([0.66714286, 0.41285714, 0.10428571, 0.75571429, 0.43142857,\n",
      "       0.10428571, 0.81428571, 0.43857143, 0.10428571, 0.89714286,\n",
      "       0.65428571, 0.10428571, 0.90714286, 0.84142857, 0.19571429,\n",
      "       0.93285714, 0.84571429, 0.2       , 0.93      , 0.84571429,\n",
      "       0.2       , 0.92857143, 0.84571429, 0.2       ]), 'split5_test_score': array([0.69857143, 0.43285714, 0.10428571, 0.79571429, 0.45142857,\n",
      "       0.10428571, 0.83142857, 0.45714286, 0.10428571, 0.89428571,\n",
      "       0.7       , 0.10428571, 0.91      , 0.86571429, 0.18857143,\n",
      "       0.93857143, 0.87      , 0.19857143, 0.93428571, 0.87      ,\n",
      "       0.19857143, 0.93428571, 0.87      , 0.19857143]), 'split6_test_score': array([0.71      , 0.39142857, 0.11142857, 0.78857143, 0.41      ,\n",
      "       0.11142857, 0.82714286, 0.41571429, 0.11142857, 0.89142857,\n",
      "       0.67428571, 0.11142857, 0.90428571, 0.85857143, 0.19142857,\n",
      "       0.93      , 0.86571429, 0.19285714, 0.93714286, 0.86571429,\n",
      "       0.19285714, 0.93285714, 0.86571429, 0.19285714]), 'split7_test_score': array([0.69142857, 0.43142857, 0.11285714, 0.77714286, 0.45285714,\n",
      "       0.11285714, 0.83      , 0.46142857, 0.11285714, 0.89714286,\n",
      "       0.69857143, 0.11285714, 0.90428571, 0.87571429, 0.18428571,\n",
      "       0.94      , 0.87714286, 0.20142857, 0.93428571, 0.87714286,\n",
      "       0.20142857, 0.93      , 0.87714286, 0.20142857]), 'split8_test_score': array([0.72      , 0.39571429, 0.10571429, 0.79285714, 0.40428571,\n",
      "       0.10571429, 0.84428571, 0.41      , 0.10571429, 0.89571429,\n",
      "       0.66428571, 0.10571429, 0.91428571, 0.83857143, 0.17285714,\n",
      "       0.94      , 0.85428571, 0.19428571, 0.92285714, 0.85428571,\n",
      "       0.19428571, 0.92857143, 0.85428571, 0.19428571]), 'split9_test_score': array([0.72      , 0.41285714, 0.10142857, 0.79714286, 0.42428571,\n",
      "       0.10142857, 0.83571429, 0.43285714, 0.10142857, 0.89714286,\n",
      "       0.69285714, 0.10142857, 0.90428571, 0.87428571, 0.18285714,\n",
      "       0.92571429, 0.87857143, 0.19285714, 0.93571429, 0.87857143,\n",
      "       0.19285714, 0.93857143, 0.87857143, 0.19285714]), 'mean_test_score': array([0.70185714, 0.41585714, 0.10585714, 0.78342857, 0.432     ,\n",
      "       0.10585714, 0.83057143, 0.44085714, 0.10585714, 0.895     ,\n",
      "       0.68585714, 0.10585714, 0.907     , 0.86028571, 0.18328571,\n",
      "       0.93385714, 0.867     , 0.19485714, 0.93257143, 0.867     ,\n",
      "       0.19485714, 0.93171429, 0.867     , 0.19485714]), 'std_test_score': array([0.01687953, 0.01907504, 0.00358284, 0.01289202, 0.01950615,\n",
      "       0.00358284, 0.00906214, 0.02044605, 0.00358284, 0.00373893,\n",
      "       0.02373708, 0.00358284, 0.00458258, 0.01531706, 0.00889967,\n",
      "       0.00682283, 0.01254299, 0.00808627, 0.00744504, 0.01254299,\n",
      "       0.00808627, 0.00681535, 0.01254299, 0.00808627]), 'rank_test_score': array([12, 16, 21, 11, 15, 21, 10, 14, 21,  5, 13, 21,  4,  9, 20,  1,  6,\n",
      "       17,  2,  6, 17,  3,  6, 17], dtype=int32), 'split0_train_score': array([0.70746032, 0.6947619 , 1.        , 0.78460317, 0.71031746,\n",
      "       1.        , 0.83492063, 0.71904762, 1.        , 0.90492063,\n",
      "       0.99396825, 1.        , 0.92047619, 1.        , 1.        ,\n",
      "       0.96285714, 1.        , 1.        , 0.99825397, 1.        ,\n",
      "       1.        , 1.        , 1.        , 1.        ]), 'split1_train_score': array([0.71142857, 0.70126984, 1.        , 0.79126984, 0.7184127 ,\n",
      "       1.        , 0.83571429, 0.72825397, 1.        , 0.90206349,\n",
      "       0.99460317, 1.        , 0.91904762, 1.        , 1.        ,\n",
      "       0.96206349, 1.        , 1.        , 0.99746032, 1.        ,\n",
      "       1.        , 1.        , 1.        , 1.        ]), 'split2_train_score': array([0.70396825, 0.70873016, 1.        , 0.78603175, 0.72428571,\n",
      "       1.        , 0.83238095, 0.73285714, 1.        , 0.90349206,\n",
      "       0.99460317, 1.        , 0.91952381, 0.99984127, 1.        ,\n",
      "       0.9615873 , 1.        , 1.        , 0.99809524, 1.        ,\n",
      "       1.        , 1.        , 1.        , 1.        ]), 'split3_train_score': array([0.70777778, 0.68126984, 1.        , 0.78952381, 0.69714286,\n",
      "       1.        , 0.83714286, 0.70698413, 1.        , 0.90206349,\n",
      "       0.99380952, 1.        , 0.91746032, 1.        , 1.        ,\n",
      "       0.96063492, 1.        , 1.        , 0.99746032, 1.        ,\n",
      "       1.        , 1.        , 1.        , 1.        ]), 'split4_train_score': array([0.70984127, 0.70714286, 1.        , 0.79349206, 0.72126984,\n",
      "       1.        , 0.83873016, 0.73079365, 1.        , 0.90206349,\n",
      "       0.99428571, 1.        , 0.91825397, 0.99984127, 1.        ,\n",
      "       0.96253968, 1.        , 1.        , 0.99809524, 1.        ,\n",
      "       1.        , 1.        , 1.        , 1.        ]), 'split5_train_score': array([0.70444444, 0.70380952, 1.        , 0.78825397, 0.72031746,\n",
      "       1.        , 0.83460317, 0.73015873, 1.        , 0.90428571,\n",
      "       0.99412698, 1.        , 0.91777778, 0.99984127, 1.        ,\n",
      "       0.96238095, 1.        , 1.        , 0.99746032, 1.        ,\n",
      "       1.        , 1.        , 1.        , 1.        ]), 'split6_train_score': array([0.70412698, 0.69142857, 1.        , 0.79047619, 0.70666667,\n",
      "       1.        , 0.83603175, 0.71619048, 1.        , 0.90507937,\n",
      "       0.99492063, 1.        , 0.92079365, 0.99984127, 1.        ,\n",
      "       0.96079365, 1.        , 1.        , 0.99730159, 1.        ,\n",
      "       1.        , 1.        , 1.        , 1.        ]), 'split7_train_score': array([0.70825397, 0.69857143, 1.        , 0.79079365, 0.7131746 ,\n",
      "       1.        , 0.83539683, 0.72301587, 1.        , 0.90285714,\n",
      "       0.99412698, 1.        , 0.91825397, 1.        , 1.        ,\n",
      "       0.96190476, 1.        , 1.        , 0.99777778, 1.        ,\n",
      "       1.        , 1.        , 1.        , 1.        ]), 'split8_train_score': array([0.70269841, 0.70365079, 1.        , 0.78698413, 0.71825397,\n",
      "       1.        , 0.83492063, 0.72761905, 1.        , 0.9031746 ,\n",
      "       0.99444444, 1.        , 0.91698413, 1.        , 1.        ,\n",
      "       0.96111111, 1.        , 1.        , 0.99777778, 1.        ,\n",
      "       1.        , 1.        , 1.        , 1.        ]), 'split9_train_score': array([0.70746032, 0.7015873 , 1.        , 0.7931746 , 0.71920635,\n",
      "       1.        , 0.83746032, 0.72793651, 1.        , 0.90412698,\n",
      "       0.99460317, 1.        , 0.91857143, 1.        , 1.        ,\n",
      "       0.96301587, 1.        , 1.        , 0.99761905, 1.        ,\n",
      "       1.        , 1.        , 1.        , 1.        ]), 'mean_train_score': array([0.70674603, 0.69922222, 1.        , 0.78946032, 0.71490476,\n",
      "       1.        , 0.83573016, 0.72428571, 1.        , 0.9034127 ,\n",
      "       0.99434921, 1.        , 0.91871429, 0.99993651, 1.        ,\n",
      "       0.96188889, 1.        , 1.        , 0.99773016, 1.        ,\n",
      "       1.        , 1.        , 1.        , 1.        ]), 'std_train_score': array([2.68554354e-03, 7.79054669e-03, 0.00000000e+00, 2.81198887e-03,\n",
      "       7.79248690e-03, 0.00000000e+00, 1.67300383e-03, 7.64479776e-03,\n",
      "       0.00000000e+00, 1.10257492e-03, 3.26845401e-04, 0.00000000e+00,\n",
      "       1.18666055e-03, 7.77615791e-05, 0.00000000e+00, 7.98240696e-04,\n",
      "       0.00000000e+00, 0.00000000e+00, 3.09828909e-04, 0.00000000e+00,\n",
      "       0.00000000e+00, 0.00000000e+00, 0.00000000e+00, 0.00000000e+00])}\n"
     ]
    }
   ],
   "source": [
    "logger.info(tuned_svcclsf_rbf.cv_results_)\n",
    "tuned_svcclsf_rbf_results = pd.DataFrame( tuned_svcclsf_rbf.cv_results_ )"
   ],
   "metadata": {
    "collapsed": false,
    "pycharm": {
     "name": "#%%\n"
    }
   }
  },
  {
   "cell_type": "code",
   "execution_count": 54,
   "outputs": [
    {
     "data": {
      "text/plain": "                                           params  mean_test_score  \\\n0   {'C': 0.01, 'gamma': 'auto', 'kernel': 'rbf'}         0.701857   \n1      {'C': 0.01, 'gamma': 0.1, 'kernel': 'rbf'}         0.415857   \n2        {'C': 0.01, 'gamma': 1, 'kernel': 'rbf'}         0.105857   \n3   {'C': 0.05, 'gamma': 'auto', 'kernel': 'rbf'}         0.783429   \n4      {'C': 0.05, 'gamma': 0.1, 'kernel': 'rbf'}         0.432000   \n5        {'C': 0.05, 'gamma': 1, 'kernel': 'rbf'}         0.105857   \n6    {'C': 0.1, 'gamma': 'auto', 'kernel': 'rbf'}         0.830571   \n7       {'C': 0.1, 'gamma': 0.1, 'kernel': 'rbf'}         0.440857   \n8         {'C': 0.1, 'gamma': 1, 'kernel': 'rbf'}         0.105857   \n9    {'C': 0.5, 'gamma': 'auto', 'kernel': 'rbf'}         0.895000   \n10      {'C': 0.5, 'gamma': 0.1, 'kernel': 'rbf'}         0.685857   \n11        {'C': 0.5, 'gamma': 1, 'kernel': 'rbf'}         0.105857   \n12     {'C': 1, 'gamma': 'auto', 'kernel': 'rbf'}         0.907000   \n13        {'C': 1, 'gamma': 0.1, 'kernel': 'rbf'}         0.860286   \n14          {'C': 1, 'gamma': 1, 'kernel': 'rbf'}         0.183286   \n15    {'C': 10, 'gamma': 'auto', 'kernel': 'rbf'}         0.933857   \n16       {'C': 10, 'gamma': 0.1, 'kernel': 'rbf'}         0.867000   \n17         {'C': 10, 'gamma': 1, 'kernel': 'rbf'}         0.194857   \n18   {'C': 100, 'gamma': 'auto', 'kernel': 'rbf'}         0.932571   \n19      {'C': 100, 'gamma': 0.1, 'kernel': 'rbf'}         0.867000   \n20        {'C': 100, 'gamma': 1, 'kernel': 'rbf'}         0.194857   \n21  {'C': 1000, 'gamma': 'auto', 'kernel': 'rbf'}         0.931714   \n22     {'C': 1000, 'gamma': 0.1, 'kernel': 'rbf'}         0.867000   \n23       {'C': 1000, 'gamma': 1, 'kernel': 'rbf'}         0.194857   \n\n    mean_train_score  \n0           0.706746  \n1           0.699222  \n2           1.000000  \n3           0.789460  \n4           0.714905  \n5           1.000000  \n6           0.835730  \n7           0.724286  \n8           1.000000  \n9           0.903413  \n10          0.994349  \n11          1.000000  \n12          0.918714  \n13          0.999937  \n14          1.000000  \n15          0.961889  \n16          1.000000  \n17          1.000000  \n18          0.997730  \n19          1.000000  \n20          1.000000  \n21          1.000000  \n22          1.000000  \n23          1.000000  ",
      "text/html": "<div>\n<style scoped>\n    .dataframe tbody tr th:only-of-type {\n        vertical-align: middle;\n    }\n\n    .dataframe tbody tr th {\n        vertical-align: top;\n    }\n\n    .dataframe thead th {\n        text-align: right;\n    }\n</style>\n<table border=\"1\" class=\"dataframe\">\n  <thead>\n    <tr style=\"text-align: right;\">\n      <th></th>\n      <th>params</th>\n      <th>mean_test_score</th>\n      <th>mean_train_score</th>\n    </tr>\n  </thead>\n  <tbody>\n    <tr>\n      <th>0</th>\n      <td>{'C': 0.01, 'gamma': 'auto', 'kernel': 'rbf'}</td>\n      <td>0.701857</td>\n      <td>0.706746</td>\n    </tr>\n    <tr>\n      <th>1</th>\n      <td>{'C': 0.01, 'gamma': 0.1, 'kernel': 'rbf'}</td>\n      <td>0.415857</td>\n      <td>0.699222</td>\n    </tr>\n    <tr>\n      <th>2</th>\n      <td>{'C': 0.01, 'gamma': 1, 'kernel': 'rbf'}</td>\n      <td>0.105857</td>\n      <td>1.000000</td>\n    </tr>\n    <tr>\n      <th>3</th>\n      <td>{'C': 0.05, 'gamma': 'auto', 'kernel': 'rbf'}</td>\n      <td>0.783429</td>\n      <td>0.789460</td>\n    </tr>\n    <tr>\n      <th>4</th>\n      <td>{'C': 0.05, 'gamma': 0.1, 'kernel': 'rbf'}</td>\n      <td>0.432000</td>\n      <td>0.714905</td>\n    </tr>\n    <tr>\n      <th>5</th>\n      <td>{'C': 0.05, 'gamma': 1, 'kernel': 'rbf'}</td>\n      <td>0.105857</td>\n      <td>1.000000</td>\n    </tr>\n    <tr>\n      <th>6</th>\n      <td>{'C': 0.1, 'gamma': 'auto', 'kernel': 'rbf'}</td>\n      <td>0.830571</td>\n      <td>0.835730</td>\n    </tr>\n    <tr>\n      <th>7</th>\n      <td>{'C': 0.1, 'gamma': 0.1, 'kernel': 'rbf'}</td>\n      <td>0.440857</td>\n      <td>0.724286</td>\n    </tr>\n    <tr>\n      <th>8</th>\n      <td>{'C': 0.1, 'gamma': 1, 'kernel': 'rbf'}</td>\n      <td>0.105857</td>\n      <td>1.000000</td>\n    </tr>\n    <tr>\n      <th>9</th>\n      <td>{'C': 0.5, 'gamma': 'auto', 'kernel': 'rbf'}</td>\n      <td>0.895000</td>\n      <td>0.903413</td>\n    </tr>\n    <tr>\n      <th>10</th>\n      <td>{'C': 0.5, 'gamma': 0.1, 'kernel': 'rbf'}</td>\n      <td>0.685857</td>\n      <td>0.994349</td>\n    </tr>\n    <tr>\n      <th>11</th>\n      <td>{'C': 0.5, 'gamma': 1, 'kernel': 'rbf'}</td>\n      <td>0.105857</td>\n      <td>1.000000</td>\n    </tr>\n    <tr>\n      <th>12</th>\n      <td>{'C': 1, 'gamma': 'auto', 'kernel': 'rbf'}</td>\n      <td>0.907000</td>\n      <td>0.918714</td>\n    </tr>\n    <tr>\n      <th>13</th>\n      <td>{'C': 1, 'gamma': 0.1, 'kernel': 'rbf'}</td>\n      <td>0.860286</td>\n      <td>0.999937</td>\n    </tr>\n    <tr>\n      <th>14</th>\n      <td>{'C': 1, 'gamma': 1, 'kernel': 'rbf'}</td>\n      <td>0.183286</td>\n      <td>1.000000</td>\n    </tr>\n    <tr>\n      <th>15</th>\n      <td>{'C': 10, 'gamma': 'auto', 'kernel': 'rbf'}</td>\n      <td>0.933857</td>\n      <td>0.961889</td>\n    </tr>\n    <tr>\n      <th>16</th>\n      <td>{'C': 10, 'gamma': 0.1, 'kernel': 'rbf'}</td>\n      <td>0.867000</td>\n      <td>1.000000</td>\n    </tr>\n    <tr>\n      <th>17</th>\n      <td>{'C': 10, 'gamma': 1, 'kernel': 'rbf'}</td>\n      <td>0.194857</td>\n      <td>1.000000</td>\n    </tr>\n    <tr>\n      <th>18</th>\n      <td>{'C': 100, 'gamma': 'auto', 'kernel': 'rbf'}</td>\n      <td>0.932571</td>\n      <td>0.997730</td>\n    </tr>\n    <tr>\n      <th>19</th>\n      <td>{'C': 100, 'gamma': 0.1, 'kernel': 'rbf'}</td>\n      <td>0.867000</td>\n      <td>1.000000</td>\n    </tr>\n    <tr>\n      <th>20</th>\n      <td>{'C': 100, 'gamma': 1, 'kernel': 'rbf'}</td>\n      <td>0.194857</td>\n      <td>1.000000</td>\n    </tr>\n    <tr>\n      <th>21</th>\n      <td>{'C': 1000, 'gamma': 'auto', 'kernel': 'rbf'}</td>\n      <td>0.931714</td>\n      <td>1.000000</td>\n    </tr>\n    <tr>\n      <th>22</th>\n      <td>{'C': 1000, 'gamma': 0.1, 'kernel': 'rbf'}</td>\n      <td>0.867000</td>\n      <td>1.000000</td>\n    </tr>\n    <tr>\n      <th>23</th>\n      <td>{'C': 1000, 'gamma': 1, 'kernel': 'rbf'}</td>\n      <td>0.194857</td>\n      <td>1.000000</td>\n    </tr>\n  </tbody>\n</table>\n</div>"
     },
     "execution_count": 45,
     "metadata": {},
     "output_type": "execute_result"
    },
    {
     "data": {
      "text/plain": "                                           params  mean_test_score  \\\n0   {'C': 0.01, 'gamma': 'auto', 'kernel': 'rbf'}         0.701857   \n1      {'C': 0.01, 'gamma': 0.1, 'kernel': 'rbf'}         0.415857   \n2        {'C': 0.01, 'gamma': 1, 'kernel': 'rbf'}         0.105857   \n3   {'C': 0.05, 'gamma': 'auto', 'kernel': 'rbf'}         0.783429   \n4      {'C': 0.05, 'gamma': 0.1, 'kernel': 'rbf'}         0.432000   \n5        {'C': 0.05, 'gamma': 1, 'kernel': 'rbf'}         0.105857   \n6    {'C': 0.1, 'gamma': 'auto', 'kernel': 'rbf'}         0.830571   \n7       {'C': 0.1, 'gamma': 0.1, 'kernel': 'rbf'}         0.440857   \n8         {'C': 0.1, 'gamma': 1, 'kernel': 'rbf'}         0.105857   \n9    {'C': 0.5, 'gamma': 'auto', 'kernel': 'rbf'}         0.895000   \n10      {'C': 0.5, 'gamma': 0.1, 'kernel': 'rbf'}         0.685857   \n11        {'C': 0.5, 'gamma': 1, 'kernel': 'rbf'}         0.105857   \n12     {'C': 1, 'gamma': 'auto', 'kernel': 'rbf'}         0.907000   \n13        {'C': 1, 'gamma': 0.1, 'kernel': 'rbf'}         0.860286   \n14          {'C': 1, 'gamma': 1, 'kernel': 'rbf'}         0.183286   \n15    {'C': 10, 'gamma': 'auto', 'kernel': 'rbf'}         0.933857   \n16       {'C': 10, 'gamma': 0.1, 'kernel': 'rbf'}         0.867000   \n17         {'C': 10, 'gamma': 1, 'kernel': 'rbf'}         0.194857   \n18   {'C': 100, 'gamma': 'auto', 'kernel': 'rbf'}         0.932571   \n19      {'C': 100, 'gamma': 0.1, 'kernel': 'rbf'}         0.867000   \n20        {'C': 100, 'gamma': 1, 'kernel': 'rbf'}         0.194857   \n21  {'C': 1000, 'gamma': 'auto', 'kernel': 'rbf'}         0.931714   \n22     {'C': 1000, 'gamma': 0.1, 'kernel': 'rbf'}         0.867000   \n23       {'C': 1000, 'gamma': 1, 'kernel': 'rbf'}         0.194857   \n\n    mean_train_score  \n0           0.706746  \n1           0.699222  \n2           1.000000  \n3           0.789460  \n4           0.714905  \n5           1.000000  \n6           0.835730  \n7           0.724286  \n8           1.000000  \n9           0.903413  \n10          0.994349  \n11          1.000000  \n12          0.918714  \n13          0.999937  \n14          1.000000  \n15          0.961889  \n16          1.000000  \n17          1.000000  \n18          0.997730  \n19          1.000000  \n20          1.000000  \n21          1.000000  \n22          1.000000  \n23          1.000000  ",
      "text/html": "<div>\n<style scoped>\n    .dataframe tbody tr th:only-of-type {\n        vertical-align: middle;\n    }\n\n    .dataframe tbody tr th {\n        vertical-align: top;\n    }\n\n    .dataframe thead th {\n        text-align: right;\n    }\n</style>\n<table border=\"1\" class=\"dataframe\">\n  <thead>\n    <tr style=\"text-align: right;\">\n      <th></th>\n      <th>params</th>\n      <th>mean_test_score</th>\n      <th>mean_train_score</th>\n    </tr>\n  </thead>\n  <tbody>\n    <tr>\n      <th>0</th>\n      <td>{'C': 0.01, 'gamma': 'auto', 'kernel': 'rbf'}</td>\n      <td>0.701857</td>\n      <td>0.706746</td>\n    </tr>\n    <tr>\n      <th>1</th>\n      <td>{'C': 0.01, 'gamma': 0.1, 'kernel': 'rbf'}</td>\n      <td>0.415857</td>\n      <td>0.699222</td>\n    </tr>\n    <tr>\n      <th>2</th>\n      <td>{'C': 0.01, 'gamma': 1, 'kernel': 'rbf'}</td>\n      <td>0.105857</td>\n      <td>1.000000</td>\n    </tr>\n    <tr>\n      <th>3</th>\n      <td>{'C': 0.05, 'gamma': 'auto', 'kernel': 'rbf'}</td>\n      <td>0.783429</td>\n      <td>0.789460</td>\n    </tr>\n    <tr>\n      <th>4</th>\n      <td>{'C': 0.05, 'gamma': 0.1, 'kernel': 'rbf'}</td>\n      <td>0.432000</td>\n      <td>0.714905</td>\n    </tr>\n    <tr>\n      <th>5</th>\n      <td>{'C': 0.05, 'gamma': 1, 'kernel': 'rbf'}</td>\n      <td>0.105857</td>\n      <td>1.000000</td>\n    </tr>\n    <tr>\n      <th>6</th>\n      <td>{'C': 0.1, 'gamma': 'auto', 'kernel': 'rbf'}</td>\n      <td>0.830571</td>\n      <td>0.835730</td>\n    </tr>\n    <tr>\n      <th>7</th>\n      <td>{'C': 0.1, 'gamma': 0.1, 'kernel': 'rbf'}</td>\n      <td>0.440857</td>\n      <td>0.724286</td>\n    </tr>\n    <tr>\n      <th>8</th>\n      <td>{'C': 0.1, 'gamma': 1, 'kernel': 'rbf'}</td>\n      <td>0.105857</td>\n      <td>1.000000</td>\n    </tr>\n    <tr>\n      <th>9</th>\n      <td>{'C': 0.5, 'gamma': 'auto', 'kernel': 'rbf'}</td>\n      <td>0.895000</td>\n      <td>0.903413</td>\n    </tr>\n    <tr>\n      <th>10</th>\n      <td>{'C': 0.5, 'gamma': 0.1, 'kernel': 'rbf'}</td>\n      <td>0.685857</td>\n      <td>0.994349</td>\n    </tr>\n    <tr>\n      <th>11</th>\n      <td>{'C': 0.5, 'gamma': 1, 'kernel': 'rbf'}</td>\n      <td>0.105857</td>\n      <td>1.000000</td>\n    </tr>\n    <tr>\n      <th>12</th>\n      <td>{'C': 1, 'gamma': 'auto', 'kernel': 'rbf'}</td>\n      <td>0.907000</td>\n      <td>0.918714</td>\n    </tr>\n    <tr>\n      <th>13</th>\n      <td>{'C': 1, 'gamma': 0.1, 'kernel': 'rbf'}</td>\n      <td>0.860286</td>\n      <td>0.999937</td>\n    </tr>\n    <tr>\n      <th>14</th>\n      <td>{'C': 1, 'gamma': 1, 'kernel': 'rbf'}</td>\n      <td>0.183286</td>\n      <td>1.000000</td>\n    </tr>\n    <tr>\n      <th>15</th>\n      <td>{'C': 10, 'gamma': 'auto', 'kernel': 'rbf'}</td>\n      <td>0.933857</td>\n      <td>0.961889</td>\n    </tr>\n    <tr>\n      <th>16</th>\n      <td>{'C': 10, 'gamma': 0.1, 'kernel': 'rbf'}</td>\n      <td>0.867000</td>\n      <td>1.000000</td>\n    </tr>\n    <tr>\n      <th>17</th>\n      <td>{'C': 10, 'gamma': 1, 'kernel': 'rbf'}</td>\n      <td>0.194857</td>\n      <td>1.000000</td>\n    </tr>\n    <tr>\n      <th>18</th>\n      <td>{'C': 100, 'gamma': 'auto', 'kernel': 'rbf'}</td>\n      <td>0.932571</td>\n      <td>0.997730</td>\n    </tr>\n    <tr>\n      <th>19</th>\n      <td>{'C': 100, 'gamma': 0.1, 'kernel': 'rbf'}</td>\n      <td>0.867000</td>\n      <td>1.000000</td>\n    </tr>\n    <tr>\n      <th>20</th>\n      <td>{'C': 100, 'gamma': 1, 'kernel': 'rbf'}</td>\n      <td>0.194857</td>\n      <td>1.000000</td>\n    </tr>\n    <tr>\n      <th>21</th>\n      <td>{'C': 1000, 'gamma': 'auto', 'kernel': 'rbf'}</td>\n      <td>0.931714</td>\n      <td>1.000000</td>\n    </tr>\n    <tr>\n      <th>22</th>\n      <td>{'C': 1000, 'gamma': 0.1, 'kernel': 'rbf'}</td>\n      <td>0.867000</td>\n      <td>1.000000</td>\n    </tr>\n    <tr>\n      <th>23</th>\n      <td>{'C': 1000, 'gamma': 1, 'kernel': 'rbf'}</td>\n      <td>0.194857</td>\n      <td>1.000000</td>\n    </tr>\n  </tbody>\n</table>\n</div>"
     },
     "execution_count": 54,
     "metadata": {},
     "output_type": "execute_result"
    }
   ],
   "source": [
    "tuned_svcclsf_rbf_results[[\"params\",\"mean_test_score\",\"mean_train_score\"]]"
   ],
   "metadata": {
    "collapsed": false,
    "pycharm": {
     "name": "#%%\n"
    }
   }
  },
  {
   "cell_type": "code",
   "execution_count": 46,
   "outputs": [
    {
     "data": {
      "text/plain": "<AxesSubplot:xlabel='param_C', ylabel='mean_test_score'>"
     },
     "execution_count": 46,
     "metadata": {},
     "output_type": "execute_result"
    },
    {
     "data": {
      "text/plain": "<Figure size 864x576 with 1 Axes>",
      "image/png": "[encoded data removed]"
     },
     "metadata": {},
     "output_type": "display_data"
    }
   ],
   "source": [
    "sns.set(rc={\"figure.figsize\":(12, 8)})\n",
    "sns.lineplot(data=tuned_svcclsf_rbf_results, x=\"param_C\", y=\"mean_test_score\")"
   ],
   "metadata": {
    "collapsed": false,
    "pycharm": {
     "name": "#%%\n"
    }
   }
  },
  {
   "cell_type": "code",
   "execution_count": 57,
   "outputs": [
    {
     "name": "stdout",
     "output_type": "stream",
     "text": [
      "SVC(C=10, gamma='auto', random_state=28)\n",
      "0.9338571428571427\n"
     ]
    }
   ],
   "source": [
    "print(tuned_svcclsf_rbf.best_estimator_)\n",
    "print(tuned_svcclsf_rbf.best_score_)"
   ],
   "metadata": {
    "collapsed": false,
    "pycharm": {
     "name": "#%%\n"
    }
   }
  },
  {
   "cell_type": "markdown",
   "source": [
    "## Model Training"
   ],
   "metadata": {
    "collapsed": false,
    "pycharm": {
     "name": "#%% md\n"
    }
   }
  },
  {
   "cell_type": "code",
   "execution_count": 48,
   "outputs": [
    {
     "name": "stderr",
     "output_type": "stream",
     "text": [
      "2022-12-28 18:21:19.417 | INFO     | __main__:<module>:5 - Training: - 177.51079320907593 seconds -\n"
     ]
    }
   ],
   "source": [
    "# best parameters from automatic parameters tuning\n",
    "start_time = time.time()\n",
    "svc_rbf_clsf = SVC(**tuned_svcclsf_rbf.best_params_)\n",
    "svc_rbf_clsf.fit(data_split.x_train, data_split.y_train)\n",
    "logger.info(\"Training: - %s seconds -\" % (time.time() - start_time))"
   ],
   "metadata": {
    "collapsed": false,
    "pycharm": {
     "name": "#%%\n"
    }
   }
  },
  {
   "cell_type": "markdown",
   "source": [
    "# Performance"
   ],
   "metadata": {
    "collapsed": false,
    "pycharm": {
     "name": "#%% md\n"
    }
   }
  },
  {
   "cell_type": "code",
   "execution_count": 49,
   "outputs": [
    {
     "name": "stderr",
     "output_type": "stream",
     "text": [
      "2022-12-28 18:22:27.008 | INFO     | __main__:<module>:3 - Prediction: - 67.57905101776123 seconds -\n"
     ]
    }
   ],
   "source": [
    "start_time = time.time()\n",
    "svc_rbf_test_pred = svc_rbf_clsf.predict(data_split.x_test)\n",
    "logger.info(\"Prediction: - %s seconds -\" % (time.time() - start_time))\n",
    "svc_rbf_test_eval = eva.Evaluation(y_true=data_split.y_test, y_pred=svc_rbf_test_pred)"
   ],
   "metadata": {
    "collapsed": false,
    "pycharm": {
     "name": "#%%\n"
    }
   }
  },
  {
   "cell_type": "code",
   "execution_count": 58,
   "outputs": [
    {
     "name": "stdout",
     "output_type": "stream",
     "text": [
      "Testing:\n",
      "-----Model Evaluations:-----\n",
      "Accuracy score: 0.9589\n"
     ]
    }
   ],
   "source": [
    "print(\"Testing:\")\n",
    "svc_rbf_test_eval.acc_eval()"
   ],
   "metadata": {
    "collapsed": false,
    "pycharm": {
     "name": "#%%\n"
    }
   }
  },
  {
   "cell_type": "code",
   "execution_count": 51,
   "outputs": [],
   "source": [
    "# save the model and evaluations\n",
    "svc_rbf_model = eva.EvaluatedModel(svc_rbf_clsf, \"svcrbf\", test_eval=svc_rbf_test_eval)\n",
    "svc_rbf_model.save_evaluation()"
   ],
   "metadata": {
    "collapsed": false,
    "pycharm": {
     "name": "#%%\n"
    }
   }
  },
  {
   "cell_type": "code",
   "execution_count": 52,
   "outputs": [],
   "source": [
    "# load the previously saved model and evaluations\n",
    "svc_rbf_model = eva.EvaluatedModel.load_evaluation(\"svcrbf\")"
   ],
   "metadata": {
    "collapsed": false,
    "pycharm": {
     "name": "#%%\n"
    }
   }
  },
  {
   "cell_type": "markdown",
   "source": [
    "### Confusion Matrix"
   ],
   "metadata": {
    "collapsed": false,
    "pycharm": {
     "name": "#%% md\n"
    }
   }
  },
  {
   "cell_type": "code",
   "execution_count": 53,
   "outputs": [
    {
     "data": {
      "text/plain": "<Figure size 864x576 with 2 Axes>",
      "image/png": "[encoded data removed]"
     },
     "metadata": {},
     "output_type": "display_data"
    }
   ],
   "source": [
    "svc_rbf_model.test_eval.conf_mat()"
   ],
   "metadata": {
    "collapsed": false,
    "pycharm": {
     "name": "#%%\n"
    }
   }
  },
  {
   "cell_type": "markdown",
   "source": [],
   "metadata": {
    "collapsed": false,
    "pycharm": {
     "name": "#%% md\n"
    }
   }
  }
 ],
 "metadata": {
  "kernelspec": {
   "display_name": "Python 3",
   "language": "python",
   "name": "python3"
  },
  "language_info": {
   "codemirror_mode": {
    "name": "ipython",
    "version": 2
   },
   "file_extension": ".py",
   "mimetype": "text/x-python",
   "name": "python",
   "nbconvert_exporter": "python",
   "pygments_lexer": "ipython2",
   "version": "2.7.6"
  }
 },
 "nbformat": 4,
 "nbformat_minor": 0
}