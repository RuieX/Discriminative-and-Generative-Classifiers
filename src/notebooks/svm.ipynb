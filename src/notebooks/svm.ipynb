{
 "cells": [
  {
   "cell_type": "markdown",
   "source": [
    "# Support Vector Machine Classifier"
   ],
   "metadata": {
    "collapsed": false,
    "pycharm": {
     "name": "#%% md\n"
    }
   }
  },
  {
   "cell_type": "markdown",
   "source": [
    "# Setup\n",
    "Let us import the required modules."
   ],
   "metadata": {
    "collapsed": false,
    "pycharm": {
     "name": "#%% md\n"
    }
   }
  },
  {
   "cell_type": "code",
   "execution_count": 65,
   "outputs": [],
   "source": [
    "import pandas as pd\n",
    "import seaborn as sns\n",
    "\n",
    "from loguru import logger\n",
    "from sklearn.svm import SVC\n",
    "from sklearn.metrics import accuracy_score\n",
    "\n",
    "import src.utilities.data_split as ds\n",
    "import src.utilities.evaluation as eva\n",
    "import src.utilities.model_selection as ms"
   ],
   "metadata": {
    "collapsed": false,
    "pycharm": {
     "name": "#%%\n"
    }
   }
  },
  {
   "cell_type": "markdown",
   "source": [
    "## Load Data\n",
    "Note that the dataset is already split into Train-Test sets."
   ],
   "metadata": {
    "collapsed": false,
    "pycharm": {
     "name": "#%% md\n"
    }
   }
  },
  {
   "cell_type": "code",
   "execution_count": 2,
   "outputs": [],
   "source": [
    "data_split = ds.TrainTestSplit.from_csv_directory(dir_path=\"../data\")"
   ],
   "metadata": {
    "collapsed": false,
    "pycharm": {
     "name": "#%%\n"
    }
   }
  },
  {
   "cell_type": "code",
   "execution_count": 3,
   "outputs": [
    {
     "name": "stdout",
     "output_type": "stream",
     "text": [
      "<class 'pandas.core.frame.DataFrame'>\n",
      "RangeIndex: 60000 entries, 0 to 59999\n",
      "Data columns (total 719 columns):\n",
      " #    Column    Dtype  \n",
      "---   ------    -----  \n",
      " 0    pixel13   float64\n",
      " 1    pixel14   float64\n",
      " 2    pixel15   float64\n",
      " 3    pixel16   float64\n",
      " 4    pixel33   float64\n",
      " 5    pixel34   float64\n",
      " 6    pixel35   float64\n",
      " 7    pixel36   float64\n",
      " 8    pixel37   float64\n",
      " 9    pixel38   float64\n",
      " 10   pixel39   float64\n",
      " 11   pixel40   float64\n",
      " 12   pixel41   float64\n",
      " 13   pixel42   float64\n",
      " 14   pixel43   float64\n",
      " 15   pixel44   float64\n",
      " 16   pixel45   float64\n",
      " 17   pixel46   float64\n",
      " 18   pixel47   float64\n",
      " 19   pixel48   float64\n",
      " 20   pixel49   float64\n",
      " 21   pixel50   float64\n",
      " 22   pixel51   float64\n",
      " 23   pixel52   float64\n",
      " 24   pixel59   float64\n",
      " 25   pixel60   float64\n",
      " 26   pixel61   float64\n",
      " 27   pixel62   float64\n",
      " 28   pixel63   float64\n",
      " 29   pixel64   float64\n",
      " 30   pixel65   float64\n",
      " 31   pixel66   float64\n",
      " 32   pixel67   float64\n",
      " 33   pixel68   float64\n",
      " 34   pixel69   float64\n",
      " 35   pixel70   float64\n",
      " 36   pixel71   float64\n",
      " 37   pixel72   float64\n",
      " 38   pixel73   float64\n",
      " 39   pixel74   float64\n",
      " 40   pixel75   float64\n",
      " 41   pixel76   float64\n",
      " 42   pixel77   float64\n",
      " 43   pixel78   float64\n",
      " 44   pixel79   float64\n",
      " 45   pixel80   float64\n",
      " 46   pixel81   float64\n",
      " 47   pixel82   float64\n",
      " 48   pixel87   float64\n",
      " 49   pixel88   float64\n",
      " 50   pixel89   float64\n",
      " 51   pixel90   float64\n",
      " 52   pixel91   float64\n",
      " 53   pixel92   float64\n",
      " 54   pixel93   float64\n",
      " 55   pixel94   float64\n",
      " 56   pixel95   float64\n",
      " 57   pixel96   float64\n",
      " 58   pixel97   float64\n",
      " 59   pixel98   float64\n",
      " 60   pixel99   float64\n",
      " 61   pixel100  float64\n",
      " 62   pixel101  float64\n",
      " 63   pixel102  float64\n",
      " 64   pixel103  float64\n",
      " 65   pixel104  float64\n",
      " 66   pixel105  float64\n",
      " 67   pixel106  float64\n",
      " 68   pixel107  float64\n",
      " 69   pixel108  float64\n",
      " 70   pixel109  float64\n",
      " 71   pixel110  float64\n",
      " 72   pixel111  float64\n",
      " 73   pixel114  float64\n",
      " 74   pixel115  float64\n",
      " 75   pixel116  float64\n",
      " 76   pixel117  float64\n",
      " 77   pixel118  float64\n",
      " 78   pixel119  float64\n",
      " 79   pixel120  float64\n",
      " 80   pixel121  float64\n",
      " 81   pixel122  float64\n",
      " 82   pixel123  float64\n",
      " 83   pixel124  float64\n",
      " 84   pixel125  float64\n",
      " 85   pixel126  float64\n",
      " 86   pixel127  float64\n",
      " 87   pixel128  float64\n",
      " 88   pixel129  float64\n",
      " 89   pixel130  float64\n",
      " 90   pixel131  float64\n",
      " 91   pixel132  float64\n",
      " 92   pixel133  float64\n",
      " 93   pixel134  float64\n",
      " 94   pixel135  float64\n",
      " 95   pixel136  float64\n",
      " 96   pixel137  float64\n",
      " 97   pixel138  float64\n",
      " 98   pixel139  float64\n",
      " 99   pixel140  float64\n",
      " 100  pixel142  float64\n",
      " 101  pixel143  float64\n",
      " 102  pixel144  float64\n",
      " 103  pixel145  float64\n",
      " 104  pixel146  float64\n",
      " 105  pixel147  float64\n",
      " 106  pixel148  float64\n",
      " 107  pixel149  float64\n",
      " 108  pixel150  float64\n",
      " 109  pixel151  float64\n",
      " 110  pixel152  float64\n",
      " 111  pixel153  float64\n",
      " 112  pixel154  float64\n",
      " 113  pixel155  float64\n",
      " 114  pixel156  float64\n",
      " 115  pixel157  float64\n",
      " 116  pixel158  float64\n",
      " 117  pixel159  float64\n",
      " 118  pixel160  float64\n",
      " 119  pixel161  float64\n",
      " 120  pixel162  float64\n",
      " 121  pixel163  float64\n",
      " 122  pixel164  float64\n",
      " 123  pixel165  float64\n",
      " 124  pixel166  float64\n",
      " 125  pixel167  float64\n",
      " 126  pixel168  float64\n",
      " 127  pixel170  float64\n",
      " 128  pixel171  float64\n",
      " 129  pixel172  float64\n",
      " 130  pixel173  float64\n",
      " 131  pixel174  float64\n",
      " 132  pixel175  float64\n",
      " 133  pixel176  float64\n",
      " 134  pixel177  float64\n",
      " 135  pixel178  float64\n",
      " 136  pixel179  float64\n",
      " 137  pixel180  float64\n",
      " 138  pixel181  float64\n",
      " 139  pixel182  float64\n",
      " 140  pixel183  float64\n",
      " 141  pixel184  float64\n",
      " 142  pixel185  float64\n",
      " 143  pixel186  float64\n",
      " 144  pixel187  float64\n",
      " 145  pixel188  float64\n",
      " 146  pixel189  float64\n",
      " 147  pixel190  float64\n",
      " 148  pixel191  float64\n",
      " 149  pixel192  float64\n",
      " 150  pixel193  float64\n",
      " 151  pixel194  float64\n",
      " 152  pixel195  float64\n",
      " 153  pixel196  float64\n",
      " 154  pixel197  float64\n",
      " 155  pixel198  float64\n",
      " 156  pixel199  float64\n",
      " 157  pixel200  float64\n",
      " 158  pixel201  float64\n",
      " 159  pixel202  float64\n",
      " 160  pixel203  float64\n",
      " 161  pixel204  float64\n",
      " 162  pixel205  float64\n",
      " 163  pixel206  float64\n",
      " 164  pixel207  float64\n",
      " 165  pixel208  float64\n",
      " 166  pixel209  float64\n",
      " 167  pixel210  float64\n",
      " 168  pixel211  float64\n",
      " 169  pixel212  float64\n",
      " 170  pixel213  float64\n",
      " 171  pixel214  float64\n",
      " 172  pixel215  float64\n",
      " 173  pixel216  float64\n",
      " 174  pixel217  float64\n",
      " 175  pixel218  float64\n",
      " 176  pixel219  float64\n",
      " 177  pixel220  float64\n",
      " 178  pixel221  float64\n",
      " 179  pixel222  float64\n",
      " 180  pixel223  float64\n",
      " 181  pixel224  float64\n",
      " 182  pixel225  float64\n",
      " 183  pixel226  float64\n",
      " 184  pixel227  float64\n",
      " 185  pixel228  float64\n",
      " 186  pixel229  float64\n",
      " 187  pixel230  float64\n",
      " 188  pixel231  float64\n",
      " 189  pixel232  float64\n",
      " 190  pixel233  float64\n",
      " 191  pixel234  float64\n",
      " 192  pixel235  float64\n",
      " 193  pixel236  float64\n",
      " 194  pixel237  float64\n",
      " 195  pixel238  float64\n",
      " 196  pixel239  float64\n",
      " 197  pixel240  float64\n",
      " 198  pixel241  float64\n",
      " 199  pixel242  float64\n",
      " 200  pixel243  float64\n",
      " 201  pixel244  float64\n",
      " 202  pixel245  float64\n",
      " 203  pixel246  float64\n",
      " 204  pixel247  float64\n",
      " 205  pixel248  float64\n",
      " 206  pixel249  float64\n",
      " 207  pixel250  float64\n",
      " 208  pixel251  float64\n",
      " 209  pixel252  float64\n",
      " 210  pixel253  float64\n",
      " 211  pixel254  float64\n",
      " 212  pixel255  float64\n",
      " 213  pixel256  float64\n",
      " 214  pixel257  float64\n",
      " 215  pixel258  float64\n",
      " 216  pixel259  float64\n",
      " 217  pixel260  float64\n",
      " 218  pixel261  float64\n",
      " 219  pixel262  float64\n",
      " 220  pixel263  float64\n",
      " 221  pixel264  float64\n",
      " 222  pixel265  float64\n",
      " 223  pixel266  float64\n",
      " 224  pixel267  float64\n",
      " 225  pixel268  float64\n",
      " 226  pixel269  float64\n",
      " 227  pixel270  float64\n",
      " 228  pixel271  float64\n",
      " 229  pixel272  float64\n",
      " 230  pixel273  float64\n",
      " 231  pixel274  float64\n",
      " 232  pixel275  float64\n",
      " 233  pixel276  float64\n",
      " 234  pixel277  float64\n",
      " 235  pixel278  float64\n",
      " 236  pixel279  float64\n",
      " 237  pixel280  float64\n",
      " 238  pixel281  float64\n",
      " 239  pixel282  float64\n",
      " 240  pixel283  float64\n",
      " 241  pixel284  float64\n",
      " 242  pixel285  float64\n",
      " 243  pixel286  float64\n",
      " 244  pixel287  float64\n",
      " 245  pixel288  float64\n",
      " 246  pixel289  float64\n",
      " 247  pixel290  float64\n",
      " 248  pixel291  float64\n",
      " 249  pixel292  float64\n",
      " 250  pixel293  float64\n",
      " 251  pixel294  float64\n",
      " 252  pixel295  float64\n",
      " 253  pixel296  float64\n",
      " 254  pixel297  float64\n",
      " 255  pixel298  float64\n",
      " 256  pixel299  float64\n",
      " 257  pixel300  float64\n",
      " 258  pixel301  float64\n",
      " 259  pixel302  float64\n",
      " 260  pixel303  float64\n",
      " 261  pixel304  float64\n",
      " 262  pixel305  float64\n",
      " 263  pixel306  float64\n",
      " 264  pixel307  float64\n",
      " 265  pixel308  float64\n",
      " 266  pixel309  float64\n",
      " 267  pixel310  float64\n",
      " 268  pixel311  float64\n",
      " 269  pixel312  float64\n",
      " 270  pixel313  float64\n",
      " 271  pixel314  float64\n",
      " 272  pixel315  float64\n",
      " 273  pixel316  float64\n",
      " 274  pixel317  float64\n",
      " 275  pixel318  float64\n",
      " 276  pixel319  float64\n",
      " 277  pixel320  float64\n",
      " 278  pixel321  float64\n",
      " 279  pixel322  float64\n",
      " 280  pixel323  float64\n",
      " 281  pixel324  float64\n",
      " 282  pixel325  float64\n",
      " 283  pixel326  float64\n",
      " 284  pixel327  float64\n",
      " 285  pixel328  float64\n",
      " 286  pixel329  float64\n",
      " 287  pixel330  float64\n",
      " 288  pixel331  float64\n",
      " 289  pixel332  float64\n",
      " 290  pixel333  float64\n",
      " 291  pixel334  float64\n",
      " 292  pixel335  float64\n",
      " 293  pixel336  float64\n",
      " 294  pixel337  float64\n",
      " 295  pixel338  float64\n",
      " 296  pixel339  float64\n",
      " 297  pixel340  float64\n",
      " 298  pixel341  float64\n",
      " 299  pixel342  float64\n",
      " 300  pixel343  float64\n",
      " 301  pixel344  float64\n",
      " 302  pixel345  float64\n",
      " 303  pixel346  float64\n",
      " 304  pixel347  float64\n",
      " 305  pixel348  float64\n",
      " 306  pixel349  float64\n",
      " 307  pixel350  float64\n",
      " 308  pixel351  float64\n",
      " 309  pixel352  float64\n",
      " 310  pixel353  float64\n",
      " 311  pixel354  float64\n",
      " 312  pixel355  float64\n",
      " 313  pixel356  float64\n",
      " 314  pixel357  float64\n",
      " 315  pixel358  float64\n",
      " 316  pixel359  float64\n",
      " 317  pixel360  float64\n",
      " 318  pixel361  float64\n",
      " 319  pixel362  float64\n",
      " 320  pixel363  float64\n",
      " 321  pixel364  float64\n",
      " 322  pixel365  float64\n",
      " 323  pixel366  float64\n",
      " 324  pixel367  float64\n",
      " 325  pixel368  float64\n",
      " 326  pixel369  float64\n",
      " 327  pixel370  float64\n",
      " 328  pixel371  float64\n",
      " 329  pixel372  float64\n",
      " 330  pixel373  float64\n",
      " 331  pixel374  float64\n",
      " 332  pixel375  float64\n",
      " 333  pixel376  float64\n",
      " 334  pixel377  float64\n",
      " 335  pixel378  float64\n",
      " 336  pixel379  float64\n",
      " 337  pixel380  float64\n",
      " 338  pixel381  float64\n",
      " 339  pixel382  float64\n",
      " 340  pixel383  float64\n",
      " 341  pixel384  float64\n",
      " 342  pixel385  float64\n",
      " 343  pixel386  float64\n",
      " 344  pixel387  float64\n",
      " 345  pixel388  float64\n",
      " 346  pixel389  float64\n",
      " 347  pixel390  float64\n",
      " 348  pixel391  float64\n",
      " 349  pixel392  float64\n",
      " 350  pixel393  float64\n",
      " 351  pixel394  float64\n",
      " 352  pixel395  float64\n",
      " 353  pixel396  float64\n",
      " 354  pixel397  float64\n",
      " 355  pixel398  float64\n",
      " 356  pixel399  float64\n",
      " 357  pixel400  float64\n",
      " 358  pixel401  float64\n",
      " 359  pixel402  float64\n",
      " 360  pixel403  float64\n",
      " 361  pixel404  float64\n",
      " 362  pixel405  float64\n",
      " 363  pixel406  float64\n",
      " 364  pixel407  float64\n",
      " 365  pixel408  float64\n",
      " 366  pixel409  float64\n",
      " 367  pixel410  float64\n",
      " 368  pixel411  float64\n",
      " 369  pixel412  float64\n",
      " 370  pixel413  float64\n",
      " 371  pixel414  float64\n",
      " 372  pixel415  float64\n",
      " 373  pixel416  float64\n",
      " 374  pixel417  float64\n",
      " 375  pixel418  float64\n",
      " 376  pixel419  float64\n",
      " 377  pixel420  float64\n",
      " 378  pixel421  float64\n",
      " 379  pixel422  float64\n",
      " 380  pixel423  float64\n",
      " 381  pixel424  float64\n",
      " 382  pixel425  float64\n",
      " 383  pixel426  float64\n",
      " 384  pixel427  float64\n",
      " 385  pixel428  float64\n",
      " 386  pixel429  float64\n",
      " 387  pixel430  float64\n",
      " 388  pixel431  float64\n",
      " 389  pixel432  float64\n",
      " 390  pixel433  float64\n",
      " 391  pixel434  float64\n",
      " 392  pixel435  float64\n",
      " 393  pixel436  float64\n",
      " 394  pixel437  float64\n",
      " 395  pixel438  float64\n",
      " 396  pixel439  float64\n",
      " 397  pixel440  float64\n",
      " 398  pixel441  float64\n",
      " 399  pixel442  float64\n",
      " 400  pixel443  float64\n",
      " 401  pixel444  float64\n",
      " 402  pixel445  float64\n",
      " 403  pixel446  float64\n",
      " 404  pixel447  float64\n",
      " 405  pixel448  float64\n",
      " 406  pixel449  float64\n",
      " 407  pixel450  float64\n",
      " 408  pixel451  float64\n",
      " 409  pixel452  float64\n",
      " 410  pixel453  float64\n",
      " 411  pixel454  float64\n",
      " 412  pixel455  float64\n",
      " 413  pixel456  float64\n",
      " 414  pixel457  float64\n",
      " 415  pixel458  float64\n",
      " 416  pixel459  float64\n",
      " 417  pixel460  float64\n",
      " 418  pixel461  float64\n",
      " 419  pixel462  float64\n",
      " 420  pixel463  float64\n",
      " 421  pixel464  float64\n",
      " 422  pixel465  float64\n",
      " 423  pixel466  float64\n",
      " 424  pixel467  float64\n",
      " 425  pixel468  float64\n",
      " 426  pixel469  float64\n",
      " 427  pixel470  float64\n",
      " 428  pixel471  float64\n",
      " 429  pixel472  float64\n",
      " 430  pixel473  float64\n",
      " 431  pixel474  float64\n",
      " 432  pixel475  float64\n",
      " 433  pixel476  float64\n",
      " 434  pixel478  float64\n",
      " 435  pixel479  float64\n",
      " 436  pixel480  float64\n",
      " 437  pixel481  float64\n",
      " 438  pixel482  float64\n",
      " 439  pixel483  float64\n",
      " 440  pixel484  float64\n",
      " 441  pixel485  float64\n",
      " 442  pixel486  float64\n",
      " 443  pixel487  float64\n",
      " 444  pixel488  float64\n",
      " 445  pixel489  float64\n",
      " 446  pixel490  float64\n",
      " 447  pixel491  float64\n",
      " 448  pixel492  float64\n",
      " 449  pixel493  float64\n",
      " 450  pixel494  float64\n",
      " 451  pixel495  float64\n",
      " 452  pixel496  float64\n",
      " 453  pixel497  float64\n",
      " 454  pixel498  float64\n",
      " 455  pixel499  float64\n",
      " 456  pixel500  float64\n",
      " 457  pixel501  float64\n",
      " 458  pixel502  float64\n",
      " 459  pixel503  float64\n",
      " 460  pixel504  float64\n",
      " 461  pixel505  float64\n",
      " 462  pixel506  float64\n",
      " 463  pixel507  float64\n",
      " 464  pixel508  float64\n",
      " 465  pixel509  float64\n",
      " 466  pixel510  float64\n",
      " 467  pixel511  float64\n",
      " 468  pixel512  float64\n",
      " 469  pixel513  float64\n",
      " 470  pixel514  float64\n",
      " 471  pixel515  float64\n",
      " 472  pixel516  float64\n",
      " 473  pixel517  float64\n",
      " 474  pixel518  float64\n",
      " 475  pixel519  float64\n",
      " 476  pixel520  float64\n",
      " 477  pixel521  float64\n",
      " 478  pixel522  float64\n",
      " 479  pixel523  float64\n",
      " 480  pixel524  float64\n",
      " 481  pixel525  float64\n",
      " 482  pixel526  float64\n",
      " 483  pixel527  float64\n",
      " 484  pixel528  float64\n",
      " 485  pixel529  float64\n",
      " 486  pixel530  float64\n",
      " 487  pixel531  float64\n",
      " 488  pixel532  float64\n",
      " 489  pixel533  float64\n",
      " 490  pixel534  float64\n",
      " 491  pixel535  float64\n",
      " 492  pixel536  float64\n",
      " 493  pixel537  float64\n",
      " 494  pixel538  float64\n",
      " 495  pixel539  float64\n",
      " 496  pixel540  float64\n",
      " 497  pixel541  float64\n",
      " 498  pixel542  float64\n",
      " 499  pixel543  float64\n",
      " 500  pixel544  float64\n",
      " 501  pixel545  float64\n",
      " 502  pixel546  float64\n",
      " 503  pixel547  float64\n",
      " 504  pixel548  float64\n",
      " 505  pixel549  float64\n",
      " 506  pixel550  float64\n",
      " 507  pixel551  float64\n",
      " 508  pixel552  float64\n",
      " 509  pixel553  float64\n",
      " 510  pixel554  float64\n",
      " 511  pixel555  float64\n",
      " 512  pixel556  float64\n",
      " 513  pixel557  float64\n",
      " 514  pixel558  float64\n",
      " 515  pixel559  float64\n",
      " 516  pixel560  float64\n",
      " 517  pixel562  float64\n",
      " 518  pixel563  float64\n",
      " 519  pixel564  float64\n",
      " 520  pixel565  float64\n",
      " 521  pixel566  float64\n",
      " 522  pixel567  float64\n",
      " 523  pixel568  float64\n",
      " 524  pixel569  float64\n",
      " 525  pixel570  float64\n",
      " 526  pixel571  float64\n",
      " 527  pixel572  float64\n",
      " 528  pixel573  float64\n",
      " 529  pixel574  float64\n",
      " 530  pixel575  float64\n",
      " 531  pixel576  float64\n",
      " 532  pixel577  float64\n",
      " 533  pixel578  float64\n",
      " 534  pixel579  float64\n",
      " 535  pixel580  float64\n",
      " 536  pixel581  float64\n",
      " 537  pixel582  float64\n",
      " 538  pixel583  float64\n",
      " 539  pixel584  float64\n",
      " 540  pixel585  float64\n",
      " 541  pixel586  float64\n",
      " 542  pixel587  float64\n",
      " 543  pixel588  float64\n",
      " 544  pixel589  float64\n",
      " 545  pixel590  float64\n",
      " 546  pixel591  float64\n",
      " 547  pixel592  float64\n",
      " 548  pixel593  float64\n",
      " 549  pixel594  float64\n",
      " 550  pixel595  float64\n",
      " 551  pixel596  float64\n",
      " 552  pixel597  float64\n",
      " 553  pixel598  float64\n",
      " 554  pixel599  float64\n",
      " 555  pixel600  float64\n",
      " 556  pixel601  float64\n",
      " 557  pixel602  float64\n",
      " 558  pixel603  float64\n",
      " 559  pixel604  float64\n",
      " 560  pixel605  float64\n",
      " 561  pixel606  float64\n",
      " 562  pixel607  float64\n",
      " 563  pixel608  float64\n",
      " 564  pixel609  float64\n",
      " 565  pixel610  float64\n",
      " 566  pixel611  float64\n",
      " 567  pixel612  float64\n",
      " 568  pixel613  float64\n",
      " 569  pixel614  float64\n",
      " 570  pixel615  float64\n",
      " 571  pixel616  float64\n",
      " 572  pixel617  float64\n",
      " 573  pixel618  float64\n",
      " 574  pixel619  float64\n",
      " 575  pixel620  float64\n",
      " 576  pixel621  float64\n",
      " 577  pixel622  float64\n",
      " 578  pixel623  float64\n",
      " 579  pixel624  float64\n",
      " 580  pixel625  float64\n",
      " 581  pixel626  float64\n",
      " 582  pixel627  float64\n",
      " 583  pixel628  float64\n",
      " 584  pixel629  float64\n",
      " 585  pixel630  float64\n",
      " 586  pixel631  float64\n",
      " 587  pixel632  float64\n",
      " 588  pixel633  float64\n",
      " 589  pixel634  float64\n",
      " 590  pixel635  float64\n",
      " 591  pixel636  float64\n",
      " 592  pixel637  float64\n",
      " 593  pixel638  float64\n",
      " 594  pixel639  float64\n",
      " 595  pixel640  float64\n",
      " 596  pixel641  float64\n",
      " 597  pixel642  float64\n",
      " 598  pixel643  float64\n",
      " 599  pixel644  float64\n",
      " 600  pixel646  float64\n",
      " 601  pixel647  float64\n",
      " 602  pixel648  float64\n",
      " 603  pixel649  float64\n",
      " 604  pixel650  float64\n",
      " 605  pixel651  float64\n",
      " 606  pixel652  float64\n",
      " 607  pixel653  float64\n",
      " 608  pixel654  float64\n",
      " 609  pixel655  float64\n",
      " 610  pixel656  float64\n",
      " 611  pixel657  float64\n",
      " 612  pixel658  float64\n",
      " 613  pixel659  float64\n",
      " 614  pixel660  float64\n",
      " 615  pixel661  float64\n",
      " 616  pixel662  float64\n",
      " 617  pixel663  float64\n",
      " 618  pixel664  float64\n",
      " 619  pixel665  float64\n",
      " 620  pixel666  float64\n",
      " 621  pixel667  float64\n",
      " 622  pixel668  float64\n",
      " 623  pixel669  float64\n",
      " 624  pixel670  float64\n",
      " 625  pixel671  float64\n",
      " 626  pixel675  float64\n",
      " 627  pixel676  float64\n",
      " 628  pixel677  float64\n",
      " 629  pixel678  float64\n",
      " 630  pixel679  float64\n",
      " 631  pixel680  float64\n",
      " 632  pixel681  float64\n",
      " 633  pixel682  float64\n",
      " 634  pixel683  float64\n",
      " 635  pixel684  float64\n",
      " 636  pixel685  float64\n",
      " 637  pixel686  float64\n",
      " 638  pixel687  float64\n",
      " 639  pixel688  float64\n",
      " 640  pixel689  float64\n",
      " 641  pixel690  float64\n",
      " 642  pixel691  float64\n",
      " 643  pixel692  float64\n",
      " 644  pixel693  float64\n",
      " 645  pixel694  float64\n",
      " 646  pixel695  float64\n",
      " 647  pixel696  float64\n",
      " 648  pixel697  float64\n",
      " 649  pixel698  float64\n",
      " 650  pixel699  float64\n",
      " 651  pixel703  float64\n",
      " 652  pixel704  float64\n",
      " 653  pixel705  float64\n",
      " 654  pixel706  float64\n",
      " 655  pixel707  float64\n",
      " 656  pixel708  float64\n",
      " 657  pixel709  float64\n",
      " 658  pixel710  float64\n",
      " 659  pixel711  float64\n",
      " 660  pixel712  float64\n",
      " 661  pixel713  float64\n",
      " 662  pixel714  float64\n",
      " 663  pixel715  float64\n",
      " 664  pixel716  float64\n",
      " 665  pixel717  float64\n",
      " 666  pixel718  float64\n",
      " 667  pixel719  float64\n",
      " 668  pixel720  float64\n",
      " 669  pixel721  float64\n",
      " 670  pixel722  float64\n",
      " 671  pixel723  float64\n",
      " 672  pixel724  float64\n",
      " 673  pixel725  float64\n",
      " 674  pixel726  float64\n",
      " 675  pixel727  float64\n",
      " 676  pixel732  float64\n",
      " 677  pixel733  float64\n",
      " 678  pixel734  float64\n",
      " 679  pixel735  float64\n",
      " 680  pixel736  float64\n",
      " 681  pixel737  float64\n",
      " 682  pixel738  float64\n",
      " 683  pixel739  float64\n",
      " 684  pixel740  float64\n",
      " 685  pixel741  float64\n",
      " 686  pixel742  float64\n",
      " 687  pixel743  float64\n",
      " 688  pixel744  float64\n",
      " 689  pixel745  float64\n",
      " 690  pixel746  float64\n",
      " 691  pixel747  float64\n",
      " 692  pixel748  float64\n",
      " 693  pixel749  float64\n",
      " 694  pixel750  float64\n",
      " 695  pixel751  float64\n",
      " 696  pixel752  float64\n",
      " 697  pixel753  float64\n",
      " 698  pixel754  float64\n",
      " 699  pixel761  float64\n",
      " 700  pixel762  float64\n",
      " 701  pixel763  float64\n",
      " 702  pixel764  float64\n",
      " 703  pixel765  float64\n",
      " 704  pixel766  float64\n",
      " 705  pixel767  float64\n",
      " 706  pixel768  float64\n",
      " 707  pixel769  float64\n",
      " 708  pixel770  float64\n",
      " 709  pixel771  float64\n",
      " 710  pixel772  float64\n",
      " 711  pixel773  float64\n",
      " 712  pixel774  float64\n",
      " 713  pixel775  float64\n",
      " 714  pixel776  float64\n",
      " 715  pixel777  float64\n",
      " 716  pixel778  float64\n",
      " 717  pixel779  float64\n",
      " 718  pixel780  float64\n",
      "dtypes: float64(719)\n",
      "memory usage: 329.1 MB\n"
     ]
    }
   ],
   "source": [
    "data_split.x_train.info(verbose=True)"
   ],
   "metadata": {
    "collapsed": false,
    "pycharm": {
     "name": "#%%\n"
    }
   }
  },
  {
   "cell_type": "code",
   "execution_count": 4,
   "outputs": [
    {
     "data": {
      "text/plain": "(60000,)"
     },
     "execution_count": 4,
     "metadata": {},
     "output_type": "execute_result"
    }
   ],
   "source": [
    "data_split.y_train.shape"
   ],
   "metadata": {
    "collapsed": false,
    "pycharm": {
     "name": "#%%\n"
    }
   }
  },
  {
   "cell_type": "markdown",
   "source": [
    "## Tuning Discriminative Classifiers: SVM"
   ],
   "metadata": {
    "collapsed": false,
    "pycharm": {
     "name": "#%% md\n"
    }
   }
  },
  {
   "cell_type": "markdown",
   "source": [
    "Use a smaller dataset due to the workload of GridSearchCV on SVC"
   ],
   "metadata": {
    "collapsed": false,
    "pycharm": {
     "name": "#%% md\n"
    }
   }
  },
  {
   "cell_type": "code",
   "execution_count": 5,
   "outputs": [
    {
     "data": {
      "text/plain": "<AxesSubplot:ylabel='count'>"
     },
     "execution_count": 5,
     "metadata": {},
     "output_type": "execute_result"
    },
    {
     "data": {
      "text/plain": "<Figure size 432x288 with 1 Axes>",
      "image/png": "[encoded data removed]"
     },
     "metadata": {},
     "output_type": "display_data"
    }
   ],
   "source": [
    "sns.countplot(x=data_split.y_train)"
   ],
   "metadata": {
    "collapsed": false,
    "pycharm": {
     "name": "#%%\n"
    }
   }
  },
  {
   "cell_type": "code",
   "execution_count": 6,
   "outputs": [],
   "source": [
    "x_data_small, y_data_small = ds.get_train_subset(x_train=data_split.x_train, y_train=data_split.y_train, size=5000)"
   ],
   "metadata": {
    "collapsed": false,
    "pycharm": {
     "name": "#%%\n"
    }
   }
  },
  {
   "cell_type": "code",
   "execution_count": 7,
   "outputs": [
    {
     "data": {
      "text/plain": "<AxesSubplot:xlabel='Number', ylabel='count'>"
     },
     "execution_count": 7,
     "metadata": {},
     "output_type": "execute_result"
    },
    {
     "data": {
      "text/plain": "<Figure size 432x288 with 1 Axes>",
      "image/png": "[encoded data removed]"
     },
     "metadata": {},
     "output_type": "display_data"
    }
   ],
   "source": [
    "sns.countplot(x=y_data_small)"
   ],
   "metadata": {
    "collapsed": false,
    "pycharm": {
     "name": "#%%\n"
    }
   }
  },
  {
   "cell_type": "code",
   "execution_count": 8,
   "outputs": [
    {
     "name": "stdout",
     "output_type": "stream",
     "text": [
      "<class 'pandas.core.frame.DataFrame'>\n",
      "Int64Index: 5000 entries, 4024 to 4339\n",
      "Data columns (total 719 columns):\n",
      " #    Column    Dtype  \n",
      "---   ------    -----  \n",
      " 0    pixel13   float64\n",
      " 1    pixel14   float64\n",
      " 2    pixel15   float64\n",
      " 3    pixel16   float64\n",
      " 4    pixel33   float64\n",
      " 5    pixel34   float64\n",
      " 6    pixel35   float64\n",
      " 7    pixel36   float64\n",
      " 8    pixel37   float64\n",
      " 9    pixel38   float64\n",
      " 10   pixel39   float64\n",
      " 11   pixel40   float64\n",
      " 12   pixel41   float64\n",
      " 13   pixel42   float64\n",
      " 14   pixel43   float64\n",
      " 15   pixel44   float64\n",
      " 16   pixel45   float64\n",
      " 17   pixel46   float64\n",
      " 18   pixel47   float64\n",
      " 19   pixel48   float64\n",
      " 20   pixel49   float64\n",
      " 21   pixel50   float64\n",
      " 22   pixel51   float64\n",
      " 23   pixel52   float64\n",
      " 24   pixel59   float64\n",
      " 25   pixel60   float64\n",
      " 26   pixel61   float64\n",
      " 27   pixel62   float64\n",
      " 28   pixel63   float64\n",
      " 29   pixel64   float64\n",
      " 30   pixel65   float64\n",
      " 31   pixel66   float64\n",
      " 32   pixel67   float64\n",
      " 33   pixel68   float64\n",
      " 34   pixel69   float64\n",
      " 35   pixel70   float64\n",
      " 36   pixel71   float64\n",
      " 37   pixel72   float64\n",
      " 38   pixel73   float64\n",
      " 39   pixel74   float64\n",
      " 40   pixel75   float64\n",
      " 41   pixel76   float64\n",
      " 42   pixel77   float64\n",
      " 43   pixel78   float64\n",
      " 44   pixel79   float64\n",
      " 45   pixel80   float64\n",
      " 46   pixel81   float64\n",
      " 47   pixel82   float64\n",
      " 48   pixel87   float64\n",
      " 49   pixel88   float64\n",
      " 50   pixel89   float64\n",
      " 51   pixel90   float64\n",
      " 52   pixel91   float64\n",
      " 53   pixel92   float64\n",
      " 54   pixel93   float64\n",
      " 55   pixel94   float64\n",
      " 56   pixel95   float64\n",
      " 57   pixel96   float64\n",
      " 58   pixel97   float64\n",
      " 59   pixel98   float64\n",
      " 60   pixel99   float64\n",
      " 61   pixel100  float64\n",
      " 62   pixel101  float64\n",
      " 63   pixel102  float64\n",
      " 64   pixel103  float64\n",
      " 65   pixel104  float64\n",
      " 66   pixel105  float64\n",
      " 67   pixel106  float64\n",
      " 68   pixel107  float64\n",
      " 69   pixel108  float64\n",
      " 70   pixel109  float64\n",
      " 71   pixel110  float64\n",
      " 72   pixel111  float64\n",
      " 73   pixel114  float64\n",
      " 74   pixel115  float64\n",
      " 75   pixel116  float64\n",
      " 76   pixel117  float64\n",
      " 77   pixel118  float64\n",
      " 78   pixel119  float64\n",
      " 79   pixel120  float64\n",
      " 80   pixel121  float64\n",
      " 81   pixel122  float64\n",
      " 82   pixel123  float64\n",
      " 83   pixel124  float64\n",
      " 84   pixel125  float64\n",
      " 85   pixel126  float64\n",
      " 86   pixel127  float64\n",
      " 87   pixel128  float64\n",
      " 88   pixel129  float64\n",
      " 89   pixel130  float64\n",
      " 90   pixel131  float64\n",
      " 91   pixel132  float64\n",
      " 92   pixel133  float64\n",
      " 93   pixel134  float64\n",
      " 94   pixel135  float64\n",
      " 95   pixel136  float64\n",
      " 96   pixel137  float64\n",
      " 97   pixel138  float64\n",
      " 98   pixel139  float64\n",
      " 99   pixel140  float64\n",
      " 100  pixel142  float64\n",
      " 101  pixel143  float64\n",
      " 102  pixel144  float64\n",
      " 103  pixel145  float64\n",
      " 104  pixel146  float64\n",
      " 105  pixel147  float64\n",
      " 106  pixel148  float64\n",
      " 107  pixel149  float64\n",
      " 108  pixel150  float64\n",
      " 109  pixel151  float64\n",
      " 110  pixel152  float64\n",
      " 111  pixel153  float64\n",
      " 112  pixel154  float64\n",
      " 113  pixel155  float64\n",
      " 114  pixel156  float64\n",
      " 115  pixel157  float64\n",
      " 116  pixel158  float64\n",
      " 117  pixel159  float64\n",
      " 118  pixel160  float64\n",
      " 119  pixel161  float64\n",
      " 120  pixel162  float64\n",
      " 121  pixel163  float64\n",
      " 122  pixel164  float64\n",
      " 123  pixel165  float64\n",
      " 124  pixel166  float64\n",
      " 125  pixel167  float64\n",
      " 126  pixel168  float64\n",
      " 127  pixel170  float64\n",
      " 128  pixel171  float64\n",
      " 129  pixel172  float64\n",
      " 130  pixel173  float64\n",
      " 131  pixel174  float64\n",
      " 132  pixel175  float64\n",
      " 133  pixel176  float64\n",
      " 134  pixel177  float64\n",
      " 135  pixel178  float64\n",
      " 136  pixel179  float64\n",
      " 137  pixel180  float64\n",
      " 138  pixel181  float64\n",
      " 139  pixel182  float64\n",
      " 140  pixel183  float64\n",
      " 141  pixel184  float64\n",
      " 142  pixel185  float64\n",
      " 143  pixel186  float64\n",
      " 144  pixel187  float64\n",
      " 145  pixel188  float64\n",
      " 146  pixel189  float64\n",
      " 147  pixel190  float64\n",
      " 148  pixel191  float64\n",
      " 149  pixel192  float64\n",
      " 150  pixel193  float64\n",
      " 151  pixel194  float64\n",
      " 152  pixel195  float64\n",
      " 153  pixel196  float64\n",
      " 154  pixel197  float64\n",
      " 155  pixel198  float64\n",
      " 156  pixel199  float64\n",
      " 157  pixel200  float64\n",
      " 158  pixel201  float64\n",
      " 159  pixel202  float64\n",
      " 160  pixel203  float64\n",
      " 161  pixel204  float64\n",
      " 162  pixel205  float64\n",
      " 163  pixel206  float64\n",
      " 164  pixel207  float64\n",
      " 165  pixel208  float64\n",
      " 166  pixel209  float64\n",
      " 167  pixel210  float64\n",
      " 168  pixel211  float64\n",
      " 169  pixel212  float64\n",
      " 170  pixel213  float64\n",
      " 171  pixel214  float64\n",
      " 172  pixel215  float64\n",
      " 173  pixel216  float64\n",
      " 174  pixel217  float64\n",
      " 175  pixel218  float64\n",
      " 176  pixel219  float64\n",
      " 177  pixel220  float64\n",
      " 178  pixel221  float64\n",
      " 179  pixel222  float64\n",
      " 180  pixel223  float64\n",
      " 181  pixel224  float64\n",
      " 182  pixel225  float64\n",
      " 183  pixel226  float64\n",
      " 184  pixel227  float64\n",
      " 185  pixel228  float64\n",
      " 186  pixel229  float64\n",
      " 187  pixel230  float64\n",
      " 188  pixel231  float64\n",
      " 189  pixel232  float64\n",
      " 190  pixel233  float64\n",
      " 191  pixel234  float64\n",
      " 192  pixel235  float64\n",
      " 193  pixel236  float64\n",
      " 194  pixel237  float64\n",
      " 195  pixel238  float64\n",
      " 196  pixel239  float64\n",
      " 197  pixel240  float64\n",
      " 198  pixel241  float64\n",
      " 199  pixel242  float64\n",
      " 200  pixel243  float64\n",
      " 201  pixel244  float64\n",
      " 202  pixel245  float64\n",
      " 203  pixel246  float64\n",
      " 204  pixel247  float64\n",
      " 205  pixel248  float64\n",
      " 206  pixel249  float64\n",
      " 207  pixel250  float64\n",
      " 208  pixel251  float64\n",
      " 209  pixel252  float64\n",
      " 210  pixel253  float64\n",
      " 211  pixel254  float64\n",
      " 212  pixel255  float64\n",
      " 213  pixel256  float64\n",
      " 214  pixel257  float64\n",
      " 215  pixel258  float64\n",
      " 216  pixel259  float64\n",
      " 217  pixel260  float64\n",
      " 218  pixel261  float64\n",
      " 219  pixel262  float64\n",
      " 220  pixel263  float64\n",
      " 221  pixel264  float64\n",
      " 222  pixel265  float64\n",
      " 223  pixel266  float64\n",
      " 224  pixel267  float64\n",
      " 225  pixel268  float64\n",
      " 226  pixel269  float64\n",
      " 227  pixel270  float64\n",
      " 228  pixel271  float64\n",
      " 229  pixel272  float64\n",
      " 230  pixel273  float64\n",
      " 231  pixel274  float64\n",
      " 232  pixel275  float64\n",
      " 233  pixel276  float64\n",
      " 234  pixel277  float64\n",
      " 235  pixel278  float64\n",
      " 236  pixel279  float64\n",
      " 237  pixel280  float64\n",
      " 238  pixel281  float64\n",
      " 239  pixel282  float64\n",
      " 240  pixel283  float64\n",
      " 241  pixel284  float64\n",
      " 242  pixel285  float64\n",
      " 243  pixel286  float64\n",
      " 244  pixel287  float64\n",
      " 245  pixel288  float64\n",
      " 246  pixel289  float64\n",
      " 247  pixel290  float64\n",
      " 248  pixel291  float64\n",
      " 249  pixel292  float64\n",
      " 250  pixel293  float64\n",
      " 251  pixel294  float64\n",
      " 252  pixel295  float64\n",
      " 253  pixel296  float64\n",
      " 254  pixel297  float64\n",
      " 255  pixel298  float64\n",
      " 256  pixel299  float64\n",
      " 257  pixel300  float64\n",
      " 258  pixel301  float64\n",
      " 259  pixel302  float64\n",
      " 260  pixel303  float64\n",
      " 261  pixel304  float64\n",
      " 262  pixel305  float64\n",
      " 263  pixel306  float64\n",
      " 264  pixel307  float64\n",
      " 265  pixel308  float64\n",
      " 266  pixel309  float64\n",
      " 267  pixel310  float64\n",
      " 268  pixel311  float64\n",
      " 269  pixel312  float64\n",
      " 270  pixel313  float64\n",
      " 271  pixel314  float64\n",
      " 272  pixel315  float64\n",
      " 273  pixel316  float64\n",
      " 274  pixel317  float64\n",
      " 275  pixel318  float64\n",
      " 276  pixel319  float64\n",
      " 277  pixel320  float64\n",
      " 278  pixel321  float64\n",
      " 279  pixel322  float64\n",
      " 280  pixel323  float64\n",
      " 281  pixel324  float64\n",
      " 282  pixel325  float64\n",
      " 283  pixel326  float64\n",
      " 284  pixel327  float64\n",
      " 285  pixel328  float64\n",
      " 286  pixel329  float64\n",
      " 287  pixel330  float64\n",
      " 288  pixel331  float64\n",
      " 289  pixel332  float64\n",
      " 290  pixel333  float64\n",
      " 291  pixel334  float64\n",
      " 292  pixel335  float64\n",
      " 293  pixel336  float64\n",
      " 294  pixel337  float64\n",
      " 295  pixel338  float64\n",
      " 296  pixel339  float64\n",
      " 297  pixel340  float64\n",
      " 298  pixel341  float64\n",
      " 299  pixel342  float64\n",
      " 300  pixel343  float64\n",
      " 301  pixel344  float64\n",
      " 302  pixel345  float64\n",
      " 303  pixel346  float64\n",
      " 304  pixel347  float64\n",
      " 305  pixel348  float64\n",
      " 306  pixel349  float64\n",
      " 307  pixel350  float64\n",
      " 308  pixel351  float64\n",
      " 309  pixel352  float64\n",
      " 310  pixel353  float64\n",
      " 311  pixel354  float64\n",
      " 312  pixel355  float64\n",
      " 313  pixel356  float64\n",
      " 314  pixel357  float64\n",
      " 315  pixel358  float64\n",
      " 316  pixel359  float64\n",
      " 317  pixel360  float64\n",
      " 318  pixel361  float64\n",
      " 319  pixel362  float64\n",
      " 320  pixel363  float64\n",
      " 321  pixel364  float64\n",
      " 322  pixel365  float64\n",
      " 323  pixel366  float64\n",
      " 324  pixel367  float64\n",
      " 325  pixel368  float64\n",
      " 326  pixel369  float64\n",
      " 327  pixel370  float64\n",
      " 328  pixel371  float64\n",
      " 329  pixel372  float64\n",
      " 330  pixel373  float64\n",
      " 331  pixel374  float64\n",
      " 332  pixel375  float64\n",
      " 333  pixel376  float64\n",
      " 334  pixel377  float64\n",
      " 335  pixel378  float64\n",
      " 336  pixel379  float64\n",
      " 337  pixel380  float64\n",
      " 338  pixel381  float64\n",
      " 339  pixel382  float64\n",
      " 340  pixel383  float64\n",
      " 341  pixel384  float64\n",
      " 342  pixel385  float64\n",
      " 343  pixel386  float64\n",
      " 344  pixel387  float64\n",
      " 345  pixel388  float64\n",
      " 346  pixel389  float64\n",
      " 347  pixel390  float64\n",
      " 348  pixel391  float64\n",
      " 349  pixel392  float64\n",
      " 350  pixel393  float64\n",
      " 351  pixel394  float64\n",
      " 352  pixel395  float64\n",
      " 353  pixel396  float64\n",
      " 354  pixel397  float64\n",
      " 355  pixel398  float64\n",
      " 356  pixel399  float64\n",
      " 357  pixel400  float64\n",
      " 358  pixel401  float64\n",
      " 359  pixel402  float64\n",
      " 360  pixel403  float64\n",
      " 361  pixel404  float64\n",
      " 362  pixel405  float64\n",
      " 363  pixel406  float64\n",
      " 364  pixel407  float64\n",
      " 365  pixel408  float64\n",
      " 366  pixel409  float64\n",
      " 367  pixel410  float64\n",
      " 368  pixel411  float64\n",
      " 369  pixel412  float64\n",
      " 370  pixel413  float64\n",
      " 371  pixel414  float64\n",
      " 372  pixel415  float64\n",
      " 373  pixel416  float64\n",
      " 374  pixel417  float64\n",
      " 375  pixel418  float64\n",
      " 376  pixel419  float64\n",
      " 377  pixel420  float64\n",
      " 378  pixel421  float64\n",
      " 379  pixel422  float64\n",
      " 380  pixel423  float64\n",
      " 381  pixel424  float64\n",
      " 382  pixel425  float64\n",
      " 383  pixel426  float64\n",
      " 384  pixel427  float64\n",
      " 385  pixel428  float64\n",
      " 386  pixel429  float64\n",
      " 387  pixel430  float64\n",
      " 388  pixel431  float64\n",
      " 389  pixel432  float64\n",
      " 390  pixel433  float64\n",
      " 391  pixel434  float64\n",
      " 392  pixel435  float64\n",
      " 393  pixel436  float64\n",
      " 394  pixel437  float64\n",
      " 395  pixel438  float64\n",
      " 396  pixel439  float64\n",
      " 397  pixel440  float64\n",
      " 398  pixel441  float64\n",
      " 399  pixel442  float64\n",
      " 400  pixel443  float64\n",
      " 401  pixel444  float64\n",
      " 402  pixel445  float64\n",
      " 403  pixel446  float64\n",
      " 404  pixel447  float64\n",
      " 405  pixel448  float64\n",
      " 406  pixel449  float64\n",
      " 407  pixel450  float64\n",
      " 408  pixel451  float64\n",
      " 409  pixel452  float64\n",
      " 410  pixel453  float64\n",
      " 411  pixel454  float64\n",
      " 412  pixel455  float64\n",
      " 413  pixel456  float64\n",
      " 414  pixel457  float64\n",
      " 415  pixel458  float64\n",
      " 416  pixel459  float64\n",
      " 417  pixel460  float64\n",
      " 418  pixel461  float64\n",
      " 419  pixel462  float64\n",
      " 420  pixel463  float64\n",
      " 421  pixel464  float64\n",
      " 422  pixel465  float64\n",
      " 423  pixel466  float64\n",
      " 424  pixel467  float64\n",
      " 425  pixel468  float64\n",
      " 426  pixel469  float64\n",
      " 427  pixel470  float64\n",
      " 428  pixel471  float64\n",
      " 429  pixel472  float64\n",
      " 430  pixel473  float64\n",
      " 431  pixel474  float64\n",
      " 432  pixel475  float64\n",
      " 433  pixel476  float64\n",
      " 434  pixel478  float64\n",
      " 435  pixel479  float64\n",
      " 436  pixel480  float64\n",
      " 437  pixel481  float64\n",
      " 438  pixel482  float64\n",
      " 439  pixel483  float64\n",
      " 440  pixel484  float64\n",
      " 441  pixel485  float64\n",
      " 442  pixel486  float64\n",
      " 443  pixel487  float64\n",
      " 444  pixel488  float64\n",
      " 445  pixel489  float64\n",
      " 446  pixel490  float64\n",
      " 447  pixel491  float64\n",
      " 448  pixel492  float64\n",
      " 449  pixel493  float64\n",
      " 450  pixel494  float64\n",
      " 451  pixel495  float64\n",
      " 452  pixel496  float64\n",
      " 453  pixel497  float64\n",
      " 454  pixel498  float64\n",
      " 455  pixel499  float64\n",
      " 456  pixel500  float64\n",
      " 457  pixel501  float64\n",
      " 458  pixel502  float64\n",
      " 459  pixel503  float64\n",
      " 460  pixel504  float64\n",
      " 461  pixel505  float64\n",
      " 462  pixel506  float64\n",
      " 463  pixel507  float64\n",
      " 464  pixel508  float64\n",
      " 465  pixel509  float64\n",
      " 466  pixel510  float64\n",
      " 467  pixel511  float64\n",
      " 468  pixel512  float64\n",
      " 469  pixel513  float64\n",
      " 470  pixel514  float64\n",
      " 471  pixel515  float64\n",
      " 472  pixel516  float64\n",
      " 473  pixel517  float64\n",
      " 474  pixel518  float64\n",
      " 475  pixel519  float64\n",
      " 476  pixel520  float64\n",
      " 477  pixel521  float64\n",
      " 478  pixel522  float64\n",
      " 479  pixel523  float64\n",
      " 480  pixel524  float64\n",
      " 481  pixel525  float64\n",
      " 482  pixel526  float64\n",
      " 483  pixel527  float64\n",
      " 484  pixel528  float64\n",
      " 485  pixel529  float64\n",
      " 486  pixel530  float64\n",
      " 487  pixel531  float64\n",
      " 488  pixel532  float64\n",
      " 489  pixel533  float64\n",
      " 490  pixel534  float64\n",
      " 491  pixel535  float64\n",
      " 492  pixel536  float64\n",
      " 493  pixel537  float64\n",
      " 494  pixel538  float64\n",
      " 495  pixel539  float64\n",
      " 496  pixel540  float64\n",
      " 497  pixel541  float64\n",
      " 498  pixel542  float64\n",
      " 499  pixel543  float64\n",
      " 500  pixel544  float64\n",
      " 501  pixel545  float64\n",
      " 502  pixel546  float64\n",
      " 503  pixel547  float64\n",
      " 504  pixel548  float64\n",
      " 505  pixel549  float64\n",
      " 506  pixel550  float64\n",
      " 507  pixel551  float64\n",
      " 508  pixel552  float64\n",
      " 509  pixel553  float64\n",
      " 510  pixel554  float64\n",
      " 511  pixel555  float64\n",
      " 512  pixel556  float64\n",
      " 513  pixel557  float64\n",
      " 514  pixel558  float64\n",
      " 515  pixel559  float64\n",
      " 516  pixel560  float64\n",
      " 517  pixel562  float64\n",
      " 518  pixel563  float64\n",
      " 519  pixel564  float64\n",
      " 520  pixel565  float64\n",
      " 521  pixel566  float64\n",
      " 522  pixel567  float64\n",
      " 523  pixel568  float64\n",
      " 524  pixel569  float64\n",
      " 525  pixel570  float64\n",
      " 526  pixel571  float64\n",
      " 527  pixel572  float64\n",
      " 528  pixel573  float64\n",
      " 529  pixel574  float64\n",
      " 530  pixel575  float64\n",
      " 531  pixel576  float64\n",
      " 532  pixel577  float64\n",
      " 533  pixel578  float64\n",
      " 534  pixel579  float64\n",
      " 535  pixel580  float64\n",
      " 536  pixel581  float64\n",
      " 537  pixel582  float64\n",
      " 538  pixel583  float64\n",
      " 539  pixel584  float64\n",
      " 540  pixel585  float64\n",
      " 541  pixel586  float64\n",
      " 542  pixel587  float64\n",
      " 543  pixel588  float64\n",
      " 544  pixel589  float64\n",
      " 545  pixel590  float64\n",
      " 546  pixel591  float64\n",
      " 547  pixel592  float64\n",
      " 548  pixel593  float64\n",
      " 549  pixel594  float64\n",
      " 550  pixel595  float64\n",
      " 551  pixel596  float64\n",
      " 552  pixel597  float64\n",
      " 553  pixel598  float64\n",
      " 554  pixel599  float64\n",
      " 555  pixel600  float64\n",
      " 556  pixel601  float64\n",
      " 557  pixel602  float64\n",
      " 558  pixel603  float64\n",
      " 559  pixel604  float64\n",
      " 560  pixel605  float64\n",
      " 561  pixel606  float64\n",
      " 562  pixel607  float64\n",
      " 563  pixel608  float64\n",
      " 564  pixel609  float64\n",
      " 565  pixel610  float64\n",
      " 566  pixel611  float64\n",
      " 567  pixel612  float64\n",
      " 568  pixel613  float64\n",
      " 569  pixel614  float64\n",
      " 570  pixel615  float64\n",
      " 571  pixel616  float64\n",
      " 572  pixel617  float64\n",
      " 573  pixel618  float64\n",
      " 574  pixel619  float64\n",
      " 575  pixel620  float64\n",
      " 576  pixel621  float64\n",
      " 577  pixel622  float64\n",
      " 578  pixel623  float64\n",
      " 579  pixel624  float64\n",
      " 580  pixel625  float64\n",
      " 581  pixel626  float64\n",
      " 582  pixel627  float64\n",
      " 583  pixel628  float64\n",
      " 584  pixel629  float64\n",
      " 585  pixel630  float64\n",
      " 586  pixel631  float64\n",
      " 587  pixel632  float64\n",
      " 588  pixel633  float64\n",
      " 589  pixel634  float64\n",
      " 590  pixel635  float64\n",
      " 591  pixel636  float64\n",
      " 592  pixel637  float64\n",
      " 593  pixel638  float64\n",
      " 594  pixel639  float64\n",
      " 595  pixel640  float64\n",
      " 596  pixel641  float64\n",
      " 597  pixel642  float64\n",
      " 598  pixel643  float64\n",
      " 599  pixel644  float64\n",
      " 600  pixel646  float64\n",
      " 601  pixel647  float64\n",
      " 602  pixel648  float64\n",
      " 603  pixel649  float64\n",
      " 604  pixel650  float64\n",
      " 605  pixel651  float64\n",
      " 606  pixel652  float64\n",
      " 607  pixel653  float64\n",
      " 608  pixel654  float64\n",
      " 609  pixel655  float64\n",
      " 610  pixel656  float64\n",
      " 611  pixel657  float64\n",
      " 612  pixel658  float64\n",
      " 613  pixel659  float64\n",
      " 614  pixel660  float64\n",
      " 615  pixel661  float64\n",
      " 616  pixel662  float64\n",
      " 617  pixel663  float64\n",
      " 618  pixel664  float64\n",
      " 619  pixel665  float64\n",
      " 620  pixel666  float64\n",
      " 621  pixel667  float64\n",
      " 622  pixel668  float64\n",
      " 623  pixel669  float64\n",
      " 624  pixel670  float64\n",
      " 625  pixel671  float64\n",
      " 626  pixel675  float64\n",
      " 627  pixel676  float64\n",
      " 628  pixel677  float64\n",
      " 629  pixel678  float64\n",
      " 630  pixel679  float64\n",
      " 631  pixel680  float64\n",
      " 632  pixel681  float64\n",
      " 633  pixel682  float64\n",
      " 634  pixel683  float64\n",
      " 635  pixel684  float64\n",
      " 636  pixel685  float64\n",
      " 637  pixel686  float64\n",
      " 638  pixel687  float64\n",
      " 639  pixel688  float64\n",
      " 640  pixel689  float64\n",
      " 641  pixel690  float64\n",
      " 642  pixel691  float64\n",
      " 643  pixel692  float64\n",
      " 644  pixel693  float64\n",
      " 645  pixel694  float64\n",
      " 646  pixel695  float64\n",
      " 647  pixel696  float64\n",
      " 648  pixel697  float64\n",
      " 649  pixel698  float64\n",
      " 650  pixel699  float64\n",
      " 651  pixel703  float64\n",
      " 652  pixel704  float64\n",
      " 653  pixel705  float64\n",
      " 654  pixel706  float64\n",
      " 655  pixel707  float64\n",
      " 656  pixel708  float64\n",
      " 657  pixel709  float64\n",
      " 658  pixel710  float64\n",
      " 659  pixel711  float64\n",
      " 660  pixel712  float64\n",
      " 661  pixel713  float64\n",
      " 662  pixel714  float64\n",
      " 663  pixel715  float64\n",
      " 664  pixel716  float64\n",
      " 665  pixel717  float64\n",
      " 666  pixel718  float64\n",
      " 667  pixel719  float64\n",
      " 668  pixel720  float64\n",
      " 669  pixel721  float64\n",
      " 670  pixel722  float64\n",
      " 671  pixel723  float64\n",
      " 672  pixel724  float64\n",
      " 673  pixel725  float64\n",
      " 674  pixel726  float64\n",
      " 675  pixel727  float64\n",
      " 676  pixel732  float64\n",
      " 677  pixel733  float64\n",
      " 678  pixel734  float64\n",
      " 679  pixel735  float64\n",
      " 680  pixel736  float64\n",
      " 681  pixel737  float64\n",
      " 682  pixel738  float64\n",
      " 683  pixel739  float64\n",
      " 684  pixel740  float64\n",
      " 685  pixel741  float64\n",
      " 686  pixel742  float64\n",
      " 687  pixel743  float64\n",
      " 688  pixel744  float64\n",
      " 689  pixel745  float64\n",
      " 690  pixel746  float64\n",
      " 691  pixel747  float64\n",
      " 692  pixel748  float64\n",
      " 693  pixel749  float64\n",
      " 694  pixel750  float64\n",
      " 695  pixel751  float64\n",
      " 696  pixel752  float64\n",
      " 697  pixel753  float64\n",
      " 698  pixel754  float64\n",
      " 699  pixel761  float64\n",
      " 700  pixel762  float64\n",
      " 701  pixel763  float64\n",
      " 702  pixel764  float64\n",
      " 703  pixel765  float64\n",
      " 704  pixel766  float64\n",
      " 705  pixel767  float64\n",
      " 706  pixel768  float64\n",
      " 707  pixel769  float64\n",
      " 708  pixel770  float64\n",
      " 709  pixel771  float64\n",
      " 710  pixel772  float64\n",
      " 711  pixel773  float64\n",
      " 712  pixel774  float64\n",
      " 713  pixel775  float64\n",
      " 714  pixel776  float64\n",
      " 715  pixel777  float64\n",
      " 716  pixel778  float64\n",
      " 717  pixel779  float64\n",
      " 718  pixel780  float64\n",
      "dtypes: float64(719)\n",
      "memory usage: 27.6 MB\n"
     ]
    }
   ],
   "source": [
    "x_data_small.info(verbose=True)"
   ],
   "metadata": {
    "collapsed": false,
    "pycharm": {
     "name": "#%%\n"
    }
   }
  },
  {
   "cell_type": "code",
   "execution_count": 9,
   "outputs": [
    {
     "data": {
      "text/plain": "(5000,)"
     },
     "execution_count": 9,
     "metadata": {},
     "output_type": "execute_result"
    }
   ],
   "source": [
    "y_data_small.shape"
   ],
   "metadata": {
    "collapsed": false,
    "pycharm": {
     "name": "#%%\n"
    }
   }
  },
  {
   "cell_type": "code",
   "execution_count": 37,
   "outputs": [
    {
     "data": {
      "text/plain": "4024     0\n55280    0\n55833    0\n17194    0\n9677     0\n        ..\n55839    9\n52586    9\n2491     9\n37237    9\n4339     9\nName: Number, Length: 5000, dtype: int64"
     },
     "execution_count": 37,
     "metadata": {},
     "output_type": "execute_result"
    }
   ],
   "source": [
    "y_data_small"
   ],
   "metadata": {
    "collapsed": false,
    "pycharm": {
     "name": "#%%\n"
    }
   }
  },
  {
   "cell_type": "markdown",
   "source": [
    "## SVM using Linear kernel\n",
    "LinearSVC is another (faster) implementation of Support Vector Classification for the case of a linear kernel"
   ],
   "metadata": {
    "collapsed": false,
    "pycharm": {
     "name": "#%% md\n"
    }
   }
  },
  {
   "cell_type": "code",
   "execution_count": 17,
   "outputs": [],
   "source": [
    "# automatic parameters tuning\n",
    "svcclsf_lin=SVC(random_state=28)\n",
    "properties_lin={\n",
    "    \"C\": [0.01,0.05,0.1,0.5,1,10,100,1000], # soft to hard margin\n",
    "    \"kernel\": [\"linear\"]\n",
    "}\n",
    "\n",
    "# tuned_svcclsf_lin = ms.model_selector(estimator=svcclsf_lin,properties=properties_lin,scoring=\"accuracy\",cv=10,verbose=5,jobs=4,\n",
    "#                                        x_train=x_data_small,y_train=y_data_small)"
   ],
   "metadata": {
    "collapsed": false,
    "pycharm": {
     "name": "#%%\n"
    }
   }
  },
  {
   "cell_type": "code",
   "execution_count": 18,
   "outputs": [],
   "source": [
    "# save results\n",
    "# ms.save_model(model=tuned_svcclsf_lin, model_name=\"svc_linear_tuning_results\")"
   ],
   "metadata": {
    "collapsed": false,
    "pycharm": {
     "name": "#%%\n"
    }
   }
  },
  {
   "cell_type": "code",
   "execution_count": 66,
   "outputs": [],
   "source": [
    "# to load previously saved results\n",
    "tuned_svcclsf_lin = ms.load_model(\"svc_linear_tuning_results\")"
   ],
   "metadata": {
    "collapsed": false,
    "pycharm": {
     "name": "#%%\n"
    }
   }
  },
  {
   "cell_type": "code",
   "execution_count": 12,
   "outputs": [
    {
     "name": "stderr",
     "output_type": "stream",
     "text": [
      "2022-12-25 01:04:30.727 | INFO     | __main__:<module>:1 - {'mean_fit_time': array([6.04955266, 5.29069901, 4.6443712 , 6.34782059, 4.41250651,\n",
      "       5.04624975, 4.26613345, 4.32742345]), 'std_fit_time': array([1.90790705, 1.48820078, 0.65715774, 1.69210032, 0.46206075,\n",
      "       1.2007513 , 0.277341  , 0.78741452]), 'mean_score_time': array([1.50803292, 0.96820037, 1.13122513, 0.83798137, 0.79181385,\n",
      "       1.00419908, 0.88259835, 0.7365994 ]), 'std_score_time': array([0.58668017, 0.25155559, 0.38067211, 0.07232036, 0.0786334 ,\n",
      "       0.30735826, 0.23699288, 0.07520747]), 'param_C': masked_array(data=[0.01, 0.05, 0.1, 0.5, 1, 10, 100, 1000],\n",
      "             mask=[False, False, False, False, False, False, False, False],\n",
      "       fill_value='?',\n",
      "            dtype=object), 'param_kernel': masked_array(data=['linear', 'linear', 'linear', 'linear', 'linear',\n",
      "                   'linear', 'linear', 'linear'],\n",
      "             mask=[False, False, False, False, False, False, False, False],\n",
      "       fill_value='?',\n",
      "            dtype=object), 'params': [{'C': 0.01, 'kernel': 'linear'}, {'C': 0.05, 'kernel': 'linear'}, {'C': 0.1, 'kernel': 'linear'}, {'C': 0.5, 'kernel': 'linear'}, {'C': 1, 'kernel': 'linear'}, {'C': 10, 'kernel': 'linear'}, {'C': 100, 'kernel': 'linear'}, {'C': 1000, 'kernel': 'linear'}], 'split0_test_score': array([0.92183907, 0.91635478, 0.90856332, 0.90580309, 0.90381557,\n",
      "       0.90588225, 0.90588225, 0.90588225]), 'split1_test_score': array([0.92397691, 0.93816632, 0.92616007, 0.92012741, 0.91608142,\n",
      "       0.91608142, 0.91608142, 0.91608142]), 'split2_test_score': array([0.92374523, 0.93387815, 0.91972055, 0.90948762, 0.91134755,\n",
      "       0.91328554, 0.91328554, 0.91328554]), 'split3_test_score': array([0.91162617, 0.91220991, 0.91413737, 0.89166104, 0.89168448,\n",
      "       0.89168448, 0.89168448, 0.89168448]), 'split4_test_score': array([0.90096169, 0.9215152 , 0.93347988, 0.92141599, 0.91725702,\n",
      "       0.91725702, 0.91725702, 0.91725702]), 'split5_test_score': array([0.89552684, 0.90561871, 0.90358424, 0.88355743, 0.88331969,\n",
      "       0.88331969, 0.88331969, 0.88331969]), 'split6_test_score': array([0.9217968 , 0.92561981, 0.91965136, 0.90351268, 0.89958823,\n",
      "       0.90154782, 0.90154782, 0.90154782]), 'split7_test_score': array([0.89029715, 0.90231817, 0.90866182, 0.87888981, 0.8785946 ,\n",
      "       0.88073642, 0.88073642, 0.88073642]), 'split8_test_score': array([0.91943657, 0.91143969, 0.91125491, 0.90962371, 0.9095977 ,\n",
      "       0.91168267, 0.91168267, 0.91168267]), 'split9_test_score': array([0.91165188, 0.91960599, 0.91755152, 0.92159234, 0.91951425,\n",
      "       0.91755466, 0.91755466, 0.91755466]), 'mean_test_score': array([0.91208583, 0.91867267, 0.9162765 , 0.90456711, 0.90308005,\n",
      "       0.9039032 , 0.9039032 , 0.9039032 ]), 'std_test_score': array([0.01180633, 0.01098068, 0.00852573, 0.01461363, 0.01372421,\n",
      "       0.01334424, 0.01334424, 0.01334424]), 'rank_test_score': array([3, 1, 2, 4, 8, 5, 5, 5], dtype=int32), 'split0_train_score': array([0.93699277, 0.96595311, 0.98064048, 0.9984442 , 0.99977778,\n",
      "       1.        , 1.        , 1.        ]), 'split1_train_score': array([0.93562183, 0.96237245, 0.97842158, 0.99822247, 0.99977778,\n",
      "       1.        , 1.        , 1.        ]), 'split2_train_score': array([0.9372196 , 0.96306352, 0.98086349, 0.99888889, 1.        ,\n",
      "       1.        , 1.        , 1.        ]), 'split3_train_score': array([0.93474505, 0.96614991, 0.98040373, 0.99822271, 1.        ,\n",
      "       1.        , 1.        , 1.        ]), 'split4_train_score': array([0.93832199, 0.96305923, 0.98108914, 0.99844395, 0.99977778,\n",
      "       1.        , 1.        , 1.        ]), 'split5_train_score': array([0.94008369, 0.96683618, 0.98219259, 0.99844444, 1.        ,\n",
      "       1.        , 1.        , 1.        ]), 'split6_train_score': array([0.93363292, 0.96370569, 0.98287425, 0.99844444, 1.        ,\n",
      "       1.        , 1.        , 1.        ]), 'split7_train_score': array([0.93744706, 0.96528574, 0.98064682, 0.998     , 0.99977778,\n",
      "       1.        , 1.        , 1.        ]), 'split8_train_score': array([0.93812069, 0.96728282, 0.98086121, 0.99866691, 1.        ,\n",
      "       1.        , 1.        , 1.        ]), 'split9_train_score': array([0.93766639, 0.96526768, 0.97975604, 0.99844394, 1.        ,\n",
      "       1.        , 1.        , 1.        ]), 'mean_train_score': array([0.9369852 , 0.96489763, 0.98077493, 0.99842219, 0.99991111,\n",
      "       1.        , 1.        , 1.        ]), 'std_train_score': array([0.0017755 , 0.00164188, 0.00115237, 0.00023196, 0.00010887,\n",
      "       0.        , 0.        , 0.        ])}\n"
     ]
    }
   ],
   "source": [
    "logger.info(tuned_svcclsf_lin.cv_results_)\n",
    "tuned_svcclsf_lin_results = pd.DataFrame( tuned_svcclsf_lin.cv_results_ )"
   ],
   "metadata": {
    "collapsed": false,
    "pycharm": {
     "name": "#%%\n"
    }
   }
  },
  {
   "cell_type": "code",
   "execution_count": 67,
   "outputs": [
    {
     "data": {
      "text/plain": "                            params  mean_test_score  mean_train_score\n0  {'C': 0.01, 'kernel': 'linear'}         0.912086          0.936985\n1  {'C': 0.05, 'kernel': 'linear'}         0.918673          0.964898\n2   {'C': 0.1, 'kernel': 'linear'}         0.916277          0.980775\n3   {'C': 0.5, 'kernel': 'linear'}         0.904567          0.998422\n4     {'C': 1, 'kernel': 'linear'}         0.903080          0.999911\n5    {'C': 10, 'kernel': 'linear'}         0.903903          1.000000\n6   {'C': 100, 'kernel': 'linear'}         0.903903          1.000000\n7  {'C': 1000, 'kernel': 'linear'}         0.903903          1.000000",
      "text/html": "<div>\n<style scoped>\n    .dataframe tbody tr th:only-of-type {\n        vertical-align: middle;\n    }\n\n    .dataframe tbody tr th {\n        vertical-align: top;\n    }\n\n    .dataframe thead th {\n        text-align: right;\n    }\n</style>\n<table border=\"1\" class=\"dataframe\">\n  <thead>\n    <tr style=\"text-align: right;\">\n      <th></th>\n      <th>params</th>\n      <th>mean_test_score</th>\n      <th>mean_train_score</th>\n    </tr>\n  </thead>\n  <tbody>\n    <tr>\n      <th>0</th>\n      <td>{'C': 0.01, 'kernel': 'linear'}</td>\n      <td>0.912086</td>\n      <td>0.936985</td>\n    </tr>\n    <tr>\n      <th>1</th>\n      <td>{'C': 0.05, 'kernel': 'linear'}</td>\n      <td>0.918673</td>\n      <td>0.964898</td>\n    </tr>\n    <tr>\n      <th>2</th>\n      <td>{'C': 0.1, 'kernel': 'linear'}</td>\n      <td>0.916277</td>\n      <td>0.980775</td>\n    </tr>\n    <tr>\n      <th>3</th>\n      <td>{'C': 0.5, 'kernel': 'linear'}</td>\n      <td>0.904567</td>\n      <td>0.998422</td>\n    </tr>\n    <tr>\n      <th>4</th>\n      <td>{'C': 1, 'kernel': 'linear'}</td>\n      <td>0.903080</td>\n      <td>0.999911</td>\n    </tr>\n    <tr>\n      <th>5</th>\n      <td>{'C': 10, 'kernel': 'linear'}</td>\n      <td>0.903903</td>\n      <td>1.000000</td>\n    </tr>\n    <tr>\n      <th>6</th>\n      <td>{'C': 100, 'kernel': 'linear'}</td>\n      <td>0.903903</td>\n      <td>1.000000</td>\n    </tr>\n    <tr>\n      <th>7</th>\n      <td>{'C': 1000, 'kernel': 'linear'}</td>\n      <td>0.903903</td>\n      <td>1.000000</td>\n    </tr>\n  </tbody>\n</table>\n</div>"
     },
     "execution_count": 67,
     "metadata": {},
     "output_type": "execute_result"
    }
   ],
   "source": [
    "tuned_svcclsf_lin_results[[\"params\",\"mean_test_score\",\"mean_train_score\"]]"
   ],
   "metadata": {
    "collapsed": false,
    "pycharm": {
     "name": "#%%\n"
    }
   }
  },
  {
   "cell_type": "code",
   "execution_count": 14,
   "outputs": [
    {
     "data": {
      "text/plain": "<AxesSubplot:xlabel='param_C', ylabel='mean_test_score'>"
     },
     "execution_count": 14,
     "metadata": {},
     "output_type": "execute_result"
    },
    {
     "data": {
      "text/plain": "<Figure size 864x576 with 1 Axes>",
      "image/png": "[encoded data removed]"
     },
     "metadata": {},
     "output_type": "display_data"
    }
   ],
   "source": [
    "sns.set(rc={\"figure.figsize\":(12, 8)})\n",
    "sns.lineplot(data=tuned_svcclsf_lin_results, x=\"param_C\", y=\"mean_test_score\")"
   ],
   "metadata": {
    "collapsed": false,
    "pycharm": {
     "name": "#%%\n"
    }
   }
  },
  {
   "cell_type": "code",
   "execution_count": 70,
   "outputs": [
    {
     "name": "stdout",
     "output_type": "stream",
     "text": [
      "SVC(C=0.05, kernel='linear', random_state=28)\n",
      "0.9186726738413699\n"
     ]
    }
   ],
   "source": [
    "print(tuned_svcclsf_lin.best_estimator_)\n",
    "print(tuned_svcclsf_lin.best_score_)"
   ],
   "metadata": {
    "collapsed": false,
    "pycharm": {
     "name": "#%%\n"
    }
   }
  },
  {
   "cell_type": "code",
   "execution_count": 18,
   "outputs": [
    {
     "name": "stdout",
     "output_type": "stream",
     "text": [
      "Train Accuracy Score on original dataset: 0.9274\n"
     ]
    }
   ],
   "source": [
    "test_acc = accuracy_score(y_true = data_split.y_train,\n",
    "                    y_pred = tuned_svcclsf_lin.predict(data_split.x_train))\n",
    "print(\"Train Accuracy Score on original dataset: {}\".format(test_acc) )"
   ],
   "metadata": {
    "collapsed": false,
    "pycharm": {
     "name": "#%%\n"
    }
   }
  },
  {
   "cell_type": "code",
   "execution_count": 19,
   "outputs": [
    {
     "data": {
      "text/plain": "SVC(C=0.05, kernel='linear')"
     },
     "execution_count": 19,
     "metadata": {},
     "output_type": "execute_result"
    }
   ],
   "source": [
    "# best parameters from automatic parameters tuning\n",
    "svc_lin_clsf = SVC(**tuned_svcclsf_lin.best_params_)\n",
    "# svc_lin_clsf = SVC(C=0.05, kernel='linear', random_state=28)\n",
    "\n",
    "svc_lin_clsf.fit(data_split.x_train, data_split.y_train)"
   ],
   "metadata": {
    "collapsed": false,
    "pycharm": {
     "name": "#%%\n"
    }
   }
  },
  {
   "cell_type": "markdown",
   "source": [
    "# Performance"
   ],
   "metadata": {
    "collapsed": false,
    "pycharm": {
     "name": "#%% md\n"
    }
   }
  },
  {
   "cell_type": "code",
   "execution_count": 21,
   "outputs": [],
   "source": [
    "svc_lin_train_pred = svc_lin_clsf.predict(data_split.x_train)\n",
    "svc_lin_test_pred = svc_lin_clsf.predict(data_split.x_test)\n",
    "\n",
    "svc_lin_train_eval = eva.Evaluation(y_true=data_split.y_train, y_pred=svc_lin_train_pred)\n",
    "svc_lin_test_eval = eva.Evaluation(y_true=data_split.y_test, y_pred=svc_lin_test_pred)"
   ],
   "metadata": {
    "collapsed": false,
    "pycharm": {
     "name": "#%%\n"
    }
   }
  },
  {
   "cell_type": "code",
   "execution_count": 22,
   "outputs": [
    {
     "name": "stdout",
     "output_type": "stream",
     "text": [
      "Training:\n",
      "-----Model Evaluations:-----\n",
      "Accuracy score: 0.9557166666666667\n",
      "Testing:\n",
      "-----Model Evaluations:-----\n",
      "Accuracy score: 0.9407\n"
     ]
    }
   ],
   "source": [
    "print(\"Training:\")\n",
    "svc_lin_train_eval.acc_eval()\n",
    "print(\"Testing:\")\n",
    "svc_lin_test_eval.acc_eval()"
   ],
   "metadata": {
    "collapsed": false,
    "pycharm": {
     "name": "#%%\n"
    }
   }
  },
  {
   "cell_type": "code",
   "execution_count": 59,
   "outputs": [],
   "source": [
    "# save the model and evaluations\n",
    "svc_lin_model = eva.EvaluatedModel(svc_lin_clsf, \"svclinear\", train_eval=svc_lin_train_eval, test_eval=svc_lin_test_eval)\n",
    "# svc_lin_model.save_evaluation()"
   ],
   "metadata": {
    "collapsed": false,
    "pycharm": {
     "name": "#%%\n"
    }
   }
  },
  {
   "cell_type": "code",
   "execution_count": 27,
   "outputs": [],
   "source": [
    "# load the previously saved model and evaluations\n",
    "# svc_lin_model = eva.EvaluatedModel.load_evaluation(\"svclinear\")"
   ],
   "metadata": {
    "collapsed": false,
    "pycharm": {
     "name": "#%%\n"
    }
   }
  },
  {
   "cell_type": "markdown",
   "source": [
    "### Confusion Matrix"
   ],
   "metadata": {
    "collapsed": false,
    "pycharm": {
     "name": "#%% md\n"
    }
   }
  },
  {
   "cell_type": "code",
   "execution_count": 28,
   "outputs": [
    {
     "data": {
      "text/plain": "<Figure size 864x576 with 2 Axes>",
      "image/png": "[encoded data removed]"
     },
     "metadata": {},
     "output_type": "display_data"
    }
   ],
   "source": [
    "svc_lin_model.train_eval.conf_mat()"
   ],
   "metadata": {
    "collapsed": false,
    "pycharm": {
     "name": "#%%\n"
    }
   }
  },
  {
   "cell_type": "code",
   "execution_count": 29,
   "outputs": [
    {
     "data": {
      "text/plain": "<Figure size 864x576 with 2 Axes>",
      "image/png": "[encoded data removed]"
     },
     "metadata": {},
     "output_type": "display_data"
    }
   ],
   "source": [
    "svc_lin_model.test_eval.conf_mat()"
   ],
   "metadata": {
    "collapsed": false,
    "pycharm": {
     "name": "#%%\n"
    }
   }
  },
  {
   "cell_type": "markdown",
   "source": [],
   "metadata": {
    "collapsed": false,
    "pycharm": {
     "name": "#%% md\n"
    }
   }
  },
  {
   "cell_type": "markdown",
   "source": [
    "## SVM using Polynomial of degree 2 kernel"
   ],
   "metadata": {
    "collapsed": false,
    "pycharm": {
     "name": "#%% md\n"
    }
   }
  },
  {
   "cell_type": "code",
   "execution_count": 47,
   "outputs": [
    {
     "name": "stdout",
     "output_type": "stream",
     "text": [
      "Fitting 10 folds for each of 24 candidates, totalling 240 fits\n",
      "--- 1097.8459870815277 seconds ---\n",
      "Best Score: 0.950\n",
      "Best Params:  {'C': 0.05, 'degree': 2, 'gamma': 0.1, 'kernel': 'poly'}\n"
     ]
    }
   ],
   "source": [
    "# automatic parameters tuning\n",
    "svcclsf_pol=SVC(random_state=28)\n",
    "properties_pol={\n",
    "    \"C\": [0.01,0.05,0.1,0.5,1,10,100,1000], # soft to hard margin\n",
    "    \"kernel\": [\"poly\"],\n",
    "    \"degree\": [2],\n",
    "    \"gamma\": [\"auto\",0.1,1]\n",
    "}\n",
    "\n",
    "# tuned_svcclsf_pol = ms.model_selector(estimator=svcclsf_pol,properties=properties_pol,scoring=\"accuracy\",cv=10,verbose=5,jobs=4,\n",
    "#                                        x_train=x_data_small,y_train=y_data_small)"
   ],
   "metadata": {
    "collapsed": false,
    "pycharm": {
     "name": "#%%\n"
    }
   }
  },
  {
   "cell_type": "code",
   "execution_count": 70,
   "outputs": [
    {
     "data": {
      "text/plain": "['../tuned_models/svc_polynomial_tuning_results.pkl']"
     },
     "execution_count": 70,
     "metadata": {},
     "output_type": "execute_result"
    }
   ],
   "source": [
    "# # save results\n",
    "# ms.save_model(model=tuned_svcclsf_pol, model_name=\"svc_polynomial_tuning_results\")"
   ],
   "metadata": {
    "collapsed": false,
    "pycharm": {
     "name": "#%%\n"
    }
   }
  },
  {
   "cell_type": "code",
   "execution_count": 30,
   "outputs": [],
   "source": [
    "# to load previously saved results\n",
    "tuned_svcclsf_pol = ms.load_model(\"svc_polynomial_tuning_results\")"
   ],
   "metadata": {
    "collapsed": false,
    "pycharm": {
     "name": "#%%\n"
    }
   }
  },
  {
   "cell_type": "code",
   "execution_count": 31,
   "outputs": [
    {
     "name": "stderr",
     "output_type": "stream",
     "text": [
      "2022-12-25 01:24:11.530 | INFO     | __main__:<module>:1 - {'mean_fit_time': array([24.1586782 ,  4.68150933,  3.30426054, 30.46786444,  4.16735358,\n",
      "        3.29985554, 23.19657018,  3.91261182,  3.99924769, 25.2089462 ,\n",
      "        3.82932179,  3.94053969, 20.97119267,  4.00709753,  3.56156936,\n",
      "        9.6439209 ,  3.72265992,  3.92893999,  4.80152278,  3.98152876,\n",
      "        3.60740249,  4.08431277,  4.02713363,  3.67558684]), 'std_fit_time': array([2.3761632 , 0.3853937 , 0.18261219, 2.33401725, 0.96882428,\n",
      "       0.10737138, 0.66342447, 0.27617695, 0.43593049, 0.69391413,\n",
      "       0.19488316, 0.42796174, 0.17053982, 0.33984398, 0.08741394,\n",
      "       0.47722778, 0.10922738, 0.06048179, 0.42009294, 0.2571172 ,\n",
      "       0.1567817 , 0.32246639, 0.31596841, 0.53646132]), 'mean_score_time': array([2.16694393, 0.64109995, 0.51306727, 2.24939609, 0.56262767,\n",
      "       0.50046759, 1.94545007, 0.69747705, 0.56927798, 2.1113687 ,\n",
      "       0.5939255 , 0.59210157, 2.1352294 , 0.59091153, 0.58225088,\n",
      "       1.15213554, 0.61337218, 0.63434074, 0.86314883, 0.59705753,\n",
      "       0.66785061, 0.60394561, 1.06204622, 0.50440185]), 'std_score_time': array([0.23449842, 0.04027658, 0.03726013, 0.53172352, 0.04538814,\n",
      "       0.01762141, 0.16541519, 0.21960227, 0.05001042, 0.21970243,\n",
      "       0.04455899, 0.04589445, 0.16497085, 0.04246647, 0.03729116,\n",
      "       0.11408932, 0.04756642, 0.02411245, 0.1765986 , 0.047436  ,\n",
      "       0.23480429, 0.03815545, 0.52565091, 0.03467126]), 'param_C': masked_array(data=[0.01, 0.01, 0.01, 0.05, 0.05, 0.05, 0.1, 0.1, 0.1, 0.5,\n",
      "                   0.5, 0.5, 1, 1, 1, 10, 10, 10, 100, 100, 100, 1000,\n",
      "                   1000, 1000],\n",
      "             mask=[False, False, False, False, False, False, False, False,\n",
      "                   False, False, False, False, False, False, False, False,\n",
      "                   False, False, False, False, False, False, False, False],\n",
      "       fill_value='?',\n",
      "            dtype=object), 'param_degree': masked_array(data=[2, 2, 2, 2, 2, 2, 2, 2, 2, 2, 2, 2, 2, 2, 2, 2, 2, 2,\n",
      "                   2, 2, 2, 2, 2, 2],\n",
      "             mask=[False, False, False, False, False, False, False, False,\n",
      "                   False, False, False, False, False, False, False, False,\n",
      "                   False, False, False, False, False, False, False, False],\n",
      "       fill_value='?',\n",
      "            dtype=object), 'param_gamma': masked_array(data=['auto', 0.1, 1, 'auto', 0.1, 1, 'auto', 0.1, 1, 'auto',\n",
      "                   0.1, 1, 'auto', 0.1, 1, 'auto', 0.1, 1, 'auto', 0.1, 1,\n",
      "                   'auto', 0.1, 1],\n",
      "             mask=[False, False, False, False, False, False, False, False,\n",
      "                   False, False, False, False, False, False, False, False,\n",
      "                   False, False, False, False, False, False, False, False],\n",
      "       fill_value='?',\n",
      "            dtype=object), 'param_kernel': masked_array(data=['poly', 'poly', 'poly', 'poly', 'poly', 'poly', 'poly',\n",
      "                   'poly', 'poly', 'poly', 'poly', 'poly', 'poly', 'poly',\n",
      "                   'poly', 'poly', 'poly', 'poly', 'poly', 'poly', 'poly',\n",
      "                   'poly', 'poly', 'poly'],\n",
      "             mask=[False, False, False, False, False, False, False, False,\n",
      "                   False, False, False, False, False, False, False, False,\n",
      "                   False, False, False, False, False, False, False, False],\n",
      "       fill_value='?',\n",
      "            dtype=object), 'params': [{'C': 0.01, 'degree': 2, 'gamma': 'auto', 'kernel': 'poly'}, {'C': 0.01, 'degree': 2, 'gamma': 0.1, 'kernel': 'poly'}, {'C': 0.01, 'degree': 2, 'gamma': 1, 'kernel': 'poly'}, {'C': 0.05, 'degree': 2, 'gamma': 'auto', 'kernel': 'poly'}, {'C': 0.05, 'degree': 2, 'gamma': 0.1, 'kernel': 'poly'}, {'C': 0.05, 'degree': 2, 'gamma': 1, 'kernel': 'poly'}, {'C': 0.1, 'degree': 2, 'gamma': 'auto', 'kernel': 'poly'}, {'C': 0.1, 'degree': 2, 'gamma': 0.1, 'kernel': 'poly'}, {'C': 0.1, 'degree': 2, 'gamma': 1, 'kernel': 'poly'}, {'C': 0.5, 'degree': 2, 'gamma': 'auto', 'kernel': 'poly'}, {'C': 0.5, 'degree': 2, 'gamma': 0.1, 'kernel': 'poly'}, {'C': 0.5, 'degree': 2, 'gamma': 1, 'kernel': 'poly'}, {'C': 1, 'degree': 2, 'gamma': 'auto', 'kernel': 'poly'}, {'C': 1, 'degree': 2, 'gamma': 0.1, 'kernel': 'poly'}, {'C': 1, 'degree': 2, 'gamma': 1, 'kernel': 'poly'}, {'C': 10, 'degree': 2, 'gamma': 'auto', 'kernel': 'poly'}, {'C': 10, 'degree': 2, 'gamma': 0.1, 'kernel': 'poly'}, {'C': 10, 'degree': 2, 'gamma': 1, 'kernel': 'poly'}, {'C': 100, 'degree': 2, 'gamma': 'auto', 'kernel': 'poly'}, {'C': 100, 'degree': 2, 'gamma': 0.1, 'kernel': 'poly'}, {'C': 100, 'degree': 2, 'gamma': 1, 'kernel': 'poly'}, {'C': 1000, 'degree': 2, 'gamma': 'auto', 'kernel': 'poly'}, {'C': 1000, 'degree': 2, 'gamma': 0.1, 'kernel': 'poly'}, {'C': 1000, 'degree': 2, 'gamma': 1, 'kernel': 'poly'}], 'split0_test_score': array([0.44523377, 0.93958928, 0.95793006, 0.44523377, 0.95184213,\n",
      "       0.95793006, 0.44523377, 0.95388966, 0.95793006, 0.57270737,\n",
      "       0.95793006, 0.95793006, 0.73142342, 0.95793006, 0.95793006,\n",
      "       0.91795479, 0.95793006, 0.95793006, 0.95182661, 0.95793006,\n",
      "       0.95793006, 0.95793006, 0.95793006, 0.95793006]), 'split1_test_score': array([0.4610203 , 0.92984177, 0.94008285, 0.4610203 , 0.94185167,\n",
      "       0.94008285, 0.4610203 , 0.9420168 , 0.94008285, 0.58984304,\n",
      "       0.94008285, 0.94008285, 0.7306426 , 0.94008285, 0.94008285,\n",
      "       0.9080654 , 0.94008285, 0.94008285, 0.9378802 , 0.94008285,\n",
      "       0.94008285, 0.94008285, 0.94008285, 0.94008285]), 'split2_test_score': array([0.44324505, 0.94997675, 0.94788755, 0.44324505, 0.95195272,\n",
      "       0.94788755, 0.44324505, 0.95209125, 0.94788755, 0.56940134,\n",
      "       0.94788755, 0.94788755, 0.73646169, 0.94788755, 0.94788755,\n",
      "       0.91808986, 0.94788755, 0.94788755, 0.95578171, 0.94788755,\n",
      "       0.94788755, 0.95201567, 0.94788755, 0.94788755]), 'split3_test_score': array([0.46700796, 0.93332764, 0.95165538, 0.46700796, 0.94754945,\n",
      "       0.95165538, 0.46700796, 0.94960891, 0.95165538, 0.61988929,\n",
      "       0.95165538, 0.95165538, 0.74958807, 0.95165538, 0.95165538,\n",
      "       0.89484997, 0.95165538, 0.95165538, 0.94556192, 0.95165538,\n",
      "       0.95165538, 0.95163695, 0.95165538, 0.95165538]), 'split4_test_score': array([0.45565089, 0.96002926, 0.96395152, 0.45565089, 0.96595029,\n",
      "       0.96395152, 0.45565089, 0.96597407, 0.96395152, 0.58169921,\n",
      "       0.96395152, 0.96395152, 0.73691148, 0.96395152, 0.96395152,\n",
      "       0.9219943 , 0.96395152, 0.96395152, 0.96403148, 0.96395152,\n",
      "       0.96395152, 0.96597407, 0.96395152, 0.96395152]), 'split5_test_score': array([0.40515145, 0.92936229, 0.94375393, 0.40515145, 0.94376955,\n",
      "       0.94375393, 0.40515145, 0.94383873, 0.94375393, 0.53863714,\n",
      "       0.94375393, 0.94375393, 0.70119746, 0.94375393, 0.94375393,\n",
      "       0.88534843, 0.94375393, 0.94375393, 0.93949759, 0.94375393,\n",
      "       0.94375393, 0.94585893, 0.94375393, 0.94375393]), 'split6_test_score': array([0.39469152, 0.93215574, 0.95394713, 0.39469152, 0.95183188,\n",
      "       0.95394713, 0.39469152, 0.95382624, 0.95394713, 0.52534362,\n",
      "       0.95394713, 0.95394713, 0.68180006, 0.95394713, 0.95394713,\n",
      "       0.8879916 , 0.95394713, 0.95394713, 0.9380773 , 0.95394713,\n",
      "       0.95394713, 0.95396477, 0.95394713, 0.95394713]), 'split7_test_score': array([0.45579923, 0.93004132, 0.95195277, 0.45579923, 0.94604342,\n",
      "       0.95195277, 0.45579923, 0.94801106, 0.95195277, 0.58256156,\n",
      "       0.95195277, 0.95195277, 0.75137285, 0.95195277, 0.95195277,\n",
      "       0.91665589, 0.95195277, 0.95195277, 0.93791607, 0.95195277,\n",
      "       0.95195277, 0.94598722, 0.95195277, 0.95195277]), 'split8_test_score': array([0.43914781, 0.92367176, 0.9458517 , 0.43914781, 0.94568877,\n",
      "       0.9458517 , 0.43914781, 0.94186418, 0.9458517 , 0.5589716 ,\n",
      "       0.9458517 , 0.9458517 , 0.72565671, 0.9458517 , 0.9458517 ,\n",
      "       0.89225632, 0.9458517 , 0.9458517 , 0.94191666, 0.9458517 ,\n",
      "       0.9458517 , 0.94379535, 0.9458517 , 0.9458517 ]), 'split9_test_score': array([0.43451311, 0.9517069 , 0.93784598, 0.43451311, 0.94986383,\n",
      "       0.93784598, 0.43451311, 0.93982427, 0.93784598, 0.58392714,\n",
      "       0.93784598, 0.93784598, 0.7346852 , 0.93784598, 0.93784598,\n",
      "       0.91764799, 0.93784598, 0.93784598, 0.95581082, 0.93784598,\n",
      "       0.93784598, 0.93784598, 0.93784598, 0.93784598]), 'mean_test_score': array([0.44014611, 0.93797027, 0.94948589, 0.44014611, 0.94963437,\n",
      "       0.94948589, 0.44014611, 0.94909452, 0.94948589, 0.57229813,\n",
      "       0.94948589, 0.94948589, 0.72797395, 0.94948589, 0.94948589,\n",
      "       0.90608545, 0.94948589, 0.94948589, 0.94683003, 0.94948589,\n",
      "       0.94948589, 0.94950918, 0.94948589, 0.94948589]), 'std_test_score': array([0.02236441, 0.01133542, 0.00764052, 0.02236441, 0.00639622,\n",
      "       0.00764052, 0.02236441, 0.00746092, 0.00764052, 0.02534884,\n",
      "       0.00764052, 0.00764052, 0.02021148, 0.00764052, 0.00764052,\n",
      "       0.01364668, 0.00764052, 0.00764052, 0.00892931, 0.00764052,\n",
      "       0.00764052, 0.00809894, 0.00764052, 0.00764052]), 'rank_test_score': array([22, 18,  3, 22,  1,  3, 22, 16,  3, 21,  3,  3, 20,  3,  3, 19,  3,\n",
      "        3, 17,  3,  3,  2,  3,  3], dtype=int32), 'split0_train_score': array([0.44984028, 0.9672849 , 1.        , 0.44984028, 0.99711233,\n",
      "       1.        , 0.44984028, 0.99977778, 1.        , 0.57560736,\n",
      "       1.        , 1.        , 0.73571937, 1.        , 1.        ,\n",
      "       0.91666076, 1.        , 1.        , 0.983106  , 1.        ,\n",
      "       1.        , 1.        , 1.        , 1.        ]), 'split1_train_score': array([0.44753392, 0.96840827, 1.        , 0.44753392, 0.99666813,\n",
      "       1.        , 0.44753392, 0.99977778, 1.        , 0.57795878,\n",
      "       1.        , 1.        , 0.73608643, 1.        , 1.        ,\n",
      "       0.91671732, 1.        , 1.        , 0.98331851, 1.        ,\n",
      "       1.        , 1.        , 1.        , 1.        ]), 'split2_train_score': array([0.44806643, 0.96816545, 1.        , 0.44806643, 0.99755604,\n",
      "       1.        , 0.44806643, 0.99955556, 1.        , 0.58149296,\n",
      "       1.        , 1.        , 0.73881624, 1.        , 1.        ,\n",
      "       0.91776493, 1.        , 1.        , 0.98331219, 1.        ,\n",
      "       1.        , 1.        , 1.        , 1.        ]), 'split3_train_score': array([0.44429115, 0.96753215, 1.        , 0.44429115, 0.99666764,\n",
      "       1.        , 0.44429115, 0.99933333, 1.        , 0.57588269,\n",
      "       1.        , 1.        , 0.72952507, 1.        , 1.        ,\n",
      "       0.92081278, 1.        , 1.        , 0.98199663, 1.        ,\n",
      "       1.        , 1.        , 1.        , 1.        ]), 'split4_train_score': array([0.45206623, 0.96750543, 1.        , 0.45206623, 0.99644639,\n",
      "       1.        , 0.45206623, 0.99933309, 1.        , 0.58127749,\n",
      "       1.        , 1.        , 0.73618828, 1.        , 1.        ,\n",
      "       0.91764166, 1.        , 1.        , 0.98042648, 1.        ,\n",
      "       1.        , 1.        , 1.        , 1.        ]), 'split5_train_score': array([0.45045914, 0.9695236 , 1.        , 0.45045914, 0.99577923,\n",
      "       1.        , 0.45045914, 0.99977778, 1.        , 0.5855242 ,\n",
      "       1.        , 1.        , 0.74123267, 1.        , 1.        ,\n",
      "       0.91936802, 1.        , 1.        , 0.98198588, 1.        ,\n",
      "       1.        , 1.        , 1.        , 1.        ]), 'split6_train_score': array([0.45006602, 0.968827  , 1.        , 0.45006602, 0.99666689,\n",
      "       1.        , 0.45006602, 0.99977778, 1.        , 0.58749343,\n",
      "       1.        , 1.        , 0.73819659, 1.        , 1.        ,\n",
      "       0.92030038, 1.        , 1.        , 0.98309347, 1.        ,\n",
      "       1.        , 1.        , 1.        , 1.        ]), 'split7_train_score': array([0.44784459, 0.96973914, 1.        , 0.44784459, 0.99666739,\n",
      "       1.        , 0.44784459, 0.99977778, 1.        , 0.58452208,\n",
      "       1.        , 1.        , 0.74171979, 1.        , 1.        ,\n",
      "       0.92005477, 1.        , 1.        , 0.98265988, 1.        ,\n",
      "       1.        , 1.        , 1.        , 1.        ]), 'split8_train_score': array([0.45069687, 0.96816325, 1.        , 0.45069687, 0.99666788,\n",
      "       1.        , 0.45069687, 0.99933333, 1.        , 0.58486768,\n",
      "       1.        , 1.        , 0.7389585 , 1.        , 1.        ,\n",
      "       0.91855775, 1.        , 1.        , 0.98198043, 1.        ,\n",
      "       1.        , 1.        , 1.        , 1.        ]), 'split9_train_score': array([0.46035233, 0.96727358, 1.        , 0.46035233, 0.99644567,\n",
      "       1.        , 0.46035233, 1.        , 1.        , 0.59018934,\n",
      "       1.        , 1.        , 0.74264039, 1.        , 1.        ,\n",
      "       0.91807006, 1.        , 1.        , 0.98198458, 1.        ,\n",
      "       1.        , 1.        , 1.        , 1.        ]), 'mean_train_score': array([0.4501217 , 0.96824228, 1.        , 0.4501217 , 0.99666776,\n",
      "       1.        , 0.4501217 , 0.99964442, 1.        , 0.5824816 ,\n",
      "       1.        , 1.        , 0.73790833, 1.        , 1.        ,\n",
      "       0.91859484, 1.        , 1.        , 0.9823864 , 1.        ,\n",
      "       1.        , 1.        , 1.        , 1.        ]), 'std_train_score': array([0.00398842, 0.00084653, 0.        , 0.00398842, 0.00043296,\n",
      "       0.        , 0.00398842, 0.00022666, 0.        , 0.00466182,\n",
      "       0.        , 0.        , 0.00362394, 0.        , 0.        ,\n",
      "       0.00140346, 0.        , 0.        , 0.00085431, 0.        ,\n",
      "       0.        , 0.        , 0.        , 0.        ])}\n"
     ]
    }
   ],
   "source": [
    "logger.info(tuned_svcclsf_pol.cv_results_)\n",
    "tuned_svcclsf_pol_results = pd.DataFrame( tuned_svcclsf_pol.cv_results_ )"
   ],
   "metadata": {
    "collapsed": false,
    "pycharm": {
     "name": "#%%\n"
    }
   }
  },
  {
   "cell_type": "code",
   "execution_count": 32,
   "outputs": [
    {
     "data": {
      "text/plain": "                                               params  mean_test_score  \\\n0   {'C': 0.01, 'degree': 2, 'gamma': 'auto', 'ker...         0.440146   \n1   {'C': 0.01, 'degree': 2, 'gamma': 0.1, 'kernel...         0.937970   \n2   {'C': 0.01, 'degree': 2, 'gamma': 1, 'kernel':...         0.949486   \n3   {'C': 0.05, 'degree': 2, 'gamma': 'auto', 'ker...         0.440146   \n4   {'C': 0.05, 'degree': 2, 'gamma': 0.1, 'kernel...         0.949634   \n5   {'C': 0.05, 'degree': 2, 'gamma': 1, 'kernel':...         0.949486   \n6   {'C': 0.1, 'degree': 2, 'gamma': 'auto', 'kern...         0.440146   \n7   {'C': 0.1, 'degree': 2, 'gamma': 0.1, 'kernel'...         0.949095   \n8   {'C': 0.1, 'degree': 2, 'gamma': 1, 'kernel': ...         0.949486   \n9   {'C': 0.5, 'degree': 2, 'gamma': 'auto', 'kern...         0.572298   \n10  {'C': 0.5, 'degree': 2, 'gamma': 0.1, 'kernel'...         0.949486   \n11  {'C': 0.5, 'degree': 2, 'gamma': 1, 'kernel': ...         0.949486   \n12  {'C': 1, 'degree': 2, 'gamma': 'auto', 'kernel...         0.727974   \n13  {'C': 1, 'degree': 2, 'gamma': 0.1, 'kernel': ...         0.949486   \n14  {'C': 1, 'degree': 2, 'gamma': 1, 'kernel': 'p...         0.949486   \n15  {'C': 10, 'degree': 2, 'gamma': 'auto', 'kerne...         0.906085   \n16  {'C': 10, 'degree': 2, 'gamma': 0.1, 'kernel':...         0.949486   \n17  {'C': 10, 'degree': 2, 'gamma': 1, 'kernel': '...         0.949486   \n18  {'C': 100, 'degree': 2, 'gamma': 'auto', 'kern...         0.946830   \n19  {'C': 100, 'degree': 2, 'gamma': 0.1, 'kernel'...         0.949486   \n20  {'C': 100, 'degree': 2, 'gamma': 1, 'kernel': ...         0.949486   \n21  {'C': 1000, 'degree': 2, 'gamma': 'auto', 'ker...         0.949509   \n22  {'C': 1000, 'degree': 2, 'gamma': 0.1, 'kernel...         0.949486   \n23  {'C': 1000, 'degree': 2, 'gamma': 1, 'kernel':...         0.949486   \n\n    mean_train_score  \n0           0.450122  \n1           0.968242  \n2           1.000000  \n3           0.450122  \n4           0.996668  \n5           1.000000  \n6           0.450122  \n7           0.999644  \n8           1.000000  \n9           0.582482  \n10          1.000000  \n11          1.000000  \n12          0.737908  \n13          1.000000  \n14          1.000000  \n15          0.918595  \n16          1.000000  \n17          1.000000  \n18          0.982386  \n19          1.000000  \n20          1.000000  \n21          1.000000  \n22          1.000000  \n23          1.000000  ",
      "text/html": "<div>\n<style scoped>\n    .dataframe tbody tr th:only-of-type {\n        vertical-align: middle;\n    }\n\n    .dataframe tbody tr th {\n        vertical-align: top;\n    }\n\n    .dataframe thead th {\n        text-align: right;\n    }\n</style>\n<table border=\"1\" class=\"dataframe\">\n  <thead>\n    <tr style=\"text-align: right;\">\n      <th></th>\n      <th>params</th>\n      <th>mean_test_score</th>\n      <th>mean_train_score</th>\n    </tr>\n  </thead>\n  <tbody>\n    <tr>\n      <th>0</th>\n      <td>{'C': 0.01, 'degree': 2, 'gamma': 'auto', 'ker...</td>\n      <td>0.440146</td>\n      <td>0.450122</td>\n    </tr>\n    <tr>\n      <th>1</th>\n      <td>{'C': 0.01, 'degree': 2, 'gamma': 0.1, 'kernel...</td>\n      <td>0.937970</td>\n      <td>0.968242</td>\n    </tr>\n    <tr>\n      <th>2</th>\n      <td>{'C': 0.01, 'degree': 2, 'gamma': 1, 'kernel':...</td>\n      <td>0.949486</td>\n      <td>1.000000</td>\n    </tr>\n    <tr>\n      <th>3</th>\n      <td>{'C': 0.05, 'degree': 2, 'gamma': 'auto', 'ker...</td>\n      <td>0.440146</td>\n      <td>0.450122</td>\n    </tr>\n    <tr>\n      <th>4</th>\n      <td>{'C': 0.05, 'degree': 2, 'gamma': 0.1, 'kernel...</td>\n      <td>0.949634</td>\n      <td>0.996668</td>\n    </tr>\n    <tr>\n      <th>5</th>\n      <td>{'C': 0.05, 'degree': 2, 'gamma': 1, 'kernel':...</td>\n      <td>0.949486</td>\n      <td>1.000000</td>\n    </tr>\n    <tr>\n      <th>6</th>\n      <td>{'C': 0.1, 'degree': 2, 'gamma': 'auto', 'kern...</td>\n      <td>0.440146</td>\n      <td>0.450122</td>\n    </tr>\n    <tr>\n      <th>7</th>\n      <td>{'C': 0.1, 'degree': 2, 'gamma': 0.1, 'kernel'...</td>\n      <td>0.949095</td>\n      <td>0.999644</td>\n    </tr>\n    <tr>\n      <th>8</th>\n      <td>{'C': 0.1, 'degree': 2, 'gamma': 1, 'kernel': ...</td>\n      <td>0.949486</td>\n      <td>1.000000</td>\n    </tr>\n    <tr>\n      <th>9</th>\n      <td>{'C': 0.5, 'degree': 2, 'gamma': 'auto', 'kern...</td>\n      <td>0.572298</td>\n      <td>0.582482</td>\n    </tr>\n    <tr>\n      <th>10</th>\n      <td>{'C': 0.5, 'degree': 2, 'gamma': 0.1, 'kernel'...</td>\n      <td>0.949486</td>\n      <td>1.000000</td>\n    </tr>\n    <tr>\n      <th>11</th>\n      <td>{'C': 0.5, 'degree': 2, 'gamma': 1, 'kernel': ...</td>\n      <td>0.949486</td>\n      <td>1.000000</td>\n    </tr>\n    <tr>\n      <th>12</th>\n      <td>{'C': 1, 'degree': 2, 'gamma': 'auto', 'kernel...</td>\n      <td>0.727974</td>\n      <td>0.737908</td>\n    </tr>\n    <tr>\n      <th>13</th>\n      <td>{'C': 1, 'degree': 2, 'gamma': 0.1, 'kernel': ...</td>\n      <td>0.949486</td>\n      <td>1.000000</td>\n    </tr>\n    <tr>\n      <th>14</th>\n      <td>{'C': 1, 'degree': 2, 'gamma': 1, 'kernel': 'p...</td>\n      <td>0.949486</td>\n      <td>1.000000</td>\n    </tr>\n    <tr>\n      <th>15</th>\n      <td>{'C': 10, 'degree': 2, 'gamma': 'auto', 'kerne...</td>\n      <td>0.906085</td>\n      <td>0.918595</td>\n    </tr>\n    <tr>\n      <th>16</th>\n      <td>{'C': 10, 'degree': 2, 'gamma': 0.1, 'kernel':...</td>\n      <td>0.949486</td>\n      <td>1.000000</td>\n    </tr>\n    <tr>\n      <th>17</th>\n      <td>{'C': 10, 'degree': 2, 'gamma': 1, 'kernel': '...</td>\n      <td>0.949486</td>\n      <td>1.000000</td>\n    </tr>\n    <tr>\n      <th>18</th>\n      <td>{'C': 100, 'degree': 2, 'gamma': 'auto', 'kern...</td>\n      <td>0.946830</td>\n      <td>0.982386</td>\n    </tr>\n    <tr>\n      <th>19</th>\n      <td>{'C': 100, 'degree': 2, 'gamma': 0.1, 'kernel'...</td>\n      <td>0.949486</td>\n      <td>1.000000</td>\n    </tr>\n    <tr>\n      <th>20</th>\n      <td>{'C': 100, 'degree': 2, 'gamma': 1, 'kernel': ...</td>\n      <td>0.949486</td>\n      <td>1.000000</td>\n    </tr>\n    <tr>\n      <th>21</th>\n      <td>{'C': 1000, 'degree': 2, 'gamma': 'auto', 'ker...</td>\n      <td>0.949509</td>\n      <td>1.000000</td>\n    </tr>\n    <tr>\n      <th>22</th>\n      <td>{'C': 1000, 'degree': 2, 'gamma': 0.1, 'kernel...</td>\n      <td>0.949486</td>\n      <td>1.000000</td>\n    </tr>\n    <tr>\n      <th>23</th>\n      <td>{'C': 1000, 'degree': 2, 'gamma': 1, 'kernel':...</td>\n      <td>0.949486</td>\n      <td>1.000000</td>\n    </tr>\n  </tbody>\n</table>\n</div>"
     },
     "execution_count": 32,
     "metadata": {},
     "output_type": "execute_result"
    }
   ],
   "source": [
    "tuned_svcclsf_pol_results[[\"params\",\"mean_test_score\",\"mean_train_score\"]]"
   ],
   "metadata": {
    "collapsed": false,
    "pycharm": {
     "name": "#%%\n"
    }
   }
  },
  {
   "cell_type": "code",
   "execution_count": 33,
   "outputs": [
    {
     "data": {
      "text/plain": "<AxesSubplot:xlabel='param_C', ylabel='mean_test_score'>"
     },
     "execution_count": 33,
     "metadata": {},
     "output_type": "execute_result"
    },
    {
     "data": {
      "text/plain": "<Figure size 864x576 with 1 Axes>",
      "image/png": "[encoded data removed]"
     },
     "metadata": {},
     "output_type": "display_data"
    }
   ],
   "source": [
    "sns.set(rc={\"figure.figsize\":(12, 8)})\n",
    "sns.lineplot(data=tuned_svcclsf_pol_results, x=\"param_C\", y=\"mean_test_score\")"
   ],
   "metadata": {
    "collapsed": false,
    "pycharm": {
     "name": "#%%\n"
    }
   }
  },
  {
   "cell_type": "code",
   "execution_count": 34,
   "outputs": [
    {
     "name": "stdout",
     "output_type": "stream",
     "text": [
      "SVC(C=0.05, degree=2, gamma=0.1, kernel='poly', random_state=28)\n",
      "0.949634369508955\n"
     ]
    }
   ],
   "source": [
    "print(tuned_svcclsf_pol.best_estimator_)\n",
    "print(tuned_svcclsf_pol.best_score_)"
   ],
   "metadata": {
    "collapsed": false,
    "pycharm": {
     "name": "#%%\n"
    }
   }
  },
  {
   "cell_type": "code",
   "execution_count": 35,
   "outputs": [
    {
     "name": "stdout",
     "output_type": "stream",
     "text": [
      "Train accuracy Score on original dataset: 0.9547166666666667\n"
     ]
    }
   ],
   "source": [
    "test_acc = accuracy_score(y_true = data_split.y_train,\n",
    "                    y_pred = tuned_svcclsf_pol.predict(data_split.x_train))\n",
    "print(\"Train accuracy Score on original dataset: {}\".format(test_acc) )"
   ],
   "metadata": {
    "collapsed": false,
    "pycharm": {
     "name": "#%%\n"
    }
   }
  },
  {
   "cell_type": "code",
   "execution_count": 36,
   "outputs": [
    {
     "data": {
      "text/plain": "SVC(C=0.05, degree=2, gamma=0.1, kernel='poly')"
     },
     "execution_count": 36,
     "metadata": {},
     "output_type": "execute_result"
    }
   ],
   "source": [
    "# best parameters from automatic parameters tuning\n",
    "svc_pol_clsf = SVC(**tuned_svcclsf_pol.best_params_)\n",
    "# svc_pol_clsf = SVC(C=0.05, degree=2, gamma=0.1, kernel='poly', random_state=28)\n",
    "\n",
    "svc_pol_clsf.fit(data_split.x_train, data_split.y_train)"
   ],
   "metadata": {
    "collapsed": false,
    "pycharm": {
     "name": "#%%\n"
    }
   }
  },
  {
   "cell_type": "markdown",
   "source": [
    "# Performance"
   ],
   "metadata": {
    "collapsed": false,
    "pycharm": {
     "name": "#%% md\n"
    }
   }
  },
  {
   "cell_type": "code",
   "execution_count": 38,
   "outputs": [],
   "source": [
    "svc_pol_train_pred = svc_pol_clsf.predict(data_split.x_train)\n",
    "svc_pol_test_pred = svc_pol_clsf.predict(data_split.x_test)\n",
    "\n",
    "svc_pol_train_eval = eva.Evaluation(y_true=data_split.y_train, y_pred=svc_pol_train_pred)\n",
    "svc_pol_test_eval = eva.Evaluation(y_true=data_split.y_test, y_pred=svc_pol_test_pred)"
   ],
   "metadata": {
    "collapsed": false,
    "pycharm": {
     "name": "#%%\n"
    }
   }
  },
  {
   "cell_type": "code",
   "execution_count": 39,
   "outputs": [
    {
     "name": "stdout",
     "output_type": "stream",
     "text": [
      "Training:\n",
      "-----Model Evaluations:-----\n",
      "Accuracy score: 0.99575\n",
      "Testing:\n",
      "-----Model Evaluations:-----\n",
      "Accuracy score: 0.98\n"
     ]
    }
   ],
   "source": [
    "print(\"Training:\")\n",
    "svc_pol_train_eval.acc_eval()\n",
    "print(\"Testing:\")\n",
    "svc_pol_test_eval.acc_eval()"
   ],
   "metadata": {
    "collapsed": false,
    "pycharm": {
     "name": "#%%\n"
    }
   }
  },
  {
   "cell_type": "code",
   "execution_count": 58,
   "outputs": [],
   "source": [
    "# save the model and evaluations\n",
    "svc_pol_model = eva.EvaluatedModel(svc_pol_clsf, \"svcpolynomial\", train_eval=svc_pol_train_eval, test_eval=svc_pol_test_eval)\n",
    "# svc_pol_model.save_evaluation()"
   ],
   "metadata": {
    "collapsed": false,
    "pycharm": {
     "name": "#%%\n"
    }
   }
  },
  {
   "cell_type": "code",
   "execution_count": 43,
   "outputs": [],
   "source": [
    "# load the previously saved model and evaluations\n",
    "# svc_pol_model = eva.EvaluatedModel.load_evaluation(\"svcpolynomial\")"
   ],
   "metadata": {
    "collapsed": false,
    "pycharm": {
     "name": "#%%\n"
    }
   }
  },
  {
   "cell_type": "markdown",
   "source": [
    "### Confusion Matrix"
   ],
   "metadata": {
    "collapsed": false,
    "pycharm": {
     "name": "#%% md\n"
    }
   }
  },
  {
   "cell_type": "code",
   "execution_count": 44,
   "outputs": [
    {
     "data": {
      "text/plain": "<Figure size 864x576 with 2 Axes>",
      "image/png": "[encoded data removed]"
     },
     "metadata": {},
     "output_type": "display_data"
    }
   ],
   "source": [
    "svc_pol_model.train_eval.conf_mat()"
   ],
   "metadata": {
    "collapsed": false,
    "pycharm": {
     "name": "#%%\n"
    }
   }
  },
  {
   "cell_type": "code",
   "execution_count": 45,
   "outputs": [
    {
     "data": {
      "text/plain": "<Figure size 864x576 with 2 Axes>",
      "image/png": "[encoded data removed]"
     },
     "metadata": {},
     "output_type": "display_data"
    }
   ],
   "source": [
    "svc_pol_model.test_eval.conf_mat()"
   ],
   "metadata": {
    "collapsed": false,
    "pycharm": {
     "name": "#%%\n"
    }
   }
  },
  {
   "cell_type": "markdown",
   "source": [],
   "metadata": {
    "collapsed": false,
    "pycharm": {
     "name": "#%% md\n"
    }
   }
  },
  {
   "cell_type": "markdown",
   "source": [
    "## SVM  using  RBF kernel"
   ],
   "metadata": {
    "collapsed": false,
    "pycharm": {
     "name": "#%% md\n"
    }
   }
  },
  {
   "cell_type": "code",
   "execution_count": 48,
   "outputs": [
    {
     "name": "stdout",
     "output_type": "stream",
     "text": [
      "Fitting 10 folds for each of 24 candidates, totalling 240 fits\n",
      "--- 2330.964450120926 seconds ---\n",
      "Best Score: 0.936\n",
      "Best Params:  {'C': 10, 'gamma': 'auto', 'kernel': 'rbf'}\n"
     ]
    }
   ],
   "source": [
    "# automatic parameters tuning\n",
    "svcclsf_rbf=SVC(random_state=28)\n",
    "properties_rbf={\n",
    "    \"C\": [0.01,0.05,0.1,0.5,1,10,100,1000], # soft to hard margin\n",
    "    \"kernel\": [\"rbf\"],\n",
    "    \"gamma\": [\"auto\",0.1,1]\n",
    "}\n",
    "\n",
    "# tuned_svcclsf_rbf = ms.model_selector(estimator=svcclsf_rbf,properties=properties_rbf,scoring=\"accuracy\",cv=10,verbose=5,jobs=4,\n",
    "#                                        x_train=x_data_small,y_train=y_data_small)"
   ],
   "metadata": {
    "collapsed": false,
    "pycharm": {
     "name": "#%%\n"
    }
   }
  },
  {
   "cell_type": "code",
   "execution_count": 83,
   "outputs": [
    {
     "data": {
      "text/plain": "['../tuned_models/svc_rbf_tuning_results.pkl']"
     },
     "execution_count": 83,
     "metadata": {},
     "output_type": "execute_result"
    }
   ],
   "source": [
    "# # save results\n",
    "# ms.save_model(model=tuned_svcclsf_rbf, model_name=\"svc_rbf_tuning_results\")"
   ],
   "metadata": {
    "collapsed": false,
    "pycharm": {
     "name": "#%%\n"
    }
   }
  },
  {
   "cell_type": "code",
   "execution_count": 46,
   "outputs": [],
   "source": [
    "# to load previously saved results\n",
    "tuned_svcclsf_rbf = ms.load_model(\"svc_rbf_tuning_results\")"
   ],
   "metadata": {
    "collapsed": false,
    "pycharm": {
     "name": "#%%\n"
    }
   }
  },
  {
   "cell_type": "code",
   "execution_count": 47,
   "outputs": [
    {
     "name": "stderr",
     "output_type": "stream",
     "text": [
      "2022-12-25 01:45:13.647 | INFO     | __main__:<module>:1 - {'mean_fit_time': array([21.12724845, 21.28439002, 21.52958717, 18.71232872, 19.86977935,\n",
      "       20.82048597, 14.91914546, 18.71652584, 19.21768761,  7.13077497,\n",
      "       19.25392275, 21.30227852,  6.13925252, 22.69810863, 22.3177738 ,\n",
      "        2.95412762, 22.68043957, 22.95533314,  2.50384336, 20.02614877,\n",
      "       20.02982709,  2.60203719, 20.46544261, 19.97337227]), 'std_fit_time': array([0.14435927, 0.19348382, 1.57281707, 0.18447708, 0.19902127,\n",
      "       0.88216291, 0.28858617, 0.15047183, 0.32637887, 0.3613568 ,\n",
      "       1.29329829, 1.65152106, 0.38107104, 1.50006316, 1.04516295,\n",
      "       0.22502137, 0.40300741, 1.06313627, 0.3365184 , 0.17586783,\n",
      "       0.23236055, 0.42460939, 1.01201396, 1.00874195]), 'mean_score_time': array([2.4564003 , 2.54873149, 2.38083212, 2.22428696, 2.20041347,\n",
      "       2.44014301, 2.10323274, 2.14482789, 2.210481  , 1.74313872,\n",
      "       2.14235749, 2.83180258, 1.55173357, 2.47162917, 2.77887943,\n",
      "       0.96369407, 2.49825857, 2.70048964, 0.82907383, 2.25434687,\n",
      "       2.47300668, 0.81276727, 2.08468976, 2.3495944 ]), 'std_score_time': array([0.13163948, 0.10521141, 0.13407478, 0.05375271, 0.06555391,\n",
      "       0.19169078, 0.07445905, 0.08510705, 0.08505748, 0.10249895,\n",
      "       0.16258639, 0.47378746, 0.11981231, 0.27952189, 0.36583129,\n",
      "       0.090596  , 0.31392017, 0.29873064, 0.08835456, 0.06466298,\n",
      "       0.11270309, 0.07895598, 0.1321959 , 0.18274298]), 'param_C': masked_array(data=[0.01, 0.01, 0.01, 0.05, 0.05, 0.05, 0.1, 0.1, 0.1, 0.5,\n",
      "                   0.5, 0.5, 1, 1, 1, 10, 10, 10, 100, 100, 100, 1000,\n",
      "                   1000, 1000],\n",
      "             mask=[False, False, False, False, False, False, False, False,\n",
      "                   False, False, False, False, False, False, False, False,\n",
      "                   False, False, False, False, False, False, False, False],\n",
      "       fill_value='?',\n",
      "            dtype=object), 'param_gamma': masked_array(data=['auto', 0.1, 1, 'auto', 0.1, 1, 'auto', 0.1, 1, 'auto',\n",
      "                   0.1, 1, 'auto', 0.1, 1, 'auto', 0.1, 1, 'auto', 0.1, 1,\n",
      "                   'auto', 0.1, 1],\n",
      "             mask=[False, False, False, False, False, False, False, False,\n",
      "                   False, False, False, False, False, False, False, False,\n",
      "                   False, False, False, False, False, False, False, False],\n",
      "       fill_value='?',\n",
      "            dtype=object), 'param_kernel': masked_array(data=['rbf', 'rbf', 'rbf', 'rbf', 'rbf', 'rbf', 'rbf', 'rbf',\n",
      "                   'rbf', 'rbf', 'rbf', 'rbf', 'rbf', 'rbf', 'rbf', 'rbf',\n",
      "                   'rbf', 'rbf', 'rbf', 'rbf', 'rbf', 'rbf', 'rbf', 'rbf'],\n",
      "             mask=[False, False, False, False, False, False, False, False,\n",
      "                   False, False, False, False, False, False, False, False,\n",
      "                   False, False, False, False, False, False, False, False],\n",
      "       fill_value='?',\n",
      "            dtype=object), 'params': [{'C': 0.01, 'gamma': 'auto', 'kernel': 'rbf'}, {'C': 0.01, 'gamma': 0.1, 'kernel': 'rbf'}, {'C': 0.01, 'gamma': 1, 'kernel': 'rbf'}, {'C': 0.05, 'gamma': 'auto', 'kernel': 'rbf'}, {'C': 0.05, 'gamma': 0.1, 'kernel': 'rbf'}, {'C': 0.05, 'gamma': 1, 'kernel': 'rbf'}, {'C': 0.1, 'gamma': 'auto', 'kernel': 'rbf'}, {'C': 0.1, 'gamma': 0.1, 'kernel': 'rbf'}, {'C': 0.1, 'gamma': 1, 'kernel': 'rbf'}, {'C': 0.5, 'gamma': 'auto', 'kernel': 'rbf'}, {'C': 0.5, 'gamma': 0.1, 'kernel': 'rbf'}, {'C': 0.5, 'gamma': 1, 'kernel': 'rbf'}, {'C': 1, 'gamma': 'auto', 'kernel': 'rbf'}, {'C': 1, 'gamma': 0.1, 'kernel': 'rbf'}, {'C': 1, 'gamma': 1, 'kernel': 'rbf'}, {'C': 10, 'gamma': 'auto', 'kernel': 'rbf'}, {'C': 10, 'gamma': 0.1, 'kernel': 'rbf'}, {'C': 10, 'gamma': 1, 'kernel': 'rbf'}, {'C': 100, 'gamma': 'auto', 'kernel': 'rbf'}, {'C': 100, 'gamma': 0.1, 'kernel': 'rbf'}, {'C': 100, 'gamma': 1, 'kernel': 'rbf'}, {'C': 1000, 'gamma': 'auto', 'kernel': 'rbf'}, {'C': 1000, 'gamma': 0.1, 'kernel': 'rbf'}, {'C': 1000, 'gamma': 1, 'kernel': 'rbf'}], 'split0_test_score': array([0.7564068 , 0.48968133, 0.02609131, 0.77386977, 0.49576518,\n",
      "       0.02609131, 0.83234774, 0.50645129, 0.02609131, 0.89216153,\n",
      "       0.69451388, 0.02609131, 0.91026293, 0.85525377, 0.12778499,\n",
      "       0.9396243 , 0.86953376, 0.13560053, 0.94390425, 0.86953376,\n",
      "       0.13560053, 0.94187652, 0.86953376, 0.13560053]), 'split1_test_score': array([0.7506763 , 0.56549708, 0.03385046, 0.78179534, 0.57343487,\n",
      "       0.03385046, 0.82178656, 0.57706321, 0.03385046, 0.90726724,\n",
      "       0.68579115, 0.03385046, 0.91585283, 0.83159726, 0.14369526,\n",
      "       0.92786817, 0.85363251, 0.14968122, 0.9237994 , 0.85363251,\n",
      "       0.14968122, 0.92593646, 0.85363251, 0.14968122]), 'split2_test_score': array([0.74282837, 0.52767851, 0.03795647, 0.7844642 , 0.53557941,\n",
      "       0.03795647, 0.82963194, 0.54526674, 0.03795647, 0.90369165,\n",
      "       0.71033315, 0.03795647, 0.91348669, 0.87415295, 0.1843099 ,\n",
      "       0.9395699 , 0.88604881, 0.22453854, 0.93987572, 0.88604881,\n",
      "       0.22453854, 0.93584999, 0.88604881, 0.22453854]), 'split3_test_score': array([0.74518829, 0.55951504, 0.02989541, 0.77732469, 0.57567986,\n",
      "       0.02989541, 0.81070331, 0.59139001, 0.02989541, 0.87660489,\n",
      "       0.72440757, 0.02989541, 0.90438708, 0.87836196, 0.1266231 ,\n",
      "       0.94351702, 0.88362466, 0.14759765, 0.93577873, 0.88362466,\n",
      "       0.14759765, 0.93573655, 0.88362466, 0.14759765]), 'split4_test_score': array([0.73345956, 0.53361215, 0.02989541, 0.76897384, 0.53960714,\n",
      "       0.02989541, 0.83290243, 0.54968045, 0.02989541, 0.90185349,\n",
      "       0.6838574 , 0.02989541, 0.91995756, 0.866107  , 0.1728074 ,\n",
      "       0.95386936, 0.87493893, 0.18920424, 0.95392943, 0.87493893,\n",
      "       0.18920424, 0.95591258, 0.87493893, 0.18920424]), 'split5_test_score': array([0.70190136, 0.52825458, 0.03653044, 0.72997364, 0.52983753,\n",
      "       0.03653044, 0.78212779, 0.5446638 , 0.03653044, 0.88710427,\n",
      "       0.68788624, 0.03653044, 0.90333936, 0.85908778, 0.13257759,\n",
      "       0.93162635, 0.86161432, 0.14559473, 0.93562021, 0.86161432,\n",
      "       0.14559473, 0.9316359 , 0.86161432, 0.14559473]), 'split6_test_score': array([0.70610547, 0.49663203, 0.04499573, 0.74076674, 0.51427716,\n",
      "       0.04499573, 0.79700776, 0.5270084 , 0.04499573, 0.87729011,\n",
      "       0.70218165, 0.04499573, 0.88938943, 0.87271141, 0.14480936,\n",
      "       0.92809009, 0.87481512, 0.16190363, 0.92997964, 0.87481512,\n",
      "       0.16190363, 0.92990137, 0.87481512, 0.16190363]), 'split7_test_score': array([0.74666273, 0.57495937, 0.04499573, 0.78887765, 0.59311665,\n",
      "       0.04499573, 0.83837653, 0.59697889, 0.04499573, 0.89383807,\n",
      "       0.71144381, 0.04499573, 0.90598323, 0.85390964, 0.16677861,\n",
      "       0.92762146, 0.8628895 , 0.18345094, 0.92974286, 0.8628895 ,\n",
      "       0.18345094, 0.92751067, 0.8628895 , 0.18345094]), 'split8_test_score': array([0.73330836, 0.5255025 , 0.03400129, 0.77163776, 0.53708469,\n",
      "       0.03400129, 0.8050967 , 0.55148208, 0.03400129, 0.88291332,\n",
      "       0.69543235, 0.03400129, 0.89945136, 0.86613418, 0.15250745,\n",
      "       0.92765971, 0.87142496, 0.17456697, 0.9234657 , 0.87142496,\n",
      "       0.17456697, 0.91738483, 0.87142496, 0.17456697]), 'split9_test_score': array([0.73957908, 0.52809326, 0.03400129, 0.78191365, 0.53272457,\n",
      "       0.03400129, 0.81861469, 0.54151318, 0.03400129, 0.8993905 ,\n",
      "       0.68524946, 0.03400129, 0.9165311 , 0.85692175, 0.14292468,\n",
      "       0.9414514 , 0.86933209, 0.15421825, 0.93344906, 0.86933209,\n",
      "       0.15421825, 0.92738583, 0.86933209, 0.15421825]), 'mean_test_score': array([0.73561163, 0.53294258, 0.03522135, 0.76995973, 0.5427107 ,\n",
      "       0.03522135, 0.81685955, 0.5531498 , 0.03522135, 0.89221151,\n",
      "       0.69810967, 0.03522135, 0.90786416, 0.86142377, 0.14948183,\n",
      "       0.93608978, 0.87078547, 0.16663567, 0.9349545 , 0.87078547,\n",
      "       0.16663567, 0.93291307, 0.87078547, 0.16663567]), 'std_test_score': array([0.01719877, 0.02617308, 0.00587551, 0.01837303, 0.02818089,\n",
      "       0.00587551, 0.01710959, 0.02665269, 0.00587551, 0.01041334,\n",
      "       0.01296244, 0.00587551, 0.00877921, 0.01276849, 0.01855465,\n",
      "       0.00847891, 0.00935987, 0.0253774 , 0.00880961, 0.00935987,\n",
      "       0.0253774 , 0.00993054, 0.00935987, 0.0253774 ]), 'rank_test_score': array([12, 16, 21, 11, 15, 21, 10, 14, 21,  5, 13, 21,  4,  9, 20,  1,  6,\n",
      "       17,  2,  6, 17,  3,  6, 17], dtype=int32), 'split0_train_score': array([0.74066993, 0.80114119, 1.        , 0.77493342, 0.81105091,\n",
      "       1.        , 0.82089334, 0.82222635, 1.        , 0.90312436,\n",
      "       0.99469455, 1.        , 0.92013177, 1.        , 1.        ,\n",
      "       0.9661577 , 1.        , 1.        , 0.99933333, 1.        ,\n",
      "       1.        , 1.        , 1.        , 1.        ]), 'split1_train_score': array([0.73942081, 0.80906344, 1.        , 0.77423731, 0.82137667,\n",
      "       1.        , 0.82341167, 0.83373131, 1.        , 0.9037246 ,\n",
      "       0.99491452, 1.        , 0.91996718, 1.        , 1.        ,\n",
      "       0.96926675, 1.        , 1.        , 0.99888864, 1.        ,\n",
      "       1.        , 1.        , 1.        , 1.        ]), 'split2_train_score': array([0.73660072, 0.79974033, 1.        , 0.77242348, 0.81061472,\n",
      "       1.        , 0.8206847 , 0.82144796, 1.        , 0.90169846,\n",
      "       0.99492327, 1.        , 0.91949368, 1.        , 1.        ,\n",
      "       0.96635239, 1.        , 1.        , 0.99911136, 1.        ,\n",
      "       1.        , 1.        , 1.        , 1.        ]), 'split3_train_score': array([0.73644138, 0.81063801, 1.        , 0.77510002, 0.8235846 ,\n",
      "       1.        , 0.82299863, 0.83501422, 1.        , 0.90303342,\n",
      "       0.99556871, 1.        , 0.92156844, 1.        , 1.        ,\n",
      "       0.96682567, 1.        , 1.        , 0.99911061, 1.        ,\n",
      "       1.        , 1.        , 1.        , 1.        ]), 'split4_train_score': array([0.73711791, 0.8193431 , 1.        , 0.77391308, 0.8308082 ,\n",
      "       1.        , 0.82258543, 0.84216235, 1.        , 0.90277699,\n",
      "       0.99447711, 1.        , 0.9179189 , 1.        , 1.        ,\n",
      "       0.96748461, 1.        , 1.        , 0.99911061, 1.        ,\n",
      "       1.        , 1.        , 1.        , 1.        ]), 'split5_train_score': array([0.74169509, 0.82169759, 1.        , 0.77842069, 0.83359412,\n",
      "       1.        , 0.82690254, 0.84339343, 1.        , 0.90364866,\n",
      "       0.99404916, 1.        , 0.91977583, 1.        , 1.        ,\n",
      "       0.96704065, 1.        , 1.        , 0.99888839, 1.        ,\n",
      "       1.        , 1.        , 1.        , 1.        ]), 'split6_train_score': array([0.74311896, 0.79526752, 1.        , 0.77788757, 0.80612745,\n",
      "       1.        , 0.82640142, 0.81583262, 1.        , 0.90513001,\n",
      "       0.99469455, 1.        , 0.92177655, 1.        , 1.        ,\n",
      "       0.96858033, 1.        , 1.        , 0.99911061, 1.        ,\n",
      "       1.        , 1.        , 1.        , 1.        ]), 'split7_train_score': array([0.74097455, 0.82380101, 1.        , 0.77602584, 0.83310954,\n",
      "       1.        , 0.82220127, 0.84504973, 1.        , 0.90349757,\n",
      "       0.99534931, 1.        , 0.91954425, 1.        , 1.        ,\n",
      "       0.96817005, 1.        , 1.        , 0.99888839, 1.        ,\n",
      "       1.        , 1.        , 1.        , 1.        ]), 'split8_train_score': array([0.74032736, 0.81607723, 1.        , 0.77592527, 0.82753229,\n",
      "       1.        , 0.82516377, 0.83800217, 1.        , 0.90324565,\n",
      "       0.99382004, 1.        , 0.92015941, 1.        , 1.        ,\n",
      "       0.96592965, 1.        , 1.        , 0.99933333, 1.        ,\n",
      "       1.        , 1.        , 1.        , 1.        ]), 'split9_train_score': array([0.74882677, 0.80778164, 1.        , 0.78242954, 0.8207912 ,\n",
      "       1.        , 0.82612449, 0.83182962, 1.        , 0.90173591,\n",
      "       0.99403602, 1.        , 0.91959212, 1.        , 1.        ,\n",
      "       0.96638055, 1.        , 1.        , 0.99888864, 1.        ,\n",
      "       1.        , 1.        , 1.        , 1.        ]), 'mean_train_score': array([0.74051935, 0.81045511, 1.        , 0.77612962, 0.82185897,\n",
      "       1.        , 0.82373672, 0.83286898, 1.        , 0.90316156,\n",
      "       0.99465272, 1.        , 0.91999281, 1.        , 1.        ,\n",
      "       0.96721884, 1.        , 1.        , 0.99906639, 1.        ,\n",
      "       1.        , 1.        , 1.        , 1.        ]), 'std_train_score': array([0.00349546, 0.00925444, 0.        , 0.00269817, 0.00933618,\n",
      "       0.        , 0.00215857, 0.00955102, 0.        , 0.00094276,\n",
      "       0.00054206, 0.        , 0.00103301, 0.        , 0.        ,\n",
      "       0.00107009, 0.        , 0.        , 0.00016642, 0.        ,\n",
      "       0.        , 0.        , 0.        , 0.        ])}\n"
     ]
    }
   ],
   "source": [
    "logger.info(tuned_svcclsf_rbf.cv_results_)\n",
    "tuned_svcclsf_rbf_results = pd.DataFrame( tuned_svcclsf_rbf.cv_results_ )"
   ],
   "metadata": {
    "collapsed": false,
    "pycharm": {
     "name": "#%%\n"
    }
   }
  },
  {
   "cell_type": "code",
   "execution_count": 48,
   "outputs": [
    {
     "data": {
      "text/plain": "                                           params  mean_test_score  \\\n0   {'C': 0.01, 'gamma': 'auto', 'kernel': 'rbf'}         0.735612   \n1      {'C': 0.01, 'gamma': 0.1, 'kernel': 'rbf'}         0.532943   \n2        {'C': 0.01, 'gamma': 1, 'kernel': 'rbf'}         0.035221   \n3   {'C': 0.05, 'gamma': 'auto', 'kernel': 'rbf'}         0.769960   \n4      {'C': 0.05, 'gamma': 0.1, 'kernel': 'rbf'}         0.542711   \n5        {'C': 0.05, 'gamma': 1, 'kernel': 'rbf'}         0.035221   \n6    {'C': 0.1, 'gamma': 'auto', 'kernel': 'rbf'}         0.816860   \n7       {'C': 0.1, 'gamma': 0.1, 'kernel': 'rbf'}         0.553150   \n8         {'C': 0.1, 'gamma': 1, 'kernel': 'rbf'}         0.035221   \n9    {'C': 0.5, 'gamma': 'auto', 'kernel': 'rbf'}         0.892212   \n10      {'C': 0.5, 'gamma': 0.1, 'kernel': 'rbf'}         0.698110   \n11        {'C': 0.5, 'gamma': 1, 'kernel': 'rbf'}         0.035221   \n12     {'C': 1, 'gamma': 'auto', 'kernel': 'rbf'}         0.907864   \n13        {'C': 1, 'gamma': 0.1, 'kernel': 'rbf'}         0.861424   \n14          {'C': 1, 'gamma': 1, 'kernel': 'rbf'}         0.149482   \n15    {'C': 10, 'gamma': 'auto', 'kernel': 'rbf'}         0.936090   \n16       {'C': 10, 'gamma': 0.1, 'kernel': 'rbf'}         0.870785   \n17         {'C': 10, 'gamma': 1, 'kernel': 'rbf'}         0.166636   \n18   {'C': 100, 'gamma': 'auto', 'kernel': 'rbf'}         0.934954   \n19      {'C': 100, 'gamma': 0.1, 'kernel': 'rbf'}         0.870785   \n20        {'C': 100, 'gamma': 1, 'kernel': 'rbf'}         0.166636   \n21  {'C': 1000, 'gamma': 'auto', 'kernel': 'rbf'}         0.932913   \n22     {'C': 1000, 'gamma': 0.1, 'kernel': 'rbf'}         0.870785   \n23       {'C': 1000, 'gamma': 1, 'kernel': 'rbf'}         0.166636   \n\n    mean_train_score  \n0           0.740519  \n1           0.810455  \n2           1.000000  \n3           0.776130  \n4           0.821859  \n5           1.000000  \n6           0.823737  \n7           0.832869  \n8           1.000000  \n9           0.903162  \n10          0.994653  \n11          1.000000  \n12          0.919993  \n13          1.000000  \n14          1.000000  \n15          0.967219  \n16          1.000000  \n17          1.000000  \n18          0.999066  \n19          1.000000  \n20          1.000000  \n21          1.000000  \n22          1.000000  \n23          1.000000  ",
      "text/html": "<div>\n<style scoped>\n    .dataframe tbody tr th:only-of-type {\n        vertical-align: middle;\n    }\n\n    .dataframe tbody tr th {\n        vertical-align: top;\n    }\n\n    .dataframe thead th {\n        text-align: right;\n    }\n</style>\n<table border=\"1\" class=\"dataframe\">\n  <thead>\n    <tr style=\"text-align: right;\">\n      <th></th>\n      <th>params</th>\n      <th>mean_test_score</th>\n      <th>mean_train_score</th>\n    </tr>\n  </thead>\n  <tbody>\n    <tr>\n      <th>0</th>\n      <td>{'C': 0.01, 'gamma': 'auto', 'kernel': 'rbf'}</td>\n      <td>0.735612</td>\n      <td>0.740519</td>\n    </tr>\n    <tr>\n      <th>1</th>\n      <td>{'C': 0.01, 'gamma': 0.1, 'kernel': 'rbf'}</td>\n      <td>0.532943</td>\n      <td>0.810455</td>\n    </tr>\n    <tr>\n      <th>2</th>\n      <td>{'C': 0.01, 'gamma': 1, 'kernel': 'rbf'}</td>\n      <td>0.035221</td>\n      <td>1.000000</td>\n    </tr>\n    <tr>\n      <th>3</th>\n      <td>{'C': 0.05, 'gamma': 'auto', 'kernel': 'rbf'}</td>\n      <td>0.769960</td>\n      <td>0.776130</td>\n    </tr>\n    <tr>\n      <th>4</th>\n      <td>{'C': 0.05, 'gamma': 0.1, 'kernel': 'rbf'}</td>\n      <td>0.542711</td>\n      <td>0.821859</td>\n    </tr>\n    <tr>\n      <th>5</th>\n      <td>{'C': 0.05, 'gamma': 1, 'kernel': 'rbf'}</td>\n      <td>0.035221</td>\n      <td>1.000000</td>\n    </tr>\n    <tr>\n      <th>6</th>\n      <td>{'C': 0.1, 'gamma': 'auto', 'kernel': 'rbf'}</td>\n      <td>0.816860</td>\n      <td>0.823737</td>\n    </tr>\n    <tr>\n      <th>7</th>\n      <td>{'C': 0.1, 'gamma': 0.1, 'kernel': 'rbf'}</td>\n      <td>0.553150</td>\n      <td>0.832869</td>\n    </tr>\n    <tr>\n      <th>8</th>\n      <td>{'C': 0.1, 'gamma': 1, 'kernel': 'rbf'}</td>\n      <td>0.035221</td>\n      <td>1.000000</td>\n    </tr>\n    <tr>\n      <th>9</th>\n      <td>{'C': 0.5, 'gamma': 'auto', 'kernel': 'rbf'}</td>\n      <td>0.892212</td>\n      <td>0.903162</td>\n    </tr>\n    <tr>\n      <th>10</th>\n      <td>{'C': 0.5, 'gamma': 0.1, 'kernel': 'rbf'}</td>\n      <td>0.698110</td>\n      <td>0.994653</td>\n    </tr>\n    <tr>\n      <th>11</th>\n      <td>{'C': 0.5, 'gamma': 1, 'kernel': 'rbf'}</td>\n      <td>0.035221</td>\n      <td>1.000000</td>\n    </tr>\n    <tr>\n      <th>12</th>\n      <td>{'C': 1, 'gamma': 'auto', 'kernel': 'rbf'}</td>\n      <td>0.907864</td>\n      <td>0.919993</td>\n    </tr>\n    <tr>\n      <th>13</th>\n      <td>{'C': 1, 'gamma': 0.1, 'kernel': 'rbf'}</td>\n      <td>0.861424</td>\n      <td>1.000000</td>\n    </tr>\n    <tr>\n      <th>14</th>\n      <td>{'C': 1, 'gamma': 1, 'kernel': 'rbf'}</td>\n      <td>0.149482</td>\n      <td>1.000000</td>\n    </tr>\n    <tr>\n      <th>15</th>\n      <td>{'C': 10, 'gamma': 'auto', 'kernel': 'rbf'}</td>\n      <td>0.936090</td>\n      <td>0.967219</td>\n    </tr>\n    <tr>\n      <th>16</th>\n      <td>{'C': 10, 'gamma': 0.1, 'kernel': 'rbf'}</td>\n      <td>0.870785</td>\n      <td>1.000000</td>\n    </tr>\n    <tr>\n      <th>17</th>\n      <td>{'C': 10, 'gamma': 1, 'kernel': 'rbf'}</td>\n      <td>0.166636</td>\n      <td>1.000000</td>\n    </tr>\n    <tr>\n      <th>18</th>\n      <td>{'C': 100, 'gamma': 'auto', 'kernel': 'rbf'}</td>\n      <td>0.934954</td>\n      <td>0.999066</td>\n    </tr>\n    <tr>\n      <th>19</th>\n      <td>{'C': 100, 'gamma': 0.1, 'kernel': 'rbf'}</td>\n      <td>0.870785</td>\n      <td>1.000000</td>\n    </tr>\n    <tr>\n      <th>20</th>\n      <td>{'C': 100, 'gamma': 1, 'kernel': 'rbf'}</td>\n      <td>0.166636</td>\n      <td>1.000000</td>\n    </tr>\n    <tr>\n      <th>21</th>\n      <td>{'C': 1000, 'gamma': 'auto', 'kernel': 'rbf'}</td>\n      <td>0.932913</td>\n      <td>1.000000</td>\n    </tr>\n    <tr>\n      <th>22</th>\n      <td>{'C': 1000, 'gamma': 0.1, 'kernel': 'rbf'}</td>\n      <td>0.870785</td>\n      <td>1.000000</td>\n    </tr>\n    <tr>\n      <th>23</th>\n      <td>{'C': 1000, 'gamma': 1, 'kernel': 'rbf'}</td>\n      <td>0.166636</td>\n      <td>1.000000</td>\n    </tr>\n  </tbody>\n</table>\n</div>"
     },
     "execution_count": 48,
     "metadata": {},
     "output_type": "execute_result"
    }
   ],
   "source": [
    "tuned_svcclsf_rbf_results[[\"params\",\"mean_test_score\",\"mean_train_score\"]]"
   ],
   "metadata": {
    "collapsed": false,
    "pycharm": {
     "name": "#%%\n"
    }
   }
  },
  {
   "cell_type": "code",
   "execution_count": 49,
   "outputs": [
    {
     "data": {
      "text/plain": "<AxesSubplot:xlabel='param_C', ylabel='mean_test_score'>"
     },
     "execution_count": 49,
     "metadata": {},
     "output_type": "execute_result"
    },
    {
     "data": {
      "text/plain": "<Figure size 864x576 with 1 Axes>",
      "image/png": "[encoded data removed]"
     },
     "metadata": {},
     "output_type": "display_data"
    }
   ],
   "source": [
    "sns.set(rc={\"figure.figsize\":(12, 8)})\n",
    "sns.lineplot(data=tuned_svcclsf_rbf_results, x=\"param_C\", y=\"mean_test_score\")"
   ],
   "metadata": {
    "collapsed": false,
    "pycharm": {
     "name": "#%%\n"
    }
   }
  },
  {
   "cell_type": "code",
   "execution_count": 50,
   "outputs": [
    {
     "name": "stdout",
     "output_type": "stream",
     "text": [
      "SVC(C=10, gamma='auto', random_state=28)\n",
      "0.9360897769343038\n"
     ]
    }
   ],
   "source": [
    "print(tuned_svcclsf_rbf.best_estimator_)\n",
    "print(tuned_svcclsf_rbf.best_score_)"
   ],
   "metadata": {
    "collapsed": false,
    "pycharm": {
     "name": "#%%\n"
    }
   }
  },
  {
   "cell_type": "code",
   "execution_count": 51,
   "outputs": [
    {
     "name": "stdout",
     "output_type": "stream",
     "text": [
      "Train accuracy Score on original dataset: 0.93475\n"
     ]
    }
   ],
   "source": [
    "test_acc = accuracy_score(y_true = data_split.y_train,\n",
    "                    y_pred = tuned_svcclsf_rbf.predict(data_split.x_train))\n",
    "print(\"Train accuracy Score on original dataset: {}\".format(test_acc) )"
   ],
   "metadata": {
    "collapsed": false,
    "pycharm": {
     "name": "#%%\n"
    }
   }
  },
  {
   "cell_type": "code",
   "execution_count": 52,
   "outputs": [
    {
     "data": {
      "text/plain": "SVC(C=10, gamma='auto')"
     },
     "execution_count": 52,
     "metadata": {},
     "output_type": "execute_result"
    }
   ],
   "source": [
    "# best parameters from automatic parameters tuning\n",
    "svc_rbf_clsf = SVC(**tuned_svcclsf_rbf.best_params_)\n",
    "# svc_rbf_clsf = SVC(max_leaf_nodes=100, min_samples_leaf=75, n_estimators=200, random_state=28)\n",
    "\n",
    "svc_rbf_clsf.fit(data_split.x_train, data_split.y_train)"
   ],
   "metadata": {
    "collapsed": false,
    "pycharm": {
     "name": "#%%\n"
    }
   }
  },
  {
   "cell_type": "markdown",
   "source": [
    "# Performance"
   ],
   "metadata": {
    "collapsed": false,
    "pycharm": {
     "name": "#%% md\n"
    }
   }
  },
  {
   "cell_type": "code",
   "execution_count": 53,
   "outputs": [],
   "source": [
    "svc_rbf_train_pred = svc_rbf_clsf.predict(data_split.x_train)\n",
    "svc_rbf_test_pred = svc_rbf_clsf.predict(data_split.x_test)\n",
    "\n",
    "svc_rbf_train_eval = eva.Evaluation(y_true=data_split.y_train, y_pred=svc_rbf_train_pred)\n",
    "svc_rbf_test_eval = eva.Evaluation(y_true=data_split.y_test, y_pred=svc_rbf_test_pred)"
   ],
   "metadata": {
    "collapsed": false,
    "pycharm": {
     "name": "#%%\n"
    }
   }
  },
  {
   "cell_type": "code",
   "execution_count": 54,
   "outputs": [
    {
     "name": "stdout",
     "output_type": "stream",
     "text": [
      "Training:\n",
      "-----Model Evaluations:-----\n",
      "Accuracy score: 0.9725666666666667\n",
      "Testing:\n",
      "-----Model Evaluations:-----\n",
      "Accuracy score: 0.9615\n"
     ]
    }
   ],
   "source": [
    "print(\"Training:\")\n",
    "svc_rbf_train_eval.acc_eval()\n",
    "print(\"Testing:\")\n",
    "svc_rbf_test_eval.acc_eval()"
   ],
   "metadata": {
    "collapsed": false,
    "pycharm": {
     "name": "#%%\n"
    }
   }
  },
  {
   "cell_type": "code",
   "execution_count": 60,
   "outputs": [],
   "source": [
    "# save the model and evaluations\n",
    "svc_rbf_model = eva.EvaluatedModel(svc_rbf_clsf, \"svcrbf\", train_eval=svc_rbf_train_eval, test_eval=svc_rbf_test_eval)\n",
    "# svc_rbf_model.save_evaluation()"
   ],
   "metadata": {
    "collapsed": false,
    "pycharm": {
     "name": "#%%\n"
    }
   }
  },
  {
   "cell_type": "code",
   "execution_count": null,
   "outputs": [],
   "source": [
    "# load the previously saved model and evaluations\n",
    "# svc_rbf_model = eva.EvaluatedModel.load_evaluation(\"svcrbf\")"
   ],
   "metadata": {
    "collapsed": false,
    "pycharm": {
     "name": "#%%\n"
    }
   }
  },
  {
   "cell_type": "markdown",
   "source": [
    "### Confusion Matrix"
   ],
   "metadata": {
    "collapsed": false,
    "pycharm": {
     "name": "#%% md\n"
    }
   }
  },
  {
   "cell_type": "code",
   "execution_count": 63,
   "outputs": [
    {
     "data": {
      "text/plain": "<Figure size 864x576 with 2 Axes>",
      "image/png": "[encoded data removed]"
     },
     "metadata": {},
     "output_type": "display_data"
    }
   ],
   "source": [
    "svc_rbf_model.train_eval.conf_mat()"
   ],
   "metadata": {
    "collapsed": false,
    "pycharm": {
     "name": "#%%\n"
    }
   }
  },
  {
   "cell_type": "code",
   "execution_count": 62,
   "outputs": [
    {
     "data": {
      "text/plain": "<Figure size 864x576 with 2 Axes>",
      "image/png": "[encoded data removed]"
     },
     "metadata": {},
     "output_type": "display_data"
    }
   ],
   "source": [
    "svc_rbf_model.test_eval.conf_mat()"
   ],
   "metadata": {
    "collapsed": false,
    "pycharm": {
     "name": "#%%\n"
    }
   }
  },
  {
   "cell_type": "markdown",
   "source": [],
   "metadata": {
    "collapsed": false,
    "pycharm": {
     "name": "#%% md\n"
    }
   }
  }
 ],
 "metadata": {
  "kernelspec": {
   "display_name": "Python 3",
   "language": "python",
   "name": "python3"
  },
  "language_info": {
   "codemirror_mode": {
    "name": "ipython",
    "version": 2
   },
   "file_extension": ".py",
   "mimetype": "text/x-python",
   "name": "python",
   "nbconvert_exporter": "python",
   "pygments_lexer": "ipython2",
   "version": "2.7.6"
  }
 },
 "nbformat": 4,
 "nbformat_minor": 0
}