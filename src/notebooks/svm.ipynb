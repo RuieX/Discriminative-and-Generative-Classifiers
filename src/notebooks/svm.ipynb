{
 "cells": [
  {
   "cell_type": "markdown",
   "source": [
    "# Support Vector Machine Classifier"
   ],
   "metadata": {
    "collapsed": false,
    "pycharm": {
     "name": "#%% md\n"
    }
   }
  },
  {
   "cell_type": "markdown",
   "source": [
    "# Setup\n",
    "Let us import the required modules."
   ],
   "metadata": {
    "collapsed": false,
    "pycharm": {
     "name": "#%% md\n"
    }
   }
  },
  {
   "cell_type": "code",
   "execution_count": 1,
   "outputs": [],
   "source": [
    "import time\n",
    "import pandas as pd\n",
    "import seaborn as sns\n",
    "\n",
    "from loguru import logger\n",
    "from sklearn.svm import SVC\n",
    "from sklearn.metrics import accuracy_score\n",
    "\n",
    "import src.utilities.data_split as ds\n",
    "import src.utilities.evaluation as eva\n",
    "import src.utilities.model_selection as ms"
   ],
   "metadata": {
    "collapsed": false,
    "pycharm": {
     "name": "#%%\n"
    }
   }
  },
  {
   "cell_type": "markdown",
   "source": [
    "## Load Data\n",
    "Note that the dataset is already split into Train-Test sets."
   ],
   "metadata": {
    "collapsed": false,
    "pycharm": {
     "name": "#%% md\n"
    }
   }
  },
  {
   "cell_type": "code",
   "execution_count": 2,
   "outputs": [],
   "source": [
    "data_split = ds.TrainTestSplit.from_csv_directory(dir_path=\"../data\")"
   ],
   "metadata": {
    "collapsed": false,
    "pycharm": {
     "name": "#%%\n"
    }
   }
  },
  {
   "cell_type": "code",
   "execution_count": 3,
   "outputs": [
    {
     "name": "stdout",
     "output_type": "stream",
     "text": [
      "<class 'pandas.core.frame.DataFrame'>\n",
      "RangeIndex: 60000 entries, 0 to 59999\n",
      "Data columns (total 719 columns):\n",
      " #    Column    Dtype  \n",
      "---   ------    -----  \n",
      " 0    pixel13   float64\n",
      " 1    pixel14   float64\n",
      " 2    pixel15   float64\n",
      " 3    pixel16   float64\n",
      " 4    pixel33   float64\n",
      " 5    pixel34   float64\n",
      " 6    pixel35   float64\n",
      " 7    pixel36   float64\n",
      " 8    pixel37   float64\n",
      " 9    pixel38   float64\n",
      " 10   pixel39   float64\n",
      " 11   pixel40   float64\n",
      " 12   pixel41   float64\n",
      " 13   pixel42   float64\n",
      " 14   pixel43   float64\n",
      " 15   pixel44   float64\n",
      " 16   pixel45   float64\n",
      " 17   pixel46   float64\n",
      " 18   pixel47   float64\n",
      " 19   pixel48   float64\n",
      " 20   pixel49   float64\n",
      " 21   pixel50   float64\n",
      " 22   pixel51   float64\n",
      " 23   pixel52   float64\n",
      " 24   pixel59   float64\n",
      " 25   pixel60   float64\n",
      " 26   pixel61   float64\n",
      " 27   pixel62   float64\n",
      " 28   pixel63   float64\n",
      " 29   pixel64   float64\n",
      " 30   pixel65   float64\n",
      " 31   pixel66   float64\n",
      " 32   pixel67   float64\n",
      " 33   pixel68   float64\n",
      " 34   pixel69   float64\n",
      " 35   pixel70   float64\n",
      " 36   pixel71   float64\n",
      " 37   pixel72   float64\n",
      " 38   pixel73   float64\n",
      " 39   pixel74   float64\n",
      " 40   pixel75   float64\n",
      " 41   pixel76   float64\n",
      " 42   pixel77   float64\n",
      " 43   pixel78   float64\n",
      " 44   pixel79   float64\n",
      " 45   pixel80   float64\n",
      " 46   pixel81   float64\n",
      " 47   pixel82   float64\n",
      " 48   pixel87   float64\n",
      " 49   pixel88   float64\n",
      " 50   pixel89   float64\n",
      " 51   pixel90   float64\n",
      " 52   pixel91   float64\n",
      " 53   pixel92   float64\n",
      " 54   pixel93   float64\n",
      " 55   pixel94   float64\n",
      " 56   pixel95   float64\n",
      " 57   pixel96   float64\n",
      " 58   pixel97   float64\n",
      " 59   pixel98   float64\n",
      " 60   pixel99   float64\n",
      " 61   pixel100  float64\n",
      " 62   pixel101  float64\n",
      " 63   pixel102  float64\n",
      " 64   pixel103  float64\n",
      " 65   pixel104  float64\n",
      " 66   pixel105  float64\n",
      " 67   pixel106  float64\n",
      " 68   pixel107  float64\n",
      " 69   pixel108  float64\n",
      " 70   pixel109  float64\n",
      " 71   pixel110  float64\n",
      " 72   pixel111  float64\n",
      " 73   pixel114  float64\n",
      " 74   pixel115  float64\n",
      " 75   pixel116  float64\n",
      " 76   pixel117  float64\n",
      " 77   pixel118  float64\n",
      " 78   pixel119  float64\n",
      " 79   pixel120  float64\n",
      " 80   pixel121  float64\n",
      " 81   pixel122  float64\n",
      " 82   pixel123  float64\n",
      " 83   pixel124  float64\n",
      " 84   pixel125  float64\n",
      " 85   pixel126  float64\n",
      " 86   pixel127  float64\n",
      " 87   pixel128  float64\n",
      " 88   pixel129  float64\n",
      " 89   pixel130  float64\n",
      " 90   pixel131  float64\n",
      " 91   pixel132  float64\n",
      " 92   pixel133  float64\n",
      " 93   pixel134  float64\n",
      " 94   pixel135  float64\n",
      " 95   pixel136  float64\n",
      " 96   pixel137  float64\n",
      " 97   pixel138  float64\n",
      " 98   pixel139  float64\n",
      " 99   pixel140  float64\n",
      " 100  pixel142  float64\n",
      " 101  pixel143  float64\n",
      " 102  pixel144  float64\n",
      " 103  pixel145  float64\n",
      " 104  pixel146  float64\n",
      " 105  pixel147  float64\n",
      " 106  pixel148  float64\n",
      " 107  pixel149  float64\n",
      " 108  pixel150  float64\n",
      " 109  pixel151  float64\n",
      " 110  pixel152  float64\n",
      " 111  pixel153  float64\n",
      " 112  pixel154  float64\n",
      " 113  pixel155  float64\n",
      " 114  pixel156  float64\n",
      " 115  pixel157  float64\n",
      " 116  pixel158  float64\n",
      " 117  pixel159  float64\n",
      " 118  pixel160  float64\n",
      " 119  pixel161  float64\n",
      " 120  pixel162  float64\n",
      " 121  pixel163  float64\n",
      " 122  pixel164  float64\n",
      " 123  pixel165  float64\n",
      " 124  pixel166  float64\n",
      " 125  pixel167  float64\n",
      " 126  pixel168  float64\n",
      " 127  pixel170  float64\n",
      " 128  pixel171  float64\n",
      " 129  pixel172  float64\n",
      " 130  pixel173  float64\n",
      " 131  pixel174  float64\n",
      " 132  pixel175  float64\n",
      " 133  pixel176  float64\n",
      " 134  pixel177  float64\n",
      " 135  pixel178  float64\n",
      " 136  pixel179  float64\n",
      " 137  pixel180  float64\n",
      " 138  pixel181  float64\n",
      " 139  pixel182  float64\n",
      " 140  pixel183  float64\n",
      " 141  pixel184  float64\n",
      " 142  pixel185  float64\n",
      " 143  pixel186  float64\n",
      " 144  pixel187  float64\n",
      " 145  pixel188  float64\n",
      " 146  pixel189  float64\n",
      " 147  pixel190  float64\n",
      " 148  pixel191  float64\n",
      " 149  pixel192  float64\n",
      " 150  pixel193  float64\n",
      " 151  pixel194  float64\n",
      " 152  pixel195  float64\n",
      " 153  pixel196  float64\n",
      " 154  pixel197  float64\n",
      " 155  pixel198  float64\n",
      " 156  pixel199  float64\n",
      " 157  pixel200  float64\n",
      " 158  pixel201  float64\n",
      " 159  pixel202  float64\n",
      " 160  pixel203  float64\n",
      " 161  pixel204  float64\n",
      " 162  pixel205  float64\n",
      " 163  pixel206  float64\n",
      " 164  pixel207  float64\n",
      " 165  pixel208  float64\n",
      " 166  pixel209  float64\n",
      " 167  pixel210  float64\n",
      " 168  pixel211  float64\n",
      " 169  pixel212  float64\n",
      " 170  pixel213  float64\n",
      " 171  pixel214  float64\n",
      " 172  pixel215  float64\n",
      " 173  pixel216  float64\n",
      " 174  pixel217  float64\n",
      " 175  pixel218  float64\n",
      " 176  pixel219  float64\n",
      " 177  pixel220  float64\n",
      " 178  pixel221  float64\n",
      " 179  pixel222  float64\n",
      " 180  pixel223  float64\n",
      " 181  pixel224  float64\n",
      " 182  pixel225  float64\n",
      " 183  pixel226  float64\n",
      " 184  pixel227  float64\n",
      " 185  pixel228  float64\n",
      " 186  pixel229  float64\n",
      " 187  pixel230  float64\n",
      " 188  pixel231  float64\n",
      " 189  pixel232  float64\n",
      " 190  pixel233  float64\n",
      " 191  pixel234  float64\n",
      " 192  pixel235  float64\n",
      " 193  pixel236  float64\n",
      " 194  pixel237  float64\n",
      " 195  pixel238  float64\n",
      " 196  pixel239  float64\n",
      " 197  pixel240  float64\n",
      " 198  pixel241  float64\n",
      " 199  pixel242  float64\n",
      " 200  pixel243  float64\n",
      " 201  pixel244  float64\n",
      " 202  pixel245  float64\n",
      " 203  pixel246  float64\n",
      " 204  pixel247  float64\n",
      " 205  pixel248  float64\n",
      " 206  pixel249  float64\n",
      " 207  pixel250  float64\n",
      " 208  pixel251  float64\n",
      " 209  pixel252  float64\n",
      " 210  pixel253  float64\n",
      " 211  pixel254  float64\n",
      " 212  pixel255  float64\n",
      " 213  pixel256  float64\n",
      " 214  pixel257  float64\n",
      " 215  pixel258  float64\n",
      " 216  pixel259  float64\n",
      " 217  pixel260  float64\n",
      " 218  pixel261  float64\n",
      " 219  pixel262  float64\n",
      " 220  pixel263  float64\n",
      " 221  pixel264  float64\n",
      " 222  pixel265  float64\n",
      " 223  pixel266  float64\n",
      " 224  pixel267  float64\n",
      " 225  pixel268  float64\n",
      " 226  pixel269  float64\n",
      " 227  pixel270  float64\n",
      " 228  pixel271  float64\n",
      " 229  pixel272  float64\n",
      " 230  pixel273  float64\n",
      " 231  pixel274  float64\n",
      " 232  pixel275  float64\n",
      " 233  pixel276  float64\n",
      " 234  pixel277  float64\n",
      " 235  pixel278  float64\n",
      " 236  pixel279  float64\n",
      " 237  pixel280  float64\n",
      " 238  pixel281  float64\n",
      " 239  pixel282  float64\n",
      " 240  pixel283  float64\n",
      " 241  pixel284  float64\n",
      " 242  pixel285  float64\n",
      " 243  pixel286  float64\n",
      " 244  pixel287  float64\n",
      " 245  pixel288  float64\n",
      " 246  pixel289  float64\n",
      " 247  pixel290  float64\n",
      " 248  pixel291  float64\n",
      " 249  pixel292  float64\n",
      " 250  pixel293  float64\n",
      " 251  pixel294  float64\n",
      " 252  pixel295  float64\n",
      " 253  pixel296  float64\n",
      " 254  pixel297  float64\n",
      " 255  pixel298  float64\n",
      " 256  pixel299  float64\n",
      " 257  pixel300  float64\n",
      " 258  pixel301  float64\n",
      " 259  pixel302  float64\n",
      " 260  pixel303  float64\n",
      " 261  pixel304  float64\n",
      " 262  pixel305  float64\n",
      " 263  pixel306  float64\n",
      " 264  pixel307  float64\n",
      " 265  pixel308  float64\n",
      " 266  pixel309  float64\n",
      " 267  pixel310  float64\n",
      " 268  pixel311  float64\n",
      " 269  pixel312  float64\n",
      " 270  pixel313  float64\n",
      " 271  pixel314  float64\n",
      " 272  pixel315  float64\n",
      " 273  pixel316  float64\n",
      " 274  pixel317  float64\n",
      " 275  pixel318  float64\n",
      " 276  pixel319  float64\n",
      " 277  pixel320  float64\n",
      " 278  pixel321  float64\n",
      " 279  pixel322  float64\n",
      " 280  pixel323  float64\n",
      " 281  pixel324  float64\n",
      " 282  pixel325  float64\n",
      " 283  pixel326  float64\n",
      " 284  pixel327  float64\n",
      " 285  pixel328  float64\n",
      " 286  pixel329  float64\n",
      " 287  pixel330  float64\n",
      " 288  pixel331  float64\n",
      " 289  pixel332  float64\n",
      " 290  pixel333  float64\n",
      " 291  pixel334  float64\n",
      " 292  pixel335  float64\n",
      " 293  pixel336  float64\n",
      " 294  pixel337  float64\n",
      " 295  pixel338  float64\n",
      " 296  pixel339  float64\n",
      " 297  pixel340  float64\n",
      " 298  pixel341  float64\n",
      " 299  pixel342  float64\n",
      " 300  pixel343  float64\n",
      " 301  pixel344  float64\n",
      " 302  pixel345  float64\n",
      " 303  pixel346  float64\n",
      " 304  pixel347  float64\n",
      " 305  pixel348  float64\n",
      " 306  pixel349  float64\n",
      " 307  pixel350  float64\n",
      " 308  pixel351  float64\n",
      " 309  pixel352  float64\n",
      " 310  pixel353  float64\n",
      " 311  pixel354  float64\n",
      " 312  pixel355  float64\n",
      " 313  pixel356  float64\n",
      " 314  pixel357  float64\n",
      " 315  pixel358  float64\n",
      " 316  pixel359  float64\n",
      " 317  pixel360  float64\n",
      " 318  pixel361  float64\n",
      " 319  pixel362  float64\n",
      " 320  pixel363  float64\n",
      " 321  pixel364  float64\n",
      " 322  pixel365  float64\n",
      " 323  pixel366  float64\n",
      " 324  pixel367  float64\n",
      " 325  pixel368  float64\n",
      " 326  pixel369  float64\n",
      " 327  pixel370  float64\n",
      " 328  pixel371  float64\n",
      " 329  pixel372  float64\n",
      " 330  pixel373  float64\n",
      " 331  pixel374  float64\n",
      " 332  pixel375  float64\n",
      " 333  pixel376  float64\n",
      " 334  pixel377  float64\n",
      " 335  pixel378  float64\n",
      " 336  pixel379  float64\n",
      " 337  pixel380  float64\n",
      " 338  pixel381  float64\n",
      " 339  pixel382  float64\n",
      " 340  pixel383  float64\n",
      " 341  pixel384  float64\n",
      " 342  pixel385  float64\n",
      " 343  pixel386  float64\n",
      " 344  pixel387  float64\n",
      " 345  pixel388  float64\n",
      " 346  pixel389  float64\n",
      " 347  pixel390  float64\n",
      " 348  pixel391  float64\n",
      " 349  pixel392  float64\n",
      " 350  pixel393  float64\n",
      " 351  pixel394  float64\n",
      " 352  pixel395  float64\n",
      " 353  pixel396  float64\n",
      " 354  pixel397  float64\n",
      " 355  pixel398  float64\n",
      " 356  pixel399  float64\n",
      " 357  pixel400  float64\n",
      " 358  pixel401  float64\n",
      " 359  pixel402  float64\n",
      " 360  pixel403  float64\n",
      " 361  pixel404  float64\n",
      " 362  pixel405  float64\n",
      " 363  pixel406  float64\n",
      " 364  pixel407  float64\n",
      " 365  pixel408  float64\n",
      " 366  pixel409  float64\n",
      " 367  pixel410  float64\n",
      " 368  pixel411  float64\n",
      " 369  pixel412  float64\n",
      " 370  pixel413  float64\n",
      " 371  pixel414  float64\n",
      " 372  pixel415  float64\n",
      " 373  pixel416  float64\n",
      " 374  pixel417  float64\n",
      " 375  pixel418  float64\n",
      " 376  pixel419  float64\n",
      " 377  pixel420  float64\n",
      " 378  pixel421  float64\n",
      " 379  pixel422  float64\n",
      " 380  pixel423  float64\n",
      " 381  pixel424  float64\n",
      " 382  pixel425  float64\n",
      " 383  pixel426  float64\n",
      " 384  pixel427  float64\n",
      " 385  pixel428  float64\n",
      " 386  pixel429  float64\n",
      " 387  pixel430  float64\n",
      " 388  pixel431  float64\n",
      " 389  pixel432  float64\n",
      " 390  pixel433  float64\n",
      " 391  pixel434  float64\n",
      " 392  pixel435  float64\n",
      " 393  pixel436  float64\n",
      " 394  pixel437  float64\n",
      " 395  pixel438  float64\n",
      " 396  pixel439  float64\n",
      " 397  pixel440  float64\n",
      " 398  pixel441  float64\n",
      " 399  pixel442  float64\n",
      " 400  pixel443  float64\n",
      " 401  pixel444  float64\n",
      " 402  pixel445  float64\n",
      " 403  pixel446  float64\n",
      " 404  pixel447  float64\n",
      " 405  pixel448  float64\n",
      " 406  pixel449  float64\n",
      " 407  pixel450  float64\n",
      " 408  pixel451  float64\n",
      " 409  pixel452  float64\n",
      " 410  pixel453  float64\n",
      " 411  pixel454  float64\n",
      " 412  pixel455  float64\n",
      " 413  pixel456  float64\n",
      " 414  pixel457  float64\n",
      " 415  pixel458  float64\n",
      " 416  pixel459  float64\n",
      " 417  pixel460  float64\n",
      " 418  pixel461  float64\n",
      " 419  pixel462  float64\n",
      " 420  pixel463  float64\n",
      " 421  pixel464  float64\n",
      " 422  pixel465  float64\n",
      " 423  pixel466  float64\n",
      " 424  pixel467  float64\n",
      " 425  pixel468  float64\n",
      " 426  pixel469  float64\n",
      " 427  pixel470  float64\n",
      " 428  pixel471  float64\n",
      " 429  pixel472  float64\n",
      " 430  pixel473  float64\n",
      " 431  pixel474  float64\n",
      " 432  pixel475  float64\n",
      " 433  pixel476  float64\n",
      " 434  pixel478  float64\n",
      " 435  pixel479  float64\n",
      " 436  pixel480  float64\n",
      " 437  pixel481  float64\n",
      " 438  pixel482  float64\n",
      " 439  pixel483  float64\n",
      " 440  pixel484  float64\n",
      " 441  pixel485  float64\n",
      " 442  pixel486  float64\n",
      " 443  pixel487  float64\n",
      " 444  pixel488  float64\n",
      " 445  pixel489  float64\n",
      " 446  pixel490  float64\n",
      " 447  pixel491  float64\n",
      " 448  pixel492  float64\n",
      " 449  pixel493  float64\n",
      " 450  pixel494  float64\n",
      " 451  pixel495  float64\n",
      " 452  pixel496  float64\n",
      " 453  pixel497  float64\n",
      " 454  pixel498  float64\n",
      " 455  pixel499  float64\n",
      " 456  pixel500  float64\n",
      " 457  pixel501  float64\n",
      " 458  pixel502  float64\n",
      " 459  pixel503  float64\n",
      " 460  pixel504  float64\n",
      " 461  pixel505  float64\n",
      " 462  pixel506  float64\n",
      " 463  pixel507  float64\n",
      " 464  pixel508  float64\n",
      " 465  pixel509  float64\n",
      " 466  pixel510  float64\n",
      " 467  pixel511  float64\n",
      " 468  pixel512  float64\n",
      " 469  pixel513  float64\n",
      " 470  pixel514  float64\n",
      " 471  pixel515  float64\n",
      " 472  pixel516  float64\n",
      " 473  pixel517  float64\n",
      " 474  pixel518  float64\n",
      " 475  pixel519  float64\n",
      " 476  pixel520  float64\n",
      " 477  pixel521  float64\n",
      " 478  pixel522  float64\n",
      " 479  pixel523  float64\n",
      " 480  pixel524  float64\n",
      " 481  pixel525  float64\n",
      " 482  pixel526  float64\n",
      " 483  pixel527  float64\n",
      " 484  pixel528  float64\n",
      " 485  pixel529  float64\n",
      " 486  pixel530  float64\n",
      " 487  pixel531  float64\n",
      " 488  pixel532  float64\n",
      " 489  pixel533  float64\n",
      " 490  pixel534  float64\n",
      " 491  pixel535  float64\n",
      " 492  pixel536  float64\n",
      " 493  pixel537  float64\n",
      " 494  pixel538  float64\n",
      " 495  pixel539  float64\n",
      " 496  pixel540  float64\n",
      " 497  pixel541  float64\n",
      " 498  pixel542  float64\n",
      " 499  pixel543  float64\n",
      " 500  pixel544  float64\n",
      " 501  pixel545  float64\n",
      " 502  pixel546  float64\n",
      " 503  pixel547  float64\n",
      " 504  pixel548  float64\n",
      " 505  pixel549  float64\n",
      " 506  pixel550  float64\n",
      " 507  pixel551  float64\n",
      " 508  pixel552  float64\n",
      " 509  pixel553  float64\n",
      " 510  pixel554  float64\n",
      " 511  pixel555  float64\n",
      " 512  pixel556  float64\n",
      " 513  pixel557  float64\n",
      " 514  pixel558  float64\n",
      " 515  pixel559  float64\n",
      " 516  pixel560  float64\n",
      " 517  pixel562  float64\n",
      " 518  pixel563  float64\n",
      " 519  pixel564  float64\n",
      " 520  pixel565  float64\n",
      " 521  pixel566  float64\n",
      " 522  pixel567  float64\n",
      " 523  pixel568  float64\n",
      " 524  pixel569  float64\n",
      " 525  pixel570  float64\n",
      " 526  pixel571  float64\n",
      " 527  pixel572  float64\n",
      " 528  pixel573  float64\n",
      " 529  pixel574  float64\n",
      " 530  pixel575  float64\n",
      " 531  pixel576  float64\n",
      " 532  pixel577  float64\n",
      " 533  pixel578  float64\n",
      " 534  pixel579  float64\n",
      " 535  pixel580  float64\n",
      " 536  pixel581  float64\n",
      " 537  pixel582  float64\n",
      " 538  pixel583  float64\n",
      " 539  pixel584  float64\n",
      " 540  pixel585  float64\n",
      " 541  pixel586  float64\n",
      " 542  pixel587  float64\n",
      " 543  pixel588  float64\n",
      " 544  pixel589  float64\n",
      " 545  pixel590  float64\n",
      " 546  pixel591  float64\n",
      " 547  pixel592  float64\n",
      " 548  pixel593  float64\n",
      " 549  pixel594  float64\n",
      " 550  pixel595  float64\n",
      " 551  pixel596  float64\n",
      " 552  pixel597  float64\n",
      " 553  pixel598  float64\n",
      " 554  pixel599  float64\n",
      " 555  pixel600  float64\n",
      " 556  pixel601  float64\n",
      " 557  pixel602  float64\n",
      " 558  pixel603  float64\n",
      " 559  pixel604  float64\n",
      " 560  pixel605  float64\n",
      " 561  pixel606  float64\n",
      " 562  pixel607  float64\n",
      " 563  pixel608  float64\n",
      " 564  pixel609  float64\n",
      " 565  pixel610  float64\n",
      " 566  pixel611  float64\n",
      " 567  pixel612  float64\n",
      " 568  pixel613  float64\n",
      " 569  pixel614  float64\n",
      " 570  pixel615  float64\n",
      " 571  pixel616  float64\n",
      " 572  pixel617  float64\n",
      " 573  pixel618  float64\n",
      " 574  pixel619  float64\n",
      " 575  pixel620  float64\n",
      " 576  pixel621  float64\n",
      " 577  pixel622  float64\n",
      " 578  pixel623  float64\n",
      " 579  pixel624  float64\n",
      " 580  pixel625  float64\n",
      " 581  pixel626  float64\n",
      " 582  pixel627  float64\n",
      " 583  pixel628  float64\n",
      " 584  pixel629  float64\n",
      " 585  pixel630  float64\n",
      " 586  pixel631  float64\n",
      " 587  pixel632  float64\n",
      " 588  pixel633  float64\n",
      " 589  pixel634  float64\n",
      " 590  pixel635  float64\n",
      " 591  pixel636  float64\n",
      " 592  pixel637  float64\n",
      " 593  pixel638  float64\n",
      " 594  pixel639  float64\n",
      " 595  pixel640  float64\n",
      " 596  pixel641  float64\n",
      " 597  pixel642  float64\n",
      " 598  pixel643  float64\n",
      " 599  pixel644  float64\n",
      " 600  pixel646  float64\n",
      " 601  pixel647  float64\n",
      " 602  pixel648  float64\n",
      " 603  pixel649  float64\n",
      " 604  pixel650  float64\n",
      " 605  pixel651  float64\n",
      " 606  pixel652  float64\n",
      " 607  pixel653  float64\n",
      " 608  pixel654  float64\n",
      " 609  pixel655  float64\n",
      " 610  pixel656  float64\n",
      " 611  pixel657  float64\n",
      " 612  pixel658  float64\n",
      " 613  pixel659  float64\n",
      " 614  pixel660  float64\n",
      " 615  pixel661  float64\n",
      " 616  pixel662  float64\n",
      " 617  pixel663  float64\n",
      " 618  pixel664  float64\n",
      " 619  pixel665  float64\n",
      " 620  pixel666  float64\n",
      " 621  pixel667  float64\n",
      " 622  pixel668  float64\n",
      " 623  pixel669  float64\n",
      " 624  pixel670  float64\n",
      " 625  pixel671  float64\n",
      " 626  pixel675  float64\n",
      " 627  pixel676  float64\n",
      " 628  pixel677  float64\n",
      " 629  pixel678  float64\n",
      " 630  pixel679  float64\n",
      " 631  pixel680  float64\n",
      " 632  pixel681  float64\n",
      " 633  pixel682  float64\n",
      " 634  pixel683  float64\n",
      " 635  pixel684  float64\n",
      " 636  pixel685  float64\n",
      " 637  pixel686  float64\n",
      " 638  pixel687  float64\n",
      " 639  pixel688  float64\n",
      " 640  pixel689  float64\n",
      " 641  pixel690  float64\n",
      " 642  pixel691  float64\n",
      " 643  pixel692  float64\n",
      " 644  pixel693  float64\n",
      " 645  pixel694  float64\n",
      " 646  pixel695  float64\n",
      " 647  pixel696  float64\n",
      " 648  pixel697  float64\n",
      " 649  pixel698  float64\n",
      " 650  pixel699  float64\n",
      " 651  pixel703  float64\n",
      " 652  pixel704  float64\n",
      " 653  pixel705  float64\n",
      " 654  pixel706  float64\n",
      " 655  pixel707  float64\n",
      " 656  pixel708  float64\n",
      " 657  pixel709  float64\n",
      " 658  pixel710  float64\n",
      " 659  pixel711  float64\n",
      " 660  pixel712  float64\n",
      " 661  pixel713  float64\n",
      " 662  pixel714  float64\n",
      " 663  pixel715  float64\n",
      " 664  pixel716  float64\n",
      " 665  pixel717  float64\n",
      " 666  pixel718  float64\n",
      " 667  pixel719  float64\n",
      " 668  pixel720  float64\n",
      " 669  pixel721  float64\n",
      " 670  pixel722  float64\n",
      " 671  pixel723  float64\n",
      " 672  pixel724  float64\n",
      " 673  pixel725  float64\n",
      " 674  pixel726  float64\n",
      " 675  pixel727  float64\n",
      " 676  pixel732  float64\n",
      " 677  pixel733  float64\n",
      " 678  pixel734  float64\n",
      " 679  pixel735  float64\n",
      " 680  pixel736  float64\n",
      " 681  pixel737  float64\n",
      " 682  pixel738  float64\n",
      " 683  pixel739  float64\n",
      " 684  pixel740  float64\n",
      " 685  pixel741  float64\n",
      " 686  pixel742  float64\n",
      " 687  pixel743  float64\n",
      " 688  pixel744  float64\n",
      " 689  pixel745  float64\n",
      " 690  pixel746  float64\n",
      " 691  pixel747  float64\n",
      " 692  pixel748  float64\n",
      " 693  pixel749  float64\n",
      " 694  pixel750  float64\n",
      " 695  pixel751  float64\n",
      " 696  pixel752  float64\n",
      " 697  pixel753  float64\n",
      " 698  pixel754  float64\n",
      " 699  pixel761  float64\n",
      " 700  pixel762  float64\n",
      " 701  pixel763  float64\n",
      " 702  pixel764  float64\n",
      " 703  pixel765  float64\n",
      " 704  pixel766  float64\n",
      " 705  pixel767  float64\n",
      " 706  pixel768  float64\n",
      " 707  pixel769  float64\n",
      " 708  pixel770  float64\n",
      " 709  pixel771  float64\n",
      " 710  pixel772  float64\n",
      " 711  pixel773  float64\n",
      " 712  pixel774  float64\n",
      " 713  pixel775  float64\n",
      " 714  pixel776  float64\n",
      " 715  pixel777  float64\n",
      " 716  pixel778  float64\n",
      " 717  pixel779  float64\n",
      " 718  pixel780  float64\n",
      "dtypes: float64(719)\n",
      "memory usage: 329.1 MB\n"
     ]
    }
   ],
   "source": [
    "data_split.x_train.info(verbose=True)"
   ],
   "metadata": {
    "collapsed": false,
    "pycharm": {
     "name": "#%%\n"
    }
   }
  },
  {
   "cell_type": "code",
   "execution_count": 4,
   "outputs": [
    {
     "data": {
      "text/plain": "(60000,)"
     },
     "execution_count": 4,
     "metadata": {},
     "output_type": "execute_result"
    }
   ],
   "source": [
    "data_split.y_train.shape"
   ],
   "metadata": {
    "collapsed": false,
    "pycharm": {
     "name": "#%%\n"
    }
   }
  },
  {
   "cell_type": "markdown",
   "source": [
    "## Tuning Discriminative Classifiers: SVM"
   ],
   "metadata": {
    "collapsed": false,
    "pycharm": {
     "name": "#%% md\n"
    }
   }
  },
  {
   "cell_type": "markdown",
   "source": [
    "Use a smaller dataset to reduce the workload of GridSearchCV"
   ],
   "metadata": {
    "collapsed": false,
    "pycharm": {
     "name": "#%% md\n"
    }
   }
  },
  {
   "cell_type": "code",
   "execution_count": 5,
   "outputs": [
    {
     "data": {
      "text/plain": "<AxesSubplot:ylabel='count'>"
     },
     "execution_count": 5,
     "metadata": {},
     "output_type": "execute_result"
    },
    {
     "data": {
      "text/plain": "<Figure size 432x288 with 1 Axes>",
      "image/png": "[encoded data removed]"
     },
     "metadata": {},
     "output_type": "display_data"
    }
   ],
   "source": [
    "sns.countplot(x=data_split.y_train)"
   ],
   "metadata": {
    "collapsed": false,
    "pycharm": {
     "name": "#%%\n"
    }
   }
  },
  {
   "cell_type": "code",
   "execution_count": 6,
   "outputs": [],
   "source": [
    "x_data_small, y_data_small = ds.get_train_subset(x_train=data_split.x_train, y_train=data_split.y_train, size=5000)"
   ],
   "metadata": {
    "collapsed": false,
    "pycharm": {
     "name": "#%%\n"
    }
   }
  },
  {
   "cell_type": "code",
   "execution_count": 7,
   "outputs": [
    {
     "data": {
      "text/plain": "<AxesSubplot:xlabel='Number', ylabel='count'>"
     },
     "execution_count": 7,
     "metadata": {},
     "output_type": "execute_result"
    },
    {
     "data": {
      "text/plain": "<Figure size 432x288 with 1 Axes>",
      "image/png": "[encoded data removed]"
     },
     "metadata": {},
     "output_type": "display_data"
    }
   ],
   "source": [
    "sns.countplot(x=y_data_small)"
   ],
   "metadata": {
    "collapsed": false,
    "pycharm": {
     "name": "#%%\n"
    }
   }
  },
  {
   "cell_type": "code",
   "execution_count": 8,
   "outputs": [
    {
     "name": "stdout",
     "output_type": "stream",
     "text": [
      "<class 'pandas.core.frame.DataFrame'>\n",
      "Int64Index: 5000 entries, 39939 to 47235\n",
      "Data columns (total 719 columns):\n",
      " #    Column    Dtype  \n",
      "---   ------    -----  \n",
      " 0    pixel13   float64\n",
      " 1    pixel14   float64\n",
      " 2    pixel15   float64\n",
      " 3    pixel16   float64\n",
      " 4    pixel33   float64\n",
      " 5    pixel34   float64\n",
      " 6    pixel35   float64\n",
      " 7    pixel36   float64\n",
      " 8    pixel37   float64\n",
      " 9    pixel38   float64\n",
      " 10   pixel39   float64\n",
      " 11   pixel40   float64\n",
      " 12   pixel41   float64\n",
      " 13   pixel42   float64\n",
      " 14   pixel43   float64\n",
      " 15   pixel44   float64\n",
      " 16   pixel45   float64\n",
      " 17   pixel46   float64\n",
      " 18   pixel47   float64\n",
      " 19   pixel48   float64\n",
      " 20   pixel49   float64\n",
      " 21   pixel50   float64\n",
      " 22   pixel51   float64\n",
      " 23   pixel52   float64\n",
      " 24   pixel59   float64\n",
      " 25   pixel60   float64\n",
      " 26   pixel61   float64\n",
      " 27   pixel62   float64\n",
      " 28   pixel63   float64\n",
      " 29   pixel64   float64\n",
      " 30   pixel65   float64\n",
      " 31   pixel66   float64\n",
      " 32   pixel67   float64\n",
      " 33   pixel68   float64\n",
      " 34   pixel69   float64\n",
      " 35   pixel70   float64\n",
      " 36   pixel71   float64\n",
      " 37   pixel72   float64\n",
      " 38   pixel73   float64\n",
      " 39   pixel74   float64\n",
      " 40   pixel75   float64\n",
      " 41   pixel76   float64\n",
      " 42   pixel77   float64\n",
      " 43   pixel78   float64\n",
      " 44   pixel79   float64\n",
      " 45   pixel80   float64\n",
      " 46   pixel81   float64\n",
      " 47   pixel82   float64\n",
      " 48   pixel87   float64\n",
      " 49   pixel88   float64\n",
      " 50   pixel89   float64\n",
      " 51   pixel90   float64\n",
      " 52   pixel91   float64\n",
      " 53   pixel92   float64\n",
      " 54   pixel93   float64\n",
      " 55   pixel94   float64\n",
      " 56   pixel95   float64\n",
      " 57   pixel96   float64\n",
      " 58   pixel97   float64\n",
      " 59   pixel98   float64\n",
      " 60   pixel99   float64\n",
      " 61   pixel100  float64\n",
      " 62   pixel101  float64\n",
      " 63   pixel102  float64\n",
      " 64   pixel103  float64\n",
      " 65   pixel104  float64\n",
      " 66   pixel105  float64\n",
      " 67   pixel106  float64\n",
      " 68   pixel107  float64\n",
      " 69   pixel108  float64\n",
      " 70   pixel109  float64\n",
      " 71   pixel110  float64\n",
      " 72   pixel111  float64\n",
      " 73   pixel114  float64\n",
      " 74   pixel115  float64\n",
      " 75   pixel116  float64\n",
      " 76   pixel117  float64\n",
      " 77   pixel118  float64\n",
      " 78   pixel119  float64\n",
      " 79   pixel120  float64\n",
      " 80   pixel121  float64\n",
      " 81   pixel122  float64\n",
      " 82   pixel123  float64\n",
      " 83   pixel124  float64\n",
      " 84   pixel125  float64\n",
      " 85   pixel126  float64\n",
      " 86   pixel127  float64\n",
      " 87   pixel128  float64\n",
      " 88   pixel129  float64\n",
      " 89   pixel130  float64\n",
      " 90   pixel131  float64\n",
      " 91   pixel132  float64\n",
      " 92   pixel133  float64\n",
      " 93   pixel134  float64\n",
      " 94   pixel135  float64\n",
      " 95   pixel136  float64\n",
      " 96   pixel137  float64\n",
      " 97   pixel138  float64\n",
      " 98   pixel139  float64\n",
      " 99   pixel140  float64\n",
      " 100  pixel142  float64\n",
      " 101  pixel143  float64\n",
      " 102  pixel144  float64\n",
      " 103  pixel145  float64\n",
      " 104  pixel146  float64\n",
      " 105  pixel147  float64\n",
      " 106  pixel148  float64\n",
      " 107  pixel149  float64\n",
      " 108  pixel150  float64\n",
      " 109  pixel151  float64\n",
      " 110  pixel152  float64\n",
      " 111  pixel153  float64\n",
      " 112  pixel154  float64\n",
      " 113  pixel155  float64\n",
      " 114  pixel156  float64\n",
      " 115  pixel157  float64\n",
      " 116  pixel158  float64\n",
      " 117  pixel159  float64\n",
      " 118  pixel160  float64\n",
      " 119  pixel161  float64\n",
      " 120  pixel162  float64\n",
      " 121  pixel163  float64\n",
      " 122  pixel164  float64\n",
      " 123  pixel165  float64\n",
      " 124  pixel166  float64\n",
      " 125  pixel167  float64\n",
      " 126  pixel168  float64\n",
      " 127  pixel170  float64\n",
      " 128  pixel171  float64\n",
      " 129  pixel172  float64\n",
      " 130  pixel173  float64\n",
      " 131  pixel174  float64\n",
      " 132  pixel175  float64\n",
      " 133  pixel176  float64\n",
      " 134  pixel177  float64\n",
      " 135  pixel178  float64\n",
      " 136  pixel179  float64\n",
      " 137  pixel180  float64\n",
      " 138  pixel181  float64\n",
      " 139  pixel182  float64\n",
      " 140  pixel183  float64\n",
      " 141  pixel184  float64\n",
      " 142  pixel185  float64\n",
      " 143  pixel186  float64\n",
      " 144  pixel187  float64\n",
      " 145  pixel188  float64\n",
      " 146  pixel189  float64\n",
      " 147  pixel190  float64\n",
      " 148  pixel191  float64\n",
      " 149  pixel192  float64\n",
      " 150  pixel193  float64\n",
      " 151  pixel194  float64\n",
      " 152  pixel195  float64\n",
      " 153  pixel196  float64\n",
      " 154  pixel197  float64\n",
      " 155  pixel198  float64\n",
      " 156  pixel199  float64\n",
      " 157  pixel200  float64\n",
      " 158  pixel201  float64\n",
      " 159  pixel202  float64\n",
      " 160  pixel203  float64\n",
      " 161  pixel204  float64\n",
      " 162  pixel205  float64\n",
      " 163  pixel206  float64\n",
      " 164  pixel207  float64\n",
      " 165  pixel208  float64\n",
      " 166  pixel209  float64\n",
      " 167  pixel210  float64\n",
      " 168  pixel211  float64\n",
      " 169  pixel212  float64\n",
      " 170  pixel213  float64\n",
      " 171  pixel214  float64\n",
      " 172  pixel215  float64\n",
      " 173  pixel216  float64\n",
      " 174  pixel217  float64\n",
      " 175  pixel218  float64\n",
      " 176  pixel219  float64\n",
      " 177  pixel220  float64\n",
      " 178  pixel221  float64\n",
      " 179  pixel222  float64\n",
      " 180  pixel223  float64\n",
      " 181  pixel224  float64\n",
      " 182  pixel225  float64\n",
      " 183  pixel226  float64\n",
      " 184  pixel227  float64\n",
      " 185  pixel228  float64\n",
      " 186  pixel229  float64\n",
      " 187  pixel230  float64\n",
      " 188  pixel231  float64\n",
      " 189  pixel232  float64\n",
      " 190  pixel233  float64\n",
      " 191  pixel234  float64\n",
      " 192  pixel235  float64\n",
      " 193  pixel236  float64\n",
      " 194  pixel237  float64\n",
      " 195  pixel238  float64\n",
      " 196  pixel239  float64\n",
      " 197  pixel240  float64\n",
      " 198  pixel241  float64\n",
      " 199  pixel242  float64\n",
      " 200  pixel243  float64\n",
      " 201  pixel244  float64\n",
      " 202  pixel245  float64\n",
      " 203  pixel246  float64\n",
      " 204  pixel247  float64\n",
      " 205  pixel248  float64\n",
      " 206  pixel249  float64\n",
      " 207  pixel250  float64\n",
      " 208  pixel251  float64\n",
      " 209  pixel252  float64\n",
      " 210  pixel253  float64\n",
      " 211  pixel254  float64\n",
      " 212  pixel255  float64\n",
      " 213  pixel256  float64\n",
      " 214  pixel257  float64\n",
      " 215  pixel258  float64\n",
      " 216  pixel259  float64\n",
      " 217  pixel260  float64\n",
      " 218  pixel261  float64\n",
      " 219  pixel262  float64\n",
      " 220  pixel263  float64\n",
      " 221  pixel264  float64\n",
      " 222  pixel265  float64\n",
      " 223  pixel266  float64\n",
      " 224  pixel267  float64\n",
      " 225  pixel268  float64\n",
      " 226  pixel269  float64\n",
      " 227  pixel270  float64\n",
      " 228  pixel271  float64\n",
      " 229  pixel272  float64\n",
      " 230  pixel273  float64\n",
      " 231  pixel274  float64\n",
      " 232  pixel275  float64\n",
      " 233  pixel276  float64\n",
      " 234  pixel277  float64\n",
      " 235  pixel278  float64\n",
      " 236  pixel279  float64\n",
      " 237  pixel280  float64\n",
      " 238  pixel281  float64\n",
      " 239  pixel282  float64\n",
      " 240  pixel283  float64\n",
      " 241  pixel284  float64\n",
      " 242  pixel285  float64\n",
      " 243  pixel286  float64\n",
      " 244  pixel287  float64\n",
      " 245  pixel288  float64\n",
      " 246  pixel289  float64\n",
      " 247  pixel290  float64\n",
      " 248  pixel291  float64\n",
      " 249  pixel292  float64\n",
      " 250  pixel293  float64\n",
      " 251  pixel294  float64\n",
      " 252  pixel295  float64\n",
      " 253  pixel296  float64\n",
      " 254  pixel297  float64\n",
      " 255  pixel298  float64\n",
      " 256  pixel299  float64\n",
      " 257  pixel300  float64\n",
      " 258  pixel301  float64\n",
      " 259  pixel302  float64\n",
      " 260  pixel303  float64\n",
      " 261  pixel304  float64\n",
      " 262  pixel305  float64\n",
      " 263  pixel306  float64\n",
      " 264  pixel307  float64\n",
      " 265  pixel308  float64\n",
      " 266  pixel309  float64\n",
      " 267  pixel310  float64\n",
      " 268  pixel311  float64\n",
      " 269  pixel312  float64\n",
      " 270  pixel313  float64\n",
      " 271  pixel314  float64\n",
      " 272  pixel315  float64\n",
      " 273  pixel316  float64\n",
      " 274  pixel317  float64\n",
      " 275  pixel318  float64\n",
      " 276  pixel319  float64\n",
      " 277  pixel320  float64\n",
      " 278  pixel321  float64\n",
      " 279  pixel322  float64\n",
      " 280  pixel323  float64\n",
      " 281  pixel324  float64\n",
      " 282  pixel325  float64\n",
      " 283  pixel326  float64\n",
      " 284  pixel327  float64\n",
      " 285  pixel328  float64\n",
      " 286  pixel329  float64\n",
      " 287  pixel330  float64\n",
      " 288  pixel331  float64\n",
      " 289  pixel332  float64\n",
      " 290  pixel333  float64\n",
      " 291  pixel334  float64\n",
      " 292  pixel335  float64\n",
      " 293  pixel336  float64\n",
      " 294  pixel337  float64\n",
      " 295  pixel338  float64\n",
      " 296  pixel339  float64\n",
      " 297  pixel340  float64\n",
      " 298  pixel341  float64\n",
      " 299  pixel342  float64\n",
      " 300  pixel343  float64\n",
      " 301  pixel344  float64\n",
      " 302  pixel345  float64\n",
      " 303  pixel346  float64\n",
      " 304  pixel347  float64\n",
      " 305  pixel348  float64\n",
      " 306  pixel349  float64\n",
      " 307  pixel350  float64\n",
      " 308  pixel351  float64\n",
      " 309  pixel352  float64\n",
      " 310  pixel353  float64\n",
      " 311  pixel354  float64\n",
      " 312  pixel355  float64\n",
      " 313  pixel356  float64\n",
      " 314  pixel357  float64\n",
      " 315  pixel358  float64\n",
      " 316  pixel359  float64\n",
      " 317  pixel360  float64\n",
      " 318  pixel361  float64\n",
      " 319  pixel362  float64\n",
      " 320  pixel363  float64\n",
      " 321  pixel364  float64\n",
      " 322  pixel365  float64\n",
      " 323  pixel366  float64\n",
      " 324  pixel367  float64\n",
      " 325  pixel368  float64\n",
      " 326  pixel369  float64\n",
      " 327  pixel370  float64\n",
      " 328  pixel371  float64\n",
      " 329  pixel372  float64\n",
      " 330  pixel373  float64\n",
      " 331  pixel374  float64\n",
      " 332  pixel375  float64\n",
      " 333  pixel376  float64\n",
      " 334  pixel377  float64\n",
      " 335  pixel378  float64\n",
      " 336  pixel379  float64\n",
      " 337  pixel380  float64\n",
      " 338  pixel381  float64\n",
      " 339  pixel382  float64\n",
      " 340  pixel383  float64\n",
      " 341  pixel384  float64\n",
      " 342  pixel385  float64\n",
      " 343  pixel386  float64\n",
      " 344  pixel387  float64\n",
      " 345  pixel388  float64\n",
      " 346  pixel389  float64\n",
      " 347  pixel390  float64\n",
      " 348  pixel391  float64\n",
      " 349  pixel392  float64\n",
      " 350  pixel393  float64\n",
      " 351  pixel394  float64\n",
      " 352  pixel395  float64\n",
      " 353  pixel396  float64\n",
      " 354  pixel397  float64\n",
      " 355  pixel398  float64\n",
      " 356  pixel399  float64\n",
      " 357  pixel400  float64\n",
      " 358  pixel401  float64\n",
      " 359  pixel402  float64\n",
      " 360  pixel403  float64\n",
      " 361  pixel404  float64\n",
      " 362  pixel405  float64\n",
      " 363  pixel406  float64\n",
      " 364  pixel407  float64\n",
      " 365  pixel408  float64\n",
      " 366  pixel409  float64\n",
      " 367  pixel410  float64\n",
      " 368  pixel411  float64\n",
      " 369  pixel412  float64\n",
      " 370  pixel413  float64\n",
      " 371  pixel414  float64\n",
      " 372  pixel415  float64\n",
      " 373  pixel416  float64\n",
      " 374  pixel417  float64\n",
      " 375  pixel418  float64\n",
      " 376  pixel419  float64\n",
      " 377  pixel420  float64\n",
      " 378  pixel421  float64\n",
      " 379  pixel422  float64\n",
      " 380  pixel423  float64\n",
      " 381  pixel424  float64\n",
      " 382  pixel425  float64\n",
      " 383  pixel426  float64\n",
      " 384  pixel427  float64\n",
      " 385  pixel428  float64\n",
      " 386  pixel429  float64\n",
      " 387  pixel430  float64\n",
      " 388  pixel431  float64\n",
      " 389  pixel432  float64\n",
      " 390  pixel433  float64\n",
      " 391  pixel434  float64\n",
      " 392  pixel435  float64\n",
      " 393  pixel436  float64\n",
      " 394  pixel437  float64\n",
      " 395  pixel438  float64\n",
      " 396  pixel439  float64\n",
      " 397  pixel440  float64\n",
      " 398  pixel441  float64\n",
      " 399  pixel442  float64\n",
      " 400  pixel443  float64\n",
      " 401  pixel444  float64\n",
      " 402  pixel445  float64\n",
      " 403  pixel446  float64\n",
      " 404  pixel447  float64\n",
      " 405  pixel448  float64\n",
      " 406  pixel449  float64\n",
      " 407  pixel450  float64\n",
      " 408  pixel451  float64\n",
      " 409  pixel452  float64\n",
      " 410  pixel453  float64\n",
      " 411  pixel454  float64\n",
      " 412  pixel455  float64\n",
      " 413  pixel456  float64\n",
      " 414  pixel457  float64\n",
      " 415  pixel458  float64\n",
      " 416  pixel459  float64\n",
      " 417  pixel460  float64\n",
      " 418  pixel461  float64\n",
      " 419  pixel462  float64\n",
      " 420  pixel463  float64\n",
      " 421  pixel464  float64\n",
      " 422  pixel465  float64\n",
      " 423  pixel466  float64\n",
      " 424  pixel467  float64\n",
      " 425  pixel468  float64\n",
      " 426  pixel469  float64\n",
      " 427  pixel470  float64\n",
      " 428  pixel471  float64\n",
      " 429  pixel472  float64\n",
      " 430  pixel473  float64\n",
      " 431  pixel474  float64\n",
      " 432  pixel475  float64\n",
      " 433  pixel476  float64\n",
      " 434  pixel478  float64\n",
      " 435  pixel479  float64\n",
      " 436  pixel480  float64\n",
      " 437  pixel481  float64\n",
      " 438  pixel482  float64\n",
      " 439  pixel483  float64\n",
      " 440  pixel484  float64\n",
      " 441  pixel485  float64\n",
      " 442  pixel486  float64\n",
      " 443  pixel487  float64\n",
      " 444  pixel488  float64\n",
      " 445  pixel489  float64\n",
      " 446  pixel490  float64\n",
      " 447  pixel491  float64\n",
      " 448  pixel492  float64\n",
      " 449  pixel493  float64\n",
      " 450  pixel494  float64\n",
      " 451  pixel495  float64\n",
      " 452  pixel496  float64\n",
      " 453  pixel497  float64\n",
      " 454  pixel498  float64\n",
      " 455  pixel499  float64\n",
      " 456  pixel500  float64\n",
      " 457  pixel501  float64\n",
      " 458  pixel502  float64\n",
      " 459  pixel503  float64\n",
      " 460  pixel504  float64\n",
      " 461  pixel505  float64\n",
      " 462  pixel506  float64\n",
      " 463  pixel507  float64\n",
      " 464  pixel508  float64\n",
      " 465  pixel509  float64\n",
      " 466  pixel510  float64\n",
      " 467  pixel511  float64\n",
      " 468  pixel512  float64\n",
      " 469  pixel513  float64\n",
      " 470  pixel514  float64\n",
      " 471  pixel515  float64\n",
      " 472  pixel516  float64\n",
      " 473  pixel517  float64\n",
      " 474  pixel518  float64\n",
      " 475  pixel519  float64\n",
      " 476  pixel520  float64\n",
      " 477  pixel521  float64\n",
      " 478  pixel522  float64\n",
      " 479  pixel523  float64\n",
      " 480  pixel524  float64\n",
      " 481  pixel525  float64\n",
      " 482  pixel526  float64\n",
      " 483  pixel527  float64\n",
      " 484  pixel528  float64\n",
      " 485  pixel529  float64\n",
      " 486  pixel530  float64\n",
      " 487  pixel531  float64\n",
      " 488  pixel532  float64\n",
      " 489  pixel533  float64\n",
      " 490  pixel534  float64\n",
      " 491  pixel535  float64\n",
      " 492  pixel536  float64\n",
      " 493  pixel537  float64\n",
      " 494  pixel538  float64\n",
      " 495  pixel539  float64\n",
      " 496  pixel540  float64\n",
      " 497  pixel541  float64\n",
      " 498  pixel542  float64\n",
      " 499  pixel543  float64\n",
      " 500  pixel544  float64\n",
      " 501  pixel545  float64\n",
      " 502  pixel546  float64\n",
      " 503  pixel547  float64\n",
      " 504  pixel548  float64\n",
      " 505  pixel549  float64\n",
      " 506  pixel550  float64\n",
      " 507  pixel551  float64\n",
      " 508  pixel552  float64\n",
      " 509  pixel553  float64\n",
      " 510  pixel554  float64\n",
      " 511  pixel555  float64\n",
      " 512  pixel556  float64\n",
      " 513  pixel557  float64\n",
      " 514  pixel558  float64\n",
      " 515  pixel559  float64\n",
      " 516  pixel560  float64\n",
      " 517  pixel562  float64\n",
      " 518  pixel563  float64\n",
      " 519  pixel564  float64\n",
      " 520  pixel565  float64\n",
      " 521  pixel566  float64\n",
      " 522  pixel567  float64\n",
      " 523  pixel568  float64\n",
      " 524  pixel569  float64\n",
      " 525  pixel570  float64\n",
      " 526  pixel571  float64\n",
      " 527  pixel572  float64\n",
      " 528  pixel573  float64\n",
      " 529  pixel574  float64\n",
      " 530  pixel575  float64\n",
      " 531  pixel576  float64\n",
      " 532  pixel577  float64\n",
      " 533  pixel578  float64\n",
      " 534  pixel579  float64\n",
      " 535  pixel580  float64\n",
      " 536  pixel581  float64\n",
      " 537  pixel582  float64\n",
      " 538  pixel583  float64\n",
      " 539  pixel584  float64\n",
      " 540  pixel585  float64\n",
      " 541  pixel586  float64\n",
      " 542  pixel587  float64\n",
      " 543  pixel588  float64\n",
      " 544  pixel589  float64\n",
      " 545  pixel590  float64\n",
      " 546  pixel591  float64\n",
      " 547  pixel592  float64\n",
      " 548  pixel593  float64\n",
      " 549  pixel594  float64\n",
      " 550  pixel595  float64\n",
      " 551  pixel596  float64\n",
      " 552  pixel597  float64\n",
      " 553  pixel598  float64\n",
      " 554  pixel599  float64\n",
      " 555  pixel600  float64\n",
      " 556  pixel601  float64\n",
      " 557  pixel602  float64\n",
      " 558  pixel603  float64\n",
      " 559  pixel604  float64\n",
      " 560  pixel605  float64\n",
      " 561  pixel606  float64\n",
      " 562  pixel607  float64\n",
      " 563  pixel608  float64\n",
      " 564  pixel609  float64\n",
      " 565  pixel610  float64\n",
      " 566  pixel611  float64\n",
      " 567  pixel612  float64\n",
      " 568  pixel613  float64\n",
      " 569  pixel614  float64\n",
      " 570  pixel615  float64\n",
      " 571  pixel616  float64\n",
      " 572  pixel617  float64\n",
      " 573  pixel618  float64\n",
      " 574  pixel619  float64\n",
      " 575  pixel620  float64\n",
      " 576  pixel621  float64\n",
      " 577  pixel622  float64\n",
      " 578  pixel623  float64\n",
      " 579  pixel624  float64\n",
      " 580  pixel625  float64\n",
      " 581  pixel626  float64\n",
      " 582  pixel627  float64\n",
      " 583  pixel628  float64\n",
      " 584  pixel629  float64\n",
      " 585  pixel630  float64\n",
      " 586  pixel631  float64\n",
      " 587  pixel632  float64\n",
      " 588  pixel633  float64\n",
      " 589  pixel634  float64\n",
      " 590  pixel635  float64\n",
      " 591  pixel636  float64\n",
      " 592  pixel637  float64\n",
      " 593  pixel638  float64\n",
      " 594  pixel639  float64\n",
      " 595  pixel640  float64\n",
      " 596  pixel641  float64\n",
      " 597  pixel642  float64\n",
      " 598  pixel643  float64\n",
      " 599  pixel644  float64\n",
      " 600  pixel646  float64\n",
      " 601  pixel647  float64\n",
      " 602  pixel648  float64\n",
      " 603  pixel649  float64\n",
      " 604  pixel650  float64\n",
      " 605  pixel651  float64\n",
      " 606  pixel652  float64\n",
      " 607  pixel653  float64\n",
      " 608  pixel654  float64\n",
      " 609  pixel655  float64\n",
      " 610  pixel656  float64\n",
      " 611  pixel657  float64\n",
      " 612  pixel658  float64\n",
      " 613  pixel659  float64\n",
      " 614  pixel660  float64\n",
      " 615  pixel661  float64\n",
      " 616  pixel662  float64\n",
      " 617  pixel663  float64\n",
      " 618  pixel664  float64\n",
      " 619  pixel665  float64\n",
      " 620  pixel666  float64\n",
      " 621  pixel667  float64\n",
      " 622  pixel668  float64\n",
      " 623  pixel669  float64\n",
      " 624  pixel670  float64\n",
      " 625  pixel671  float64\n",
      " 626  pixel675  float64\n",
      " 627  pixel676  float64\n",
      " 628  pixel677  float64\n",
      " 629  pixel678  float64\n",
      " 630  pixel679  float64\n",
      " 631  pixel680  float64\n",
      " 632  pixel681  float64\n",
      " 633  pixel682  float64\n",
      " 634  pixel683  float64\n",
      " 635  pixel684  float64\n",
      " 636  pixel685  float64\n",
      " 637  pixel686  float64\n",
      " 638  pixel687  float64\n",
      " 639  pixel688  float64\n",
      " 640  pixel689  float64\n",
      " 641  pixel690  float64\n",
      " 642  pixel691  float64\n",
      " 643  pixel692  float64\n",
      " 644  pixel693  float64\n",
      " 645  pixel694  float64\n",
      " 646  pixel695  float64\n",
      " 647  pixel696  float64\n",
      " 648  pixel697  float64\n",
      " 649  pixel698  float64\n",
      " 650  pixel699  float64\n",
      " 651  pixel703  float64\n",
      " 652  pixel704  float64\n",
      " 653  pixel705  float64\n",
      " 654  pixel706  float64\n",
      " 655  pixel707  float64\n",
      " 656  pixel708  float64\n",
      " 657  pixel709  float64\n",
      " 658  pixel710  float64\n",
      " 659  pixel711  float64\n",
      " 660  pixel712  float64\n",
      " 661  pixel713  float64\n",
      " 662  pixel714  float64\n",
      " 663  pixel715  float64\n",
      " 664  pixel716  float64\n",
      " 665  pixel717  float64\n",
      " 666  pixel718  float64\n",
      " 667  pixel719  float64\n",
      " 668  pixel720  float64\n",
      " 669  pixel721  float64\n",
      " 670  pixel722  float64\n",
      " 671  pixel723  float64\n",
      " 672  pixel724  float64\n",
      " 673  pixel725  float64\n",
      " 674  pixel726  float64\n",
      " 675  pixel727  float64\n",
      " 676  pixel732  float64\n",
      " 677  pixel733  float64\n",
      " 678  pixel734  float64\n",
      " 679  pixel735  float64\n",
      " 680  pixel736  float64\n",
      " 681  pixel737  float64\n",
      " 682  pixel738  float64\n",
      " 683  pixel739  float64\n",
      " 684  pixel740  float64\n",
      " 685  pixel741  float64\n",
      " 686  pixel742  float64\n",
      " 687  pixel743  float64\n",
      " 688  pixel744  float64\n",
      " 689  pixel745  float64\n",
      " 690  pixel746  float64\n",
      " 691  pixel747  float64\n",
      " 692  pixel748  float64\n",
      " 693  pixel749  float64\n",
      " 694  pixel750  float64\n",
      " 695  pixel751  float64\n",
      " 696  pixel752  float64\n",
      " 697  pixel753  float64\n",
      " 698  pixel754  float64\n",
      " 699  pixel761  float64\n",
      " 700  pixel762  float64\n",
      " 701  pixel763  float64\n",
      " 702  pixel764  float64\n",
      " 703  pixel765  float64\n",
      " 704  pixel766  float64\n",
      " 705  pixel767  float64\n",
      " 706  pixel768  float64\n",
      " 707  pixel769  float64\n",
      " 708  pixel770  float64\n",
      " 709  pixel771  float64\n",
      " 710  pixel772  float64\n",
      " 711  pixel773  float64\n",
      " 712  pixel774  float64\n",
      " 713  pixel775  float64\n",
      " 714  pixel776  float64\n",
      " 715  pixel777  float64\n",
      " 716  pixel778  float64\n",
      " 717  pixel779  float64\n",
      " 718  pixel780  float64\n",
      "dtypes: float64(719)\n",
      "memory usage: 27.6 MB\n"
     ]
    }
   ],
   "source": [
    "x_data_small.info(verbose=True)"
   ],
   "metadata": {
    "collapsed": false,
    "pycharm": {
     "name": "#%%\n"
    }
   }
  },
  {
   "cell_type": "code",
   "execution_count": 9,
   "outputs": [
    {
     "data": {
      "text/plain": "(5000,)"
     },
     "execution_count": 9,
     "metadata": {},
     "output_type": "execute_result"
    }
   ],
   "source": [
    "y_data_small.shape"
   ],
   "metadata": {
    "collapsed": false,
    "pycharm": {
     "name": "#%%\n"
    }
   }
  },
  {
   "cell_type": "code",
   "execution_count": 10,
   "outputs": [
    {
     "data": {
      "text/plain": "39939    0\n5818     0\n4278     0\n21580    0\n39547    0\n        ..\n52559    9\n44643    9\n43043    9\n16834    9\n47235    9\nName: Number, Length: 5000, dtype: int64"
     },
     "execution_count": 10,
     "metadata": {},
     "output_type": "execute_result"
    }
   ],
   "source": [
    "y_data_small"
   ],
   "metadata": {
    "collapsed": false,
    "pycharm": {
     "name": "#%%\n"
    }
   }
  },
  {
   "cell_type": "markdown",
   "source": [
    "## SVM using Linear kernel\n",
    "Note that LinearSVC is another implementation of Support Vector Classification for the case of a linear kernel"
   ],
   "metadata": {
    "collapsed": false,
    "pycharm": {
     "name": "#%% md\n"
    }
   }
  },
  {
   "cell_type": "code",
   "execution_count": 11,
   "outputs": [
    {
     "name": "stdout",
     "output_type": "stream",
     "text": [
      "Fitting 10 folds for each of 8 candidates, totalling 80 fits\n"
     ]
    },
    {
     "name": "stderr",
     "output_type": "stream",
     "text": [
      "2022-12-27 04:16:42.650 | INFO     | src.utilities.model_selection:model_selector:26 - --- 671.8590168952942 seconds ---\n"
     ]
    }
   ],
   "source": [
    "# automatic parameters tuning\n",
    "svcclsf_lin=SVC(random_state=28)\n",
    "properties_lin={\n",
    "    \"C\": [0.01,0.05,0.1,0.5,1,10,100,1000], # soft to hard margin\n",
    "    \"kernel\": [\"linear\"]\n",
    "}\n",
    "\n",
    "tuned_svcclsf_lin = ms.model_selector(estimator=svcclsf_lin,properties=properties_lin,scoring=\"accuracy\",cv=10,verbose=5,jobs=4,\n",
    "                                       x_train=x_data_small,y_train=y_data_small)"
   ],
   "metadata": {
    "collapsed": false,
    "pycharm": {
     "name": "#%%\n"
    }
   }
  },
  {
   "cell_type": "code",
   "execution_count": 12,
   "outputs": [],
   "source": [
    "# save results\n",
    "ms.save_model(model=tuned_svcclsf_lin, model_name=\"svc_linear_tuning_results\")"
   ],
   "metadata": {
    "collapsed": false,
    "pycharm": {
     "name": "#%%\n"
    }
   }
  },
  {
   "cell_type": "code",
   "execution_count": 51,
   "outputs": [],
   "source": [
    "# to load previously saved results\n",
    "tuned_svcclsf_lin = ms.load_model(\"svc_linear_tuning_results\")"
   ],
   "metadata": {
    "collapsed": false,
    "pycharm": {
     "name": "#%%\n"
    }
   }
  },
  {
   "cell_type": "code",
   "execution_count": 13,
   "outputs": [
    {
     "name": "stderr",
     "output_type": "stream",
     "text": [
      "2022-12-27 04:16:42.856 | INFO     | __main__:<module>:1 - {'mean_fit_time': array([11.82199533,  8.68087153, 11.90555325, 12.18719769, 12.13478923,\n",
      "       11.81433802, 11.43357844, 11.52242527]), 'std_fit_time': array([0.56495356, 0.9350445 , 0.44438221, 0.38743029, 0.33056018,\n",
      "       0.29137036, 0.37221101, 0.30188902]), 'mean_score_time': array([2.26593993, 1.73268313, 2.20862529, 2.29308171, 2.17528174,\n",
      "       2.03685091, 2.10151501, 2.13136485]), 'std_score_time': array([0.31302549, 0.33800897, 0.10694836, 0.0686185 , 0.0694816 ,\n",
      "       0.10803565, 0.12655643, 0.10411209]), 'param_C': masked_array(data=[0.01, 0.05, 0.1, 0.5, 1, 10, 100, 1000],\n",
      "             mask=[False, False, False, False, False, False, False, False],\n",
      "       fill_value='?',\n",
      "            dtype=object), 'param_kernel': masked_array(data=['linear', 'linear', 'linear', 'linear', 'linear',\n",
      "                   'linear', 'linear', 'linear'],\n",
      "             mask=[False, False, False, False, False, False, False, False],\n",
      "       fill_value='?',\n",
      "            dtype=object), 'params': [{'C': 0.01, 'kernel': 'linear'}, {'C': 0.05, 'kernel': 'linear'}, {'C': 0.1, 'kernel': 'linear'}, {'C': 0.5, 'kernel': 'linear'}, {'C': 1, 'kernel': 'linear'}, {'C': 10, 'kernel': 'linear'}, {'C': 100, 'kernel': 'linear'}, {'C': 1000, 'kernel': 'linear'}], 'split0_test_score': array([0.91 , 0.914, 0.918, 0.89 , 0.886, 0.886, 0.886, 0.886]), 'split1_test_score': array([0.906, 0.934, 0.932, 0.922, 0.922, 0.922, 0.922, 0.922]), 'split2_test_score': array([0.908, 0.916, 0.906, 0.892, 0.892, 0.892, 0.892, 0.892]), 'split3_test_score': array([0.902, 0.906, 0.898, 0.892, 0.89 , 0.89 , 0.89 , 0.89 ]), 'split4_test_score': array([0.924, 0.93 , 0.932, 0.92 , 0.916, 0.916, 0.916, 0.916]), 'split5_test_score': array([0.912, 0.924, 0.914, 0.912, 0.916, 0.916, 0.916, 0.916]), 'split6_test_score': array([0.926, 0.922, 0.918, 0.914, 0.908, 0.908, 0.908, 0.908]), 'split7_test_score': array([0.918, 0.928, 0.918, 0.908, 0.912, 0.912, 0.912, 0.912]), 'split8_test_score': array([0.924, 0.932, 0.936, 0.92 , 0.916, 0.916, 0.916, 0.916]), 'split9_test_score': array([0.91 , 0.908, 0.91 , 0.904, 0.904, 0.904, 0.904, 0.904]), 'mean_test_score': array([0.914 , 0.9214, 0.9182, 0.9074, 0.9062, 0.9062, 0.9062, 0.9062]), 'std_test_score': array([0.008     , 0.00946784, 0.01157411, 0.01176605, 0.01204824,\n",
      "       0.01204824, 0.01204824, 0.01204824]), 'rank_test_score': array([3, 1, 2, 4, 5, 5, 5, 5], dtype=int32), 'split0_train_score': array([0.93533333, 0.96733333, 0.98022222, 0.99866667, 1.        ,\n",
      "       1.        , 1.        , 1.        ]), 'split1_train_score': array([0.93555556, 0.96466667, 0.97777778, 0.99888889, 1.        ,\n",
      "       1.        , 1.        , 1.        ]), 'split2_train_score': array([0.93333333, 0.96688889, 0.98066667, 0.99888889, 1.        ,\n",
      "       1.        , 1.        , 1.        ]), 'split3_train_score': array([0.93866667, 0.96688889, 0.982     , 0.99844444, 1.        ,\n",
      "       1.        , 1.        , 1.        ]), 'split4_train_score': array([0.93488889, 0.96577778, 0.98      , 0.99911111, 1.        ,\n",
      "       1.        , 1.        , 1.        ]), 'split5_train_score': array([0.93533333, 0.96711111, 0.98044444, 0.99888889, 1.        ,\n",
      "       1.        , 1.        , 1.        ]), 'split6_train_score': array([0.93488889, 0.966     , 0.98155556, 0.99911111, 1.        ,\n",
      "       1.        , 1.        , 1.        ]), 'split7_train_score': array([0.93444444, 0.96577778, 0.98044444, 0.99844444, 1.        ,\n",
      "       1.        , 1.        , 1.        ]), 'split8_train_score': array([0.93644444, 0.96555556, 0.97933333, 0.99866667, 1.        ,\n",
      "       1.        , 1.        , 1.        ]), 'split9_train_score': array([0.93488889, 0.96444444, 0.97866667, 0.99888889, 1.        ,\n",
      "       1.        , 1.        , 1.        ]), 'mean_train_score': array([0.93537778, 0.96604444, 0.98011111, 0.9988    , 1.        ,\n",
      "       1.        , 1.        , 1.        ]), 'std_train_score': array([0.00133259, 0.00095219, 0.00119773, 0.00022662, 0.        ,\n",
      "       0.        , 0.        , 0.        ])}\n"
     ]
    }
   ],
   "source": [
    "logger.info(tuned_svcclsf_lin.cv_results_)\n",
    "tuned_svcclsf_lin_results = pd.DataFrame( tuned_svcclsf_lin.cv_results_ )"
   ],
   "metadata": {
    "collapsed": false,
    "pycharm": {
     "name": "#%%\n"
    }
   }
  },
  {
   "cell_type": "code",
   "execution_count": 53,
   "outputs": [
    {
     "data": {
      "text/plain": "                            params  mean_test_score  mean_train_score\n0  {'C': 0.01, 'kernel': 'linear'}           0.9140          0.935378\n1  {'C': 0.05, 'kernel': 'linear'}           0.9214          0.966044\n2   {'C': 0.1, 'kernel': 'linear'}           0.9182          0.980111\n3   {'C': 0.5, 'kernel': 'linear'}           0.9074          0.998800\n4     {'C': 1, 'kernel': 'linear'}           0.9062          1.000000\n5    {'C': 10, 'kernel': 'linear'}           0.9062          1.000000\n6   {'C': 100, 'kernel': 'linear'}           0.9062          1.000000\n7  {'C': 1000, 'kernel': 'linear'}           0.9062          1.000000",
      "text/html": "<div>\n<style scoped>\n    .dataframe tbody tr th:only-of-type {\n        vertical-align: middle;\n    }\n\n    .dataframe tbody tr th {\n        vertical-align: top;\n    }\n\n    .dataframe thead th {\n        text-align: right;\n    }\n</style>\n<table border=\"1\" class=\"dataframe\">\n  <thead>\n    <tr style=\"text-align: right;\">\n      <th></th>\n      <th>params</th>\n      <th>mean_test_score</th>\n      <th>mean_train_score</th>\n    </tr>\n  </thead>\n  <tbody>\n    <tr>\n      <th>0</th>\n      <td>{'C': 0.01, 'kernel': 'linear'}</td>\n      <td>0.9140</td>\n      <td>0.935378</td>\n    </tr>\n    <tr>\n      <th>1</th>\n      <td>{'C': 0.05, 'kernel': 'linear'}</td>\n      <td>0.9214</td>\n      <td>0.966044</td>\n    </tr>\n    <tr>\n      <th>2</th>\n      <td>{'C': 0.1, 'kernel': 'linear'}</td>\n      <td>0.9182</td>\n      <td>0.980111</td>\n    </tr>\n    <tr>\n      <th>3</th>\n      <td>{'C': 0.5, 'kernel': 'linear'}</td>\n      <td>0.9074</td>\n      <td>0.998800</td>\n    </tr>\n    <tr>\n      <th>4</th>\n      <td>{'C': 1, 'kernel': 'linear'}</td>\n      <td>0.9062</td>\n      <td>1.000000</td>\n    </tr>\n    <tr>\n      <th>5</th>\n      <td>{'C': 10, 'kernel': 'linear'}</td>\n      <td>0.9062</td>\n      <td>1.000000</td>\n    </tr>\n    <tr>\n      <th>6</th>\n      <td>{'C': 100, 'kernel': 'linear'}</td>\n      <td>0.9062</td>\n      <td>1.000000</td>\n    </tr>\n    <tr>\n      <th>7</th>\n      <td>{'C': 1000, 'kernel': 'linear'}</td>\n      <td>0.9062</td>\n      <td>1.000000</td>\n    </tr>\n  </tbody>\n</table>\n</div>"
     },
     "execution_count": 53,
     "metadata": {},
     "output_type": "execute_result"
    }
   ],
   "source": [
    "tuned_svcclsf_lin_results[[\"params\",\"mean_test_score\",\"mean_train_score\"]]"
   ],
   "metadata": {
    "collapsed": false,
    "pycharm": {
     "name": "#%%\n"
    }
   }
  },
  {
   "cell_type": "code",
   "execution_count": 15,
   "outputs": [
    {
     "data": {
      "text/plain": "<AxesSubplot:xlabel='param_C', ylabel='mean_test_score'>"
     },
     "execution_count": 15,
     "metadata": {},
     "output_type": "execute_result"
    },
    {
     "data": {
      "text/plain": "<Figure size 864x576 with 1 Axes>",
      "image/png": "[encoded data removed]"
     },
     "metadata": {},
     "output_type": "display_data"
    }
   ],
   "source": [
    "sns.set(rc={\"figure.figsize\":(12, 8)})\n",
    "sns.lineplot(data=tuned_svcclsf_lin_results, x=\"param_C\", y=\"mean_test_score\")"
   ],
   "metadata": {
    "collapsed": false,
    "pycharm": {
     "name": "#%%\n"
    }
   }
  },
  {
   "cell_type": "code",
   "execution_count": 52,
   "outputs": [
    {
     "name": "stdout",
     "output_type": "stream",
     "text": [
      "SVC(C=0.05, kernel='linear', random_state=28)\n",
      "0.9214\n"
     ]
    }
   ],
   "source": [
    "print(tuned_svcclsf_lin.best_estimator_)\n",
    "print(tuned_svcclsf_lin.best_score_)"
   ],
   "metadata": {
    "collapsed": false,
    "pycharm": {
     "name": "#%%\n"
    }
   }
  },
  {
   "cell_type": "code",
   "execution_count": 17,
   "outputs": [
    {
     "name": "stdout",
     "output_type": "stream",
     "text": [
      "Train Accuracy Score on original dataset: 0.9260666666666667\n"
     ]
    }
   ],
   "source": [
    "test_acc = accuracy_score(y_true = data_split.y_train,\n",
    "                    y_pred = tuned_svcclsf_lin.predict(data_split.x_train))\n",
    "print(\"Train Accuracy Score on original dataset: {}\".format(test_acc) )"
   ],
   "metadata": {
    "collapsed": false,
    "pycharm": {
     "name": "#%%\n"
    }
   }
  },
  {
   "cell_type": "code",
   "execution_count": 18,
   "outputs": [
    {
     "name": "stdout",
     "output_type": "stream",
     "text": [
      "[CV 2/10] END C=0.01, kernel=linear;, score=(train=0.936, test=0.906) total time=  14.1s\n",
      "[CV 8/10] END C=0.01, kernel=linear;, score=(train=0.934, test=0.918) total time=  14.5s\n",
      "[CV 2/10] END C=0.05, kernel=linear;, score=(train=0.965, test=0.934) total time=  10.1s\n",
      "[CV 3/10] END C=0.05, kernel=linear;, score=(train=0.967, test=0.916) total time=  12.0s\n",
      "[CV 8/10] END C=0.05, kernel=linear;, score=(train=0.966, test=0.928) total time=   9.2s\n",
      "[CV 2/10] END C=0.1, kernel=linear;, score=(train=0.978, test=0.932) total time=  14.0s\n",
      "[CV 6/10] END C=0.1, kernel=linear;, score=(train=0.980, test=0.914) total time=  14.3s\n",
      "[CV 9/10] END C=0.1, kernel=linear;, score=(train=0.979, test=0.936) total time=  14.5s\n",
      "[CV 3/10] END C=0.5, kernel=linear;, score=(train=0.999, test=0.892) total time=  15.3s\n",
      "[CV 8/10] END C=0.5, kernel=linear;, score=(train=0.998, test=0.908) total time=  14.2s\n",
      "[CV 2/10] END C=1, kernel=linear;, score=(train=1.000, test=0.922) total time=  14.3s\n",
      "[CV 6/10] END C=1, kernel=linear;, score=(train=1.000, test=0.916) total time=  13.9s\n",
      "[CV 9/10] END C=1, kernel=linear;, score=(train=1.000, test=0.916) total time=  13.7s\n",
      "[CV 3/10] END C=10, kernel=linear;, score=(train=1.000, test=0.892) total time=  13.9s\n",
      "[CV 7/10] END C=10, kernel=linear;, score=(train=1.000, test=0.908) total time=  13.5s\n",
      "[CV 1/10] END C=100, kernel=linear;, score=(train=1.000, test=0.886) total time=  13.5s\n",
      "[CV 5/10] END C=100, kernel=linear;, score=(train=1.000, test=0.916) total time=  13.4s\n",
      "[CV 9/10] END C=100, kernel=linear;, score=(train=1.000, test=0.916) total time=  13.1s\n",
      "[CV 3/10] END C=1000, kernel=linear;, score=(train=1.000, test=0.892) total time=  13.4s\n",
      "[CV 7/10] END C=1000, kernel=linear;, score=(train=1.000, test=0.908) total time=  13.6s\n",
      "[CV 3/10] END C=0.01, kernel=linear;, score=(train=0.933, test=0.908) total time=  14.1s\n",
      "[CV 7/10] END C=0.01, kernel=linear;, score=(train=0.935, test=0.926) total time=  14.8s\n",
      "[CV 1/10] END C=0.05, kernel=linear;, score=(train=0.967, test=0.914) total time=  10.1s\n",
      "[CV 4/10] END C=0.05, kernel=linear;, score=(train=0.967, test=0.906) total time=  12.0s\n",
      "[CV 7/10] END C=0.05, kernel=linear;, score=(train=0.966, test=0.922) total time=   9.2s\n",
      "[CV 1/10] END C=0.1, kernel=linear;, score=(train=0.980, test=0.918) total time=  14.1s\n",
      "[CV 5/10] END C=0.1, kernel=linear;, score=(train=0.980, test=0.932) total time=  14.7s\n",
      "[CV 10/10] END C=0.1, kernel=linear;, score=(train=0.979, test=0.910) total time=  14.2s\n",
      "[CV 4/10] END C=0.5, kernel=linear;, score=(train=0.998, test=0.892) total time=  14.8s\n",
      "[CV 7/10] END C=0.5, kernel=linear;, score=(train=0.999, test=0.914) total time=  14.0s\n",
      "[CV 1/10] END C=1, kernel=linear;, score=(train=1.000, test=0.886) total time=  14.6s\n",
      "[CV 5/10] END C=1, kernel=linear;, score=(train=1.000, test=0.916) total time=  14.5s\n",
      "[CV 10/10] END C=1, kernel=linear;, score=(train=1.000, test=0.904) total time=  14.0s\n",
      "[CV 4/10] END C=10, kernel=linear;, score=(train=1.000, test=0.890) total time=  13.8s\n",
      "[CV 8/10] END C=10, kernel=linear;, score=(train=1.000, test=0.912) total time=  13.4s\n",
      "[CV 2/10] END C=100, kernel=linear;, score=(train=1.000, test=0.922) total time=  13.5s\n",
      "[CV 6/10] END C=100, kernel=linear;, score=(train=1.000, test=0.916) total time=  13.9s\n",
      "[CV 10/10] END C=100, kernel=linear;, score=(train=1.000, test=0.904) total time=  12.7s\n",
      "[CV 4/10] END C=1000, kernel=linear;, score=(train=1.000, test=0.890) total time=  13.6s\n",
      "[CV 8/10] END C=1000, kernel=linear;, score=(train=1.000, test=0.912) total time=  13.9s\n",
      "[CV 1/10] END C=0.01, kernel=linear;, score=(train=0.935, test=0.910) total time=  14.1s\n",
      "[CV 5/10] END C=0.01, kernel=linear;, score=(train=0.935, test=0.924) total time=  14.8s\n",
      "[CV 10/10] END C=0.01, kernel=linear;, score=(train=0.935, test=0.910) total time=  12.9s\n",
      "[CV 6/10] END C=0.05, kernel=linear;, score=(train=0.967, test=0.924) total time=   9.7s\n",
      "[CV 10/10] END C=0.05, kernel=linear;, score=(train=0.964, test=0.908) total time=  10.8s\n",
      "[CV 4/10] END C=0.1, kernel=linear;, score=(train=0.982, test=0.898) total time=  13.2s\n",
      "[CV 7/10] END C=0.1, kernel=linear;, score=(train=0.982, test=0.918) total time=  14.1s\n",
      "[CV 1/10] END C=0.5, kernel=linear;, score=(train=0.999, test=0.890) total time=  14.5s\n",
      "[CV 6/10] END C=0.5, kernel=linear;, score=(train=0.999, test=0.912) total time=  14.4s\n",
      "[CV 9/10] END C=0.5, kernel=linear;, score=(train=0.999, test=0.920) total time=  14.3s\n",
      "[CV 3/10] END C=1, kernel=linear;, score=(train=1.000, test=0.892) total time=  14.8s\n",
      "[CV 8/10] END C=1, kernel=linear;, score=(train=1.000, test=0.912) total time=  14.6s\n",
      "[CV 2/10] END C=10, kernel=linear;, score=(train=1.000, test=0.922) total time=  14.2s\n",
      "[CV 6/10] END C=10, kernel=linear;, score=(train=1.000, test=0.916) total time=  13.7s\n",
      "[CV 10/10] END C=10, kernel=linear;, score=(train=1.000, test=0.904) total time=  13.7s\n",
      "[CV 4/10] END C=100, kernel=linear;, score=(train=1.000, test=0.890) total time=  13.7s\n",
      "[CV 8/10] END C=100, kernel=linear;, score=(train=1.000, test=0.912) total time=  13.7s\n",
      "[CV 1/10] END C=1000, kernel=linear;, score=(train=1.000, test=0.886) total time=  13.0s\n",
      "[CV 5/10] END C=1000, kernel=linear;, score=(train=1.000, test=0.916) total time=  13.9s\n",
      "[CV 9/10] END C=1000, kernel=linear;, score=(train=1.000, test=0.916) total time=  14.1s\n",
      "[CV 4/10] END C=0.01, kernel=linear;, score=(train=0.939, test=0.902) total time=  13.9s\n",
      "[CV 6/10] END C=0.01, kernel=linear;, score=(train=0.935, test=0.912) total time=  14.7s\n",
      "[CV 9/10] END C=0.01, kernel=linear;, score=(train=0.936, test=0.924) total time=  12.9s\n",
      "[CV 5/10] END C=0.05, kernel=linear;, score=(train=0.966, test=0.930) total time=  10.1s\n",
      "[CV 9/10] END C=0.05, kernel=linear;, score=(train=0.966, test=0.932) total time=  10.9s\n",
      "[CV 3/10] END C=0.1, kernel=linear;, score=(train=0.981, test=0.906) total time=  13.8s\n",
      "[CV 8/10] END C=0.1, kernel=linear;, score=(train=0.980, test=0.918) total time=  14.3s\n",
      "[CV 2/10] END C=0.5, kernel=linear;, score=(train=0.999, test=0.922) total time=  13.9s\n",
      "[CV 5/10] END C=0.5, kernel=linear;, score=(train=0.999, test=0.920) total time=  14.7s\n",
      "[CV 10/10] END C=0.5, kernel=linear;, score=(train=0.999, test=0.904) total time=  14.6s\n",
      "[CV 4/10] END C=1, kernel=linear;, score=(train=1.000, test=0.890) total time=  14.4s\n",
      "[CV 7/10] END C=1, kernel=linear;, score=(train=1.000, test=0.908) total time=  14.2s\n",
      "[CV 1/10] END C=10, kernel=linear;, score=(train=1.000, test=0.886) total time=  14.1s\n",
      "[CV 5/10] END C=10, kernel=linear;, score=(train=1.000, test=0.916) total time=  14.0s\n",
      "[CV 9/10] END C=10, kernel=linear;, score=(train=1.000, test=0.916) total time=  14.0s\n",
      "[CV 3/10] END C=100, kernel=linear;, score=(train=1.000, test=0.892) total time=  13.8s\n",
      "[CV 7/10] END C=100, kernel=linear;, score=(train=1.000, test=0.908) total time=  14.0s\n",
      "[CV 2/10] END C=1000, kernel=linear;, score=(train=1.000, test=0.922) total time=  13.2s\n",
      "[CV 6/10] END C=1000, kernel=linear;, score=(train=1.000, test=0.916) total time=  13.6s\n",
      "[CV 10/10] END C=1000, kernel=linear;, score=(train=1.000, test=0.904) total time=  14.1s\n"
     ]
    },
    {
     "data": {
      "text/plain": "SVC(C=0.05, kernel='linear')"
     },
     "execution_count": 18,
     "metadata": {},
     "output_type": "execute_result"
    }
   ],
   "source": [
    "# best parameters from automatic parameters tuning\n",
    "start_time = time.time()\n",
    "svc_lin_clsf = SVC(**tuned_svcclsf_lin.best_params_)\n",
    "svc_lin_clsf.fit(data_split.x_train, data_split.y_train)\n",
    "logger.info(\"Training: - %s seconds -\" % (time.time() - start_time))"
   ],
   "metadata": {
    "collapsed": false,
    "pycharm": {
     "name": "#%%\n"
    }
   }
  },
  {
   "cell_type": "markdown",
   "source": [
    "# Performance"
   ],
   "metadata": {
    "collapsed": false,
    "pycharm": {
     "name": "#%% md\n"
    }
   }
  },
  {
   "cell_type": "code",
   "execution_count": 19,
   "outputs": [],
   "source": [
    "svc_lin_train_pred = svc_lin_clsf.predict(data_split.x_train)\n",
    "svc_lin_train_eval = eva.Evaluation(y_true=data_split.y_train, y_pred=svc_lin_train_pred)"
   ],
   "metadata": {
    "collapsed": false,
    "pycharm": {
     "name": "#%%\n"
    }
   }
  },
  {
   "cell_type": "code",
   "execution_count": null,
   "outputs": [],
   "source": [
    "start_time = time.time()\n",
    "svc_lin_test_pred = svc_lin_clsf.predict(data_split.x_test)\n",
    "logger.info(\"Prediction: - %s seconds -\" % (time.time() - start_time))\n",
    "svc_lin_test_eval = eva.Evaluation(y_true=data_split.y_test, y_pred=svc_lin_test_pred)"
   ],
   "metadata": {
    "collapsed": false,
    "pycharm": {
     "name": "#%%\n"
    }
   }
  },
  {
   "cell_type": "code",
   "execution_count": 20,
   "outputs": [
    {
     "name": "stdout",
     "output_type": "stream",
     "text": [
      "Training:\n",
      "-----Model Evaluations:-----\n",
      "Accuracy score: 0.9557166666666667\n",
      "Testing:\n",
      "-----Model Evaluations:-----\n",
      "Accuracy score: 0.9407\n"
     ]
    }
   ],
   "source": [
    "print(\"Training:\")\n",
    "svc_lin_train_eval.acc_eval()\n",
    "print(\"Testing:\")\n",
    "svc_lin_test_eval.acc_eval()"
   ],
   "metadata": {
    "collapsed": false,
    "pycharm": {
     "name": "#%%\n"
    }
   }
  },
  {
   "cell_type": "code",
   "execution_count": 21,
   "outputs": [],
   "source": [
    "# save the model and evaluations\n",
    "svc_lin_model = eva.EvaluatedModel(svc_lin_clsf, \"svclinear\", train_eval=svc_lin_train_eval, test_eval=svc_lin_test_eval)\n",
    "svc_lin_model.save_evaluation()"
   ],
   "metadata": {
    "collapsed": false,
    "pycharm": {
     "name": "#%%\n"
    }
   }
  },
  {
   "cell_type": "code",
   "execution_count": 27,
   "outputs": [],
   "source": [
    "# load the previously saved model and evaluations\n",
    "# svc_lin_model = eva.EvaluatedModel.load_evaluation(\"svclinear\")"
   ],
   "metadata": {
    "collapsed": false,
    "pycharm": {
     "name": "#%%\n"
    }
   }
  },
  {
   "cell_type": "markdown",
   "source": [
    "### Confusion Matrix"
   ],
   "metadata": {
    "collapsed": false,
    "pycharm": {
     "name": "#%% md\n"
    }
   }
  },
  {
   "cell_type": "code",
   "execution_count": 22,
   "outputs": [
    {
     "data": {
      "text/plain": "<Figure size 864x576 with 2 Axes>",
      "image/png": "[encoded data removed]"
     },
     "metadata": {},
     "output_type": "display_data"
    }
   ],
   "source": [
    "svc_lin_model.train_eval.conf_mat()"
   ],
   "metadata": {
    "collapsed": false,
    "pycharm": {
     "name": "#%%\n"
    }
   }
  },
  {
   "cell_type": "code",
   "execution_count": 23,
   "outputs": [
    {
     "data": {
      "text/plain": "<Figure size 864x576 with 2 Axes>",
      "image/png": "[encoded data removed]"
     },
     "metadata": {},
     "output_type": "display_data"
    }
   ],
   "source": [
    "svc_lin_model.test_eval.conf_mat()"
   ],
   "metadata": {
    "collapsed": false,
    "pycharm": {
     "name": "#%%\n"
    }
   }
  },
  {
   "cell_type": "markdown",
   "source": [],
   "metadata": {
    "collapsed": false,
    "pycharm": {
     "name": "#%% md\n"
    }
   }
  },
  {
   "cell_type": "markdown",
   "source": [
    "## SVM using Polynomial of degree 2 kernel"
   ],
   "metadata": {
    "collapsed": false,
    "pycharm": {
     "name": "#%% md\n"
    }
   }
  },
  {
   "cell_type": "code",
   "execution_count": 24,
   "outputs": [
    {
     "name": "stdout",
     "output_type": "stream",
     "text": [
      "Fitting 10 folds for each of 24 candidates, totalling 240 fits\n"
     ]
    },
    {
     "name": "stderr",
     "output_type": "stream",
     "text": [
      "2022-12-27 05:07:24.648 | INFO     | src.utilities.model_selection:model_selector:26 - --- 1223.4280741214752 seconds ---\n"
     ]
    }
   ],
   "source": [
    "# automatic parameters tuning\n",
    "svcclsf_pol=SVC(random_state=28)\n",
    "properties_pol={\n",
    "    \"C\": [0.01,0.05,0.1,0.5,1,10,100,1000], # soft to hard margin\n",
    "    \"kernel\": [\"poly\"],\n",
    "    \"degree\": [2],\n",
    "    \"gamma\": [\"auto\",0.1,1]\n",
    "}\n",
    "\n",
    "tuned_svcclsf_pol = ms.model_selector(estimator=svcclsf_pol,properties=properties_pol,scoring=\"accuracy\",cv=10,verbose=5,jobs=4,\n",
    "                                       x_train=x_data_small,y_train=y_data_small)"
   ],
   "metadata": {
    "collapsed": false,
    "pycharm": {
     "name": "#%%\n"
    }
   }
  },
  {
   "cell_type": "code",
   "execution_count": 25,
   "outputs": [],
   "source": [
    "# # save results\n",
    "ms.save_model(model=tuned_svcclsf_pol, model_name=\"svc_polynomial_tuning_results\")"
   ],
   "metadata": {
    "collapsed": false,
    "pycharm": {
     "name": "#%%\n"
    }
   }
  },
  {
   "cell_type": "code",
   "execution_count": 26,
   "outputs": [],
   "source": [
    "# to load previously saved results\n",
    "tuned_svcclsf_pol = ms.load_model(\"svc_polynomial_tuning_results\")"
   ],
   "metadata": {
    "collapsed": false,
    "pycharm": {
     "name": "#%%\n"
    }
   }
  },
  {
   "cell_type": "code",
   "execution_count": 27,
   "outputs": [
    {
     "name": "stderr",
     "output_type": "stream",
     "text": [
      "2022-12-27 05:07:24.801 | INFO     | __main__:<module>:1 - {'mean_fit_time': array([49.04833984, 10.5066994 ,  7.8626107 , 44.2571677 ,  6.62637334,\n",
      "        5.74379909, 30.77329595,  3.7376955 ,  3.61435018, 19.60069354,\n",
      "        3.05660152,  2.95731485, 15.94592769,  3.04264102,  3.01380506,\n",
      "        7.22396894,  2.96385846,  2.95061166,  3.59501448,  2.96150031,\n",
      "        3.0498256 ,  3.0561584 ,  2.97313254,  2.95912497]), 'std_fit_time': array([0.73561249, 0.20860876, 0.22572661, 3.73292049, 0.45102757,\n",
      "       0.15398948, 4.03934199, 0.32584582, 0.18429509, 1.26436944,\n",
      "       0.13138504, 0.06705536, 0.1731397 , 0.1735914 , 0.13242508,\n",
      "       0.18839318, 0.04930323, 0.05232726, 0.18877276, 0.03249949,\n",
      "       0.14695848, 0.15589749, 0.1015193 , 0.05352347]), 'mean_score_time': array([3.48145664, 1.51942616, 1.23083274, 3.24958413, 1.01898768,\n",
      "       0.91433275, 2.10200627, 0.63124623, 0.58098512, 1.54709213,\n",
      "       0.47709203, 0.46524794, 1.64613497, 0.46243844, 0.45039084,\n",
      "       0.89239402, 0.46168063, 0.47480597, 0.51517479, 0.47128892,\n",
      "       0.48638678, 0.46316762, 0.45940065, 0.45232193]), 'std_score_time': array([0.13500475, 0.07466273, 0.0459738 , 0.22933274, 0.06947185,\n",
      "       0.05243498, 0.29468277, 0.10016183, 0.02194166, 0.28557232,\n",
      "       0.03591198, 0.0130186 , 0.12428958, 0.01516558, 0.00668582,\n",
      "       0.07936545, 0.00884227, 0.04340142, 0.01374107, 0.02239835,\n",
      "       0.03460347, 0.00864596, 0.0117104 , 0.00535309]), 'param_C': masked_array(data=[0.01, 0.01, 0.01, 0.05, 0.05, 0.05, 0.1, 0.1, 0.1, 0.5,\n",
      "                   0.5, 0.5, 1, 1, 1, 10, 10, 10, 100, 100, 100, 1000,\n",
      "                   1000, 1000],\n",
      "             mask=[False, False, False, False, False, False, False, False,\n",
      "                   False, False, False, False, False, False, False, False,\n",
      "                   False, False, False, False, False, False, False, False],\n",
      "       fill_value='?',\n",
      "            dtype=object), 'param_degree': masked_array(data=[2, 2, 2, 2, 2, 2, 2, 2, 2, 2, 2, 2, 2, 2, 2, 2, 2, 2,\n",
      "                   2, 2, 2, 2, 2, 2],\n",
      "             mask=[False, False, False, False, False, False, False, False,\n",
      "                   False, False, False, False, False, False, False, False,\n",
      "                   False, False, False, False, False, False, False, False],\n",
      "       fill_value='?',\n",
      "            dtype=object), 'param_gamma': masked_array(data=['auto', 0.1, 1, 'auto', 0.1, 1, 'auto', 0.1, 1, 'auto',\n",
      "                   0.1, 1, 'auto', 0.1, 1, 'auto', 0.1, 1, 'auto', 0.1, 1,\n",
      "                   'auto', 0.1, 1],\n",
      "             mask=[False, False, False, False, False, False, False, False,\n",
      "                   False, False, False, False, False, False, False, False,\n",
      "                   False, False, False, False, False, False, False, False],\n",
      "       fill_value='?',\n",
      "            dtype=object), 'param_kernel': masked_array(data=['poly', 'poly', 'poly', 'poly', 'poly', 'poly', 'poly',\n",
      "                   'poly', 'poly', 'poly', 'poly', 'poly', 'poly', 'poly',\n",
      "                   'poly', 'poly', 'poly', 'poly', 'poly', 'poly', 'poly',\n",
      "                   'poly', 'poly', 'poly'],\n",
      "             mask=[False, False, False, False, False, False, False, False,\n",
      "                   False, False, False, False, False, False, False, False,\n",
      "                   False, False, False, False, False, False, False, False],\n",
      "       fill_value='?',\n",
      "            dtype=object), 'params': [{'C': 0.01, 'degree': 2, 'gamma': 'auto', 'kernel': 'poly'}, {'C': 0.01, 'degree': 2, 'gamma': 0.1, 'kernel': 'poly'}, {'C': 0.01, 'degree': 2, 'gamma': 1, 'kernel': 'poly'}, {'C': 0.05, 'degree': 2, 'gamma': 'auto', 'kernel': 'poly'}, {'C': 0.05, 'degree': 2, 'gamma': 0.1, 'kernel': 'poly'}, {'C': 0.05, 'degree': 2, 'gamma': 1, 'kernel': 'poly'}, {'C': 0.1, 'degree': 2, 'gamma': 'auto', 'kernel': 'poly'}, {'C': 0.1, 'degree': 2, 'gamma': 0.1, 'kernel': 'poly'}, {'C': 0.1, 'degree': 2, 'gamma': 1, 'kernel': 'poly'}, {'C': 0.5, 'degree': 2, 'gamma': 'auto', 'kernel': 'poly'}, {'C': 0.5, 'degree': 2, 'gamma': 0.1, 'kernel': 'poly'}, {'C': 0.5, 'degree': 2, 'gamma': 1, 'kernel': 'poly'}, {'C': 1, 'degree': 2, 'gamma': 'auto', 'kernel': 'poly'}, {'C': 1, 'degree': 2, 'gamma': 0.1, 'kernel': 'poly'}, {'C': 1, 'degree': 2, 'gamma': 1, 'kernel': 'poly'}, {'C': 10, 'degree': 2, 'gamma': 'auto', 'kernel': 'poly'}, {'C': 10, 'degree': 2, 'gamma': 0.1, 'kernel': 'poly'}, {'C': 10, 'degree': 2, 'gamma': 1, 'kernel': 'poly'}, {'C': 100, 'degree': 2, 'gamma': 'auto', 'kernel': 'poly'}, {'C': 100, 'degree': 2, 'gamma': 0.1, 'kernel': 'poly'}, {'C': 100, 'degree': 2, 'gamma': 1, 'kernel': 'poly'}, {'C': 1000, 'degree': 2, 'gamma': 'auto', 'kernel': 'poly'}, {'C': 1000, 'degree': 2, 'gamma': 0.1, 'kernel': 'poly'}, {'C': 1000, 'degree': 2, 'gamma': 1, 'kernel': 'poly'}], 'split0_test_score': array([0.368, 0.934, 0.944, 0.368, 0.938, 0.944, 0.368, 0.944, 0.944,\n",
      "       0.524, 0.944, 0.944, 0.726, 0.944, 0.944, 0.9  , 0.944, 0.944,\n",
      "       0.946, 0.944, 0.944, 0.944, 0.944, 0.944]), 'split1_test_score': array([0.388, 0.926, 0.948, 0.388, 0.94 , 0.948, 0.388, 0.944, 0.948,\n",
      "       0.534, 0.948, 0.948, 0.712, 0.948, 0.948, 0.878, 0.948, 0.948,\n",
      "       0.932, 0.948, 0.948, 0.948, 0.948, 0.948]), 'split2_test_score': array([0.388, 0.94 , 0.936, 0.388, 0.942, 0.936, 0.388, 0.942, 0.936,\n",
      "       0.526, 0.936, 0.936, 0.706, 0.936, 0.936, 0.906, 0.936, 0.936,\n",
      "       0.942, 0.936, 0.936, 0.94 , 0.936, 0.936]), 'split3_test_score': array([0.37 , 0.916, 0.944, 0.37 , 0.94 , 0.944, 0.37 , 0.944, 0.944,\n",
      "       0.502, 0.944, 0.944, 0.7  , 0.944, 0.944, 0.888, 0.944, 0.944,\n",
      "       0.93 , 0.944, 0.944, 0.942, 0.944, 0.944]), 'split4_test_score': array([0.388, 0.938, 0.95 , 0.388, 0.948, 0.95 , 0.388, 0.95 , 0.95 ,\n",
      "       0.506, 0.95 , 0.95 , 0.716, 0.95 , 0.95 , 0.898, 0.95 , 0.95 ,\n",
      "       0.944, 0.95 , 0.95 , 0.948, 0.95 , 0.95 ]), 'split5_test_score': array([0.382, 0.934, 0.944, 0.382, 0.95 , 0.944, 0.382, 0.946, 0.944,\n",
      "       0.51 , 0.944, 0.944, 0.706, 0.944, 0.944, 0.89 , 0.944, 0.944,\n",
      "       0.944, 0.944, 0.944, 0.944, 0.944, 0.944]), 'split6_test_score': array([0.404, 0.938, 0.946, 0.404, 0.946, 0.946, 0.404, 0.946, 0.946,\n",
      "       0.526, 0.946, 0.946, 0.696, 0.946, 0.946, 0.902, 0.946, 0.946,\n",
      "       0.944, 0.946, 0.946, 0.946, 0.946, 0.946]), 'split7_test_score': array([0.382, 0.926, 0.956, 0.382, 0.942, 0.956, 0.382, 0.952, 0.956,\n",
      "       0.506, 0.956, 0.956, 0.722, 0.956, 0.956, 0.906, 0.956, 0.956,\n",
      "       0.934, 0.956, 0.956, 0.956, 0.956, 0.956]), 'split8_test_score': array([0.36 , 0.942, 0.954, 0.36 , 0.954, 0.954, 0.36 , 0.954, 0.954,\n",
      "       0.504, 0.954, 0.954, 0.708, 0.954, 0.954, 0.926, 0.954, 0.954,\n",
      "       0.952, 0.954, 0.954, 0.954, 0.954, 0.954]), 'split9_test_score': array([0.358, 0.928, 0.942, 0.358, 0.944, 0.942, 0.358, 0.942, 0.942,\n",
      "       0.512, 0.942, 0.942, 0.716, 0.942, 0.942, 0.894, 0.942, 0.942,\n",
      "       0.936, 0.942, 0.942, 0.942, 0.942, 0.942]), 'mean_test_score': array([0.3788, 0.9322, 0.9464, 0.3788, 0.9444, 0.9464, 0.3788, 0.9464,\n",
      "       0.9464, 0.515 , 0.9464, 0.9464, 0.7108, 0.9464, 0.9464, 0.8988,\n",
      "       0.9464, 0.9464, 0.9404, 0.9464, 0.9464, 0.9464, 0.9464, 0.9464]), 'std_test_score': array([0.01374627, 0.00766551, 0.00557136, 0.01374627, 0.0048    ,\n",
      "       0.00557136, 0.01374627, 0.00397995, 0.00557136, 0.01081665,\n",
      "       0.00557136, 0.00557136, 0.00895321, 0.00557136, 0.00557136,\n",
      "       0.01227029, 0.00557136, 0.00557136, 0.00668132, 0.00557136,\n",
      "       0.00557136, 0.00496387, 0.00557136, 0.00557136]), 'rank_test_score': array([22, 18,  1, 22, 16,  1, 22,  1,  1, 21,  1,  1, 20,  1,  1, 19,  1,\n",
      "        1, 17,  1,  1,  1,  1,  1], dtype=int32), 'split0_train_score': array([0.39155556, 0.96755556, 1.        , 0.39155556, 0.998     ,\n",
      "       1.        , 0.39155556, 1.        , 1.        , 0.52577778,\n",
      "       1.        , 1.        , 0.71866667, 1.        , 1.        ,\n",
      "       0.91533333, 1.        , 1.        , 0.98377778, 1.        ,\n",
      "       1.        , 1.        , 1.        , 1.        ]), 'split1_train_score': array([0.38666667, 0.96666667, 1.        , 0.38666667, 0.99733333,\n",
      "       1.        , 0.38666667, 1.        , 1.        , 0.51844444,\n",
      "       1.        , 1.        , 0.72066667, 1.        , 1.        ,\n",
      "       0.91777778, 1.        , 1.        , 0.98177778, 1.        ,\n",
      "       1.        , 1.        , 1.        , 1.        ]), 'split2_train_score': array([0.38644444, 0.96666667, 1.        , 0.38644444, 0.99777778,\n",
      "       1.        , 0.38644444, 1.        , 1.        , 0.52377778,\n",
      "       1.        , 1.        , 0.71955556, 1.        , 1.        ,\n",
      "       0.91333333, 1.        , 1.        , 0.98288889, 1.        ,\n",
      "       1.        , 1.        , 1.        , 1.        ]), 'split3_train_score': array([0.38933333, 0.96666667, 1.        , 0.38933333, 0.99733333,\n",
      "       1.        , 0.38933333, 1.        , 1.        , 0.52711111,\n",
      "       1.        , 1.        , 0.72111111, 1.        , 1.        ,\n",
      "       0.91711111, 1.        , 1.        , 0.98333333, 1.        ,\n",
      "       1.        , 1.        , 1.        , 1.        ]), 'split4_train_score': array([0.37155556, 0.968     , 1.        , 0.37155556, 0.99777778,\n",
      "       1.        , 0.37155556, 1.        , 1.        , 0.51555556,\n",
      "       1.        , 1.        , 0.71866667, 1.        , 1.        ,\n",
      "       0.91644444, 1.        , 1.        , 0.98222222, 1.        ,\n",
      "       1.        , 1.        , 1.        , 1.        ]), 'split5_train_score': array([0.38711111, 0.96688889, 1.        , 0.38711111, 0.99666667,\n",
      "       1.        , 0.38711111, 1.        , 1.        , 0.52666667,\n",
      "       1.        , 1.        , 0.72577778, 1.        , 1.        ,\n",
      "       0.91822222, 1.        , 1.        , 0.982     , 1.        ,\n",
      "       1.        , 1.        , 1.        , 1.        ]), 'split6_train_score': array([0.39622222, 0.96577778, 1.        , 0.39622222, 0.99733333,\n",
      "       1.        , 0.39622222, 1.        , 1.        , 0.52333333,\n",
      "       1.        , 1.        , 0.72533333, 1.        , 1.        ,\n",
      "       0.91555556, 1.        , 1.        , 0.98311111, 1.        ,\n",
      "       1.        , 1.        , 1.        , 1.        ]), 'split7_train_score': array([0.38444444, 0.96733333, 1.        , 0.38444444, 0.99711111,\n",
      "       1.        , 0.38444444, 1.        , 1.        , 0.52111111,\n",
      "       1.        , 1.        , 0.71444444, 1.        , 1.        ,\n",
      "       0.91444444, 1.        , 1.        , 0.98288889, 1.        ,\n",
      "       1.        , 1.        , 1.        , 1.        ]), 'split8_train_score': array([0.37644444, 0.96555556, 1.        , 0.37644444, 0.99733333,\n",
      "       1.        , 0.37644444, 1.        , 1.        , 0.51911111,\n",
      "       1.        , 1.        , 0.714     , 1.        , 1.        ,\n",
      "       0.91377778, 1.        , 1.        , 0.98288889, 1.        ,\n",
      "       1.        , 1.        , 1.        , 1.        ]), 'split9_train_score': array([0.38511111, 0.96666667, 1.        , 0.38511111, 0.99733333,\n",
      "       1.        , 0.38511111, 1.        , 1.        , 0.52155556,\n",
      "       1.        , 1.        , 0.72044444, 1.        , 1.        ,\n",
      "       0.91755556, 1.        , 1.        , 0.98133333, 1.        ,\n",
      "       1.        , 1.        , 1.        , 1.        ]), 'mean_train_score': array([0.38548889, 0.96677778, 1.        , 0.38548889, 0.9974    ,\n",
      "       1.        , 0.38548889, 1.        , 1.        , 0.52224444,\n",
      "       1.        , 1.        , 0.71986667, 1.        , 1.        ,\n",
      "       0.91595556, 1.        , 1.        , 0.98262222, 1.        ,\n",
      "       1.        , 1.        , 1.        , 1.        ]), 'std_train_score': array([0.00669995, 0.00070448, 0.        , 0.00669995, 0.00035901,\n",
      "       0.        , 0.00669995, 0.        , 0.        , 0.00360583,\n",
      "       0.        , 0.        , 0.00366256, 0.        , 0.        ,\n",
      "       0.00164444, 0.        , 0.        , 0.00072214, 0.        ,\n",
      "       0.        , 0.        , 0.        , 0.        ])}\n"
     ]
    }
   ],
   "source": [
    "logger.info(tuned_svcclsf_pol.cv_results_)\n",
    "tuned_svcclsf_pol_results = pd.DataFrame( tuned_svcclsf_pol.cv_results_ )"
   ],
   "metadata": {
    "collapsed": false,
    "pycharm": {
     "name": "#%%\n"
    }
   }
  },
  {
   "cell_type": "code",
   "execution_count": 28,
   "outputs": [
    {
     "data": {
      "text/plain": "                                               params  mean_test_score  \\\n0   {'C': 0.01, 'degree': 2, 'gamma': 'auto', 'ker...           0.3788   \n1   {'C': 0.01, 'degree': 2, 'gamma': 0.1, 'kernel...           0.9322   \n2   {'C': 0.01, 'degree': 2, 'gamma': 1, 'kernel':...           0.9464   \n3   {'C': 0.05, 'degree': 2, 'gamma': 'auto', 'ker...           0.3788   \n4   {'C': 0.05, 'degree': 2, 'gamma': 0.1, 'kernel...           0.9444   \n5   {'C': 0.05, 'degree': 2, 'gamma': 1, 'kernel':...           0.9464   \n6   {'C': 0.1, 'degree': 2, 'gamma': 'auto', 'kern...           0.3788   \n7   {'C': 0.1, 'degree': 2, 'gamma': 0.1, 'kernel'...           0.9464   \n8   {'C': 0.1, 'degree': 2, 'gamma': 1, 'kernel': ...           0.9464   \n9   {'C': 0.5, 'degree': 2, 'gamma': 'auto', 'kern...           0.5150   \n10  {'C': 0.5, 'degree': 2, 'gamma': 0.1, 'kernel'...           0.9464   \n11  {'C': 0.5, 'degree': 2, 'gamma': 1, 'kernel': ...           0.9464   \n12  {'C': 1, 'degree': 2, 'gamma': 'auto', 'kernel...           0.7108   \n13  {'C': 1, 'degree': 2, 'gamma': 0.1, 'kernel': ...           0.9464   \n14  {'C': 1, 'degree': 2, 'gamma': 1, 'kernel': 'p...           0.9464   \n15  {'C': 10, 'degree': 2, 'gamma': 'auto', 'kerne...           0.8988   \n16  {'C': 10, 'degree': 2, 'gamma': 0.1, 'kernel':...           0.9464   \n17  {'C': 10, 'degree': 2, 'gamma': 1, 'kernel': '...           0.9464   \n18  {'C': 100, 'degree': 2, 'gamma': 'auto', 'kern...           0.9404   \n19  {'C': 100, 'degree': 2, 'gamma': 0.1, 'kernel'...           0.9464   \n20  {'C': 100, 'degree': 2, 'gamma': 1, 'kernel': ...           0.9464   \n21  {'C': 1000, 'degree': 2, 'gamma': 'auto', 'ker...           0.9464   \n22  {'C': 1000, 'degree': 2, 'gamma': 0.1, 'kernel...           0.9464   \n23  {'C': 1000, 'degree': 2, 'gamma': 1, 'kernel':...           0.9464   \n\n    mean_train_score  \n0           0.385489  \n1           0.966778  \n2           1.000000  \n3           0.385489  \n4           0.997400  \n5           1.000000  \n6           0.385489  \n7           1.000000  \n8           1.000000  \n9           0.522244  \n10          1.000000  \n11          1.000000  \n12          0.719867  \n13          1.000000  \n14          1.000000  \n15          0.915956  \n16          1.000000  \n17          1.000000  \n18          0.982622  \n19          1.000000  \n20          1.000000  \n21          1.000000  \n22          1.000000  \n23          1.000000  ",
      "text/html": "<div>\n<style scoped>\n    .dataframe tbody tr th:only-of-type {\n        vertical-align: middle;\n    }\n\n    .dataframe tbody tr th {\n        vertical-align: top;\n    }\n\n    .dataframe thead th {\n        text-align: right;\n    }\n</style>\n<table border=\"1\" class=\"dataframe\">\n  <thead>\n    <tr style=\"text-align: right;\">\n      <th></th>\n      <th>params</th>\n      <th>mean_test_score</th>\n      <th>mean_train_score</th>\n    </tr>\n  </thead>\n  <tbody>\n    <tr>\n      <th>0</th>\n      <td>{'C': 0.01, 'degree': 2, 'gamma': 'auto', 'ker...</td>\n      <td>0.3788</td>\n      <td>0.385489</td>\n    </tr>\n    <tr>\n      <th>1</th>\n      <td>{'C': 0.01, 'degree': 2, 'gamma': 0.1, 'kernel...</td>\n      <td>0.9322</td>\n      <td>0.966778</td>\n    </tr>\n    <tr>\n      <th>2</th>\n      <td>{'C': 0.01, 'degree': 2, 'gamma': 1, 'kernel':...</td>\n      <td>0.9464</td>\n      <td>1.000000</td>\n    </tr>\n    <tr>\n      <th>3</th>\n      <td>{'C': 0.05, 'degree': 2, 'gamma': 'auto', 'ker...</td>\n      <td>0.3788</td>\n      <td>0.385489</td>\n    </tr>\n    <tr>\n      <th>4</th>\n      <td>{'C': 0.05, 'degree': 2, 'gamma': 0.1, 'kernel...</td>\n      <td>0.9444</td>\n      <td>0.997400</td>\n    </tr>\n    <tr>\n      <th>5</th>\n      <td>{'C': 0.05, 'degree': 2, 'gamma': 1, 'kernel':...</td>\n      <td>0.9464</td>\n      <td>1.000000</td>\n    </tr>\n    <tr>\n      <th>6</th>\n      <td>{'C': 0.1, 'degree': 2, 'gamma': 'auto', 'kern...</td>\n      <td>0.3788</td>\n      <td>0.385489</td>\n    </tr>\n    <tr>\n      <th>7</th>\n      <td>{'C': 0.1, 'degree': 2, 'gamma': 0.1, 'kernel'...</td>\n      <td>0.9464</td>\n      <td>1.000000</td>\n    </tr>\n    <tr>\n      <th>8</th>\n      <td>{'C': 0.1, 'degree': 2, 'gamma': 1, 'kernel': ...</td>\n      <td>0.9464</td>\n      <td>1.000000</td>\n    </tr>\n    <tr>\n      <th>9</th>\n      <td>{'C': 0.5, 'degree': 2, 'gamma': 'auto', 'kern...</td>\n      <td>0.5150</td>\n      <td>0.522244</td>\n    </tr>\n    <tr>\n      <th>10</th>\n      <td>{'C': 0.5, 'degree': 2, 'gamma': 0.1, 'kernel'...</td>\n      <td>0.9464</td>\n      <td>1.000000</td>\n    </tr>\n    <tr>\n      <th>11</th>\n      <td>{'C': 0.5, 'degree': 2, 'gamma': 1, 'kernel': ...</td>\n      <td>0.9464</td>\n      <td>1.000000</td>\n    </tr>\n    <tr>\n      <th>12</th>\n      <td>{'C': 1, 'degree': 2, 'gamma': 'auto', 'kernel...</td>\n      <td>0.7108</td>\n      <td>0.719867</td>\n    </tr>\n    <tr>\n      <th>13</th>\n      <td>{'C': 1, 'degree': 2, 'gamma': 0.1, 'kernel': ...</td>\n      <td>0.9464</td>\n      <td>1.000000</td>\n    </tr>\n    <tr>\n      <th>14</th>\n      <td>{'C': 1, 'degree': 2, 'gamma': 1, 'kernel': 'p...</td>\n      <td>0.9464</td>\n      <td>1.000000</td>\n    </tr>\n    <tr>\n      <th>15</th>\n      <td>{'C': 10, 'degree': 2, 'gamma': 'auto', 'kerne...</td>\n      <td>0.8988</td>\n      <td>0.915956</td>\n    </tr>\n    <tr>\n      <th>16</th>\n      <td>{'C': 10, 'degree': 2, 'gamma': 0.1, 'kernel':...</td>\n      <td>0.9464</td>\n      <td>1.000000</td>\n    </tr>\n    <tr>\n      <th>17</th>\n      <td>{'C': 10, 'degree': 2, 'gamma': 1, 'kernel': '...</td>\n      <td>0.9464</td>\n      <td>1.000000</td>\n    </tr>\n    <tr>\n      <th>18</th>\n      <td>{'C': 100, 'degree': 2, 'gamma': 'auto', 'kern...</td>\n      <td>0.9404</td>\n      <td>0.982622</td>\n    </tr>\n    <tr>\n      <th>19</th>\n      <td>{'C': 100, 'degree': 2, 'gamma': 0.1, 'kernel'...</td>\n      <td>0.9464</td>\n      <td>1.000000</td>\n    </tr>\n    <tr>\n      <th>20</th>\n      <td>{'C': 100, 'degree': 2, 'gamma': 1, 'kernel': ...</td>\n      <td>0.9464</td>\n      <td>1.000000</td>\n    </tr>\n    <tr>\n      <th>21</th>\n      <td>{'C': 1000, 'degree': 2, 'gamma': 'auto', 'ker...</td>\n      <td>0.9464</td>\n      <td>1.000000</td>\n    </tr>\n    <tr>\n      <th>22</th>\n      <td>{'C': 1000, 'degree': 2, 'gamma': 0.1, 'kernel...</td>\n      <td>0.9464</td>\n      <td>1.000000</td>\n    </tr>\n    <tr>\n      <th>23</th>\n      <td>{'C': 1000, 'degree': 2, 'gamma': 1, 'kernel':...</td>\n      <td>0.9464</td>\n      <td>1.000000</td>\n    </tr>\n  </tbody>\n</table>\n</div>"
     },
     "execution_count": 28,
     "metadata": {},
     "output_type": "execute_result"
    }
   ],
   "source": [
    "tuned_svcclsf_pol_results[[\"params\",\"mean_test_score\",\"mean_train_score\"]]"
   ],
   "metadata": {
    "collapsed": false,
    "pycharm": {
     "name": "#%%\n"
    }
   }
  },
  {
   "cell_type": "code",
   "execution_count": 29,
   "outputs": [
    {
     "data": {
      "text/plain": "<AxesSubplot:xlabel='param_C', ylabel='mean_test_score'>"
     },
     "execution_count": 29,
     "metadata": {},
     "output_type": "execute_result"
    },
    {
     "data": {
      "text/plain": "<Figure size 864x576 with 1 Axes>",
      "image/png": "[encoded data removed]"
     },
     "metadata": {},
     "output_type": "display_data"
    }
   ],
   "source": [
    "sns.set(rc={\"figure.figsize\":(12, 8)})\n",
    "sns.lineplot(data=tuned_svcclsf_pol_results, x=\"param_C\", y=\"mean_test_score\")"
   ],
   "metadata": {
    "collapsed": false,
    "pycharm": {
     "name": "#%%\n"
    }
   }
  },
  {
   "cell_type": "code",
   "execution_count": 30,
   "outputs": [
    {
     "name": "stderr",
     "output_type": "stream",
     "text": [
      "2022-12-27 05:07:25.320 | INFO     | __main__:<module>:4 - Best Score: 0.946\n",
      "2022-12-27 05:07:25.321 | INFO     | __main__:<module>:5 - Best Params: \n"
     ]
    },
    {
     "name": "stdout",
     "output_type": "stream",
     "text": [
      "SVC(C=0.01, degree=2, gamma=1, kernel='poly', random_state=28)\n",
      "0.9464\n"
     ]
    }
   ],
   "source": [
    "print(tuned_svcclsf_pol.best_estimator_)\n",
    "print(tuned_svcclsf_pol.best_score_)\n",
    "\n",
    "logger.info(\"Best Score: {:.3f}\".format(tuned_svcclsf_pol.best_score_))\n",
    "logger.info(\"Best Params: \", tuned_svcclsf_pol.best_params_)"
   ],
   "metadata": {
    "collapsed": false,
    "pycharm": {
     "name": "#%%\n"
    }
   }
  },
  {
   "cell_type": "code",
   "execution_count": 31,
   "outputs": [
    {
     "name": "stdout",
     "output_type": "stream",
     "text": [
      "Train accuracy Score on original dataset: 0.9568333333333333\n"
     ]
    }
   ],
   "source": [
    "test_acc = accuracy_score(y_true = data_split.y_train,\n",
    "                    y_pred = tuned_svcclsf_pol.predict(data_split.x_train))\n",
    "print(\"Train accuracy Score on original dataset: {}\".format(test_acc) )"
   ],
   "metadata": {
    "collapsed": false,
    "pycharm": {
     "name": "#%%\n"
    }
   }
  },
  {
   "cell_type": "code",
   "execution_count": 32,
   "outputs": [
    {
     "data": {
      "text/plain": "SVC(C=0.01, degree=2, gamma=1, kernel='poly')"
     },
     "execution_count": 32,
     "metadata": {},
     "output_type": "execute_result"
    }
   ],
   "source": [
    "# best parameters from automatic parameters tuning\n",
    "start_time = time.time()\n",
    "svc_pol_clsf = SVC(**tuned_svcclsf_pol.best_params_)\n",
    "svc_pol_clsf.fit(data_split.x_train, data_split.y_train)\n",
    "logger.info(\"Training: - %s seconds -\" % (time.time() - start_time))"
   ],
   "metadata": {
    "collapsed": false,
    "pycharm": {
     "name": "#%%\n"
    }
   }
  },
  {
   "cell_type": "markdown",
   "source": [
    "# Performance"
   ],
   "metadata": {
    "collapsed": false,
    "pycharm": {
     "name": "#%% md\n"
    }
   }
  },
  {
   "cell_type": "code",
   "execution_count": null,
   "outputs": [],
   "source": [
    "svc_pol_train_pred = svc_pol_clsf.predict(data_split.x_train)\n",
    "svc_pol_train_eval = eva.Evaluation(y_true=data_split.y_train, y_pred=svc_pol_train_pred)"
   ],
   "metadata": {
    "collapsed": false,
    "pycharm": {
     "name": "#%%\n",
     "is_executing": true
    }
   }
  },
  {
   "cell_type": "code",
   "execution_count": null,
   "outputs": [],
   "source": [
    "start_time = time.time()\n",
    "svc_pol_test_pred = svc_pol_clsf.predict(data_split.x_test)\n",
    "logger.info(\"Prediction: - %s seconds -\" % (time.time() - start_time))\n",
    "svc_pol_test_eval = eva.Evaluation(y_true=data_split.y_test, y_pred=svc_pol_test_pred)"
   ],
   "metadata": {
    "collapsed": false,
    "pycharm": {
     "name": "#%%\n"
    }
   }
  },
  {
   "cell_type": "code",
   "execution_count": 34,
   "outputs": [
    {
     "name": "stdout",
     "output_type": "stream",
     "text": [
      "Training:\n",
      "-----Model Evaluations:-----\n",
      "Accuracy score: 1.0\n",
      "Testing:\n",
      "-----Model Evaluations:-----\n",
      "Accuracy score: 0.9801\n"
     ]
    }
   ],
   "source": [
    "print(\"Training:\")\n",
    "svc_pol_train_eval.acc_eval()\n",
    "print(\"Testing:\")\n",
    "svc_pol_test_eval.acc_eval()"
   ],
   "metadata": {
    "collapsed": false,
    "pycharm": {
     "name": "#%%\n"
    }
   }
  },
  {
   "cell_type": "code",
   "execution_count": 35,
   "outputs": [],
   "source": [
    "# save the model and evaluations\n",
    "svc_pol_model = eva.EvaluatedModel(svc_pol_clsf, \"svcpolynomial\", train_eval=svc_pol_train_eval, test_eval=svc_pol_test_eval)\n",
    "svc_pol_model.save_evaluation()"
   ],
   "metadata": {
    "collapsed": false,
    "pycharm": {
     "name": "#%%\n"
    }
   }
  },
  {
   "cell_type": "code",
   "execution_count": 43,
   "outputs": [],
   "source": [
    "# load the previously saved model and evaluations\n",
    "# svc_pol_model = eva.EvaluatedModel.load_evaluation(\"svcpolynomial\")"
   ],
   "metadata": {
    "collapsed": false,
    "pycharm": {
     "name": "#%%\n"
    }
   }
  },
  {
   "cell_type": "markdown",
   "source": [
    "### Confusion Matrix"
   ],
   "metadata": {
    "collapsed": false,
    "pycharm": {
     "name": "#%% md\n"
    }
   }
  },
  {
   "cell_type": "code",
   "execution_count": 36,
   "outputs": [
    {
     "data": {
      "text/plain": "<Figure size 864x576 with 2 Axes>",
      "image/png": "[encoded data removed]"
     },
     "metadata": {},
     "output_type": "display_data"
    }
   ],
   "source": [
    "svc_pol_model.train_eval.conf_mat()"
   ],
   "metadata": {
    "collapsed": false,
    "pycharm": {
     "name": "#%%\n"
    }
   }
  },
  {
   "cell_type": "code",
   "execution_count": 37,
   "outputs": [
    {
     "data": {
      "text/plain": "<Figure size 864x576 with 2 Axes>",
      "image/png": "[encoded data removed]"
     },
     "metadata": {},
     "output_type": "display_data"
    }
   ],
   "source": [
    "svc_pol_model.test_eval.conf_mat()"
   ],
   "metadata": {
    "collapsed": false,
    "pycharm": {
     "name": "#%%\n"
    }
   }
  },
  {
   "cell_type": "markdown",
   "source": [],
   "metadata": {
    "collapsed": false,
    "pycharm": {
     "name": "#%% md\n"
    }
   }
  },
  {
   "cell_type": "markdown",
   "source": [
    "## SVM using RBF kernel"
   ],
   "metadata": {
    "collapsed": false,
    "pycharm": {
     "name": "#%% md\n"
    }
   }
  },
  {
   "cell_type": "code",
   "execution_count": 38,
   "outputs": [
    {
     "name": "stdout",
     "output_type": "stream",
     "text": [
      "Fitting 10 folds for each of 24 candidates, totalling 240 fits\n"
     ]
    },
    {
     "name": "stderr",
     "output_type": "stream",
     "text": [
      "2022-12-27 05:48:57.081 | INFO     | src.utilities.model_selection:model_selector:26 - --- 2142.5679848194122 seconds ---\n"
     ]
    }
   ],
   "source": [
    "# automatic parameters tuning\n",
    "svcclsf_rbf=SVC(random_state=28)\n",
    "properties_rbf={\n",
    "    \"C\": [0.01,0.05,0.1,0.5,1,10,100,1000], # soft to hard margin\n",
    "    \"kernel\": [\"rbf\"],\n",
    "    \"gamma\": [\"auto\",0.1,1]\n",
    "}\n",
    "\n",
    "tuned_svcclsf_rbf = ms.model_selector(estimator=svcclsf_rbf,properties=properties_rbf,scoring=\"accuracy\",cv=10,verbose=5,jobs=4,\n",
    "                                       x_train=x_data_small,y_train=y_data_small)"
   ],
   "metadata": {
    "collapsed": false,
    "pycharm": {
     "name": "#%%\n"
    }
   }
  },
  {
   "cell_type": "code",
   "execution_count": 39,
   "outputs": [],
   "source": [
    "# save results\n",
    "ms.save_model(model=tuned_svcclsf_rbf, model_name=\"svc_rbf_tuning_results\")"
   ],
   "metadata": {
    "collapsed": false,
    "pycharm": {
     "name": "#%%\n"
    }
   }
  },
  {
   "cell_type": "code",
   "execution_count": 54,
   "outputs": [],
   "source": [
    "# to load previously saved results\n",
    "tuned_svcclsf_rbf = ms.load_model(\"svc_rbf_tuning_results\")"
   ],
   "metadata": {
    "collapsed": false,
    "pycharm": {
     "name": "#%%\n"
    }
   }
  },
  {
   "cell_type": "code",
   "execution_count": 40,
   "outputs": [
    {
     "name": "stderr",
     "output_type": "stream",
     "text": [
      "2022-12-27 05:48:57.133 | INFO     | __main__:<module>:1 - {'mean_fit_time': array([20.16200025, 20.03066852, 20.16665211, 18.62467692, 19.76099782,\n",
      "       19.77160082, 14.82324867, 18.75734594, 19.17091317,  6.8501605 ,\n",
      "       17.47565   , 17.95972152,  5.0894841 , 19.19895315, 19.14317982,\n",
      "        2.7698257 , 18.96183784, 18.6968359 ,  2.49168344, 19.49969909,\n",
      "       19.43229873,  2.42780144, 18.7420733 , 18.59187193]), 'std_fit_time': array([0.15833687, 0.04028002, 0.15639389, 0.21891767, 0.13198126,\n",
      "       0.12496039, 0.24754738, 0.09396987, 0.11598723, 0.40850699,\n",
      "       0.2446515 , 0.08340013, 0.10667044, 0.17285506, 0.35611427,\n",
      "       0.25958866, 0.11704655, 0.15151484, 0.24945044, 0.1079899 ,\n",
      "       0.08955697, 0.19383526, 0.05510619, 0.23742892]), 'mean_score_time': array([2.29845355, 2.2431082 , 2.24798765, 2.23228834, 2.20889311,\n",
      "       2.28576815, 2.12747488, 2.15380425, 2.20454292, 1.60808558,\n",
      "       2.12440948, 2.20194371, 1.36386316, 2.05828714, 2.37646403,\n",
      "       0.84269295, 2.08135631, 2.2922399 , 0.78292418, 2.00520318,\n",
      "       2.20773575, 0.76081104, 1.99167655, 2.2846936 ]), 'std_score_time': array([0.05571372, 0.02750756, 0.01896896, 0.04148272, 0.02343621,\n",
      "       0.05764964, 0.07058722, 0.09140295, 0.08860758, 0.03490462,\n",
      "       0.17592771, 0.0863762 , 0.10052618, 0.10182298, 0.23845931,\n",
      "       0.04187794, 0.12319936, 0.16895091, 0.05404713, 0.06793522,\n",
      "       0.09087646, 0.03441629, 0.07530135, 0.09786609]), 'param_C': masked_array(data=[0.01, 0.01, 0.01, 0.05, 0.05, 0.05, 0.1, 0.1, 0.1, 0.5,\n",
      "                   0.5, 0.5, 1, 1, 1, 10, 10, 10, 100, 100, 100, 1000,\n",
      "                   1000, 1000],\n",
      "             mask=[False, False, False, False, False, False, False, False,\n",
      "                   False, False, False, False, False, False, False, False,\n",
      "                   False, False, False, False, False, False, False, False],\n",
      "       fill_value='?',\n",
      "            dtype=object), 'param_gamma': masked_array(data=['auto', 0.1, 1, 'auto', 0.1, 1, 'auto', 0.1, 1, 'auto',\n",
      "                   0.1, 1, 'auto', 0.1, 1, 'auto', 0.1, 1, 'auto', 0.1, 1,\n",
      "                   'auto', 0.1, 1],\n",
      "             mask=[False, False, False, False, False, False, False, False,\n",
      "                   False, False, False, False, False, False, False, False,\n",
      "                   False, False, False, False, False, False, False, False],\n",
      "       fill_value='?',\n",
      "            dtype=object), 'param_kernel': masked_array(data=['rbf', 'rbf', 'rbf', 'rbf', 'rbf', 'rbf', 'rbf', 'rbf',\n",
      "                   'rbf', 'rbf', 'rbf', 'rbf', 'rbf', 'rbf', 'rbf', 'rbf',\n",
      "                   'rbf', 'rbf', 'rbf', 'rbf', 'rbf', 'rbf', 'rbf', 'rbf'],\n",
      "             mask=[False, False, False, False, False, False, False, False,\n",
      "                   False, False, False, False, False, False, False, False,\n",
      "                   False, False, False, False, False, False, False, False],\n",
      "       fill_value='?',\n",
      "            dtype=object), 'params': [{'C': 0.01, 'gamma': 'auto', 'kernel': 'rbf'}, {'C': 0.01, 'gamma': 0.1, 'kernel': 'rbf'}, {'C': 0.01, 'gamma': 1, 'kernel': 'rbf'}, {'C': 0.05, 'gamma': 'auto', 'kernel': 'rbf'}, {'C': 0.05, 'gamma': 0.1, 'kernel': 'rbf'}, {'C': 0.05, 'gamma': 1, 'kernel': 'rbf'}, {'C': 0.1, 'gamma': 'auto', 'kernel': 'rbf'}, {'C': 0.1, 'gamma': 0.1, 'kernel': 'rbf'}, {'C': 0.1, 'gamma': 1, 'kernel': 'rbf'}, {'C': 0.5, 'gamma': 'auto', 'kernel': 'rbf'}, {'C': 0.5, 'gamma': 0.1, 'kernel': 'rbf'}, {'C': 0.5, 'gamma': 1, 'kernel': 'rbf'}, {'C': 1, 'gamma': 'auto', 'kernel': 'rbf'}, {'C': 1, 'gamma': 0.1, 'kernel': 'rbf'}, {'C': 1, 'gamma': 1, 'kernel': 'rbf'}, {'C': 10, 'gamma': 'auto', 'kernel': 'rbf'}, {'C': 10, 'gamma': 0.1, 'kernel': 'rbf'}, {'C': 10, 'gamma': 1, 'kernel': 'rbf'}, {'C': 100, 'gamma': 'auto', 'kernel': 'rbf'}, {'C': 100, 'gamma': 0.1, 'kernel': 'rbf'}, {'C': 100, 'gamma': 1, 'kernel': 'rbf'}, {'C': 1000, 'gamma': 'auto', 'kernel': 'rbf'}, {'C': 1000, 'gamma': 0.1, 'kernel': 'rbf'}, {'C': 1000, 'gamma': 1, 'kernel': 'rbf'}], 'split0_test_score': array([0.732, 0.39 , 0.108, 0.764, 0.404, 0.108, 0.814, 0.416, 0.108,\n",
      "       0.884, 0.61 , 0.108, 0.894, 0.83 , 0.15 , 0.916, 0.832, 0.164,\n",
      "       0.918, 0.832, 0.164, 0.918, 0.832, 0.164]), 'split1_test_score': array([0.73 , 0.41 , 0.112, 0.774, 0.422, 0.112, 0.822, 0.428, 0.112,\n",
      "       0.88 , 0.646, 0.112, 0.892, 0.832, 0.174, 0.932, 0.852, 0.182,\n",
      "       0.936, 0.852, 0.182, 0.934, 0.852, 0.182]), 'split2_test_score': array([0.718, 0.396, 0.106, 0.784, 0.412, 0.106, 0.814, 0.418, 0.106,\n",
      "       0.884, 0.632, 0.106, 0.892, 0.844, 0.148, 0.926, 0.852, 0.154,\n",
      "       0.912, 0.852, 0.154, 0.914, 0.852, 0.154]), 'split3_test_score': array([0.7  , 0.38 , 0.112, 0.74 , 0.382, 0.112, 0.798, 0.398, 0.112,\n",
      "       0.87 , 0.64 , 0.112, 0.892, 0.828, 0.18 , 0.91 , 0.838, 0.184,\n",
      "       0.912, 0.838, 0.184, 0.914, 0.838, 0.184]), 'split4_test_score': array([0.726, 0.368, 0.108, 0.8  , 0.384, 0.108, 0.834, 0.4  , 0.108,\n",
      "       0.896, 0.646, 0.108, 0.908, 0.876, 0.166, 0.94 , 0.886, 0.176,\n",
      "       0.94 , 0.886, 0.176, 0.94 , 0.886, 0.176]), 'split5_test_score': array([0.716, 0.376, 0.106, 0.758, 0.388, 0.106, 0.798, 0.4  , 0.106,\n",
      "       0.882, 0.612, 0.106, 0.9  , 0.822, 0.158, 0.928, 0.83 , 0.17 ,\n",
      "       0.93 , 0.83 , 0.17 , 0.928, 0.83 , 0.17 ]), 'split6_test_score': array([0.708, 0.398, 0.112, 0.748, 0.41 , 0.112, 0.828, 0.42 , 0.112,\n",
      "       0.892, 0.628, 0.112, 0.908, 0.836, 0.196, 0.932, 0.846, 0.204,\n",
      "       0.928, 0.846, 0.204, 0.928, 0.846, 0.204]), 'split7_test_score': array([0.738, 0.444, 0.112, 0.788, 0.45 , 0.112, 0.842, 0.46 , 0.112,\n",
      "       0.902, 0.686, 0.112, 0.914, 0.862, 0.188, 0.928, 0.862, 0.202,\n",
      "       0.934, 0.862, 0.202, 0.934, 0.862, 0.202]), 'split8_test_score': array([0.708, 0.41 , 0.106, 0.778, 0.42 , 0.106, 0.81 , 0.434, 0.106,\n",
      "       0.892, 0.666, 0.106, 0.918, 0.862, 0.176, 0.936, 0.876, 0.184,\n",
      "       0.942, 0.876, 0.184, 0.948, 0.876, 0.184]), 'split9_test_score': array([0.726, 0.376, 0.114, 0.778, 0.378, 0.114, 0.814, 0.388, 0.114,\n",
      "       0.882, 0.622, 0.114, 0.896, 0.826, 0.178, 0.912, 0.834, 0.188,\n",
      "       0.928, 0.834, 0.188, 0.928, 0.834, 0.188]), 'mean_test_score': array([0.7202, 0.3948, 0.1096, 0.7712, 0.405 , 0.1096, 0.8174, 0.4162,\n",
      "       0.1096, 0.8864, 0.6388, 0.1096, 0.9014, 0.8418, 0.1714, 0.926 ,\n",
      "       0.8508, 0.1808, 0.928 , 0.8508, 0.1808, 0.9286, 0.8508, 0.1808]), 'std_test_score': array([0.01160862, 0.0213579 , 0.00293939, 0.0176454 , 0.02145227,\n",
      "       0.00293939, 0.01362498, 0.0201087 , 0.00293939, 0.00870862,\n",
      "       0.02250689, 0.00293939, 0.00934024, 0.01758295, 0.01496797,\n",
      "       0.00963328, 0.01804882, 0.01483779, 0.01027619, 0.01804882,\n",
      "       0.01483779, 0.01050904, 0.01804882, 0.01483779]), 'rank_test_score': array([12, 16, 21, 11, 15, 21, 10, 14, 21,  5, 13, 21,  4,  9, 20,  3,  6,\n",
      "       17,  2,  6, 17,  1,  6, 17], dtype=int32), 'split0_train_score': array([0.72977778, 0.75844444, 1.        , 0.78      , 0.76755556,\n",
      "       1.        , 0.82333333, 0.77888889, 1.        , 0.89822222,\n",
      "       0.99755556, 1.        , 0.91755556, 1.        , 1.        ,\n",
      "       0.96444444, 1.        , 1.        , 0.99977778, 1.        ,\n",
      "       1.        , 1.        , 1.        , 1.        ]), 'split1_train_score': array([0.72755556, 0.75933333, 1.        , 0.77866667, 0.76777778,\n",
      "       1.        , 0.82377778, 0.78022222, 1.        , 0.90022222,\n",
      "       0.998     , 1.        , 0.91888889, 1.        , 1.        ,\n",
      "       0.96266667, 1.        , 1.        , 0.99977778, 1.        ,\n",
      "       1.        , 1.        , 1.        , 1.        ]), 'split2_train_score': array([0.72888889, 0.752     , 1.        , 0.77755556, 0.76088889,\n",
      "       1.        , 0.82333333, 0.77244444, 1.        , 0.898     ,\n",
      "       0.99755556, 1.        , 0.91755556, 1.        , 1.        ,\n",
      "       0.96466667, 1.        , 1.        , 0.99977778, 1.        ,\n",
      "       1.        , 1.        , 1.        , 1.        ]), 'split3_train_score': array([0.73155556, 0.75488889, 1.        , 0.782     , 0.76311111,\n",
      "       1.        , 0.82355556, 0.774     , 1.        , 0.89955556,\n",
      "       0.99777778, 1.        , 0.91688889, 1.        , 1.        ,\n",
      "       0.96533333, 1.        , 1.        , 0.99977778, 1.        ,\n",
      "       1.        , 1.        , 1.        , 1.        ]), 'split4_train_score': array([0.726     , 0.746     , 1.        , 0.77688889, 0.75777778,\n",
      "       1.        , 0.82266667, 0.76911111, 1.        , 0.89622222,\n",
      "       0.99755556, 1.        , 0.91488889, 1.        , 1.        ,\n",
      "       0.96311111, 1.        , 1.        , 1.        , 1.        ,\n",
      "       1.        , 1.        , 1.        , 1.        ]), 'split5_train_score': array([0.72844444, 0.76044444, 1.        , 0.77711111, 0.76777778,\n",
      "       1.        , 0.824     , 0.77955556, 1.        , 0.89511111,\n",
      "       0.99755556, 1.        , 0.91666667, 1.        , 1.        ,\n",
      "       0.96377778, 1.        , 1.        , 1.        , 1.        ,\n",
      "       1.        , 1.        , 1.        , 1.        ]), 'split6_train_score': array([0.72866667, 0.76733333, 1.        , 0.78022222, 0.77333333,\n",
      "       1.        , 0.82333333, 0.78533333, 1.        , 0.89711111,\n",
      "       0.99733333, 1.        , 0.91488889, 1.        , 1.        ,\n",
      "       0.96355556, 1.        , 1.        , 1.        , 1.        ,\n",
      "       1.        , 1.        , 1.        , 1.        ]), 'split7_train_score': array([0.72777778, 0.756     , 1.        , 0.77866667, 0.76577778,\n",
      "       1.        , 0.82355556, 0.77822222, 1.        , 0.89822222,\n",
      "       0.99755556, 1.        , 0.91844444, 1.        , 1.        ,\n",
      "       0.96444444, 1.        , 1.        , 0.99933333, 1.        ,\n",
      "       1.        , 1.        , 1.        , 1.        ]), 'split8_train_score': array([0.72711111, 0.75288889, 1.        , 0.77866667, 0.76355556,\n",
      "       1.        , 0.82088889, 0.77533333, 1.        , 0.89511111,\n",
      "       0.99755556, 1.        , 0.91466667, 1.        , 1.        ,\n",
      "       0.96488889, 1.        , 1.        , 1.        , 1.        ,\n",
      "       1.        , 1.        , 1.        , 1.        ]), 'split9_train_score': array([0.726     , 0.75377778, 1.        , 0.77644444, 0.76422222,\n",
      "       1.        , 0.82355556, 0.77577778, 1.        , 0.89711111,\n",
      "       0.99733333, 1.        , 0.91622222, 1.        , 1.        ,\n",
      "       0.96377778, 1.        , 1.        , 0.99977778, 1.        ,\n",
      "       1.        , 1.        , 1.        , 1.        ]), 'mean_train_score': array([0.72817778, 0.75611111, 1.        , 0.77862222, 0.76517778,\n",
      "       1.        , 0.8232    , 0.77688889, 1.        , 0.89748889,\n",
      "       0.99757778, 1.        , 0.91666667, 1.        , 1.        ,\n",
      "       0.96406667, 1.        , 1.        , 0.99982222, 1.        ,\n",
      "       1.        , 1.        , 1.        , 1.        ]), 'std_train_score': array([0.00161107, 0.00544988, 0.        , 0.00164444, 0.00408677,\n",
      "       0.        , 0.00083858, 0.00433077, 0.        , 0.001621  ,\n",
      "       0.00018459, 0.        , 0.00142292, 0.        , 0.        ,\n",
      "       0.00078912, 0.        , 0.        , 0.00019373, 0.        ,\n",
      "       0.        , 0.        , 0.        , 0.        ])}\n"
     ]
    }
   ],
   "source": [
    "logger.info(tuned_svcclsf_rbf.cv_results_)\n",
    "tuned_svcclsf_rbf_results = pd.DataFrame( tuned_svcclsf_rbf.cv_results_ )"
   ],
   "metadata": {
    "collapsed": false,
    "pycharm": {
     "name": "#%%\n"
    }
   }
  },
  {
   "cell_type": "code",
   "execution_count": 55,
   "outputs": [
    {
     "data": {
      "text/plain": "                                           params  mean_test_score  \\\n0   {'C': 0.01, 'gamma': 'auto', 'kernel': 'rbf'}           0.7202   \n1      {'C': 0.01, 'gamma': 0.1, 'kernel': 'rbf'}           0.3948   \n2        {'C': 0.01, 'gamma': 1, 'kernel': 'rbf'}           0.1096   \n3   {'C': 0.05, 'gamma': 'auto', 'kernel': 'rbf'}           0.7712   \n4      {'C': 0.05, 'gamma': 0.1, 'kernel': 'rbf'}           0.4050   \n5        {'C': 0.05, 'gamma': 1, 'kernel': 'rbf'}           0.1096   \n6    {'C': 0.1, 'gamma': 'auto', 'kernel': 'rbf'}           0.8174   \n7       {'C': 0.1, 'gamma': 0.1, 'kernel': 'rbf'}           0.4162   \n8         {'C': 0.1, 'gamma': 1, 'kernel': 'rbf'}           0.1096   \n9    {'C': 0.5, 'gamma': 'auto', 'kernel': 'rbf'}           0.8864   \n10      {'C': 0.5, 'gamma': 0.1, 'kernel': 'rbf'}           0.6388   \n11        {'C': 0.5, 'gamma': 1, 'kernel': 'rbf'}           0.1096   \n12     {'C': 1, 'gamma': 'auto', 'kernel': 'rbf'}           0.9014   \n13        {'C': 1, 'gamma': 0.1, 'kernel': 'rbf'}           0.8418   \n14          {'C': 1, 'gamma': 1, 'kernel': 'rbf'}           0.1714   \n15    {'C': 10, 'gamma': 'auto', 'kernel': 'rbf'}           0.9260   \n16       {'C': 10, 'gamma': 0.1, 'kernel': 'rbf'}           0.8508   \n17         {'C': 10, 'gamma': 1, 'kernel': 'rbf'}           0.1808   \n18   {'C': 100, 'gamma': 'auto', 'kernel': 'rbf'}           0.9280   \n19      {'C': 100, 'gamma': 0.1, 'kernel': 'rbf'}           0.8508   \n20        {'C': 100, 'gamma': 1, 'kernel': 'rbf'}           0.1808   \n21  {'C': 1000, 'gamma': 'auto', 'kernel': 'rbf'}           0.9286   \n22     {'C': 1000, 'gamma': 0.1, 'kernel': 'rbf'}           0.8508   \n23       {'C': 1000, 'gamma': 1, 'kernel': 'rbf'}           0.1808   \n\n    mean_train_score  \n0           0.728178  \n1           0.756111  \n2           1.000000  \n3           0.778622  \n4           0.765178  \n5           1.000000  \n6           0.823200  \n7           0.776889  \n8           1.000000  \n9           0.897489  \n10          0.997578  \n11          1.000000  \n12          0.916667  \n13          1.000000  \n14          1.000000  \n15          0.964067  \n16          1.000000  \n17          1.000000  \n18          0.999822  \n19          1.000000  \n20          1.000000  \n21          1.000000  \n22          1.000000  \n23          1.000000  ",
      "text/html": "<div>\n<style scoped>\n    .dataframe tbody tr th:only-of-type {\n        vertical-align: middle;\n    }\n\n    .dataframe tbody tr th {\n        vertical-align: top;\n    }\n\n    .dataframe thead th {\n        text-align: right;\n    }\n</style>\n<table border=\"1\" class=\"dataframe\">\n  <thead>\n    <tr style=\"text-align: right;\">\n      <th></th>\n      <th>params</th>\n      <th>mean_test_score</th>\n      <th>mean_train_score</th>\n    </tr>\n  </thead>\n  <tbody>\n    <tr>\n      <th>0</th>\n      <td>{'C': 0.01, 'gamma': 'auto', 'kernel': 'rbf'}</td>\n      <td>0.7202</td>\n      <td>0.728178</td>\n    </tr>\n    <tr>\n      <th>1</th>\n      <td>{'C': 0.01, 'gamma': 0.1, 'kernel': 'rbf'}</td>\n      <td>0.3948</td>\n      <td>0.756111</td>\n    </tr>\n    <tr>\n      <th>2</th>\n      <td>{'C': 0.01, 'gamma': 1, 'kernel': 'rbf'}</td>\n      <td>0.1096</td>\n      <td>1.000000</td>\n    </tr>\n    <tr>\n      <th>3</th>\n      <td>{'C': 0.05, 'gamma': 'auto', 'kernel': 'rbf'}</td>\n      <td>0.7712</td>\n      <td>0.778622</td>\n    </tr>\n    <tr>\n      <th>4</th>\n      <td>{'C': 0.05, 'gamma': 0.1, 'kernel': 'rbf'}</td>\n      <td>0.4050</td>\n      <td>0.765178</td>\n    </tr>\n    <tr>\n      <th>5</th>\n      <td>{'C': 0.05, 'gamma': 1, 'kernel': 'rbf'}</td>\n      <td>0.1096</td>\n      <td>1.000000</td>\n    </tr>\n    <tr>\n      <th>6</th>\n      <td>{'C': 0.1, 'gamma': 'auto', 'kernel': 'rbf'}</td>\n      <td>0.8174</td>\n      <td>0.823200</td>\n    </tr>\n    <tr>\n      <th>7</th>\n      <td>{'C': 0.1, 'gamma': 0.1, 'kernel': 'rbf'}</td>\n      <td>0.4162</td>\n      <td>0.776889</td>\n    </tr>\n    <tr>\n      <th>8</th>\n      <td>{'C': 0.1, 'gamma': 1, 'kernel': 'rbf'}</td>\n      <td>0.1096</td>\n      <td>1.000000</td>\n    </tr>\n    <tr>\n      <th>9</th>\n      <td>{'C': 0.5, 'gamma': 'auto', 'kernel': 'rbf'}</td>\n      <td>0.8864</td>\n      <td>0.897489</td>\n    </tr>\n    <tr>\n      <th>10</th>\n      <td>{'C': 0.5, 'gamma': 0.1, 'kernel': 'rbf'}</td>\n      <td>0.6388</td>\n      <td>0.997578</td>\n    </tr>\n    <tr>\n      <th>11</th>\n      <td>{'C': 0.5, 'gamma': 1, 'kernel': 'rbf'}</td>\n      <td>0.1096</td>\n      <td>1.000000</td>\n    </tr>\n    <tr>\n      <th>12</th>\n      <td>{'C': 1, 'gamma': 'auto', 'kernel': 'rbf'}</td>\n      <td>0.9014</td>\n      <td>0.916667</td>\n    </tr>\n    <tr>\n      <th>13</th>\n      <td>{'C': 1, 'gamma': 0.1, 'kernel': 'rbf'}</td>\n      <td>0.8418</td>\n      <td>1.000000</td>\n    </tr>\n    <tr>\n      <th>14</th>\n      <td>{'C': 1, 'gamma': 1, 'kernel': 'rbf'}</td>\n      <td>0.1714</td>\n      <td>1.000000</td>\n    </tr>\n    <tr>\n      <th>15</th>\n      <td>{'C': 10, 'gamma': 'auto', 'kernel': 'rbf'}</td>\n      <td>0.9260</td>\n      <td>0.964067</td>\n    </tr>\n    <tr>\n      <th>16</th>\n      <td>{'C': 10, 'gamma': 0.1, 'kernel': 'rbf'}</td>\n      <td>0.8508</td>\n      <td>1.000000</td>\n    </tr>\n    <tr>\n      <th>17</th>\n      <td>{'C': 10, 'gamma': 1, 'kernel': 'rbf'}</td>\n      <td>0.1808</td>\n      <td>1.000000</td>\n    </tr>\n    <tr>\n      <th>18</th>\n      <td>{'C': 100, 'gamma': 'auto', 'kernel': 'rbf'}</td>\n      <td>0.9280</td>\n      <td>0.999822</td>\n    </tr>\n    <tr>\n      <th>19</th>\n      <td>{'C': 100, 'gamma': 0.1, 'kernel': 'rbf'}</td>\n      <td>0.8508</td>\n      <td>1.000000</td>\n    </tr>\n    <tr>\n      <th>20</th>\n      <td>{'C': 100, 'gamma': 1, 'kernel': 'rbf'}</td>\n      <td>0.1808</td>\n      <td>1.000000</td>\n    </tr>\n    <tr>\n      <th>21</th>\n      <td>{'C': 1000, 'gamma': 'auto', 'kernel': 'rbf'}</td>\n      <td>0.9286</td>\n      <td>1.000000</td>\n    </tr>\n    <tr>\n      <th>22</th>\n      <td>{'C': 1000, 'gamma': 0.1, 'kernel': 'rbf'}</td>\n      <td>0.8508</td>\n      <td>1.000000</td>\n    </tr>\n    <tr>\n      <th>23</th>\n      <td>{'C': 1000, 'gamma': 1, 'kernel': 'rbf'}</td>\n      <td>0.1808</td>\n      <td>1.000000</td>\n    </tr>\n  </tbody>\n</table>\n</div>"
     },
     "execution_count": 55,
     "metadata": {},
     "output_type": "execute_result"
    }
   ],
   "source": [
    "tuned_svcclsf_rbf_results[[\"params\",\"mean_test_score\",\"mean_train_score\"]]"
   ],
   "metadata": {
    "collapsed": false,
    "pycharm": {
     "name": "#%%\n"
    }
   }
  },
  {
   "cell_type": "code",
   "execution_count": 42,
   "outputs": [
    {
     "data": {
      "text/plain": "<AxesSubplot:xlabel='param_C', ylabel='mean_test_score'>"
     },
     "execution_count": 42,
     "metadata": {},
     "output_type": "execute_result"
    },
    {
     "data": {
      "text/plain": "<Figure size 864x576 with 1 Axes>",
      "image/png": "[encoded data removed]"
     },
     "metadata": {},
     "output_type": "display_data"
    }
   ],
   "source": [
    "sns.set(rc={\"figure.figsize\":(12, 8)})\n",
    "sns.lineplot(data=tuned_svcclsf_rbf_results, x=\"param_C\", y=\"mean_test_score\")"
   ],
   "metadata": {
    "collapsed": false,
    "pycharm": {
     "name": "#%%\n"
    }
   }
  },
  {
   "cell_type": "code",
   "execution_count": 56,
   "outputs": [
    {
     "name": "stderr",
     "output_type": "stream",
     "text": [
      "2022-12-27 13:59:45.694 | INFO     | __main__:<module>:4 - Best Score: 0.929\n",
      "2022-12-27 13:59:45.696 | INFO     | __main__:<module>:5 - Best Params: \n"
     ]
    },
    {
     "name": "stdout",
     "output_type": "stream",
     "text": [
      "SVC(C=1000, gamma='auto', random_state=28)\n",
      "0.9286000000000001\n"
     ]
    }
   ],
   "source": [
    "print(tuned_svcclsf_rbf.best_estimator_)\n",
    "print(tuned_svcclsf_rbf.best_score_)\n",
    "\n",
    "logger.info(\"Best Score: {:.3f}\".format(tuned_svcclsf_rbf.best_score_))\n",
    "logger.info(\"Best Params: \", tuned_svcclsf_rbf.best_params_)"
   ],
   "metadata": {
    "collapsed": false,
    "pycharm": {
     "name": "#%%\n"
    }
   }
  },
  {
   "cell_type": "code",
   "execution_count": 44,
   "outputs": [
    {
     "name": "stdout",
     "output_type": "stream",
     "text": [
      "Train accuracy Score on original dataset: 0.9377166666666666\n"
     ]
    }
   ],
   "source": [
    "test_acc = accuracy_score(y_true = data_split.y_train,\n",
    "                    y_pred = tuned_svcclsf_rbf.predict(data_split.x_train))\n",
    "print(\"Train accuracy Score on original dataset: {}\".format(test_acc) )"
   ],
   "metadata": {
    "collapsed": false,
    "pycharm": {
     "name": "#%%\n"
    }
   }
  },
  {
   "cell_type": "code",
   "execution_count": 45,
   "outputs": [
    {
     "data": {
      "text/plain": "SVC(C=1000, gamma='auto')"
     },
     "execution_count": 45,
     "metadata": {},
     "output_type": "execute_result"
    }
   ],
   "source": [
    "# best parameters from automatic parameters tuning\n",
    "start_time = time.time()\n",
    "svc_rbf_clsf = SVC(**tuned_svcclsf_rbf.best_params_)\n",
    "svc_rbf_clsf.fit(data_split.x_train, data_split.y_train)\n",
    "logger.info(\"Training: - %s seconds -\" % (time.time() - start_time))"
   ],
   "metadata": {
    "collapsed": false,
    "pycharm": {
     "name": "#%%\n"
    }
   }
  },
  {
   "cell_type": "markdown",
   "source": [
    "# Performance"
   ],
   "metadata": {
    "collapsed": false,
    "pycharm": {
     "name": "#%% md\n"
    }
   }
  },
  {
   "cell_type": "code",
   "execution_count": null,
   "outputs": [],
   "source": [
    "svc_rbf_train_pred = svc_rbf_clsf.predict(data_split.x_train)\n",
    "svc_rbf_train_eval = eva.Evaluation(y_true=data_split.y_train, y_pred=svc_rbf_train_pred)"
   ],
   "metadata": {
    "collapsed": false,
    "pycharm": {
     "name": "#%%\n",
     "is_executing": true
    }
   }
  },
  {
   "cell_type": "code",
   "execution_count": null,
   "outputs": [],
   "source": [
    "start_time = time.time()\n",
    "svc_rbf_test_pred = svc_rbf_clsf.predict(data_split.x_test)\n",
    "logger.info(\"Prediction: - %s seconds -\" % (time.time() - start_time))\n",
    "svc_rbf_test_eval = eva.Evaluation(y_true=data_split.y_test, y_pred=svc_rbf_test_pred)"
   ],
   "metadata": {
    "collapsed": false,
    "pycharm": {
     "name": "#%%\n"
    }
   }
  },
  {
   "cell_type": "code",
   "execution_count": 47,
   "outputs": [
    {
     "name": "stdout",
     "output_type": "stream",
     "text": [
      "Training:\n",
      "-----Model Evaluations:-----\n",
      "Accuracy score: 0.9999666666666667\n",
      "Testing:\n",
      "-----Model Evaluations:-----\n",
      "Accuracy score: 0.9726\n"
     ]
    }
   ],
   "source": [
    "print(\"Training:\")\n",
    "svc_rbf_train_eval.acc_eval()\n",
    "print(\"Testing:\")\n",
    "svc_rbf_test_eval.acc_eval()"
   ],
   "metadata": {
    "collapsed": false,
    "pycharm": {
     "name": "#%%\n"
    }
   }
  },
  {
   "cell_type": "code",
   "execution_count": 48,
   "outputs": [],
   "source": [
    "# save the model and evaluations\n",
    "svc_rbf_model = eva.EvaluatedModel(svc_rbf_clsf, \"svcrbf\", train_eval=svc_rbf_train_eval, test_eval=svc_rbf_test_eval)\n",
    "svc_rbf_model.save_evaluation()"
   ],
   "metadata": {
    "collapsed": false,
    "pycharm": {
     "name": "#%%\n"
    }
   }
  },
  {
   "cell_type": "code",
   "execution_count": null,
   "outputs": [],
   "source": [
    "# load the previously saved model and evaluations\n",
    "# svc_rbf_model = eva.EvaluatedModel.load_evaluation(\"svcrbf\")"
   ],
   "metadata": {
    "collapsed": false,
    "pycharm": {
     "name": "#%%\n"
    }
   }
  },
  {
   "cell_type": "markdown",
   "source": [
    "### Confusion Matrix"
   ],
   "metadata": {
    "collapsed": false,
    "pycharm": {
     "name": "#%% md\n"
    }
   }
  },
  {
   "cell_type": "code",
   "execution_count": 49,
   "outputs": [
    {
     "data": {
      "text/plain": "<Figure size 864x576 with 2 Axes>",
      "image/png": "[encoded data removed]"
     },
     "metadata": {},
     "output_type": "display_data"
    }
   ],
   "source": [
    "svc_rbf_model.train_eval.conf_mat()"
   ],
   "metadata": {
    "collapsed": false,
    "pycharm": {
     "name": "#%%\n"
    }
   }
  },
  {
   "cell_type": "code",
   "execution_count": 50,
   "outputs": [
    {
     "data": {
      "text/plain": "<Figure size 864x576 with 2 Axes>",
      "image/png": "[encoded data removed]"
     },
     "metadata": {},
     "output_type": "display_data"
    }
   ],
   "source": [
    "svc_rbf_model.test_eval.conf_mat()"
   ],
   "metadata": {
    "collapsed": false,
    "pycharm": {
     "name": "#%%\n"
    }
   }
  },
  {
   "cell_type": "markdown",
   "source": [],
   "metadata": {
    "collapsed": false,
    "pycharm": {
     "name": "#%% md\n"
    }
   }
  }
 ],
 "metadata": {
  "kernelspec": {
   "display_name": "Python 3",
   "language": "python",
   "name": "python3"
  },
  "language_info": {
   "codemirror_mode": {
    "name": "ipython",
    "version": 2
   },
   "file_extension": ".py",
   "mimetype": "text/x-python",
   "name": "python",
   "nbconvert_exporter": "python",
   "pygments_lexer": "ipython2",
   "version": "2.7.6"
  }
 },
 "nbformat": 4,
 "nbformat_minor": 0
}